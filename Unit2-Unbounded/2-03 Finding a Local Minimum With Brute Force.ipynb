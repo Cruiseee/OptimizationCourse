{
 "cells": [
  {
   "cell_type": "markdown",
   "metadata": {
    "run_control": {
     "read_only": false
    }
   },
   "source": [
    "#Finding a Local Minimum With Brute Force"
   ]
  },
  {
   "cell_type": "code",
   "execution_count": null,
   "metadata": {
    "collapsed": false,
    "run_control": {
     "read_only": false
    }
   },
   "outputs": [],
   "source": [
    "using Revealables\n",
    "include(\"files/extras.jl\")\n",
    "include(\"files/answers.jl\")"
   ]
  },
  {
   "cell_type": "markdown",
   "metadata": {},
   "source": [
    "##What Brute Force Means\n",
    "__Brute force__ is an actual term which implies a very simple procedure repeated a potentially very large number of times. Computers are good at this sort of thing.\n",
    "\n",
    "However, it tends to be true that a small amount of added intelligence greatly reduces the number of iterations. \n",
    "Therefore, \"brute force\" is generally not a compliment.\n",
    "\n",
    "The current most-often-heard use of \"brute force\" is in password hacking, where you just try every possible combination until one of them works. This takes a long time."
   ]
  },
  {
   "cell_type": "code",
   "execution_count": null,
   "metadata": {
    "collapsed": false,
    "run_control": {
     "read_only": false
    }
   },
   "outputs": [],
   "source": [
    "revealable(passwords)"
   ]
  },
  {
   "cell_type": "markdown",
   "metadata": {},
   "source": [
    "##Finding a Minimum With Brute Force\n",
    "Our first program for finding a minimum will use brute force at its finest.\n",
    "\n",
    "If you know an interval in which the minimum occurs,\n",
    "\n",
    "<img src=\"files/2-3/bruteforceint.png\" width=250 />\n",
    "\n",
    "then you can just start at the left endpoint and walk to the right with tiny steps until you find the smallest $y$-value.\n",
    "\n",
    "The reason the interval is important is that I really mean \"tiny steps,\" like $h = 0.0001$ or something&mdash;whatever tolerance the user cares to specify. Students will remember how greatly a small $h$-value affected the number of iterations of the three-point interval loop. Applying a really small $h$ on an entire function would get crazy. With an interval, it's more manageable.\n",
    "\n",
    "Fortunately, you wrote a program to find an interval in the last lesson. You can use that program to find endpoints for an interval as you test your code for this lesson."
   ]
  },
  {
   "cell_type": "markdown",
   "metadata": {},
   "source": [
    "###Practice Problem\n",
    "Write a program that will use a preloaded function, a step value `h` specified by the user, and provided endpoints (probably found using your 3-point interval function from last lesson). This program will plug in successive points on the interval and report back the smallest $y$-value.\n",
    "\n",
    "If you finish quickly, add an iteration counter. It really brings home the definition of \"brute force.\"\n",
    "\n",
    "Don't forget to test your code!\n"
   ]
  },
  {
   "cell_type": "code",
   "execution_count": null,
   "metadata": {
    "collapsed": false,
    "run_control": {
     "read_only": false
    }
   },
   "outputs": [],
   "source": [
    "# Code your functions here\n"
   ]
  },
  {
   "cell_type": "code",
   "execution_count": null,
   "metadata": {
    "collapsed": false,
    "run_control": {
     "read_only": false
    }
   },
   "outputs": [],
   "source": [
    "# Test your function here\n"
   ]
  },
  {
   "cell_type": "code",
   "execution_count": null,
   "metadata": {
    "collapsed": false,
    "run_control": {
     "read_only": false
    }
   },
   "outputs": [],
   "source": [
    "revealable(ans203A)"
   ]
  },
  {
   "cell_type": "code",
   "execution_count": null,
   "metadata": {
    "collapsed": true,
    "run_control": {
     "read_only": false
    }
   },
   "outputs": [],
   "source": []
  }
 ],
 "metadata": {
  "kernelspec": {
   "display_name": "Julia 0.3.10",
   "language": "julia",
   "name": "julia-0.3"
  },
  "language_info": {
   "file_extension": ".jl",
   "mimetype": "application/julia",
   "name": "julia",
   "version": "0.3.10"
  }
 },
 "nbformat": 4,
 "nbformat_minor": 0
}
