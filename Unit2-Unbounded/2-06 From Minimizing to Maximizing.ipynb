{
 "cells": [
  {
   "cell_type": "markdown",
   "metadata": {
    "run_control": {
     "read_only": false
    }
   },
   "source": [
    "# 2-6 From Minimizing to Maximizing\n",
    "* Modifying your current programs\n",
    "* A nifty shortcut"
   ]
  },
  {
   "cell_type": "code",
   "execution_count": null,
   "metadata": {
    "collapsed": false,
    "run_control": {
     "read_only": false
    }
   },
   "outputs": [],
   "source": [
    "using Gadfly\n",
    "using Revealables\n",
    "include(\"files/extras.jl\")\n",
    "include(\"files/answers.jl\")"
   ]
  },
  {
   "cell_type": "markdown",
   "metadata": {},
   "source": [
    "##Shifting the Focus\n",
    "Your current saved programs from this unit are:\n",
    "* 3-point interval\n",
    "* Golden section minimum\n",
    "* Slope method minimum\n",
    "\n",
    "All of these programs find a minimum – but what if you want to __maximize__?"
   ]
  },
  {
   "cell_type": "markdown",
   "metadata": {},
   "source": [
    "##Shifting the Focus: 3-point minimum\n",
    "This program:\n",
    "\n",
    "1. takes a starting point `h` and a function `f`, then tests `x + h` and `x – h` to determine the direction of decrease.  \n",
    "2. In that direction, it continues to mark off intervals until the $y$-values starts to increase.\n",
    "3. The last three points form the three-point interval; the outer two are the endpoints. \n",
    "What needs to change?\n"
   ]
  },
  {
   "cell_type": "code",
   "execution_count": null,
   "metadata": {
    "collapsed": false,
    "input_collapsed": false,
    "run_control": {
     "read_only": false
    }
   },
   "outputs": [],
   "source": [
    "revealable(hint206A)"
   ]
  },
  {
   "cell_type": "markdown",
   "metadata": {},
   "source": [
    "###Task A\n",
    "Change your three-point minimum program to a three-point maximum program. \n",
    "\n",
    "Document both so you know which is which and save them separately.\n",
    "\n",
    "Test your code!"
   ]
  },
  {
   "cell_type": "code",
   "execution_count": null,
   "metadata": {
    "collapsed": true,
    "run_control": {
     "read_only": false
    }
   },
   "outputs": [],
   "source": [
    "# Code here"
   ]
  },
  {
   "cell_type": "code",
   "execution_count": null,
   "metadata": {
    "collapsed": true,
    "run_control": {
     "read_only": false
    }
   },
   "outputs": [],
   "source": [
    "# Test here"
   ]
  },
  {
   "cell_type": "code",
   "execution_count": null,
   "metadata": {
    "collapsed": false,
    "input_collapsed": false,
    "run_control": {
     "read_only": false
    }
   },
   "outputs": [],
   "source": [
    "revealable(ans206A)"
   ]
  },
  {
   "cell_type": "markdown",
   "metadata": {},
   "source": [
    "##Shifting the Focus: Golden Section Minimum\n",
    "This program:\n",
    "\n",
    "1. Takes an interval [a, b] surrounding a minimum.  \n",
    "2. Places two interior points using the golden section\n",
    "3. Tests all four points to find which three-point interval has endpoints higher than interior point.\n",
    "4. Repeats on the new interval.\n",
    "\n",
    "What needs to change?"
   ]
  },
  {
   "cell_type": "code",
   "execution_count": null,
   "metadata": {
    "collapsed": false,
    "input_collapsed": false,
    "run_control": {
     "read_only": false
    }
   },
   "outputs": [],
   "source": [
    "revealable(hint206B)"
   ]
  },
  {
   "cell_type": "markdown",
   "metadata": {},
   "source": [
    "###Task B\n",
    "Change your Golden Section minimum program to a Golden Section maximum program.\n",
    "\n",
    "Document both so you know which is which and save them separately.\n",
    "\n",
    "Test your code!"
   ]
  },
  {
   "cell_type": "code",
   "execution_count": null,
   "metadata": {
    "collapsed": true,
    "run_control": {
     "read_only": false
    }
   },
   "outputs": [],
   "source": [
    "# Code here"
   ]
  },
  {
   "cell_type": "code",
   "execution_count": null,
   "metadata": {
    "collapsed": true,
    "run_control": {
     "read_only": false
    }
   },
   "outputs": [],
   "source": [
    "# Test here"
   ]
  },
  {
   "cell_type": "code",
   "execution_count": null,
   "metadata": {
    "collapsed": false,
    "input_collapsed": false,
    "run_control": {
     "read_only": false
    }
   },
   "outputs": [],
   "source": [
    "revealable(ans206B)"
   ]
  },
  {
   "cell_type": "markdown",
   "metadata": {},
   "source": [
    "##Shifting the Focus: Slope Method Minimum\n",
    "This program:\n",
    "\n",
    "1. Takes an interval [a, b] surrounding a minimum.  \n",
    "2. Finds the slope between them.\n",
    "3. If slope is positive, shifts right endpoint in; if slope is negative, shifts left endpoint in; if slope is 0, shifts towards center.\n",
    "4. Repeats on the new interval.\n",
    "\n",
    "What needs to change?\n"
   ]
  },
  {
   "cell_type": "code",
   "execution_count": null,
   "metadata": {
    "collapsed": true,
    "input_collapsed": true,
    "run_control": {
     "read_only": false
    }
   },
   "outputs": [],
   "source": [
    "revealable(hint206C)"
   ]
  },
  {
   "cell_type": "markdown",
   "metadata": {},
   "source": [
    "###Task C\n",
    "Change your Slope Method minimum program to a Slope Method maximum program.\n",
    "\n",
    "Document both so you know which is which and save them separately.\n",
    "\n",
    "Test your code!"
   ]
  },
  {
   "cell_type": "code",
   "execution_count": null,
   "metadata": {
    "collapsed": true,
    "run_control": {
     "read_only": false
    }
   },
   "outputs": [],
   "source": [
    "# Code here"
   ]
  },
  {
   "cell_type": "code",
   "execution_count": null,
   "metadata": {
    "collapsed": true,
    "run_control": {
     "read_only": false
    }
   },
   "outputs": [],
   "source": [
    "# Test here"
   ]
  },
  {
   "cell_type": "code",
   "execution_count": null,
   "metadata": {
    "collapsed": false,
    "input_collapsed": false,
    "run_control": {
     "read_only": false
    }
   },
   "outputs": [],
   "source": [
    "revealable(ans206C)"
   ]
  },
  {
   "cell_type": "markdown",
   "metadata": {},
   "source": [
    "##A Nifty Shortcut\n",
    "While it's very useful to have separate programs for max and min, it's not necessary because there is a shortcut. \n",
    "\n"
   ]
  },
  {
   "cell_type": "code",
   "execution_count": null,
   "metadata": {
    "collapsed": false,
    "run_control": {
     "read_only": false
    }
   },
   "outputs": [],
   "source": [
    "f1(x) = abs(x)-3\n",
    "plot(f1, -4, 4)"
   ]
  },
  {
   "cell_type": "code",
   "execution_count": null,
   "metadata": {
    "collapsed": false,
    "run_control": {
     "read_only": false
    }
   },
   "outputs": [],
   "source": [
    "f2(x) = -f1(x)\n",
    "plot(f2, -4, 4)"
   ]
  },
  {
   "cell_type": "markdown",
   "metadata": {},
   "source": [
    "Because the graphs of $f(x)$ and $–f(x)$ are always vertical reflections of each other, the $x$-value of the optimum point is the same for both.\n",
    "\n",
    "Therefore: \n",
    "\n",
    "The location of $min(f(x))$ is the same as the location of $max(-f(x))$."
   ]
  },
  {
   "cell_type": "code",
   "execution_count": null,
   "metadata": {
    "collapsed": false,
    "run_control": {
     "read_only": false
    }
   },
   "outputs": [],
   "source": [
    "plot([f1, f2], -4, 4)"
   ]
  },
  {
   "cell_type": "markdown",
   "metadata": {},
   "source": [
    "So instead of modifying a program to find a maximum, you could just use an existing minimization program and enter $-f(x)$ instead of $f(x)$.\n",
    "\n",
    "This trick is useful if you're not planning on maximizing often enough to make it worth changing the program."
   ]
  },
  {
   "cell_type": "markdown",
   "metadata": {},
   "source": [
    "###Task D\n",
    "Consider the function $f(x) = 2x^4 – 7x^3 + 2x^2 + 6x$.\n",
    "\n",
    "It has two local minima (around 0 and 2) and one local maximum (around 1).\n",
    "\n",
    "1. Find an interval around the local maximum using your 3-point maximum interval program, then find the actual maximum using both of your maximization programs. \n",
    "2. Find an interval around the local maximum using your 3-point minimum interval program, then find the actual maximum using both of your minimization programs. \n",
    "3. Verify that all four of your answers agree.\n",
    "\n",
    "Repeat 1-3 for one of the local minima."
   ]
  },
  {
   "cell_type": "code",
   "execution_count": null,
   "metadata": {
    "collapsed": true,
    "run_control": {
     "read_only": false
    }
   },
   "outputs": [],
   "source": [
    "# Code here"
   ]
  },
  {
   "cell_type": "code",
   "execution_count": null,
   "metadata": {
    "collapsed": true,
    "run_control": {
     "read_only": false
    }
   },
   "outputs": [],
   "source": [
    "# Test here"
   ]
  },
  {
   "cell_type": "code",
   "execution_count": null,
   "metadata": {
    "collapsed": false,
    "input_collapsed": false,
    "run_control": {
     "read_only": false
    }
   },
   "outputs": [],
   "source": [
    "revealable(ans206D)"
   ]
  },
  {
   "cell_type": "code",
   "execution_count": null,
   "metadata": {
    "collapsed": true,
    "run_control": {
     "read_only": false
    }
   },
   "outputs": [],
   "source": []
  }
 ],
 "metadata": {
  "kernelspec": {
   "display_name": "Julia 0.3.10",
   "language": "julia",
   "name": "julia-0.3"
  },
  "language_info": {
   "file_extension": ".jl",
   "mimetype": "application/julia",
   "name": "julia",
   "version": "0.3.10"
  }
 },
 "nbformat": 4,
 "nbformat_minor": 0
}
