{
 "cells": [
  {
   "cell_type": "markdown",
   "metadata": {
    "run_control": {
     "read_only": false
    }
   },
   "source": [
    "#Finding a Local Minimum With Brute Force"
   ]
  },
  {
   "cell_type": "code",
   "execution_count": 7,
   "metadata": {
    "collapsed": false
   },
   "outputs": [
    {
     "data": {
      "text/markdown": [
       "\n"
      ],
      "text/plain": [
       "Revealable(\"###Sample Program:\\n\\n    f(x) = x^2 - 4x  # function can be modified to whatever\\n\\n    function secant(f, a, b)\\n        while abs(b - a) > 0.00001  # more accurate is fine. Note absolute value is important for distance!\\n                                    # Also could use f(b) < 0.00001.\\n            m = (f(a) - f(b))/(a - b)  # made a variable for slope to simplify next line\\n            x = -f(a)/m + a  # calculating the x-intercept\\n            a = b  # redefining a and b to include the old b and the x-intercept x\\n            b = x \\n        end  # loop ends when tolerance is reached\\n        println(b)  # print the value of b (the last x-intercept found).\\n    end\\n\",\"Answer\",false)"
      ]
     },
     "execution_count": 7,
     "metadata": {},
     "output_type": "execute_result"
    }
   ],
   "source": [
    "using Revealables\n",
    "include(\"files/answers.jl\")"
   ]
  },
  {
   "cell_type": "markdown",
   "metadata": {},
   "source": [
    "##What Brute Force Means\n",
    "__Brute force__ is an actual term which implies a very simple procedure repeated a potentially very large number of times. Computers are good at this sort of thing.\n",
    "\n",
    "However, it tends to be true that a small amount of added intelligence greatly reduces the number of iterations. \n",
    "Therefore, \"brute force\" is generally not a compliment.\n",
    "\n",
    "The current most-often-heard use of \"brute force\" is in password hacking, where you just try every possible combination until one of them works. This takes a long time."
   ]
  },
  {
   "cell_type": "code",
   "execution_count": 6,
   "metadata": {
    "collapsed": false
   },
   "outputs": [
    {
     "data": {
      "text/html": [],
      "text/plain": [
       "ToggleButton([Input{Bool}] false,\"More on Passwords and Brute Force\",false)"
      ]
     },
     "metadata": {},
     "output_type": "display_data"
    },
    {
     "data": {
      "text/markdown": [
       "\n"
      ],
      "text/plain": [
       "Revealable(\"Intelligence that can be (and is) applied to this procedure includes:\\n* testing the most common passwords, like *Password123*\\n* testing dictionary words instead of random strings of numbers\\n* testing numbers related to dates, like year numbers or month-day combinations\\n* testing user information (usually publicly available on Facebook) like their pet's or spouse's name, their birthday or anniversary. \\n\\nIf you want to get into a moral lesson here, the obvious conclusion is you want to make your password immune to this sort of intelligence by avoiding common passwords, actual words, actual dates, or personal information.)\\n\",\"More on Passwords and Brute Force\",false)"
      ]
     },
     "execution_count": 6,
     "metadata": {
      "comm_id": "197f552b-a352-400a-a883-d45247b935fe",
      "reactive": true
     },
     "output_type": "execute_result"
    }
   ],
   "source": [
    "revealable(passwords)"
   ]
  },
  {
   "cell_type": "markdown",
   "metadata": {},
   "source": [
    "##Finding a Minimum With Brute Force\n",
    "Our first program for finding a minimum will use brute force at its finest.\n",
    "\n",
    "If you know an interval in which the minimum occurs,\n",
    "\n",
    "<img src=\"files/2-3/bruteforceint.png\" width=250 />\n",
    "\n",
    "then you can just start at the left endpoint and walk to the right with tiny steps until you find the smallest $y$-value.\n",
    "\n",
    "The reason the interval is important is that I really mean \"tiny steps,\" like $h = 0.0001$ or something&mdash;whatever tolerance the user cares to specify. Students will remember how greatly a small $h$-value affected the number of iterations of the three-point interval loop. Applying a really small $h$ on an entire function would get crazy. With an interval, it's more manageable.\n",
    "\n",
    "Fortunately, you wrote a program to find an interval in the last lesson. You can use that program to find endpoints for an interval as you test your code for this lesson."
   ]
  },
  {
   "cell_type": "markdown",
   "metadata": {},
   "source": [
    "###Practice Problem\n",
    "Write a program that will use a preloaded function, a step value `h` specified by the user, and provided endpoints (probably found using your 3-point interval function from last lesson). This program will plug in successive points on the interval and report back the smallest $y$-value.\n",
    "\n",
    "If you finish quickly, add an iteration counter. It really brings home the definition of \"brute force.\"\n",
    "\n",
    "Don't forget to test your code!\n"
   ]
  },
  {
   "cell_type": "code",
   "execution_count": 9,
   "metadata": {
    "collapsed": false
   },
   "outputs": [
    {
     "data": {
      "text/plain": [
       "brute (generic function with 1 method)"
      ]
     },
     "execution_count": 9,
     "metadata": {},
     "output_type": "execute_result"
    }
   ],
   "source": [
    "# Code your functions here\n"
   ]
  },
  {
   "cell_type": "code",
   "execution_count": 11,
   "metadata": {
    "collapsed": false
   },
   "outputs": [
    {
     "name": "stdout",
     "output_type": "stream",
     "text": [
      "minimum at x = 1.9999999999997815 with y-value = -4.0\n"
     ]
    }
   ],
   "source": [
    "# Test your function here\n"
   ]
  },
  {
   "cell_type": "code",
   "execution_count": 8,
   "metadata": {
    "collapsed": false
   },
   "outputs": [
    {
     "data": {
      "text/html": [],
      "text/plain": [
       "ToggleButton([Input{Bool}] false,\"Answer\",false)"
      ]
     },
     "metadata": {},
     "output_type": "display_data"
    },
    {
     "data": {
      "text/markdown": [
       "\n"
      ],
      "text/plain": [
       "Revealable(\"###Sample Answer\\n\\n\\nBecause this program is awful, you won't use it again. The purpose is to:\\n1. show you how to do a brute-force-type program in case you ever need to\\n2. solidify the idea of a minimum value and some of the programming concepts behind finding it; and \\n3. show you how improvement-y the improvements are in the next few lessons.\\n\\n<code>\\nf(x) = x^2 - 4x  # could be anything\\n\\nfunction brute(f, int, a, b)  # f = predefined function, interval (very small, like .001), a = left endpoint, b = right endpoint\\n    low = f(a)  # defining variables; starting with the left endpoint a\\n    test = a \\n    loc = a\\n    while test < b  # will test all numbers between a and b\\n            if f(test) < low  # this check runs if the test point is lower than the previous low value\\n                low = f(test)  # and replaces the old low with the new low\\n                loc = test  # then records its location for later\\n            else  # if the test point is higher, nothing happens\\n            end\\n        test = test + int  # moves on to the next test point\\n    end\\n    println(\\\"minimum at x = \\$loc with y-value = \\$low\\\")  # after getting to b, prints the record low and its location\\nend\\n</code>\\n\\n\",\"Answer\",false)"
      ]
     },
     "execution_count": 8,
     "metadata": {
      "comm_id": "b50ded16-e449-4ac9-aae3-b5c3cf93c43a",
      "reactive": true
     },
     "output_type": "execute_result"
    }
   ],
   "source": [
    "revealable(ans203A)"
   ]
  },
  {
   "cell_type": "code",
   "execution_count": null,
   "metadata": {
    "collapsed": true
   },
   "outputs": [],
   "source": []
  }
 ],
 "metadata": {
  "kernelspec": {
   "display_name": "Julia 0.3.10",
   "language": "julia",
   "name": "julia-0.3"
  },
  "language_info": {
   "file_extension": ".jl",
   "mimetype": "application/julia",
   "name": "julia",
   "version": "0.3.10"
  }
 },
 "nbformat": 4,
 "nbformat_minor": 0
}
