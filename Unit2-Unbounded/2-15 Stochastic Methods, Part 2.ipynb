{
 "cells": [
  {
   "cell_type": "markdown",
   "metadata": {
    "run_control": {
     "read_only": false
    }
   },
   "source": [
    "# 2-15 Stochastic Methods, Part 2\n",
    "* Simulated Annealing\n",
    "* Genetic Algorithms"
   ]
  },
  {
   "cell_type": "code",
   "execution_count": 2,
   "metadata": {
    "run_control": {
     "read_only": false
    }
   },
   "outputs": [
    {
     "data": {
      "text/markdown": [
       "\n"
      ],
      "text/plain": [
       "Revealables.Revealable(\"My third generation was a huge improvement; my fourth, not so much. \\nHere are the fitness ranks of my generations, if you're curious:<br clear=\\\"all\\\">\\nI: 19, 9, 8, -5<br clear=\\\"all\\\">\\nII: 13, 10, 3, 1<br clear=\\\"all\\\">\\nIII: 20, 15, 14, 10<br clear=\\\"all\\\">\\nIV: 28, 12, 11, -5<br clear=\\\"all\\\">\\n\\nThen I got hooked...<br clear=\\\"all\\\">\\nV: 21, 16, 12, 4<br clear=\\\"all\\\">\\nVI: 23, 21, 16, 6<br clear=\\\"all\\\">\\nVII: 21, 21, 21, 6<br clear=\\\"all\\\">\\n\\n\\nOne thing I noticed while getting hooked is that I wrote a program that made an array out of `rand(12)` and returned the location of anything less than 1/12, which saved some time. If you're curious, continue your own iterations with computer support. Depending on your programming experience, writing an entire program might take more time than doing it by hand.\\n\\nVIII: 24, 23, 21, 19.<br clear=\\\"all\\\">\\nI stopped here because it was lunchtime. The optimum solution is 1111 / 1111 / 0000 = 30. It's clear that successive generations are approaching the optimum, and also getting more uniform (though mutation keeps it interesting). Cool stuff.\\n\", \"Answer\", false, false)"
      ]
     },
     "execution_count": 2,
     "metadata": {},
     "output_type": "execute_result"
    }
   ],
   "source": [
    "using Revealables\n",
    "include(\"files/extras.jl\")\n",
    "include(\"files/answers.jl\")"
   ]
  },
  {
   "cell_type": "markdown",
   "metadata": {},
   "source": [
    "##Simulated Annealing\n",
    "__Simulated Annealing__ is used for functions with many local extremes. Its goal is to return the global extreme as often as possible and, if not, then another almost-as-good extreme.\n",
    "\n",
    "*Annealing* is a term used in metallurgy to describe a specific procedure in the refining of metals where the metal is heated and then slowly cooled.\n",
    "\n",
    "This is the type of graph for which simulated annealing might be appropriate:\n",
    "<img src=\"files/2-15/aplstock.png\" width=400 alt=\"Apple's stock between summer 2012 and summer 2014\" />\n",
    "\n",
    "This graph has a ton of local minima and maxima. Testing points would very likely not produce a local maximum or minimum because the intervals would have to be very narrow to catch the true maximum. Sawtooth would work just as well for this particular graph, but there is no feasible version of Sawtooth for multi-variable situations. Simulated annealing can be used for any number of variables.\n",
    "\n",
    "Simulated annealing begins with an initial point and tests neighboring points.\n",
    "\n",
    "Unlike traditional optimization in which the neighboring point is immediately rejected if it is \"worse\" than the original, simulated annealing will accept some \"worse\" points in the beginning in an attempt to eventually find a global extreme.\n",
    "\n",
    "Here is an example of simulated annealing in action (from Wikipedia contributer Kingpin13):\n",
    "\n",
    "<img src=\"files/2-15/Hill_Climbing_with_Simulated_Annealing.gif\" />\n",
    "\n",
    "In the beginning the test line (red) is everywhere; towards the middle it's dancing mostly between the high points of the graph; nearer the end it has found the two highest points; at the very end it settles on the global maximum.\n",
    "\n",
    "The \"temperature\" measure indicates the willingness of the program to accept \"worse\" answers: high at first, lower later.\n",
    "\n",
    "It's called “temperature” because the term annealing is borrowed from metallurgy where it describes a process of refinement by heating and then slowly cooling materials.\n",
    "\n",
    "In metallurgy, the slower the rate of cooling the better the refining process works, so ideally you would want the temperature to remain high for a while as it goes through a nice, slow decrease. The same thing happens here: the temperature should remain high in the beginning so the function gets to test a lot of points (being very willing to accept \"worse\" solutions); then as time goes by it will gradually become less willing to do so, eventually settling in on the optimum (or close to it). \n",
    "\n",
    "If the algorithm for simulated annealing is run for long enough, it will always find the global extreme. However, it can sometimes be prohibitive to run that many calculations.\n",
    "\n",
    "One of the advantages of simulated annealing is that even if you stop it a little early, its current solution will either be the optimum or really close to it.\n",
    "\n",
    "###Pseudocode for Simulated Annealing\n",
    "Here is a section of *pseudocode* (again from Wikipedia) showing the simulated annealing procedure for minimization:\n",
    "\n",
    "```\n",
    "s ← s0; e ← E(s)                        // Initial state energy.\n",
    "sbest ← s; ebest ← e                    // Initial \"best\" solution\n",
    "k ← 0                                    // Energy evaluation count.\n",
    "while k < kmax and e > emax              // While time left & not good enough:\n",
    "    T ← temperature(k/kmax)              // Temperature calculation.\n",
    "    snew ← neighbour(s)                  // Pick some neighbour.\n",
    "    enew ← E(snew)                       // Compute its energy.\n",
    "    if P(e enew T) > random() then        // Should we move to it?\n",
    "        s ← snew; e ← enew              // Yes change state.\n",
    "    if enew < ebest then                  // Is this a new best?\n",
    "        sbest ← snew; ebest ← enew       // Save 'new neighbour' to 'best found'.\n",
    "    k ← k + 1                            // One more evaluation done\n",
    "return sbest                              // Return the best solution found.\n",
    "```\n",
    "This pseudocode (literally \"fake code\") is meant to be easily readable by people.\n",
    "\n",
    "Notice:\n",
    "* the random number generator in there. That's what makes this a stochastic process. \n",
    "* the heavy documentation which makes sense of everything even though it's written in pseudocode and not in our language.\n",
    "* the iteration counter which allows us to limit the number of iterations at will.\n",
    "* the temperature counter. As `k` increases `k/kmax` changes then `T` will change (lower according to the procedure) as calculated by the unspecified function `temperature(x)`. This `T` then gets plugged into `P` later. \n",
    "* `P` is also an unspecified function, but according to the procedure, `P` will control the shifting so that as temperature increases the probability of accepting a lower value will decrease. This `P` value will still be checked against a random number, so a lower `P` does not necessarily guarantee a lack of motion, just a lower probability of it.\n",
    "* `e`, the \"energy,\" is the objective function the goal being to minimize the energy of the state; again borrowed from metallurgy. The `e > emax` in the while loop allows an upper bound to acceptable returns such that even if the iterations run out if your energy is still higher than is acceptable the loop will continue to run.\n",
    "\n"
   ]
  },
  {
   "cell_type": "markdown",
   "metadata": {},
   "source": [
    "###Practice Problem A\n",
    "Translate as much as possible of the pseudocode below into Julia."
   ]
  },
  {
   "cell_type": "code",
   "execution_count": null,
   "metadata": {
    "collapsed": true,
    "run_control": {
     "read_only": false
    }
   },
   "outputs": [],
   "source": [
    "# s ← s0; e ← E(s)                        // Initial state energy.\n",
    "# sbest ← s; ebest ← e                    // Initial \"best\" solution\n",
    "# k ← 0                                    // Energy evaluation count.\n",
    "# while k < kmax and e > emax              // While time left & not good enough:\n",
    "#     T ← temperature(k/kmax)              // Temperature calculation.\n",
    "#     snew ← neighbour(s)                  // Pick some neighbour.\n",
    "#     enew ← E(snew)                       // Compute its energy.\n",
    "#     if P(e enew T) > random() then        // Should we move to it?\n",
    "#         s ← snew; e ← enew              // Yes change state.\n",
    "#     if enew < ebest then                  // Is this a new best?\n",
    "#         sbest ← snew; ebest ← enew       // Save 'new neighbour' to 'best found'.\n",
    "#     k ← k + 1                            // One more evaluation done\n",
    "# return sbest                              // Return the best solution found."
   ]
  },
  {
   "cell_type": "code",
   "execution_count": 3,
   "metadata": {
    "run_control": {
     "read_only": false
    }
   },
   "outputs": [
    {
     "data": {
      "text/html": [],
      "text/plain": [
       "Interact.ToggleButton(1: \"input\" = false Bool , \"Answer\", false)"
      ]
     },
     "metadata": {},
     "output_type": "display_data"
    },
    {
     "data": {
      "text/markdown": [
       "\n"
      ],
      "text/plain": [
       "Revealables.Revealable(\"###Answer A\\nAll of the arrows will be equals signs.\\n\\nYou may not have seen this yet, but `and` translates to `&&` (line 4)\\n\\n`while` loop stays the same (but needs an `end` command).\\n\\n`if` loops stay the same (but need an `end`); `then` is unnecessary.\\n\\n`return` (last line) may become `println` or it could stay `return`.\\n\\nWhole thing can be enclosed in a `function`/`end` command.\\n\", \"Answer\", false, false)"
      ]
     },
     "execution_count": 3,
     "metadata": {
      "comm_id": "cab1a667-9ddd-419a-984f-27dec72c3445",
      "reactive": true
     },
     "output_type": "execute_result"
    },
    {
     "name": "stderr",
     "output_type": "stream",
     "text": [
      "WARNING: Compat.ASCIIString is deprecated, use String instead.\n",
      "  likely near C:\\Users\\Victoria Docherty\\.julia\\v0.6\\IJulia\\src\\kernel.jl:31\n",
      "WARNING: Compat.ASCIIString is deprecated, use String instead.\n",
      "  likely near C:\\Users\\Victoria Docherty\\.julia\\v0.6\\IJulia\\src\\kernel.jl:31\n",
      "WARNING: Compat.ASCIIString is deprecated, use String instead.\n",
      "  likely near C:\\Users\\Victoria Docherty\\.julia\\v0.6\\IJulia\\src\\kernel.jl:31\n"
     ]
    }
   ],
   "source": [
    "revealable(ans215A)"
   ]
  },
  {
   "cell_type": "markdown",
   "metadata": {},
   "source": [
    "##Genetic Algorithms\n",
    "__Genetic algorithms__ attempt to find optimal solutions by using concepts related to the process of natural selection: \n",
    "\n",
    "* inheritance \n",
    "* mutation \n",
    "* selection, and\n",
    "* crossover.\n",
    "\n",
    "###Genetic Algorithms: Building a Population\n",
    "Each \"individual\" is represented by a string, usually in binary; for example:\n",
    "\n",
    "    1111100010100111011010001011011001011011\n",
    "    \n",
    "Fortunately any number can be converted into binary and back so this string of 0's and 1's can be translated into the values of numerical variables. These values can then be plugged into an objective function.\n",
    "\n",
    "In the beginning, many, many of these strings are randomly chosen.\n",
    "\n",
    "###Genetic Algorithms: Testing Fitness\n",
    "The next step is to find the value of the objective function for each \"individual.\" This is done by translating the binary strings into numbers and plugging them in. The objective function value gives a measure of the individual's \"fitness.\"\n",
    "\n",
    "If you are trying to minimize, the \"fittest\" individuals would have the lowest values of the objective function. \n",
    "\n",
    "This is the bottleneck step in genetic algorithms. Evaluating the objective function, which is super-complex because otherwise we wouldn't be using stochastic methods in the first place, can take a very long time. Evaluating it multiple times over a large population is terribly cumbersome. The temptation is therefore to reduce the population and/or the number of iterations, but the whole point of stochastic methods is that you need a large sample. \n",
    "\n",
    "###Binary Numbers: A Review\n",
    "With binary numbers, each digit space represents a power of two. This number:\n",
    "\n",
    "\t  1 0 0 1 1\n",
    "\n",
    "...contains 1 sixteen, 0 eights, 0 fours, 1 two and 1 one. That adds up to 16 + 2 + 1 = 19.\n",
    "\n",
    "Similarly, 101 = ?\n",
    "\n",
    "1010 = ?\n"
   ]
  },
  {
   "cell_type": "code",
   "execution_count": 4,
   "metadata": {
    "run_control": {
     "read_only": false
    }
   },
   "outputs": [
    {
     "data": {
      "text/html": [],
      "text/plain": [
       "Interact.ToggleButton(4: \"input-2\" = false Bool , \"Answers\", false)"
      ]
     },
     "metadata": {},
     "output_type": "display_data"
    },
    {
     "data": {
      "text/markdown": [
       "\n"
      ],
      "text/plain": [
       "Revealables.Revealable(\"###Binary Numbers\\n101 in binary = 5 in decimal\\n\\n1010 in binary = 10 in decimal\\n\", \"Answers\", false, false)"
      ]
     },
     "execution_count": 4,
     "metadata": {
      "comm_id": "ee94adf3-3c34-4127-9d53-0907b8a9f834",
      "reactive": true
     },
     "output_type": "execute_result"
    }
   ],
   "source": [
    "revealable(binary215)"
   ]
  },
  {
   "cell_type": "markdown",
   "metadata": {},
   "source": [
    "###Practice Problem B\n",
    "Here are four randomly-generated individuals:<br clear=\"all\" />\n",
    "A: 011111010001<br clear=\"all\" />\n",
    "B: 001000101001<br clear=\"all\" />\n",
    "C: 101110001010<br clear=\"all\" />\n",
    "D: 101101000111<br clear=\"all\" />\n",
    "\n",
    "1. Split each “phenotype” into three variables of length 4. Convert each into a base-10 number, represented by `a`, `b`, and `c`.\n",
    "\n",
    "2. For each individual, calculate its \"fitness\" according to the objective function `a + b – c`, with the goal of *maximizing*.\n"
   ]
  },
  {
   "cell_type": "code",
   "execution_count": null,
   "metadata": {
    "collapsed": true,
    "run_control": {
     "read_only": false
    }
   },
   "outputs": [],
   "source": [
    "# Convert the numbers\n",
    "\n",
    "# Calculate fitness\n"
   ]
  },
  {
   "cell_type": "code",
   "execution_count": 5,
   "metadata": {
    "run_control": {
     "read_only": false
    }
   },
   "outputs": [
    {
     "data": {
      "text/html": [],
      "text/plain": [
       "Interact.ToggleButton(7: \"input-3\" = false Bool , \"Answer\", false)"
      ]
     },
     "metadata": {},
     "output_type": "display_data"
    },
    {
     "data": {
      "text/markdown": [
       "\n"
      ],
      "text/plain": [
       "Revealables.Revealable(\"###Answer B\\n1. The values are:\\n    * A: a = 7, b = 13, c = 1\\n    * B: a = 2, b = 2, c = 9\\n    * C: a = 11, b = 8, c = 10\\n    * D: a = 11, b = 4, c = 7.\\n\\n2. In order from highest to lowest: A has fitness 19; C has fitness 9; D has fitness 8; B has fitness -5.\\n\", \"Answer\", false, false)"
      ]
     },
     "execution_count": 5,
     "metadata": {
      "comm_id": "289792e9-75b6-4f46-a6da-52e2daa68980",
      "reactive": true
     },
     "output_type": "execute_result"
    }
   ],
   "source": [
    "revealable(ans215B)"
   ]
  },
  {
   "cell_type": "markdown",
   "metadata": {},
   "source": [
    "###Genetic Algorithms: Selection\n",
    "After fitness is determined, the individuals are ranked from most to least fit. All of the individuals may contribute to the next \"generation,\" but with different probabilities based on their fitness. \n",
    "\n",
    "Individuals are chosen randomly, in pairs, with repeats allowed, until the number chosen is equal to the original population.\n"
   ]
  },
  {
   "cell_type": "markdown",
   "metadata": {},
   "source": [
    "###Practice Problem C\n",
    "In Problem B, the fitness in order from high to low was A, C, D, B.\n",
    "\n",
    "Randomly choose pairs of individuals according to the following method:\n",
    "\n",
    "1. Use the command rand(1:10). If the result is 1, 2, 3, 4 choose A; 5, 6, 7 choose C; 8, 9 choose D; 10 choose B.\n",
    "2. Individuals may not “breed” with themselves; choose another number if this happens.\n",
    "\n",
    "Use this method to create two pairs.\n"
   ]
  },
  {
   "cell_type": "code",
   "execution_count": null,
   "metadata": {
    "collapsed": true,
    "run_control": {
     "read_only": false
    }
   },
   "outputs": [],
   "source": [
    "# Generate two pairs here"
   ]
  },
  {
   "cell_type": "code",
   "execution_count": 6,
   "metadata": {
    "run_control": {
     "read_only": false
    }
   },
   "outputs": [
    {
     "data": {
      "text/html": [],
      "text/plain": [
       "Interact.ToggleButton(10: \"input-4\" = false Bool , \"Answer\", false)"
      ]
     },
     "metadata": {},
     "output_type": "display_data"
    },
    {
     "data": {
      "text/markdown": [
       "\n"
      ],
      "text/plain": [
       "Revealables.Revealable(\"###Answer C\\nAnswers will vary here. You should have four individuals grouped into two pairs; individuals may be repeated but not within a pair. \\n\\nThis process of weighting the probabilities is simplified, but basically equivalent to what might be actually used.\\n\", \"Answer\", false, false)"
      ]
     },
     "execution_count": 6,
     "metadata": {
      "comm_id": "13a1dbe2-6619-43e6-b000-23399588cc27",
      "reactive": true
     },
     "output_type": "execute_result"
    }
   ],
   "source": [
    "revealable(ans215C)"
   ]
  },
  {
   "cell_type": "markdown",
   "metadata": {},
   "source": [
    "###Genetic Algorithms: Crossover\n",
    "In the next step, a random number $n$ is selected between 1 and one less than the maximum string length. Then, the first $n$ characters of each pair are switched.\n",
    "\n",
    "If you had the pair:\n",
    "\n",
    "\n",
    "\n",
    "<font color=\"#336699\">101</font><font color=\"#993333\">10</font> and<br clear=\"all\" />\n",
    "<font color=\"#33CC66\">011</font><font color=\"#993333\">01</font>\n",
    "\n",
    "with $n = 3$\n",
    "\n",
    "you would switch the first three characters of each, creating two \"children,\"\n",
    "<font color=\"#33CC66\">011</font><font color=\"#993333\">10</font> and<br clear=\"all\" />\n",
    "<font color=\"#336699\">101</font><font color=\"#993333\">01</font>\n",
    "\n",
    "There are a ton of variations on this method (like swapping more than 1 set of points, or switching order), but this is the basic way it's done.\n",
    "\n",
    "The reason $n$ can’t equal the maximum string length is that then the \"children\" would be identical to the \"parents.\" \n",
    "\n",
    "\n"
   ]
  },
  {
   "cell_type": "markdown",
   "metadata": {},
   "source": [
    "###Practice Problem D1\n",
    "For each pair from Problem C, use `rand(1:11)` to determine how many digits to swap; then, swap those digits."
   ]
  },
  {
   "cell_type": "code",
   "execution_count": null,
   "metadata": {
    "collapsed": true,
    "run_control": {
     "read_only": false
    }
   },
   "outputs": [],
   "source": [
    "# Do your swapping here"
   ]
  },
  {
   "cell_type": "code",
   "execution_count": 7,
   "metadata": {
    "run_control": {
     "read_only": false
    }
   },
   "outputs": [
    {
     "data": {
      "text/html": [],
      "text/plain": [
       "Interact.ToggleButton(13: \"input-5\" = false Bool , \"Answer\", false)"
      ]
     },
     "metadata": {},
     "output_type": "display_data"
    },
    {
     "data": {
      "text/markdown": [
       "\n"
      ],
      "text/plain": [
       "Revealables.Revealable(\"###Answer D1\\nYour answers are totally different from mine at this point. You should generate a separate number for each pair; it might end up being the same number.\\n\", \"Answer\", false, false)"
      ]
     },
     "execution_count": 7,
     "metadata": {
      "comm_id": "f72c6ae5-7ac7-4c2d-9241-ec61b503fbdc",
      "reactive": true
     },
     "output_type": "execute_result"
    }
   ],
   "source": [
    "revealable(ans215D1)"
   ]
  },
  {
   "cell_type": "markdown",
   "metadata": {},
   "source": [
    "###Genetic Algorithms: Mutation\n",
    "The process of \"mutation\" is a random process that prevents the \"children\" from being too similar to the \"parents,\" which would make it difficult to break out of a local optimum and find the global one. \n",
    "\n",
    "In mutation, a probability is selected; it can be a chosen number between 0.005 and 0.1, or equal to $1\\over{k}$ where $k$ is the string length (the second method guarantees an average of 1 mutation per child).\n",
    "\n",
    "Each character is given that probability of randomly switching value from 0 to 1 or 1 to 0.\n"
   ]
  },
  {
   "cell_type": "markdown",
   "metadata": {},
   "source": [
    "###Practice Problem D2\n",
    "Use the command `rand(12)` to generate 12 random numbers between 0 and 1.\n",
    "\n",
    "If any of the numbers is less than $0.08\\overline{3}$ (that's $1\\over12$), flip the corresponding character(s) on the first child from Problem D1.\n",
    "\n",
    "Repeat for all four children.\n",
    "\n",
    "Calculate the fitness of all four children."
   ]
  },
  {
   "cell_type": "code",
   "execution_count": null,
   "metadata": {
    "collapsed": true,
    "run_control": {
     "read_only": false
    }
   },
   "outputs": [],
   "source": [
    "# Calculate new generations here"
   ]
  },
  {
   "cell_type": "code",
   "execution_count": 8,
   "metadata": {
    "run_control": {
     "read_only": false
    }
   },
   "outputs": [
    {
     "data": {
      "text/html": [],
      "text/plain": [
       "Interact.ToggleButton(16: \"input-6\" = false Bool , \"Answer\", false)"
      ]
     },
     "metadata": {},
     "output_type": "display_data"
    },
    {
     "data": {
      "text/markdown": [
       "\n"
      ],
      "text/plain": [
       "Revealables.Revealable(\"###Answer D2\\nAlthough I got rid of the -5, otherwise my children were markedly inferior to the parent generation when I ran this! It happens! That's why it takes a lot of repetition... and a larger population. Which is why it requires computers.\\n\", \"Answer\", false, false)"
      ]
     },
     "execution_count": 8,
     "metadata": {
      "comm_id": "ad136e90-43c9-446e-a0a2-131f1b2cd782",
      "reactive": true
     },
     "output_type": "execute_result"
    }
   ],
   "source": [
    "revealable(ans215D2)"
   ]
  },
  {
   "cell_type": "markdown",
   "metadata": {},
   "source": [
    "###Genetic Algorithms: Repeat and Repeat and...\n",
    "Using computers, these procedures are repeated over large numbers of individuals over many generations. Eventually, the \"population\" will become more \"fit,\" just as natural selection works on a biological population.\n",
    "\n",
    "In more mathematical terms, this means the variables and fitness will gradually converge on the optimal solution."
   ]
  },
  {
   "cell_type": "markdown",
   "metadata": {},
   "source": [
    "###Practice Problem E\n",
    "Repeat the genetic algorithm for two more generations: pair the children with weighted probabilities according to fitness, swap genes, mutate, evaluate; then repeat once more."
   ]
  },
  {
   "cell_type": "code",
   "execution_count": null,
   "metadata": {
    "collapsed": true,
    "run_control": {
     "read_only": false
    }
   },
   "outputs": [],
   "source": [
    "# Keep evolving..."
   ]
  },
  {
   "cell_type": "code",
   "execution_count": 9,
   "metadata": {
    "run_control": {
     "read_only": false
    }
   },
   "outputs": [
    {
     "data": {
      "text/html": [],
      "text/plain": [
       "Interact.ToggleButton(19: \"input-7\" = false Bool , \"Answer\", false)"
      ]
     },
     "metadata": {},
     "output_type": "display_data"
    },
    {
     "data": {
      "text/markdown": [
       "\n"
      ],
      "text/plain": [
       "Revealables.Revealable(\"My third generation was a huge improvement; my fourth, not so much. \\nHere are the fitness ranks of my generations, if you're curious:<br clear=\\\"all\\\">\\nI: 19, 9, 8, -5<br clear=\\\"all\\\">\\nII: 13, 10, 3, 1<br clear=\\\"all\\\">\\nIII: 20, 15, 14, 10<br clear=\\\"all\\\">\\nIV: 28, 12, 11, -5<br clear=\\\"all\\\">\\n\\nThen I got hooked...<br clear=\\\"all\\\">\\nV: 21, 16, 12, 4<br clear=\\\"all\\\">\\nVI: 23, 21, 16, 6<br clear=\\\"all\\\">\\nVII: 21, 21, 21, 6<br clear=\\\"all\\\">\\n\\n\\nOne thing I noticed while getting hooked is that I wrote a program that made an array out of `rand(12)` and returned the location of anything less than 1/12, which saved some time. If you're curious, continue your own iterations with computer support. Depending on your programming experience, writing an entire program might take more time than doing it by hand.\\n\\nVIII: 24, 23, 21, 19.<br clear=\\\"all\\\">\\nI stopped here because it was lunchtime. The optimum solution is 1111 / 1111 / 0000 = 30. It's clear that successive generations are approaching the optimum, and also getting more uniform (though mutation keeps it interesting). Cool stuff.\\n\", \"Answer\", false, false)"
      ]
     },
     "execution_count": 9,
     "metadata": {
      "comm_id": "f38bce5b-3675-4dc0-9c83-368ae8f05f5f",
      "reactive": true
     },
     "output_type": "execute_result"
    }
   ],
   "source": [
    "revealable(ans215E)"
   ]
  },
  {
   "cell_type": "markdown",
   "metadata": {},
   "source": [
    "###Genetic Algorithms: Disadvantages\n",
    "One disadvantage of genetic algorithms is that they require a lot of evaluations of the objective function, which can be costly and time-consuming.\n",
    "\n",
    "Another is that, while they work well for simpler systems, they do not scale up well to very complex systems: the longer the string, the less successful the method tends to be.\n",
    "\n",
    "Genetic algorithms also tend to get stuck in local extremes.\n",
    "\n",
    "###Genetic Algorithms: Why Do We Use Them?\n",
    "In spite of the difficulties mentioned above, for simple systems (fewer variables) with many potential inputs (large domains) and complicated, interdependent, or nonexistent equations and conditions, genetic algorithms are surprisingly good at finding optimal solutions."
   ]
  },
  {
   "cell_type": "code",
   "execution_count": null,
   "metadata": {
    "collapsed": true,
    "run_control": {
     "read_only": false
    }
   },
   "outputs": [],
   "source": []
  }
 ],
 "metadata": {
  "kernelspec": {
   "display_name": "Julia 0.6.0",
   "language": "julia",
   "name": "julia-0.6"
  },
  "language_info": {
   "file_extension": ".jl",
   "mimetype": "application/julia",
   "name": "julia",
   "version": "0.6.0"
  }
 },
 "nbformat": 4,
 "nbformat_minor": 1
}
