{
 "cells": [
  {
   "cell_type": "markdown",
   "metadata": {
    "run_control": {
     "read_only": false
    }
   },
   "source": [
    "# 2-8 Finding a Global Maximum With the Sawtooth Method (Shubert-Piyavskii Method)\n",
    "\n",
    "Here we're finding a global *maximum* instead of the usual minimum. Graphically and conceptually, it's just easier to handle learning this method for maxima rather than minima. It could be adapted, once learned, to finding minima as well, or you could just maximize $–f(x)$. The latter is probably easier.\n",
    "\n",
    "This section will be light on programming and heavier on paper-and-pencil, though you are encouraged to take shortcuts using small functions, or even write the full program if you like. "
   ]
  },
  {
   "cell_type": "code",
   "execution_count": null,
   "metadata": {
    "collapsed": false,
    "run_control": {
     "read_only": false
    }
   },
   "outputs": [],
   "source": [
    "using Revealables\n",
    "using Interact\n",
    "include(\"files/answers.jl\")"
   ]
  },
  {
   "cell_type": "markdown",
   "metadata": {},
   "source": [
    "The sawtooth method requires two things that aren't always obvious:\n",
    "\n",
    "1. Left and right boundaries (from common sense or ceiling methods&mdash;same as previous lesson)\n",
    "2. A boundary on the slope of the graph...\n"
   ]
  },
  {
   "cell_type": "code",
   "execution_count": null,
   "metadata": {
    "collapsed": false,
    "input_collapsed": true,
    "run_control": {
     "read_only": false
    }
   },
   "outputs": [],
   "source": [
    "revealable(slope)"
   ]
  },
  {
   "cell_type": "markdown",
   "metadata": {
    "collapsed": true,
    "run_control": {
     "read_only": false
    }
   },
   "source": [
    "##Requirements\n",
    "<img src=\"files/2-8/redgreenslopes.png\" width=200 align=\"left\" />\n",
    "For the Shubert-Piyavskii method, you need to have a boundary for the slope. \n",
    "\n",
    "Both the green and red lines accomplish this&mdash;the curve is not steeper than either one.\n",
    "\n",
    "With Calculus, you can use derivatives to find a nice boundary slope (the green line). \n",
    "\n",
    "Without Calculus, you’ll have to settle for a conservative overestimate (the red line) which could be estimated from data or from a known graph. For now, the boundary slope will be provided. "
   ]
  },
  {
   "cell_type": "markdown",
   "metadata": {
    "collapsed": true,
    "run_control": {
     "read_only": false
    }
   },
   "source": [
    "##The Sawtooth Method\n",
    "The Shubert-Piyavskii method, more often called the Sawtooth Method, is a way to find a global maximum on a known interval. Unlike testing points, it is guaranteed to find the global maximum on the interval.\n",
    "\n",
    "It can be modified to find a global minimum; or you can maximize $(–f(x))$ using the method, which is the same as minimizing $f(x)$.\n",
    "\n",
    "<img src=\"files/2-8/intbound.png\" width=200 align=\"left\"/>\n",
    "Step 1: find three points on the function: one at each boundary and one at the midpoint of the interval.\n",
    "\n",
    "Step 2: using the boundary slope $m$, draw a line through each point with slope $m$ or $–m$. (Note there are two lines through the center point.)\n"
   ]
  },
  {
   "cell_type": "markdown",
   "metadata": {
    "collapsed": true,
    "run_control": {
     "read_only": false
    }
   },
   "source": [
    "###Practice Problem A\n",
    "Given the function $y = -x^4 + 4x^3 + 30x^2 – 50x + 200$, boundaries -5 and 7, and a maximum slope of 450...\n",
    "1. Find the three points (endpoints and midpoint) required by the Sawtooth Method\n",
    "2. Find the equations of the four lines with slope ±450 through those points. \n",
    "3. Find the two points where the left-hand lines cross and the right-hand lines cross.\n",
    "\n"
   ]
  },
  {
   "cell_type": "code",
   "execution_count": null,
   "metadata": {
    "collapsed": true,
    "run_control": {
     "read_only": false
    }
   },
   "outputs": [],
   "source": [
    "# Do calculations here"
   ]
  },
  {
   "cell_type": "code",
   "execution_count": null,
   "metadata": {
    "collapsed": false,
    "input_collapsed": true,
    "run_control": {
     "read_only": false
    }
   },
   "outputs": [],
   "source": [
    "revealable(hint208A)"
   ]
  },
  {
   "cell_type": "code",
   "execution_count": null,
   "metadata": {
    "collapsed": false,
    "input_collapsed": true,
    "run_control": {
     "read_only": false
    }
   },
   "outputs": [],
   "source": [
    "revealable(ans208A)"
   ]
  },
  {
   "cell_type": "markdown",
   "metadata": {},
   "source": [
    "##Next Steps\n",
    "Once you have found where the lines cross, you have five points.\n",
    "\n",
    "Step through the process using the slider. You'll start to see why it's called the Sawtooth Method.\n"
   ]
  },
  {
   "cell_type": "code",
   "execution_count": null,
   "metadata": {
    "collapsed": false,
    "input_collapsed": false,
    "run_control": {
     "read_only": false
    }
   },
   "outputs": [],
   "source": [
    "method = [Revealable(\"The next step is to choose the point with the highest y-value. This point will always be above the function graph if your boundary slope is chosen properly.\\n\\n<img src=\\\"files/2-8/crossabovef.png\\\" width=300 />\", \"\", true), Revealable(\"Take the x-value of the highest point and plug that into the function to find the actual y-value of the function at that location.\\n\\n<img src=\\\"files/2-8/xcoord.png\\\" width=300 />\", \"\", true), Revealable(\"Create new lines from the new point. Then find the new crossing points.\\n\\n<img src=\\\"files/2-8/newpoints.png\\\" width=300 />\", \"\", true)]\n",
    "\n",
    "@manipulate for s = slider(1:3, value=1)\n",
    "    method[s]\n",
    "end"
   ]
  },
  {
   "cell_type": "markdown",
   "metadata": {},
   "source": [
    "###Practice Problem B\n",
    "Given two equations:\n",
    "* $y - y_1 = m(x - x_1)$\n",
    "* $y - y_2 = -m(x - x_2)$\n",
    "\n",
    "\n",
    "1. Write an equation that solves for $y$, given $(x_1, y_1)$ and $(x_2, y_2)$. \n",
    "2. Write another equation that solves for $x$, given $y$ in either of the equations above. \n",
    "3. Write a program in Julia that finds the crossing point of two lines, given $(x_1, y_1, x_2, y_2)$ and using a constant slope $m$.\n",
    "\n",
    "   Check your work on Practice Problem A using your program.\n"
   ]
  },
  {
   "cell_type": "code",
   "execution_count": null,
   "metadata": {
    "collapsed": true,
    "run_control": {
     "read_only": false
    }
   },
   "outputs": [],
   "source": [
    "# Code here"
   ]
  },
  {
   "cell_type": "code",
   "execution_count": null,
   "metadata": {
    "collapsed": true,
    "run_control": {
     "read_only": false
    }
   },
   "outputs": [],
   "source": [
    "# Test here"
   ]
  },
  {
   "cell_type": "code",
   "execution_count": null,
   "metadata": {
    "collapsed": false,
    "input_collapsed": true,
    "run_control": {
     "read_only": false
    }
   },
   "outputs": [],
   "source": [
    "revealable(ans208B)"
   ]
  },
  {
   "cell_type": "markdown",
   "metadata": {},
   "source": [
    "###Practice Problem C\n",
    "Using $y = -x^4 + 4x^3 + 30x^2 – 50x + 200$ with boundary slope 450 and the five current points you have:\n",
    "1. Choose the point with the highest $y$-value and find the corresponding function $y$-value.\n",
    "2. Using your program, find where the lines from the new point cross the old lines. \n",
    "\n",
    "Now you have seven points. \n"
   ]
  },
  {
   "cell_type": "code",
   "execution_count": null,
   "metadata": {
    "collapsed": true,
    "run_control": {
     "read_only": false
    }
   },
   "outputs": [],
   "source": [
    "# Find the highest crossing y-value and its corresponding function value\n"
   ]
  },
  {
   "cell_type": "code",
   "execution_count": null,
   "metadata": {
    "collapsed": true,
    "run_control": {
     "read_only": false
    }
   },
   "outputs": [],
   "source": [
    "# Find two new points where the new lines cross old lines\n"
   ]
  },
  {
   "cell_type": "code",
   "execution_count": null,
   "metadata": {
    "collapsed": false,
    "input_collapsed": true,
    "run_control": {
     "read_only": false
    }
   },
   "outputs": [],
   "source": [
    "revealable(ans208C)"
   ]
  },
  {
   "cell_type": "markdown",
   "metadata": {},
   "source": [
    "##Next Step: Repeat"
   ]
  },
  {
   "cell_type": "code",
   "execution_count": null,
   "metadata": {
    "collapsed": false,
    "input_collapsed": false,
    "run_control": {
     "read_only": false
    }
   },
   "outputs": [],
   "source": [
    "@manipulate for s = slider(1:5, value=1)\n",
    "    steps208[s]\n",
    "end"
   ]
  },
  {
   "cell_type": "markdown",
   "metadata": {},
   "source": [
    "##Arrays in Julia, revisited\n",
    "Go back to the original 3 points: $(-5, 75)$, $(1, 183)$, $(7, 291)$. Enter them as an array `A`:\n",
    "\n",
    "    A = [-5 75; 1 183; 7 291]\n",
    "    \n",
    "If we want to add another point into A, we can enter:\n",
    "\n",
    "    A = vcat(A, [-1.88, 1479])\n",
    "    \n",
    "If we want to put the points in order, we can use\n",
    "\n",
    "    A = sortrows(A)"
   ]
  },
  {
   "cell_type": "code",
   "execution_count": null,
   "metadata": {
    "collapsed": true,
    "run_control": {
     "read_only": false
    }
   },
   "outputs": [],
   "source": [
    "# Try it!\n"
   ]
  },
  {
   "cell_type": "markdown",
   "metadata": {},
   "source": [
    "##Output of a Function\n",
    "The command `A = ` in the previous section replaced `A` with the result of the operation. To make sure a function splits out the value of `A` as its final result, you can use the command\n",
    "\n",
    "    return(A)\n",
    "    \n",
    "  or, in Julia,\n",
    "  \n",
    "    A\n",
    "   (or `A =` something)\n",
    "\n",
    "This command works like `println`, only instead of just printing out the result it will make the result available for assignment to a variable, as in\n",
    "\n",
    "\ty = function(x)\n",
    "\n",
    "Remember: in Julia, you don't need to write `return`. To return `A` in a function, just make sure `A` is the last line that the function calls."
   ]
  },
  {
   "cell_type": "markdown",
   "metadata": {
    "collapsed": true,
    "run_control": {
     "read_only": false
    }
   },
   "source": [
    "###Practice Problem D\n",
    "Write a program `listpoints(A, x, y)` in Julia that adds the point `(x, y)` into array `A`, then sorts the rows. Make sure that you return `A` either with a `return` statement or by making `A` the last thing you evaluate.\n",
    "\n",
    "Use your program to add in all the points you've found into `A`&mdash;seven total points. Use these statements:\n",
    "```\n",
    "A = listpoints([-5, 75], 1, 183)\n",
    "A = listpoints(A, 7, 291)\n",
    "A = listpoints(A, -1.88, 1479)\n",
    "...\n",
    "println(A)\n",
    "```"
   ]
  },
  {
   "cell_type": "code",
   "execution_count": null,
   "metadata": {
    "collapsed": true,
    "run_control": {
     "read_only": false
    }
   },
   "outputs": [],
   "source": [
    "function listpoints(A, x, y) \n",
    "    \n",
    "    \n",
    "end"
   ]
  },
  {
   "cell_type": "code",
   "execution_count": null,
   "metadata": {
    "collapsed": true,
    "run_control": {
     "read_only": false
    }
   },
   "outputs": [],
   "source": [
    "A = listpoints([-5, 75], 1, 183)\n",
    "A = listpoints(A, 7, 291)\n",
    "A = listpoints(A, -1.88, 1479)\n",
    "# Add in the other 4 points you've found:\n",
    "\n",
    "println(A)"
   ]
  },
  {
   "cell_type": "code",
   "execution_count": null,
   "metadata": {
    "collapsed": false,
    "run_control": {
     "read_only": false
    }
   },
   "outputs": [],
   "source": [
    "revealable(ans208D)"
   ]
  },
  {
   "cell_type": "markdown",
   "metadata": {},
   "source": [
    "##Repetition Steps\n",
    "To repeat the process, you would:\n",
    "1. find the highest $y$-value on your list of points.\n",
    "2. change that $y$-value to the function value.\n",
    "3. find the intersection of the lines from this new point to the two adjacent points on the list. \n",
    "4. Add both of those points to the list.\n",
    "Repeat.\n"
   ]
  },
  {
   "cell_type": "markdown",
   "metadata": {},
   "source": [
    "###Practice Problem E\n",
    "Use a combination of your Julia programs:\n",
    "* a one-line function for the equation $y = -x^4 + 4x^3 + 30x^2 – 50x + 200$\n",
    "* the program to find intersection points\n",
    "* and the point-listing program\n",
    "        \n",
    "to repeat the sawtooth method at least two more times on the equation. You will finish with at least 11 points in your array.\n"
   ]
  },
  {
   "cell_type": "code",
   "execution_count": null,
   "metadata": {
    "collapsed": true,
    "run_control": {
     "read_only": false
    }
   },
   "outputs": [],
   "source": [
    "# Write your code..."
   ]
  },
  {
   "cell_type": "code",
   "execution_count": null,
   "metadata": {
    "collapsed": true,
    "run_control": {
     "read_only": false
    }
   },
   "outputs": [],
   "source": [
    "# and test it"
   ]
  },
  {
   "cell_type": "code",
   "execution_count": null,
   "metadata": {
    "collapsed": false,
    "run_control": {
     "read_only": false
    }
   },
   "outputs": [],
   "source": [
    "revealable(ans208E)"
   ]
  },
  {
   "cell_type": "markdown",
   "metadata": {},
   "source": [
    "###Extension\n",
    "Write a program in Julia that, given a function, maximum slope, and endpoints, runs the sawtooth method by either a set number of iterations, or until the highest linear y-value is within 0.01 of the function value. \n",
    "\n",
    "One more useful command:\n",
    "\n",
    "`findmax(A[:, 2])`\t\t\n",
    "returns the highest y-value and its index (index = number in the array, remember?)\n",
    "\n",
    "`loc = findmax(A[:, 2])[2]`         \n",
    "assigns the index with the highest y-value to the variable `loc`.\n",
    "\n"
   ]
  },
  {
   "cell_type": "code",
   "execution_count": null,
   "metadata": {
    "collapsed": false,
    "run_control": {
     "read_only": false
    }
   },
   "outputs": [],
   "source": [
    "function sawtooth(f, maxslope, left, right)\n",
    "    \n",
    "    \n",
    "end"
   ]
  },
  {
   "cell_type": "code",
   "execution_count": null,
   "metadata": {
    "collapsed": true,
    "run_control": {
     "read_only": false
    }
   },
   "outputs": [],
   "source": [
    "# Test your code!\n"
   ]
  },
  {
   "cell_type": "code",
   "execution_count": null,
   "metadata": {
    "collapsed": false,
    "run_control": {
     "read_only": false
    }
   },
   "outputs": [],
   "source": [
    "revealable(ext208)"
   ]
  },
  {
   "cell_type": "markdown",
   "metadata": {},
   "source": [
    "##If you're curious...\n",
    "\n",
    "Here are plots of the data after:\n",
    "\n",
    "5 iterations <img src=\"files/2-8/5iter.png\" width=250 />\n",
    "<br clear=\"all\" />\n",
    "\n",
    "10 iterations <img src=\"files/2-8/10iter.png\" width=250 />\n",
    "<br clear=\"all\" />\n",
    "\n",
    "15 iterations <img src=\"files/2-8/15iter.png\" width=250 />\n",
    "<br clear=\"all\" />\n",
    "\n",
    "20 iterations <img src=\"files/2-8/20iter.png\" width=250 />\n",
    "<br clear=\"all\" />"
   ]
  },
  {
   "cell_type": "code",
   "execution_count": null,
   "metadata": {
    "collapsed": true,
    "run_control": {
     "read_only": false
    }
   },
   "outputs": [],
   "source": []
  }
 ],
 "metadata": {
  "kernelspec": {
   "display_name": "Julia 0.3.10",
   "language": "julia",
   "name": "julia-0.3"
  },
  "language_info": {
   "file_extension": ".jl",
   "mimetype": "application/julia",
   "name": "julia",
   "version": "0.3.10"
  }
 },
 "nbformat": 4,
 "nbformat_minor": 0
}
