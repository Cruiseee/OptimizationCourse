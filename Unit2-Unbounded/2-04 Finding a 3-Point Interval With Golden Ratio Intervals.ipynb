{
 "cells": [
  {
   "cell_type": "markdown",
   "metadata": {
    "run_control": {
     "read_only": false
    }
   },
   "source": [
    "# 2-4 Finding a 3-Point Interval With Golden Ratio Intervals"
   ]
  },
  {
   "cell_type": "code",
   "execution_count": 2,
   "metadata": {
    "run_control": {
     "read_only": false
    }
   },
   "outputs": [
    {
     "data": {
      "text/markdown": [
       "\n"
      ],
      "text/plain": [
       "Revealables.Revealable(\"My third generation was a huge improvement; my fourth, not so much.\\nHere are the fitness ranks of my generations, if you're curious:<br clear=\\\"all\\\">\\nI: 19, 9, 8, -5<br clear=\\\"all\\\">\\nII: 13, 10, 3, 1<br clear=\\\"all\\\">\\nIII: 20, 15, 14, 10<br clear=\\\"all\\\">\\nIV: 28, 12, 11, -5<br clear=\\\"all\\\">\\n\\nThen I got hooked...<br clear=\\\"all\\\">\\nV: 21, 16, 12, 4<br clear=\\\"all\\\">\\nVI: 23, 21, 16, 6<br clear=\\\"all\\\">\\nVII: 21, 21, 21, 6<br clear=\\\"all\\\">\\n\\n\\nOne thing I noticed while getting hooked is that I wrote a program that made an array out of `rand(12)` and returned the location of anything less than 1/12, which saved some time. If you're curious, continue your own iterations with computer support. Depending on your programming experience, writing an entire program might take more time than doing it by hand.\\n\\nVIII: 24, 23, 21, 19.<br clear=\\\"all\\\">\\nI stopped here because it was lunchtime. The optimum solution is 1111 / 1111 / 0000 = 30. It's clear that successive generations are approaching the optimum, and also getting more uniform (though mutation keeps it interesting). Cool stuff.\\n\", \"Answer\", false, false)"
      ]
     },
     "execution_count": 2,
     "metadata": {},
     "output_type": "execute_result"
    }
   ],
   "source": [
    "using Revealables\n",
    "using Images, Reactive, Interact\n",
    "include(\"files/extras.jl\")\n",
    "include(\"files/answers.jl\")"
   ]
  },
  {
   "cell_type": "markdown",
   "metadata": {},
   "source": [
    "##The Problem\n",
    "Clearly, brute force is not the best way to find the minimum of a function on an interval.\n",
    "\n",
    "A better way would be to divide the given interval into smaller intervals, then test those to see where the minimum occurs.\n",
    "\n",
    "<img src=\"files/2-4/smallints.png\" width=200 />\n",
    "\n",
    "Recall that we need three points to verify that a minimum lies within an interval. If you just take the midpoint of the interval...\n",
    "\n",
    "<img src=\"files/2-4/problem.png\" width=350 />\n",
    "\n",
    "then you still don’t know if the actual minimum lies left or right of the endpoint.\n",
    "\n"
   ]
  },
  {
   "cell_type": "code",
   "execution_count": 3,
   "metadata": {
    "input_collapsed": false,
    "run_control": {
     "read_only": false
    }
   },
   "outputs": [
    {
     "data": {
      "text/html": [],
      "text/plain": [
       "Interact.ToggleButton(1: \"input\" = false Bool , \"So what do we do?\", false)"
      ]
     },
     "metadata": {},
     "output_type": "display_data"
    },
    {
     "data": {
      "text/markdown": [
       "\n"
      ],
      "text/plain": [
       "Revealables.Revealable(\"## The Solution\\nInstead, we divide the interval into three sections instead of two by choosing two interior points instead of one.\\n\\n<img src=\\\"files/2-4/solution.png\\\" width=350 />\\n\\nAlthough it would seem obvious to divide the segment into equal thirds, with points at .33 and .67 across the segment, there is a better way.\\n\", \"So what do we do?\", false, false)"
      ]
     },
     "execution_count": 3,
     "metadata": {
      "comm_id": "1bb73d70-9380-4848-a64b-3b430abbe853",
      "reactive": true
     },
     "output_type": "execute_result"
    },
    {
     "name": "stderr",
     "output_type": "stream",
     "text": [
      "WARNING: Compat.ASCIIString is deprecated, use String instead.\n",
      "  likely near C:\\Users\\Victoria Docherty\\.julia\\v0.6\\IJulia\\src\\kernel.jl:31\n",
      "WARNING: Compat.ASCIIString is deprecated, use String instead.\n",
      "  likely near C:\\Users\\Victoria Docherty\\.julia\\v0.6\\IJulia\\src\\kernel.jl:31\n",
      "WARNING: Compat.ASCIIString is deprecated, use String instead.\n",
      "  likely near C:\\Users\\Victoria Docherty\\.julia\\v0.6\\IJulia\\src\\kernel.jl:31\n",
      "WARNING: Compat.ASCIIString is deprecated, use String instead.\n",
      "  likely near C:\\Users\\Victoria Docherty\\.julia\\v0.6\\IJulia\\src\\kernel.jl:31\n",
      "WARNING: Compat.ASCIIString is deprecated, use String instead.\n",
      "  likely near C:\\Users\\Victoria Docherty\\.julia\\v0.6\\IJulia\\src\\kernel.jl:31\n",
      "WARNING: Compat.ASCIIString is deprecated, use String instead.\n",
      "  likely near C:\\Users\\Victoria Docherty\\.julia\\v0.6\\IJulia\\src\\kernel.jl:31\n"
     ]
    }
   ],
   "source": [
    "revealable(soln204A)"
   ]
  },
  {
   "cell_type": "markdown",
   "metadata": {},
   "source": [
    "##The Golden Ratio\n",
    "The Golden Ratio, symbolized by $\\phi$ (the Greek letter *phi*) is a famous number related to the Fibonacci numbers. It is irrational and has two possible values: 1.61803... and 0.61803.... We will be using the second value.\n",
    "\n",
    "The non-decimal representation is ${-1+\\sqrt{5}}\\over{2}$. It has the interesting property that $\\phi^2 = 1-\\phi$, among others.\n",
    "\n",
    "If your interest is piqued, there is lots of [information about Fibonacci numbers and the Golden Ratio](http://www.maths.surrey.ac.uk/hosted-sites/R.Knott/Fibonacci/fib.html) online."
   ]
  },
  {
   "cell_type": "markdown",
   "metadata": {},
   "source": [
    "##Dividing the Segment\n",
    "Rather than divide our segment into equal thirds, it's preferred to divide it according to the Golden Ratio, at 0.382... and 0.618....\n",
    "\n",
    "Dividing a segment with these proportions is known as creating a Golden Section.\n",
    "\n",
    "The reason for its usefulness will be explained soon.\n"
   ]
  },
  {
   "cell_type": "code",
   "execution_count": 4,
   "metadata": {
    "input_collapsed": false,
    "run_control": {
     "read_only": false
    }
   },
   "outputs": [
    {
     "data": {
      "text/html": [],
      "text/plain": [
       "Interact.ToggleButton(4: \"input-2\" = false Bool , \"Use the Golden Ratio\", false)"
      ]
     },
     "metadata": {},
     "output_type": "display_data"
    },
    {
     "data": {
      "image/png": "[encoded data removed]",
      "text/plain": [
       "382×56 Array{RGBA{N0f8},2}:\n",
       " RGBA{N0f8}(1.0,1.0,1.0,1.0)  …  RGBA{N0f8}(1.0,1.0,1.0,1.0)\n",
       " RGBA{N0f8}(1.0,1.0,1.0,1.0)     RGBA{N0f8}(1.0,1.0,1.0,1.0)\n",
       " RGBA{N0f8}(1.0,1.0,1.0,1.0)     RGBA{N0f8}(1.0,1.0,1.0,1.0)\n",
       " RGBA{N0f8}(1.0,1.0,1.0,1.0)     RGBA{N0f8}(1.0,1.0,1.0,1.0)\n",
       " RGBA{N0f8}(1.0,1.0,1.0,1.0)     RGBA{N0f8}(1.0,1.0,1.0,1.0)\n",
       " RGBA{N0f8}(1.0,1.0,1.0,1.0)  …  RGBA{N0f8}(1.0,1.0,1.0,1.0)\n",
       " RGBA{N0f8}(1.0,1.0,1.0,1.0)     RGBA{N0f8}(1.0,1.0,1.0,1.0)\n",
       " RGBA{N0f8}(1.0,1.0,1.0,1.0)     RGBA{N0f8}(1.0,1.0,1.0,1.0)\n",
       " RGBA{N0f8}(1.0,1.0,1.0,1.0)     RGBA{N0f8}(1.0,1.0,1.0,1.0)\n",
       " RGBA{N0f8}(1.0,1.0,1.0,1.0)     RGBA{N0f8}(1.0,1.0,1.0,1.0)\n",
       " RGBA{N0f8}(1.0,1.0,1.0,1.0)  …  RGBA{N0f8}(1.0,1.0,1.0,1.0)\n",
       " RGBA{N0f8}(1.0,1.0,1.0,1.0)     RGBA{N0f8}(1.0,1.0,1.0,1.0)\n",
       " RGBA{N0f8}(1.0,1.0,1.0,1.0)     RGBA{N0f8}(1.0,1.0,1.0,1.0)\n",
       " ⋮                            ⋱  ⋮                          \n",
       " RGBA{N0f8}(1.0,1.0,1.0,1.0)  …  RGBA{N0f8}(1.0,1.0,1.0,1.0)\n",
       " RGBA{N0f8}(1.0,1.0,1.0,1.0)     RGBA{N0f8}(1.0,1.0,1.0,1.0)\n",
       " RGBA{N0f8}(1.0,1.0,1.0,1.0)     RGBA{N0f8}(1.0,1.0,1.0,1.0)\n",
       " RGBA{N0f8}(1.0,1.0,1.0,1.0)     RGBA{N0f8}(1.0,1.0,1.0,1.0)\n",
       " RGBA{N0f8}(1.0,1.0,1.0,1.0)     RGBA{N0f8}(1.0,1.0,1.0,1.0)\n",
       " RGBA{N0f8}(1.0,1.0,1.0,1.0)  …  RGBA{N0f8}(1.0,1.0,1.0,1.0)\n",
       " RGBA{N0f8}(1.0,1.0,1.0,1.0)     RGBA{N0f8}(1.0,1.0,1.0,1.0)\n",
       " RGBA{N0f8}(1.0,1.0,1.0,1.0)     RGBA{N0f8}(1.0,1.0,1.0,1.0)\n",
       " RGBA{N0f8}(1.0,1.0,1.0,1.0)     RGBA{N0f8}(1.0,1.0,1.0,1.0)\n",
       " RGBA{N0f8}(1.0,1.0,1.0,1.0)     RGBA{N0f8}(1.0,1.0,1.0,1.0)\n",
       " RGBA{N0f8}(1.0,1.0,1.0,1.0)  …  RGBA{N0f8}(1.0,1.0,1.0,1.0)\n",
       " RGBA{N0f8}(1.0,1.0,1.0,1.0)     RGBA{N0f8}(1.0,1.0,1.0,1.0)"
      ]
     },
     "execution_count": 4,
     "metadata": {
      "comm_id": "922fc76d-77e1-40f0-a673-dc0b4221e25c",
      "reactive": true
     },
     "output_type": "execute_result"
    },
    {
     "name": "stderr",
     "output_type": "stream",
     "text": [
      "WARNING: Compat.ASCIIString is deprecated, use String instead.\n",
      "  likely near C:\\Users\\Victoria Docherty\\.julia\\v0.6\\IJulia\\src\\kernel.jl:31\n",
      "WARNING: Compat.ASCIIString is deprecated, use String instead.\n",
      "  likely near C:\\Users\\Victoria Docherty\\.julia\\v0.6\\IJulia\\src\\kernel.jl:31\n",
      "WARNING: Compat.ASCIIString is deprecated, use String instead.\n",
      "  likely near C:\\Users\\Victoria Docherty\\.julia\\v0.6\\IJulia\\src\\kernel.jl:31\n",
      "WARNING: Compat.ASCIIString is deprecated, use String instead.\n",
      "  likely near C:\\Users\\Victoria Docherty\\.julia\\v0.6\\IJulia\\src\\kernel.jl:31\n"
     ]
    }
   ],
   "source": [
    "img1 = Images.imresize(Images.load(\"files/2-4/solution.png\"), (382,56))\n",
    "img2 = Images.imresize(Images.load(\"files/2-4/solngolden.png\"), (382,56))\n",
    "@manipulate for y in togglebutton(; label=\"Use the Golden Ratio\", value=false, signal=Signal(false))\n",
    "    if y\n",
    "        img2\n",
    "    else\n",
    "        img1\n",
    "    end\n",
    "end"
   ]
  },
  {
   "cell_type": "markdown",
   "metadata": {},
   "source": [
    "After dividing the segment, there are two testable intervals, left and right. Whichever one has the middle point lower than the two endpoints, becomes our new interval for the minimum.\n",
    "\n",
    "<img src=\"files/2-4/testableints.png\" width=375 align=\"left\" />"
   ]
  },
  {
   "cell_type": "code",
   "execution_count": null,
   "metadata": {
    "input_collapsed": false,
    "run_control": {
     "read_only": false
    }
   },
   "outputs": [],
   "source": [
    "# Look at the code if you're curious, then run the code and click the button\n",
    "img3 = Images.imresize(Images.load(\"files/2-4/newpoint.png\"), (495,148))\n",
    "img4 = Images.imresize(Images.load(\"files/2-4/samepoint.png\"), (495,148))\n",
    "@manipulate for y in togglebutton(; label=\"Then we repeat the procedure again.\", value=false, signal=Signal(false))\n",
    "    if y\n",
    "        img4\n",
    "    else\n",
    "        img3\n",
    "    end\n",
    "end"
   ]
  },
  {
   "cell_type": "markdown",
   "metadata": {},
   "source": [
    "The cool property of the Golden Ratio is that if we use the exact value of $\\phi$, one of the two interior points can be used again&mdash;it’s already there.\n",
    "\n",
    "If we used equal thirds, the old interior point would be the midpoint now&mdash;we’d have to find two new points. Using the golden ratio doesn't save a whole lot of time, but it might save some, and anyway it's awesome."
   ]
  },
  {
   "cell_type": "markdown",
   "metadata": {},
   "source": [
    "###Practice Problem A\n",
    "Write the steps of a process for approximating a minimum using Golden Section intervals:\n",
    "1. Start with: \\_\\_\\_\\_\\_\\_\\_\\_\\_\\_\\_\\_\\_\\_\n",
    "2. End when: \\_\\_\\_\\_\\_\\_\\_\\_\\_\\_\\_\\_\\_\\_\n",
    "3. Do this: \\_\\_\\_\\_\\_\\_\\_\\_\\_\\_\\_\\_\\_\\_\n",
    "4. Using \\_\\_\\_\\_\\_\\_\\_, loop back to step \\_\\_\\_.\n"
   ]
  },
  {
   "cell_type": "code",
   "execution_count": null,
   "metadata": {
    "collapsed": true,
    "run_control": {
     "read_only": false
    }
   },
   "outputs": [],
   "source": [
    "# Write your plan between the quotation marks:\n",
    "\"\"\"\n",
    "\n",
    "\n",
    "\n",
    "\n",
    "\n",
    "\n",
    "\n",
    "\n",
    "\"\"\""
   ]
  },
  {
   "cell_type": "code",
   "execution_count": null,
   "metadata": {
    "input_collapsed": false,
    "run_control": {
     "read_only": false
    }
   },
   "outputs": [],
   "source": [
    "revealable(ans204A)"
   ]
  },
  {
   "cell_type": "markdown",
   "metadata": {},
   "source": [
    "###Practice Problem B\n",
    "Write the program!\n",
    "\n",
    "Extras:\n",
    "* Write an iteration counter\n",
    "* Test several functions/start points/intervals\n",
    "* Check their work with a grapher\n",
    "* Shortened your calculations by taking advantage of the golden ratio property.\n"
   ]
  },
  {
   "cell_type": "code",
   "execution_count": null,
   "metadata": {
    "collapsed": true,
    "run_control": {
     "read_only": false
    }
   },
   "outputs": [],
   "source": [
    "# Write code\n"
   ]
  },
  {
   "cell_type": "code",
   "execution_count": null,
   "metadata": {
    "collapsed": true,
    "run_control": {
     "read_only": false
    }
   },
   "outputs": [],
   "source": [
    "# Test code\n"
   ]
  },
  {
   "cell_type": "code",
   "execution_count": null,
   "metadata": {
    "input_collapsed": false,
    "run_control": {
     "read_only": false
    }
   },
   "outputs": [],
   "source": [
    "revealable(ans204B)"
   ]
  },
  {
   "cell_type": "code",
   "execution_count": null,
   "metadata": {
    "collapsed": true,
    "run_control": {
     "read_only": false
    }
   },
   "outputs": [],
   "source": []
  }
 ],
 "metadata": {
  "kernelspec": {
   "display_name": "Julia 0.6.0",
   "language": "julia",
   "name": "julia-0.6"
  },
  "language_info": {
   "file_extension": ".jl",
   "mimetype": "application/julia",
   "name": "julia",
   "version": "0.6.0"
  }
 },
 "nbformat": 4,
 "nbformat_minor": 1
}
