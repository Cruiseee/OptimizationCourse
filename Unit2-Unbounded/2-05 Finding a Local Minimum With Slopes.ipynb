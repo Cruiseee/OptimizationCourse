{
 "cells": [
  {
   "cell_type": "markdown",
   "metadata": {
    "run_control": {
     "read_only": false
    }
   },
   "source": [
    "# 2-5 Finding a Local Minimum With Slopes"
   ]
  },
  {
   "cell_type": "code",
   "execution_count": null,
   "metadata": {
    "collapsed": false,
    "run_control": {
     "read_only": false
    }
   },
   "outputs": [],
   "source": [
    "using Revealables\n",
    "include(\"files/answers.jl\")"
   ]
  },
  {
   "cell_type": "markdown",
   "metadata": {},
   "source": [
    "Suppose you know the endpoints of an interval containing a minimum value. You can find the slope between the two points.\n",
    "\n",
    "You can use your 3-point interval program to find suitable interval endpoints!\n",
    "\n",
    "The slope doesn’t tell us much about the minimum, but it does tell us about the endpoints.\n",
    "\n",
    "\n",
    "<img src=\"files/2-5/slope_pos.png\" width=100 align=\"left\"/>If the slope is positive, the right endpoint is too far to the right and should be shifted a little to the left.\n",
    "<br clear=\"all\" />\n",
    "<img src=\"files/2-5/slope_neg.png\" width=100 align=\"left\"/>If the slope is negative, we need to shift the left endpoint to the right.\n",
    "<br clear=\"all\" />\n",
    "<img src=\"files/2-5/slope_zero.png\" width=100 align=\"left\"/>If the slope is zero, the minimum is probably around the middle of the interval."
   ]
  },
  {
   "cell_type": "markdown",
   "metadata": {},
   "source": [
    "###Practice Problem A\n",
    "\n",
    "Write a program that, given the endpoints of an interval containing the minimum, uses slope information to narrow the interval until the width of the interval is less than 0.0001.\n",
    "\n",
    "Test your code! Be sure you test functions where the minimum is not \"balanced,\" like $y = x^4 + x$.\n",
    "\n",
    "Save and document this program&mdash;you'll want to use it later."
   ]
  },
  {
   "cell_type": "code",
   "execution_count": null,
   "metadata": {
    "collapsed": true,
    "run_control": {
     "read_only": false
    }
   },
   "outputs": [],
   "source": [
    "# Write your program"
   ]
  },
  {
   "cell_type": "code",
   "execution_count": null,
   "metadata": {
    "collapsed": true,
    "run_control": {
     "read_only": false
    }
   },
   "outputs": [],
   "source": [
    "# Test it here"
   ]
  },
  {
   "cell_type": "code",
   "execution_count": null,
   "metadata": {
    "collapsed": false,
    "run_control": {
     "read_only": false
    },
    "scrolled": true
   },
   "outputs": [],
   "source": [
    "revealable(ans205A)"
   ]
  },
  {
   "cell_type": "code",
   "execution_count": null,
   "metadata": {
    "collapsed": true,
    "run_control": {
     "read_only": false
    }
   },
   "outputs": [],
   "source": []
  }
 ],
 "metadata": {
  "kernelspec": {
   "display_name": "Julia 0.3.10",
   "language": "julia",
   "name": "julia-0.3"
  },
  "language_info": {
   "file_extension": ".jl",
   "mimetype": "application/julia",
   "name": "julia",
   "version": "0.3.10"
  }
 },
 "nbformat": 4,
 "nbformat_minor": 0
}
