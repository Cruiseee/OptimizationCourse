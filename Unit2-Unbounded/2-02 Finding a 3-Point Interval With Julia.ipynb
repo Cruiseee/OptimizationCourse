{
 "cells": [
  {
   "cell_type": "markdown",
   "metadata": {
    "run_control": {
     "read_only": false
    }
   },
   "source": [
    "#Finding a 3-Point Interval\n",
    "* Review of the premise\n",
    "* Writing a program\n",
    "* Refining the program"
   ]
  },
  {
   "cell_type": "code",
   "execution_count": 1,
   "metadata": {
    "run_control": {
     "read_only": false
    }
   },
   "outputs": [
    {
     "data": {
      "text/html": [
       "<div id=\"interact-js-shim\">\n",
       "    <script charset=\"utf-8\">\r\n",
       "(function (IPython, $, _, MathJax) {\r\n",
       "    $.event.special.destroyed = {\r\n",
       "\tremove: function(o) {\r\n",
       "\t    if (o.handler) {\r\n",
       "\t\to.handler.apply(this, arguments)\r\n",
       "\t    }\r\n",
       "\t}\r\n",
       "    }\r\n",
       "\r\n",
       "    var OutputArea = IPython.version >= \"4.0.0\" ? require(\"notebook/js/outputarea\").OutputArea : IPython.OutputArea;\r\n",
       "\r\n",
       "    var redrawValue = function (container, type, val) {\r\n",
       "\tvar selector = $(\"<div/>\");\r\n",
       "\tvar oa = new OutputArea(_.extend(selector, {\r\n",
       "\t    selector: selector,\r\n",
       "\t    prompt_area: true,\r\n",
       "\t    events: IPython.events,\r\n",
       "\t    keyboard_manager: IPython.keyboard_manager\r\n",
       "\t})); // Hack to work with IPython 2.1.0\r\n",
       "\r\n",
       "\tswitch (type) {\r\n",
       "\tcase \"image/png\":\r\n",
       "            var _src = 'data:' + type + ';base64,' + val;\r\n",
       "\t    $(container).find(\"img\").attr('src', _src);\r\n",
       "\t    break;\r\n",
       "\tcase \"text/latex\":\r\n",
       "\t\tif (MathJax){\r\n",
       "\t\t\tvar math = MathJax.Hub.getAllJax(container)[0];\r\n",
       "\t\t\tMathJax.Hub.Queue([\"Text\", math, val.replace(/^\\${1,2}|\\${1,2}$/g, '')]);\r\n",
       "\t\t\tbreak;\r\n",
       "\t\t}\r\n",
       "\tdefault:\r\n",
       "\t    var toinsert = OutputArea.append_map[type].apply(\r\n",
       "\t\toa, [val, {}, selector]\r\n",
       "\t    );\r\n",
       "\t    $(container).empty().append(toinsert.contents());\r\n",
       "\t    selector.remove();\r\n",
       "\t}\r\n",
       "    }\r\n",
       "\r\n",
       "\r\n",
       "    $(document).ready(function() {\r\n",
       "\tfunction initComm(evt, data) {\r\n",
       "\t    var comm_manager = data.kernel.comm_manager;\r\n",
       "        //_.extend(comm_manager.targets, require(\"widgets/js/widget\"))\r\n",
       "\t    comm_manager.register_target(\"Signal\", function (comm) {\r\n",
       "            comm.on_msg(function (msg) {\r\n",
       "                var val = msg.content.data.value;\r\n",
       "                $(\".signal-\" + comm.comm_id).each(function() {\r\n",
       "                var type = $(this).data(\"type\");\r\n",
       "                if (typeof(val[type]) !== \"undefined\" && val[type] !== null) {\r\n",
       "                    redrawValue(this, type, val[type], type);\r\n",
       "                }\r\n",
       "                });\r\n",
       "                delete val;\r\n",
       "                delete msg.content.data.value;\r\n",
       "            });\r\n",
       "\t    });\r\n",
       "\r\n",
       "\t    // coordingate with Comm and redraw Signals\r\n",
       "\t    // XXX: Test using Reactive here to improve performance\r\n",
       "\t    $([IPython.events]).on(\r\n",
       "\t\t'output_appended.OutputArea', function (event, type, value, md, toinsert) {\r\n",
       "\t\t    if (md && md.reactive) {\r\n",
       "                // console.log(md.comm_id);\r\n",
       "                toinsert.addClass(\"signal-\" + md.comm_id);\r\n",
       "                toinsert.data(\"type\", type);\r\n",
       "                // Signal back indicating the mimetype required\r\n",
       "                var comm_manager = IPython.notebook.kernel.comm_manager;\r\n",
       "                var comm = comm_manager.comms[md.comm_id];\r\n",
       "                comm.then(function (c) {\r\n",
       "                    c.send({action: \"subscribe_mime\",\r\n",
       "                       mime: type});\r\n",
       "                    toinsert.bind(\"destroyed\", function() {\r\n",
       "                        c.send({action: \"unsubscribe_mime\",\r\n",
       "                               mime: type});\r\n",
       "                    });\r\n",
       "                })\r\n",
       "\t\t    }\r\n",
       "\t    });\r\n",
       "\t}\r\n",
       "\r\n",
       "\ttry {\r\n",
       "\t    // try to initialize right away. otherwise, wait on the status_started event.\r\n",
       "\t    initComm(undefined, IPython.notebook);\r\n",
       "\t} catch (e) {\r\n",
       "\t    $([IPython.events]).on('kernel_created.Kernel kernel_created.Session', initComm);\r\n",
       "\t}\r\n",
       "    });\r\n",
       "})(IPython, jQuery, _, MathJax);\r\n",
       "</script>\n",
       "    <script>\n",
       "        window.interactLoadedFlag = true\n",
       "       $(\"#interact-js-shim\").bind(\"destroyed\", function () {\n",
       "           if (window.interactLoadedFlag) {\n",
       "               console.warn(\"JavaScript required by Interact will be removed if you remove this cell or run using Interact more than once.\")\n",
       "           }\n",
       "       })\n",
       "       $([IPython.events]).on(\"kernel_starting.Kernel kernel_restarting.Kernel\", function () { window.interactLoadedFlag = false })\n",
       "   </script>\n",
       "</div>"
      ]
     },
     "metadata": {},
     "output_type": "display_data"
    },
    {
     "data": {
      "text/markdown": [
       "\n"
      ],
      "text/plain": [
       "Revealables.Revealable(\"My third generation was a huge improvement; my fourth, not so much. \\nHere are the fitness ranks of my generations, if you're curious:<br clear=\\\"all\\\">\\nI: 19, 9, 8, -5<br clear=\\\"all\\\">\\nII: 13, 10, 3, 1<br clear=\\\"all\\\">\\nIII: 20, 15, 14, 10<br clear=\\\"all\\\">\\nIV: 28, 12, 11, -5<br clear=\\\"all\\\">\\n\\nThen I got hooked...<br clear=\\\"all\\\">\\nV: 21, 16, 12, 4<br clear=\\\"all\\\">\\nVI: 23, 21, 16, 6<br clear=\\\"all\\\">\\nVII: 21, 21, 21, 6<br clear=\\\"all\\\">\\n\\n\\nOne thing I noticed while getting hooked is that I wrote a program that made an array out of `rand(12)` and returned the location of anything less than 1/12, which saved some time. If you're curious, continue your own iterations with computer support. Depending on your programming experience, writing an entire program might take more time than doing it by hand.\\n\\nVIII: 24, 23, 21, 19.<br clear=\\\"all\\\">\\nI stopped here because it was lunchtime. The optimum solution is 1111 / 1111 / 0000 = 30. It's clear that successive generations are approaching the optimum, and also getting more uniform (though mutation keeps it interesting). Cool stuff.\\n\", \"Answer\", false, false)"
      ]
     },
     "execution_count": 1,
     "metadata": {},
     "output_type": "execute_result"
    }
   ],
   "source": [
    "using Revealables\n",
    "include(\"files/answers.jl\")"
   ]
  },
  {
   "cell_type": "markdown",
   "metadata": {},
   "source": [
    "##3-Point Interval: Recap\n",
    "<img src=\"files/2-2/3ptint.png\" width=250 align=\"left\" />\n",
    "A 3-point interval around an extreme gives you an idea of where that extreme might be, even if you don't know the graph. It gives you an important first step for calculations of the actual minimum or maximum.\n",
    "\n",
    "In this diagram, we've bracketed a local minimum between $x_k$ and $x_{k+2}$. $x_{k+1}$ is not important in itself &mdash; we don't know if it's the minimum, or slightly to the left or right of the actual minimum. Its importance lies in the fact that, because it has a lower y-value than either of the two endpoints, we know that the minimum must occur between those endpoints... somewhere.\n",
    "\n",
    "To find a 3-point interval around a *minimum*, these are the most basic steps:\n",
    "\n",
    "1. Pick a starting point $x$ and interval $h$. Test $x - h$ and $x + h$ to determine the direction of decrease.\n",
    "\n",
    "2. Continue to take steps in that direction until the y-values start going the other way.\n",
    "\n",
    "3. The last 3 points form your 3-point interval"
   ]
  },
  {
   "cell_type": "markdown",
   "metadata": {},
   "source": [
    "###Practice Problem / Program A\n",
    "Here is the instruction loop we used in unit 1. This loop will minimize f(x).\n",
    "\n",
    "1. Start with $(x, f(x))$.\n",
    "2. Find $(x+h, f(x+h))$ and check if $f(x+h)$ is lower than $f(x)$. If not, find $(x-h, f(x-h))$.\n",
    "3. Take one more step $h$ or $–h$.\n",
    "4. Check if you have reached the goal (middle point lower than both endpoints). \n",
    "    * If yes, stop.\n",
    "    * If no, return to step 3.\n",
    "\n",
    "Write a program to accomplish this task, given a preloaded function `f`, a starting point and an interval.\n",
    "\n",
    "Be sure to test your code."
   ]
  },
  {
   "cell_type": "code",
   "execution_count": null,
   "metadata": {
    "collapsed": true,
    "run_control": {
     "read_only": false
    }
   },
   "outputs": [],
   "source": [
    "# Program here"
   ]
  },
  {
   "cell_type": "code",
   "execution_count": null,
   "metadata": {
    "collapsed": true,
    "run_control": {
     "read_only": false
    }
   },
   "outputs": [],
   "source": [
    "# Test here"
   ]
  },
  {
   "cell_type": "code",
   "execution_count": 5,
   "metadata": {
    "run_control": {
     "read_only": false
    }
   },
   "outputs": [
    {
     "data": {
      "text/html": [],
      "text/plain": [
       "Interact.ToggleButton(10: \"input-4\" = true Bool , \"Answer\", true)"
      ]
     },
     "metadata": {},
     "output_type": "display_data"
    },
    {
     "data": {
      "text/markdown": [
       "###Answer A\n",
       "\n",
       "<p>In unit 1, of course, you did this by hand. </p>\n",
       "\n",
       "<p>It's a lot easier if you just keep the original x as one of the endpoints and only march the other endpoint, instead of marching both endpoints. This will work but will yield a very wide interval in some cases. If you do this and finish early, modify your program so that both endpoints march along.</p>\n",
       "\n",
       "<p>Here's my version:</p>\n",
       "<code>\n",
       "f(x) = x^2 - 4x  # this function is just to test, it can be changed\n",
       "\n",
       "function threept(f, x, int)  # f is above, x is the given start value, int is the interval (may be large, around 0.5)\n",
       "    a = x + int  # find first point location\n",
       "    if f(a) > f(x)  # test to see if the function is decreasing and...\n",
       "        int = -int  # ...reverse direction if not\n",
       "        a = x + int \n",
       "    end\n",
       "    b = a + int  # another step in same direction\n",
       "    while f(b) < f(a)  # this loop will run until f(b) is greater than f(a), ie an increase\n",
       "        x = a  # reassign variables here... this is what marches the entire interval along.\n",
       "        a = b \n",
       "        b = b + int \n",
       "    end\n",
       "    println(\"$x, $(f(x))\")  #print the three points in order found\n",
       "    println(\"$a, $(f(a))\")\n",
       "    println(\"$b, $(f(b))\")\n",
       "end\n",
       "</code>\n",
       "\n"
      ],
      "text/plain": [
       "Revealables.Revealable(\"###Answer A\\n\\n<p>In unit 1, of course, you did this by hand. </p>\\n\\n<p>It's a lot easier if you just keep the original x as one of the endpoints and only march the other endpoint, instead of marching both endpoints. This will work but will yield a very wide interval in some cases. If you do this and finish early, modify your program so that both endpoints march along.</p>\\n\\n<p>Here's my version:</p>\\n<code>\\nf(x) = x^2 - 4x  # this function is just to test, it can be changed\\n\\nfunction threept(f, x, int)  # f is above, x is the given start value, int is the interval (may be large, around 0.5)\\n    a = x + int  # find first point location\\n    if f(a) > f(x)  # test to see if the function is decreasing and...\\n        int = -int  # ...reverse direction if not\\n        a = x + int \\n    end\\n    b = a + int  # another step in same direction\\n    while f(b) < f(a)  # this loop will run until f(b) is greater than f(a), ie an increase\\n        x = a  # reassign variables here... this is what marches the entire interval along.\\n        a = b \\n        b = b + int \\n    end\\n    println(\\\"\\$x, \\$(f(x))\\\")  #print the three points in order found\\n    println(\\\"\\$a, \\$(f(a))\\\")\\n    println(\\\"\\$b, \\$(f(b))\\\")\\nend\\n</code>\\n\", \"Answer\", true, false)"
      ]
     },
     "execution_count": 5,
     "metadata": {
      "comm_id": "41bc7cde-a5b4-498d-8949-5f2a420de539",
      "reactive": true
     },
     "output_type": "execute_result"
    }
   ],
   "source": [
    "revealable(ans202A)"
   ]
  },
  {
   "cell_type": "markdown",
   "metadata": {},
   "source": [
    "##Practice Problem B &mdash; Analyzing the Program\n",
    "Although the execution of the loop was really fast, it's still useful to know how many iterations it had to run. Add a counter to your program to report how many iterations it takes, then find the number of iterations for...\n",
    "\n",
    "1. $f(x) = x^2 - 4x$, $x = 5$, $h = 0.1$\n",
    "2. $f(x) = x^2 - 4x$, $x = 5$, $h = 0.5$\n",
    "3. $f(x) = x^2 - 3x + 5$, $x = -12$, $h = 0.01$\n",
    "4. $f(x) = x^2 - 3x + 5$, $x = -12$, $h = 1$\n"
   ]
  },
  {
   "cell_type": "code",
   "execution_count": null,
   "metadata": {
    "collapsed": true,
    "run_control": {
     "read_only": false
    }
   },
   "outputs": [],
   "source": [
    "# Save the notebook(!!!) and then edit your program directly.\n",
    "# Test it here:\n"
   ]
  },
  {
   "cell_type": "code",
   "execution_count": 3,
   "metadata": {
    "run_control": {
     "read_only": false
    }
   },
   "outputs": [
    {
     "data": {
      "text/html": [],
      "text/plain": [
       "Interact.ToggleButton(4: \"input-2\" = false Bool , \"Answer\", false)"
      ]
     },
     "metadata": {},
     "output_type": "display_data"
    },
    {
     "data": {
      "text/markdown": [
       "\n"
      ],
      "text/plain": [
       "Revealables.Revealable(\"###Answer B\\n\\nThe value of h controls two things: first, how accurate your interval is; and second, how many iterations are run. This was discussed in the previous unit: h too large and your interval could be inaccurate (or you might skip over it); h too small and your iteration count goes through the roof. \\n\\nHere's my program with the counter thrown in:\\n\\n<code>\\nfunction threept(f, x, int)\\n    a = x + int\\n    if f(a) > f(x)\\n        int = -int \\n        a = x + int \\n    end\\n    b = a + int \\n    iter = 0\\n    while f(b) < f(a)\\n        x = a \\n        a = b \\n        b = b + int \\n        iter = iter + 1\\n    end\\n    println(\\\"\\$x, \\$(f(x))\\\")\\n    println(\\\"\\$a, \\$(f(a))\\\")\\n    println(\\\"\\$b, \\$(f(b))\\\")\\n    println(iter)\\nend\\n</code>\\n\", \"Answer\", false, false)"
      ]
     },
     "execution_count": 3,
     "metadata": {
      "comm_id": "0c093c66-cdc7-44d7-a0c4-f4d2a3bdc8ef",
      "reactive": true
     },
     "output_type": "execute_result"
    }
   ],
   "source": [
    "revealable(ans202B)"
   ]
  },
  {
   "cell_type": "markdown",
   "metadata": {},
   "source": [
    "##Refining the Program\n",
    "In the past unit, we considered two potential problems with $h$:\n",
    "\n",
    "* If $h$ is too big, your margin of error is large and you risk skipping over the maximum or minimum completely.\n",
    "* If $h$ is too small, the calculations become too numerous.\n",
    "\n",
    "The solution to the problem with $h$ is to start with a small $h$ and make it larger as the loops count up. Our <font color=\"#ff0000\">modified</font> loop was this:\n",
    "\n",
    "1. Start with $(x,~ f(x))$.\n",
    "2. Find $(x+h,~ f(x+h))$ and check if it’s going the right direction. If not, find $(x-h,~ f(x-h))$.\n",
    "3. Take one more step $h$ or $–h$.\n",
    "4. Check if you have reached the goal (middle point higher/lower than both endpoints). \n",
    "   * If yes, stop.\n",
    "   * If no, <font color=\"#ff0000\">increase $h$ and</font> return to step 3.\n",
    "\n",
    "We also talked about how to increase $h$. Doubling tends to be too fast, 1.5 leads to ugly decimals, so a common compromise is to use Fibonacci multiples of $h$. "
   ]
  },
  {
   "cell_type": "markdown",
   "metadata": {},
   "source": [
    "###Practice Problem C\n",
    "Modify your program so that the value of $h$ increases each time you loop through. \n",
    "\n",
    "First attempt – use a multiplier of 1.5 for $h$.\n",
    "\n",
    "Second attempt – increment using Fibonacci number multiples of $h$.\n",
    "\n",
    "Test your code with low initial values of $h$; the iteration counter should be much lower.\n",
    "\n",
    "__Save and document__ this program! You will want it later."
   ]
  },
  {
   "cell_type": "code",
   "execution_count": null,
   "metadata": {
    "collapsed": true,
    "run_control": {
     "read_only": false
    }
   },
   "outputs": [],
   "source": [
    "# 3-point interval with Fibonacci multiples\n",
    "\n",
    "\n"
   ]
  },
  {
   "cell_type": "markdown",
   "metadata": {},
   "source": [
    "Done quickly? Catch the rare situation where both $f(x + h)$ and $f(x – h)$ are higher than $f(x)$, essentially giving us our three-point interval right off the bat. "
   ]
  },
  {
   "cell_type": "code",
   "execution_count": 4,
   "metadata": {
    "run_control": {
     "read_only": false
    },
    "scrolled": false
   },
   "outputs": [
    {
     "data": {
      "text/html": [],
      "text/plain": [
       "Interact.ToggleButton(7: \"input-3\" = false Bool , \"Answer\", false)"
      ]
     },
     "metadata": {},
     "output_type": "display_data"
    },
    {
     "data": {
      "text/markdown": [
       "\n"
      ],
      "text/plain": [
       "Revealables.Revealable(\"###Answer C\\n\\nThe first attempt is fairly straightforward, and the second a little harder.\\n\\nFor the first, a line just before the end of the `while` loop saying `h = 1.5h` will suffice.\\n\\nFor the second, one option is to create a bunch of new variables for the intervals. This is ugly but sufficient.\\n\\nA much more elegant trick is to notice that the sum of the last two intervals is merely the difference between the first and third current points. In my code, the three points were named `x`, `a`, `b`; so I added a line just before the end of the `while` loop saying `h = b - x`.  \\n\\nMy final code, with counter:\\n\\n<code>\\nfunction threept(f, x, int)\\n    a = x + int\\n    if f(a) > f(x)\\n        int = -int \\n        a = x + int \\n    end\\n    b = a + int \\n    iter = 0\\n    while f(b) < f(a)\\n        x = a \\n        a = b \\n        b = b + int \\n        iter = iter + 1\\n        int = b - x  # new line: create Fibonacci incrementation of interval width\\n    end\\n    println(\\\"\\$x, \\$(f(x))\\\")\\n    println(\\\"\\$a, \\$(f(a))\\\")\\n    println(\\\"\\$b, \\$(f(b))\\\")\\n    println(iter)\\nend\\n</code>\\n\", \"Answer\", false, false)"
      ]
     },
     "execution_count": 4,
     "metadata": {
      "comm_id": "a9048919-0d2b-4138-8810-97cb2aa3e01d",
      "reactive": true
     },
     "output_type": "execute_result"
    }
   ],
   "source": [
    "revealable(ans202C)"
   ]
  },
  {
   "cell_type": "code",
   "execution_count": null,
   "metadata": {
    "collapsed": true,
    "run_control": {
     "read_only": false
    }
   },
   "outputs": [],
   "source": []
  }
 ],
 "metadata": {
  "kernelspec": {
   "display_name": "Julia 0.6.0",
   "language": "julia",
   "name": "julia-0.6"
  },
  "language_info": {
   "file_extension": ".jl",
   "mimetype": "application/julia",
   "name": "julia",
   "version": "0.6.0"
  }
 },
 "nbformat": 4,
 "nbformat_minor": 1
}
