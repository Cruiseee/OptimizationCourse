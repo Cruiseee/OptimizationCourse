{
 "cells": [
  {
   "cell_type": "markdown",
   "metadata": {
    "run_control": {
     "read_only": false
    }
   },
   "source": [
    "# 2-12 Minimizing in 3D With Cyclic Coordinate Search"
   ]
  },
  {
   "cell_type": "code",
   "execution_count": 2,
   "metadata": {
    "collapsed": false,
    "run_control": {
     "read_only": false
    }
   },
   "outputs": [
    {
     "data": {
      "text/html": [
       "<script charset=\"utf-8\">(function ($, undefined) {\n",
       "\n",
       "    function createElem(tag, attr, content) {\n",
       "\t// TODO: remove jQuery dependency\n",
       "\tvar el = $(\"<\" + tag + \"/>\").attr(attr);\n",
       "\tif (content) {\n",
       "\t    el.append(content);\n",
       "\t}\n",
       "\treturn el[0];\n",
       "    }\n",
       "\n",
       "    // A widget must expose an id field which identifies it to the backend,\n",
       "    // an elem attribute which is will be added to the DOM, and\n",
       "    // a getState() method which returns the value to be sent to the backend\n",
       "    // a sendUpdate() method which sends its current value to the backend\n",
       "    var Widget = {\n",
       "\tid: undefined,\n",
       "\telem: undefined,\n",
       "\tlabel: undefined,\n",
       "\tgetState: function () {\n",
       "\t    return this.elem.value;\n",
       "\t},\n",
       "\tsendUpdate: undefined\n",
       "    };\n",
       "\n",
       "    var Slider = function (typ, id, init) {\n",
       "\tvar attr = { type:  \"range\",\n",
       "\t\t     value: init.value,\n",
       "\t\t     min:   init.min,\n",
       "\t\t     max:   init.max,\n",
       "\t\t     step:  init.step },\n",
       "\t    elem = createElem(\"input\", attr),\n",
       "\t    self = this;\n",
       "\n",
       "\telem.onchange = function () {\n",
       "\t    self.sendUpdate();\n",
       "\t}\n",
       "\n",
       "\tthis.id = id;\n",
       "\tthis.elem = elem;\n",
       "\tthis.label = init.label;\n",
       "\n",
       "\tInputWidgets.commInitializer(this); // Initialize communication\n",
       "    }\n",
       "    Slider.prototype = Widget;\n",
       "\n",
       "    var Checkbox = function (typ, id, init) {\n",
       "\tvar attr = { type: \"checkbox\",\n",
       "\t\t     checked: init.value },\n",
       "\t    elem = createElem(\"input\", attr),\n",
       "\t    self = this;\n",
       "\n",
       "\tthis.getState = function () {\n",
       "\t    return elem.checked;\n",
       "\t}\n",
       "\telem.onchange = function () {\n",
       "\t    self.sendUpdate();\n",
       "\t}\n",
       "\n",
       "\tthis.id = id;\n",
       "\tthis.elem = elem;\n",
       "\tthis.label = init.label;\n",
       "\n",
       "\tInputWidgets.commInitializer(this);\n",
       "    }\n",
       "    Checkbox.prototype = Widget;\n",
       "\n",
       "    var Button = function (typ, id, init) {\n",
       "\tvar attr = { type:    \"button\",\n",
       "\t\t     value:   init.label },\n",
       "\t    elem = createElem(\"input\", attr),\n",
       "\t    self = this;\n",
       "\tthis.getState = function () {\n",
       "\t    return null;\n",
       "\t}\n",
       "\telem.onclick = function () {\n",
       "\t    self.sendUpdate();\n",
       "\t}\n",
       "\n",
       "\tthis.id = id;\n",
       "\tthis.elem = elem;\n",
       "\tthis.label = init.label;\n",
       "\n",
       "\tInputWidgets.commInitializer(this);\n",
       "    }\n",
       "    Button.prototype = Widget;\n",
       "\n",
       "    var Text = function (typ, id, init) {\n",
       "\tvar attr = { type:  \"text\",\n",
       "\t\t     placeholder: init.label,\n",
       "\t\t     value: init.value },\n",
       "\t    elem = createElem(\"input\", attr),\n",
       "\t    self = this;\n",
       "\tthis.getState = function () {\n",
       "\t    return elem.value;\n",
       "\t}\n",
       "\telem.onkeyup = function () {\n",
       "\t    self.sendUpdate();\n",
       "\t}\n",
       "\n",
       "\tthis.id = id;\n",
       "\tthis.elem = elem;\n",
       "\tthis.label = init.label;\n",
       "\n",
       "\tInputWidgets.commInitializer(this);\n",
       "    }\n",
       "    Text.prototype = Widget;\n",
       "\n",
       "    var Textarea = function (typ, id, init) {\n",
       "\tvar attr = { placeholder: init.label },\n",
       "\t    elem = createElem(\"textarea\", attr, init.value),\n",
       "\t    self = this;\n",
       "\tthis.getState = function () {\n",
       "\t    return elem.value;\n",
       "\t}\n",
       "\telem.onchange = function () {\n",
       "\t    self.sendUpdate();\n",
       "\t}\n",
       "\n",
       "\tthis.id = id;\n",
       "\tthis.elem = elem;\n",
       "\tthis.label = init.label;\n",
       "\n",
       "\tInputWidgets.commInitializer(this);\n",
       "    }\n",
       "    Textarea.prototype = Widget;\n",
       "\n",
       "    // RadioButtons\n",
       "    // Dropdown\n",
       "    // HTML\n",
       "    // Latex\n",
       "\n",
       "    var InputWidgets = {\n",
       "\tSlider: Slider,\n",
       "\tCheckbox: Checkbox,\n",
       "\tButton: Button,\n",
       "\tText: Text,\n",
       "\tTextarea: Textarea,\n",
       "\tdebug: false,\n",
       "\tlog: function () {\n",
       "\t    if (InputWidgets.debug) {\n",
       "\t\tconsole.log.apply(console, arguments);\n",
       "\t    }\n",
       "\t},\n",
       "\t// a central way to initalize communication\n",
       "\t// for widgets.\n",
       "\tcommInitializer: function (widget) {\n",
       "\t    widget.sendUpdate = function () {};\n",
       "\t}\n",
       "    };\n",
       "\n",
       "    window.InputWidgets = InputWidgets;\n",
       "\n",
       "})(jQuery, undefined);\n",
       "</script>"
      ]
     },
     "metadata": {},
     "output_type": "display_data"
    },
    {
     "data": {
      "text/html": [
       "<script charset=\"utf-8\">(function (IPython, $, _, MathJax, Widgets) {\n",
       "    $.event.special.destroyed = {\n",
       "\tremove: function(o) {\n",
       "\t    if (o.handler) {\n",
       "\t\to.handler.apply(this, arguments)\n",
       "\t    }\n",
       "\t}\n",
       "    }\n",
       "\n",
       "    var redrawValue = function (container, type, val) {\n",
       "\tvar selector = $(\"<div/>\");\n",
       "\tvar oa = new IPython.OutputArea(_.extend(selector, {\n",
       "\t    selector: selector,\n",
       "\t    prompt_area: true,\n",
       "\t    events: IPython.events,\n",
       "\t    keyboard_manager: IPython.keyboard_manager\n",
       "\t})); // Hack to work with IPython 2.1.0\n",
       "\n",
       "\tswitch (type) {\n",
       "\tcase \"image/png\":\n",
       "            var _src = 'data:' + type + ';base64,' + val;\n",
       "\t    $(container).find(\"img\").attr('src', _src);\n",
       "\t    break;\n",
       "\tdefault:\n",
       "\t    var toinsert = IPython.OutputArea.append_map[type].apply(\n",
       "\t\toa, [val, {}, selector]\n",
       "\t    );\n",
       "\t    $(container).empty().append(toinsert.contents());\n",
       "\t    selector.remove();\n",
       "\t}\n",
       "\tif (type === \"text/latex\" && MathJax) {\n",
       "\t    MathJax.Hub.Queue([\"Typeset\", MathJax.Hub, toinsert.get(0)]);\n",
       "\t}\n",
       "    }\n",
       "\n",
       "\n",
       "    $(document).ready(function() {\n",
       "\tWidgets.debug = false; // log messages etc in console.\n",
       "\tfunction initComm(evt, data) {\n",
       "\t    var comm_manager = data.kernel.comm_manager;\n",
       "        //_.extend(comm_manager.targets, require(\"widgets/js/widget\"))\n",
       "\t    comm_manager.register_target(\"Signal\", function (comm) {\n",
       "            comm.on_msg(function (msg) {\n",
       "                //Widgets.log(\"message received\", msg);\n",
       "                var val = msg.content.data.value;\n",
       "                $(\".signal-\" + comm.comm_id).each(function() {\n",
       "                var type = $(this).data(\"type\");\n",
       "                if (val[type]) {\n",
       "                    redrawValue(this, type, val[type], type);\n",
       "                }\n",
       "                });\n",
       "                delete val;\n",
       "                delete msg.content.data.value;\n",
       "            });\n",
       "\t    });\n",
       "\n",
       "\t    // coordingate with Comm and redraw Signals\n",
       "\t    // XXX: Test using Reactive here to improve performance\n",
       "\t    $([IPython.events]).on(\n",
       "\t\t'output_appended.OutputArea', function (event, type, value, md, toinsert) {\n",
       "\t\t    if (md && md.reactive) {\n",
       "                // console.log(md.comm_id);\n",
       "                toinsert.addClass(\"signal-\" + md.comm_id);\n",
       "                toinsert.data(\"type\", type);\n",
       "                // Signal back indicating the mimetype required\n",
       "                var comm_manager = IPython.notebook.kernel.comm_manager;\n",
       "                var comm = comm_manager.comms[md.comm_id];\n",
       "                comm.then(function (c) {\n",
       "                    c.send({action: \"subscribe_mime\",\n",
       "                       mime: type});\n",
       "                    toinsert.bind(\"destroyed\", function() {\n",
       "                        c.send({action: \"unsubscribe_mime\",\n",
       "                               mime: type});\n",
       "                    });\n",
       "                })\n",
       "\t\t    }\n",
       "\t    });\n",
       "\t}\n",
       "\n",
       "\ttry {\n",
       "\t    // try to initialize right away. otherwise, wait on the status_started event.\n",
       "\t    initComm(undefined, IPython.notebook);\n",
       "\t} catch (e) {\n",
       "\t    $([IPython.events]).on('status_started.Kernel', initComm);\n",
       "\t}\n",
       "    });\n",
       "})(IPython, jQuery, _, MathJax, InputWidgets);\n",
       "</script>"
      ]
     },
     "metadata": {},
     "output_type": "display_data"
    },
    {
     "data": {
      "text/markdown": [
       "\n"
      ],
      "text/plain": [
       "Revealable(\"###Answer E\\nThis program contains 3 separate minimizers. Sorry. There is definitely a more elegant solution that reuses code, probably with a subprogram. I hope you found a better way!\\n<code>\\nfunction cyclic(f, a, b)  # f is a function in 2 variables, (a, b) is the seed point \\n    q = 20  # any high number will do\\n    f1 = 0 \\n    f2 = 20\\n    while abs(f1 - f2) > 0.0001  # tolerance for final answer\\n        # fibmin loop 1 starts here\\n        phi = (-1+(5)^(1/2))/2  # phi, the golden ratio, used for sectioning below.\\n        maxlim = 10  # interval endpoints, change as needed\\n        minlim = -10\\n        int = maxlim - minlim\\n        while int > 0.000001  # tolerance, change as needed\\n            subdiv = phi*int\\n            lefttest = maxlim - subdiv  # this line and the next create two points within the interval...\\n            righttest = minlim + subdiv\\n            if f(lefttest, b) < f(righttest, b)  # ...while this loop tests the interior points in the function and shifts the interval endpoints inward accordingly.\\n                maxlim = righttest\\n            else\\n                minlim = lefttest\\n            end\\n            int = maxlim - minlim\\n        end\\n        c = (maxlim + minlim)/2\\n        # fibmin loop 1 ends here\\n  \\n        # fibmin loop 2 starts here\\n        maxlim = 10  # interval endpoints, change as needed\\n        minlim = -10\\n        int = maxlim - minlim\\n        while int > 0.000001  # tolerance, change as needed\\n            subdiv = phi*int\\n            lefttest = maxlim - subdiv  # this line and the next create two points within the interval...\\n            righttest = minlim + subdiv\\n            if f(c, lefttest) < f(c, righttest)  # ...while this loop tests the interior points in the function and shifts the interval endpoints inward accordingly.\\n                maxlim = righttest\\n            else\\n                minlim = lefttest\\n            end\\n            int = maxlim - minlim\\n        end\\n        d = (maxlim + minlim)/2\\n        # fibmin loop 2 ends here\\n      \\n        g(x) = f(c + (c-a)*x, d + (d-b)*x)  # redefining f(x) as a single-variable function composed of vector translation from (a,b) beyond (c,d).\\n      \\n        # fibmin loop 3 starts here\\n        maxlim = 10  # interval endpoints, change as needed\\n        minlim = -10\\n        int = maxlim - minlim\\n        while int > 0.000001  # tolerance, change as needed\\n            subdiv = phi*int\\n            lefttest = maxlim - subdiv  # this line and the next create two points within the interval...\\n            righttest = minlim + subdiv\\n            if g(lefttest) < g(righttest)  # ...while this loop tests the interior points in the function and shifts the interval endpoints inward accordingly.\\n                maxlim = righttest\\n            else\\n                minlim = lefttest\\n            end\\n            int = maxlim - minlim\\n        end\\n        q = (maxlim + minlim)/2\\n        # fibmin loop 3 ends here\\n      \\n        f1 = f(a, b)\\n        a = c + (c-a)*q\\n        b = d + (d-b)*q\\n        f2 = f(a,b)\\n      \\n    end\\n  \\n  println(\\\"x1 = \\$a, x2 = \\$b, value = \\$(f(a, b))\\\")\\nend\\n</code>\\n\",\"Answer\",false)"
      ]
     },
     "execution_count": 2,
     "metadata": {},
     "output_type": "execute_result"
    }
   ],
   "source": [
    "using Revealables\n",
    "include(\"files/answers.jl\")"
   ]
  },
  {
   "cell_type": "markdown",
   "metadata": {},
   "source": [
    "With a 3D object, any [cross-section](https://www.mathsisfun.com/geometry/cross-sections.html) forms a 2-dimensional object.  \n",
    "<img src=\"files/2-12/xsections.png\" width=350 />\n",
    "Also: any 4D graph will cross-section to a 3D object (try to visualize that one!), just as any 2D object will cross-section to a line or set of collinear points, and a 1D object to a point.\n",
    "\n",
    "Similarly, with a 3D *function* any cross-section will form a 2D *function*.\n",
    "\n",
    "Looking at the cross-sections of this 3D graph, what shapes do you see?\n",
    "\n",
    "<img src=\"files/2-12/function3d.png\" width=350 />"
   ]
  },
  {
   "cell_type": "code",
   "execution_count": null,
   "metadata": {
    "collapsed": false,
    "run_control": {
     "read_only": false
    }
   },
   "outputs": [],
   "source": [
    "revealable(xsection)"
   ]
  },
  {
   "cell_type": "markdown",
   "metadata": {},
   "source": [
    "This is the graph of the function $f(x_1, x_2) = (x_1)^2 + 2(x_2)^2$.\n",
    "\n",
    "The reason you see parabolas is that, if we set $x_2$ to a constant, we get $f(x_1) = (x_1)^2 + c$, a parabola. You will also get a parabola if $x_1$ is constant.\n",
    "\n",
    "The horizontal cross-sections, ellipses, are formed when $f$ is constant: $(x_1)^2 + 2(x_2)^2 = c$. We're going to ignore the ellipses because we're trying to minimize $f$, so it makes no sense to hold $f$ constant.\n",
    "\n",
    "The reason this is useful information is that you already have programs that minimize one-variable functions (which create 2-dimensional graphs). These include the golden section method and the slopes method.\n",
    "\n",
    "A 2-D minimum won't find the minimum of the entire graph, but it will find the minimum of a cross section. Then if we repeat a few times, we can get the minimum of the graph. "
   ]
  },
  {
   "cell_type": "markdown",
   "metadata": {},
   "source": [
    "###Practice Problem A\n",
    "Use the function $f(x_1, x_2) = (x_1 - 3)^2 + (x_2 + 5)^2$ and starting point $(-2, -1)$. \n",
    "1. Rewrite the function substituting $x_2 = -1$. \n",
    "2. Use any of your minimization programs to find the minimum value of the resulting function.\n",
    "3. Rewrite the original function substituting $x_1$ with its minimized value from part 2, then minimize $x_2$.\n"
   ]
  },
  {
   "cell_type": "code",
   "execution_count": null,
   "metadata": {
    "collapsed": true,
    "run_control": {
     "read_only": false
    }
   },
   "outputs": [],
   "source": [
    "# Rewrite the function as described in part 1\n",
    "\n",
    "# Find the minimum value of the function\n"
   ]
  },
  {
   "cell_type": "code",
   "execution_count": null,
   "metadata": {
    "collapsed": true,
    "run_control": {
     "read_only": false
    }
   },
   "outputs": [],
   "source": [
    "# Rewrite the function as described in part 3\n",
    "\n",
    "# Minimize x2\n"
   ]
  },
  {
   "cell_type": "code",
   "execution_count": null,
   "metadata": {
    "collapsed": false,
    "run_control": {
     "read_only": false
    }
   },
   "outputs": [],
   "source": [
    "revealable(ans212A)"
   ]
  },
  {
   "cell_type": "markdown",
   "metadata": {},
   "source": [
    "###Practice Problem B\n",
    "Using the function $f(x_1, x_2) = (x_1)^2 + 2(x_2)^2 + 2x_1x_2$ and starting point $(0.5, 1)$, execute one cycle of the algorithm (meaning, minimize $x_1$ and then $x_2$ and write down the resulting values).\n",
    "\n",
    "Calculate the value of $f(x_1, x_2)$ at the original point and at the new point. Also, calculate the vector from the original point to the new point.\n"
   ]
  },
  {
   "cell_type": "code",
   "execution_count": null,
   "metadata": {
    "collapsed": true,
    "run_control": {
     "read_only": false
    }
   },
   "outputs": [],
   "source": [
    "# Use your old programs to solve this problem!\n"
   ]
  },
  {
   "cell_type": "code",
   "execution_count": null,
   "metadata": {
    "collapsed": true,
    "run_control": {
     "read_only": false
    }
   },
   "outputs": [],
   "source": [
    "revealable(ans212B)"
   ]
  },
  {
   "cell_type": "markdown",
   "metadata": {},
   "source": [
    "##Introducing a New Variable\n",
    "The next step is not to just adopt the new point. Instead, we create a vector from the old point to the new point and minimize from the new point in that direction. The math looks like this:\n",
    "\n",
    "<font color=\"#993333\">new point: $(p_1, p_2)$</font> <font color=\"#336699\">= known</font><br />\n",
    "<font color=\"#993333\">vector: $<v_1, v_2>$</font> <font color=\"#336699\">= known</font><br />\n",
    "<font color=\"#993333\">scalar: $a$</font> <font color=\"#336699\">= unknown</font><br />\n",
    "\n",
    "end point = new point + scalar · vector<br />\n",
    "\n",
    "end point = $(p_1 + a·v_1, p_2 + a·v_2)$<br />\n"
   ]
  },
  {
   "cell_type": "markdown",
   "metadata": {},
   "source": [
    "###Practice Problem C\n",
    "Use the function $f(x_1, x_2) = (x_1)^2 + 2(x_2)^2 + 2x_1x_2$ with the new point $(-1, .5)$ and vector $<-1.5, -.5>$ as calculated in Practice Problem B.\n",
    "1. Write the end point as $(p_1 + a·v_1, p_2 + a·v_2)$ with all the known numbers filled in. The only variable should be $a$.\n",
    "2. Plug the end point into the function; it is not necessary to simplify.\n"
   ]
  },
  {
   "cell_type": "code",
   "execution_count": null,
   "metadata": {
    "collapsed": true,
    "run_control": {
     "read_only": false
    }
   },
   "outputs": [],
   "source": [
    "# Code here\n"
   ]
  },
  {
   "cell_type": "code",
   "execution_count": null,
   "metadata": {
    "collapsed": true,
    "run_control": {
     "read_only": false
    }
   },
   "outputs": [],
   "source": [
    "# Test here"
   ]
  },
  {
   "cell_type": "code",
   "execution_count": 4,
   "metadata": {
    "collapsed": false,
    "run_control": {
     "read_only": false
    }
   },
   "outputs": [
    {
     "data": {
      "text/html": [],
      "text/plain": [
       "ToggleButton([Input{Bool}] false,\"Answer\",false)"
      ]
     },
     "metadata": {},
     "output_type": "display_data"
    },
    {
     "data": {
      "text/markdown": [
       "\n"
      ],
      "text/plain": [
       "Revealable(\"###Answer C\\n1. The new point is (-1-1.5a, .5 -.5a)\\n2. The raw version is f(x<sub>1</sub>, x<sub>2</sub>) = (-1 - 1.5a)<sup>2</sup> + 2(.5 - .5a)<sup>2</sup> + 2(-1 - 1.5a)(.5 - .5a). If you simplified, you would get f = 4.25a<sup>2</sup> + 1.5a + .5.\\n\\nNotice in Part 2: the new function is a function in one variable, and therefore *can be minimized*. \\n\",\"Answer\",false)"
      ]
     },
     "execution_count": 4,
     "metadata": {
      "comm_id": "b5f989f5-105b-4885-a5fa-536ab3ed59ff",
      "reactive": true
     },
     "output_type": "execute_result"
    }
   ],
   "source": [
    "revealable(ans212C)"
   ]
  },
  {
   "cell_type": "markdown",
   "metadata": {},
   "source": [
    "##The \"Acceleration Step\"\n",
    "After forming the new point from the old point, known vector, and scalar $a$, plug the $x_1$ and $x_2$ of the end point into the equation. This gives an equation in one variable, like the one you just found.\n",
    "\n",
    "The next step is to minimize that equation. This is known as the \"acceleration step.\" "
   ]
  },
  {
   "cell_type": "markdown",
   "metadata": {},
   "source": [
    "###Practice Problem D\n",
    "1. Use one of your 1-variable minimization programs to minimize the equation from Problem C2.\n",
    "\n",
    "2. Plug the minimizing value of $a$ into the coordinates for the end point to get numerical values for $x_1$ and $x_2$. This is the actual end point.\n",
    "\n",
    "3. Find the value of the function at this point.\n"
   ]
  },
  {
   "cell_type": "code",
   "execution_count": null,
   "metadata": {
    "collapsed": true,
    "run_control": {
     "read_only": false
    }
   },
   "outputs": [],
   "source": [
    "# Minimize the equation\n"
   ]
  },
  {
   "cell_type": "code",
   "execution_count": null,
   "metadata": {
    "collapsed": true,
    "run_control": {
     "read_only": false
    }
   },
   "outputs": [],
   "source": [
    "# Get the end point\n"
   ]
  },
  {
   "cell_type": "code",
   "execution_count": null,
   "metadata": {
    "collapsed": true,
    "run_control": {
     "read_only": false
    }
   },
   "outputs": [],
   "source": [
    "# Find the value of f at the end point\n"
   ]
  },
  {
   "cell_type": "code",
   "execution_count": 3,
   "metadata": {
    "collapsed": false,
    "run_control": {
     "read_only": false
    }
   },
   "outputs": [
    {
     "data": {
      "text/html": [],
      "text/plain": [
       "ToggleButton([Input{Bool}] false,\"Answer\",false)"
      ]
     },
     "metadata": {},
     "output_type": "display_data"
    },
    {
     "data": {
      "text/markdown": [
       "\n"
      ],
      "text/plain": [
       "Revealable(\"###Answer D\\n1. a = -0.17647.\\n2. Since the new point was (-1 - 1.5a, .5 - .5a), plugging in a = -0.17647 yields (-0.7353, 0.5882).\\n3. f(-0.7353, 0.5882) = 0.3676.\\n\",\"Answer\",false)"
      ]
     },
     "execution_count": 3,
     "metadata": {
      "comm_id": "e75de866-4fa3-4447-a96d-0387a22c446c",
      "reactive": true
     },
     "output_type": "execute_result"
    }
   ],
   "source": [
    "revealable(ans212D)"
   ]
  },
  {
   "cell_type": "markdown",
   "metadata": {},
   "source": [
    "##Cyclic Coordinate Search: The Whole Algorithm\n",
    "The last step is to repeat the process until the change in the function value with each step is very small (below a given tolerance).\n",
    "\n",
    "All the steps, in order:\n",
    "1. Minimize $x_1$ with $x_2$ constant, then minimize $x_2$ with $x_1$ constant. This is the new point.\n",
    "2. Find the vector from the original point to the new point, then form the end point using scalar $a$.\n",
    "3. Minimize the function formed by plugging the end point into the equation.\n",
    "4. Solve for the end point and repeat until the change in $f$ is below tolerance.\n",
    "\n",
    "Reminder: in in step 1, $x_2$ is constant with the value of $x_2$ in the seed point. After minimizing for $x_1$, you use that value (not the seed point) in calculating the minimum of $x_2$.\n"
   ]
  },
  {
   "cell_type": "markdown",
   "metadata": {},
   "source": [
    "###Practice Problem E\n",
    "Write a program that will perform a cyclic coordinate search around a given function `f(x1, x2)` with a given starting point `(a, b)`. \n",
    "\n",
    "One way to do this is to copy and paste your minimization code three times, with slight modifications; there might be a better way.\n",
    "\n",
    "Write your program to loop until the change in the value of `f` is below 0.0001."
   ]
  },
  {
   "cell_type": "code",
   "execution_count": null,
   "metadata": {
    "collapsed": true,
    "run_control": {
     "read_only": false
    }
   },
   "outputs": [],
   "source": [
    "# Write your program here"
   ]
  },
  {
   "cell_type": "code",
   "execution_count": null,
   "metadata": {
    "collapsed": true,
    "run_control": {
     "read_only": false
    }
   },
   "outputs": [],
   "source": [
    "# Test it here"
   ]
  },
  {
   "cell_type": "code",
   "execution_count": 5,
   "metadata": {
    "collapsed": false,
    "run_control": {
     "read_only": false
    }
   },
   "outputs": [
    {
     "data": {
      "text/html": [],
      "text/plain": [
       "ToggleButton([Input{Bool}] false,\"Answer\",false)"
      ]
     },
     "metadata": {},
     "output_type": "display_data"
    },
    {
     "data": {
      "text/markdown": [
       "\n"
      ],
      "text/plain": [
       "Revealable(\"###Answer E\\nThis program contains 3 separate minimizers. Sorry. There is definitely a more elegant solution that reuses code, probably with a subprogram. I hope you found a better way!\\n<code>\\nfunction cyclic(f, a, b)  # f is a function in 2 variables, (a, b) is the seed point \\n    q = 20  # any high number will do\\n    f1 = 0 \\n    f2 = 20\\n    while abs(f1 - f2) > 0.0001  # tolerance for final answer\\n        # fibmin loop 1 starts here\\n        phi = (-1+(5)^(1/2))/2  # phi, the golden ratio, used for sectioning below.\\n        maxlim = 10  # interval endpoints, change as needed\\n        minlim = -10\\n        int = maxlim - minlim\\n        while int > 0.000001  # tolerance, change as needed\\n            subdiv = phi*int\\n            lefttest = maxlim - subdiv  # this line and the next create two points within the interval...\\n            righttest = minlim + subdiv\\n            if f(lefttest, b) < f(righttest, b)  # ...while this loop tests the interior points in the function and shifts the interval endpoints inward accordingly.\\n                maxlim = righttest\\n            else\\n                minlim = lefttest\\n            end\\n            int = maxlim - minlim\\n        end\\n        c = (maxlim + minlim)/2\\n        # fibmin loop 1 ends here\\n  \\n        # fibmin loop 2 starts here\\n        maxlim = 10  # interval endpoints, change as needed\\n        minlim = -10\\n        int = maxlim - minlim\\n        while int > 0.000001  # tolerance, change as needed\\n            subdiv = phi*int\\n            lefttest = maxlim - subdiv  # this line and the next create two points within the interval...\\n            righttest = minlim + subdiv\\n            if f(c, lefttest) < f(c, righttest)  # ...while this loop tests the interior points in the function and shifts the interval endpoints inward accordingly.\\n                maxlim = righttest\\n            else\\n                minlim = lefttest\\n            end\\n            int = maxlim - minlim\\n        end\\n        d = (maxlim + minlim)/2\\n        # fibmin loop 2 ends here\\n      \\n        g(x) = f(c + (c-a)*x, d + (d-b)*x)  # redefining f(x) as a single-variable function composed of vector translation from (a,b) beyond (c,d).\\n      \\n        # fibmin loop 3 starts here\\n        maxlim = 10  # interval endpoints, change as needed\\n        minlim = -10\\n        int = maxlim - minlim\\n        while int > 0.000001  # tolerance, change as needed\\n            subdiv = phi*int\\n            lefttest = maxlim - subdiv  # this line and the next create two points within the interval...\\n            righttest = minlim + subdiv\\n            if g(lefttest) < g(righttest)  # ...while this loop tests the interior points in the function and shifts the interval endpoints inward accordingly.\\n                maxlim = righttest\\n            else\\n                minlim = lefttest\\n            end\\n            int = maxlim - minlim\\n        end\\n        q = (maxlim + minlim)/2\\n        # fibmin loop 3 ends here\\n      \\n        f1 = f(a, b)\\n        a = c + (c-a)*q\\n        b = d + (d-b)*q\\n        f2 = f(a,b)\\n      \\n    end\\n  \\n  println(\\\"x1 = \\$a, x2 = \\$b, value = \\$(f(a, b))\\\")\\nend\\n</code>\\n\",\"Answer\",false)"
      ]
     },
     "execution_count": 5,
     "metadata": {
      "comm_id": "bebf5b9e-5b55-4192-8fd0-d066e84a44fc",
      "reactive": true
     },
     "output_type": "execute_result"
    }
   ],
   "source": [
    "revealable(ans212E)"
   ]
  },
  {
   "cell_type": "code",
   "execution_count": null,
   "metadata": {
    "collapsed": true,
    "run_control": {
     "read_only": false
    }
   },
   "outputs": [],
   "source": []
  }
 ],
 "metadata": {
  "kernelspec": {
   "display_name": "Julia 0.3.10",
   "language": "julia",
   "name": "julia-0.3"
  },
  "language_info": {
   "file_extension": ".jl",
   "mimetype": "application/julia",
   "name": "julia",
   "version": "0.3.10"
  }
 },
 "nbformat": 4,
 "nbformat_minor": 0
}
