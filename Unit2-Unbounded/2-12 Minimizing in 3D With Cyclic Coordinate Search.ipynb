{
 "cells": [
  {
   "cell_type": "markdown",
   "metadata": {
    "run_control": {
     "read_only": false
    }
   },
   "source": [
    "# 2-12 Minimizing in 3D With Cyclic Coordinate Search"
   ]
  },
  {
   "cell_type": "code",
   "execution_count": null,
   "metadata": {
    "collapsed": false
   },
   "outputs": [],
   "source": [
    "using Revealables\n",
    "include(\"files/answers.jl\")"
   ]
  },
  {
   "cell_type": "markdown",
   "metadata": {},
   "source": [
    "With a 3D object, any [cross-section](https://www.mathsisfun.com/geometry/cross-sections.html) forms a 2-dimensional object.  \n",
    "<img src=\"files/2-12/xsections.png\" width=350 />\n",
    "Also: any 4D graph will cross-section to a 3D object (try to visualize that one!), just as any 2D object will cross-section to a line or set of collinear points, and a 1D object to a point.\n",
    "\n",
    "Similarly, with a 3D *function* any cross-section will form a 2D *function*.\n",
    "\n",
    "Looking at the cross-sections of this 3D graph, what shapes do you see?\n",
    "\n",
    "<img src=\"files/2-12/function3d.png\" width=350 />"
   ]
  },
  {
   "cell_type": "code",
   "execution_count": null,
   "metadata": {
    "collapsed": false
   },
   "outputs": [],
   "source": [
    "revealable(xsection)"
   ]
  },
  {
   "cell_type": "markdown",
   "metadata": {},
   "source": [
    "This is the graph of the function $f(x_1, x_2) = (x_1)^2 + 2(x_2)^2$.\n",
    "\n",
    "The reason you see parabolas is that, if we set $x_2$ to a constant, we get $f(x_1) = (x_1)^2 + c$, a parabola. You will also get a parabola if $x_1$ is constant.\n",
    "\n",
    "The horizontal cross-sections, ellipses, are formed when $f$ is constant: $(x_1)^2 + 2(x_2)^2 = c$. We're going to ignore the ellipses because we're trying to minimize $f$, so it makes no sense to hold $f$ constant.\n",
    "\n",
    "The reason this is useful information is that you already have programs that minimize one-variable functions (which create 2-dimensional graphs). These include the golden section method and the slopes method.\n",
    "\n",
    "A 2-D minimum won't find the minimum of the entire graph, but it will find the minimum of a cross section. Then if we repeat a few times, we can get the minimum of the graph. "
   ]
  },
  {
   "cell_type": "markdown",
   "metadata": {},
   "source": [
    "###Practice Problem A\n",
    "Use the function $f(x_1, x_2) = (x_1 - 3)^2 + (x_2 + 5)^2$ and starting point $(-2, -1)$. \n",
    "1. Rewrite the function substituting $x_2 = -1$. \n",
    "2. Use any of your minimization programs to find the minimum value of the resulting function.\n",
    "3. Rewrite the original function substituting $x_1$ with its minimized value from part 2, then minimize $x_2$.\n"
   ]
  },
  {
   "cell_type": "code",
   "execution_count": null,
   "metadata": {
    "collapsed": true
   },
   "outputs": [],
   "source": [
    "# Rewrite the function as described in part 1\n",
    "\n",
    "# Find the minimum value of the function\n"
   ]
  },
  {
   "cell_type": "code",
   "execution_count": null,
   "metadata": {
    "collapsed": true
   },
   "outputs": [],
   "source": [
    "# Rewrite the function as described in part 3\n",
    "\n",
    "# Minimize x2\n"
   ]
  },
  {
   "cell_type": "code",
   "execution_count": null,
   "metadata": {
    "collapsed": false
   },
   "outputs": [],
   "source": [
    "revealable(ans212A)"
   ]
  },
  {
   "cell_type": "markdown",
   "metadata": {},
   "source": [
    "###Practice Problem B\n",
    "Using the function $f(x_1, x_2) = (x_1)^2 + 2(x_2)^2 + 2x_1x_2$ and starting point $(0.5, 1)$, execute one cycle of the algorithm (meaning, minimize $x_1$ and then $x_2$ and write down the resulting values).\n",
    "\n",
    "Calculate the value of $f(x_1, x_2)$ at the original point and at the new point. Also, calculate the vector from the original point to the new point.\n"
   ]
  },
  {
   "cell_type": "code",
   "execution_count": null,
   "metadata": {
    "collapsed": true
   },
   "outputs": [],
   "source": [
    "# Use your old programs to solve this problem!\n"
   ]
  },
  {
   "cell_type": "code",
   "execution_count": null,
   "metadata": {
    "collapsed": true
   },
   "outputs": [],
   "source": [
    "revealable(ans212B)"
   ]
  },
  {
   "cell_type": "markdown",
   "metadata": {},
   "source": [
    "##Introducing a New Variable\n",
    "The next step is not to just adopt the new point. Instead, we create a vector from the old point to the new point and minimize from the new point in that direction. The math looks like this:\n",
    "\n",
    "<font color=\"#993333\">new point: $(p_1, p_2)$</font> <font color=\"#336699\">= known</font><br />\n",
    "<font color=\"#993333\">vector: $<v_1, v_2>$</font> <font color=\"#336699\">= known</font><br />\n",
    "<font color=\"#993333\">scalar: $a$</font> <font color=\"#336699\">= unknown</font><br />\n",
    "\n",
    "end point = new point + scalar · vector<br />\n",
    "\n",
    "end point = $(p_1 + a·v_1, p_2 + a·v_2)$<br />\n"
   ]
  },
  {
   "cell_type": "markdown",
   "metadata": {},
   "source": [
    "###Practice Problem C\n",
    "Use the function $f(x_1, x_2) = (x_1)^2 + 2(x_2)^2 + 2x_1x_2$ with the new point $(-1, .5)$ and vector $<-1.5, -.5>$ as calculated in Practice Problem B.\n",
    "1. Write the end point as $(p_1 + a·v_1, p_2 + a·v_2)$ with all the known numbers filled in. The only variable should be $a$.\n",
    "2. Plug the end point into the function; it is not necessary to simplify.\n"
   ]
  },
  {
   "cell_type": "code",
   "execution_count": null,
   "metadata": {
    "collapsed": true
   },
   "outputs": [],
   "source": [
    "# Code here\n"
   ]
  },
  {
   "cell_type": "code",
   "execution_count": null,
   "metadata": {
    "collapsed": true
   },
   "outputs": [],
   "source": [
    "# Test here"
   ]
  },
  {
   "cell_type": "code",
   "execution_count": null,
   "metadata": {
    "collapsed": false
   },
   "outputs": [],
   "source": [
    "revealable(ans212C)"
   ]
  },
  {
   "cell_type": "markdown",
   "metadata": {},
   "source": [
    "##The \"Acceleration Step\"\n",
    "After forming the new point from the old point, known vector, and scalar $a$, plug the $x_1$ and $x_2$ of the end point into the equation. This gives an equation in one variable, like the one you just found.\n",
    "\n",
    "The next step is to minimize that equation. This is known as the \"acceleration step.\" "
   ]
  },
  {
   "cell_type": "markdown",
   "metadata": {},
   "source": [
    "###Practice Problem D\n",
    "1. Use one of your 1-variable minimization programs to minimize the equation from Problem C2.\n",
    "\n",
    "2. Plug the minimizing value of $a$ into the coordinates for the end point to get numerical values for $x_1$ and $x_2$. This is the actual end point.\n",
    "\n",
    "3. Find the value of the function at this point.\n"
   ]
  },
  {
   "cell_type": "code",
   "execution_count": null,
   "metadata": {
    "collapsed": true
   },
   "outputs": [],
   "source": [
    "# Minimize the equation\n"
   ]
  },
  {
   "cell_type": "code",
   "execution_count": null,
   "metadata": {
    "collapsed": true
   },
   "outputs": [],
   "source": [
    "# Get the end point\n"
   ]
  },
  {
   "cell_type": "code",
   "execution_count": null,
   "metadata": {
    "collapsed": true
   },
   "outputs": [],
   "source": [
    "# Find the value of f at the end point\n"
   ]
  },
  {
   "cell_type": "code",
   "execution_count": null,
   "metadata": {
    "collapsed": false
   },
   "outputs": [],
   "source": [
    "revealable(ans212D)"
   ]
  },
  {
   "cell_type": "markdown",
   "metadata": {},
   "source": [
    "##Cyclic Coordinate Search: The Whole Algorithm\n",
    "The last step is to repeat the process until the change in the function value with each step is very small (below a given tolerance).\n",
    "\n",
    "All the steps, in order:\n",
    "1. Minimize $x_1$ with $x_2$ constant, then minimize $x_2$ with $x_1$ constant. This is the new point.\n",
    "2. Find the vector from the original point to the new point, then form the end point using scalar $a$.\n",
    "3. Minimize the function formed by plugging the end point into the equation.\n",
    "4. Solve for the end point and repeat until the change in $f$ is below tolerance.\n",
    "\n",
    "Reminder: in in step 1, $x_2$ is constant with the value of $x_2$ in the seed point. After minimizing for $x_1$, you use that value (not the seed point) in calculating the minimum of $x_2$.\n"
   ]
  },
  {
   "cell_type": "markdown",
   "metadata": {},
   "source": [
    "###Practice Problem E\n",
    "Write a program that will perform a cyclic coordinate search around a given function `f(x1, x2)` with a given starting point `(a, b)`. \n",
    "\n",
    "One way to do this is to copy and paste your minimization code three times, with slight modifications; there might be a better way.\n",
    "\n",
    "Write your program to loop until the change in the value of `f` is below 0.0001."
   ]
  },
  {
   "cell_type": "code",
   "execution_count": null,
   "metadata": {
    "collapsed": true
   },
   "outputs": [],
   "source": [
    "# Write your program here"
   ]
  },
  {
   "cell_type": "code",
   "execution_count": null,
   "metadata": {
    "collapsed": true
   },
   "outputs": [],
   "source": [
    "# Test it here"
   ]
  },
  {
   "cell_type": "code",
   "execution_count": null,
   "metadata": {
    "collapsed": false
   },
   "outputs": [],
   "source": [
    "revealable(ans212E)"
   ]
  },
  {
   "cell_type": "code",
   "execution_count": null,
   "metadata": {
    "collapsed": true
   },
   "outputs": [],
   "source": []
  }
 ],
 "metadata": {
  "kernelspec": {
   "display_name": "Julia 0.3.10",
   "language": "julia",
   "name": "julia-0.3"
  },
  "language_info": {
   "file_extension": ".jl",
   "mimetype": "application/julia",
   "name": "julia",
   "version": "0.3.10"
  }
 },
 "nbformat": 4,
 "nbformat_minor": 0
}
