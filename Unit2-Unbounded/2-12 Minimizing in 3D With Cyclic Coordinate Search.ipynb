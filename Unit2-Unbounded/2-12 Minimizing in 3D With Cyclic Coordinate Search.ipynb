{
 "cells": [
  {
   "cell_type": "markdown",
   "metadata": {
    "run_control": {
     "read_only": false
    }
   },
   "source": [
    "# 2-12 Minimizing in 3D With Cyclic Coordinate Search"
   ]
  },
  {
   "cell_type": "code",
   "execution_count": 1,
   "metadata": {
    "run_control": {
     "read_only": false
    }
   },
   "outputs": [
    {
     "data": {
      "text/html": [
       "<div id=\"interact-js-shim\">\n",
       "    <script charset=\"utf-8\">\r\n",
       "(function (IPython, $, _, MathJax) {\r\n",
       "    $.event.special.destroyed = {\r\n",
       "\tremove: function(o) {\r\n",
       "\t    if (o.handler) {\r\n",
       "\t\to.handler.apply(this, arguments)\r\n",
       "\t    }\r\n",
       "\t}\r\n",
       "    }\r\n",
       "\r\n",
       "    var OutputArea = IPython.version >= \"4.0.0\" ? require(\"notebook/js/outputarea\").OutputArea : IPython.OutputArea;\r\n",
       "\r\n",
       "    var redrawValue = function (container, type, val) {\r\n",
       "\tvar selector = $(\"<div/>\");\r\n",
       "\tvar oa = new OutputArea(_.extend(selector, {\r\n",
       "\t    selector: selector,\r\n",
       "\t    prompt_area: true,\r\n",
       "\t    events: IPython.events,\r\n",
       "\t    keyboard_manager: IPython.keyboard_manager\r\n",
       "\t})); // Hack to work with IPython 2.1.0\r\n",
       "\r\n",
       "\tswitch (type) {\r\n",
       "\tcase \"image/png\":\r\n",
       "            var _src = 'data:' + type + ';base64,' + val;\r\n",
       "\t    $(container).find(\"img\").attr('src', _src);\r\n",
       "\t    break;\r\n",
       "\tcase \"text/latex\":\r\n",
       "\t\tif (MathJax){\r\n",
       "\t\t\tvar math = MathJax.Hub.getAllJax(container)[0];\r\n",
       "\t\t\tMathJax.Hub.Queue([\"Text\", math, val.replace(/^\\${1,2}|\\${1,2}$/g, '')]);\r\n",
       "\t\t\tbreak;\r\n",
       "\t\t}\r\n",
       "\tdefault:\r\n",
       "\t    var toinsert = OutputArea.append_map[type].apply(\r\n",
       "\t\toa, [val, {}, selector]\r\n",
       "\t    );\r\n",
       "\t    $(container).empty().append(toinsert.contents());\r\n",
       "\t    selector.remove();\r\n",
       "\t}\r\n",
       "    }\r\n",
       "\r\n",
       "\r\n",
       "    $(document).ready(function() {\r\n",
       "\tfunction initComm(evt, data) {\r\n",
       "\t    var comm_manager = data.kernel.comm_manager;\r\n",
       "        //_.extend(comm_manager.targets, require(\"widgets/js/widget\"))\r\n",
       "\t    comm_manager.register_target(\"Signal\", function (comm) {\r\n",
       "            comm.on_msg(function (msg) {\r\n",
       "                var val = msg.content.data.value;\r\n",
       "                $(\".signal-\" + comm.comm_id).each(function() {\r\n",
       "                var type = $(this).data(\"type\");\r\n",
       "                if (typeof(val[type]) !== \"undefined\" && val[type] !== null) {\r\n",
       "                    redrawValue(this, type, val[type], type);\r\n",
       "                }\r\n",
       "                });\r\n",
       "                delete val;\r\n",
       "                delete msg.content.data.value;\r\n",
       "            });\r\n",
       "\t    });\r\n",
       "\r\n",
       "\t    // coordingate with Comm and redraw Signals\r\n",
       "\t    // XXX: Test using Reactive here to improve performance\r\n",
       "\t    $([IPython.events]).on(\r\n",
       "\t\t'output_appended.OutputArea', function (event, type, value, md, toinsert) {\r\n",
       "\t\t    if (md && md.reactive) {\r\n",
       "                // console.log(md.comm_id);\r\n",
       "                toinsert.addClass(\"signal-\" + md.comm_id);\r\n",
       "                toinsert.data(\"type\", type);\r\n",
       "                // Signal back indicating the mimetype required\r\n",
       "                var comm_manager = IPython.notebook.kernel.comm_manager;\r\n",
       "                var comm = comm_manager.comms[md.comm_id];\r\n",
       "                comm.then(function (c) {\r\n",
       "                    c.send({action: \"subscribe_mime\",\r\n",
       "                       mime: type});\r\n",
       "                    toinsert.bind(\"destroyed\", function() {\r\n",
       "                        c.send({action: \"unsubscribe_mime\",\r\n",
       "                               mime: type});\r\n",
       "                    });\r\n",
       "                })\r\n",
       "\t\t    }\r\n",
       "\t    });\r\n",
       "\t}\r\n",
       "\r\n",
       "\ttry {\r\n",
       "\t    // try to initialize right away. otherwise, wait on the status_started event.\r\n",
       "\t    initComm(undefined, IPython.notebook);\r\n",
       "\t} catch (e) {\r\n",
       "\t    $([IPython.events]).on('kernel_created.Kernel kernel_created.Session', initComm);\r\n",
       "\t}\r\n",
       "    });\r\n",
       "})(IPython, jQuery, _, MathJax);\r\n",
       "</script>\n",
       "    <script>\n",
       "        window.interactLoadedFlag = true\n",
       "       $(\"#interact-js-shim\").bind(\"destroyed\", function () {\n",
       "           if (window.interactLoadedFlag) {\n",
       "               console.warn(\"JavaScript required by Interact will be removed if you remove this cell or run using Interact more than once.\")\n",
       "           }\n",
       "       })\n",
       "       $([IPython.events]).on(\"kernel_starting.Kernel kernel_restarting.Kernel\", function () { window.interactLoadedFlag = false })\n",
       "   </script>\n",
       "</div>"
      ]
     },
     "metadata": {},
     "output_type": "display_data"
    },
    {
     "data": {
      "text/markdown": [
       "\n"
      ],
      "text/plain": [
       "Revealables.Revealable(\"My third generation was a huge improvement; my fourth, not so much. \\nHere are the fitness ranks of my generations, if you're curious:<br clear=\\\"all\\\">\\nI: 19, 9, 8, -5<br clear=\\\"all\\\">\\nII: 13, 10, 3, 1<br clear=\\\"all\\\">\\nIII: 20, 15, 14, 10<br clear=\\\"all\\\">\\nIV: 28, 12, 11, -5<br clear=\\\"all\\\">\\n\\nThen I got hooked...<br clear=\\\"all\\\">\\nV: 21, 16, 12, 4<br clear=\\\"all\\\">\\nVI: 23, 21, 16, 6<br clear=\\\"all\\\">\\nVII: 21, 21, 21, 6<br clear=\\\"all\\\">\\n\\n\\nOne thing I noticed while getting hooked is that I wrote a program that made an array out of `rand(12)` and returned the location of anything less than 1/12, which saved some time. If you're curious, continue your own iterations with computer support. Depending on your programming experience, writing an entire program might take more time than doing it by hand.\\n\\nVIII: 24, 23, 21, 19.<br clear=\\\"all\\\">\\nI stopped here because it was lunchtime. The optimum solution is 1111 / 1111 / 0000 = 30. It's clear that successive generations are approaching the optimum, and also getting more uniform (though mutation keeps it interesting). Cool stuff.\\n\", \"Answer\", false, false)"
      ]
     },
     "execution_count": 1,
     "metadata": {},
     "output_type": "execute_result"
    }
   ],
   "source": [
    "using Revealables\n",
    "include(\"files/extras.jl\")\n",
    "include(\"files/answers.jl\")"
   ]
  },
  {
   "cell_type": "markdown",
   "metadata": {},
   "source": [
    "With a 3D object, any [cross-section](https://www.mathsisfun.com/geometry/cross-sections.html) forms a 2-dimensional object.  \n",
    "<img src=\"files/2-12/xsections.png\" width=350 />\n",
    "Also: any 4D graph will cross-section to a 3D object (try to visualize that one!), just as any 2D object will cross-section to a line or set of collinear points, and a 1D object to a point.\n",
    "\n",
    "Similarly, with a 3D *function* any cross-section will form a 2D *function*.\n",
    "\n",
    "Looking at the cross-sections of this 3D graph, what shapes do you see?\n",
    "\n",
    "<img src=\"files/2-12/function3d.png\" width=350 />"
   ]
  },
  {
   "cell_type": "code",
   "execution_count": 2,
   "metadata": {
    "run_control": {
     "read_only": false
    }
   },
   "outputs": [
    {
     "data": {
      "text/html": [],
      "text/plain": [
       "Interact.ToggleButton(1: \"input\" = false Bool , \"You might see...\", false)"
      ]
     },
     "metadata": {},
     "output_type": "display_data"
    },
    {
     "data": {
      "text/markdown": [
       "\n"
      ],
      "text/plain": [
       "Revealables.Revealable(\"You should be able to identify stuff that looks like parabolas in both vertical cross-sections down the middle. The horizontal cross-sections are ellipses. \\n\\nThis function is f(x<sub>1</sub>, x<sub>2</sub>) = (x<sub>1</sub>)<sup>2</sup> + 2(x<sub>2</sub>)<sup>2</sup>. If you're familiar with conic sections, you should be able to see the elliptical equation in the variables. \\n\", \"You might see...\", false, false)"
      ]
     },
     "execution_count": 2,
     "metadata": {
      "comm_id": "055433f7-0c9f-41ef-bf13-ae9c39f166f3",
      "reactive": true
     },
     "output_type": "execute_result"
    },
    {
     "name": "stderr",
     "output_type": "stream",
     "text": [
      "WARNING: Compat.ASCIIString is deprecated, use String instead.\n",
      "  likely near C:\\Users\\Victoria Docherty\\.julia\\v0.6\\IJulia\\src\\kernel.jl:31\n",
      "WARNING: Compat.ASCIIString is deprecated, use String instead.\n",
      "  likely near C:\\Users\\Victoria Docherty\\.julia\\v0.6\\IJulia\\src\\kernel.jl:31\n",
      "WARNING: Compat.ASCIIString is deprecated, use String instead.\n",
      "  likely near C:\\Users\\Victoria Docherty\\.julia\\v0.6\\IJulia\\src\\kernel.jl:31\n"
     ]
    }
   ],
   "source": [
    "revealable(xsection)"
   ]
  },
  {
   "cell_type": "markdown",
   "metadata": {},
   "source": [
    "This is the graph of the function $f(x_1, x_2) = (x_1)^2 + 2(x_2)^2$.\n",
    "\n",
    "The reason you see parabolas is that, if we set $x_2$ to a constant, we get $f(x_1) = (x_1)^2 + c$, a parabola. You will also get a parabola if $x_1$ is constant.\n",
    "\n",
    "The horizontal cross-sections, ellipses, are formed when $f$ is constant: $(x_1)^2 + 2(x_2)^2 = c$. We're going to ignore the ellipses because we're trying to minimize $f$, so it makes no sense to hold $f$ constant.\n",
    "\n",
    "The reason this is useful information is that you already have programs that minimize one-variable functions (which create 2-dimensional graphs). These include the golden section method and the slopes method.\n",
    "\n",
    "A 2-D minimum won't find the minimum of the entire graph, but it will find the minimum of a cross section. Then if we repeat a few times, we can get the minimum of the graph. "
   ]
  },
  {
   "cell_type": "markdown",
   "metadata": {},
   "source": [
    "###Practice Problem A\n",
    "Use the function $f(x_1, x_2) = (x_1 - 3)^2 + (x_2 + 5)^2$ and starting point $(-2, -1)$. \n",
    "1. Rewrite the function substituting $x_2 = -1$. \n",
    "2. Use any of your minimization programs to find the minimum value of the resulting function.\n",
    "3. Rewrite the original function substituting $x_1$ with its minimized value from part 2, then minimize $x_2$.\n"
   ]
  },
  {
   "cell_type": "code",
   "execution_count": null,
   "metadata": {
    "collapsed": true,
    "run_control": {
     "read_only": false
    }
   },
   "outputs": [],
   "source": [
    "# Rewrite the function as described in part 1\n",
    "\n",
    "# Find the minimum value of the function\n"
   ]
  },
  {
   "cell_type": "code",
   "execution_count": null,
   "metadata": {
    "collapsed": true,
    "run_control": {
     "read_only": false
    }
   },
   "outputs": [],
   "source": [
    "# Rewrite the function as described in part 3\n",
    "\n",
    "# Minimize x2\n"
   ]
  },
  {
   "cell_type": "code",
   "execution_count": 3,
   "metadata": {
    "run_control": {
     "read_only": false
    }
   },
   "outputs": [
    {
     "data": {
      "text/html": [],
      "text/plain": [
       "Interact.ToggleButton(4: \"input-2\" = false Bool , \"Answer\", false)"
      ]
     },
     "metadata": {},
     "output_type": "display_data"
    },
    {
     "data": {
      "text/markdown": [
       "\n"
      ],
      "text/plain": [
       "Revealables.Revealable(\"###Answer A\\n1. f(x<sub>1</sub>, -1) = (x<sub>1</sub> - 3)<sup>2</sup> + 16; or, f(x) = (x - 3)<sup>2</sup> + 16. \\n2. minimized at x = 3. (If you've studied quadratics, you knew this&mdash;the function is a parabola in vertex form.)\\n3. f(3, x<sub>2</sub>) = 0 + (x<sub>2</sub> + 5)<sup>2</sup>; or, f(x) = (x + 5)<sup>2</sup>. Minimized at -5; again, you knew this.\\nThe answer, (3, -5), is the minimum of this function. This happened here because it's a very simple function, but it won't always.\\n\", \"Answer\", false, false)"
      ]
     },
     "execution_count": 3,
     "metadata": {
      "comm_id": "0047d9d9-e694-4078-8b1b-da512d91c88a",
      "reactive": true
     },
     "output_type": "execute_result"
    }
   ],
   "source": [
    "revealable(ans212A)"
   ]
  },
  {
   "cell_type": "markdown",
   "metadata": {},
   "source": [
    "###Practice Problem B\n",
    "Using the function $f(x_1, x_2) = (x_1)^2 + 2(x_2)^2 + 2x_1x_2$ and starting point $(0.5, 1)$, execute one cycle of the algorithm (meaning, minimize $x_1$ and then $x_2$ and write down the resulting values).\n",
    "\n",
    "Calculate the value of $f(x_1, x_2)$ at the original point and at the new point. Also, calculate the vector from the original point to the new point.\n"
   ]
  },
  {
   "cell_type": "code",
   "execution_count": null,
   "metadata": {
    "collapsed": true,
    "run_control": {
     "read_only": false
    }
   },
   "outputs": [],
   "source": [
    "# Use your old programs to solve this problem!\n"
   ]
  },
  {
   "cell_type": "code",
   "execution_count": 4,
   "metadata": {
    "run_control": {
     "read_only": false
    }
   },
   "outputs": [
    {
     "data": {
      "text/html": [],
      "text/plain": [
       "Interact.ToggleButton(7: \"input-3\" = false Bool , \"Answer\", false)"
      ]
     },
     "metadata": {},
     "output_type": "display_data"
    },
    {
     "data": {
      "text/markdown": [
       "\n"
      ],
      "text/plain": [
       "Revealables.Revealable(\"###Answer B\\n(-1, .5), function value = 3.25 at original, 0.5 at new. It's a solid improvement but still not a minimum over the entire function.\\n\\nThe vector from (0.5, 1) to (-1, 0.5) is &lt;-1.5, -0.5&gt;.\\n\", \"Answer\", false, false)"
      ]
     },
     "execution_count": 4,
     "metadata": {
      "comm_id": "c321266e-9fb9-4a1a-b2fc-5698c0307e20",
      "reactive": true
     },
     "output_type": "execute_result"
    }
   ],
   "source": [
    "revealable(ans212B)"
   ]
  },
  {
   "cell_type": "markdown",
   "metadata": {},
   "source": [
    "##Introducing a New Variable\n",
    "The next step is not to just adopt the new point. Instead, we create a vector from the old point to the new point and minimize from the new point in that direction. The math looks like this:\n",
    "\n",
    "<font color=\"#993333\">new point: $(p_1, p_2)$</font> <font color=\"#336699\">= known</font><br />\n",
    "<font color=\"#993333\">vector: $<v_1, v_2>$</font> <font color=\"#336699\">= known</font><br />\n",
    "<font color=\"#993333\">scalar: $a$</font> <font color=\"#336699\">= unknown</font><br />\n",
    "\n",
    "end point = new point + scalar · vector<br />\n",
    "\n",
    "end point = $(p_1 + a·v_1, p_2 + a·v_2)$<br />\n"
   ]
  },
  {
   "cell_type": "markdown",
   "metadata": {},
   "source": [
    "###Practice Problem C\n",
    "Use the function $f(x_1, x_2) = (x_1)^2 + 2(x_2)^2 + 2x_1x_2$ with the new point $(-1, .5)$ and vector $<-1.5, -.5>$ as calculated in Practice Problem B.\n",
    "1. Write the end point as $(p_1 + a·v_1, p_2 + a·v_2)$ with all the known numbers filled in. The only variable should be $a$.\n",
    "2. Plug the end point into the function; it is not necessary to simplify.\n"
   ]
  },
  {
   "cell_type": "code",
   "execution_count": null,
   "metadata": {
    "collapsed": true,
    "run_control": {
     "read_only": false
    }
   },
   "outputs": [],
   "source": [
    "# Code here\n"
   ]
  },
  {
   "cell_type": "code",
   "execution_count": null,
   "metadata": {
    "collapsed": true,
    "run_control": {
     "read_only": false
    }
   },
   "outputs": [],
   "source": [
    "# Test here"
   ]
  },
  {
   "cell_type": "code",
   "execution_count": 5,
   "metadata": {
    "run_control": {
     "read_only": false
    }
   },
   "outputs": [
    {
     "data": {
      "text/html": [],
      "text/plain": [
       "Interact.ToggleButton(10: \"input-4\" = false Bool , \"Answer\", false)"
      ]
     },
     "metadata": {},
     "output_type": "display_data"
    },
    {
     "data": {
      "text/markdown": [
       "\n"
      ],
      "text/plain": [
       "Revealables.Revealable(\"###Answer C\\n1. The new point is (-1-1.5a, .5 -.5a)\\n2. The raw version is f(x<sub>1</sub>, x<sub>2</sub>) = (-1 - 1.5a)<sup>2</sup> + 2(.5 - .5a)<sup>2</sup> + 2(-1 - 1.5a)(.5 - .5a). If you simplified, you would get f = 4.25a<sup>2</sup> + 1.5a + .5.\\n\\nNotice in Part 2: the new function is a function in one variable, and therefore *can be minimized*. \\n\", \"Answer\", false, false)"
      ]
     },
     "execution_count": 5,
     "metadata": {
      "comm_id": "43417621-d878-4f5c-a87e-5fc92eef7992",
      "reactive": true
     },
     "output_type": "execute_result"
    }
   ],
   "source": [
    "revealable(ans212C)"
   ]
  },
  {
   "cell_type": "markdown",
   "metadata": {},
   "source": [
    "##The \"Acceleration Step\"\n",
    "After forming the new point from the old point, known vector, and scalar $a$, plug the $x_1$ and $x_2$ of the end point into the equation. This gives an equation in one variable, like the one you just found.\n",
    "\n",
    "The next step is to minimize that equation. This is known as the \"acceleration step.\" "
   ]
  },
  {
   "cell_type": "markdown",
   "metadata": {},
   "source": [
    "###Practice Problem D\n",
    "1. Use one of your 1-variable minimization programs to minimize the equation from Problem C2.\n",
    "\n",
    "2. Plug the minimizing value of $a$ into the coordinates for the end point to get numerical values for $x_1$ and $x_2$. This is the actual end point.\n",
    "\n",
    "3. Find the value of the function at this point.\n"
   ]
  },
  {
   "cell_type": "code",
   "execution_count": null,
   "metadata": {
    "collapsed": true,
    "run_control": {
     "read_only": false
    }
   },
   "outputs": [],
   "source": [
    "# Minimize the equation\n"
   ]
  },
  {
   "cell_type": "code",
   "execution_count": null,
   "metadata": {
    "collapsed": true,
    "run_control": {
     "read_only": false
    }
   },
   "outputs": [],
   "source": [
    "# Get the end point\n"
   ]
  },
  {
   "cell_type": "code",
   "execution_count": null,
   "metadata": {
    "collapsed": true,
    "run_control": {
     "read_only": false
    }
   },
   "outputs": [],
   "source": [
    "# Find the value of f at the end point\n"
   ]
  },
  {
   "cell_type": "code",
   "execution_count": 6,
   "metadata": {
    "run_control": {
     "read_only": false
    }
   },
   "outputs": [
    {
     "data": {
      "text/html": [],
      "text/plain": [
       "Interact.ToggleButton(13: \"input-5\" = false Bool , \"Answer\", false)"
      ]
     },
     "metadata": {},
     "output_type": "display_data"
    },
    {
     "data": {
      "text/markdown": [
       "\n"
      ],
      "text/plain": [
       "Revealables.Revealable(\"###Answer D\\n1. a = -0.17647.\\n2. Since the new point was (-1 - 1.5a, .5 - .5a), plugging in a = -0.17647 yields (-0.7353, 0.5882).\\n3. f(-0.7353, 0.5882) = 0.3676.\\n\", \"Answer\", false, false)"
      ]
     },
     "execution_count": 6,
     "metadata": {
      "comm_id": "435937ea-d612-4eb0-826f-fa05dfced1a5",
      "reactive": true
     },
     "output_type": "execute_result"
    }
   ],
   "source": [
    "revealable(ans212D)"
   ]
  },
  {
   "cell_type": "markdown",
   "metadata": {},
   "source": [
    "##Cyclic Coordinate Search: The Whole Algorithm\n",
    "The last step is to repeat the process until the change in the function value with each step is very small (below a given tolerance).\n",
    "\n",
    "All the steps, in order:\n",
    "1. Minimize $x_1$ with $x_2$ constant, then minimize $x_2$ with $x_1$ constant. This is the new point.\n",
    "2. Find the vector from the original point to the new point, then form the end point using scalar $a$.\n",
    "3. Minimize the function formed by plugging the end point into the equation.\n",
    "4. Solve for the end point and repeat until the change in $f$ is below tolerance.\n",
    "\n",
    "Reminder: in in step 1, $x_2$ is constant with the value of $x_2$ in the seed point. After minimizing for $x_1$, you use that value (not the seed point) in calculating the minimum of $x_2$.\n"
   ]
  },
  {
   "cell_type": "markdown",
   "metadata": {},
   "source": [
    "###Practice Problem E\n",
    "Write a program that will perform a cyclic coordinate search around a given function `f(x1, x2)` with a given starting point `(a, b)`. \n",
    "\n",
    "One way to do this is to copy and paste your minimization code three times, with slight modifications; there might be a better way.\n",
    "\n",
    "Write your program to loop until the change in the value of `f` is below 0.0001."
   ]
  },
  {
   "cell_type": "code",
   "execution_count": null,
   "metadata": {
    "collapsed": true,
    "run_control": {
     "read_only": false
    }
   },
   "outputs": [],
   "source": [
    "# Write your program here"
   ]
  },
  {
   "cell_type": "code",
   "execution_count": null,
   "metadata": {
    "collapsed": true,
    "run_control": {
     "read_only": false
    }
   },
   "outputs": [],
   "source": [
    "# Test it here"
   ]
  },
  {
   "cell_type": "code",
   "execution_count": 7,
   "metadata": {
    "run_control": {
     "read_only": false
    }
   },
   "outputs": [
    {
     "data": {
      "text/html": [],
      "text/plain": [
       "Interact.ToggleButton(16: \"input-6\" = false Bool , \"Answer\", false)"
      ]
     },
     "metadata": {},
     "output_type": "display_data"
    },
    {
     "data": {
      "text/markdown": [
       "\n"
      ],
      "text/plain": [
       "Revealables.Revealable(\"###Answer E\\nOkay, I cheated a little. I have two subprograms with the same name (`fibmin`) but different inputs. Julia can handle it! (Google \\\"Julia multiple dispatch\\\" if you want to know more.) Depending on which arguments I pass in, Julia chooses the correct `fibmin` function.\\n\\nMaybe you came up with a more elegant way.\\n<code>\\nfunction fibmin(f, a, b, dim)  # input: function, two variables, and which dimension to minimize\\n    phi = (-1+(5)^(1/2))/2\\n    maxlim = 10  # interval endpoints, change as needed\\n    minlim = -10\\n    tolerance = 0.000001  # change as needed\\n    int = maxlim - minlim\\n    while int > tolerance\\n        subdiv = phi*int\\n        lefttest = maxlim - subdiv  # these two lines create two points within the interval\\n        righttest = minlim + subdiv\\n        if dim == 1  # minimize dimension variable #1 (a)?\\n            moverightbound = f(lefttest, b) < f(righttest, b)\\n            else  # if not, minimize dimension variable #2 (b)\\n            moverightbound = f(a, lefttest) < f(a, righttest)\\n        end\\n        if moverightbound  # loop shifts interval boundaries\\n            maxlim = righttest\\n        else\\n            minlim = lefttest\\n        end\\n        int = maxlim - minlim\\n    end\\n    (maxlim + minlim)/2  # return value of minimized variable\\nend\\n\\nfunction fibmin(f)  # input: function\\n    phi = (-1+(5)^(1/2))/2\\n    maxlim = 10  # interval endpoints, change as needed\\n    minlim = -10\\n    tolerance = 0.000001  # change as needed\\n    int = maxlim - minlim\\n    while int > tolerance\\n        subdiv = phi*int\\n        lefttest = maxlim - subdiv  # create two points within the interval\\n        righttest = minlim + subdiv\\n        if f(lefttest) < f(righttest)  # loop shifts interval boundaries\\n            maxlim = righttest\\n        else\\n            minlim = lefttest\\n        end\\n        int = maxlim - minlim\\n    end\\n    (maxlim + minlim)/2  # return minimum x-value\\nend\\n\\nfunction cyclic(f, a, b)  # f is a function in 2 variables; (a, b) is the seed point \\n    q = 20  # any high number will do\\n    f1 = 0 \\n    f2 = 20\\n    while abs(f1 - f2) > 0.0001  # tolerance for final answer\\n        c = fibmin(f, a, b, 1)  # minimize a\\n        d = fibmin(f, c, b, 2)  # minimize b\\n        g(x) = f(c + (c-a)*x, d + (d-b)*x)  # g is single-variable function of vector from (a,b) beyond (c,d).\\n        q = fibmin(g)  # minimize g(x) (to find the scalar)\\n        f1 = f(a, b)\\n        a = c + (c-a)*q\\n        b = d + (d-b)*q\\n        f2 = f(a,b)\\n    end\\n    println(\\\"x1 = \\$a, x2 = \\$b, value = \\$(f(a, b))\\\")\\nend\\n</code>\\n\", \"Answer\", false, false)"
      ]
     },
     "execution_count": 7,
     "metadata": {
      "comm_id": "f8c1ba06-f3c7-46a6-9f44-8ba4a0239934",
      "reactive": true
     },
     "output_type": "execute_result"
    }
   ],
   "source": [
    "revealable(ans212E)"
   ]
  },
  {
   "cell_type": "code",
   "execution_count": null,
   "metadata": {
    "collapsed": true,
    "run_control": {
     "read_only": false
    }
   },
   "outputs": [],
   "source": []
  }
 ],
 "metadata": {
  "kernelspec": {
   "display_name": "Julia 0.6.0",
   "language": "julia",
   "name": "julia-0.6"
  },
  "language_info": {
   "file_extension": ".jl",
   "mimetype": "application/julia",
   "name": "julia",
   "version": "0.6.0"
  }
 },
 "nbformat": 4,
 "nbformat_minor": 1
}
