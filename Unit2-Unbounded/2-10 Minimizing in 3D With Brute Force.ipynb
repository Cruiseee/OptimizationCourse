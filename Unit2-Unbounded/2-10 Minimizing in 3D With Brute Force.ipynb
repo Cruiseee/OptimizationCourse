{
 "cells": [
  {
   "cell_type": "markdown",
   "metadata": {
    "run_control": {
     "read_only": false
    }
   },
   "source": [
    "# 2-10 Minimizing in 3D With Brute Force\n",
    "(also with Brute Intelligence)"
   ]
  },
  {
   "cell_type": "code",
   "execution_count": 1,
   "metadata": {
    "run_control": {
     "read_only": false
    }
   },
   "outputs": [
    {
     "data": {
      "text/html": [
       "<div id=\"interact-js-shim\">\n",
       "    <script charset=\"utf-8\">\r\n",
       "(function (IPython, $, _, MathJax) {\r\n",
       "    $.event.special.destroyed = {\r\n",
       "\tremove: function(o) {\r\n",
       "\t    if (o.handler) {\r\n",
       "\t\to.handler.apply(this, arguments)\r\n",
       "\t    }\r\n",
       "\t}\r\n",
       "    }\r\n",
       "\r\n",
       "    var OutputArea = IPython.version >= \"4.0.0\" ? require(\"notebook/js/outputarea\").OutputArea : IPython.OutputArea;\r\n",
       "\r\n",
       "    var redrawValue = function (container, type, val) {\r\n",
       "\tvar selector = $(\"<div/>\");\r\n",
       "\tvar oa = new OutputArea(_.extend(selector, {\r\n",
       "\t    selector: selector,\r\n",
       "\t    prompt_area: true,\r\n",
       "\t    events: IPython.events,\r\n",
       "\t    keyboard_manager: IPython.keyboard_manager\r\n",
       "\t})); // Hack to work with IPython 2.1.0\r\n",
       "\r\n",
       "\tswitch (type) {\r\n",
       "\tcase \"image/png\":\r\n",
       "            var _src = 'data:' + type + ';base64,' + val;\r\n",
       "\t    $(container).find(\"img\").attr('src', _src);\r\n",
       "\t    break;\r\n",
       "\tcase \"text/latex\":\r\n",
       "\t\tif (MathJax){\r\n",
       "\t\t\tvar math = MathJax.Hub.getAllJax(container)[0];\r\n",
       "\t\t\tMathJax.Hub.Queue([\"Text\", math, val.replace(/^\\${1,2}|\\${1,2}$/g, '')]);\r\n",
       "\t\t\tbreak;\r\n",
       "\t\t}\r\n",
       "\tdefault:\r\n",
       "\t    var toinsert = OutputArea.append_map[type].apply(\r\n",
       "\t\toa, [val, {}, selector]\r\n",
       "\t    );\r\n",
       "\t    $(container).empty().append(toinsert.contents());\r\n",
       "\t    selector.remove();\r\n",
       "\t}\r\n",
       "    }\r\n",
       "\r\n",
       "\r\n",
       "    $(document).ready(function() {\r\n",
       "\tfunction initComm(evt, data) {\r\n",
       "\t    var comm_manager = data.kernel.comm_manager;\r\n",
       "        //_.extend(comm_manager.targets, require(\"widgets/js/widget\"))\r\n",
       "\t    comm_manager.register_target(\"Signal\", function (comm) {\r\n",
       "            comm.on_msg(function (msg) {\r\n",
       "                var val = msg.content.data.value;\r\n",
       "                $(\".signal-\" + comm.comm_id).each(function() {\r\n",
       "                var type = $(this).data(\"type\");\r\n",
       "                if (typeof(val[type]) !== \"undefined\" && val[type] !== null) {\r\n",
       "                    redrawValue(this, type, val[type], type);\r\n",
       "                }\r\n",
       "                });\r\n",
       "                delete val;\r\n",
       "                delete msg.content.data.value;\r\n",
       "            });\r\n",
       "\t    });\r\n",
       "\r\n",
       "\t    // coordingate with Comm and redraw Signals\r\n",
       "\t    // XXX: Test using Reactive here to improve performance\r\n",
       "\t    $([IPython.events]).on(\r\n",
       "\t\t'output_appended.OutputArea', function (event, type, value, md, toinsert) {\r\n",
       "\t\t    if (md && md.reactive) {\r\n",
       "                // console.log(md.comm_id);\r\n",
       "                toinsert.addClass(\"signal-\" + md.comm_id);\r\n",
       "                toinsert.data(\"type\", type);\r\n",
       "                // Signal back indicating the mimetype required\r\n",
       "                var comm_manager = IPython.notebook.kernel.comm_manager;\r\n",
       "                var comm = comm_manager.comms[md.comm_id];\r\n",
       "                comm.then(function (c) {\r\n",
       "                    c.send({action: \"subscribe_mime\",\r\n",
       "                       mime: type});\r\n",
       "                    toinsert.bind(\"destroyed\", function() {\r\n",
       "                        c.send({action: \"unsubscribe_mime\",\r\n",
       "                               mime: type});\r\n",
       "                    });\r\n",
       "                })\r\n",
       "\t\t    }\r\n",
       "\t    });\r\n",
       "\t}\r\n",
       "\r\n",
       "\ttry {\r\n",
       "\t    // try to initialize right away. otherwise, wait on the status_started event.\r\n",
       "\t    initComm(undefined, IPython.notebook);\r\n",
       "\t} catch (e) {\r\n",
       "\t    $([IPython.events]).on('kernel_created.Kernel kernel_created.Session', initComm);\r\n",
       "\t}\r\n",
       "    });\r\n",
       "})(IPython, jQuery, _, MathJax);\r\n",
       "</script>\n",
       "    <script>\n",
       "        window.interactLoadedFlag = true\n",
       "       $(\"#interact-js-shim\").bind(\"destroyed\", function () {\n",
       "           if (window.interactLoadedFlag) {\n",
       "               console.warn(\"JavaScript required by Interact will be removed if you remove this cell or run using Interact more than once.\")\n",
       "           }\n",
       "       })\n",
       "       $([IPython.events]).on(\"kernel_starting.Kernel kernel_restarting.Kernel\", function () { window.interactLoadedFlag = false })\n",
       "   </script>\n",
       "</div>"
      ]
     },
     "metadata": {},
     "output_type": "display_data"
    },
    {
     "data": {
      "text/markdown": [
       "\n"
      ],
      "text/plain": [
       "Revealables.Revealable(\"My third generation was a huge improvement; my fourth, not so much. \\nHere are the fitness ranks of my generations, if you're curious:<br clear=\\\"all\\\">\\nI: 19, 9, 8, -5<br clear=\\\"all\\\">\\nII: 13, 10, 3, 1<br clear=\\\"all\\\">\\nIII: 20, 15, 14, 10<br clear=\\\"all\\\">\\nIV: 28, 12, 11, -5<br clear=\\\"all\\\">\\n\\nThen I got hooked...<br clear=\\\"all\\\">\\nV: 21, 16, 12, 4<br clear=\\\"all\\\">\\nVI: 23, 21, 16, 6<br clear=\\\"all\\\">\\nVII: 21, 21, 21, 6<br clear=\\\"all\\\">\\n\\n\\nOne thing I noticed while getting hooked is that I wrote a program that made an array out of `rand(12)` and returned the location of anything less than 1/12, which saved some time. If you're curious, continue your own iterations with computer support. Depending on your programming experience, writing an entire program might take more time than doing it by hand.\\n\\nVIII: 24, 23, 21, 19.<br clear=\\\"all\\\">\\nI stopped here because it was lunchtime. The optimum solution is 1111 / 1111 / 0000 = 30. It's clear that successive generations are approaching the optimum, and also getting more uniform (though mutation keeps it interesting). Cool stuff.\\n\", \"Answer\", false, false)"
      ]
     },
     "execution_count": 1,
     "metadata": {},
     "output_type": "execute_result"
    }
   ],
   "source": [
    "using Interact\n",
    "using Revealables\n",
    "include(\"files/extras.jl\")\n",
    "include(\"files/answers.jl\")"
   ]
  },
  {
   "cell_type": "markdown",
   "metadata": {},
   "source": [
    "##The Premise\n",
    "<img src=\"files/2-10/onevarfxn.png\" width=150 align=\"left\" />\n",
    "In single-variable optimization, there are only two directions you can go from a single point: left or right. \n",
    "\n",
    "Right: this function is increasing\n",
    "\n",
    "Left: this function is decreasing\n",
    "\n",
    "<br clear=\"all\" />\n",
    "In two-variable problems, there are an infinite number of directions you can go from a single point.\n",
    "<img src=\"files/2-10/infdirs.png\" width=300 />\n",
    "Fortunately, it's sufficient to just test 4 directions&mdash;as long as we test those four repeatedly. So if the ideal direction is northwest, we can get there by going north, then west. \n",
    "<img src=\"files/2-10/fourdirs.png\" width=300 />"
   ]
  },
  {
   "cell_type": "markdown",
   "metadata": {},
   "source": [
    "###Practice Problem A\n",
    "Consider the function $f(x_1, x_2) = (x_1)^2 + 5(x_2)^2$. \n",
    "1. Enter this as a one-line function `f(a, b)`. Use it to evaluate the points (3, 5), (2, 0) and (-4, -1).\n",
    "2. Create a program that evaluates a given function $f(x_1, x_2)$ at $(x_1, x_2)$, $(x_1 + 0.1, x_2)$, $(x_1 - 0.1, x_2)$, $(x_1, x_2 + 0.1)$, and $(x_1, x_2 - 0.1)$, then returns the point with the lowest value. Run this program for each of the three points listed in Part 1.\n"
   ]
  },
  {
   "cell_type": "code",
   "execution_count": 2,
   "metadata": {
    "run_control": {
     "read_only": false
    }
   },
   "outputs": [
    {
     "ename": "LoadError",
     "evalue": "\u001b[91msyntax: incomplete: premature end of input\u001b[39m",
     "output_type": "error",
     "traceback": [
      "\u001b[91msyntax: incomplete: premature end of input\u001b[39m",
      "",
      "Stacktrace:",
      " [1] \u001b[1minclude_string\u001b[22m\u001b[22m\u001b[1m(\u001b[22m\u001b[22m::String, ::String\u001b[1m)\u001b[22m\u001b[22m at \u001b[1m.\\loading.jl:515\u001b[22m\u001b[22m"
     ]
    }
   ],
   "source": [
    "# 1. Write the one-line function\n",
    "f(a, b) = \n",
    "\n",
    "# 2. Write a program that finds the minimum\n"
   ]
  },
  {
   "cell_type": "code",
   "execution_count": null,
   "metadata": {
    "collapsed": true,
    "run_control": {
     "read_only": false
    }
   },
   "outputs": [],
   "source": [
    "# Test (3, 5), (2, 0) and (-4, -1)--one at a time"
   ]
  },
  {
   "cell_type": "code",
   "execution_count": 3,
   "metadata": {
    "run_control": {
     "read_only": false
    }
   },
   "outputs": [
    {
     "data": {
      "text/html": [],
      "text/plain": [
       "Interact.ToggleButton(1: \"input\" = false Bool , \"Answer\", false)"
      ]
     },
     "metadata": {},
     "output_type": "display_data"
    },
    {
     "data": {
      "text/markdown": [
       "\n"
      ],
      "text/plain": [
       "Revealables.Revealable(\"###Answer A\\n1. 134, 4, 21\\n2. Make sure you are getting a visual of what this does: it evaluates a function at a given point, then a smidgen above, a smidgen below, a smidgen right, and a smidgen left, then minimizes those values. The answers are: (3, 4.9); (1.9, 0); (-4, -0.9)\\n\\nThere are a lot of different ways to accomplish this task. Mine is below. \\n\\n<code>\\nf(a, b) = a^2 + 5*b^2\\n\\nfunction brute4(f, a, b)\\n    A = [a b; a+.1 b; a-.1 b; a b+.1; a b-.1]  # for brute force, I think using arrays is pretty slick.\\n    vals = [ ]\\n    for n in 1:5\\n        vals = vcat(vals, f(A[n], A[n+5]))  # builds a column array with successive values of points\\n    end\\n    loc = findmin(vals)[2]  # returns the location of the maximum value of vals (findmin(vals) alone will give a 1D array of (value, location))\\n    println(\\\"x1 at \\$(A[loc]) and x2 at \\$(A[loc + 5])\\\")\\nend\\n</code>\\n\", \"Answer\", false, false)"
      ]
     },
     "execution_count": 3,
     "metadata": {
      "comm_id": "caa72e6f-e476-4d28-8ad5-27ccf0df97ca",
      "reactive": true
     },
     "output_type": "execute_result"
    },
    {
     "name": "stderr",
     "output_type": "stream",
     "text": [
      "WARNING: Compat.ASCIIString is deprecated, use String instead.\n",
      "  likely near C:\\Users\\Victoria Docherty\\.julia\\v0.6\\IJulia\\src\\kernel.jl:31\n",
      "WARNING: Compat.ASCIIString is deprecated, use String instead.\n",
      "  likely near C:\\Users\\Victoria Docherty\\.julia\\v0.6\\IJulia\\src\\kernel.jl:31\n",
      "WARNING: Compat.ASCIIString is deprecated, use String instead.\n",
      "  likely near C:\\Users\\Victoria Docherty\\.julia\\v0.6\\IJulia\\src\\kernel.jl:31\n",
      "WARNING: Compat.ASCIIString is deprecated, use String instead.\n",
      "  likely near C:\\Users\\Victoria Docherty\\.julia\\v0.6\\IJulia\\src\\kernel.jl:31\n",
      "WARNING: Compat.ASCIIString is deprecated, use String instead.\n",
      "  likely near C:\\Users\\Victoria Docherty\\.julia\\v0.6\\IJulia\\src\\kernel.jl:31\n",
      "WARNING: Compat.ASCIIString is deprecated, use String instead.\n",
      "  likely near C:\\Users\\Victoria Docherty\\.julia\\v0.6\\IJulia\\src\\kernel.jl:31\n"
     ]
    }
   ],
   "source": [
    "revealable(ans210A)"
   ]
  },
  {
   "cell_type": "markdown",
   "metadata": {},
   "source": [
    "##And Then, Iterations\n",
    "Once we find the minimum point from the five candidates around and including the original, we can repeat the procedure. \n",
    "\n",
    "When the center point *is* the ideal point, then we are done. "
   ]
  },
  {
   "cell_type": "code",
   "execution_count": 4,
   "metadata": {
    "run_control": {
     "read_only": false
    }
   },
   "outputs": [
    {
     "data": {
      "text/html": [],
      "text/plain": [
       "Interact.Slider{Int64}(4: \"input-2\" = 1 Int64 , \"\", 1, 1:4, \"horizontal\", true, \"d\", true)"
      ]
     },
     "metadata": {},
     "output_type": "display_data"
    },
    {
     "data": {
      "text/markdown": [
       "<img src=\"files/2-10/step1.png\" width=300 />\n",
       "\n"
      ],
      "text/plain": [
       "Revealables.Revealable(\"<img src=\\\"files/2-10/step1.png\\\" width=300 />\\n\", \"\", true, false)"
      ]
     },
     "execution_count": 4,
     "metadata": {
      "comm_id": "db6637d3-106f-4458-aecf-059e0610265c",
      "reactive": true
     },
     "output_type": "execute_result"
    }
   ],
   "source": [
    "@manipulate for s = slider(1:4, value=1)\n",
    "    steps210[s]\n",
    "end"
   ]
  },
  {
   "cell_type": "markdown",
   "metadata": {},
   "source": [
    "##Practice Problem B\n",
    "Embed your program from Practice Problem A into a loop such that your program runs in successive iterations until the center point is the ideal point. \n",
    "\n",
    "Test your code with the function $f(x_1, x_2) = (x_1)^2 + 5(x_2)^2$, using the starting point $(3, 5)$.\n",
    "\n",
    "Then test the function $f(x_1, x_2) = (x_1 - 4)^2 + 5(x_2 + 3)^2$, with any starting point."
   ]
  },
  {
   "cell_type": "code",
   "execution_count": null,
   "metadata": {
    "collapsed": true,
    "run_control": {
     "read_only": false
    }
   },
   "outputs": [],
   "source": [
    "# Paste your answer to Practice Problem A here and modify it"
   ]
  },
  {
   "cell_type": "code",
   "execution_count": null,
   "metadata": {
    "collapsed": true,
    "run_control": {
     "read_only": false
    }
   },
   "outputs": [],
   "source": [
    "# Test with the two functions above"
   ]
  },
  {
   "cell_type": "code",
   "execution_count": 5,
   "metadata": {
    "run_control": {
     "read_only": false
    }
   },
   "outputs": [
    {
     "data": {
      "text/html": [],
      "text/plain": [
       "Interact.ToggleButton(8: \"input-3\" = false Bool , \"Answer\", false)"
      ]
     },
     "metadata": {},
     "output_type": "display_data"
    },
    {
     "data": {
      "text/markdown": [
       "\n"
      ],
      "text/plain": [
       "Revealables.Revealable(\"###Answer B\\nThe first practice function should narrow down to the origin; the second to (4, -3).\\n\\nAgain, multiple ways to do this. \\n<code>\\nf(a, b) = a^2 + 5*b^2\\n\\nfunction brute4min(f, a, b)\\n    loc = 7  # could be anything other than 1 as a seed, I just like 7\\n    while loc != 1  # stops the loop when the location of the ideal is position 1 (the original point)\\n        A = [a b; a+step b; a-step b; a b+step; a b-step]  # array stores all 5 points to test.\\n        vals = [ ]\\n        for n in 1:5\\n            vals = vcat(vals, f(A[n], A[n+5]))  # builds a column array with successive values of points\\n        end\\n        loc = findmin(vals)[2]  # returns the location of the maximum value of vals (findmin(vals) alone will give a 1D array of (value, location))\\n        a = A[loc]\\n        b = A[loc + 5] # taking advantage of fixed length of A at 5 to index directly rather than row, column\\n        end\\n        step = step/10        \\n    end\\n    println(\\\"x1 = \\$(round(a, 3)) and x2 = \\$(round(b, 3))\\\")  # rounding to 3 decimal places\\nend\\n</code>\\n\", \"Answer\", false, false)"
      ]
     },
     "execution_count": 5,
     "metadata": {
      "comm_id": "61f4e666-0eb6-458b-91b6-6f0144e1164b",
      "reactive": true
     },
     "output_type": "execute_result"
    }
   ],
   "source": [
    "revealable(ans210B)"
   ]
  },
  {
   "cell_type": "markdown",
   "metadata": {},
   "source": [
    "##Concerns With the Current Program\n",
    "There are two concerns with the program as it is currently.\n",
    "\n",
    "First, the test value of 0.1 is relatively large; it guarantees a certain lack of accuracy. But raising the accuracy greatly raises the number of iterations.\n",
    "\n",
    "Second, this method will only find the local minimum closest to the starting point, which may not be a global minimum.\n"
   ]
  },
  {
   "cell_type": "markdown",
   "metadata": {},
   "source": [
    "###Concern 1: Accuracy\n",
    "In our program, the accuracy is established at 0.1. Reducing this number, for example to 0.01, will increase accuracy but also iterations.\n",
    "\n",
    "One way around this is to run the program with a larger step size until an ideal point is found, then reduce the step size and run it again from the ideal point. \n",
    "\n",
    "As long as you're doing it this way, you can reduce the iterations greatly by starting with a much larger step size."
   ]
  },
  {
   "cell_type": "markdown",
   "metadata": {},
   "source": [
    "###Practice Problem C\n",
    "Consider the function \n",
    "$f(x_1, x_2) = (x_1 + x_2)^2 + (sin(x_1 + 2))^2 + (x_2)^2 + 10$.\n",
    "\n",
    "1. Find the ideal point using a step value of 1.\n",
    "\n",
    "2. Using that ideal point as your starting point, repeat with a step value of 0.1.\n",
    "\n",
    "3. Repeat for 0.01, 0.001 and 0.0001."
   ]
  },
  {
   "cell_type": "code",
   "execution_count": null,
   "metadata": {
    "collapsed": true,
    "run_control": {
     "read_only": false
    }
   },
   "outputs": [],
   "source": [
    "# Use your code from the previous problem!\n"
   ]
  },
  {
   "cell_type": "code",
   "execution_count": null,
   "metadata": {
    "collapsed": true,
    "run_control": {
     "read_only": false
    }
   },
   "outputs": [],
   "source": [
    "# Test your code here\n"
   ]
  },
  {
   "cell_type": "code",
   "execution_count": 6,
   "metadata": {
    "run_control": {
     "read_only": false
    }
   },
   "outputs": [
    {
     "data": {
      "text/html": [],
      "text/plain": [
       "Interact.ToggleButton(11: \"input-4\" = false Bool , \"Answer\", false)"
      ]
     },
     "metadata": {},
     "output_type": "display_data"
    },
    {
     "data": {
      "text/markdown": [
       "\n"
      ],
      "text/plain": [
       "Revealables.Revealable(\"###Answer C\\nAnswers should approach approximately (0.7313..., -0.3656...).\\n\", \"Answer\", false, false)"
      ]
     },
     "execution_count": 6,
     "metadata": {
      "comm_id": "d0df2b5f-515e-4b2e-93c3-a4c938b99d56",
      "reactive": true
     },
     "output_type": "execute_result"
    }
   ],
   "source": [
    "revealable(ans210C)"
   ]
  },
  {
   "cell_type": "markdown",
   "metadata": {},
   "source": [
    "###Practice Problem D\n",
    "Write a program that will start with a step value of 1 and successively reduce the step value through multiple iterations of the program."
   ]
  },
  {
   "cell_type": "code",
   "execution_count": null,
   "metadata": {
    "collapsed": true,
    "run_control": {
     "read_only": false
    }
   },
   "outputs": [],
   "source": [
    "# Use the programs you've already written!\n"
   ]
  },
  {
   "cell_type": "code",
   "execution_count": null,
   "metadata": {
    "collapsed": true,
    "run_control": {
     "read_only": false
    }
   },
   "outputs": [],
   "source": [
    "# Test your code here\n"
   ]
  },
  {
   "cell_type": "code",
   "execution_count": 7,
   "metadata": {
    "run_control": {
     "read_only": false
    }
   },
   "outputs": [
    {
     "data": {
      "text/html": [],
      "text/plain": [
       "Interact.ToggleButton(14: \"input-5\" = false Bool , \"Answer\", false)"
      ]
     },
     "metadata": {},
     "output_type": "display_data"
    },
    {
     "data": {
      "text/markdown": [
       "\n"
      ],
      "text/plain": [
       "Revealables.Revealable(\"###Answer D\\n<code>\\nfunction brute4min(f, a, b)\\n    step = 1\\n    for n in 1:8\\n        loc = 7  # could be anything other than 1 as a seed, I just like 7\\n        while loc != 1  # stops the loop when the location of the ideal is position 1 (the original point)\\n            A = [a b; a+step b; a-step b; a b+step; a b-step]  # array stores all 5 points to test.\\n            vals = [ ]\\n            for n in 1:5\\n                vals = vcat(vals, f(A[n], A[n+5]))  # builds a column array with successive values of points\\n            end\\n            loc = findmin(vals)[2]  # returns the location of the maximum value of vals (findmin(vals) alone will give a 1D array of (value, location))\\n            a = A[loc]\\n            b = A[loc + 5] # taking advantage of fixed length of A at 5 to index directly rather than row, column\\n        end\\n        step = step/10\\n        println(\\\"x1 = \\$a and x2 = \\$b\\\")  # note that this will print out each successive result, not just a final one; move this down if all you want is final\\n    end\\nend\\n</code>\\n\", \"Answer\", false, false)"
      ]
     },
     "execution_count": 7,
     "metadata": {
      "comm_id": "e8e9684b-f7df-4c6a-8e30-402c29b6aed3",
      "reactive": true
     },
     "output_type": "execute_result"
    }
   ],
   "source": [
    "revealable(ans210D)"
   ]
  },
  {
   "cell_type": "markdown",
   "metadata": {},
   "source": [
    "###Concern 2: Getting Stuck in Local Minima\n",
    "There is no \"sawtooth method\" for 3D functions, so the simplest thing is to test points. It still won't guarantee a global minimum, but it will help.\n",
    "\n",
    "Testing points in 2 variables involves a lot more points because the lattice will be a 2-dimensional array rather than a 1-dimensional segment. For this reason, you don't want to choose really small intervals&mdash;we're back to the recurring theme of accuracy versus efficiency. Accuracy would call for reducing the interval test size; efficiency resists that. \n",
    "\n",
    "As an example, let's say you divide your interval into 10ths. That's 11 points in both direction, 121 points to test. Let's say you increase it to 20ths. Suddenly there’s 441 points. Don't even think about 100ths!\n"
   ]
  },
  {
   "cell_type": "markdown",
   "metadata": {},
   "source": [
    "##Useful Code: Nested Loops\n",
    "Here’s an example of a nested `for` loop. That's what we call a loop inside a loop."
   ]
  },
  {
   "cell_type": "code",
   "execution_count": 8,
   "metadata": {
    "run_control": {
     "read_only": false
    }
   },
   "outputs": [
    {
     "name": "stdout",
     "output_type": "stream",
     "text": [
      "1, 1\n",
      "1, 2\n",
      "1, 3\n",
      "1, 4\n",
      "2, 1\n",
      "2, 2\n",
      "2, 3\n",
      "2, 4\n",
      "3, 1\n",
      "3, 2\n",
      "3, 3\n",
      "3, 4\n",
      "4, 1\n",
      "4, 2\n",
      "4, 3\n",
      "4, 4\n"
     ]
    }
   ],
   "source": [
    "for x = 1:4\n",
    "    for y = 1:4\n",
    "        println(\"$x, $y\")\n",
    "    end\n",
    "end"
   ]
  },
  {
   "cell_type": "markdown",
   "metadata": {},
   "source": [
    "You can also do it this way:"
   ]
  },
  {
   "cell_type": "code",
   "execution_count": 9,
   "metadata": {
    "run_control": {
     "read_only": false
    }
   },
   "outputs": [
    {
     "name": "stdout",
     "output_type": "stream",
     "text": [
      "1, 1\n",
      "1, 2\n",
      "1, 3\n",
      "1, 4\n",
      "2, 1\n",
      "2, 2\n",
      "2, 3\n",
      "2, 4\n",
      "3, 1\n",
      "3, 2\n",
      "3, 3\n",
      "3, 4\n",
      "4, 1\n",
      "4, 2\n",
      "4, 3\n",
      "4, 4\n"
     ]
    }
   ],
   "source": [
    "for x = 1:4, y = 1:4\n",
    "    println(\"$x, $y\")\n",
    "end"
   ]
  },
  {
   "cell_type": "markdown",
   "metadata": {},
   "source": [
    "The second way is shorter, but the first is clearer. Generally you should write it the clearer way.\n",
    "\n",
    "You can also nest `for` loops with `while` loops and `while` loops inside each other.\n",
    "\n",
    "------------\n",
    "A reminder of how to use `for` loops for non-integer values:"
   ]
  },
  {
   "cell_type": "code",
   "execution_count": 10,
   "metadata": {
    "run_control": {
     "read_only": false
    }
   },
   "outputs": [
    {
     "name": "stdout",
     "output_type": "stream",
     "text": [
      "1.0\n",
      "1.25\n",
      "1.5\n",
      "1.75\n",
      "2.0\n",
      "2.25\n",
      "2.5\n",
      "2.75\n",
      "3.0\n",
      "3.25\n",
      "3.5\n",
      "3.75\n",
      "4.0\n",
      "4.25\n",
      "4.5\n",
      "4.75\n",
      "5.0\n",
      "5.25\n",
      "5.5\n",
      "5.75\n",
      "6.0\n",
      "6.25\n",
      "6.5\n",
      "6.75\n",
      "7.0\n",
      "7.25\n",
      "7.5\n",
      "7.75\n",
      "8.0\n",
      "8.25\n",
      "8.5\n",
      "8.75\n",
      "9.0\n",
      "9.25\n",
      "9.5\n",
      "9.75\n",
      "10.0\n",
      "10.25\n",
      "10.5\n",
      "10.75\n",
      "11.0\n",
      "11.25\n",
      "11.5\n",
      "11.75\n",
      "12.0\n"
     ]
    }
   ],
   "source": [
    "for x = 1:0.25:12\n",
    "    println(x)\n",
    "end"
   ]
  },
  {
   "cell_type": "markdown",
   "metadata": {},
   "source": [
    "Here's another way, in which you could also enter any function you like into a `for` loop:"
   ]
  },
  {
   "cell_type": "code",
   "execution_count": 11,
   "metadata": {
    "run_control": {
     "read_only": false
    }
   },
   "outputs": [
    {
     "name": "stdout",
     "output_type": "stream",
     "text": [
      "1.0\n",
      "1.25\n",
      "1.5\n",
      "1.75\n",
      "2.0\n",
      "2.25\n",
      "2.5\n",
      "2.75\n",
      "3.0\n",
      "3.25\n",
      "3.5\n",
      "3.75\n",
      "4.0\n"
     ]
    }
   ],
   "source": [
    "for x in Any[1+.25n for n = 0:12]\n",
    "    println(x)\n",
    "end"
   ]
  },
  {
   "cell_type": "markdown",
   "metadata": {},
   "source": [
    "###Practice Problem E\n",
    "Write a program that will test points on a 2-dimensional interval ($x_1$ from $a$ to $b$, $x_2$ from $c$ to $d$) by dividing both intervals into 5 equal sub-intervals and returning the point with the lowest value.\n",
    "\n",
    "Test with this function, known as \"Rosenbrock's Function\":\n",
    "\n",
    "$f(x_1, x_2) = 100(x_1 - x_2)^2 + (1 - x_2)^2$\n",
    "\n",
    "$x_1$ from -3 to 3, $x_2$ from -2 to 5\n",
    "\n"
   ]
  },
  {
   "cell_type": "code",
   "execution_count": null,
   "metadata": {
    "collapsed": true,
    "run_control": {
     "read_only": false
    }
   },
   "outputs": [],
   "source": [
    "# Write your code"
   ]
  },
  {
   "cell_type": "code",
   "execution_count": null,
   "metadata": {
    "collapsed": true,
    "run_control": {
     "read_only": false
    }
   },
   "outputs": [],
   "source": [
    "# Test it with Rosenbrock's Function"
   ]
  },
  {
   "cell_type": "code",
   "execution_count": 12,
   "metadata": {
    "run_control": {
     "read_only": false
    }
   },
   "outputs": [
    {
     "data": {
      "text/html": [],
      "text/plain": [
       "Interact.ToggleButton(17: \"input-6\" = false Bool , \"Answer\", false)"
      ]
     },
     "metadata": {},
     "output_type": "display_data"
    },
    {
     "data": {
      "text/markdown": [
       "\n"
      ],
      "text/plain": [
       "Revealables.Revealable(\"###Answer E\\n\\nThe actual minimum occurs at (1, 1). My version of this code came up with a starting point of (-0.6, -0.6). This was close enough to give the actual minimum using the previous program.\\n<code>\\nf(a, b) = 100*(a - b)^2 + (1-b)^2\\n\\nfunction gridsearch(f, a, b, c, d)\\n    int1 = (b-a)/5  # splits the x1 interval into 5 sections, 6 total points \\n    int2 = (d-c)/5  # same for x2\\n    min = f(a, c)\\n    A = [a c]  # seeds (a, c) as initial minimum point\\n    for x in {a + int1*n for n in 0:5}  # array of 6 evenly spaced points from a to b\\n        for y in {c + int2*n for n in 0:5}  # nested, 6 evenly spaced points from c to d\\n            test = f(x, y)\\n            if test < min  # if the function value here is lower than the current min, replaces it and location\\n                min = test\\n                A = [x y]\\n            end\\n        end\\n    end\\n    println(\\\"x1 = \\$(A[1]), x2 = \\$(A[2])\\\")  # prints the location of the lowest value\\nend\\n</code>\\n\", \"Answer\", false, false)"
      ]
     },
     "execution_count": 12,
     "metadata": {
      "comm_id": "00cf5cd8-f5ca-4c69-b4f6-a1c424e9a1d4",
      "reactive": true
     },
     "output_type": "execute_result"
    }
   ],
   "source": [
    "revealable(ans210E)"
   ]
  },
  {
   "cell_type": "markdown",
   "metadata": {},
   "source": [
    "###Extension Problem\n",
    "Modify your intelligent brute force program (Practice Problem E) for a function in 3 variables, $f(x_1, x_2, x_3)$."
   ]
  },
  {
   "cell_type": "code",
   "execution_count": null,
   "metadata": {
    "collapsed": true,
    "run_control": {
     "read_only": false
    }
   },
   "outputs": [],
   "source": [
    "# Paste your answer to Practice Problem E here, then modify it\n"
   ]
  },
  {
   "cell_type": "code",
   "execution_count": null,
   "metadata": {
    "collapsed": true,
    "run_control": {
     "read_only": false
    }
   },
   "outputs": [],
   "source": [
    "# Test code here"
   ]
  },
  {
   "cell_type": "code",
   "execution_count": 13,
   "metadata": {
    "run_control": {
     "read_only": false
    }
   },
   "outputs": [
    {
     "data": {
      "text/html": [],
      "text/plain": [
       "Interact.ToggleButton(20: \"input-7\" = false Bool , \"Answer\", false)"
      ]
     },
     "metadata": {},
     "output_type": "display_data"
    },
    {
     "data": {
      "text/markdown": [
       "\n"
      ],
      "text/plain": [
       "Revealables.Revealable(\"###Sample Answer\\n<code>\\nfunction brute4min(f, a, b, c)\\n    step = 1\\n    for n = 1:8\\n        loc = 7  # could be anything other than 1 as a seed, I just like 7\\n        while loc != 1  # stops the loop when the location of the ideal is position 1 (the original point)\\n            A = [a b c; a+step b c; a-step b c; a b+step c; a b-step c; a b c+step; a b c-step  # add c and steps of c into A\\n            vals = [ ]\\n            for n = 1:5\\n            vals = vcat(vals, f(A[n], A[n+7], A[n+14]))  # builds a column array with successive values of points. A has 7 rows\\n        end\\n            loc = findmin(vals)[2]  # returns location of maximum value of vals (loc alone will give a 1D array of (value, location))\\n            a = A[loc]\\n            b = A[loc + 7] # A's length is fixed at 7, so we can index directly\\n            c = A[loc + 14]\\n        end\\n        step = step/10\\n        println(\\\"x1 = \\$a, x2 = \\$b, x3 = \\$c\\\")  # now prints out all 3 variables\\n    end\\nend\\n</code>\\n\", \"Answer\", false, false)"
      ]
     },
     "execution_count": 13,
     "metadata": {
      "comm_id": "7294b7d6-ee91-4ff0-b3ac-9c39769c0f9a",
      "reactive": true
     },
     "output_type": "execute_result"
    }
   ],
   "source": [
    "revealable(ext210)"
   ]
  },
  {
   "cell_type": "code",
   "execution_count": null,
   "metadata": {
    "collapsed": true,
    "run_control": {
     "read_only": false
    }
   },
   "outputs": [],
   "source": []
  }
 ],
 "metadata": {
  "kernelspec": {
   "display_name": "Julia 0.6.0",
   "language": "julia",
   "name": "julia-0.6"
  },
  "language_info": {
   "file_extension": ".jl",
   "mimetype": "application/julia",
   "name": "julia",
   "version": "0.6.0"
  }
 },
 "nbformat": 4,
 "nbformat_minor": 1
}
