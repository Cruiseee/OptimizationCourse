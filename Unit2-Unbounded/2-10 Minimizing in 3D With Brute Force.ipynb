{
 "cells": [
  {
   "cell_type": "markdown",
   "metadata": {
    "run_control": {
     "read_only": false
    }
   },
   "source": [
    "# 2-10 Minimizing in 3D With Brute Force\n",
    "(also with Brute Intelligence)"
   ]
  },
  {
   "cell_type": "code",
   "execution_count": null,
   "metadata": {
    "collapsed": false,
    "run_control": {
     "read_only": false
    }
   },
   "outputs": [],
   "source": [
    "using Revealables\n",
    "using Interact\n",
    "include(\"files/answers.jl\")"
   ]
  },
  {
   "cell_type": "markdown",
   "metadata": {},
   "source": [
    "##The Premise\n",
    "<img src=\"files/2-10/onevarfxn.png\" width=150 align=\"left\" />\n",
    "In single-variable optimization, there are only two directions you can go from a single point: left or right. \n",
    "\n",
    "Right: this function is increasing\n",
    "\n",
    "Left: this function is decreasing\n",
    "\n",
    "<br clear=\"all\" />\n",
    "In two-variable problems, there are an infinite number of directions you can go from a single point.\n",
    "<img src=\"files/2-10/infdirs.png\" width=300 />\n",
    "Fortunately, it's sufficient to just test 4 directions&mdash;as long as we test those four repeatedly. So if the ideal direction is northwest, we can get there by going north, then west. \n",
    "<img src=\"files/2-10/fourdirs.png\" width=300 />"
   ]
  },
  {
   "cell_type": "markdown",
   "metadata": {},
   "source": [
    "###Practice Problem A\n",
    "Consider the function $f(x_1, x_2) = (x_1)^2 + 5(x_2)^2$. \n",
    "1. Enter this as a one-line function `f(a, b)`. Use it to evaluate the points (3, 5), (2, 0) and (-4, -1).\n",
    "2. Create a program that evaluates a given function $f(x_1, x_2)$ at $(x_1, x_2)$, $(x_1 + 0.1, x_2)$, $(x_1 - 0.1, x_2)$, $(x_1, x_2 + 0.1)$, and $(x_1, x_2 - 0.1)$, then returns the point with the lowest value. Run this program for each of the three points listed in Part 1.\n"
   ]
  },
  {
   "cell_type": "code",
   "execution_count": null,
   "metadata": {
    "collapsed": false,
    "run_control": {
     "read_only": false
    }
   },
   "outputs": [],
   "source": [
    "# 1. Write the one-line function\n",
    "f(a, b) = \n",
    "\n",
    "# 2. Write a program that finds the minimum\n"
   ]
  },
  {
   "cell_type": "code",
   "execution_count": null,
   "metadata": {
    "collapsed": true,
    "run_control": {
     "read_only": false
    }
   },
   "outputs": [],
   "source": [
    "# Test (3, 5), (2, 0) and (-4, -1)--one at a time"
   ]
  },
  {
   "cell_type": "code",
   "execution_count": null,
   "metadata": {
    "collapsed": false,
    "run_control": {
     "read_only": false
    }
   },
   "outputs": [],
   "source": [
    "revealable(ans210A)"
   ]
  },
  {
   "cell_type": "markdown",
   "metadata": {},
   "source": [
    "##And Then, Iterations\n",
    "Once we find the minimum point from the five candidates around and including the original, we can repeat the procedure. \n",
    "\n",
    "When the center point *is* the ideal point, then we are done. "
   ]
  },
  {
   "cell_type": "code",
   "execution_count": null,
   "metadata": {
    "collapsed": false,
    "run_control": {
     "read_only": false
    }
   },
   "outputs": [],
   "source": [
    "@manipulate for s = slider(1:4, value=1)\n",
    "    steps210[s]\n",
    "end"
   ]
  },
  {
   "cell_type": "markdown",
   "metadata": {},
   "source": [
    "##Practice Problem B\n",
    "Embed your program from Practice Problem A into a loop such that your program runs in successive iterations until the center point is the ideal point. \n",
    "\n",
    "Test your code with the function $f(x_1, x_2) = (x_1)^2 + 5(x_2)^2$, using the starting point $(3, 5)$.\n",
    "\n",
    "Then test the function $f(x_1, x_2) = (x_1 - 4)^2 + 5(x_2 + 3)^2$, with any starting point."
   ]
  },
  {
   "cell_type": "code",
   "execution_count": null,
   "metadata": {
    "collapsed": true,
    "run_control": {
     "read_only": false
    }
   },
   "outputs": [],
   "source": [
    "# Paste your answer to Practice Problem A here and modify it"
   ]
  },
  {
   "cell_type": "code",
   "execution_count": null,
   "metadata": {
    "collapsed": true,
    "run_control": {
     "read_only": false
    }
   },
   "outputs": [],
   "source": [
    "# Test with the two functions above"
   ]
  },
  {
   "cell_type": "code",
   "execution_count": null,
   "metadata": {
    "collapsed": false,
    "run_control": {
     "read_only": false
    }
   },
   "outputs": [],
   "source": [
    "revealable(ans210B)"
   ]
  },
  {
   "cell_type": "markdown",
   "metadata": {},
   "source": [
    "##Concerns With the Current Program\n",
    "There are two concerns with the program as it is currently.\n",
    "\n",
    "First, the test value of 0.1 is relatively large; it guarantees a certain lack of accuracy. But raising the accuracy greatly raises the number of iterations.\n",
    "\n",
    "Second, this method will only find the local minimum closest to the starting point, which may not be a global minimum.\n"
   ]
  },
  {
   "cell_type": "markdown",
   "metadata": {},
   "source": [
    "###Concern 1: Accuracy\n",
    "In our program, the accuracy is established at 0.1. Reducing this number, for example to 0.01, will increase accuracy but also iterations.\n",
    "\n",
    "One way around this is to run the program with a larger step size until an ideal point is found, then reduce the step size and run it again from the ideal point. \n",
    "\n",
    "As long as you're doing it this way, you can reduce the iterations greatly by starting with a much larger step size."
   ]
  },
  {
   "cell_type": "markdown",
   "metadata": {},
   "source": [
    "###Practice Problem C\n",
    "Consider the function \n",
    "$f(x_1, x_2) = (x_1 + x_2)^2 + (sin(x_1 + 2))^2 + (x_2)^2 + 10$.\n",
    "\n",
    "1. Find the ideal point using a step value of 1.\n",
    "\n",
    "2. Using that ideal point as your starting point, repeat with a step value of 0.1.\n",
    "\n",
    "3. Repeat for 0.01, 0.001 and 0.0001."
   ]
  },
  {
   "cell_type": "code",
   "execution_count": null,
   "metadata": {
    "collapsed": true,
    "run_control": {
     "read_only": false
    }
   },
   "outputs": [],
   "source": [
    "# Use your code from the previous problem!\n"
   ]
  },
  {
   "cell_type": "code",
   "execution_count": null,
   "metadata": {
    "collapsed": true,
    "run_control": {
     "read_only": false
    }
   },
   "outputs": [],
   "source": [
    "# Test your code here\n"
   ]
  },
  {
   "cell_type": "code",
   "execution_count": null,
   "metadata": {
    "collapsed": false,
    "run_control": {
     "read_only": false
    }
   },
   "outputs": [],
   "source": [
    "revealable(ans210C)"
   ]
  },
  {
   "cell_type": "markdown",
   "metadata": {},
   "source": [
    "###Practice Problem D\n",
    "Write a program that will start with a step value of 1 and successively reduce the step value through multiple iterations of the program."
   ]
  },
  {
   "cell_type": "code",
   "execution_count": null,
   "metadata": {
    "collapsed": true,
    "run_control": {
     "read_only": false
    }
   },
   "outputs": [],
   "source": [
    "# Use the programs you've already written!\n"
   ]
  },
  {
   "cell_type": "code",
   "execution_count": null,
   "metadata": {
    "collapsed": true,
    "run_control": {
     "read_only": false
    }
   },
   "outputs": [],
   "source": [
    "# Test your code here\n"
   ]
  },
  {
   "cell_type": "code",
   "execution_count": null,
   "metadata": {
    "collapsed": false,
    "run_control": {
     "read_only": false
    }
   },
   "outputs": [],
   "source": [
    "revealable(ans210D)"
   ]
  },
  {
   "cell_type": "markdown",
   "metadata": {},
   "source": [
    "###Concern 2: Getting Stuck in Local Minima\n",
    "There is no \"sawtooth method\" for 3D functions, so the simplest thing is to test points. It still won't guarantee a global minimum, but it will help.\n",
    "\n",
    "Testing points in 2 variables involves a lot more points because the lattice will be a 2-dimensional array rather than a 1-dimensional segment. For this reason, you don't want to choose really small intervals&mdash;we're back to the recurring theme of accuracy versus efficiency. Accuracy would call for reducing the interval test size; efficiency resists that. \n",
    "\n",
    "As an example, let's say you divide your interval into 10ths. That's 11 points in both direction, 121 points to test. Let's say you increase it to 20ths. Suddenly there’s 441 points. Don't even think about 100ths!\n"
   ]
  },
  {
   "cell_type": "markdown",
   "metadata": {},
   "source": [
    "##Useful Code: Nested Loops\n",
    "Here’s an example of a nested `for` loop. That's what we call a loop inside a loop."
   ]
  },
  {
   "cell_type": "code",
   "execution_count": null,
   "metadata": {
    "collapsed": false,
    "run_control": {
     "read_only": false
    }
   },
   "outputs": [],
   "source": [
    "for x = 1:4\n",
    "    for y = 1:4\n",
    "        println(\"$x, $y\")\n",
    "    end\n",
    "end"
   ]
  },
  {
   "cell_type": "markdown",
   "metadata": {},
   "source": [
    "You can also do it this way:"
   ]
  },
  {
   "cell_type": "code",
   "execution_count": null,
   "metadata": {
    "collapsed": false,
    "run_control": {
     "read_only": false
    }
   },
   "outputs": [],
   "source": [
    "for x = 1:4, y = 1:4\n",
    "    println(\"$x, $y\")\n",
    "end"
   ]
  },
  {
   "cell_type": "markdown",
   "metadata": {},
   "source": [
    "The second way is shorter, but the first is clearer. Generally you should write it the clearer way.\n",
    "\n",
    "You can also nest `for` loops with `while` loops and `while` loops inside each other.\n",
    "\n",
    "------------\n",
    "A reminder of how to use `for` loops for non-integer values:"
   ]
  },
  {
   "cell_type": "code",
   "execution_count": null,
   "metadata": {
    "collapsed": false,
    "run_control": {
     "read_only": false
    }
   },
   "outputs": [],
   "source": [
    "for x = 1:0.25:12\n",
    "    println(x)\n",
    "end"
   ]
  },
  {
   "cell_type": "markdown",
   "metadata": {},
   "source": [
    "Here's another way, in which you could also enter any function you like into a `for` loop:"
   ]
  },
  {
   "cell_type": "code",
   "execution_count": null,
   "metadata": {
    "collapsed": false,
    "run_control": {
     "read_only": false
    }
   },
   "outputs": [],
   "source": [
    "for x in {1+.25n for n = 0:12}\n",
    "    println(x)\n",
    "end"
   ]
  },
  {
   "cell_type": "markdown",
   "metadata": {},
   "source": [
    "###Practice Problem E\n",
    "Write a program that will test points on a 2-dimensional interval ($x_1$ from $a$ to $b$, $x_2$ from $c$ to $d$) by dividing both intervals into 5 equal sub-intervals and returning the point with the lowest value.\n",
    "\n",
    "Test with this function, known as \"Rosenbrock's Function\":\n",
    "\n",
    "$f(x_1, x_2) = 100(x_1 - x_2)^2 + (1 - x_2)^2$\n",
    "\n",
    "$x_1$ from -3 to 3, $x_2$ from -2 to 5\n",
    "\n"
   ]
  },
  {
   "cell_type": "code",
   "execution_count": null,
   "metadata": {
    "collapsed": true,
    "run_control": {
     "read_only": false
    }
   },
   "outputs": [],
   "source": [
    "# Write your code"
   ]
  },
  {
   "cell_type": "code",
   "execution_count": null,
   "metadata": {
    "collapsed": true,
    "run_control": {
     "read_only": false
    }
   },
   "outputs": [],
   "source": [
    "# Test it with Rosenbrock's Function"
   ]
  },
  {
   "cell_type": "code",
   "execution_count": null,
   "metadata": {
    "collapsed": false,
    "run_control": {
     "read_only": false
    }
   },
   "outputs": [],
   "source": [
    "revealable(ans210E)"
   ]
  },
  {
   "cell_type": "markdown",
   "metadata": {},
   "source": [
    "###Extension Problem\n",
    "Modify your intelligent brute force program (Practice Problem E) for a function in 3 variables, $f(x_1, x_2, x_3)$."
   ]
  },
  {
   "cell_type": "code",
   "execution_count": null,
   "metadata": {
    "collapsed": false,
    "run_control": {
     "read_only": false
    }
   },
   "outputs": [],
   "source": [
    "# Paste your answer to Practice Problem E here, then modify it\n"
   ]
  },
  {
   "cell_type": "code",
   "execution_count": null,
   "metadata": {
    "collapsed": false,
    "run_control": {
     "read_only": false
    }
   },
   "outputs": [],
   "source": [
    "# Test code here"
   ]
  },
  {
   "cell_type": "code",
   "execution_count": null,
   "metadata": {
    "collapsed": false,
    "run_control": {
     "read_only": false
    }
   },
   "outputs": [],
   "source": [
    "revealable(ext210)"
   ]
  },
  {
   "cell_type": "code",
   "execution_count": null,
   "metadata": {
    "collapsed": true,
    "run_control": {
     "read_only": false
    }
   },
   "outputs": [],
   "source": []
  }
 ],
 "metadata": {
  "kernelspec": {
   "display_name": "Julia 0.3.10",
   "language": "julia",
   "name": "julia-0.3"
  },
  "language_info": {
   "file_extension": ".jl",
   "mimetype": "application/julia",
   "name": "julia",
   "version": "0.3.10"
  }
 },
 "nbformat": 4,
 "nbformat_minor": 0
}
