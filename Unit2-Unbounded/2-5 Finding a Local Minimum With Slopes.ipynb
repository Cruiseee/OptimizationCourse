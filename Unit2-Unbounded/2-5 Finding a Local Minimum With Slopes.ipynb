{
 "cells": [
  {
   "cell_type": "markdown",
   "metadata": {
    "run_control": {
     "read_only": false
    }
   },
   "source": [
    "# 2-5 Finding a Local Minimum With Slopes"
   ]
  },
  {
   "cell_type": "code",
   "execution_count": 2,
   "metadata": {
    "collapsed": false,
    "run_control": {
     "read_only": false
    }
   },
   "outputs": [
    {
     "data": {
      "text/markdown": [
       "\n"
      ],
      "text/plain": [
       "Revealable(\"###Sample Program:\\n\\n    f(x) = x^2 - 4x  # function can be modified to whatever\\n\\n    function secant(f, a, b)\\n        while abs(b - a) > 0.00001  # more accurate is fine. Note absolute value is important for distance!\\n                                    # Also could use f(b) < 0.00001.\\n            m = (f(a) - f(b))/(a - b)  # made a variable for slope to simplify next line\\n            x = -f(a)/m + a  # calculating the x-intercept\\n            a = b  # redefining a and b to include the old b and the x-intercept x\\n            b = x \\n        end  # loop ends when tolerance is reached\\n        println(b)  # print the value of b (the last x-intercept found).\\n    end\\n\",\"Answer\",false)"
      ]
     },
     "execution_count": 2,
     "metadata": {},
     "output_type": "execute_result"
    }
   ],
   "source": [
    "using Revealables\n",
    "include(\"files/answers.jl\")"
   ]
  },
  {
   "cell_type": "markdown",
   "metadata": {},
   "source": [
    "Suppose you know the endpoints of an interval containing a minimum value. You can find the slope between the two points.\n",
    "\n",
    "You can use your 3-point interval program to find suitable interval endpoints!\n",
    "\n",
    "The slope doesn’t tell us much about the minimum, but it does tell us about the endpoints.\n",
    "\n",
    "\n",
    "<img src=\"files/2-5/slope_pos.png\" width=100 align=\"left\"/>If the slope is positive, the right endpoint is too far to the right and should be shifted a little to the left.\n",
    "<br clear=\"all\" />\n",
    "<img src=\"files/2-5/slope_neg.png\" width=100 align=\"left\"/>If the slope is negative, we need to shift the left endpoint to the right.\n",
    "<br clear=\"all\" />\n",
    "<img src=\"files/2-5/slope_zero.png\" width=100 align=\"left\"/>If the slope is zero, the minimum is probably around the middle of the interval."
   ]
  },
  {
   "cell_type": "markdown",
   "metadata": {},
   "source": [
    "###Practice Problem A\n",
    "\n",
    "Write a program that, given the endpoints of an interval containing the minimum, uses slope information to narrow the interval until the width of the interval is less than 0.0001.\n",
    "\n",
    "Test your code! Be sure you test functions where the minimum is not \"balanced,\" like $y = x^4 + x$.\n",
    "\n",
    "Save and document this program&mdash;you'll want to use it later."
   ]
  },
  {
   "cell_type": "code",
   "execution_count": null,
   "metadata": {
    "collapsed": true,
    "run_control": {
     "read_only": false
    }
   },
   "outputs": [],
   "source": [
    "# Write your program"
   ]
  },
  {
   "cell_type": "code",
   "execution_count": null,
   "metadata": {
    "collapsed": true,
    "run_control": {
     "read_only": false
    }
   },
   "outputs": [],
   "source": [
    "# Test it here"
   ]
  },
  {
   "cell_type": "code",
   "execution_count": 3,
   "metadata": {
    "collapsed": false,
    "run_control": {
     "read_only": false
    },
    "scrolled": true
   },
   "outputs": [
    {
     "data": {
      "text/html": [],
      "text/plain": [
       "ToggleButton([Input{Bool}] false,\"Answer\",false)"
      ]
     },
     "metadata": {},
     "output_type": "display_data"
    },
    {
     "data": {
      "text/markdown": [
       "\n"
      ],
      "text/plain": [
       "Revealable(\"###Answer A\\n\\nOne of the tricky things about this task is how much to narrow the interval. I used thirds in my program for speed and convenience, though I worried that thirds might be overly aggressive. There's a possibility that the minimum would occur in the outer third and if I skip over it, I'll end up with an infinite loop in my program. Fortunately infinite loops are easy to identify, and then I would just change my /3 to /4 or /10 or something and repeat.\\n\\nHow did you choose to narrow the interval, and why? \\n<code>\\nfunction findmin(f, leftbound, rightbound)  # Function `f` will need to be pre-loaded. \\n    while rightbound - leftbound > .0001  # This tolerance can be adjusted as needed. Or, add a new defined variable `tolerance`.\\n        slope = (f(rightbound) - f(leftbound))/(rightbound - leftbound)\\n        if slope < 0\\n                leftbound = leftbound + (rightbound - leftbound)/3  # here's that /3 -- modify as needed\\n        elseif slope > 0\\n                rightbound = rightbound - (rightbound - leftbound)/3\\n        else  # In the special case where the slopes are equal it marches both endpoints in. \\n            leftbound = leftbound + (rightbound + leftbound)/3 \\n            rightbound = rightbound - (rightbound + leftbound)/3\\n        end\\n    end\\n    println(\\\"\\$leftbound, \\$rightbound\\\")  # Prints the boundaries, from which you can estimate the location of the minimum\\nend\\n</code>\\n\",\"Answer\",false)"
      ]
     },
     "execution_count": 3,
     "metadata": {
      "comm_id": "070f2bc0-ab60-40fa-93d5-012db628df6e",
      "reactive": true
     },
     "output_type": "execute_result"
    }
   ],
   "source": [
    "revealable(ans205A)"
   ]
  },
  {
   "cell_type": "code",
   "execution_count": null,
   "metadata": {
    "collapsed": true,
    "run_control": {
     "read_only": false
    }
   },
   "outputs": [],
   "source": []
  }
 ],
 "metadata": {
  "kernelspec": {
   "display_name": "Julia 0.3.10",
   "language": "julia",
   "name": "julia-0.3"
  },
  "language_info": {
   "file_extension": ".jl",
   "mimetype": "application/julia",
   "name": "julia",
   "version": "0.3.10"
  }
 },
 "nbformat": 4,
 "nbformat_minor": 0
}
