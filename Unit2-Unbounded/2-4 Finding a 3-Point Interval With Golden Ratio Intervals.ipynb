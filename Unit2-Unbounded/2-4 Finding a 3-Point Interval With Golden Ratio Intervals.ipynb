{
 "cells": [
  {
   "cell_type": "markdown",
   "metadata": {
    "run_control": {
     "read_only": false
    }
   },
   "source": [
    "# 2-4 Finding a 3-Point Interval With Golden Ratio Intervals"
   ]
  },
  {
   "cell_type": "code",
   "execution_count": null,
   "metadata": {
    "collapsed": false,
    "run_control": {
     "read_only": false
    }
   },
   "outputs": [],
   "source": [
    "using Revealables\n",
    "using Images, Reactive, Interact\n",
    "include(\"files/answers.jl\")"
   ]
  },
  {
   "cell_type": "markdown",
   "metadata": {},
   "source": [
    "##The Problem\n",
    "Clearly, brute force is not the best way to find the minimum of a function on an interval.\n",
    "\n",
    "A better way would be to divide the given interval into smaller intervals, then test those to see where the minimum occurs.\n",
    "\n",
    "<img src=\"files/2-4/smallints.png\" width=200 />\n",
    "\n",
    "Recall that we need three points to verify that a minimum lies within an interval. If you just take the midpoint of the interval...\n",
    "\n",
    "<img src=\"files/2-4/problem.png\" width=350 />\n",
    "\n",
    "then you still don’t know if the actual minimum lies left or right of the endpoint.\n",
    "\n"
   ]
  },
  {
   "cell_type": "code",
   "execution_count": 49,
   "metadata": {
    "collapsed": false,
    "run_control": {
     "read_only": false
    }
   },
   "outputs": [
    {
     "data": {
      "text/html": [],
      "text/plain": [
       "ToggleButton([Input{Bool}] false,\"So what do we do?\",false)"
      ]
     },
     "metadata": {},
     "output_type": "display_data"
    },
    {
     "data": {
      "text/markdown": [
       "\n"
      ],
      "text/plain": [
       "Revealable(\"## The Solution\\nInstead, we divide the interval into three sections instead of two by choosing two interior points instead of one.\\n\\n<img src=\\\"files/2-4/solution.png\\\" width=350 />\\n\\nAlthough it would seem obvious to divide the segment into equal thirds, with points at .33 and .67 across the segment, there is a better way.\\n\",\"So what do we do?\",false)"
      ]
     },
     "execution_count": 49,
     "metadata": {
      "comm_id": "8195e733-8089-4923-9d22-fb57e453bdd7",
      "reactive": true
     },
     "output_type": "execute_result"
    }
   ],
   "source": [
    "revealable(soln204A)"
   ]
  },
  {
   "cell_type": "markdown",
   "metadata": {},
   "source": [
    "##The Golden Ratio\n",
    "The Golden Ratio, symbolized by $\\phi$ (the Greek letter *phi*) is a famous number related to the Fibonacci numbers. It is irrational and has two possible values: 1.61803... and 0.61803.... We will be using the second value.\n",
    "\n",
    "The non-decimal representation is ${-1+\\sqrt{5}}\\over{2}$. It has the interesting property that $\\phi^2 = 1-\\phi$, among others.\n",
    "\n",
    "If your interest is piqued, there is lots of [information about Fibonacci numbers and the Golden Ratio](http://www.maths.surrey.ac.uk/hosted-sites/R.Knott/Fibonacci/fib.html) online."
   ]
  },
  {
   "cell_type": "markdown",
   "metadata": {},
   "source": [
    "##Dividing the Segment\n",
    "Rather than divide our segment into equal thirds, it's preferred to divide it according to the Golden Ratio, at 0.382... and 0.618....\n",
    "\n",
    "Dividing a segment with these proportions is known as creating a Golden Section.\n",
    "\n",
    "The reason for its usefulness will be explained soon.\n"
   ]
  },
  {
   "cell_type": "code",
   "execution_count": null,
   "metadata": {
    "collapsed": false,
    "input_collapsed": true,
    "run_control": {
     "read_only": false
    }
   },
   "outputs": [
    {
     "data": {
      "text/html": [],
      "text/plain": [
       "ToggleButton([Input{Bool}] false,\"Use the Golden Ratio\",false)"
      ]
     },
     "metadata": {},
     "output_type": "display_data"
    }
   ],
   "source": [
    "img1 = Images.imresize(Images.imread(\"files/2-4/solution.png\"), (382,56))\n",
    "img2 = Images.imresize(Images.imread(\"files/2-4/solngolden.png\"), (382,56))\n",
    "@manipulate for y in togglebutton(; label=\"Use the Golden Ratio\", value=false, signal=Input(false))\n",
    "    if y\n",
    "        img2\n",
    "    else\n",
    "        img1\n",
    "    end\n",
    "end"
   ]
  },
  {
   "cell_type": "markdown",
   "metadata": {},
   "source": [
    "After dividing the segment, there are two testable intervals, left and right. Whichever one has the middle point lower than the two endpoints, becomes our new interval for the minimum.\n",
    "\n",
    "<img src=\"files/2-4/testableints.png\" width=375 align=\"left\" />"
   ]
  },
  {
   "cell_type": "code",
   "execution_count": 37,
   "metadata": {
    "collapsed": false,
    "input_collapsed": true,
    "run_control": {
     "read_only": false
    }
   },
   "outputs": [
    {
     "data": {
      "text/html": [],
      "text/plain": [
       "ToggleButton([Input{Bool}] false,\"Then we repeat the procedure again.\",false)"
      ]
     },
     "metadata": {},
     "output_type": "display_data"
    },
    {
     "data": {
      "image/png": "[encoded data removed]",
      "text/plain": [
       "RGBA Image with:\n",
       "  data: 495x148 Array{AlphaColorValue{RGB{UfixedBase{Uint8,8}},UfixedBase{Uint8,8}},2}\n",
       "  properties:\n",
       "    imagedescription: <suppressed>\n",
       "    spatialorder:  x y\n",
       "    pixelspacing:  1 1"
      ]
     },
     "execution_count": 37,
     "metadata": {
      "comm_id": "4fe83ed2-3586-46c3-9784-1af8941416f7",
      "reactive": true
     },
     "output_type": "execute_result"
    }
   ],
   "source": [
    "img3 = Images.imresize(Images.imread(\"files/2-4/newpoint.png\"), (495,148))\n",
    "img4 = Images.imresize(Images.imread(\"files/2-4/samepoint.png\"), (495,148))\n",
    "@manipulate for y in togglebutton(; label=\"Then we repeat the procedure again.\", value=false, signal=Input(false))\n",
    "    if y\n",
    "        img4\n",
    "    else\n",
    "        img3\n",
    "    end\n",
    "end"
   ]
  },
  {
   "cell_type": "markdown",
   "metadata": {},
   "source": [
    "The cool property of the Golden Ratio is that if we use the exact value of $\\phi$, one of the two interior points can be used again&mdash;it’s already there.\n",
    "\n",
    "If we used equal thirds, the old interior point would be the midpoint now&mdash;we’d have to find two new points. Using the golden ratio doesn't save a whole lot of time, but it might save some, and anyway it's awesome."
   ]
  },
  {
   "cell_type": "markdown",
   "metadata": {},
   "source": [
    "###Practice Problem A\n",
    "Write the steps of a process for approximating a minimum using Golden Section intervals:\n",
    "1. Start with: \\_\\_\\_\\_\\_\\_\\_\\_\\_\\_\\_\\_\\_\\_\n",
    "2. End when: \\_\\_\\_\\_\\_\\_\\_\\_\\_\\_\\_\\_\\_\\_\n",
    "3. Do this: \\_\\_\\_\\_\\_\\_\\_\\_\\_\\_\\_\\_\\_\\_\n",
    "4. Using \\_\\_\\_\\_\\_\\_\\_, loop back to step \\_\\_\\_.\n"
   ]
  },
  {
   "cell_type": "code",
   "execution_count": 39,
   "metadata": {
    "collapsed": false,
    "run_control": {
     "read_only": false
    }
   },
   "outputs": [
    {
     "data": {
      "text/plain": [
       "\"\\n\\n\\n\\n\\n\\n\\n\\n\""
      ]
     },
     "execution_count": 39,
     "metadata": {},
     "output_type": "execute_result"
    }
   ],
   "source": [
    "# Write your plan between the quotation marks:\n",
    "\"\"\"\n",
    "\n",
    "\n",
    "\n",
    "\n",
    "\n",
    "\n",
    "\n",
    "\n",
    "\"\"\""
   ]
  },
  {
   "cell_type": "code",
   "execution_count": null,
   "metadata": {
    "collapsed": false,
    "run_control": {
     "read_only": false
    }
   },
   "outputs": [],
   "source": [
    "revealable(ans204A)"
   ]
  },
  {
   "cell_type": "markdown",
   "metadata": {},
   "source": [
    "###Practice Problem B\n",
    "Write the program!\n",
    "\n",
    "Extras:\n",
    "* Write an iteration counter\n",
    "* Test several functions/start points/intervals\n",
    "* Check their work with a grapher\n",
    "* Shortened your calculations by taking advantage of the golden ratio property.\n"
   ]
  },
  {
   "cell_type": "code",
   "execution_count": null,
   "metadata": {
    "collapsed": true,
    "run_control": {
     "read_only": false
    }
   },
   "outputs": [],
   "source": [
    "# Write code"
   ]
  },
  {
   "cell_type": "code",
   "execution_count": null,
   "metadata": {
    "collapsed": true,
    "run_control": {
     "read_only": false
    }
   },
   "outputs": [],
   "source": [
    "# Test code"
   ]
  },
  {
   "cell_type": "code",
   "execution_count": 55,
   "metadata": {
    "collapsed": false,
    "run_control": {
     "read_only": false
    }
   },
   "outputs": [
    {
     "data": {
      "text/html": [],
      "text/plain": [
       "ToggleButton([Input{Bool}] false,\"Answer\",false)"
      ]
     },
     "metadata": {},
     "output_type": "display_data"
    },
    {
     "data": {
      "text/markdown": [
       "\n"
      ],
      "text/plain": [
       "Revealable(\"###Answer B\\nThis code does not shorten calculations using the golden ratio property, but you could!\\n\\n<code>\\nfunction fibmin(eq, minlim, maxlim, epsilon)  # equation must be pre-loaded; epsilon is an arbitrary error tolerance.\\n    phi = (-1+(5)^(1/2))/2  # phi, the golden ratio, used for sectioning below.\\n        int = maxlim - minlim\\n        iteration = 0  # keeping track of iterations out of curiosity, not necessary.\\n        while int > epsilon\\n            subdiv = phi * int\\n            lefttest = maxlim - subdiv  # this line and the next create two points within the interval...\\n            righttest = minlim + subdiv\\n                if eq(lefttest) < eq(righttest)  # this loop tests the interior points and shifts the endpoints inward accordingly\\n                    maxlim = righttest\\n                else\\n                    minlim = lefttest\\n                end\\n            int = maxlim - minlim\\n            iteration = iteration + 1\\n        end\\n    println(\\\"\\$minlim, \\$maxlim\\\")\\n    println(iteration)\\nend\\n</code>\\n\",\"Answer\",false)"
      ]
     },
     "execution_count": 55,
     "metadata": {
      "comm_id": "837ffbc5-44bf-4ccb-9cc1-ed4cff7628f8",
      "reactive": true
     },
     "output_type": "execute_result"
    }
   ],
   "source": [
    "revealable(ans204B)"
   ]
  },
  {
   "cell_type": "code",
   "execution_count": null,
   "metadata": {
    "collapsed": true,
    "run_control": {
     "read_only": false
    }
   },
   "outputs": [],
   "source": []
  }
 ],
 "metadata": {
  "kernelspec": {
   "display_name": "Julia 0.3.10",
   "language": "julia",
   "name": "julia-0.3"
  },
  "language_info": {
   "file_extension": ".jl",
   "mimetype": "application/julia",
   "name": "julia",
   "version": "0.3.10"
  }
 },
 "nbformat": 4,
 "nbformat_minor": 0
}
