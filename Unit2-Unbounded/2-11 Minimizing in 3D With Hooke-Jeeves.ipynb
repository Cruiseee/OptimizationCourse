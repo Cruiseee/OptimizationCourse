{
 "cells": [
  {
   "cell_type": "markdown",
   "metadata": {
    "run_control": {
     "read_only": false
    }
   },
   "source": [
    "# 2-11 Minimizing in 3D With Hooke-Jeeves"
   ]
  },
  {
   "cell_type": "code",
   "execution_count": 1,
   "metadata": {
    "run_control": {
     "read_only": false
    }
   },
   "outputs": [
    {
     "data": {
      "text/html": [
       "<div id=\"interact-js-shim\">\n",
       "    <script charset=\"utf-8\">\r\n",
       "(function (IPython, $, _, MathJax) {\r\n",
       "    $.event.special.destroyed = {\r\n",
       "\tremove: function(o) {\r\n",
       "\t    if (o.handler) {\r\n",
       "\t\to.handler.apply(this, arguments)\r\n",
       "\t    }\r\n",
       "\t}\r\n",
       "    }\r\n",
       "\r\n",
       "    var OutputArea = IPython.version >= \"4.0.0\" ? require(\"notebook/js/outputarea\").OutputArea : IPython.OutputArea;\r\n",
       "\r\n",
       "    var redrawValue = function (container, type, val) {\r\n",
       "\tvar selector = $(\"<div/>\");\r\n",
       "\tvar oa = new OutputArea(_.extend(selector, {\r\n",
       "\t    selector: selector,\r\n",
       "\t    prompt_area: true,\r\n",
       "\t    events: IPython.events,\r\n",
       "\t    keyboard_manager: IPython.keyboard_manager\r\n",
       "\t})); // Hack to work with IPython 2.1.0\r\n",
       "\r\n",
       "\tswitch (type) {\r\n",
       "\tcase \"image/png\":\r\n",
       "            var _src = 'data:' + type + ';base64,' + val;\r\n",
       "\t    $(container).find(\"img\").attr('src', _src);\r\n",
       "\t    break;\r\n",
       "\tcase \"text/latex\":\r\n",
       "\t\tif (MathJax){\r\n",
       "\t\t\tvar math = MathJax.Hub.getAllJax(container)[0];\r\n",
       "\t\t\tMathJax.Hub.Queue([\"Text\", math, val.replace(/^\\${1,2}|\\${1,2}$/g, '')]);\r\n",
       "\t\t\tbreak;\r\n",
       "\t\t}\r\n",
       "\tdefault:\r\n",
       "\t    var toinsert = OutputArea.append_map[type].apply(\r\n",
       "\t\toa, [val, {}, selector]\r\n",
       "\t    );\r\n",
       "\t    $(container).empty().append(toinsert.contents());\r\n",
       "\t    selector.remove();\r\n",
       "\t}\r\n",
       "    }\r\n",
       "\r\n",
       "\r\n",
       "    $(document).ready(function() {\r\n",
       "\tfunction initComm(evt, data) {\r\n",
       "\t    var comm_manager = data.kernel.comm_manager;\r\n",
       "        //_.extend(comm_manager.targets, require(\"widgets/js/widget\"))\r\n",
       "\t    comm_manager.register_target(\"Signal\", function (comm) {\r\n",
       "            comm.on_msg(function (msg) {\r\n",
       "                var val = msg.content.data.value;\r\n",
       "                $(\".signal-\" + comm.comm_id).each(function() {\r\n",
       "                var type = $(this).data(\"type\");\r\n",
       "                if (typeof(val[type]) !== \"undefined\" && val[type] !== null) {\r\n",
       "                    redrawValue(this, type, val[type], type);\r\n",
       "                }\r\n",
       "                });\r\n",
       "                delete val;\r\n",
       "                delete msg.content.data.value;\r\n",
       "            });\r\n",
       "\t    });\r\n",
       "\r\n",
       "\t    // coordingate with Comm and redraw Signals\r\n",
       "\t    // XXX: Test using Reactive here to improve performance\r\n",
       "\t    $([IPython.events]).on(\r\n",
       "\t\t'output_appended.OutputArea', function (event, type, value, md, toinsert) {\r\n",
       "\t\t    if (md && md.reactive) {\r\n",
       "                // console.log(md.comm_id);\r\n",
       "                toinsert.addClass(\"signal-\" + md.comm_id);\r\n",
       "                toinsert.data(\"type\", type);\r\n",
       "                // Signal back indicating the mimetype required\r\n",
       "                var comm_manager = IPython.notebook.kernel.comm_manager;\r\n",
       "                var comm = comm_manager.comms[md.comm_id];\r\n",
       "                comm.then(function (c) {\r\n",
       "                    c.send({action: \"subscribe_mime\",\r\n",
       "                       mime: type});\r\n",
       "                    toinsert.bind(\"destroyed\", function() {\r\n",
       "                        c.send({action: \"unsubscribe_mime\",\r\n",
       "                               mime: type});\r\n",
       "                    });\r\n",
       "                })\r\n",
       "\t\t    }\r\n",
       "\t    });\r\n",
       "\t}\r\n",
       "\r\n",
       "\ttry {\r\n",
       "\t    // try to initialize right away. otherwise, wait on the status_started event.\r\n",
       "\t    initComm(undefined, IPython.notebook);\r\n",
       "\t} catch (e) {\r\n",
       "\t    $([IPython.events]).on('kernel_created.Kernel kernel_created.Session', initComm);\r\n",
       "\t}\r\n",
       "    });\r\n",
       "})(IPython, jQuery, _, MathJax);\r\n",
       "</script>\n",
       "    <script>\n",
       "        window.interactLoadedFlag = true\n",
       "       $(\"#interact-js-shim\").bind(\"destroyed\", function () {\n",
       "           if (window.interactLoadedFlag) {\n",
       "               console.warn(\"JavaScript required by Interact will be removed if you remove this cell or run using Interact more than once.\")\n",
       "           }\n",
       "       })\n",
       "       $([IPython.events]).on(\"kernel_starting.Kernel kernel_restarting.Kernel\", function () { window.interactLoadedFlag = false })\n",
       "   </script>\n",
       "</div>"
      ]
     },
     "metadata": {},
     "output_type": "display_data"
    },
    {
     "data": {
      "text/markdown": [
       "\n"
      ],
      "text/plain": [
       "Revealables.Revealable(\"My third generation was a huge improvement; my fourth, not so much. \\nHere are the fitness ranks of my generations, if you're curious:<br clear=\\\"all\\\">\\nI: 19, 9, 8, -5<br clear=\\\"all\\\">\\nII: 13, 10, 3, 1<br clear=\\\"all\\\">\\nIII: 20, 15, 14, 10<br clear=\\\"all\\\">\\nIV: 28, 12, 11, -5<br clear=\\\"all\\\">\\n\\nThen I got hooked...<br clear=\\\"all\\\">\\nV: 21, 16, 12, 4<br clear=\\\"all\\\">\\nVI: 23, 21, 16, 6<br clear=\\\"all\\\">\\nVII: 21, 21, 21, 6<br clear=\\\"all\\\">\\n\\n\\nOne thing I noticed while getting hooked is that I wrote a program that made an array out of `rand(12)` and returned the location of anything less than 1/12, which saved some time. If you're curious, continue your own iterations with computer support. Depending on your programming experience, writing an entire program might take more time than doing it by hand.\\n\\nVIII: 24, 23, 21, 19.<br clear=\\\"all\\\">\\nI stopped here because it was lunchtime. The optimum solution is 1111 / 1111 / 0000 = 30. It's clear that successive generations are approaching the optimum, and also getting more uniform (though mutation keeps it interesting). Cool stuff.\\n\", \"Answer\", false, false)"
      ]
     },
     "execution_count": 1,
     "metadata": {},
     "output_type": "execute_result"
    }
   ],
   "source": [
    "using Revealables\n",
    "include(\"files/answers.jl\")"
   ]
  },
  {
   "cell_type": "markdown",
   "metadata": {},
   "source": [
    "##The Hooke-Jeeves Algorithm\n",
    "The Hooke-Jeeves algorithm, also known as \"pattern search,\" keeps track of the direction of travel as the process moves from point to point, instead of starting over from scratch at each new point.\n",
    "\n",
    "###First Step\n",
    "1. Test your initial point in one dimension only, for example by testing $(x_1 + .1, x_2)$ and $(x_1 - .1, x_2)$. <img src=\"files/2-11/test1D.png\" width=200 />The \"best\" point could be in any of nine places: center; north, south, east, west; northeast, southeast, northwest, or southwest. <img src=\"files/2-11/testpoint2.png\" width=200 />Save the best value of $x_1$.\n",
    "2. Repeat for $x_2$, using the best value of $x_1$ every time. Now you have a new point made up of the new values of $x_1$ and $x_2$. \n",
    "\n"
   ]
  },
  {
   "cell_type": "markdown",
   "metadata": {},
   "source": [
    "###Practice Problem A\n",
    "Write a program that, given a function $f(x_1, x_2)$ and an initial point, tests the function in all four directions with a step of 0.1. Your program should print:\n",
    "1. The original point\n",
    "2. The improved point\n",
    "3. The vector between them, found by subtracting (improved – original).\n",
    "\n",
    "Test your code using $f(x_1, x_2) = (x_1 – 3)^2 + (x_2 + 1)^2$.\n",
    "\n",
    "Warning: The number 1 mistake that people make here is reverting to the procedure in brute force, where a point could only move in one direction at a time. Your program should have the option of returning a vector with two nonzero components. The final point should consist of the best $x_1$ __and__ the best $x_2$.\n",
    "\n"
   ]
  },
  {
   "cell_type": "code",
   "execution_count": null,
   "metadata": {
    "collapsed": true,
    "run_control": {
     "read_only": false
    }
   },
   "outputs": [],
   "source": [
    "# Write your program here\n"
   ]
  },
  {
   "cell_type": "code",
   "execution_count": null,
   "metadata": {
    "collapsed": true,
    "run_control": {
     "read_only": false
    }
   },
   "outputs": [],
   "source": [
    "# Test here"
   ]
  },
  {
   "cell_type": "code",
   "execution_count": 2,
   "metadata": {
    "run_control": {
     "read_only": false
    }
   },
   "outputs": [
    {
     "data": {
      "text/html": [],
      "text/plain": [
       "Interact.ToggleButton(1: \"input\" = false Bool , \"Answer\", false)"
      ]
     },
     "metadata": {},
     "output_type": "display_data"
    },
    {
     "data": {
      "text/markdown": [
       "\n"
      ],
      "text/plain": [
       "Revealables.Revealable(\"###Answer A\\nAll improvement should be in the direction of the minimum, (3, -1).\\n\\nFor my code, I chose to use arrays rather than if/else replacement, but either one should work.\\n<code>\\nf(a, b) = (a-3)^2 + (b+1)^2\\n\\nfunction hjbegin(f, a, b)\\n    S = [a a+.1 a-.1]  # establishes an array S with our test points on x1\\n    A = [ ]  # seeds an empty set A\\n    for n in 1:3 \\n        A = vcat(A, f(S[n], b))  # builds A with function values of each point in S. \\n    end\\n    c = S[findmin(A)[2]]  # assigns the name \\\"c\\\" to the coordinate of S with the lowest function value\\n    A = [ ]  # resets A as empty\\n    T = [b b+.1 b-.1]  # establishes T with test points on x2\\n    for n in 1:3 \\n        A = vcat(A, f(c, T[n]))  # builds A with function values of T.   \\n    end\\n    d = T[findmin(A)[2]]  # assigns the name \\\"d\\\" to the coordinate of T with the lowest function value\\n    println(\\\"\\$a, \\$b\\\")\\n    println(\\\"\\$c, \\$d\\\")\\n    println(\\\"\\$(c-a), \\$(d-b)\\\")  # returns the vector between the original and improved point\\nend\\n</code>\\n\", \"Answer\", false, false)"
      ]
     },
     "execution_count": 2,
     "metadata": {
      "comm_id": "17293c94-a420-42fa-ae7f-7b7e15933ab1",
      "reactive": true
     },
     "output_type": "execute_result"
    },
    {
     "name": "stderr",
     "output_type": "stream",
     "text": [
      "WARNING: "
     ]
    }
   ],
   "source": [
    "revealable(ans211A)"
   ]
  },
  {
   "cell_type": "markdown",
   "metadata": {},
   "source": [
    "###Second Step\n",
    "With the brute force method, we would just repeat the process from the new point.\n",
    "\n",
    "Instead, with Hooke-Jeeves, we use the vector from the old point to the new point, and we search in that direction until we stop seeing improvement."
   ]
  },
  {
   "cell_type": "markdown",
   "metadata": {},
   "source": [
    "###Practice Problem B\n",
    "Write a program that, given a function, a starting point, and a vector, moves the point in the direction of the vector until the function value stops decreasing. \n",
    "\n",
    "To test your code:\n",
    "1. Use $f(x_1, x_2) = (x_1 – 3)^2 + (x_2 + 1)^2$\n",
    "2. Choose a starting point and run it through your code from Practice Problem A to find a vector.\n",
    "3. Run the starting point and vector through your code for this problem.\n",
    "4. Repeat until the vector in step 2 returns (0, 0).\n"
   ]
  },
  {
   "cell_type": "code",
   "execution_count": null,
   "metadata": {
    "collapsed": true,
    "run_control": {
     "read_only": false
    }
   },
   "outputs": [],
   "source": [
    "# Write your new program here"
   ]
  },
  {
   "cell_type": "code",
   "execution_count": null,
   "metadata": {
    "collapsed": true,
    "run_control": {
     "read_only": false
    }
   },
   "outputs": [],
   "source": [
    "# Test your program as described in the problem"
   ]
  },
  {
   "cell_type": "code",
   "execution_count": 3,
   "metadata": {
    "run_control": {
     "read_only": false
    }
   },
   "outputs": [
    {
     "data": {
      "text/html": [],
      "text/plain": [
       "Interact.ToggleButton(4: \"input-2\" = false Bool , \"Answer\", false)"
      ]
     },
     "metadata": {},
     "output_type": "display_data"
    },
    {
     "name": "stderr",
     "output_type": "stream",
     "text": [
      "Compat.ASCIIString is deprecated, use String"
     ]
    },
    {
     "data": {
      "text/markdown": [
       "\n"
      ],
      "text/plain": [
       "Revealables.Revealable(\"###Answer B\\nYou should get something very close to the true minimum at (3, -1).\\n<code>\\nf(a, b) = (a-3)^2 + (b+1)^2\\n\\nfunction vectorsearch(f, a, b, x, y)  # a and b are coordinates of the starting point; x, y is vector found by hjbegin\\n    while f(a + x, b + y) < f(a, b)\\n        a = a + x \\n        b = b + y \\n    end\\n    println(\\\"\\$a, \\$b\\\")\\nend\\n</code>\\n\", \"Answer\", false, false)"
      ]
     },
     "execution_count": 3,
     "metadata": {
      "comm_id": "bbade5e6-221c-4bc9-8561-57c1c275ea76",
      "reactive": true
     },
     "output_type": "execute_result"
    },
    {
     "name": "stderr",
     "output_type": "stream",
     "text": [
      " instead.\n",
      "  likely near C:\\Users\\Victoria Docherty\\.julia\\v0.6\\IJulia\\src\\kernel.jl:31\n",
      "WARNING: Compat.ASCIIString is deprecated, use String instead.\n",
      "  likely near C:\\Users\\Victoria Docherty\\.julia\\v0.6\\IJulia\\src\\kernel.jl:31\n",
      "WARNING: Compat.ASCIIString is deprecated, use String instead.\n",
      "  likely near C:\\Users\\Victoria Docherty\\.julia\\v0.6\\IJulia\\src\\kernel.jl:31\n"
     ]
    }
   ],
   "source": [
    "revealable(ans211B)"
   ]
  },
  {
   "cell_type": "markdown",
   "metadata": {},
   "source": [
    "###Step 3\n",
    "Once you stop seeing improvement in the direction of the original vector, you repeat the first and second steps: cast about to find a better point, then travel in that direction. \n",
    "<img src=\"files/2-11/vector.png\" width=200 />\n",
    "When the first step returns the original point as the best point (in other words, the vector is 0), then you move on to the next step."
   ]
  },
  {
   "cell_type": "markdown",
   "metadata": {},
   "source": [
    "###Practice Problem C\n",
    "Using the function $f(x_1, x_2) = (x_1 + x_2)^2 + (sin(x_1 + 2))^2 + (x_2)^2 + 10$, \n",
    "\n",
    "1. Move between your first and second programs (from Practice Problems A and B), with an interval of 0.1, until the vector returns 0. Transfer results between programs by hand at first.\n",
    "\n",
    "2. Then combine your two sets of code into one program that, given a function and starting point, will run the first two steps of the Hooke-Jeeves procedure and return the next starting point.\n",
    "\n",
    "3. Repeat until the vector returns 0."
   ]
  },
  {
   "cell_type": "code",
   "execution_count": null,
   "metadata": {
    "collapsed": true,
    "run_control": {
     "read_only": false
    }
   },
   "outputs": [],
   "source": [
    "# Write your code here"
   ]
  },
  {
   "cell_type": "code",
   "execution_count": null,
   "metadata": {
    "collapsed": true,
    "run_control": {
     "read_only": false
    }
   },
   "outputs": [],
   "source": [
    "# Test your code here"
   ]
  },
  {
   "cell_type": "code",
   "execution_count": 4,
   "metadata": {
    "run_control": {
     "read_only": false
    }
   },
   "outputs": [
    {
     "data": {
      "text/html": [],
      "text/plain": [
       "Interact.ToggleButton(7: \"input-3\" = false Bool , \"Answer\", false)"
      ]
     },
     "metadata": {},
     "output_type": "display_data"
    },
    {
     "data": {
      "text/markdown": [
       "\n"
      ],
      "text/plain": [
       "Revealables.Revealable(\"###Answer C\\nAnswers should converge towards (0.7315ish, -0.3658ish).\\n\\nIf you have the written steps from the first part, you should see the same results from the combined code without the need to switch between two programs.\\n<code>\\nfunction hj(f, a, b) # function and starting point\\n    int = .1 \\n    S = [a a+int a-int]  # establishes an array S with our test points on x1. \\n    A = [ ]  # seeds an empty set A\\n    for n in 1:3 \\n        A = vcat(A, f(S[n], b))  # builds A with function values of each point in S. \\n    end\\n    c = S[findmin(A)[2]]  # assigns the name `c` to the coordinate of S with the lowest function value\\n    A = [ ]  # resets A as empty\\n    T = [b b+int b-int]  # establishes T with test points on x2\\n    for n in 1:3 \\n        A = vcat(A, f(c, T[n]))  # builds A with function values of T.   \\n    end\\n    d = T[findmin(A)[2]]  # assigns the name `d` to the coordinate of T with the lowest function value\\n    vectorx = c - a \\n    vectory = d - b\\n    while f(c + vectorx, d + vectory) < f(c, d)\\n        c = c + vectorx\\n        d = d + vectory\\n    end\\n    println(\\\"\\$c, \\$d\\\")\\nend\\n</code>\\n\", \"Answer\", false, false)"
      ]
     },
     "execution_count": 4,
     "metadata": {
      "comm_id": "045cf63c-c708-45fd-bd09-c9cd4d82f606",
      "reactive": true
     },
     "output_type": "execute_result"
    }
   ],
   "source": [
    "revealable(ans211C)"
   ]
  },
  {
   "cell_type": "markdown",
   "metadata": {},
   "source": [
    "###Step 4\n",
    "The fourth step is to decrease the incremental interval. If you started by adding and subtracting 0.1, now you might add and subtract 0.01. \n",
    "\n",
    "Then you repeat everything, including reducing the interval, until you have reached the desired level of accuracy and there is no more improvement. \n",
    "\n",
    "This is quite similar to the refinement step in our intelligent brute-force program.\n"
   ]
  },
  {
   "cell_type": "markdown",
   "metadata": {},
   "source": [
    "##Steps of Hooke-Jeeves\n",
    "1. Cast about your original point to find the best point in its neighborhood.\n",
    "2. Travel along that vector until you stop seeing improvement.\n",
    "3. Repeat steps 1 and 2 until step 1 returns a vector of (0, 0). \n",
    "4. Reduce the interval.\n",
    "5. Repeat steps 1-4 until the interval is small enough to achieve the required tolerance.\n",
    "\n",
    "That's a lot of loops! Work in groups or alone to outline the *basic loop structures*<sup>1</sup> of a program that would run the entire Hooke-Jeeves method from start to finish. Plan the program; do not write the program!\n",
    "\n",
    "<sup>1</sup>Meaning: what kind of loop, where to start, when to stop, what gets done inside the loop"
   ]
  },
  {
   "cell_type": "raw",
   "metadata": {},
   "source": [
    "Write your plan here!\n",
    "\n",
    "\n",
    "\n",
    "\n",
    "\n",
    "\n"
   ]
  },
  {
   "cell_type": "markdown",
   "metadata": {},
   "source": [
    "###Practice Problem D\n",
    "Insert your code from Practice Problem C into a loop that will run as long as the vector is nonzero. \n",
    "\n",
    "Then, using $f(x_1, x_2) = (x_1 + x_2)^2 + (sin(x_1 + 2))^2 + (x_2)^2 + 10$, run your new code with an interval of 1 to get a new point; from that starting point repeat with a new interval of .1; continue to repeat, reducing intervals, until you reach an interval of 0.0001.\n"
   ]
  },
  {
   "cell_type": "code",
   "execution_count": null,
   "metadata": {
    "collapsed": true,
    "run_control": {
     "read_only": false
    }
   },
   "outputs": [],
   "source": [
    "# Create the loop!"
   ]
  },
  {
   "cell_type": "code",
   "execution_count": null,
   "metadata": {
    "collapsed": true,
    "run_control": {
     "read_only": false
    }
   },
   "outputs": [],
   "source": [
    "# Test the program"
   ]
  },
  {
   "cell_type": "code",
   "execution_count": 5,
   "metadata": {
    "run_control": {
     "read_only": false
    }
   },
   "outputs": [
    {
     "data": {
      "text/html": [],
      "text/plain": [
       "Interact.ToggleButton(10: \"input-4\" = false Bool , \"Answer\", false)"
      ]
     },
     "metadata": {},
     "output_type": "display_data"
    },
    {
     "data": {
      "text/markdown": [
       "\n"
      ],
      "text/plain": [
       "Revealables.Revealable(\"###Answer D\\nAnswers should approach (0.7314ish, -0.3657ish)\\n<code>\\nfunction hj(f, a, b) # function and starting point\\n    int = .1 \\n    vectorx = 100  # could be any nonzero, just being careful here\\n    vectory = 100\\n    while vectorx != 0 && vectory != 0\\n        S = [a a+int a-int]  # establishes an array S with our test points on x1. \\n        A = [ ]  # seeds an empty set A\\n        for n in 1:3 \\n            A = vcat(A, f(S[n], b))  # builds A with function values of each point in S. \\n        end\\n        c = S[findmin(A)[2]]  # assigns the name `c` to the coordinate of S with the lowest function value\\n        A = [ ]  # resets A as empty\\n        T = [b b+int b-int]  # establishes T with test points on x2\\n        for n in 1:3 \\n            A = vcat(A, f(c, T[n]))  # builds A with function values of T.   \\n        end\\n        d = T[findmin(A)[2]]  # assigns the name `d` to the coordinate of T with the lowest function value\\n        vectorx = c - a \\n        vectory = d - b\\n        while f(c + vectorx, d + vectory) < f(c, d)\\n            c = c + vectorx\\n            d = d + vectory\\n        end\\n        a = c \\n        b = d\\n    end\\n    println(\\\"\\$a, \\$b\\\")\\nend\\n</code>\\n\", \"Answer\", false, false)"
      ]
     },
     "execution_count": 5,
     "metadata": {
      "comm_id": "bb280c62-0b48-4f4d-9fa2-19f4e5f1e7cc",
      "reactive": true
     },
     "output_type": "execute_result"
    }
   ],
   "source": [
    "revealable(ans211D)"
   ]
  },
  {
   "cell_type": "markdown",
   "metadata": {},
   "source": [
    "###Practice Problem E\n",
    "Insert your code from Practice Problem D into a loop that will run Hooke-Jeeves with successive interval widths from 1 to 0.000001. This program, when completed, will execute the entire Hooke-Jeeves algorithm with one input line.\n",
    "\n",
    "Test it on $f(x_1, x_2) = (x_1 + x_2)^2 + (sin(x_1 + 2))^2 + (x_2)^2 + 10$."
   ]
  },
  {
   "cell_type": "code",
   "execution_count": null,
   "metadata": {
    "collapsed": true,
    "run_control": {
     "read_only": false
    }
   },
   "outputs": [],
   "source": [
    "# Create the loop!"
   ]
  },
  {
   "cell_type": "code",
   "execution_count": null,
   "metadata": {
    "collapsed": true,
    "run_control": {
     "read_only": false
    }
   },
   "outputs": [],
   "source": [
    "# Test the program"
   ]
  },
  {
   "cell_type": "code",
   "execution_count": 6,
   "metadata": {
    "run_control": {
     "read_only": false
    }
   },
   "outputs": [
    {
     "data": {
      "text/html": [],
      "text/plain": [
       "Interact.ToggleButton(13: \"input-5\" = false Bool , \"Answer\", false)"
      ]
     },
     "metadata": {},
     "output_type": "display_data"
    },
    {
     "data": {
      "text/markdown": [
       "\n"
      ],
      "text/plain": [
       "Revealables.Revealable(\"###Answer E\\nAnswers should approach (0.731404, -0.365702).\\n<code>\\nf(a, b) = (a+b)^2 + (sin(a+2))^2  + b^2 + 10\\n\\nfunction hj(f, a, b) # function and starting point\\n    int = 1 \\n    for n in 1:7  # this will end up with an interval of 0.000001.\\n        vectorx = 100  # could be any nonzero, just being careful\\n        vectory = 100\\n        while vectorx != 0 && vectory != 0\\n            S = [a a+int a-int]  # establishes an array S with our test points on x1. \\n            A = [ ]  # seeds an empty set A\\n            for n in 1:3 \\n                A = vcat(A, f(S[n], b))  # builds A with function values of each point in S. \\n            end\\n            c = S[findmin(A)[2]]  # assigns the name `c` to the coordinate of S with the lowest function value\\n            A = [ ]  # resets A as empty\\n            T = [b b+int b-int]  # establishes T with test points on x2\\n            for n in 1:3 \\n                A = vcat(A, f(c, T[n])  # builds A with function values of T.   \\n            end\\n            d = T[findmin(A)[2]]  # assigns the name `d` to the coordinate of T with the lowest function value\\n            vectorx = c - a \\n            vectory = d - b\\n            while f(c + vectorx, d + vectory) < f(c, d)\\n                c = c + vectorx\\n                d = d + vectory\\n            end\\n            a = c \\n            b = d   \\n        end\\n        int = int/10\\n    end\\n    println(\\\"\\$a, \\$b\\\")\\nend\\n</code>\\n\", \"Answer\", false, false)"
      ]
     },
     "execution_count": 6,
     "metadata": {
      "comm_id": "572b9f6e-a1f6-4c74-8e57-c62d964e2e04",
      "reactive": true
     },
     "output_type": "execute_result"
    }
   ],
   "source": [
    "revealable(ans211E)"
   ]
  },
  {
   "cell_type": "code",
   "execution_count": null,
   "metadata": {
    "collapsed": true,
    "run_control": {
     "read_only": false
    }
   },
   "outputs": [],
   "source": []
  }
 ],
 "metadata": {
  "kernelspec": {
   "display_name": "Julia 0.6.0",
   "language": "julia",
   "name": "julia-0.6"
  },
  "language_info": {
   "file_extension": ".jl",
   "mimetype": "application/julia",
   "name": "julia",
   "version": "0.6.0"
  }
 },
 "nbformat": 4,
 "nbformat_minor": 1
}
