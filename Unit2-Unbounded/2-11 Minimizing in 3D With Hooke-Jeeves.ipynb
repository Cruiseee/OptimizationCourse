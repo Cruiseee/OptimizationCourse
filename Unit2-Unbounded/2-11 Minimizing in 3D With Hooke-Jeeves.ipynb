{
 "cells": [
  {
   "cell_type": "markdown",
   "metadata": {
    "run_control": {
     "read_only": false
    }
   },
   "source": [
    "# 2-11 Minimizing in 3D With Hooke-Jeeves"
   ]
  },
  {
   "cell_type": "code",
   "execution_count": null,
   "metadata": {
    "collapsed": false,
    "run_control": {
     "read_only": false
    }
   },
   "outputs": [],
   "source": [
    "using Revealables\n",
    "include(\"files/answers.jl\")"
   ]
  },
  {
   "cell_type": "markdown",
   "metadata": {},
   "source": [
    "##The Hooke-Jeeves Algorithm\n",
    "The Hooke-Jeeves algorithm, also known as \"pattern search,\" keeps track of the direction of travel as the process moves from point to point, instead of starting over from scratch at each new point.\n",
    "\n",
    "###First Step\n",
    "1. Test your initial point in one dimension only, for example by testing $(x_1 + .1, x_2)$ and $(x_1 - .1, x_2)$. <img src=\"files/2-11/test1D.png\" width=200 />The \"best\" point could be in any of nine places: center; north, south, east, west; northeast, southeast, northwest, or southwest. <img src=\"files/2-11/testpoint2.png\" width=200 />Save the best value of $x_1$.\n",
    "2. Repeat for $x_2$, using the best value of $x_1$ every time. Now you have a new point made up of the new values of $x_1$ and $x_2$. \n",
    "\n"
   ]
  },
  {
   "cell_type": "markdown",
   "metadata": {},
   "source": [
    "###Practice Problem A\n",
    "Write a program that, given a function $f(x_1, x_2)$ and an initial point, tests the function in all four directions with a step of 0.1. Your program should print:\n",
    "1. The original point\n",
    "2. The improved point\n",
    "3. The vector between them, found by subtracting (improved – original).\n",
    "\n",
    "Test your code using $f(x_1, x_2) = (x_1 – 3)^2 + (x_2 + 1)^2$.\n",
    "\n",
    "Warning: The number 1 mistake that people make here is reverting to the procedure in brute force, where a point could only move in one direction at a time. Your program should have the option of returning a vector with two nonzero components. The final point should consist of the best $x_1$ __and__ the best $x_2$.\n",
    "\n"
   ]
  },
  {
   "cell_type": "code",
   "execution_count": null,
   "metadata": {
    "collapsed": true,
    "run_control": {
     "read_only": false
    }
   },
   "outputs": [],
   "source": [
    "# Write your program here\n"
   ]
  },
  {
   "cell_type": "code",
   "execution_count": null,
   "metadata": {
    "collapsed": true,
    "run_control": {
     "read_only": false
    }
   },
   "outputs": [],
   "source": [
    "# Test here"
   ]
  },
  {
   "cell_type": "code",
   "execution_count": null,
   "metadata": {
    "collapsed": false,
    "run_control": {
     "read_only": false
    }
   },
   "outputs": [],
   "source": [
    "revealable(ans211A)"
   ]
  },
  {
   "cell_type": "markdown",
   "metadata": {},
   "source": [
    "###Second Step\n",
    "With the brute force method, we would just repeat the process from the new point.\n",
    "\n",
    "Instead, with Hooke-Jeeves, we use the vector from the old point to the new point, and we search in that direction until we stop seeing improvement."
   ]
  },
  {
   "cell_type": "markdown",
   "metadata": {},
   "source": [
    "###Practice Problem B\n",
    "Write a program that, given a function, a starting point, and a vector, moves the point in the direction of the vector until the function value stops decreasing. \n",
    "\n",
    "To test your code:\n",
    "1. Use $f(x_1, x_2) = (x_1 – 3)^2 + (x_2 + 1)^2$\n",
    "2. Choose a starting point and run it through your code from Practice Problem A to find a vector.\n",
    "3. Run the starting point and vector through your code for this problem.\n",
    "4. Repeat until the vector in step 2 returns (0, 0).\n"
   ]
  },
  {
   "cell_type": "code",
   "execution_count": null,
   "metadata": {
    "collapsed": true,
    "run_control": {
     "read_only": false
    }
   },
   "outputs": [],
   "source": [
    "# Write your new program here"
   ]
  },
  {
   "cell_type": "code",
   "execution_count": null,
   "metadata": {
    "collapsed": true,
    "run_control": {
     "read_only": false
    }
   },
   "outputs": [],
   "source": [
    "# Test your program as described in the problem"
   ]
  },
  {
   "cell_type": "code",
   "execution_count": null,
   "metadata": {
    "collapsed": false,
    "run_control": {
     "read_only": false
    }
   },
   "outputs": [],
   "source": [
    "revealable(ans211B)"
   ]
  },
  {
   "cell_type": "markdown",
   "metadata": {},
   "source": [
    "###Step 3\n",
    "Once you stop seeing improvement in the direction of the original vector, you repeat the first and second steps: cast about to find a better point, then travel in that direction. \n",
    "<img src=\"files/2-11/vector.png\" width=200 />\n",
    "When the first step returns the original point as the best point (in other words, the vector is 0), then you move on to the next step."
   ]
  },
  {
   "cell_type": "markdown",
   "metadata": {},
   "source": [
    "###Practice Problem C\n",
    "Using the function $f(x_1, x_2) = (x_1 + x_2)^2 + (sin(x_1 + 2))^2 + (x_2)^2 + 10$, \n",
    "\n",
    "1. Move between your first and second programs (from Practice Problems A and B), with an interval of 0.1, until the vector returns 0. Transfer results between programs by hand at first.\n",
    "\n",
    "2. Then combine your two sets of code into one program that, given a function and starting point, will run the first two steps of the Hooke-Jeeves procedure and return the next starting point.\n",
    "\n",
    "3. Repeat until the vector returns 0."
   ]
  },
  {
   "cell_type": "code",
   "execution_count": null,
   "metadata": {
    "collapsed": true,
    "run_control": {
     "read_only": false
    }
   },
   "outputs": [],
   "source": [
    "# Write your code here"
   ]
  },
  {
   "cell_type": "code",
   "execution_count": null,
   "metadata": {
    "collapsed": true,
    "run_control": {
     "read_only": false
    }
   },
   "outputs": [],
   "source": [
    "# Test your code here"
   ]
  },
  {
   "cell_type": "code",
   "execution_count": null,
   "metadata": {
    "collapsed": false,
    "run_control": {
     "read_only": false
    }
   },
   "outputs": [],
   "source": [
    "revealable(ans211C)"
   ]
  },
  {
   "cell_type": "markdown",
   "metadata": {},
   "source": [
    "###Step 4\n",
    "The fourth step is to decrease the incremental interval. If you started by adding and subtracting 0.1, now you might add and subtract 0.01. \n",
    "\n",
    "Then you repeat everything, including reducing the interval, until you have reached the desired level of accuracy and there is no more improvement. \n",
    "\n",
    "This is quite similar to the refinement step in our intelligent brute-force program.\n"
   ]
  },
  {
   "cell_type": "markdown",
   "metadata": {},
   "source": [
    "##Steps of Hooke-Jeeves\n",
    "1. Cast about your original point to find the best point in its neighborhood.\n",
    "2. Travel along that vector until you stop seeing improvement.\n",
    "3. Repeat steps 1 and 2 until step 1 returns a vector of (0, 0). \n",
    "4. Reduce the interval.\n",
    "5. Repeat steps 1-4 until the interval is small enough to achieve the required tolerance.\n",
    "\n",
    "That's a lot of loops! Work in groups or alone to outline the *basic loop structures*<sup>1</sup> of a program that would run the entire Hooke-Jeeves method from start to finish. Plan the program; do not write the program!\n",
    "\n",
    "<sup>1</sup>Meaning: what kind of loop, where to start, when to stop, what gets done inside the loop"
   ]
  },
  {
   "cell_type": "raw",
   "metadata": {},
   "source": [
    "Write your plan here!\n",
    "\n",
    "\n",
    "\n",
    "\n",
    "\n",
    "\n"
   ]
  },
  {
   "cell_type": "markdown",
   "metadata": {},
   "source": [
    "###Practice Problem D\n",
    "Insert your code from Practice Problem C into a loop that will run as long as the vector is nonzero. \n",
    "\n",
    "Then, using $f(x_1, x_2) = (x_1 + x_2)^2 + (sin(x_1 + 2))^2 + (x_2)^2 + 10$, run your new code with an interval of 1 to get a new point; from that starting point repeat with a new interval of .1; continue to repeat, reducing intervals, until you reach an interval of 0.0001.\n"
   ]
  },
  {
   "cell_type": "code",
   "execution_count": null,
   "metadata": {
    "collapsed": true,
    "run_control": {
     "read_only": false
    }
   },
   "outputs": [],
   "source": [
    "# Create the loop!"
   ]
  },
  {
   "cell_type": "code",
   "execution_count": null,
   "metadata": {
    "collapsed": true,
    "run_control": {
     "read_only": false
    }
   },
   "outputs": [],
   "source": [
    "# Test the program"
   ]
  },
  {
   "cell_type": "code",
   "execution_count": null,
   "metadata": {
    "collapsed": false,
    "run_control": {
     "read_only": false
    }
   },
   "outputs": [],
   "source": [
    "revealable(ans211D)"
   ]
  },
  {
   "cell_type": "markdown",
   "metadata": {},
   "source": [
    "###Practice Problem E\n",
    "Insert your code from Practice Problem D into a loop that will run Hooke-Jeeves with successive interval widths from 1 to 0.000001. This program, when completed, will execute the entire Hooke-Jeeves algorithm with one input line.\n",
    "\n",
    "Test it on $f(x_1, x_2) = (x_1 + x_2)^2 + (sin(x_1 + 2))^2 + (x_2)^2 + 10$."
   ]
  },
  {
   "cell_type": "code",
   "execution_count": null,
   "metadata": {
    "collapsed": true,
    "run_control": {
     "read_only": false
    }
   },
   "outputs": [],
   "source": [
    "# Create the loop!"
   ]
  },
  {
   "cell_type": "code",
   "execution_count": null,
   "metadata": {
    "collapsed": true,
    "run_control": {
     "read_only": false
    }
   },
   "outputs": [],
   "source": [
    "# Test the program"
   ]
  },
  {
   "cell_type": "code",
   "execution_count": null,
   "metadata": {
    "collapsed": false,
    "run_control": {
     "read_only": false
    }
   },
   "outputs": [],
   "source": [
    "revealable(ans211E)"
   ]
  },
  {
   "cell_type": "code",
   "execution_count": null,
   "metadata": {
    "collapsed": true,
    "run_control": {
     "read_only": false
    }
   },
   "outputs": [],
   "source": []
  }
 ],
 "metadata": {
  "kernelspec": {
   "display_name": "Julia 0.3.10",
   "language": "julia",
   "name": "julia-0.3"
  },
  "language_info": {
   "file_extension": ".jl",
   "mimetype": "application/julia",
   "name": "julia",
   "version": "0.3.10"
  }
 },
 "nbformat": 4,
 "nbformat_minor": 0
}
