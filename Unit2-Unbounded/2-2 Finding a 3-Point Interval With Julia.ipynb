{
 "cells": [
  {
   "cell_type": "markdown",
   "metadata": {
    "run_control": {
     "read_only": false
    }
   },
   "source": [
    "#Finding a 3-Point Interval\n",
    "* Review of the premise\n",
    "* Writing a program\n",
    "* Refining the program"
   ]
  },
  {
   "cell_type": "code",
   "execution_count": 1,
   "metadata": {
    "collapsed": false,
    "run_control": {
     "read_only": false
    }
   },
   "outputs": [
    {
     "data": {
      "text/html": [
       "<script charset=\"utf-8\">(function ($, undefined) {\n",
       "\n",
       "    function createElem(tag, attr, content) {\n",
       "\t// TODO: remove jQuery dependency\n",
       "\tvar el = $(\"<\" + tag + \"/>\").attr(attr);\n",
       "\tif (content) {\n",
       "\t    el.append(content);\n",
       "\t}\n",
       "\treturn el[0];\n",
       "    }\n",
       "\n",
       "    // A widget must expose an id field which identifies it to the backend,\n",
       "    // an elem attribute which is will be added to the DOM, and\n",
       "    // a getState() method which returns the value to be sent to the backend\n",
       "    // a sendUpdate() method which sends its current value to the backend\n",
       "    var Widget = {\n",
       "\tid: undefined,\n",
       "\telem: undefined,\n",
       "\tlabel: undefined,\n",
       "\tgetState: function () {\n",
       "\t    return this.elem.value;\n",
       "\t},\n",
       "\tsendUpdate: undefined\n",
       "    };\n",
       "\n",
       "    var Slider = function (typ, id, init) {\n",
       "\tvar attr = { type:  \"range\",\n",
       "\t\t     value: init.value,\n",
       "\t\t     min:   init.min,\n",
       "\t\t     max:   init.max,\n",
       "\t\t     step:  init.step },\n",
       "\t    elem = createElem(\"input\", attr),\n",
       "\t    self = this;\n",
       "\n",
       "\telem.onchange = function () {\n",
       "\t    self.sendUpdate();\n",
       "\t}\n",
       "\n",
       "\tthis.id = id;\n",
       "\tthis.elem = elem;\n",
       "\tthis.label = init.label;\n",
       "\n",
       "\tInputWidgets.commInitializer(this); // Initialize communication\n",
       "    }\n",
       "    Slider.prototype = Widget;\n",
       "\n",
       "    var Checkbox = function (typ, id, init) {\n",
       "\tvar attr = { type: \"checkbox\",\n",
       "\t\t     checked: init.value },\n",
       "\t    elem = createElem(\"input\", attr),\n",
       "\t    self = this;\n",
       "\n",
       "\tthis.getState = function () {\n",
       "\t    return elem.checked;\n",
       "\t}\n",
       "\telem.onchange = function () {\n",
       "\t    self.sendUpdate();\n",
       "\t}\n",
       "\n",
       "\tthis.id = id;\n",
       "\tthis.elem = elem;\n",
       "\tthis.label = init.label;\n",
       "\n",
       "\tInputWidgets.commInitializer(this);\n",
       "    }\n",
       "    Checkbox.prototype = Widget;\n",
       "\n",
       "    var Button = function (typ, id, init) {\n",
       "\tvar attr = { type:    \"button\",\n",
       "\t\t     value:   init.label },\n",
       "\t    elem = createElem(\"input\", attr),\n",
       "\t    self = this;\n",
       "\tthis.getState = function () {\n",
       "\t    return null;\n",
       "\t}\n",
       "\telem.onclick = function () {\n",
       "\t    self.sendUpdate();\n",
       "\t}\n",
       "\n",
       "\tthis.id = id;\n",
       "\tthis.elem = elem;\n",
       "\tthis.label = init.label;\n",
       "\n",
       "\tInputWidgets.commInitializer(this);\n",
       "    }\n",
       "    Button.prototype = Widget;\n",
       "\n",
       "    var Text = function (typ, id, init) {\n",
       "\tvar attr = { type:  \"text\",\n",
       "\t\t     placeholder: init.label,\n",
       "\t\t     value: init.value },\n",
       "\t    elem = createElem(\"input\", attr),\n",
       "\t    self = this;\n",
       "\tthis.getState = function () {\n",
       "\t    return elem.value;\n",
       "\t}\n",
       "\telem.onkeyup = function () {\n",
       "\t    self.sendUpdate();\n",
       "\t}\n",
       "\n",
       "\tthis.id = id;\n",
       "\tthis.elem = elem;\n",
       "\tthis.label = init.label;\n",
       "\n",
       "\tInputWidgets.commInitializer(this);\n",
       "    }\n",
       "    Text.prototype = Widget;\n",
       "\n",
       "    var Textarea = function (typ, id, init) {\n",
       "\tvar attr = { placeholder: init.label },\n",
       "\t    elem = createElem(\"textarea\", attr, init.value),\n",
       "\t    self = this;\n",
       "\tthis.getState = function () {\n",
       "\t    return elem.value;\n",
       "\t}\n",
       "\telem.onchange = function () {\n",
       "\t    self.sendUpdate();\n",
       "\t}\n",
       "\n",
       "\tthis.id = id;\n",
       "\tthis.elem = elem;\n",
       "\tthis.label = init.label;\n",
       "\n",
       "\tInputWidgets.commInitializer(this);\n",
       "    }\n",
       "    Textarea.prototype = Widget;\n",
       "\n",
       "    // RadioButtons\n",
       "    // Dropdown\n",
       "    // HTML\n",
       "    // Latex\n",
       "\n",
       "    var InputWidgets = {\n",
       "\tSlider: Slider,\n",
       "\tCheckbox: Checkbox,\n",
       "\tButton: Button,\n",
       "\tText: Text,\n",
       "\tTextarea: Textarea,\n",
       "\tdebug: false,\n",
       "\tlog: function () {\n",
       "\t    if (InputWidgets.debug) {\n",
       "\t\tconsole.log.apply(console, arguments);\n",
       "\t    }\n",
       "\t},\n",
       "\t// a central way to initalize communication\n",
       "\t// for widgets.\n",
       "\tcommInitializer: function (widget) {\n",
       "\t    widget.sendUpdate = function () {};\n",
       "\t}\n",
       "    };\n",
       "\n",
       "    window.InputWidgets = InputWidgets;\n",
       "\n",
       "})(jQuery, undefined);\n",
       "</script>"
      ]
     },
     "metadata": {},
     "output_type": "display_data"
    },
    {
     "data": {
      "text/html": [
       "<script charset=\"utf-8\">(function (IPython, $, _, MathJax, Widgets) {\n",
       "    $.event.special.destroyed = {\n",
       "\tremove: function(o) {\n",
       "\t    if (o.handler) {\n",
       "\t\to.handler.apply(this, arguments)\n",
       "\t    }\n",
       "\t}\n",
       "    }\n",
       "\n",
       "    var redrawValue = function (container, type, val) {\n",
       "\tvar selector = $(\"<div/>\");\n",
       "\tvar oa = new IPython.OutputArea(_.extend(selector, {\n",
       "\t    selector: selector,\n",
       "\t    prompt_area: true,\n",
       "\t    events: IPython.events,\n",
       "\t    keyboard_manager: IPython.keyboard_manager\n",
       "\t})); // Hack to work with IPython 2.1.0\n",
       "\n",
       "\tswitch (type) {\n",
       "\tcase \"image/png\":\n",
       "            var _src = 'data:' + type + ';base64,' + val;\n",
       "\t    $(container).find(\"img\").attr('src', _src);\n",
       "\t    break;\n",
       "\tdefault:\n",
       "\t    var toinsert = IPython.OutputArea.append_map[type].apply(\n",
       "\t\toa, [val, {}, selector]\n",
       "\t    );\n",
       "\t    $(container).empty().append(toinsert.contents());\n",
       "\t    selector.remove();\n",
       "\t}\n",
       "\tif (type === \"text/latex\" && MathJax) {\n",
       "\t    MathJax.Hub.Queue([\"Typeset\", MathJax.Hub, toinsert.get(0)]);\n",
       "\t}\n",
       "    }\n",
       "\n",
       "\n",
       "    $(document).ready(function() {\n",
       "\tWidgets.debug = false; // log messages etc in console.\n",
       "\tfunction initComm(evt, data) {\n",
       "\t    var comm_manager = data.kernel.comm_manager;\n",
       "        //_.extend(comm_manager.targets, require(\"widgets/js/widget\"))\n",
       "\t    comm_manager.register_target(\"Signal\", function (comm) {\n",
       "            comm.on_msg(function (msg) {\n",
       "                //Widgets.log(\"message received\", msg);\n",
       "                var val = msg.content.data.value;\n",
       "                $(\".signal-\" + comm.comm_id).each(function() {\n",
       "                var type = $(this).data(\"type\");\n",
       "                if (val[type]) {\n",
       "                    redrawValue(this, type, val[type], type);\n",
       "                }\n",
       "                });\n",
       "                delete val;\n",
       "                delete msg.content.data.value;\n",
       "            });\n",
       "\t    });\n",
       "\n",
       "\t    // coordingate with Comm and redraw Signals\n",
       "\t    // XXX: Test using Reactive here to improve performance\n",
       "\t    $([IPython.events]).on(\n",
       "\t\t'output_appended.OutputArea', function (event, type, value, md, toinsert) {\n",
       "\t\t    if (md && md.reactive) {\n",
       "                // console.log(md.comm_id);\n",
       "                toinsert.addClass(\"signal-\" + md.comm_id);\n",
       "                toinsert.data(\"type\", type);\n",
       "                // Signal back indicating the mimetype required\n",
       "                var comm_manager = IPython.notebook.kernel.comm_manager;\n",
       "                var comm = comm_manager.comms[md.comm_id];\n",
       "                comm.then(function (c) {\n",
       "                    c.send({action: \"subscribe_mime\",\n",
       "                       mime: type});\n",
       "                    toinsert.bind(\"destroyed\", function() {\n",
       "                        c.send({action: \"unsubscribe_mime\",\n",
       "                               mime: type});\n",
       "                    });\n",
       "                })\n",
       "\t\t    }\n",
       "\t    });\n",
       "\t}\n",
       "\n",
       "\ttry {\n",
       "\t    // try to initialize right away. otherwise, wait on the status_started event.\n",
       "\t    initComm(undefined, IPython.notebook);\n",
       "\t} catch (e) {\n",
       "\t    $([IPython.events]).on('status_started.Kernel', initComm);\n",
       "\t}\n",
       "    });\n",
       "})(IPython, jQuery, _, MathJax, InputWidgets);\n",
       "</script>"
      ]
     },
     "metadata": {},
     "output_type": "display_data"
    },
    {
     "data": {
      "text/markdown": [
       "\n"
      ],
      "text/plain": [
       "Revealable(\"###Sample Program:\\n\\n    f(x) = x^2 - 4x  # function can be modified to whatever\\n\\n    function secant(f, a, b)\\n        while abs(b - a) > 0.00001  # more accurate is fine. Note absolute value is important for distance!\\n                                    # Also could use f(b) < 0.00001.\\n            m = (f(a) - f(b))/(a - b)  # made a variable for slope to simplify next line\\n            x = -f(a)/m + a  # calculating the x-intercept\\n            a = b  # redefining a and b to include the old b and the x-intercept x\\n            b = x \\n        end  # loop ends when tolerance is reached\\n        println(b)  # print the value of b (the last x-intercept found).\\n    end\\n\",\"Answer\",false)"
      ]
     },
     "execution_count": 1,
     "metadata": {},
     "output_type": "execute_result"
    }
   ],
   "source": [
    "using Revealables\n",
    "include(\"files/answers.jl\")"
   ]
  },
  {
   "cell_type": "markdown",
   "metadata": {},
   "source": [
    "##3-Point Interval: Recap\n",
    "<img src=\"files/2-2/3ptint.png\" width=250 align=\"left\" />\n",
    "A 3-point interval around an extreme gives you an idea of where that extreme might be, even if you don't know the graph. It gives you an important first step for calculations of the actual minimum or maximum.\n",
    "\n",
    "In this diagram, we've bracketed a local minimum between $x_k$ and $x_{k+2}$. $x_{k+1}$ is not important in itself &mdash; we don't know if it's the minimum, or slightly to the left or right of the actual minimum. Its importance lies in the fact that, because it has a lower y-value than either of the two endpoints, we know that the minimum must occur between those endpoints... somewhere.\n",
    "\n",
    "To find a 3-point interval around a *minimum*, these are the most basic steps:\n",
    "\n",
    "1. Pick a starting point $x$ and interval $h$. Test $x - h$ and $x + h$ to determine the direction of decrease.\n",
    "\n",
    "2. Continue to take steps in that direction until the y-values start going the other way.\n",
    "\n",
    "3. The last 3 points form your 3-point interval"
   ]
  },
  {
   "cell_type": "markdown",
   "metadata": {},
   "source": [
    "###Practice Problem / Program A\n",
    "Here is the instruction loop we used in unit 1. This loop will minimize f(x).\n",
    "\n",
    "1. Start with $(x, f(x))$.\n",
    "2. Find $(x+h, f(x+h))$ and check if $f(x+h)$ is lower than $f(x)$. If not, find $(x-h, f(x-h))$.\n",
    "3. Take one more step $h$ or $–h$.\n",
    "4. Check if you have reached the goal (middle point lower than both endpoints). \n",
    "    * If yes, stop.\n",
    "    * If no, return to step 3.\n",
    "\n",
    "Write a program to accomplish this task, given a preloaded function `f`, a starting point and an interval.\n",
    "\n",
    "Be sure to test your code."
   ]
  },
  {
   "cell_type": "code",
   "execution_count": 2,
   "metadata": {
    "collapsed": true,
    "run_control": {
     "read_only": false
    }
   },
   "outputs": [],
   "source": [
    "# Program here"
   ]
  },
  {
   "cell_type": "code",
   "execution_count": 3,
   "metadata": {
    "collapsed": true,
    "run_control": {
     "read_only": false
    }
   },
   "outputs": [],
   "source": [
    "# Test here"
   ]
  },
  {
   "cell_type": "code",
   "execution_count": 4,
   "metadata": {
    "collapsed": false,
    "run_control": {
     "read_only": false
    }
   },
   "outputs": [
    {
     "data": {
      "text/html": [],
      "text/plain": [
       "ToggleButton([Input{Bool}] false,\"Answer\",false)"
      ]
     },
     "metadata": {},
     "output_type": "display_data"
    },
    {
     "data": {
      "text/markdown": [
       "\n"
      ],
      "text/plain": [
       "Revealable(\"###Answer A\\n\\n<p>In unit 1, of course, you did this by hand. </p>\\n\\n<p>It's a lot easier if you just keep the original x as one of the endpoints and only march the other endpoint, instead of marching both endpoints. This will work but will yield a very wide interval in some cases. If you do this and finish early, modify your program so that both endpoints march along.</p>\\n\\n<p>Here's my version:</p>\\n<code>\\nf(x) = x^2 - 4x  # this function is just to test, it can be changed\\n\\nfunction threept(f, x, int)  # f is above, x is the given start value, int is the interval (may be large, around 0.5)\\n    a = x + int  # finding first point location\\n    if f(a) > f(x)  # testing to see if the function is decreasing and...\\n        int = -int  # ...reversing direction if not\\n        a = x + int \\n    end\\n    b = a + int  # another step in same direction\\n    while f(b) < f(a)  # this loop will run until f(b) is greater than f(a), ie an increase\\n        x = a  # reassigning variables here... this is what marches the entire interval along.\\n        a = b \\n        b = b + int \\n    end\\n    println(\\\"\\$x, \\$(f(x))\\\")  #prints the three points in order found\\n    println(\\\"\\$a, \\$(f(a))\\\")\\n    println(\\\"\\$b, \\$(f(b))\\\")\\nend\\n</code>\\n\",\"Answer\",false)"
      ]
     },
     "execution_count": 4,
     "metadata": {
      "comm_id": "2e5e4e36-1201-4e19-b228-d275e248c4ea",
      "reactive": true
     },
     "output_type": "execute_result"
    }
   ],
   "source": [
    "revealable(ans202A)"
   ]
  },
  {
   "cell_type": "markdown",
   "metadata": {},
   "source": [
    "##Practice Problem B &mdash; Analyzing the Program\n",
    "Although the execution of the loop was really fast, it's still useful to know how many iterations it had to run. Add a counter to your program to report how many iterations it takes, then find the number of iterations for...\n",
    "\n",
    "1. $f(x) = x^2 - 4x$, $x = 5$, $h = 0.1$\n",
    "2. $f(x) = x^2 - 4x$, $x = 5$, $h = 0.5$\n",
    "3. $f(x) = x^2 - 3x + 5$, $x = -12$, $h = 0.01$\n",
    "4. $f(x) = x^2 - 3x + 5$, $x = -12$, $h = 1$\n"
   ]
  },
  {
   "cell_type": "code",
   "execution_count": null,
   "metadata": {
    "collapsed": true,
    "run_control": {
     "read_only": false
    }
   },
   "outputs": [],
   "source": [
    "# Save the notebook(!!!) and then edit your program directly.\n",
    "# Test it here:\n"
   ]
  },
  {
   "cell_type": "code",
   "execution_count": 5,
   "metadata": {
    "collapsed": false,
    "run_control": {
     "read_only": false
    }
   },
   "outputs": [
    {
     "data": {
      "text/html": [],
      "text/plain": [
       "ToggleButton([Input{Bool}] false,\"Answer\",false)"
      ]
     },
     "metadata": {},
     "output_type": "display_data"
    },
    {
     "data": {
      "text/markdown": [
       "\n"
      ],
      "text/plain": [
       "Revealable(\"###Answer B\\n\\nThe value of h controls two things: first, how accurate your interval is; and second, how many iterations are run. This was discussed in the previous unit: h too large and your interval could be inaccurate (or you might skip over it); h too small and your iteration count goes through the roof. \\n\\nHere's my program with the counter thrown in:\\n\\n<code>\\nfunction threept(f, x, int)\\n    a = x + int\\n    if f(a) > f(x)\\n        int = -int \\n        a = x + int \\n    end\\n    b = a + int \\n    iter = 0\\n    while f(b) < f(a)\\n        x = a \\n        a = b \\n        b = b + int \\n        iter = iter + 1\\n    end\\n    println(\\\"\\$x, \\$(f(x))\\\")\\n    println(\\\"\\$a, \\$(f(a))\\\")\\n    println(\\\"\\$b, \\$(f(b))\\\")\\n    println(iter)\\nend\\n</code>\\n\",\"Answer\",false)"
      ]
     },
     "execution_count": 5,
     "metadata": {
      "comm_id": "edba1297-4d6d-4d37-a320-8762b36adaa9",
      "reactive": true
     },
     "output_type": "execute_result"
    }
   ],
   "source": [
    "revealable(ans202B)"
   ]
  },
  {
   "cell_type": "markdown",
   "metadata": {},
   "source": [
    "##Refining the Program\n",
    "In the past unit, we considered two potential problems with $h$:\n",
    "\n",
    "* If $h$ is too big, your margin of error is large and you risk skipping over the maximum or minimum completely.\n",
    "* If $h$ is too small, the calculations become too numerous.\n",
    "\n",
    "The solution to the problem with $h$ is to start with a small $h$ and make it larger as the loops count up. Our <font color=\"#ff0000\">modified</font> loop was this:\n",
    "\n",
    "1. Start with $(x,~ f(x))$.\n",
    "2. Find $(x+h,~ f(x+h))$ and check if it’s going the right direction. If not, find $(x-h,~ f(x-h))$.\n",
    "3. Take one more step $h$ or $–h$.\n",
    "4. Check if you have reached the goal (middle point higher/lower than both endpoints). \n",
    "   * If yes, stop.\n",
    "   * If no, <font color=\"#ff0000\">increase $h$ and</font> return to step 3.\n",
    "\n",
    "We also talked about how to increase $h$. Doubling tends to be too fast, 1.5 leads to ugly decimals, so a common compromise is to use Fibonacci multiples of $h$. "
   ]
  },
  {
   "cell_type": "markdown",
   "metadata": {},
   "source": [
    "###Practice Problem C\n",
    "Modify your program so that the value of $h$ increases each time you loop through. \n",
    "\n",
    "First attempt – use a multiplier of 1.5 for $h$.\n",
    "\n",
    "Second attempt – increment using Fibonacci number multiples of $h$.\n",
    "\n",
    "Test your code with low initial values of $h$; the iteration counter should be much lower.\n",
    "\n",
    "__Save and document__ this program! You will want it later."
   ]
  },
  {
   "cell_type": "code",
   "execution_count": null,
   "metadata": {
    "collapsed": true,
    "run_control": {
     "read_only": false
    }
   },
   "outputs": [],
   "source": [
    "# 3-point interval with Fibonacci multiples\n",
    "\n",
    "\n"
   ]
  },
  {
   "cell_type": "markdown",
   "metadata": {},
   "source": [
    "Done quickly? Catch the rare situation where both $f(x + h)$ and $f(x – h)$ are higher than $f(x)$, essentially giving us our three-point interval right off the bat. "
   ]
  },
  {
   "cell_type": "code",
   "execution_count": 6,
   "metadata": {
    "collapsed": false,
    "run_control": {
     "read_only": false
    },
    "scrolled": false
   },
   "outputs": [
    {
     "data": {
      "text/html": [],
      "text/plain": [
       "ToggleButton([Input{Bool}] false,\"Answer\",false)"
      ]
     },
     "metadata": {},
     "output_type": "display_data"
    },
    {
     "data": {
      "text/markdown": [
       "\n"
      ],
      "text/plain": [
       "Revealable(\"###Answer C\\n\\nThe first attempt is fairly straightforward, and the second a little harder.\\n\\nFor the first, a line just before the end of the `while` loop saying `h = 1.5h` will suffice.\\n\\nFor the second, one option is to create a bunch of new variables for the intervals. This is ugly but sufficient.\\n\\nA much more elegant trick is to notice that the sum of the last two intervals is merely the difference between the first and third current points. In my code, the three points were named `x`, `a`, `b`; so I added a line just before the end of the `while` loop saying `h = b - x`.  \\n\\nMy final code, with counter:\\n\\n<code>\\nfunction threept(f, x, int)\\n    a = x + int\\n    if f(a) > f(x)\\n        int = -int \\n        a = x + int \\n    end\\n    b = a + int \\n    iter = 0\\n    while f(b) < f(a)\\n        x = a \\n        a = b \\n        b = b + int \\n        iter = iter + 1\\n        int = b - x  # new line creating Fibonacci incrementation of interval width\\n    end\\n    println(\\\"\\$x, \\$(f(x))\\\")\\n    println(\\\"\\$a, \\$(f(a))\\\")\\n    println(\\\"\\$b, \\$(f(b))\\\")\\n    println(iter)\\nend\\n</code>\\n\",\"Answer\",false)"
      ]
     },
     "execution_count": 6,
     "metadata": {
      "comm_id": "43c00f22-9cb3-447f-920c-42898efa7fcb",
      "reactive": true
     },
     "output_type": "execute_result"
    }
   ],
   "source": [
    "revealable(ans202C)"
   ]
  },
  {
   "cell_type": "code",
   "execution_count": null,
   "metadata": {
    "collapsed": true,
    "run_control": {
     "read_only": false
    }
   },
   "outputs": [],
   "source": []
  }
 ],
 "metadata": {
  "kernelspec": {
   "display_name": "Julia 0.3.10",
   "language": "julia",
   "name": "julia-0.3"
  },
  "language_info": {
   "file_extension": ".jl",
   "mimetype": "application/julia",
   "name": "julia",
   "version": "0.3.10"
  }
 },
 "nbformat": 4,
 "nbformat_minor": 0
}
