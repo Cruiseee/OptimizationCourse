{
 "cells": [
  {
   "cell_type": "markdown",
   "metadata": {
    "run_control": {
     "read_only": false
    }
   },
   "source": [
    "# 2-6 From Minimizing to Maximizing\n",
    "* Modifying your current programs\n",
    "* A nifty shortcut"
   ]
  },
  {
   "cell_type": "code",
   "execution_count": 19,
   "metadata": {
    "collapsed": false
   },
   "outputs": [
    {
     "data": {
      "text/markdown": [
       "\n"
      ],
      "text/plain": [
       "Revealable(\"###Sample Program:\\n\\n    f(x) = x^2 - 4x  # function can be modified to whatever\\n\\n    function secant(f, a, b)\\n        while abs(b - a) > 0.00001  # more accurate is fine. Note absolute value is important for distance!\\n                                    # Also could use f(b) < 0.00001.\\n            m = (f(a) - f(b))/(a - b)  # made a variable for slope to simplify next line\\n            x = -f(a)/m + a  # calculating the x-intercept\\n            a = b  # redefining a and b to include the old b and the x-intercept x\\n            b = x \\n        end  # loop ends when tolerance is reached\\n        println(b)  # print the value of b (the last x-intercept found).\\n    end\\n\",\"Answer\",false)"
      ]
     },
     "execution_count": 19,
     "metadata": {},
     "output_type": "execute_result"
    }
   ],
   "source": [
    "using Revealables\n",
    "include(\"files/answers.jl\")"
   ]
  },
  {
   "cell_type": "markdown",
   "metadata": {},
   "source": [
    "##Shifting the Focus\n",
    "Your current saved programs from this unit are:\n",
    "* 3-point interval\n",
    "* Golden section minimum\n",
    "* Slope method minimum\n",
    "\n",
    "All of these programs find a minimum – but what if you want to __maximize__?"
   ]
  },
  {
   "cell_type": "markdown",
   "metadata": {},
   "source": [
    "##Shifting the Focus: 3-point minimum\n",
    "This program:\n",
    "\n",
    "1. takes a starting point `h` and a function `f`, then tests `x + h` and `x – h` to determine the direction of decrease.  \n",
    "2. In that direction, it continues to mark off intervals until the $y$-values starts to increase.\n",
    "3. The last three points form the three-point interval; the outer two are the endpoints. \n",
    "What needs to change?\n"
   ]
  },
  {
   "cell_type": "code",
   "execution_count": 12,
   "metadata": {
    "collapsed": false
   },
   "outputs": [
    {
     "data": {
      "text/html": [],
      "text/plain": [
       "ToggleButton([Input{Bool}] false,\"Just a few things...\",false)"
      ]
     },
     "metadata": {},
     "output_type": "display_data"
    },
    {
     "data": {
      "text/markdown": [
       "\n"
      ],
      "text/plain": [
       "Revealable(\"Step 1: determine direction of *increase* (meaning, `f(x + h)` or `f(x - h)` is *higher*, not lower, than `f(x))`.\\n\\nStep 2: mark off intervals until the y-values *decrease* (meaning, `f(x + h)` is *lower* than `f(x))`.\\n\\nStep 3: does not change.\\n\",\"Just a few things...\",false)"
      ]
     },
     "execution_count": 12,
     "metadata": {
      "comm_id": "c3782b7b-1066-4ee3-8ea4-3ce6603b0bdb",
      "reactive": true
     },
     "output_type": "execute_result"
    }
   ],
   "source": [
    "revealable(hint206A)"
   ]
  },
  {
   "cell_type": "markdown",
   "metadata": {},
   "source": [
    "###Task A\n",
    "Change your three-point minimum program to a three-point maximum program. \n",
    "\n",
    "Document both so you know which is which and save them separately.\n",
    "\n",
    "Test your code!"
   ]
  },
  {
   "cell_type": "code",
   "execution_count": 13,
   "metadata": {
    "collapsed": true
   },
   "outputs": [],
   "source": [
    "# Code here"
   ]
  },
  {
   "cell_type": "code",
   "execution_count": 14,
   "metadata": {
    "collapsed": true
   },
   "outputs": [],
   "source": [
    "# Test here"
   ]
  },
  {
   "cell_type": "code",
   "execution_count": 15,
   "metadata": {
    "collapsed": false
   },
   "outputs": [
    {
     "data": {
      "text/html": [],
      "text/plain": [
       "ToggleButton([Input{Bool}] false,\"Answer\",false)"
      ]
     },
     "metadata": {},
     "output_type": "display_data"
    },
    {
     "data": {
      "text/markdown": [
       "\n"
      ],
      "text/plain": [
       "Revealable(\"###Answer A\\n<code>\\nfunction threeptmax(f, x, int) # f is the pre-loaded function (above), x is the initial value, int is the initial test interval (small).\\n    a = x + int\\n    if f(a) < f(x)\\n        int = -int\\n        a = x + int\\n    end\\n    b = a + int\\n    iter = 0  # no reason to keep track of iterations, just curious\\n    while f(b) > f(a)\\n        x = a  # stepping the interval along\\n        a = b\\n        b = b + int\\n        iter = iter + 1\\n        int = b - x  # this increases the interval width in a Fibonacci pattern.\\n    end\\n    println(\\\"\\$x, \\$(f(x))\\\")\\n    println(\\\"\\$a, \\$(f(a))\\\")\\n    println(\\\"\\$b, \\$(f(b))\\\")\\n    println(iter)\\nend\\n</code>\\n\",\"Answer\",false)"
      ]
     },
     "execution_count": 15,
     "metadata": {
      "comm_id": "f3b7690e-c702-46c3-b03e-ec7d0de17f0f",
      "reactive": true
     },
     "output_type": "execute_result"
    }
   ],
   "source": [
    "revealable(ans206A)"
   ]
  },
  {
   "cell_type": "markdown",
   "metadata": {},
   "source": [
    "##Shifting the Focus: Golden Section Minimum\n",
    "This program:\n",
    "\n",
    "1. Takes an interval [a, b] surrounding a minimum.  \n",
    "2. Places two interior points using the golden section\n",
    "3. Tests all four points to find which three-point interval has endpoints higher than interior point.\n",
    "4. Repeats on the new interval.\n",
    "\n",
    "What needs to change?"
   ]
  },
  {
   "cell_type": "code",
   "execution_count": 20,
   "metadata": {
    "collapsed": false
   },
   "outputs": [
    {
     "data": {
      "text/html": [],
      "text/plain": [
       "ToggleButton([Input{Bool}] false,\"Half the steps change.\",false)"
      ]
     },
     "metadata": {},
     "output_type": "display_data"
    },
    {
     "data": {
      "text/markdown": [
       "\n"
      ],
      "text/plain": [
       "Revealable(\"Step 1: The interval will now surround a *maximum*&mdash;easy because you now have a 3-point max program.\\n\\nStep 2: Does not change.\\n\\nStep 3: The endpoints of the chosen interval will now be *lower* than the midpoint.\\n\\nStep 4: Does not change.\\n\",\"Half the steps change.\",false)"
      ]
     },
     "execution_count": 20,
     "metadata": {
      "comm_id": "e40302bc-b011-47f6-aff8-109af8f8f26c",
      "reactive": true
     },
     "output_type": "execute_result"
    }
   ],
   "source": [
    "revealable(hint206B)"
   ]
  },
  {
   "cell_type": "markdown",
   "metadata": {},
   "source": [
    "###Task B\n",
    "Change your Golden Section minimum program to a Golden Section maximum program.\n",
    "\n",
    "Document both so you know which is which and save them separately.\n",
    "\n",
    "Test your code!"
   ]
  },
  {
   "cell_type": "code",
   "execution_count": null,
   "metadata": {
    "collapsed": true
   },
   "outputs": [],
   "source": [
    "# Code here"
   ]
  },
  {
   "cell_type": "code",
   "execution_count": null,
   "metadata": {
    "collapsed": true
   },
   "outputs": [],
   "source": [
    "# Test here"
   ]
  },
  {
   "cell_type": "code",
   "execution_count": 17,
   "metadata": {
    "collapsed": false
   },
   "outputs": [
    {
     "data": {
      "text/html": [],
      "text/plain": [
       "ToggleButton([Input{Bool}] false,\"Answer\",false)"
      ]
     },
     "metadata": {},
     "output_type": "display_data"
    },
    {
     "data": {
      "text/markdown": [
       "\n"
      ],
      "text/plain": [
       "Revealable(\"###Answer B\\n<code>\\nfunction fibmax(f, minlim, maxlim, epsilon)  # equation specified at the end. See above for cautions on minlim, maxlim. Epsilon is the acceptable interval width/error.\\n    phi = (-1+(5)^(1/2))/2  # the value of the golden ratio, about 61.8%, used as our sectioning number\\n    int = maxlim - minlim\\n    iteration = 0  # totally unnecessary to keep track of iterations, but why not.\\n    while int > epsilon  # this loop will run until the interval is within the tolerance specified.\\n        subdiv = phi * int\\n        lefttest = maxlim - subdiv  # these three lines mark two points within the interval.\\n        righttest = minlim + subdiv\\n        if f(lefttest) > f(righttest)  # this loop gradually decreases the interval by shifting the endpoints inward to the inner point with the highest function value.\\n            maxlim = righttest\\n        else\\n            minlim = lefttest\\n        end\\n        int = maxlim - minlim\\n        iteration = iteration + 1  # again, not necessary.\\n    end\\n    println(\\\"\\$minlim, \\$maxlim\\\")\\n    println(iteration)  # still not necessary. Interesting maybe.\\nend\\n</code>\\n\",\"Answer\",false)"
      ]
     },
     "execution_count": 17,
     "metadata": {
      "comm_id": "fea0f036-1c1e-4316-a74a-f77d840fde47",
      "reactive": true
     },
     "output_type": "execute_result"
    }
   ],
   "source": [
    "revealable(ans206B)"
   ]
  },
  {
   "cell_type": "markdown",
   "metadata": {},
   "source": [
    "##Shifting the Focus: Slope Method Minimum\n",
    "This program:\n",
    "\n",
    "1. Takes an interval [a, b] surrounding a minimum.  \n",
    "2. Finds the slope between them.\n",
    "3. If slope is positive, shifts right endpoint in; if slope is negative, shifts left endpoint in; if slope is 0, shifts towards center.\n",
    "4. Repeats on the new interval.\n",
    "\n",
    "What needs to change?\n"
   ]
  },
  {
   "cell_type": "code",
   "execution_count": null,
   "metadata": {
    "collapsed": true
   },
   "outputs": [],
   "source": [
    "revealable(hint206C)"
   ]
  },
  {
   "cell_type": "markdown",
   "metadata": {},
   "source": [
    "###Task C\n",
    "Change your Slope Method minimum program to a Slope Method maximum program.\n",
    "\n",
    "Document both so you know which is which and save them separately.\n",
    "\n",
    "Test your code!"
   ]
  },
  {
   "cell_type": "code",
   "execution_count": null,
   "metadata": {
    "collapsed": true
   },
   "outputs": [],
   "source": [
    "# Code here"
   ]
  },
  {
   "cell_type": "code",
   "execution_count": null,
   "metadata": {
    "collapsed": true
   },
   "outputs": [],
   "source": [
    "# Test here"
   ]
  },
  {
   "cell_type": "code",
   "execution_count": null,
   "metadata": {
    "collapsed": true
   },
   "outputs": [],
   "source": [
    "revealable(ans206C)"
   ]
  },
  {
   "cell_type": "markdown",
   "metadata": {},
   "source": [
    "##A Nifty Shortcut\n",
    "While it's very useful to have separate programs for max and min, it's not necessary because there is a shortcut. \n",
    "\n",
    "Because the graphs of $f(x)$ and $–f(x)$ are always vertical reflections of each other, the $x$-value of the optimum point is the same for both.\n",
    "\n",
    "Therefore: \n",
    "\n",
    "The location of $min(f(x))$ is the same as the location of $max(-f(x))$.\n",
    "\n",
    "So instead of modifying a program to find a maximum, you could just use an existing minimization program and enter $-f(x)$ instead of $f(x)$.\n",
    "\n",
    "This trick is useful if you're not planning on maximizing often enough to make it worth changing the program."
   ]
  },
  {
   "cell_type": "markdown",
   "metadata": {},
   "source": [
    "###Practice Problem (4th task)\n",
    "Consider the function $f(x) = 2x^4 – 7x^3 + 2x^2 + 6x$.\n",
    "\n",
    "It has two local minima (around 0 and 2) and one local maximum (around 1).\n",
    "\n",
    "1. Find an interval around the local maximum using your 3-point maximum interval program, then find the actual maximum using both of your maximization programs. \n",
    "2. Find an interval around the local maximum using your 3-point minimum interval program, then find the actual maximum using both of your minimization programs. \n",
    "3. Verify that all four of your answers agree.\n",
    "\n",
    "Repeat 1-3 for one of the local minima."
   ]
  },
  {
   "cell_type": "code",
   "execution_count": null,
   "metadata": {
    "collapsed": true
   },
   "outputs": [],
   "source": [
    "# Code here"
   ]
  },
  {
   "cell_type": "code",
   "execution_count": null,
   "metadata": {
    "collapsed": true
   },
   "outputs": [],
   "source": [
    "# Test here"
   ]
  },
  {
   "cell_type": "code",
   "execution_count": null,
   "metadata": {
    "collapsed": true
   },
   "outputs": [],
   "source": [
    "revealable(ans206C)"
   ]
  },
  {
   "cell_type": "code",
   "execution_count": null,
   "metadata": {
    "collapsed": true
   },
   "outputs": [],
   "source": []
  }
 ],
 "metadata": {
  "kernelspec": {
   "display_name": "Julia 0.3.10",
   "language": "julia",
   "name": "julia-0.3"
  },
  "language_info": {
   "file_extension": ".jl",
   "mimetype": "application/julia",
   "name": "julia",
   "version": "0.3.10"
  }
 },
 "nbformat": 4,
 "nbformat_minor": 0
}
