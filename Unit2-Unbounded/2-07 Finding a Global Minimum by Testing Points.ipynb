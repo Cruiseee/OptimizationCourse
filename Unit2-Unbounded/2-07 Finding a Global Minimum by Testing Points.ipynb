{
 "cells": [
  {
   "cell_type": "markdown",
   "metadata": {
    "run_control": {
     "read_only": false
    }
   },
   "source": [
    "# 2-7 Finding a Global Minimum by Testing Points\n",
    "The same techniques, and in fact the same programs, can be used to find the maximum by substituting $–f(x)$ for $f(x)$ throughout."
   ]
  },
  {
   "cell_type": "code",
   "execution_count": 1,
   "metadata": {
    "run_control": {
     "read_only": false
    }
   },
   "outputs": [
    {
     "data": {
      "text/html": [
       "<div id=\"interact-js-shim\">\n",
       "    <script charset=\"utf-8\">\r\n",
       "(function (IPython, $, _, MathJax) {\r\n",
       "    $.event.special.destroyed = {\r\n",
       "\tremove: function(o) {\r\n",
       "\t    if (o.handler) {\r\n",
       "\t\to.handler.apply(this, arguments)\r\n",
       "\t    }\r\n",
       "\t}\r\n",
       "    }\r\n",
       "\r\n",
       "    var OutputArea = IPython.version >= \"4.0.0\" ? require(\"notebook/js/outputarea\").OutputArea : IPython.OutputArea;\r\n",
       "\r\n",
       "    var redrawValue = function (container, type, val) {\r\n",
       "\tvar selector = $(\"<div/>\");\r\n",
       "\tvar oa = new OutputArea(_.extend(selector, {\r\n",
       "\t    selector: selector,\r\n",
       "\t    prompt_area: true,\r\n",
       "\t    events: IPython.events,\r\n",
       "\t    keyboard_manager: IPython.keyboard_manager\r\n",
       "\t})); // Hack to work with IPython 2.1.0\r\n",
       "\r\n",
       "\tswitch (type) {\r\n",
       "\tcase \"image/png\":\r\n",
       "            var _src = 'data:' + type + ';base64,' + val;\r\n",
       "\t    $(container).find(\"img\").attr('src', _src);\r\n",
       "\t    break;\r\n",
       "\tcase \"text/latex\":\r\n",
       "\t\tif (MathJax){\r\n",
       "\t\t\tvar math = MathJax.Hub.getAllJax(container)[0];\r\n",
       "\t\t\tMathJax.Hub.Queue([\"Text\", math, val.replace(/^\\${1,2}|\\${1,2}$/g, '')]);\r\n",
       "\t\t\tbreak;\r\n",
       "\t\t}\r\n",
       "\tdefault:\r\n",
       "\t    var toinsert = OutputArea.append_map[type].apply(\r\n",
       "\t\toa, [val, {}, selector]\r\n",
       "\t    );\r\n",
       "\t    $(container).empty().append(toinsert.contents());\r\n",
       "\t    selector.remove();\r\n",
       "\t}\r\n",
       "    }\r\n",
       "\r\n",
       "\r\n",
       "    $(document).ready(function() {\r\n",
       "\tfunction initComm(evt, data) {\r\n",
       "\t    var comm_manager = data.kernel.comm_manager;\r\n",
       "        //_.extend(comm_manager.targets, require(\"widgets/js/widget\"))\r\n",
       "\t    comm_manager.register_target(\"Signal\", function (comm) {\r\n",
       "            comm.on_msg(function (msg) {\r\n",
       "                var val = msg.content.data.value;\r\n",
       "                $(\".signal-\" + comm.comm_id).each(function() {\r\n",
       "                var type = $(this).data(\"type\");\r\n",
       "                if (typeof(val[type]) !== \"undefined\" && val[type] !== null) {\r\n",
       "                    redrawValue(this, type, val[type], type);\r\n",
       "                }\r\n",
       "                });\r\n",
       "                delete val;\r\n",
       "                delete msg.content.data.value;\r\n",
       "            });\r\n",
       "\t    });\r\n",
       "\r\n",
       "\t    // coordingate with Comm and redraw Signals\r\n",
       "\t    // XXX: Test using Reactive here to improve performance\r\n",
       "\t    $([IPython.events]).on(\r\n",
       "\t\t'output_appended.OutputArea', function (event, type, value, md, toinsert) {\r\n",
       "\t\t    if (md && md.reactive) {\r\n",
       "                // console.log(md.comm_id);\r\n",
       "                toinsert.addClass(\"signal-\" + md.comm_id);\r\n",
       "                toinsert.data(\"type\", type);\r\n",
       "                // Signal back indicating the mimetype required\r\n",
       "                var comm_manager = IPython.notebook.kernel.comm_manager;\r\n",
       "                var comm = comm_manager.comms[md.comm_id];\r\n",
       "                comm.then(function (c) {\r\n",
       "                    c.send({action: \"subscribe_mime\",\r\n",
       "                       mime: type});\r\n",
       "                    toinsert.bind(\"destroyed\", function() {\r\n",
       "                        c.send({action: \"unsubscribe_mime\",\r\n",
       "                               mime: type});\r\n",
       "                    });\r\n",
       "                })\r\n",
       "\t\t    }\r\n",
       "\t    });\r\n",
       "\t}\r\n",
       "\r\n",
       "\ttry {\r\n",
       "\t    // try to initialize right away. otherwise, wait on the status_started event.\r\n",
       "\t    initComm(undefined, IPython.notebook);\r\n",
       "\t} catch (e) {\r\n",
       "\t    $([IPython.events]).on('kernel_created.Kernel kernel_created.Session', initComm);\r\n",
       "\t}\r\n",
       "    });\r\n",
       "})(IPython, jQuery, _, MathJax);\r\n",
       "</script>\n",
       "    <script>\n",
       "        window.interactLoadedFlag = true\n",
       "       $(\"#interact-js-shim\").bind(\"destroyed\", function () {\n",
       "           if (window.interactLoadedFlag) {\n",
       "               console.warn(\"JavaScript required by Interact will be removed if you remove this cell or run using Interact more than once.\")\n",
       "           }\n",
       "       })\n",
       "       $([IPython.events]).on(\"kernel_starting.Kernel kernel_restarting.Kernel\", function () { window.interactLoadedFlag = false })\n",
       "   </script>\n",
       "</div>"
      ]
     },
     "metadata": {},
     "output_type": "display_data"
    },
    {
     "data": {
      "text/markdown": [
       "\n"
      ],
      "text/plain": [
       "Revealables.Revealable(\"My third generation was a huge improvement; my fourth, not so much. \\nHere are the fitness ranks of my generations, if you're curious:<br clear=\\\"all\\\">\\nI: 19, 9, 8, -5<br clear=\\\"all\\\">\\nII: 13, 10, 3, 1<br clear=\\\"all\\\">\\nIII: 20, 15, 14, 10<br clear=\\\"all\\\">\\nIV: 28, 12, 11, -5<br clear=\\\"all\\\">\\n\\nThen I got hooked...<br clear=\\\"all\\\">\\nV: 21, 16, 12, 4<br clear=\\\"all\\\">\\nVI: 23, 21, 16, 6<br clear=\\\"all\\\">\\nVII: 21, 21, 21, 6<br clear=\\\"all\\\">\\n\\n\\nOne thing I noticed while getting hooked is that I wrote a program that made an array out of `rand(12)` and returned the location of anything less than 1/12, which saved some time. If you're curious, continue your own iterations with computer support. Depending on your programming experience, writing an entire program might take more time than doing it by hand.\\n\\nVIII: 24, 23, 21, 19.<br clear=\\\"all\\\">\\nI stopped here because it was lunchtime. The optimum solution is 1111 / 1111 / 0000 = 30. It's clear that successive generations are approaching the optimum, and also getting more uniform (though mutation keeps it interesting). Cool stuff.\\n\", \"Answer\", false, false)"
      ]
     },
     "execution_count": 1,
     "metadata": {},
     "output_type": "execute_result"
    }
   ],
   "source": [
    "using Revealables\n",
    "include(\"files/answers.jl\")"
   ]
  },
  {
   "cell_type": "markdown",
   "metadata": {},
   "source": [
    "##The Unboundedness Problem\n",
    "\n",
    "The assumption in this unit is that the functions are __unbounded__, that is, they have no boundaries.\n",
    "\n",
    "<img src=\"files/2-7/unbounded.png\" width=150 />\n",
    "\n",
    "For a function like this one, the most obvious effect is that there is no global maximum because there are no upper boundaries.\n",
    "\n",
    "A bigger problem is that it also has no left or right boundaries. Without a graph, or even with a graph, there is no way to know if the point that appears to be the global minimum here actually is a global minimum. Both of the methods we will learn for finding global extremes rely on having some kind of left-right boundaries.\n",
    "\n",
    "In the real world, boundaries will naturally occur. An airplane wing can't have negative length, nor can it be a mile long. Although 0 < $x$ < (1 mile) seems like an odd set of boundaries, any boundaries will do.\n",
    "\n",
    "Another option to solve the unboundedness problem is to introduce an artificial ceiling. This might say, \"If $y$ gets over 1000, I'll assume the function is going to keep going and not ever turn around.\"\n",
    "\n",
    "<img src=\"files/2-7/vbound.png\" width=200 />\n",
    "\n",
    "This might be risky because you can never be completely sure that the ceiling you choose is high enough.\n",
    "\n",
    "The ceiling method also introduces horizontal boundaries. Even if you’re focusing on high $y$-values, those stopping points have $x$-values too.\n",
    "\n",
    "<img src=\"files/2-7/hbound.png\" width=200 />\n",
    "\n",
    "So no matter which method you use, you’ll end up with horizontal boundaries.\n"
   ]
  },
  {
   "cell_type": "markdown",
   "metadata": {},
   "source": [
    "###Task A\n",
    "Write a program that starts at $x = 0$ and finds $y$-values for a pre-loaded function at intervals of 2 units, both left and right. \n",
    "\n",
    "When the $y$-values leave the range $[–1000000, 1000000]$, the function will stop checking in that direction.\n",
    "\n",
    "The function will return two $x$-values: the last ones checked in both directions.\n"
   ]
  },
  {
   "cell_type": "code",
   "execution_count": null,
   "metadata": {
    "collapsed": true,
    "run_control": {
     "read_only": false
    }
   },
   "outputs": [],
   "source": [
    "# Code"
   ]
  },
  {
   "cell_type": "code",
   "execution_count": null,
   "metadata": {
    "collapsed": true,
    "run_control": {
     "read_only": false
    }
   },
   "outputs": [],
   "source": [
    "# Test"
   ]
  },
  {
   "cell_type": "code",
   "execution_count": 2,
   "metadata": {
    "run_control": {
     "read_only": false
    }
   },
   "outputs": [
    {
     "data": {
      "text/html": [],
      "text/plain": [
       "Interact.ToggleButton(1: \"input\" = false Bool , \"Answer\", false)"
      ]
     },
     "metadata": {},
     "output_type": "display_data"
    },
    {
     "data": {
      "text/markdown": [
       "\n"
      ],
      "text/plain": [
       "Revealables.Revealable(\"###Answer A\\n<code>\\nfunction ybasedint(f)\\n    step = 2  # totally arbitrary.\\n    testpos = 0\\n    testneg = 0\\n    while -1000000 < f(testpos) < 1000000  # also totally arbitrary.\\n        testpos = testpos + step\\n    end\\n    while -1000 < f(testneg) < 1000\\n        testneg = testneg - step\\n    end\\n    println(testneg)\\n    println(testpos)\\nend\\n</code>\\n\", \"Answer\", false, false)"
      ]
     },
     "execution_count": 2,
     "metadata": {
      "comm_id": "ba906fc9-89e1-45d4-98ee-f0f11800a30e",
      "reactive": true
     },
     "output_type": "execute_result"
    },
    {
     "name": "stderr",
     "output_type": "stream",
     "text": [
      "WARNING: Compat.ASCIIString is deprecated, use String instead.\n",
      "  likely near C:\\Users\\Victoria Docherty\\.julia\\v0.6\\IJulia\\src\\kernel.jl:31\n",
      "WARNING: Compat.ASCIIString is deprecated, use String instead.\n",
      "  likely near C:\\Users\\Victoria Docherty\\.julia\\v0.6\\IJulia\\src\\kernel.jl:31\n"
     ]
    }
   ],
   "source": [
    "revealable(ans207A)"
   ]
  },
  {
   "cell_type": "markdown",
   "metadata": {},
   "source": [
    "##Given an Interval: Test Points\n",
    "One method for finding a global extreme is simple: Given an interval, \n",
    "1. Divide your interval into smaller intervals\n",
    "    * This can be done by choosing a set number of intervals (ex: divide your interval space by 100 or so) or by choosing a set interval width (ex: test a sample point every 0.5 units or so)\n",
    "   \n",
    "2. Test all of those $x$-values to find the \"best\"\n",
    "\n",
    "3. Use the \"best\" $x$-value as the starting point for a 3-point interval search. \n"
   ]
  },
  {
   "cell_type": "markdown",
   "metadata": {},
   "source": [
    "##Task B\n",
    "1. Write a program that divides a given interval $[a, b]$ into 50 sections and returns the point with the lowest $y$-value on $f(x)$.\n",
    "2. Use that $y$-value in your 3-point minimum program to find an interval containing the minimum.\n",
    "3. Use that interval in either of your minimization programs to find the global minimum.\n",
    "4. Test with the function $y = x^4 + 35x^3 – 1062x^2 – 8336x + 47840$, given that the global minimum is somewhere between -200 and 200.\n",
    "\n",
    "This code will be a lot like the “brute force” code they wrote earlier in the unit. \n",
    "\n",
    "If you finish early, play with lowering the number of sections from 50. This will decrease the number of iterations required, but the search is still accurate for a shockingly low number of divisions. I found that the interval from -200 to 300 with 5 divisions gave me the local (non-global) minimum, but otherwise it was really hard to get the wrong one.\n"
   ]
  },
  {
   "cell_type": "code",
   "execution_count": null,
   "metadata": {
    "collapsed": true,
    "run_control": {
     "read_only": false
    }
   },
   "outputs": [],
   "source": [
    "# Code here"
   ]
  },
  {
   "cell_type": "code",
   "execution_count": null,
   "metadata": {
    "collapsed": true,
    "run_control": {
     "read_only": false
    }
   },
   "outputs": [],
   "source": [
    "# Test here"
   ]
  },
  {
   "cell_type": "code",
   "execution_count": 3,
   "metadata": {
    "run_control": {
     "read_only": false
    }
   },
   "outputs": [
    {
     "data": {
      "text/html": [],
      "text/plain": [
       "Interact.ToggleButton(4: \"input-2\" = false Bool , \"Answer\", false)"
      ]
     },
     "metadata": {},
     "output_type": "display_data"
    },
    {
     "data": {
      "text/markdown": [
       "\n"
      ],
      "text/plain": [
       "Revealables.Revealable(\"###Answer B\\n<code>\\nf(x) = x^4 + 35x^3 - 1062x^2 - 8336x + 47840  # the function analyzed\\n\\nfunction gridsearch(f, a, b)  #f is the function, a and b the endpoints of the interval in order\\n    int = b - a \\n    int = int/5  # divides interval into 50 subintervals\\n    test = a  # everything start with a. Test is the point we're currently testing...\\n    low = f(a)  # low is the record low value so far\\n    save = a  # save is the x-value corresponding to the record low\\n    while test < b  # this loop will run until we've tested all the points from a to b\\n        if f(test)<low  # if the y-value is lower than the current lowest,\\n            low = f(test)  # then this loop replaces the current (save, low) with the new (save, low)\\n            save = test\\n        end\\n    test = test + int  # moving on to the next point\\n    end\\n    println(\\\"seed with x = \\$save\\\")\\nend\\n</code>\\n\", \"Answer\", false, false)"
      ]
     },
     "execution_count": 3,
     "metadata": {
      "comm_id": "5ac91df2-f220-402d-b961-10cfb7857fd4",
      "reactive": true
     },
     "output_type": "execute_result"
    },
    {
     "name": "stderr",
     "output_type": "stream",
     "text": [
      "WARNING: Compat.ASCIIString is deprecated, use String instead.\n",
      "  likely near C:\\Users\\Victoria Docherty\\.julia\\v0.6\\IJulia\\src\\kernel.jl:31\n"
     ]
    }
   ],
   "source": [
    "revealable(ans207B)"
   ]
  },
  {
   "cell_type": "markdown",
   "metadata": {},
   "source": [
    "##Task C\n",
    "In the previous task, you ran three separate programs, transferring by hand the response from each one into the next. \n",
    "\n",
    "Combine the three programs into a single program, starting with test points, moving to 3-point interval, and finishing with minimization, such that you can input the function and broad interval and the output will be the global minimum."
   ]
  },
  {
   "cell_type": "code",
   "execution_count": null,
   "metadata": {
    "collapsed": true,
    "run_control": {
     "read_only": false
    }
   },
   "outputs": [],
   "source": [
    "# Code here"
   ]
  },
  {
   "cell_type": "code",
   "execution_count": null,
   "metadata": {
    "collapsed": true,
    "run_control": {
     "read_only": false
    }
   },
   "outputs": [],
   "source": [
    "# Test here"
   ]
  },
  {
   "cell_type": "code",
   "execution_count": 4,
   "metadata": {
    "run_control": {
     "read_only": false
    }
   },
   "outputs": [
    {
     "data": {
      "text/html": [],
      "text/plain": [
       "Interact.ToggleButton(7: \"input-3\" = false Bool , \"Answer\", false)"
      ]
     },
     "metadata": {},
     "output_type": "display_data"
    },
    {
     "data": {
      "text/markdown": [
       "\n"
      ],
      "text/plain": [
       "Revealables.Revealable(\"###Answer C\\nThe main reason to do this is it's kind of nice to have one program that does everything rather than having to transfer by hand, but when I combined mine I noticed how glad I was that my code was documented.\\n\\nIt looks so simple, but it is truly a pain in the butt. Since you wrote the three earlier programs in separate sittings, you probably have different variables for the same thing in all the different programs. You will have to unify like variables under a common name and separate variables that you accidentally named the same thing but are different. You will also have to maintain attention to the order of interval endpoints if any of the programs require them to be in numerical order.\\n\\nOther than that, it's just a matter of deleting the `function` and `end` commands from the top and bottom of each individual program, then putting a great big `function` and `end` to bracket the whole thing.\\n<code>\\nfunction globalmin(f, a, b)  # f is the function, a and b the endpoints of the interval in order\\n    # This composite function combines a grid search, a 3-point interval, and a slope-based minimization program to find a global minimum.\\n    \\n    # the first part of the program is a grid search to determine a good starting point.\\n    int = b - a\\n    int = int/50  # divides interval into 50 subintervals\\n    test = a  # everything starts with a. Test is the point we're currently testing...\\n    low = f(a)  # low is the record low value so far\\n    save = a  # save is the x-value corresponding to the record low\\n    while test < b  # this loop will run until we've tested all the points from a to b\\n        if f(test)<low  # if the y-value is lower than the current lowest,\\n        low = f(test)  # then this loop replaces the current (save, low) with the new (save, low)\\n        save = test  # save will return the location of the lowest point\\n    end\\n    test = test + int  # moving on to the next point\\n  end\\n\\n    # the next part of the program is a 3-point interval search, using \\\"save\\\" as the seed point, the location of the record low from the grid search\\n    int = int/10  # initial interval is 1/10 the previous interval\\n    a = save + int  # first test point is 1 interval unit from the starting point\\n    if f(a) > f(save)  # this loop checks direction of motion to ensure we're heading to a minimum\\n        int = -int\\n        a = save + int\\n    end\\n    b = a + int\\n    while f(b) < f(a)\\n        save = a  # stepping the interval along\\n        a = b\\n        b = b + int\\n        int = b - save  # this increases the interval width in a Fibonacci pattern.\\n    end\\n  \\n    # finally, the last part of the program minimizes in the interval [save, a].\\n    left = min(b, save)\\n    right = max(b, save)\\n        phi = (-1+(5)^(1/2))/2  # phi, the golden ratio, used for sectioning below.\\n        int = right - left\\n        while int > 0.00001  # tolerance, change as needed\\n            subdiv = phi * int\\n            lefttest = right - subdiv  # this line and the next create two points within the interval...\\n            righttest = left + subdiv\\n            if f(lefttest) < f(righttest)  # ...while this loop tests the interior points in the function and shifts the interval endpoints inward accordingly.\\n            right = righttest\\n        else\\n            left = lefttest\\n        end\\n        int = right - left\\n    end\\n    println(\\\"\\$left, \\$right\\\")\\nend\\n</code>\\n\", \"Answer\", false, false)"
      ]
     },
     "execution_count": 4,
     "metadata": {
      "comm_id": "9cdcc61b-6320-4299-90ec-3b6f31a54f55",
      "reactive": true
     },
     "output_type": "execute_result"
    }
   ],
   "source": [
    "revealable(ans207C)"
   ]
  },
  {
   "cell_type": "code",
   "execution_count": null,
   "metadata": {
    "collapsed": true,
    "run_control": {
     "read_only": false
    }
   },
   "outputs": [],
   "source": []
  }
 ],
 "metadata": {
  "kernelspec": {
   "display_name": "Julia 0.6.0",
   "language": "julia",
   "name": "julia-0.6"
  },
  "language_info": {
   "file_extension": ".jl",
   "mimetype": "application/julia",
   "name": "julia",
   "version": "0.6.0"
  }
 },
 "nbformat": 4,
 "nbformat_minor": 1
}
