{
 "cells": [
  {
   "cell_type": "markdown",
   "metadata": {
    "run_control": {
     "read_only": false
    }
   },
   "source": [
    "# 2-7 Finding a Global Minimum by Testing Points\n",
    "The same techniques, and in fact the same programs, can be used to find the maximum by substituting $–f(x)$ for $f(x)$ throughout."
   ]
  },
  {
   "cell_type": "code",
   "execution_count": null,
   "metadata": {
    "collapsed": false,
    "run_control": {
     "read_only": false
    }
   },
   "outputs": [],
   "source": [
    "using Revealables\n",
    "include(\"files/answers.jl\")"
   ]
  },
  {
   "cell_type": "markdown",
   "metadata": {},
   "source": [
    "##The Unboundedness Problem\n",
    "\n",
    "The assumption in this unit is that the functions are __unbounded__, that is, they have no boundaries.\n",
    "\n",
    "<img src=\"files/2-7/unbounded.png\" width=150 />\n",
    "\n",
    "For a function like this one, the most obvious effect is that there is no global maximum because there are no upper boundaries.\n",
    "\n",
    "A bigger problem is that it also has no left or right boundaries. Without a graph, or even with a graph, there is no way to know if the point that appears to be the global minimum here actually is a global minimum. Both of the methods we will learn for finding global extremes rely on having some kind of left-right boundaries.\n",
    "\n",
    "In the real world, boundaries will naturally occur. An airplane wing can't have negative length, nor can it be a mile long. Although 0 < $x$ < (1 mile) seems like an odd set of boundaries, any boundaries will do.\n",
    "\n",
    "Another option to solve the unboundedness problem is to introduce an artificial ceiling. This might say, \"If $y$ gets over 1000, I'll assume the function is going to keep going and not ever turn around.\"\n",
    "\n",
    "<img src=\"files/2-7/vbound.png\" width=200 />\n",
    "\n",
    "This might be risky because you can never be completely sure that the ceiling you choose is high enough.\n",
    "\n",
    "The ceiling method also introduces horizontal boundaries. Even if you’re focusing on high $y$-values, those stopping points have $x$-values too.\n",
    "\n",
    "<img src=\"files/2-7/hbound.png\" width=200 />\n",
    "\n",
    "So no matter which method you use, you’ll end up with horizontal boundaries.\n"
   ]
  },
  {
   "cell_type": "markdown",
   "metadata": {},
   "source": [
    "###Task A\n",
    "Write a program that starts at $x = 0$ and finds $y$-values for a pre-loaded function at intervals of 2 units, both left and right. \n",
    "\n",
    "When the $y$-values leave the range $[–1000000, 1000000]$, the function will stop checking in that direction.\n",
    "\n",
    "The function will return two $x$-values: the last ones checked in both directions.\n"
   ]
  },
  {
   "cell_type": "code",
   "execution_count": null,
   "metadata": {
    "collapsed": true,
    "run_control": {
     "read_only": false
    }
   },
   "outputs": [],
   "source": [
    "# Code"
   ]
  },
  {
   "cell_type": "code",
   "execution_count": null,
   "metadata": {
    "collapsed": true,
    "run_control": {
     "read_only": false
    }
   },
   "outputs": [],
   "source": [
    "# Test"
   ]
  },
  {
   "cell_type": "code",
   "execution_count": null,
   "metadata": {
    "collapsed": false,
    "run_control": {
     "read_only": false
    }
   },
   "outputs": [],
   "source": [
    "revealable(ans207A)"
   ]
  },
  {
   "cell_type": "markdown",
   "metadata": {},
   "source": [
    "##Given an Interval: Test Points\n",
    "One method for finding a global extreme is simple: Given an interval, \n",
    "1. Divide your interval into smaller intervals\n",
    "    * This can be done by choosing a set number of intervals (ex: divide your interval space by 100 or so) or by choosing a set interval width (ex: test a sample point every 0.5 units or so)\n",
    "   \n",
    "2. Test all of those $x$-values to find the \"best\"\n",
    "\n",
    "3. Use the \"best\" $x$-value as the starting point for a 3-point interval search. \n"
   ]
  },
  {
   "cell_type": "markdown",
   "metadata": {},
   "source": [
    "##Task B\n",
    "1. Write a program that divides a given interval $[a, b]$ into 50 sections and returns the point with the lowest $y$-value on $f(x)$.\n",
    "2. Use that $y$-value in your 3-point minimum program to find an interval containing the minimum.\n",
    "3. Use that interval in either of your minimization programs to find the global minimum.\n",
    "4. Test with the function $y = x^4 + 35x^3 – 1062x^2 – 8336x + 47840$, given that the global minimum is somewhere between -200 and 200.\n",
    "\n",
    "This code will be a lot like the “brute force” code they wrote earlier in the unit. \n",
    "\n",
    "If you finish early, play with lowering the number of sections from 50. This will decrease the number of iterations required, but the search is still accurate for a shockingly low number of divisions. I found that the interval from -200 to 300 with 5 divisions gave me the local (non-global) minimum, but otherwise it was really hard to get the wrong one.\n"
   ]
  },
  {
   "cell_type": "code",
   "execution_count": null,
   "metadata": {
    "collapsed": true,
    "run_control": {
     "read_only": false
    }
   },
   "outputs": [],
   "source": [
    "# Code here"
   ]
  },
  {
   "cell_type": "code",
   "execution_count": null,
   "metadata": {
    "collapsed": true,
    "run_control": {
     "read_only": false
    }
   },
   "outputs": [],
   "source": [
    "# Test here"
   ]
  },
  {
   "cell_type": "code",
   "execution_count": null,
   "metadata": {
    "collapsed": false,
    "run_control": {
     "read_only": false
    }
   },
   "outputs": [],
   "source": [
    "revealable(ans207B)"
   ]
  },
  {
   "cell_type": "markdown",
   "metadata": {},
   "source": [
    "##Task C\n",
    "In the previous task, you ran three separate programs, transferring by hand the response from each one into the next. \n",
    "\n",
    "Combine the three programs into a single program, starting with test points, moving to 3-point interval, and finishing with minimization, such that you can input the function and broad interval and the output will be the global minimum."
   ]
  },
  {
   "cell_type": "code",
   "execution_count": null,
   "metadata": {
    "collapsed": true,
    "run_control": {
     "read_only": false
    }
   },
   "outputs": [],
   "source": [
    "# Code here"
   ]
  },
  {
   "cell_type": "code",
   "execution_count": null,
   "metadata": {
    "collapsed": true,
    "run_control": {
     "read_only": false
    }
   },
   "outputs": [],
   "source": [
    "# Test here"
   ]
  },
  {
   "cell_type": "code",
   "execution_count": null,
   "metadata": {
    "collapsed": false,
    "run_control": {
     "read_only": false
    }
   },
   "outputs": [],
   "source": [
    "revealable(ans207C)"
   ]
  },
  {
   "cell_type": "code",
   "execution_count": null,
   "metadata": {
    "collapsed": true,
    "run_control": {
     "read_only": false
    }
   },
   "outputs": [],
   "source": []
  }
 ],
 "metadata": {
  "kernelspec": {
   "display_name": "Julia 0.3.10",
   "language": "julia",
   "name": "julia-0.3"
  },
  "language_info": {
   "file_extension": ".jl",
   "mimetype": "application/julia",
   "name": "julia",
   "version": "0.3.10"
  }
 },
 "nbformat": 4,
 "nbformat_minor": 0
}
