{
 "cells": [
  {
   "cell_type": "markdown",
   "metadata": {
    "run_control": {
     "read_only": false
    }
   },
   "source": [
    "# 2-13 Extensions in 2+ Variables\n",
    "* Maximizing\n",
    "* Beyond 3D"
   ]
  },
  {
   "cell_type": "code",
   "execution_count": null,
   "metadata": {
    "collapsed": false,
    "run_control": {
     "read_only": false
    }
   },
   "outputs": [],
   "source": [
    "using Revealables\n",
    "include(\"files/answers.jl\")"
   ]
  },
  {
   "cell_type": "markdown",
   "metadata": {},
   "source": [
    "##Maximizing in 3D\n",
    "All of the 3D functions we've examined (and programs we've written) have been *minimization* programs. But it's also possible to *maximize*.\n",
    "\n",
    "As you will recall from earlier in the unit, one way to do this is to use the same program, but change the input function to its negative. This will always work, regardless of the number of variables.\n",
    "\n",
    "However, if you're maximizing often, it's nice to have a program written for that purpose."
   ]
  },
  {
   "cell_type": "markdown",
   "metadata": {},
   "source": [
    "###Practice Problem A\n",
    "Choose any of your 3D programs  from this unit (intelligent brute force, Hooke-Jeeves, or cyclic coordinates) and modify it to a maximization program."
   ]
  },
  {
   "cell_type": "code",
   "execution_count": null,
   "metadata": {
    "collapsed": true,
    "run_control": {
     "read_only": false
    }
   },
   "outputs": [],
   "source": [
    "# Code"
   ]
  },
  {
   "cell_type": "code",
   "execution_count": null,
   "metadata": {
    "collapsed": true,
    "run_control": {
     "read_only": false
    }
   },
   "outputs": [],
   "source": [
    "# Test"
   ]
  },
  {
   "cell_type": "code",
   "execution_count": null,
   "metadata": {
    "collapsed": false,
    "run_control": {
     "read_only": false
    }
   },
   "outputs": [],
   "source": [
    "revealable(hint213A)"
   ]
  },
  {
   "cell_type": "markdown",
   "metadata": {},
   "source": [
    "##Beyond 3D\n",
    "In this unit we have focused on functions in 1 or 2 variables only because these are easier to visualize. \n",
    "\n",
    "While it's possible to graph a point in 3 variables, putting the objective function on the graph would require 4 dimensions and therefore is not possible to visualize (for me, anyway).\n",
    "\n",
    "However, none of the math involved relies on the ability to visualize the situation. You could make a function in three variables:\n",
    "\n",
    "$f(x_1, x_2, x_3) = x_1^2 + 2x_2x_3 – x_2{x_3}^2 + x_3$\n",
    "\n",
    "Or four variables:\n",
    "\n",
    "$f(x_1, x_2, x_3, x_4) = 2{x_2}^2 + 7x_1x_4 – x_2x_3 + 5x_1$\n",
    "\n",
    "Or more...\n",
    "\n",
    "All of these equations can be minimized using the same methods.\n",
    "\n",
    "###Brute Force\n",
    "The brute force method involved taking each point in turn and shifting it a little bit up or down, then testing all the resulting points to find the one with the best function value.\n",
    "\n",
    "The process is identical in 3 or more variables.\n",
    "\n",
    "###Hooke-Jeeves\n",
    "The Hooke-Jeeves method involved testing a larger number of points around the center point&mdash;every possible combination of the original variables, a little more, and a little less, then forming a vector and traveling in that direction.\n",
    "\n",
    "The process is identical in 3 or more variables.\n",
    "\n",
    "###Cyclic Coordinates\n",
    "The cyclic coordinate method involved isolating a single variable by making the other constant, then minimizing for that variable and repeating.\n",
    "\n",
    "If we isolate a single variable by making all the other variables constant, the process is the same in 3 or more variables."
   ]
  },
  {
   "cell_type": "markdown",
   "metadata": {},
   "source": [
    "###Practice Problem B\n",
    "1. Examine your code for the Hooke-Jeeves algorithm. Write a description of what would need to change for an equation in 3 or more variables. (You don't need to write a new program.)\n",
    "\n",
    "2. Examine your code for the cyclic coordinate algorithm. Write a description of what would need to change for an equation in 3 or more variables. (You don't need to write a new program.)"
   ]
  },
  {
   "cell_type": "raw",
   "metadata": {},
   "source": [
    "Write your answers here:\n",
    "\n",
    "\n",
    "\n",
    "\n"
   ]
  },
  {
   "cell_type": "code",
   "execution_count": null,
   "metadata": {
    "collapsed": false,
    "run_control": {
     "read_only": false
    }
   },
   "outputs": [],
   "source": [
    "revealable(ans213B)"
   ]
  },
  {
   "cell_type": "code",
   "execution_count": null,
   "metadata": {
    "collapsed": true,
    "run_control": {
     "read_only": false
    }
   },
   "outputs": [],
   "source": []
  }
 ],
 "metadata": {
  "kernelspec": {
   "display_name": "Julia 0.3.10",
   "language": "julia",
   "name": "julia-0.3"
  },
  "language_info": {
   "file_extension": ".jl",
   "mimetype": "application/julia",
   "name": "julia",
   "version": "0.3.10"
  }
 },
 "nbformat": 4,
 "nbformat_minor": 0
}
