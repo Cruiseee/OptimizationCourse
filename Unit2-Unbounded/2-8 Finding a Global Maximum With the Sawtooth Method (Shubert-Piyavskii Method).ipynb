{
 "cells": [
  {
   "cell_type": "markdown",
   "metadata": {
    "run_control": {
     "read_only": false
    }
   },
   "source": [
    "# 2-8 Finding a Global Maximum With the Sawtooth Method (Shubert-Piyavskii Method)\n",
    "\n",
    "Here we're finding a global *maximum* instead of the usual minimum. Graphically and conceptually, it's just easier to handle learning this method for maxima rather than minima. It could be adapted, once learned, to finding minima as well, or you could just maximize $–f(x)$. The latter is probably easier.\n",
    "\n",
    "This section will be light on programming and heavier on paper-and-pencil, though you are encouraged to take shortcuts using small functions, or even write the full program if you like. "
   ]
  },
  {
   "cell_type": "code",
   "execution_count": 30,
   "metadata": {
    "collapsed": false,
    "run_control": {
     "read_only": false
    }
   },
   "outputs": [
    {
     "data": {
      "text/markdown": [
       "\n"
      ],
      "text/plain": [
       "Revealable(\"###Sample Program:\\n\\n    f(x) = x^2 - 4x  # function can be modified to whatever\\n\\n    function secant(f, a, b)\\n        while abs(b - a) > 0.00001  # more accurate is fine. Note absolute value is important for distance!\\n                                    # Also could use f(b) < 0.00001.\\n            m = (f(a) - f(b))/(a - b)  # made a variable for slope to simplify next line\\n            x = -f(a)/m + a  # calculating the x-intercept\\n            a = b  # redefining a and b to include the old b and the x-intercept x\\n            b = x \\n        end  # loop ends when tolerance is reached\\n        println(b)  # print the value of b (the last x-intercept found).\\n    end\\n\",\"Answer\",false)"
      ]
     },
     "execution_count": 30,
     "metadata": {},
     "output_type": "execute_result"
    }
   ],
   "source": [
    "using Revealables\n",
    "using Interact\n",
    "include(\"files/answers.jl\")"
   ]
  },
  {
   "cell_type": "markdown",
   "metadata": {},
   "source": [
    "The sawtooth method requires two things that aren't always obvious:\n",
    "\n",
    "1. Left and right boundaries (from common sense or ceiling methods&mdash;same as previous lesson)\n",
    "2. A boundary on the slope of the graph...\n"
   ]
  },
  {
   "cell_type": "code",
   "execution_count": 3,
   "metadata": {
    "collapsed": false,
    "input_collapsed": true,
    "run_control": {
     "read_only": false
    }
   },
   "outputs": [
    {
     "data": {
      "text/html": [],
      "text/plain": [
       "ToggleButton([Input{Bool}] true,\"Slope Review\",true)"
      ]
     },
     "metadata": {},
     "output_type": "display_data"
    },
    {
     "data": {
      "text/markdown": [
       "##Curved Functions and Slope\n",
       "__Slope__ is a term used to describe the steepness of straight lines. \n",
       "<img src=\"files/2-8/slopes.png\" width=200 />\n",
       "\n",
       "But even curved functions have *steepness*.\n",
       "<img src=\"files/2-8/function.png\" width=200 />\n",
       "\n",
       "In this diagram, the steepest part of the curve is steeper than the yellow line, and shallower than the red line, and about the same as the green line.\n",
       "<img src=\"files/2-8/redgreenyellowslopes.png\" width=200 />\n",
       "\n"
      ],
      "text/plain": [
       "Revealable(\"##Curved Functions and Slope\\n__Slope__ is a term used to describe the steepness of straight lines. \\n<img src=\\\"files/2-8/slopes.png\\\" width=200 />\\n\\nBut even curved functions have *steepness*.\\n<img src=\\\"files/2-8/function.png\\\" width=200 />\\n\\nIn this diagram, the steepest part of the curve is steeper than the yellow line, and shallower than the red line, and about the same as the green line.\\n<img src=\\\"files/2-8/redgreenyellowslopes.png\\\" width=200 />\\n\",\"Slope Review\",true)"
      ]
     },
     "execution_count": 3,
     "metadata": {
      "comm_id": "66361590-a7e6-494a-9f9c-3c5ae0f0407d",
      "reactive": true
     },
     "output_type": "execute_result"
    }
   ],
   "source": [
    "revealable(slope)"
   ]
  },
  {
   "cell_type": "markdown",
   "metadata": {
    "collapsed": true,
    "run_control": {
     "read_only": false
    }
   },
   "source": [
    "##Requirements\n",
    "<img src=\"files/2-8/redgreenslopes.png\" width=200 align=\"left\" />\n",
    "For the Shubert-Piyavskii method, you need to have a boundary for the slope. \n",
    "\n",
    "Both the green and red lines accomplish this&mdash;the curve is not steeper than either one.\n",
    "\n",
    "With Calculus, you can use derivatives to find a nice boundary slope (the green line). \n",
    "\n",
    "Without Calculus, you’ll have to settle for a conservative overestimate (the red line) which could be estimated from data or from a known graph. For now, the boundary slope will be provided. "
   ]
  },
  {
   "cell_type": "markdown",
   "metadata": {
    "collapsed": true,
    "run_control": {
     "read_only": false
    }
   },
   "source": [
    "##The Sawtooth Method\n",
    "The Shubert-Piyavskii method, more often called the Sawtooth Method, is a way to find a global maximum on a known interval. Unlike testing points, it is guaranteed to find the global maximum on the interval.\n",
    "\n",
    "It can be modified to find a global minimum; or you can maximize $(–f(x))$ using the method, which is the same as minimizing $f(x)$.\n",
    "\n",
    "<img src=\"files/2-8/intbound.png\" width=200 align=\"left\"/>\n",
    "Step 1: find three points on the function: one at each boundary and one at the midpoint of the interval.\n",
    "\n",
    "Step 2: using the boundary slope $m$, draw a line through each point with slope $m$ or $–m$. (Note there are two lines through the center point.)\n"
   ]
  },
  {
   "cell_type": "markdown",
   "metadata": {
    "collapsed": true,
    "run_control": {
     "read_only": false
    }
   },
   "source": [
    "###Practice Problem A\n",
    "Given the function $y = -x^4 + 4x^3 + 30x^2 – 50x + 200$, boundaries -5 and 7, and a maximum slope of 450...\n",
    "1. Find the three points (endpoints and midpoint) required by the Sawtooth Method\n",
    "2. Find the equations of the four lines with slope ±450 through those points. \n",
    "3. Find the two points where the left-hand lines cross and the right-hand lines cross.\n",
    "\n"
   ]
  },
  {
   "cell_type": "code",
   "execution_count": null,
   "metadata": {
    "collapsed": true,
    "run_control": {
     "read_only": false
    }
   },
   "outputs": [],
   "source": [
    "# Do calculations here"
   ]
  },
  {
   "cell_type": "code",
   "execution_count": 4,
   "metadata": {
    "collapsed": false,
    "input_collapsed": true,
    "run_control": {
     "read_only": false
    }
   },
   "outputs": [
    {
     "data": {
      "text/html": [],
      "text/plain": [
       "ToggleButton([Input{Bool}] false,\"Hints for Easier Calculations\",false)"
      ]
     },
     "metadata": {},
     "output_type": "display_data"
    },
    {
     "data": {
      "text/markdown": [
       "\n"
      ],
      "text/plain": [
       "Revealable(\"The math here can get ugly. Some ways to make it less ugly:\\n1. Enter the function `f(x)` into Julia and use that to evaluate y-values.\\n2. Use point-slope form for your linear equations.\\n3. Continue to use point-slope form when solving. The slopes of adjacent lines are opposite so the x-values will cancel nicely every time.\\n\",\"Hints for Easier Calculations\",false)"
      ]
     },
     "execution_count": 4,
     "metadata": {
      "comm_id": "6ec35455-61ce-4b7f-abe3-461339a1a9c7",
      "reactive": true
     },
     "output_type": "execute_result"
    }
   ],
   "source": [
    "revealable(hint208A)"
   ]
  },
  {
   "cell_type": "code",
   "execution_count": 5,
   "metadata": {
    "collapsed": false,
    "input_collapsed": true,
    "run_control": {
     "read_only": false
    }
   },
   "outputs": [
    {
     "data": {
      "text/html": [],
      "text/plain": [
       "ToggleButton([Input{Bool}] false,\"Answer\",false)"
      ]
     },
     "metadata": {},
     "output_type": "display_data"
    },
    {
     "data": {
      "text/markdown": [
       "\n"
      ],
      "text/plain": [
       "Revealable(\"###Answer A\\n1. (-5, 75), (1, 183), (7, 291)\\n\\n2. y - 75 = 450(x + 5); y - 183 = -450(x - 1); y - 183 = 450(x - 1); y - 291 = -450(x - 7)\\n\\n3. (-1.88, 1479), (4.12, 1587)\\n\",\"Answer\",false)"
      ]
     },
     "execution_count": 5,
     "metadata": {
      "comm_id": "3886d30d-f7de-40f9-ba93-9a6362c7624e",
      "reactive": true
     },
     "output_type": "execute_result"
    }
   ],
   "source": [
    "revealable(ans208A)"
   ]
  },
  {
   "cell_type": "markdown",
   "metadata": {},
   "source": [
    "##Next Steps\n",
    "Once you have found where the lines cross, you have five points.\n",
    "\n",
    "Step through the process using the slider. You'll start to see why it's called the Sawtooth Method.\n"
   ]
  },
  {
   "cell_type": "code",
   "execution_count": 25,
   "metadata": {
    "collapsed": false,
    "input_collapsed": false,
    "run_control": {
     "read_only": false
    }
   },
   "outputs": [
    {
     "data": {
      "text/html": [],
      "text/plain": [
       "Slider{Int64}([Input{Int64}] 1,\"\",1,1:3)"
      ]
     },
     "metadata": {},
     "output_type": "display_data"
    },
    {
     "data": {
      "text/markdown": [
       "The next step is to choose the point with the highest y-value. This point will always be above the function graph if your boundary slope is chosen properly.\n",
       "\n",
       "<img src=\"files/2-8/crossabovef.png\" width=300 />\n"
      ],
      "text/plain": [
       "Revealable(\"The next step is to choose the point with the highest y-value. This point will always be above the function graph if your boundary slope is chosen properly.\\n\\n<img src=\\\"files/2-8/crossabovef.png\\\" width=300 />\",\"\",true)"
      ]
     },
     "execution_count": 25,
     "metadata": {
      "comm_id": "a51ac1e1-1ceb-4b41-91f7-c4a330742b1f",
      "reactive": true
     },
     "output_type": "execute_result"
    }
   ],
   "source": [
    "method = [Revealable(\"The next step is to choose the point with the highest y-value. This point will always be above the function graph if your boundary slope is chosen properly.\\n\\n<img src=\\\"files/2-8/crossabovef.png\\\" width=300 />\", \"\", true), Revealable(\"Take the x-value of the highest point and plug that into the function to find the actual y-value of the function at that location.\\n\\n<img src=\\\"files/2-8/xcoord.png\\\" width=300 />\", \"\", true), Revealable(\"Create new lines from the new point. Then find the new crossing points.\\n\\n<img src=\\\"files/2-8/newpoints.png\\\" width=300 />\", \"\", true)]\n",
    "\n",
    "@manipulate for s = slider(1:3, value=1)\n",
    "    method[s]\n",
    "end"
   ]
  },
  {
   "cell_type": "markdown",
   "metadata": {},
   "source": [
    "###Practice Problem B\n",
    "Given two equations:\n",
    "* $y - y_1 = m(x - x_1)$\n",
    "* $y - y_2 = -m(x - x_2)$\n",
    "\n",
    "\n",
    "1. Write an equation that solves for $y$, given $(x_1, y_1)$ and $(x_2, y_2)$. \n",
    "2. Write another equation that solves for $x$, given $y$ in either of the equations above. \n",
    "3. Write a program in Julia that finds the crossing point of two lines, given $(x_1, y_1, x_2, y_2)$ and using a constant slope $m$.\n",
    "\n",
    "   Check your work on Practice Problem A using your program.\n"
   ]
  },
  {
   "cell_type": "code",
   "execution_count": null,
   "metadata": {
    "collapsed": true,
    "run_control": {
     "read_only": false
    }
   },
   "outputs": [],
   "source": [
    "# Code here"
   ]
  },
  {
   "cell_type": "code",
   "execution_count": null,
   "metadata": {
    "collapsed": true,
    "run_control": {
     "read_only": false
    }
   },
   "outputs": [],
   "source": [
    "# Test here"
   ]
  },
  {
   "cell_type": "code",
   "execution_count": 7,
   "metadata": {
    "collapsed": false,
    "input_collapsed": true,
    "run_control": {
     "read_only": false
    }
   },
   "outputs": [
    {
     "data": {
      "text/html": [],
      "text/plain": [
       "ToggleButton([Input{Bool}] false,\"Answer\",false)"
      ]
     },
     "metadata": {},
     "output_type": "display_data"
    },
    {
     "data": {
      "text/markdown": [
       "\n"
      ],
      "text/plain": [
       "Revealable(\"###Answer B\\nVery subtle note here: Because of the nature of the method, the left hand point will always reach forward with a positive slope m, towards the right hand point which reaches back with a negative slope -m. The equations are written with the assumption that (x1, y1) are the left hand point and (x2, y2) are the right hand point. Therefore order is important when calling the program.\\n<code>\\nfunction intersect(x1, y1, x2, y2)\\n    m = 450\\n    ycross = (m*(x2 - x1) + (y1 + y2))/2\\n    xcross = (ycross - y1)/m + x1\\n    println(\\\"x = \\$xcross\\\")\\n    println(\\\"y = \\$ycross\\\")\\nend\\n</code>\\n\",\"Answer\",false)"
      ]
     },
     "execution_count": 7,
     "metadata": {
      "comm_id": "6fb38ac4-63e4-4ab6-8ad1-a4b428313ca8",
      "reactive": true
     },
     "output_type": "execute_result"
    }
   ],
   "source": [
    "revealable(ans208B)"
   ]
  },
  {
   "cell_type": "markdown",
   "metadata": {},
   "source": [
    "###Practice Problem C\n",
    "Using $y = -x^4 + 4x^3 + 30x^2 – 50x + 200$ with boundary slope 450 and the five current points you have:\n",
    "1. Choose the point with the highest $y$-value and find the corresponding function $y$-value.\n",
    "2. Using your program, find where the lines from the new point cross the old lines. \n",
    "\n",
    "Now you have seven points. \n"
   ]
  },
  {
   "cell_type": "code",
   "execution_count": null,
   "metadata": {
    "collapsed": true,
    "run_control": {
     "read_only": false
    }
   },
   "outputs": [],
   "source": [
    "# Find the highest crossing y-value and its corresponding function value\n"
   ]
  },
  {
   "cell_type": "code",
   "execution_count": null,
   "metadata": {
    "collapsed": true,
    "run_control": {
     "read_only": false
    }
   },
   "outputs": [],
   "source": [
    "# Find two new points where the new lines cross old lines\n"
   ]
  },
  {
   "cell_type": "code",
   "execution_count": 8,
   "metadata": {
    "collapsed": false,
    "input_collapsed": true,
    "run_control": {
     "read_only": false
    }
   },
   "outputs": [
    {
     "data": {
      "text/html": [],
      "text/plain": [
       "ToggleButton([Input{Bool}] false,\"Answer\",false)"
      ]
     },
     "metadata": {},
     "output_type": "display_data"
    },
    {
     "data": {
      "text/markdown": [
       "\n"
      ],
      "text/plain": [
       "Revealable(\"###Answer C\\n1. On the function, (4.12, 494.840ish)\\n2. Two new points: (2.9065, 1040.9199) and (5.3335, 1040.9199)\\n\\nThese two have the same y-value. Neither has the current high y-value which is (-1.88, 1479), but if two were ever tied you would just pick one and run with it. Tradition says left first.\\n\",\"Answer\",false)"
      ]
     },
     "execution_count": 8,
     "metadata": {
      "comm_id": "41c65192-08be-46e7-83fb-890968405272",
      "reactive": true
     },
     "output_type": "execute_result"
    }
   ],
   "source": [
    "revealable(ans208C)"
   ]
  },
  {
   "cell_type": "markdown",
   "metadata": {},
   "source": [
    "##Next Step: Repeat"
   ]
  },
  {
   "cell_type": "code",
   "execution_count": 24,
   "metadata": {
    "collapsed": false,
    "input_collapsed": false,
    "run_control": {
     "read_only": false
    }
   },
   "outputs": [
    {
     "data": {
      "text/html": [],
      "text/plain": [
       "Slider{Int64}([Input{Int64}] 1,\"\",1,1:5)"
      ]
     },
     "metadata": {},
     "output_type": "display_data"
    },
    {
     "data": {
      "text/markdown": [
       "<img src=\"files/2-8/step1.png\" width=300 />\n",
       "\n"
      ],
      "text/plain": [
       "Revealable(\"<img src=\\\"files/2-8/step1.png\\\" width=300 />\\n\",\"=\",true)"
      ]
     },
     "execution_count": 24,
     "metadata": {
      "comm_id": "2598da27-147e-4036-b412-62c1eebb4dcc",
      "reactive": true
     },
     "output_type": "execute_result"
    }
   ],
   "source": [
    "@manipulate for s = slider(1:5, value=1)\n",
    "    step[s]\n",
    "end"
   ]
  },
  {
   "cell_type": "markdown",
   "metadata": {},
   "source": [
    "##Arrays in Julia, revisited\n",
    "Go back to the original 3 points: $(-5, 75)$, $(1, 183)$, $(7, 291)$. Enter them as an array `A`:\n",
    "\n",
    "    A = [-5 75; 1 183; 7 291]\n",
    "    \n",
    "If we want to add another point into A, we can enter:\n",
    "\n",
    "    A = vcat(A, [-1.88, 1479])\n",
    "    \n",
    "If we want to put the points in order, we can use\n",
    "\n",
    "    A = sortrows(A)"
   ]
  },
  {
   "cell_type": "code",
   "execution_count": null,
   "metadata": {
    "collapsed": true,
    "run_control": {
     "read_only": false
    }
   },
   "outputs": [],
   "source": [
    "# Try it!\n"
   ]
  },
  {
   "cell_type": "markdown",
   "metadata": {},
   "source": [
    "##Output of a Function\n",
    "The command `A = ` in the previous section replaced `A` with the result of the operation. To make sure a function splits out the value of `A` as its final result, you can use the command\n",
    "\n",
    "    return(A)\n",
    "    \n",
    "  or, in Julia,\n",
    "  \n",
    "    A\n",
    "   (or `A =` something)\n",
    "\n",
    "This command works like `println`, only instead of just printing out the result it will make the result available for assignment to a variable, as in\n",
    "\n",
    "\ty = function(x)\n",
    "\n",
    "Remember: in Julia, you don't need to write `return`. To return `A` in a function, just make sure `A` is the last line that the function calls."
   ]
  },
  {
   "cell_type": "markdown",
   "metadata": {
    "collapsed": true,
    "run_control": {
     "read_only": false
    }
   },
   "source": [
    "###Practice Problem D\n",
    "Write a program `listpoints(A, x, y)` in Julia that adds the point `(x, y)` into array `A`, then sorts the rows. Make sure that you return `A` either with a `return` statement or by making `A` the last thing you evaluate.\n",
    "\n",
    "Use your program to add in all the points you've found into `A`&mdash;seven total points. Use these statements:\n",
    "```\n",
    "A = listpoints([-5, 75], 1, 183)\n",
    "A = listpoints(A, 7, 291)\n",
    "A = listpoints(A, -1.88, 1479)\n",
    "...\n",
    "println(A)\n",
    "```"
   ]
  },
  {
   "cell_type": "code",
   "execution_count": null,
   "metadata": {
    "collapsed": true,
    "run_control": {
     "read_only": false
    }
   },
   "outputs": [],
   "source": [
    "function listpoints(A, x, y) \n",
    "    \n",
    "    \n",
    "end"
   ]
  },
  {
   "cell_type": "code",
   "execution_count": null,
   "metadata": {
    "collapsed": true,
    "run_control": {
     "read_only": false
    }
   },
   "outputs": [],
   "source": [
    "A = listpoints([-5, 75], 1, 183)\n",
    "A = listpoints(A, 7, 291)\n",
    "A = listpoints(A, -1.88, 1479)\n",
    "# Add in the other 4 points you've found:\n",
    "\n",
    "println(A)"
   ]
  },
  {
   "cell_type": "code",
   "execution_count": 15,
   "metadata": {
    "collapsed": false,
    "run_control": {
     "read_only": false
    }
   },
   "outputs": [
    {
     "data": {
      "text/html": [],
      "text/plain": [
       "ToggleButton([Input{Bool}] false,\"Answer\",false)"
      ]
     },
     "metadata": {},
     "output_type": "display_data"
    },
    {
     "data": {
      "text/markdown": [
       "\n"
      ],
      "text/plain": [
       "Revealable(\"###Answer D\\nIn most languages, you'd need a return line. In Juila, functions automatically return the last value they touch, so Julia functions don't usually have a return line.\\n<code>\\nfunction listpoints(A, x1, x2)\\n  A = vcat(A, [x1 x2])\\n  A = sortrows(A)\\n    # `return A` would go here, but Julia doesn't need it\\nend\\n\\nA = listpoints([-5 75], 1, 183)\\nA = listpoints(A, 7, 291)\\nA = listpoints(A, -1.88, 1479)\\nA = listpoints(A, 4.12, 494.840)\\nA = listpoints(A, 2.91, 1040.92)\\nA = listpoints(A, 5.33, 1040.92)\\nprintln(A)\\n</code>\\n\",\"Answer\",false)"
      ]
     },
     "execution_count": 15,
     "metadata": {
      "comm_id": "db474e61-fb76-4cd4-865f-f6f0aeea2ab9",
      "reactive": true
     },
     "output_type": "execute_result"
    }
   ],
   "source": [
    "revealable(ans208D)"
   ]
  },
  {
   "cell_type": "markdown",
   "metadata": {},
   "source": [
    "##Repetition Steps\n",
    "To repeat the process, you would:\n",
    "1. find the highest $y$-value on your list of points.\n",
    "2. change that $y$-value to the function value.\n",
    "3. find the intersection of the lines from this new point to the two adjacent points on the list. \n",
    "4. Add both of those points to the list.\n",
    "Repeat.\n"
   ]
  },
  {
   "cell_type": "markdown",
   "metadata": {},
   "source": [
    "###Practice Problem E\n",
    "Use a combination of your Julia programs:\n",
    "* a one-line function for the equation $y = -x^4 + 4x^3 + 30x^2 – 50x + 200$\n",
    "* the program to find intersection points\n",
    "* and the point-listing program\n",
    "        \n",
    "to repeat the sawtooth method at least two more times on the equation. You will finish with at least 11 points in your array.\n"
   ]
  },
  {
   "cell_type": "code",
   "execution_count": null,
   "metadata": {
    "collapsed": true,
    "run_control": {
     "read_only": false
    }
   },
   "outputs": [],
   "source": [
    "# Write your code..."
   ]
  },
  {
   "cell_type": "code",
   "execution_count": null,
   "metadata": {
    "collapsed": true,
    "run_control": {
     "read_only": false
    }
   },
   "outputs": [],
   "source": [
    "# and test it"
   ]
  },
  {
   "cell_type": "code",
   "execution_count": 16,
   "metadata": {
    "collapsed": false,
    "run_control": {
     "read_only": false
    }
   },
   "outputs": [
    {
     "data": {
      "text/html": [],
      "text/plain": [
       "ToggleButton([Input{Bool}] false,\"Answer\",false)"
      ]
     },
     "metadata": {},
     "output_type": "display_data"
    },
    {
     "data": {
      "text/markdown": [
       "\n"
      ],
      "text/plain": [
       "Revealable(\"###Answer E\\n9 points: [-5.0 75.0 / -3.122 919.98 / -1.88 360.961 / -0.63 919.98 / 1.0 183.0 / 2.91 1040.92 / 4.12 494.84 / 5.33 1040.92 / 7.0 291.0]\\n\\n11 points: [-5.0 75.0 / -3.122 919.98 / -1.88 360.961 / -0.63 919.98 / 1.0 183.0 / 2.12 688.95 / 2.91 335.403 / 3.69 687.3715 / 4.12 494.84 / 5.33 1040.92 / 7.0 291.0]\\n\",\"Answer\",false)"
      ]
     },
     "execution_count": 16,
     "metadata": {
      "comm_id": "584967e0-4f33-4a01-925d-bf902bad3a8b",
      "reactive": true
     },
     "output_type": "execute_result"
    }
   ],
   "source": [
    "revealable(ans208E)"
   ]
  },
  {
   "cell_type": "markdown",
   "metadata": {},
   "source": [
    "###Extension\n",
    "Write a program in Julia that, given a function, maximum slope, and endpoints, runs the sawtooth method by either a set number of iterations, or until the highest linear y-value is within 0.01 of the function value. \n",
    "\n",
    "One more useful command:\n",
    "\n",
    "`findmax(A[:, 2])`\t\t\n",
    "returns the highest y-value and its index (index = number in the array, remember?)\n",
    "\n",
    "`loc = findmax(A[:, 2])[2]`         \n",
    "assigns the index with the highest y-value to the variable `loc`.\n",
    "\n"
   ]
  },
  {
   "cell_type": "code",
   "execution_count": 26,
   "metadata": {
    "collapsed": false,
    "run_control": {
     "read_only": false
    }
   },
   "outputs": [
    {
     "ename": "LoadError",
     "evalue": "cannot define function sawtooth; it already has a value\nwhile loading In[26], in expression starting on line 1",
     "output_type": "error",
     "traceback": [
      "cannot define function sawtooth; it already has a value\nwhile loading In[26], in expression starting on line 1",
      ""
     ]
    }
   ],
   "source": [
    "function sawtooth(f, maxslope, left, right)\n",
    "    \n",
    "    \n",
    "end"
   ]
  },
  {
   "cell_type": "code",
   "execution_count": null,
   "metadata": {
    "collapsed": true,
    "run_control": {
     "read_only": false
    }
   },
   "outputs": [],
   "source": [
    "# Test your code!\n"
   ]
  },
  {
   "cell_type": "code",
   "execution_count": 31,
   "metadata": {
    "collapsed": false,
    "run_control": {
     "read_only": false
    }
   },
   "outputs": [
    {
     "data": {
      "text/html": [],
      "text/plain": [
       "ToggleButton([Input{Bool}] false,\"Answer\",false)"
      ]
     },
     "metadata": {},
     "output_type": "display_data"
    },
    {
     "data": {
      "text/markdown": [
       "\n"
      ],
      "text/plain": [
       "Revealable(\"###Extension Program\\n\\nI split this program into multiple functions, which is a good idea when programs get complex and hard to read. Plus, I call `augment` multiple times. Having that code in a sub-function means that I don't have to rewrite it over and over.\\n\\n<code>\\n    # pre-defined function\\ng(x) =  -x^4 + 4x^3 + 30x^2 - 50x + 200 # function value here \\n\\n    # this function will be called later to find intersection points of a line with slope m through (x1, y1) and a line with slope -m through (x2, y2)\\nfunction augment(A, maxslope, x1, y1, x2, y2)  # must be in order, left point first.\\n    ycross = (maxslope*(x2 - x1) + (y1 + y2))/2\\n    xcross = (ycross - y1)/maxslope + x1\\n    A = vcat(A, [xcross ycross])\\nend\\n\\nfunction sawtooth(f, maxslope, left, right)  # function, maximum slope, left and right boundaries only \\n    A = [left f(left); (left + right)/2 f((left + right)/2); right f(right)]\\n    A = augment(A, maxslope, A[1,1], A[1,2], A[2, 1], A[2,2])\\n    A = augment(A, maxslope, A[2,1], A[2,2], A[3,1], A[3,2])\\n    A = sortrows(A)\\n    for n = 1:5\\n        loc = findmax(A[:, 2])[2]  # returns the index of the highest number in the 2nd column of A\\n        A[loc, 2] = f(A[loc])\\n        A = augment(A, maxslope, A[loc-1, 1], A[loc-1, 2], A[loc, 1], A[loc, 2])\\n        A = augment(A, maxslope, A[loc, 1], A[loc, 2], A[loc+1, 1], A[loc+1, 2])\\n        A = sortrows(A)\\n    end\\n    println(A)\\nend\\n\\nsawtooth(g, 450, -5, 7)\\n</code>\\n\",\"Answer\",false)"
      ]
     },
     "execution_count": 31,
     "metadata": {
      "comm_id": "223f6863-6aaf-411d-810c-058720e9a742",
      "reactive": true
     },
     "output_type": "execute_result"
    }
   ],
   "source": [
    "revealable(ext208)"
   ]
  },
  {
   "cell_type": "markdown",
   "metadata": {},
   "source": [
    "##If you're curious...\n",
    "\n",
    "Here are plots of the data after:\n",
    "\n",
    "5 iterations <img src=\"files/2-8/5iter.png\" width=250 />\n",
    "<br clear=\"all\" />\n",
    "\n",
    "10 iterations <img src=\"files/2-8/10iter.png\" width=250 />\n",
    "<br clear=\"all\" />\n",
    "\n",
    "15 iterations <img src=\"files/2-8/15iter.png\" width=250 />\n",
    "<br clear=\"all\" />\n",
    "\n",
    "20 iterations <img src=\"files/2-8/20iter.png\" width=250 />\n",
    "<br clear=\"all\" />"
   ]
  },
  {
   "cell_type": "code",
   "execution_count": null,
   "metadata": {
    "collapsed": true,
    "run_control": {
     "read_only": false
    }
   },
   "outputs": [],
   "source": []
  }
 ],
 "metadata": {
  "kernelspec": {
   "display_name": "Julia 0.3.10",
   "language": "julia",
   "name": "julia-0.3"
  },
  "language_info": {
   "file_extension": ".jl",
   "mimetype": "application/julia",
   "name": "julia",
   "version": "0.3.10"
  }
 },
 "nbformat": 4,
 "nbformat_minor": 0
}
