{
 "cells": [
  {
   "cell_type": "markdown",
   "metadata": {
    "run_control": {
     "read_only": false
    }
   },
   "source": [
    "# 2-14 Stochastic Methods, Part 1\n",
    "* Definition and Use\n",
    "* Monte Carlo methods"
   ]
  },
  {
   "cell_type": "code",
   "execution_count": null,
   "metadata": {
    "collapsed": false
   },
   "outputs": [],
   "source": [
    "using Revealables\n",
    "using Gadfly\n",
    "include(\"files/answers.jl\")"
   ]
  },
  {
   "cell_type": "markdown",
   "metadata": {},
   "source": [
    "##Stochastic Optimization\n",
    "__Stochastic Optimization__ methods involve random variables. The actual word \"stochastic\" is derived from a Greek word meaning \"aim\" or \"target.\"\n",
    "\n",
    "<img src=\"files/2-14/arrows.png\" width=100 align=\"left\" />Suppose a small target, like a rock or a stick, is placed on a hillside. Many arrows are shot at it. Later the target is removed and the arrows are left. \n",
    "\n",
    "Each individual arrow's position is unpredictable. Nevertheless, you can still use the arrows' positions to estimate the location of the target.\n",
    "<br clear=\"all\" />\n",
    "Like using randomly-positioned arrows to estimate the position of a target, stochastic methods have the goal of gaining information out of randomness.\n",
    "\n",
    "Stochastic Optimization is used when:\n",
    "* the data or input is random or unpredictable (like how long it takes to travel somewhere)\n",
    "* the input is prone to measurement error (like scientific data from imperfect instruments)\n",
    "* the data or equations are known, but too complex to handle conventionally (like finding the probability of winning at solitaire)\n",
    "\n",
    "All stochastic processes involve a large amount of input or trials; in general, the more trials there are, the more accurate the results will be.\n",
    "\n",
    "For example, let's say you're trying to find the probability that an actual coin flips \"heads.\" The best way to do this is by flipping the coin repeatedly and recording the results. This is considered a stochastic process because it involves repeated sampling of essentially random inputs. \n",
    "\n",
    "The reason you need a lot of data is that if you flipped a coin just once and it came up \"heads,\" based on the evidence you could conclude that it would always come up \"heads,\" 100% of the time. \n",
    "\n",
    "It's only over many coin flips that the real probability becomes more clear.\n",
    "\n",
    "##Convergence\n",
    "With a large enough sample, you will see a phenomenon called convergence. \n",
    "\n",
    "Let's say you flipped a coin 100 times, and after each flip recorded the percent of \"heads\" out of the total number of flips.\n",
    "\n",
    "Your first flip would either give you 0% or 100%; your next, 0% or 50% or 100%; your next, 0%, 25%, 50%, 75%, or 100%, and so on. Go ahead and try it&mdash;we'll wait for you!\n",
    "\n",
    "A chart of coin flips will always show convergence, it might not always converge to exactly 0.5. In general, after a large number of samples, the line will flatten out at the \"correct\" answer. That is known as convergence.\n",
    "\n",
    "Here is a chart showing percent heads over 100 \"coin flips\" (random numbers either 0 or 1). Run it again to get a different set of numbers. You can change `nTrials` to other numbers to see how it affects the result's convergence."
   ]
  },
  {
   "cell_type": "code",
   "execution_count": null,
   "metadata": {
    "collapsed": false
   },
   "outputs": [],
   "source": [
    "nTrials = 100  # You can change this!\n",
    "headsflips = cumsum(rand(0:1, nTrials))\n",
    "percentheads = zeros(nTrials)\n",
    "for i in 1:nTrials\n",
    "    percentheads[i] = sumheads[i]/i\n",
    "end\n",
    "Gadfly.plot(x=[1:nTrials], y=percentheads)"
   ]
  },
  {
   "cell_type": "markdown",
   "metadata": {},
   "source": [
    "In contrast, this chart does not show convergence; we would need more data here. \n",
    "\n",
    "We know this because the line is not flattening out."
   ]
  },
  {
   "cell_type": "code",
   "execution_count": null,
   "metadata": {
    "collapsed": false
   },
   "outputs": [],
   "source": [
    "yvals = zeros(50)\n",
    "for i in 1:50\n",
    "    yvals[i] = -i^2 + 5.8*i + 9\n",
    "end\n",
    "\n",
    "Gadfly.plot(x=[1:50], y=yvals)"
   ]
  },
  {
   "cell_type": "markdown",
   "metadata": {},
   "source": [
    "The primary disadvantage of stochastic methods is that their accuracy is not very good, though it's usually close enough. For this reason they are typically not used when another method is feasible.\n",
    "\n",
    "The other disadvantage of stochastic methods is without computer assistance, they are slow. This is why they have only become widely used in the computer era.\n",
    "\n",
    "The advantage, if it isn't yet clear, is that stochastic methods are very often the only way to solve a problem; and if a supreme level of accuracy isn’t essential, the savings in time and effort over doing actual calculations can be very worthwhile."
   ]
  },
  {
   "cell_type": "markdown",
   "metadata": {},
   "source": [
    "##Monte Carlo Methods\n",
    "Monte Carlo methods, named after a famous gambling city, involve large numbers of computer simulations with randomly selected inputs. \n",
    "\n",
    "Monte Carlo methods are used when the inputs involve a large amount of uncertainty, or when several factors depend on each other. \n",
    "\n",
    "###Monte Carlo: Step 1\n",
    "__Define the domain – what are the limits on the possible inputs? Are there different probabilities?__\n",
    "\n",
    "For example, if an input was the amount of time it takes to drive 50 miles on the freeway, this variable would be limited to positive numbers below, say, 200 minutes, but more likely around 45 minutes, possibly with a curve like this:\n",
    "\n",
    "<img src=\"files/2-14/drivetime.png\" width=400 />\n",
    "\n",
    "Freeway drive time is a good example of an input with high uncertainty. Also, as an input in a larger simulation it might have a lot of interdependencies: for example, if you were a dairy farmer trying to minimize shipping costs, another input might be outdoor temperature. But temperature is dependent on time of day which also influences traffic which controls freeway drive times. Yikes! Drive time has \"Monte Carlo\" written all over it.\n",
    "\n",
    "###Monte Carlo: Step 2\n",
    "Once you know what sort of domain limits and probability distribution your inputs will have, the next step is to generate random numbers to mimic each possible input. This usually involves a computerized random-number generator. \n",
    "\n",
    "Julia can generate random numbers with several useful patterns. Here are two: "
   ]
  },
  {
   "cell_type": "code",
   "execution_count": null,
   "metadata": {
    "collapsed": false
   },
   "outputs": [],
   "source": [
    "Gadfly.plot(x=rand(1000), Geom.density, Geom.histogram(density=true), Guide.title(\"rand( ) creates uniform distributions\"))"
   ]
  },
  {
   "cell_type": "code",
   "execution_count": null,
   "metadata": {
    "collapsed": false
   },
   "outputs": [],
   "source": [
    "Gadfly.plot(x=randn(1000), Geom.density, Geom.histogram(density=true), Guide.title(\"randn( ) creates normal distributions\"))"
   ]
  },
  {
   "cell_type": "markdown",
   "metadata": {},
   "source": [
    "Both functions will return a single random number without the parentheses filled in. If you want more than 1, you can put the number you want in parentheses, for example `rand(5)`.\n",
    "\n",
    "`rand()` returns a random number between 0 and 1. If you want it between 2 and 3, just add 2. If you want it between 1 and 10, multiply by 10. If you want it between 40 and 100, multiply it by 60 and add 40. So, `40 + 60*rand()` would give you numbers from 40 to 100.\n",
    "\n",
    "`randn()` uses a true normal curve, mean = 0 and standard deviation = 1. If you want mean to be 70, just add 70. If you want standard deviation by 12, just multiply by 12. So, `70 + 12*randn()` would draw numbers from a curve with mean 70 and standard deviation 12.\n"
   ]
  },
  {
   "cell_type": "code",
   "execution_count": null,
   "metadata": {
    "collapsed": true
   },
   "outputs": [],
   "source": [
    "# Try it here! You can copy the code from the cells above and just overwrite the `x=` part.\n"
   ]
  },
  {
   "cell_type": "markdown",
   "metadata": {},
   "source": [
    "###Monte Carlo: Step 3\n",
    "Once you have your randomly-generated inputs, the next step is to perform whatever testing or math is required using those inputs, in effect running a simulation to see what outcome would result from those inputs. \n",
    "\n",
    "\n",
    "###Monte Carlo: Step 4\n",
    "Rrecord the results and repeat the experiment many, many times."
   ]
  },
  {
   "cell_type": "markdown",
   "metadata": {},
   "source": [
    "###Practice Problem A\n",
    "1. Using Julia, generate five random numbers between 0 and 1.\n",
    "2. Generate five random numbers between 40 and 45.\n",
    "3. Generate five random numbers from a normal distribution with mean 0 and standard deviation 1.\n",
    "4. Generate five random numbers from a normal distribution with mean 20 and standard deviation 4.2."
   ]
  },
  {
   "cell_type": "code",
   "execution_count": null,
   "metadata": {
    "collapsed": true
   },
   "outputs": [],
   "source": [
    "#1"
   ]
  },
  {
   "cell_type": "code",
   "execution_count": null,
   "metadata": {
    "collapsed": true
   },
   "outputs": [],
   "source": [
    "#2"
   ]
  },
  {
   "cell_type": "code",
   "execution_count": null,
   "metadata": {
    "collapsed": true
   },
   "outputs": [],
   "source": [
    "#3"
   ]
  },
  {
   "cell_type": "code",
   "execution_count": null,
   "metadata": {
    "collapsed": true
   },
   "outputs": [],
   "source": [
    "#4"
   ]
  },
  {
   "cell_type": "code",
   "execution_count": null,
   "metadata": {
    "collapsed": true
   },
   "outputs": [],
   "source": [
    "#5"
   ]
  },
  {
   "cell_type": "code",
   "execution_count": null,
   "metadata": {
    "collapsed": false
   },
   "outputs": [],
   "source": [
    "revealable(ans214A)"
   ]
  },
  {
   "cell_type": "markdown",
   "metadata": {},
   "source": [
    "###Practice Problem B\n",
    "You are shipping a product from A to B.\n",
    "\n",
    "* The time it takes from production to the product leaving A is evenly distributed between 1 and 3 hours.\n",
    "\n",
    "* The travel time from A to airport 1 is a normal distribution with mean = .8 and standard deviation .35 hours.\n",
    "\n",
    "* The loading time onto the plane at airport 1 is evenly distributed between .5 and 2 hours.\n",
    "\n",
    "* The flight time from airport 1 to airport 2 is a normal distribution with mean = 4 and standard deviation .1 hours.\n",
    "\n",
    "* The unloading time at airport 2 is always .25 hours.\n",
    "\n",
    "* The travel time from airport 2 to B is a normal distribution with mean = 3 and standard deviation = .8 hours.\n",
    "\n",
    "Run one simulation of total travel time."
   ]
  },
  {
   "cell_type": "code",
   "execution_count": null,
   "metadata": {
    "collapsed": true
   },
   "outputs": [],
   "source": [
    "# Write code for a simulation here"
   ]
  },
  {
   "cell_type": "code",
   "execution_count": null,
   "metadata": {
    "collapsed": false
   },
   "outputs": [],
   "source": [
    "revealable(ans214B)"
   ]
  },
  {
   "cell_type": "markdown",
   "metadata": {},
   "source": [
    "###Practice Problem C\n",
    "Write a program that generates random numbers and finds the total travel time for the shipping scenario in problem B. \n",
    "\n",
    "Nest your program in a loop that will find the average travel time over `n` trials.\n",
    "\n",
    "Calculate results for `n` = 20, 50, 100, 500.\n"
   ]
  },
  {
   "cell_type": "code",
   "execution_count": null,
   "metadata": {
    "collapsed": true
   },
   "outputs": [],
   "source": [
    "# Write your code\n"
   ]
  },
  {
   "cell_type": "code",
   "execution_count": null,
   "metadata": {
    "collapsed": true
   },
   "outputs": [],
   "source": [
    "# Test your code\n"
   ]
  },
  {
   "cell_type": "code",
   "execution_count": null,
   "metadata": {
    "collapsed": false
   },
   "outputs": [],
   "source": [
    "revealable(ans214C)"
   ]
  },
  {
   "cell_type": "markdown",
   "metadata": {},
   "source": [
    "###Practice Problem D\n",
    "Using the same scenario, modify your code so that:\n",
    "\n",
    "* if step 1 (production to leaving A) takes 2-3 hours, the next step (travel to airport 1) changes to mean 1.2 with standard deviation .6.\n",
    "* if the total time before the last step is over 9 hours, the final step (delivery to B) changes to mean 5.1 and standard deviation 1.9.\n",
    "\n",
    "Simulate 500 trials five times and estimate the average total travel time."
   ]
  },
  {
   "cell_type": "code",
   "execution_count": null,
   "metadata": {
    "collapsed": true
   },
   "outputs": [],
   "source": [
    "# Program here"
   ]
  },
  {
   "cell_type": "code",
   "execution_count": null,
   "metadata": {
    "collapsed": true
   },
   "outputs": [],
   "source": [
    "# Run your trials here"
   ]
  },
  {
   "cell_type": "code",
   "execution_count": null,
   "metadata": {
    "collapsed": false
   },
   "outputs": [],
   "source": [
    "revealable(ans214D)"
   ]
  },
  {
   "cell_type": "code",
   "execution_count": null,
   "metadata": {
    "collapsed": true
   },
   "outputs": [],
   "source": []
  }
 ],
 "metadata": {
  "kernelspec": {
   "display_name": "Julia 0.3.10",
   "language": "julia",
   "name": "julia-0.3"
  },
  "language_info": {
   "file_extension": ".jl",
   "mimetype": "application/julia",
   "name": "julia",
   "version": "0.3.10"
  }
 },
 "nbformat": 4,
 "nbformat_minor": 0
}
