{
 "cells": [
  {
   "cell_type": "markdown",
   "metadata": {
    "run_control": {
     "read_only": false
    }
   },
   "source": [
    "# 2-1 Intro to Unbounded Optimization\n",
    "* An Important Notice\n",
    "* Overview\n",
    "* Definitions and Vocabulary"
   ]
  },
  {
   "cell_type": "code",
   "execution_count": 7,
   "metadata": {
    "collapsed": false
   },
   "outputs": [
    {
     "data": {
      "text/markdown": [
       "\n"
      ],
      "text/plain": [
       "Revealable(\"###Sample Program:\\n\\n    f(x) = x^2 - 4x  # function can be modified to whatever\\n\\n    function secant(f, a, b)\\n        while abs(b - a) > 0.00001  # more accurate is fine. Note absolute value is important for distance!\\n                                    # Also could use f(b) < 0.00001.\\n            m = (f(a) - f(b))/(a - b)  # made a variable for slope to simplify next line\\n            x = -f(a)/m + a  # calculating the x-intercept\\n            a = b  # redefining a and b to include the old b and the x-intercept x\\n            b = x \\n        end  # loop ends when tolerance is reached\\n        println(b)  # print the value of b (the last x-intercept found).\\n    end\\n\",\"Answer\",false)"
      ]
     },
     "execution_count": 7,
     "metadata": {},
     "output_type": "execute_result"
    }
   ],
   "source": [
    "using Revealables\n",
    "include(\"files/answers.jl\")"
   ]
  },
  {
   "cell_type": "markdown",
   "metadata": {},
   "source": [
    "##Important Notice: Save Your Notebooks!\n",
    "In this unit, you will be writing some useful programs with future applications. \n",
    "\n",
    "Therefore, unless indicated, all of these programs/functions must be saved so that they can be reused later. Save your notebooks so you can paste the code into new projectes. This also means that your programs must be finished before you move on so that you can use them later.\n",
    "\n",
    "When you save a program for later use, it becomes important to __document your code__. Remember you can document using a hashtag, #.\n",
    "\n",
    "At minimum, explain:\n",
    "* At the top, what the program does\n",
    "* At the “function” line, what the input variables stand for\n",
    "* For any complicated equation or loop, what is happening"
   ]
  },
  {
   "cell_type": "markdown",
   "metadata": {},
   "source": [
    "##Unbounded Optimization: Overview\n",
    "<img src=\"files/2-1/unbounded_ex.png\" width=300 align=\"left\" />\n",
    "* __Optimization__ means you're trying to find a maximum or minimum value.\n",
    "* __Unbounded__ means there are no constraints on the function – it keeps going forever.\n"
   ]
  },
  {
   "cell_type": "markdown",
   "metadata": {},
   "source": [
    "###Local vs. Global Extremes\n",
    "\n",
    "* If a point is a maximum or minimum relative to the other points in its \"neighborhood,\" then it is considered a <font color=\"#cc6666\">local maximum</font> or <font color=\"#cc6666\">local minimum</font>.\n",
    "<img src=\"files/2-1/local.png\" width=300 />\n",
    "\n",
    "* If a point is a maximum or minimum relative to all the other points on the function, then it is considered a <font color=\"#cc6666\">global maximum</font> or <font color=\"#cc6666\">global minimum</font>.\n",
    "<img src=\"files/2-1/global.png\" width=300 />\n",
    "\n",
    "The global minimum coincides with one of the local minima. It falls into both categories by definition."
   ]
  },
  {
   "cell_type": "markdown",
   "metadata": {},
   "source": [
    "###Practice Problem A\n",
    "On a piece of paper (or in a graphics program), sketch a function with:\n",
    "1. Two local maxima, one of which is global, one local minimum and no global minimum\n",
    "2. No local or global extremes\n",
    "3. One global minimum and no maxima\n",
    "4. Two global minima, one local maximum, no global maximum"
   ]
  },
  {
   "cell_type": "code",
   "execution_count": 6,
   "metadata": {
    "collapsed": false
   },
   "outputs": [
    {
     "data": {
      "text/html": [],
      "text/plain": [
       "ToggleButton([Input{Bool}] false,\"Answer\",false)"
      ]
     },
     "metadata": {},
     "output_type": "display_data"
    },
    {
     "data": {
      "text/markdown": [
       "\n"
      ],
      "text/plain": [
       "Revealable(\"###Answer A\\n1. Should look like an upside-down quartic:<br />\\n<img src=\\\"files/2-1/quartic.png\\\" width=100 align=\\\"left\\\" />\\n<br clear=\\\"all\\\" />\\n2. Could be a line or a cubic <br />\\n<img src=\\\"files/2-1/line.png\\\" width=100 align=\\\"left\\\" /> <img src=\\\"files/2-1/cubic.png\\\" width=100 align=\\\"left\\\" />\\n<br clear=\\\"all\\\" />\\n3. A parabola or absolute value function<br />\\n<img src=\\\"files/2-1/parabola.png\\\" width=100 align=\\\"left\\\" /> <img src=\\\"files/2-1/absval.png\\\" width=100 align=\\\"left\\\" />\\n<br clear=\\\"all\\\" />\\n4. A symmetric quartic<br />\\n<img src=\\\"files/2-1/symquartic.png\\\" width=100 align=\\\"left\\\" />\\n\",\"Answer\",false)"
      ]
     },
     "execution_count": 6,
     "metadata": {
      "comm_id": "384cd878-235f-42be-9e6e-65b723ee75b8",
      "reactive": true
     },
     "output_type": "execute_result"
    }
   ],
   "source": [
    "revealable(ans201A)"
   ]
  },
  {
   "cell_type": "markdown",
   "metadata": {},
   "source": [
    "###Practice Problem B\n",
    "Write a set of conditions that's impossible (because no function exists that satisfies them)."
   ]
  },
  {
   "cell_type": "code",
   "execution_count": 8,
   "metadata": {
    "collapsed": false
   },
   "outputs": [
    {
     "data": {
      "text/html": [],
      "text/plain": [
       "ToggleButton([Input{Bool}] false,\"Answer\",false)"
      ]
     },
     "metadata": {},
     "output_type": "display_data"
    },
    {
     "data": {
      "text/markdown": [
       "\n"
      ],
      "text/plain": [
       "Revealable(\"###Answer B\\nTo be possible, the numbers of local maxima and minima must be within 1 of each other. Or, with unbounded functions, there can't be both a global maximum and a global minimum.\\n\",\"Answer\",false)"
      ]
     },
     "execution_count": 8,
     "metadata": {
      "comm_id": "afc13f5f-cf1e-4393-99e5-4aec4b59507f",
      "reactive": true
     },
     "output_type": "execute_result"
    }
   ],
   "source": [
    "revealable(ans201B)"
   ]
  }
 ],
 "metadata": {
  "kernelspec": {
   "display_name": "Julia 0.3.10",
   "language": "julia",
   "name": "julia-0.3"
  },
  "language_info": {
   "file_extension": ".jl",
   "mimetype": "application/julia",
   "name": "julia",
   "version": "0.3.10"
  }
 },
 "nbformat": 4,
 "nbformat_minor": 0
}
