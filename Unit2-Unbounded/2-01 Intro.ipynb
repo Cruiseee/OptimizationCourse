{
 "cells": [
  {
   "cell_type": "markdown",
   "metadata": {
    "run_control": {
     "read_only": false
    }
   },
   "source": [
    "# 2-1 Intro to Unbounded Optimization\n",
    "* An Important Notice\n",
    "* Overview\n",
    "* Definitions and Vocabulary"
   ]
  },
  {
   "cell_type": "code",
   "execution_count": 1,
   "metadata": {
    "run_control": {
     "read_only": false
    }
   },
   "outputs": [
    {
     "data": {
      "text/html": [
       "<div id=\"interact-js-shim\">\n",
       "    <script charset=\"utf-8\">\r\n",
       "(function (IPython, $, _, MathJax) {\r\n",
       "    $.event.special.destroyed = {\r\n",
       "\tremove: function(o) {\r\n",
       "\t    if (o.handler) {\r\n",
       "\t\to.handler.apply(this, arguments)\r\n",
       "\t    }\r\n",
       "\t}\r\n",
       "    }\r\n",
       "\r\n",
       "    var OutputArea = IPython.version >= \"4.0.0\" ? require(\"notebook/js/outputarea\").OutputArea : IPython.OutputArea;\r\n",
       "\r\n",
       "    var redrawValue = function (container, type, val) {\r\n",
       "\tvar selector = $(\"<div/>\");\r\n",
       "\tvar oa = new OutputArea(_.extend(selector, {\r\n",
       "\t    selector: selector,\r\n",
       "\t    prompt_area: true,\r\n",
       "\t    events: IPython.events,\r\n",
       "\t    keyboard_manager: IPython.keyboard_manager\r\n",
       "\t})); // Hack to work with IPython 2.1.0\r\n",
       "\r\n",
       "\tswitch (type) {\r\n",
       "\tcase \"image/png\":\r\n",
       "            var _src = 'data:' + type + ';base64,' + val;\r\n",
       "\t    $(container).find(\"img\").attr('src', _src);\r\n",
       "\t    break;\r\n",
       "\tcase \"text/latex\":\r\n",
       "\t\tif (MathJax){\r\n",
       "\t\t\tvar math = MathJax.Hub.getAllJax(container)[0];\r\n",
       "\t\t\tMathJax.Hub.Queue([\"Text\", math, val.replace(/^\\${1,2}|\\${1,2}$/g, '')]);\r\n",
       "\t\t\tbreak;\r\n",
       "\t\t}\r\n",
       "\tdefault:\r\n",
       "\t    var toinsert = OutputArea.append_map[type].apply(\r\n",
       "\t\toa, [val, {}, selector]\r\n",
       "\t    );\r\n",
       "\t    $(container).empty().append(toinsert.contents());\r\n",
       "\t    selector.remove();\r\n",
       "\t}\r\n",
       "    }\r\n",
       "\r\n",
       "\r\n",
       "    $(document).ready(function() {\r\n",
       "\tfunction initComm(evt, data) {\r\n",
       "\t    var comm_manager = data.kernel.comm_manager;\r\n",
       "        //_.extend(comm_manager.targets, require(\"widgets/js/widget\"))\r\n",
       "\t    comm_manager.register_target(\"Signal\", function (comm) {\r\n",
       "            comm.on_msg(function (msg) {\r\n",
       "                var val = msg.content.data.value;\r\n",
       "                $(\".signal-\" + comm.comm_id).each(function() {\r\n",
       "                var type = $(this).data(\"type\");\r\n",
       "                if (typeof(val[type]) !== \"undefined\" && val[type] !== null) {\r\n",
       "                    redrawValue(this, type, val[type], type);\r\n",
       "                }\r\n",
       "                });\r\n",
       "                delete val;\r\n",
       "                delete msg.content.data.value;\r\n",
       "            });\r\n",
       "\t    });\r\n",
       "\r\n",
       "\t    // coordingate with Comm and redraw Signals\r\n",
       "\t    // XXX: Test using Reactive here to improve performance\r\n",
       "\t    $([IPython.events]).on(\r\n",
       "\t\t'output_appended.OutputArea', function (event, type, value, md, toinsert) {\r\n",
       "\t\t    if (md && md.reactive) {\r\n",
       "                // console.log(md.comm_id);\r\n",
       "                toinsert.addClass(\"signal-\" + md.comm_id);\r\n",
       "                toinsert.data(\"type\", type);\r\n",
       "                // Signal back indicating the mimetype required\r\n",
       "                var comm_manager = IPython.notebook.kernel.comm_manager;\r\n",
       "                var comm = comm_manager.comms[md.comm_id];\r\n",
       "                comm.then(function (c) {\r\n",
       "                    c.send({action: \"subscribe_mime\",\r\n",
       "                       mime: type});\r\n",
       "                    toinsert.bind(\"destroyed\", function() {\r\n",
       "                        c.send({action: \"unsubscribe_mime\",\r\n",
       "                               mime: type});\r\n",
       "                    });\r\n",
       "                })\r\n",
       "\t\t    }\r\n",
       "\t    });\r\n",
       "\t}\r\n",
       "\r\n",
       "\ttry {\r\n",
       "\t    // try to initialize right away. otherwise, wait on the status_started event.\r\n",
       "\t    initComm(undefined, IPython.notebook);\r\n",
       "\t} catch (e) {\r\n",
       "\t    $([IPython.events]).on('kernel_created.Kernel kernel_created.Session', initComm);\r\n",
       "\t}\r\n",
       "    });\r\n",
       "})(IPython, jQuery, _, MathJax);\r\n",
       "</script>\n",
       "    <script>\n",
       "        window.interactLoadedFlag = true\n",
       "       $(\"#interact-js-shim\").bind(\"destroyed\", function () {\n",
       "           if (window.interactLoadedFlag) {\n",
       "               console.warn(\"JavaScript required by Interact will be removed if you remove this cell or run using Interact more than once.\")\n",
       "           }\n",
       "       })\n",
       "       $([IPython.events]).on(\"kernel_starting.Kernel kernel_restarting.Kernel\", function () { window.interactLoadedFlag = false })\n",
       "   </script>\n",
       "</div>"
      ]
     },
     "metadata": {},
     "output_type": "display_data"
    },
    {
     "data": {
      "text/markdown": [
       "\n"
      ],
      "text/plain": [
       "Revealables.Revealable(\"My third generation was a huge improvement; my fourth, not so much.\\nHere are the fitness ranks of my generations, if you're curious:<br clear=\\\"all\\\">\\nI: 19, 9, 8, -5<br clear=\\\"all\\\">\\nII: 13, 10, 3, 1<br clear=\\\"all\\\">\\nIII: 20, 15, 14, 10<br clear=\\\"all\\\">\\nIV: 28, 12, 11, -5<br clear=\\\"all\\\">\\n\\nThen I got hooked...<br clear=\\\"all\\\">\\nV: 21, 16, 12, 4<br clear=\\\"all\\\">\\nVI: 23, 21, 16, 6<br clear=\\\"all\\\">\\nVII: 21, 21, 21, 6<br clear=\\\"all\\\">\\n\\n\\nOne thing I noticed while getting hooked is that I wrote a program that made an array out of `rand(12)` and returned the location of anything less than 1/12, which saved some time. If you're curious, continue your own iterations with computer support. Depending on your programming experience, writing an entire program might take more time than doing it by hand.\\n\\nVIII: 24, 23, 21, 19.<br clear=\\\"all\\\">\\nI stopped here because it was lunchtime. The optimum solution is 1111 / 1111 / 0000 = 30. It's clear that successive generations are approaching the optimum, and also getting more uniform (though mutation keeps it interesting). Cool stuff.\\n\", \"Answer\", false, false)"
      ]
     },
     "execution_count": 1,
     "metadata": {},
     "output_type": "execute_result"
    }
   ],
   "source": [
    "using Revealables\n",
    "include(\"files/answers.jl\")"
   ]
  },
  {
   "cell_type": "markdown",
   "metadata": {},
   "source": [
    "##Important Notice: Save Your Notebooks!\n",
    "In this unit, you will be writing some useful programs with future applications. \n",
    "\n",
    "Therefore, unless indicated, all of these programs/functions must be saved so that they can be reused later. Save your notebooks so you can paste the code into new projectes. This also means that your programs must be finished before you move on so that you can use them later.\n",
    "\n",
    "When you save a program for later use, it becomes important to __document your code__. Remember you can document using a hashtag, #.\n",
    "\n",
    "At minimum, explain:\n",
    "* At the top, what the program does\n",
    "* At the “function” line, what the input variables stand for\n",
    "* For any complicated equation or loop, what is happening"
   ]
  },
  {
   "cell_type": "markdown",
   "metadata": {},
   "source": [
    "##Unbounded Optimization: Overview\n",
    "<img src=\"files/2-1/unbounded_ex.png\" width=300 align=\"left\" />\n",
    "* __Optimization__ means you're trying to find a maximum or minimum value.\n",
    "* __Unbounded__ means there are no constraints on the function – it keeps going forever.\n"
   ]
  },
  {
   "cell_type": "markdown",
   "metadata": {},
   "source": [
    "###Local vs. Global Extremes\n",
    "\n",
    "* If a point is a maximum or minimum relative to the other points in its \"neighborhood,\" then it is considered a <font color=\"#cc6666\">local maximum</font> or <font color=\"#cc6666\">local minimum</font>.\n",
    "<img src=\"files/2-1/local.png\" width=300 />\n",
    "\n",
    "* If a point is a maximum or minimum relative to all the other points on the function, then it is considered a <font color=\"#cc6666\">global maximum</font> or <font color=\"#cc6666\">global minimum</font>.\n",
    "<img src=\"files/2-1/global.png\" width=300 />\n",
    "\n",
    "The global minimum coincides with one of the local minima. It falls into both categories by definition."
   ]
  },
  {
   "cell_type": "markdown",
   "metadata": {},
   "source": [
    "###Practice Problem A\n",
    "On a piece of paper (or in a graphics program), sketch a function with:\n",
    "1. Two local maxima, one of which is global, one local minimum and no global minimum\n",
    "2. No local or global extremes\n",
    "3. One global minimum and no maxima\n",
    "4. Two global minima, one local maximum, no global maximum"
   ]
  },
  {
   "cell_type": "code",
   "execution_count": 2,
   "metadata": {
    "run_control": {
     "read_only": false
    }
   },
   "outputs": [
    {
     "data": {
      "text/html": [],
      "text/plain": [
       "Interact.ToggleButton(1: \"input\" = false Bool , \"Answer\", false)"
      ]
     },
     "metadata": {},
     "output_type": "display_data"
    },
    {
     "name": "stderr",
     "output_type": "stream",
     "text": [
      "WARNING: Compat.ASCIIString is deprecated"
     ]
    },
    {
     "data": {
      "text/markdown": [
       "\n"
      ],
      "text/plain": [
       "Revealables.Revealable(\"### Answer A\\n1. Should look like an upside-down quartic:<br />\\n<img src=\\\"files/2-1/quartic.png\\\" width=100 align=\\\"left\\\" />\\n<br clear=\\\"all\\\" />\\n2. Could be a line or a cubic <br />\\n<img src=\\\"files/2-1/line.png\\\" width=100 align=\\\"left\\\" /> <img src=\\\"files/2-1/cubic.png\\\" width=100 align=\\\"left\\\" />\\n<br clear=\\\"all\\\" />\\n3. A parabola or absolute value function<br />\\n<img src=\\\"files/2-1/parabola.png\\\" width=100 align=\\\"left\\\" /> <img src=\\\"files/2-1/absval.png\\\" width=100 align=\\\"left\\\" />\\n<br clear=\\\"all\\\" />\\n4. A symmetric quartic<br />\\n<img src=\\\"files/2-1/symquartic.png\\\" width=100 align=\\\"left\\\" />\\n\", \"Answer\", false, false)"
      ]
     },
     "execution_count": 2,
     "metadata": {
      "comm_id": "97c4a398-aa3d-4938-ba99-8c82fb155bb5",
      "reactive": true
     },
     "output_type": "execute_result"
    },
    {
     "name": "stderr",
     "output_type": "stream",
     "text": [
      "WARNING: Compat.ASCIIString is deprecated, use String instead.\n",
      "  likely near C:\\Users\\Victoria Docherty\\.julia\\v0.6\\IJulia\\src\\kernel.jl:31\n",
      "WARNING: Compat.ASCIIString is deprecated, use String instead.\n",
      "  likely near C:\\Users\\Victoria Docherty\\.julia\\v0.6\\IJulia\\src\\kernel.jl:31\n",
      "WARNING: Compat.ASCIIString is deprecated, use String instead.\n",
      "  likely near C:\\Users\\Victoria Docherty\\.julia\\v0.6\\IJulia\\src\\kernel.jl:31\n"
     ]
    }
   ],
   "source": [
    "revealable(ans201A)"
   ]
  },
  {
   "cell_type": "markdown",
   "metadata": {},
   "source": [
    "### Practice Problem B\n",
    "Write a set of conditions that's impossible (because no function exists that satisfies them)."
   ]
  },
  {
   "cell_type": "code",
   "execution_count": 4,
   "metadata": {
    "run_control": {
     "read_only": false
    }
   },
   "outputs": [
    {
     "data": {
      "text/html": [],
      "text/plain": [
       "Interact.ToggleButton(7: \"input-3\" = false Bool , \"Answer\", false)"
      ]
     },
     "metadata": {},
     "output_type": "display_data"
    },
    {
     "data": {
      "text/markdown": [
       "\n"
      ],
      "text/plain": [
       "Revealables.Revealable(\"### Answer B\\nTo be possible, the numbers of local maxima and minima must be within 1 of each other. Or, with unbounded functions, there can't be both a global maximum and a global minimum.\\n\", \"Answer\", false, false)"
      ]
     },
     "execution_count": 4,
     "metadata": {
      "comm_id": "5e771db6-564f-4b6d-8bf0-34302d4cc2be",
      "reactive": true
     },
     "output_type": "execute_result"
    }
   ],
   "source": [
    "revealable(ans201B)"
   ]
  },
  {
   "cell_type": "code",
   "execution_count": null,
   "metadata": {
    "collapsed": true,
    "run_control": {
     "read_only": false
    }
   },
   "outputs": [],
   "source": []
  }
 ],
 "metadata": {
  "kernelspec": {
   "display_name": "Julia 0.6.0",
   "language": "julia",
   "name": "julia-0.6"
  },
  "language_info": {
   "file_extension": ".jl",
   "mimetype": "application/julia",
   "name": "julia",
   "version": "0.6.0"
  }
 },
 "nbformat": 4,
 "nbformat_minor": 1
}
