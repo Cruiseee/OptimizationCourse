{
 "cells": [
  {
   "cell_type": "markdown",
   "metadata": {
    "run_control": {
     "read_only": false
    }
   },
   "source": [
    "#Iterative Loops\n",
    "* `for` loops\n",
    "* `while` loops\n",
    "\n",
    "This lesson has a lot of content and some very rich problems, especially the extension problems at the end. I'd recommend giving it a couple of days and doing all of the problems, including the extensions. If you choose to do this, you could probably get through practice problem 4 in one day, then 5-7 on the second day. Several of the problems have additional extensions."
   ]
  },
  {
   "cell_type": "code",
   "execution_count": 1,
   "metadata": {
    "run_control": {
     "read_only": false
    }
   },
   "outputs": [
    {
     "data": {
      "text/html": [
       "<div id=\"interact-js-shim\">\n",
       "    <script charset=\"utf-8\">\r\n",
       "(function (IPython, $, _, MathJax) {\r\n",
       "    $.event.special.destroyed = {\r\n",
       "\tremove: function(o) {\r\n",
       "\t    if (o.handler) {\r\n",
       "\t\to.handler.apply(this, arguments)\r\n",
       "\t    }\r\n",
       "\t}\r\n",
       "    }\r\n",
       "\r\n",
       "    var OutputArea = IPython.version >= \"4.0.0\" ? require(\"notebook/js/outputarea\").OutputArea : IPython.OutputArea;\r\n",
       "\r\n",
       "    var redrawValue = function (container, type, val) {\r\n",
       "\tvar selector = $(\"<div/>\");\r\n",
       "\tvar oa = new OutputArea(_.extend(selector, {\r\n",
       "\t    selector: selector,\r\n",
       "\t    prompt_area: true,\r\n",
       "\t    events: IPython.events,\r\n",
       "\t    keyboard_manager: IPython.keyboard_manager\r\n",
       "\t})); // Hack to work with IPython 2.1.0\r\n",
       "\r\n",
       "\tswitch (type) {\r\n",
       "\tcase \"image/png\":\r\n",
       "            var _src = 'data:' + type + ';base64,' + val;\r\n",
       "\t    $(container).find(\"img\").attr('src', _src);\r\n",
       "\t    break;\r\n",
       "\tcase \"text/latex\":\r\n",
       "\t\tif (MathJax){\r\n",
       "\t\t\tvar math = MathJax.Hub.getAllJax(container)[0];\r\n",
       "\t\t\tMathJax.Hub.Queue([\"Text\", math, val.replace(/^\\${1,2}|\\${1,2}$/g, '')]);\r\n",
       "\t\t\tbreak;\r\n",
       "\t\t}\r\n",
       "\tdefault:\r\n",
       "\t    var toinsert = OutputArea.append_map[type].apply(\r\n",
       "\t\toa, [val, {}, selector]\r\n",
       "\t    );\r\n",
       "\t    $(container).empty().append(toinsert.contents());\r\n",
       "\t    selector.remove();\r\n",
       "\t}\r\n",
       "    }\r\n",
       "\r\n",
       "\r\n",
       "    $(document).ready(function() {\r\n",
       "\tfunction initComm(evt, data) {\r\n",
       "\t    var comm_manager = data.kernel.comm_manager;\r\n",
       "        //_.extend(comm_manager.targets, require(\"widgets/js/widget\"))\r\n",
       "\t    comm_manager.register_target(\"Signal\", function (comm) {\r\n",
       "            comm.on_msg(function (msg) {\r\n",
       "                var val = msg.content.data.value;\r\n",
       "                $(\".signal-\" + comm.comm_id).each(function() {\r\n",
       "                var type = $(this).data(\"type\");\r\n",
       "                if (typeof(val[type]) !== \"undefined\" && val[type] !== null) {\r\n",
       "                    redrawValue(this, type, val[type], type);\r\n",
       "                }\r\n",
       "                });\r\n",
       "                delete val;\r\n",
       "                delete msg.content.data.value;\r\n",
       "            });\r\n",
       "\t    });\r\n",
       "\r\n",
       "\t    // coordingate with Comm and redraw Signals\r\n",
       "\t    // XXX: Test using Reactive here to improve performance\r\n",
       "\t    $([IPython.events]).on(\r\n",
       "\t\t'output_appended.OutputArea', function (event, type, value, md, toinsert) {\r\n",
       "\t\t    if (md && md.reactive) {\r\n",
       "                // console.log(md.comm_id);\r\n",
       "                toinsert.addClass(\"signal-\" + md.comm_id);\r\n",
       "                toinsert.data(\"type\", type);\r\n",
       "                // Signal back indicating the mimetype required\r\n",
       "                var comm_manager = IPython.notebook.kernel.comm_manager;\r\n",
       "                var comm = comm_manager.comms[md.comm_id];\r\n",
       "                comm.then(function (c) {\r\n",
       "                    c.send({action: \"subscribe_mime\",\r\n",
       "                       mime: type});\r\n",
       "                    toinsert.bind(\"destroyed\", function() {\r\n",
       "                        c.send({action: \"unsubscribe_mime\",\r\n",
       "                               mime: type});\r\n",
       "                    });\r\n",
       "                })\r\n",
       "\t\t    }\r\n",
       "\t    });\r\n",
       "\t}\r\n",
       "\r\n",
       "\ttry {\r\n",
       "\t    // try to initialize right away. otherwise, wait on the status_started event.\r\n",
       "\t    initComm(undefined, IPython.notebook);\r\n",
       "\t} catch (e) {\r\n",
       "\t    $([IPython.events]).on('kernel_created.Kernel kernel_created.Session', initComm);\r\n",
       "\t}\r\n",
       "    });\r\n",
       "})(IPython, jQuery, _, MathJax);\r\n",
       "</script>\n",
       "    <script>\n",
       "        window.interactLoadedFlag = true\n",
       "       $(\"#interact-js-shim\").bind(\"destroyed\", function () {\n",
       "           if (window.interactLoadedFlag) {\n",
       "               console.warn(\"JavaScript required by Interact will be removed if you remove this cell or run using Interact more than once.\")\n",
       "           }\n",
       "       })\n",
       "       $([IPython.events]).on(\"kernel_starting.Kernel kernel_restarting.Kernel\", function () { window.interactLoadedFlag = false })\n",
       "   </script>\n",
       "</div>"
      ]
     },
     "metadata": {},
     "output_type": "display_data"
    },
    {
     "data": {
      "text/markdown": [
       "\n"
      ],
      "text/plain": [
       "Revealables.Revealable(\"### Answer\\nYour program may be different (and better!).\\n<code>\\nf(x) = x^2 - 4x  # function can be modified to whatever\\n\\nfunction secant(f, a, b)\\n    while abs(b - a) > 0.00001  # more accurate is fine. Note absolute value is important for distance!\\n                                # Also could use f(b) < 0.00001.\\n        m = (f(a) - f(b))/(a - b)  # made a variable for slope to simplify next line\\n        x = -f(a)/m + a  # calculating the x-intercept\\n        a = b  # redefining a and b to include the old b and the x-intercept x\\n        b = x\\n    end  # loop ends when tolerance is reached\\n    println(b)  # print the value of b (the last x-intercept found).\\nend\\n</code>\\n\", \"Answer\", false, false)"
      ]
     },
     "execution_count": 1,
     "metadata": {},
     "output_type": "execute_result"
    }
   ],
   "source": [
    "using Revealables\n",
    "include(\"files/extras.jl\")\n",
    "include(\"files/answers.jl\")"
   ]
  },
  {
   "cell_type": "markdown",
   "metadata": {},
   "source": [
    "##What was an iterative loop, again?"
   ]
  },
  {
   "cell_type": "code",
   "execution_count": 2,
   "metadata": {
    "run_control": {
     "read_only": false
    }
   },
   "outputs": [
    {
     "data": {
      "text/html": [],
      "text/plain": [
       "Interact.ToggleButton(1: \"input\" = false Bool , \"Definition\", false)"
      ]
     },
     "metadata": {},
     "output_type": "display_data"
    },
    {
     "data": {
      "text/markdown": [
       "\n"
      ],
      "text/plain": [
       "Revealables.Revealable(\"__Iteration__ is when the same procedure is repeated multiple times.\\n\\nSome examples were long division, the Fibonacci numbers, prime numbers, and the calculator game. Some of these used recursion as well, but not all of them.\\n\", \"Definition\", false, false)"
      ]
     },
     "execution_count": 2,
     "metadata": {
      "comm_id": "2d8d6c78-d493-441c-97a2-93efb03deff3",
      "reactive": true
     },
     "output_type": "execute_result"
    },
    {
     "name": "stderr",
     "output_type": "stream",
     "text": [
      "WARNING: Compat.ASCIIString is deprecated, use String instead.\n",
      "  likely near C:\\Users\\Victoria Docherty\\.julia\\v0.6\\IJulia\\src\\kernel.jl:31\n",
      "WARNING: Compat.ASCIIString is deprecated, use String instead.\n",
      "  likely near C:\\Users\\Victoria Docherty\\.julia\\v0.6\\IJulia\\src\\kernel.jl:31\n"
     ]
    }
   ],
   "source": [
    "revealable(defIteration)"
   ]
  },
  {
   "cell_type": "markdown",
   "metadata": {},
   "source": [
    "##Two Types of Iterative Loops\n",
    "\n",
    "* __for__ loop: \n",
    "\n",
    "    plug in a bunch of successive integers, or repeat a procedure a given number of times\n",
    "    \n",
    "\n",
    "* __while__ loop:\n",
    "\n",
    "    iterate until a certain condition is met, or when you know in advance how many loops to run "
   ]
  },
  {
   "cell_type": "markdown",
   "metadata": {},
   "source": [
    "##Loops with `for`\n",
    "\n",
    "`for` loops are used when want to plug in a bunch of successive integers, or repeat a procedure a given number of times. \n",
    "\n",
    "The general structure is:"
   ]
  },
  {
   "cell_type": "code",
   "execution_count": 3,
   "metadata": {
    "collapsed": true,
    "run_control": {
     "read_only": false
    }
   },
   "outputs": [],
   "source": [
    "start_number = 1\n",
    "end_number = 10\n",
    "\n",
    "for x in start_number:end_number\n",
    "    # do something, maybe println(x)\n",
    "    \n",
    "end"
   ]
  },
  {
   "cell_type": "markdown",
   "metadata": {},
   "source": [
    "Let's say you wanted to print out the values of $y = x^2$ from $x = 5$ to $x = 12$. Here's the code:\n"
   ]
  },
  {
   "cell_type": "code",
   "execution_count": 4,
   "metadata": {
    "run_control": {
     "read_only": false
    }
   },
   "outputs": [
    {
     "name": "stdout",
     "output_type": "stream",
     "text": [
      "25\n",
      "36\n",
      "49\n",
      "64\n",
      "81\n",
      "100\n",
      "121\n",
      "144\n"
     ]
    }
   ],
   "source": [
    "for x in 5:12\n",
    "    println(x^2)\n",
    "end"
   ]
  },
  {
   "cell_type": "markdown",
   "metadata": {},
   "source": [
    "Now suppose you want to add up the values of $y = x^2 - 5x + 11$ from $x = 0$ to $x =$ some number $n$. \n",
    "\n",
    "This procedure is a bit longer: \n",
    "\n",
    "   1. Plug $x$ into $f(x)$\n",
    "   2. Add that to the total\n",
    "   \n",
    "   Repeat for $x$-values from 0 to $n$.\n",
    "\n",
    "(We won't write out a plan for every program we code. But for more complex programs, or if your simple program is running into difficulty, it can be vital.)"
   ]
  },
  {
   "cell_type": "code",
   "execution_count": 5,
   "metadata": {
    "run_control": {
     "read_only": false
    }
   },
   "outputs": [
    {
     "data": {
      "text/plain": [
       "Sum (generic function with 1 method)"
      ]
     },
     "execution_count": 5,
     "metadata": {},
     "output_type": "execute_result"
    }
   ],
   "source": [
    "# Program to add up the values of y = x^2 - 5x + 11 from x = 0 to x = n\n",
    "\n",
    "function Sum(n)  # lowercase `sum` was already taken\n",
    "    f(x) = x^2 - 5x + 11\n",
    "    S = 0\n",
    "    for x in 0:n\n",
    "        S = S + f(x)  # You can write this line with a shortcut: S += f(x)\n",
    "    end\n",
    "    println(S)\n",
    "end\n"
   ]
  },
  {
   "cell_type": "markdown",
   "metadata": {},
   "source": [
    "An important note: A feature of most loop programs is a few lines of code at the top pre-defining certain things. In this case, I pre-loaded the function `f(x)`, but I also had to pre-load `S = 0`. Then each loop of the iteration adds the new function value onto the existing sum `S`. Without pre-loading `S`, the `S = S + f(x)` would come back undefined. \n",
    "\n",
    "This function ends up being a function with three variables: `n` (the last number to plug in, entered by the user), `x` (the actual variable used in the function, ranging from 0 to `n`), and `S` (the sum). Variables tend to proliferate in loopy programs, and that's okay."
   ]
  },
  {
   "cell_type": "markdown",
   "metadata": {},
   "source": [
    "###Extension questions\n",
    "1. What would you do if you wanted the sum from $x = a$ to $x = b$ instead of $x = 0$ to $x = n$?\n",
    "\n",
    "2. How could you make the output more attractive?"
   ]
  },
  {
   "cell_type": "code",
   "execution_count": 6,
   "metadata": {
    "run_control": {
     "read_only": false
    }
   },
   "outputs": [
    {
     "data": {
      "text/html": [],
      "text/plain": [
       "Interact.ToggleButton(4: \"input-2\" = false Bool , \"Extension Answer\", false)"
      ]
     },
     "metadata": {},
     "output_type": "display_data"
    },
    {
     "data": {
      "text/markdown": [
       "\n"
      ],
      "text/plain": [
       "Revealables.Revealable(\"You would change it to `function Sum(a,b)`, and modify the \\\"for\\\" line to `for x in a:b`.\\n\", \"Extension Answer\", false, false)"
      ]
     },
     "execution_count": 6,
     "metadata": {
      "comm_id": "a30c59a3-9602-4443-b80a-6c1807efc454",
      "reactive": true
     },
     "output_type": "execute_result"
    }
   ],
   "source": [
    "revealable(ext1081)"
   ]
  },
  {
   "cell_type": "code",
   "execution_count": 7,
   "metadata": {
    "run_control": {
     "read_only": false
    }
   },
   "outputs": [
    {
     "data": {
      "text/html": [],
      "text/plain": [
       "Interact.ToggleButton(7: \"input-3\" = false Bool , \"Extension Answer\", false)"
      ]
     },
     "metadata": {},
     "output_type": "display_data"
    },
    {
     "data": {
      "text/markdown": [
       "\n"
      ],
      "text/plain": [
       "Revealables.Revealable(\"Change it to `println(\\\"The sum is \\$S\\\"`\\n\", \"Extension Answer\", false, false)"
      ]
     },
     "execution_count": 7,
     "metadata": {
      "comm_id": "9b95cc6d-0752-4a59-b177-dd27a304377a",
      "reactive": true
     },
     "output_type": "execute_result"
    }
   ],
   "source": [
    "revealable(ext1082)"
   ]
  },
  {
   "cell_type": "markdown",
   "metadata": {},
   "source": [
    "###Iterating a certain number of times\n",
    "`for` can also let you do something a certain number of times; you don’t even need to apply the value of `n`.  Try this:"
   ]
  },
  {
   "cell_type": "code",
   "execution_count": 8,
   "metadata": {
    "run_control": {
     "read_only": false
    }
   },
   "outputs": [
    {
     "name": "stdout",
     "output_type": "stream",
     "text": [
      "Mrs. Crabapple is perfect!\n",
      "Mrs. Crabapple is perfect!\n",
      "Mrs. Crabapple is perfect!\n",
      "Mrs. Crabapple is perfect!\n",
      "Mrs. Crabapple is perfect!\n",
      "Mrs. Crabapple is perfect!\n",
      "Mrs. Crabapple is perfect!\n",
      "Mrs. Crabapple is perfect!\n",
      "Mrs. Crabapple is perfect!\n",
      "Mrs. Crabapple is perfect!\n"
     ]
    }
   ],
   "source": [
    "for n in 1:10\n",
    "    println(\"Mrs. Crabapple is perfect!\")\n",
    "end"
   ]
  },
  {
   "cell_type": "markdown",
   "metadata": {},
   "source": [
    "The value of `n` will automatically increment whether or not it's used. So if you wanted to repeat the same thing 20 times, use `n in 1:20` and follow that with whatever you want to iterate. \n"
   ]
  },
  {
   "cell_type": "markdown",
   "metadata": {},
   "source": [
    "###For Loops With Recursion\n",
    "Recall that the powers of two can be generated using recursion&mdash;each term is double the previous term. Heres an example using a `for` loop to print out the first ten powers of two:"
   ]
  },
  {
   "cell_type": "code",
   "execution_count": 9,
   "metadata": {
    "run_control": {
     "read_only": false
    }
   },
   "outputs": [
    {
     "name": "stdout",
     "output_type": "stream",
     "text": [
      "1\n",
      "2\n",
      "4\n",
      "8\n",
      "16\n",
      "32\n",
      "64\n",
      "128\n",
      "256\n",
      "512\n"
     ]
    }
   ],
   "source": [
    "x = 1  # pre-loading x = 1 to make sure x is defined (as 1) later.\n",
    "for n in 1:10\n",
    "    println(x)  # println(x) before doubling to ensure my list starts with 1 – there are other ways around this\n",
    "    x = 2x  # recursion appears as a replacement of x with 2x each time through the loop\n",
    "end"
   ]
  },
  {
   "cell_type": "markdown",
   "metadata": {},
   "source": [
    "###Practice Problem A\n",
    "Use a `for` loop to generate a list of values of $y = 4x^2 - 12$ from $x = -6$ to $x = 6$."
   ]
  },
  {
   "cell_type": "code",
   "execution_count": null,
   "metadata": {
    "collapsed": true,
    "run_control": {
     "read_only": false
    }
   },
   "outputs": [],
   "source": [
    "# Code here!\n"
   ]
  },
  {
   "cell_type": "code",
   "execution_count": 10,
   "metadata": {
    "run_control": {
     "read_only": false
    }
   },
   "outputs": [
    {
     "data": {
      "text/html": [],
      "text/plain": [
       "Interact.ToggleButton(10: \"input-4\" = false Bool , \"Answer\", false)"
      ]
     },
     "metadata": {},
     "output_type": "display_data"
    },
    {
     "data": {
      "text/markdown": [
       "\n"
      ],
      "text/plain": [
       "Revealables.Revealable(\"### Answer A\\nSample code:\\n<code>\\nfor x in -6:6\\n    println(4x^2 - 12)\\nend\\n</code>\\n\", \"Answer\", false, false)"
      ]
     },
     "execution_count": 10,
     "metadata": {
      "comm_id": "3211a4f7-3dbc-448a-9525-bd3510a531d2",
      "reactive": true
     },
     "output_type": "execute_result"
    }
   ],
   "source": [
    "revealable(ans108A)"
   ]
  },
  {
   "cell_type": "markdown",
   "metadata": {},
   "source": [
    "###Practice Problem B\n",
    "Use a `for` loop to generate a sequence of 12 terms, starting with 20, where each term is the square root of the previous term."
   ]
  },
  {
   "cell_type": "code",
   "execution_count": null,
   "metadata": {
    "collapsed": true,
    "run_control": {
     "read_only": false
    }
   },
   "outputs": [],
   "source": [
    "# Code here!\n"
   ]
  },
  {
   "cell_type": "code",
   "execution_count": null,
   "metadata": {
    "collapsed": true,
    "run_control": {
     "read_only": false
    }
   },
   "outputs": [],
   "source": []
  },
  {
   "cell_type": "code",
   "execution_count": 11,
   "metadata": {
    "run_control": {
     "read_only": false
    }
   },
   "outputs": [
    {
     "data": {
      "text/html": [],
      "text/plain": [
       "Interact.ToggleButton(13: \"input-5\" = false Bool , \"Answer\", false)"
      ]
     },
     "metadata": {},
     "output_type": "display_data"
    },
    {
     "data": {
      "text/markdown": [
       "\n"
      ],
      "text/plain": [
       "Revealables.Revealable(\"### Answer B\\nSample code:\\n<code>\\nx = 20\\nfor n in 1:12\\n    println(x)\\n    x = sqrt(x)\\nend\\n</code>\\n\", \"Answer\", false, false)"
      ]
     },
     "execution_count": 11,
     "metadata": {
      "comm_id": "63cb1797-c25e-4391-bd78-06eb72707ac3",
      "reactive": true
     },
     "output_type": "execute_result"
    }
   ],
   "source": [
    "revealable(ans108B)"
   ]
  },
  {
   "cell_type": "markdown",
   "metadata": {},
   "source": [
    "###Fibonacci Numbers, Revisited\n",
    "It is possible to generate the Fibonacci numbers using a `for` loop, but the replacement is tricky. The first two terms are easy:\n",
    "\n",
    "    a = 1\n",
    "    b = 1\n",
    "    \n",
    "And the looped procedure is easy:\n",
    "\n",
    "    c = a + b\n",
    "    \n",
    "Bu how will you get the next term, and the next, without introducing any new variables?"
   ]
  },
  {
   "cell_type": "markdown",
   "metadata": {},
   "source": [
    "Hint:\n",
    "\n",
    "You’ll need to reassign variables. The key is that the next term will always be called `c`, and it will always be found using `a + b`.\n",
    "\n",
    "So the values of `a` and `b` need to change with each iteration. Specifically, `a` needs to take on the value of `b`, and `b` needs to take on the value of `c`, so that `c` can take on the value of `a + b` again.\n"
   ]
  },
  {
   "cell_type": "markdown",
   "metadata": {},
   "source": [
    "Answer\n",
    "\n",
    "`a = 1    b = 1    c = a + b`\n",
    "\n",
    "We need to replace `a` and `b` with the next term:\n",
    "\n",
    " `a = b` \tthe value of `b` is now called `a`\n",
    " \n",
    " `b = c`\tthe value of `c` is now called `b`\n",
    " \n",
    "and then repeat:\n",
    "\n",
    "`c = a + b`\tthe new value of `c` is `a + b`.\n",
    "\n",
    "Order matters! You don't want to change `b` until *after* you store its old value in `a`."
   ]
  },
  {
   "cell_type": "markdown",
   "metadata": {},
   "source": [
    "###Practice Problem C\n",
    "Write a function including a `for` loop to generate the first $n$ numbers in the Fibonacci sequence, including the first two. Use it to generate a list of the first 15 Fibonacci numbers.\n"
   ]
  },
  {
   "cell_type": "code",
   "execution_count": 12,
   "metadata": {
    "collapsed": true,
    "run_control": {
     "read_only": false
    }
   },
   "outputs": [],
   "source": [
    "function fibo(a,b)\n",
    "# Write your function here.\n",
    "\n",
    "\n",
    "\n",
    "\n",
    "end\n",
    "\n",
    "fibo(1,1)"
   ]
  },
  {
   "cell_type": "code",
   "execution_count": 13,
   "metadata": {
    "run_control": {
     "read_only": false
    }
   },
   "outputs": [
    {
     "data": {
      "text/html": [],
      "text/plain": [
       "Interact.ToggleButton(16: \"input-6\" = false Bool , \"Answer\", false)"
      ]
     },
     "metadata": {},
     "output_type": "display_data"
    },
    {
     "data": {
      "text/markdown": [
       "\n"
      ],
      "text/plain": [
       "Revealables.Revealable(\"### Answer C\\nIt has to be a function, otherwise getting the first two numbers in the output is a real pain.\\n<code>\\nfunction fibo(x)\\n    println(1)  # first term\\n    println(1)  # second term\\n    a = 1  # seed numbers...\\n    b = 1\\n    for n = 1:x\\n        c = a + b\\n        println(c)\\n        a = b  # replacement of variables...\\n        b = c\\n    end\\nend\\n</code>\\n\\n`fibo(13)` should end with 610.\\n\", \"Answer\", false, false)"
      ]
     },
     "execution_count": 13,
     "metadata": {
      "comm_id": "fdad0cb6-ba7a-4336-af1e-6bde58fb0f8b",
      "reactive": true
     },
     "output_type": "execute_result"
    }
   ],
   "source": [
    "revealable(ans108C)"
   ]
  },
  {
   "cell_type": "markdown",
   "metadata": {},
   "source": [
    "##`while` Loops\n",
    "A while loop is used when you want to iterate until a certain condition isn't true any more, or when you know in advance how many loops to run. The format goes:"
   ]
  },
  {
   "cell_type": "code",
   "execution_count": 14,
   "metadata": {
    "collapsed": true,
    "run_control": {
     "read_only": false
    }
   },
   "outputs": [],
   "source": [
    "x = 13\n",
    "while x%7 != 0  # while the remainder of x/7 is NOT 0\n",
    "    # do a bunch of stuff, maybe println(x) or println(x%7)\n",
    "    \n",
    "    \n",
    "    x = x - 1  # changing x every time; otherwise the loop would go forever!\n",
    "end"
   ]
  },
  {
   "cell_type": "markdown",
   "metadata": {},
   "source": [
    "The repeated square root of a positive number will always get closer to 1. Here is a function that will repeatedly take square roots until within 0.001 of 1:"
   ]
  },
  {
   "cell_type": "code",
   "execution_count": 15,
   "metadata": {
    "run_control": {
     "read_only": false
    }
   },
   "outputs": [
    {
     "data": {
      "text/plain": [
       "repeated_root (generic function with 1 method)"
      ]
     },
     "execution_count": 15,
     "metadata": {},
     "output_type": "execute_result"
    }
   ],
   "source": [
    "function repeated_root(x)\n",
    "    while abs(x - 1) > 0.001  # remember, x - 1 is the distance from x to 1\n",
    "        x = sqrt(x)\n",
    "        println(x)\n",
    "    end\n",
    "end"
   ]
  },
  {
   "cell_type": "markdown",
   "metadata": {},
   "source": [
    "In the function above, I used `>` rather than `>=`. It doesnt really matter for this particular function, but it was (and should always be) a conscious decision."
   ]
  },
  {
   "cell_type": "code",
   "execution_count": 16,
   "metadata": {
    "run_control": {
     "read_only": false
    }
   },
   "outputs": [
    {
     "name": "stdout",
     "output_type": "stream",
     "text": [
      "2.23606797749979\n",
      "1.4953487812212205\n",
      "1.2228445449938519\n",
      "1.1058230170302352\n",
      "1.0515811984959769\n",
      "1.0254663322098765\n",
      "1.0126531154397722\n",
      "1.006306670672401\n",
      "1.0031483791904372\n",
      "1.0015729525054264\n",
      "1.0007861672232619\n"
     ]
    }
   ],
   "source": [
    "# Enter some numbers like 5 or 7 or 2119004.8 and see how it works\n",
    "repeated_root(5)"
   ]
  },
  {
   "cell_type": "markdown",
   "metadata": {},
   "source": [
    "As soon as the condition is met&mdash;in this case, as soon as `x` is within 0.001 of 1, written as `(x – 1) < 0.001`&mdash; the loop ends.\n"
   ]
  },
  {
   "cell_type": "markdown",
   "metadata": {},
   "source": [
    "###Loop Counters\n",
    "Let's say you wanted to know how many iterations it took for the repeated_root program to get to within 0.001 of 1. You could modify the program to include a variable that keeps track of the number of loops.\n",
    "\n",
    "The number `n` is a __counter__ – it just counts the loops."
   ]
  },
  {
   "cell_type": "code",
   "execution_count": 17,
   "metadata": {
    "run_control": {
     "read_only": false
    }
   },
   "outputs": [
    {
     "name": "stdout",
     "output_type": "stream",
     "text": [
      "11\n"
     ]
    }
   ],
   "source": [
    "function repeated_root(x)\n",
    "    n = 0  # no loops yet!\n",
    "    while abs(x - 1) > .001\n",
    "        x = sqrt(x)\n",
    "        n = n + 1  # n increases by 1 each time\n",
    "    end\n",
    "    println(n)  # this is the total number of loops, and it prints once at the very end\n",
    "end\n",
    "\n",
    "repeated_root(5)  # input some numbers like 5 or 7 or 2119004.8 and see how it works"
   ]
  },
  {
   "cell_type": "markdown",
   "metadata": {},
   "source": [
    "If you wanted to run the reproot program through 20 loops, then print the answer, you could also do this using counters:"
   ]
  },
  {
   "cell_type": "code",
   "execution_count": 18,
   "metadata": {
    "run_control": {
     "read_only": false
    }
   },
   "outputs": [
    {
     "name": "stdout",
     "output_type": "stream",
     "text": [
      "1.000001534880779\n"
     ]
    }
   ],
   "source": [
    "function repeated_root(x)\n",
    "    n = 0\n",
    "    while n < 20\n",
    "        x = sqrt(x)\n",
    "        n = n + 1\n",
    "    end\n",
    "    println(x)\n",
    "end\n",
    "\n",
    "repeated_root(5)  # input some numbers like 5 or 7 or 2119004.8 and see how it works"
   ]
  },
  {
   "cell_type": "markdown",
   "metadata": {},
   "source": [
    "We could have used a `for` loop here too."
   ]
  },
  {
   "cell_type": "markdown",
   "metadata": {},
   "source": [
    "##`while` Loops vs. `for` Loops\n",
    "For a set number of iterations, you could use either `while` or `for`.\n",
    "\n",
    "* `for` loops are short and simple but only work when you increment by the same amount each time. You can make them increment by numbers other than 1 using for `n in 1:0.1:20`, for example.\n",
    "\n",
    "\n",
    "\n",
    "* `while` loops are a little longer but will work even if you're not incrementing by the same amount each time.\n"
   ]
  },
  {
   "cell_type": "markdown",
   "metadata": {},
   "source": [
    "###Practice Problem D\n",
    "Write a function, `compound(P)`, that will count how many years it will take for an investment of `P` dollars, earning 5% interest, to grow over \\$1,000,000.\n",
    "\n",
    "You might need to refresh your memory about [compound interest](https://www.mathsisfun.com/money/compound-interest.html).\n",
    "\n",
    "Don’t forget to test your code!\n"
   ]
  },
  {
   "cell_type": "code",
   "execution_count": null,
   "metadata": {
    "collapsed": true,
    "run_control": {
     "read_only": false
    }
   },
   "outputs": [],
   "source": [
    "# Write your function here\n",
    "\n",
    "\n",
    "\n",
    "\n",
    "\n"
   ]
  },
  {
   "cell_type": "code",
   "execution_count": null,
   "metadata": {
    "collapsed": true,
    "run_control": {
     "read_only": false
    }
   },
   "outputs": [],
   "source": [
    "# Test your function here\n",
    "\n"
   ]
  },
  {
   "cell_type": "markdown",
   "metadata": {},
   "source": [
    "Done already? Try these extensions!\n",
    "\n",
    "1. Make the output more user-friendly.\n",
    "2. Make the interest rate a variable as well.\n",
    "3. Instead of using the total amount of money as the end condition, use the amount of interest only.\n",
    "3. Write a test loop to handle values of `P` over \\$1,000,000 – either giving an error message or calculating backwards and giving a negative answer.\n",
    "\n"
   ]
  },
  {
   "cell_type": "code",
   "execution_count": 19,
   "metadata": {
    "run_control": {
     "read_only": false
    }
   },
   "outputs": [
    {
     "data": {
      "text/html": [],
      "text/plain": [
       "Interact.ToggleButton(19: \"input-7\" = false Bool , \"Answer\", false)"
      ]
     },
     "metadata": {},
     "output_type": "display_data"
    },
    {
     "data": {
      "text/markdown": [
       "\n"
      ],
      "text/plain": [
       "Revealables.Revealable(\"### Answer D\\nSample program (not including extensions):\\n<code>\\nfunction compound(P)\\n    n = 0  # starting the counter at 0\\n    while P < 1000000\\n        P = 1.05P  # calculation for new value of P\\n        n = n + 1  # incrementing the counter\\n    end\\n    println(n)  # prints the number of iterations\\nend\\n</code>\\n\", \"Answer\", false, false)"
      ]
     },
     "execution_count": 19,
     "metadata": {
      "comm_id": "8609f600-e221-4159-b049-594f450fff27",
      "reactive": true
     },
     "output_type": "execute_result"
    }
   ],
   "source": [
    "revealable(ans108D)"
   ]
  },
  {
   "cell_type": "markdown",
   "metadata": {},
   "source": [
    "###Practice Problem E\n",
    "Working in groups or on your own, write a function `calcgame(x)` that counts the number of iterations in the calculator game. Here are the rules again:\n",
    "\n",
    "* If x is odd, multiply by 3 and add 1.\n",
    "* If x is even, divide by 2.\n",
    "* Stop when x = 1.\n",
    "* Count the iterations.\n",
    "\n",
    "Your function must include a `while` loop as well as an `if-else` test."
   ]
  },
  {
   "cell_type": "code",
   "execution_count": 20,
   "metadata": {
    "run_control": {
     "read_only": false
    }
   },
   "outputs": [
    {
     "data": {
      "text/plain": [
       "calcgame (generic function with 1 method)"
      ]
     },
     "execution_count": 20,
     "metadata": {},
     "output_type": "execute_result"
    }
   ],
   "source": [
    "function calcgame(x)\n",
    "    # Code goes here!\n",
    "    \n",
    "    \n",
    "    \n",
    "    \n",
    "    \n",
    "end"
   ]
  },
  {
   "cell_type": "code",
   "execution_count": null,
   "metadata": {
    "collapsed": true,
    "run_control": {
     "read_only": false
    }
   },
   "outputs": [],
   "source": [
    "# Test your code\n",
    "\n",
    "\n"
   ]
  },
  {
   "cell_type": "code",
   "execution_count": 21,
   "metadata": {
    "run_control": {
     "read_only": false
    }
   },
   "outputs": [
    {
     "data": {
      "text/html": [],
      "text/plain": [
       "Interact.ToggleButton(22: \"input-8\" = false Bool , \"Answer\", false)"
      ]
     },
     "metadata": {},
     "output_type": "display_data"
    },
    {
     "data": {
      "text/markdown": [
       "\n"
      ],
      "text/plain": [
       "Revealables.Revealable(\"### Answer E\\nExample code:\\n<code>\\nfunction calcgame(x)\\n    n = 0\\n    while x != 1\\n        if x%2 == 0\\n            x = x/2\\n            n = n + 1\\n        else\\n            x = 3x + 1\\n            n = n + 1\\n        end\\n    end\\n    println(n)\\nend\\n</code>\\n\", \"Answer\", false, false)"
      ]
     },
     "execution_count": 21,
     "metadata": {
      "comm_id": "bd59e5be-b635-48a3-bf3c-4b33bd746473",
      "reactive": true
     },
     "output_type": "execute_result"
    }
   ],
   "source": [
    "revealable(ans108E)"
   ]
  },
  {
   "cell_type": "markdown",
   "metadata": {},
   "source": [
    "###Practice Problem F\n",
    "Use a `for` loop to list the number of iterations of the `calgame(x)` function from $x = 1$ to $x = 20$."
   ]
  },
  {
   "cell_type": "code",
   "execution_count": null,
   "metadata": {
    "collapsed": true,
    "run_control": {
     "read_only": false
    }
   },
   "outputs": [],
   "source": [
    "# You will need to call calcgame(x) in your code\n",
    "\n"
   ]
  },
  {
   "cell_type": "code",
   "execution_count": 22,
   "metadata": {
    "run_control": {
     "read_only": false
    }
   },
   "outputs": [
    {
     "data": {
      "text/html": [],
      "text/plain": [
       "Interact.ToggleButton(25: \"input-9\" = false Bool , \"Answer\", false)"
      ]
     },
     "metadata": {},
     "output_type": "display_data"
    },
    {
     "data": {
      "text/markdown": [
       "\n"
      ],
      "text/plain": [
       "Revealables.Revealable(\"### Answer F\\nExample code:\\n<code>\\nfor i in 1:20\\n    calcgame(i)\\nend\\n</code>\\n\", \"Answer\", false, false)"
      ]
     },
     "execution_count": 22,
     "metadata": {
      "comm_id": "dab7d97b-7cae-412b-8e42-9c2df967df81",
      "reactive": true
     },
     "output_type": "execute_result"
    },
    {
     "name": "stderr",
     "output_type": "stream",
     "text": [
      "WARNING: Compat.ASCIIString is deprecated, use String instead.\n",
      "  likely near C:\\Users\\Victoria Docherty\\.julia\\v0.6\\IJulia\\src\\kernel.jl:31\n"
     ]
    }
   ],
   "source": [
    "revealable(ans108F)"
   ]
  },
  {
   "cell_type": "markdown",
   "metadata": {},
   "source": [
    "###Practice Problem G\n",
    "Working in groups or on your own, write a program to test if a number is prime. Your output should be some version of “n is prime” or “n is not prime”.\n",
    "\n",
    "Julia has an `isprime(n)` function. Don't use it&mdash;that's cheating for this problem. :)"
   ]
  },
  {
   "cell_type": "code",
   "execution_count": null,
   "metadata": {
    "collapsed": true,
    "run_control": {
     "read_only": false
    }
   },
   "outputs": [],
   "source": [
    "# Function goes here\n",
    "\n"
   ]
  },
  {
   "cell_type": "code",
   "execution_count": null,
   "metadata": {
    "collapsed": true,
    "run_control": {
     "read_only": false
    }
   },
   "outputs": [],
   "source": [
    "# Test your function here\n"
   ]
  },
  {
   "cell_type": "code",
   "execution_count": 23,
   "metadata": {
    "run_control": {
     "read_only": false
    }
   },
   "outputs": [
    {
     "data": {
      "text/html": [],
      "text/plain": [
       "Interact.ToggleButton(28: \"input-10\" = false Bool , \"Answer\", false)"
      ]
     },
     "metadata": {},
     "output_type": "display_data"
    },
    {
     "data": {
      "text/markdown": [
       "\n"
      ],
      "text/plain": [
       "Revealables.Revealable(\"### Answer G\\nMy version of the program has an interesting feature that you may or may not have come up with on their own: a variable called `primeness`, which is set to `true` unless/until the number divides evenly. There are lots of different ways to deal with the issue of how to report `n` as prime. As long as the program has output in words that tells whether the number is prime, consider yourself correct. Nevertheless, the idea of a binary variable is a useful one, so if you struggled, you might want go back and modify your program.\\n\\nFor an extension to the extension, list out the factors of the non-prime numbers. For an extension, list out the factors as factor pairs rather than an ordered list.\\n<code>\\nfunction prime(n)\\n    primeness = true  # assume the number is prime until proven otherwise\\n    test = 2  # start with 2 as the divisor\\n    while test <= sqrt(n)  # end when we get over the square root of n\\n        if n % test == 0  # if no remainder, then...\\n            primeness = false  # the number is not prime.\\n        end\\n        test = test + 1  # increment the divisor by 1 -- there are fancier ways\\n    end\\n    if primeness  # `primeness` variable generates an output\\n        println(\\\"\\$n is prime.\\\")\\n    else\\n        println(\\\"\\$n is not prime.\\\")\\n    end\\nend\\n</code>\\n\", \"Answer\", false, false)"
      ]
     },
     "execution_count": 23,
     "metadata": {
      "comm_id": "7ad9a049-6b47-4631-a913-df91fb70475b",
      "reactive": true
     },
     "output_type": "execute_result"
    }
   ],
   "source": [
    "revealable(ans108G)"
   ]
  },
  {
   "cell_type": "code",
   "execution_count": null,
   "metadata": {
    "collapsed": true,
    "run_control": {
     "read_only": false
    }
   },
   "outputs": [],
   "source": []
  }
 ],
 "metadata": {
  "kernelspec": {
   "display_name": "Julia 0.6.0",
   "language": "julia",
   "name": "julia-0.6"
  },
  "language_info": {
   "file_extension": ".jl",
   "mimetype": "application/julia",
   "name": "julia",
   "version": "0.6.0"
  }
 },
 "nbformat": 4,
 "nbformat_minor": 1
}
