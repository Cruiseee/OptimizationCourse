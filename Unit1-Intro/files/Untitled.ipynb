{
 "cells": [
  {
   "cell_type": "code",
   "execution_count": 79,
   "metadata": {
    "collapsed": false,
    "run_control": {
     "read_only": false
    }
   },
   "outputs": [],
   "source": [
    "using Revealables"
   ]
  },
  {
   "cell_type": "code",
   "execution_count": 119,
   "metadata": {
    "collapsed": false
   },
   "outputs": [
    {
     "data": {
      "text/plain": [
       "Dict{ASCIIString,ASCIIString} with 0 entries"
      ]
     },
     "execution_count": 119,
     "metadata": {},
     "output_type": "execute_result"
    }
   ],
   "source": [
    "answers = Dict{ASCIIString, ASCIIString}()\n"
   ]
  },
  {
   "cell_type": "code",
   "execution_count": 108,
   "metadata": {
    "collapsed": false
   },
   "outputs": [
    {
     "data": {
      "text/plain": [
       "7-element Array{(ASCIIString,ASCIIString),1}:\n",
       " (\"ans105A\",\"###Answer A\\n1. In order from left to right: (3.9, 18.21), (4, 19), (4.1, 19.81). Increases right, decreases left.\\n\\n2. (1, 15), (2, 17), (3, 35). Increases right, decreases left\\n\\n3. (-0.5, 4.61), (0, 3), (0.5, 1.65). Increases left, decreases right.\\n\")                                                                                                                                                                                                                                                                                                                                                                                                                       \n",
       " (\"ans105B\",\"###Answer B\\n1. Points should be: (0, 0) (0.6, -2.04) (1.2, -3.36) (1.8, -3.96) (2.4, -3.84). The interval/answer is bolded.\\n\\n2. (2, -4) (2.5, -6.125) This is going the wrong direction; change step to -0.5. [If you didn't pay attention, you got the minimum, around 3.] Complete answer: (2, -4) (1.5, -1.375) (1, 1) (.5, 2.375) (0, 2)\\n\")                                                                                                                                                                                                                                                                                                                                     \n",
       " (\"ans105C\",\"###Answer C\\nAnswers will vary greatly depending on starting \\$x\\$, starting \\$h\\$, and how you increment \\$h\\$ (Fibonacci numbers are only a suggestion).\\n\\nMake sure you are beginning with a small \\$h\\$ (at most 0.5). It will ramp up fairly quickly as you increase its value.\\n\\n1. The local maximum is at \\$x = -8.6852\\$. Note that this cubic is unbounded on both left and right so if you choose a starting \\$x\\$ greater than 12 or so, your numbers will fly off to infinity.\\n\\n2. This function has a few local minima past -12, but as long as you choose an \\$x\\$-value greater than -11 or so, you should reach the absolute minimum at around \\$x = 2.75172\\$.\\n\")\n",
       " (\"ans106A\",\"###Answer A\\nSample code:\\n```\\nf(x) = x^2 + 2x - 7\\ng(a,b) = (f(a) - f(b))/(a-b)  # Careful with parentheses here!\\ng(3,5)\\ng(-2, 7)\\n```\\n\")                                                                                                                                                                                                                                                                                                                                                                                                                                                                                                                                          \n",
       " (\"ans106B\",\"###Answer B\\nSample Program, heavily documented as usual:\\n```\\nfunction info(a, b)\\n    m = b/a  # the slope, rise/run\\n    midx = a/2  # x-coordinate of the midpoint\\n    midy = b/2  # y-coordinate of the midpoint\\n    dist = (a^2 + b^2)^(1/2)  # distance, using the Pythagorean Theorem\\n    println(\\\"The slope from the origin is \\$m\\\")\\n    println(\\\"The midpoint is (\\$midx, \\$midy)\\\")\\n    println(\\\"The distance is \\$dist units\\\")\\nend\\n```\\n\")                                                                                                                                                                                                                     \n",
       " (\"ans107A\",\"###Answer A\\n```\\nfunction Abs(x)\\n    if x < 0\\n        println(\\\"The absolute value is \\$(-x)\\\")\\n    else\\n        println(\\\"The absolute value is \\$x\\\")\\n    end\\nend\\n```\\n\")                                                                                                                                                                                                                                                                                                                                                                                                                                                                                                     \n",
       " (\"ans107B\",\"###Answer B\\n```\\nfunction grade(x)\\n    p = round(x/28*100,2)  # Converting points to percent, rounding to 2 decimal places\\n    if p >= 90\\n        println(\\\"Congratulations! You got an A, \\$p%!\\\")\\n    elseif p >= 70\\n        println(\\\"You passed your essay with \\$p%!\\\")\\n    else\\n        println(\\\"Please see Mrs. Crabapple for help raising your \\$p%.\\\")\\n    end\\nend\\n```\\n\")                                                                                                                                                                                                                                                                                         "
      ]
     },
     "execution_count": 108,
     "metadata": {},
     "output_type": "execute_result"
    }
   ],
   "source": [
    "\n",
    "\n",
    "(\"ans105B\", \"\"\"\n",
    "###Answer B\n",
    "1. Points should be: (0, 0) (0.6, -2.04) (1.2, -3.36) (1.8, -3.96) (2.4, -3.84). The interval/answer is bolded.\n",
    "\n",
    "2. (2, -4) (2.5, -6.125) This is going the wrong direction; change step to -0.5. [If you didn't pay attention, you got the minimum, around 3.] Complete answer: (2, -4) (1.5, -1.375) (1, 1) (.5, 2.375) (0, 2)\n",
    "\"\"\"),\n",
    "\n",
    "(\"ans105C\", \"\"\"\n",
    "###Answer C\n",
    "Answers will vary greatly depending on starting \\$x\\$, starting \\$h\\$, and how you increment \\$h\\$ (Fibonacci numbers are only a suggestion).\n",
    "\n",
    "Make sure you are beginning with a small \\$h\\$ (at most 0.5). It will ramp up fairly quickly as you increase its value.\n",
    "\n",
    "1. The local maximum is at \\$x = -8.6852\\$. Note that this cubic is unbounded on both left and right so if you choose a starting \\$x\\$ greater than 12 or so, your numbers will fly off to infinity.\n",
    "\n",
    "2. This function has a few local minima past -12, but as long as you choose an \\$x\\$-value greater than -11 or so, you should reach the absolute minimum at around \\$x = 2.75172\\$.\n",
    "\"\"\"),\n",
    "\n",
    "#############\n",
    "# Lesson 06 #\n",
    "#############\n",
    "\n",
    "(\"ans106A\", \"\"\"\n",
    "###Answer A\n",
    "Sample code:\n",
    "```\n",
    "f(x) = x^2 + 2x - 7\n",
    "g(a,b) = (f(a) - f(b))/(a-b)  # Careful with parentheses here!\n",
    "g(3,5)\n",
    "g(-2, 7)\n",
    "```\n",
    "\"\"\"),\n",
    "\n",
    "(\"ans106B\", \"\"\"\n",
    "###Answer B\n",
    "Sample Program, heavily documented as usual:\n",
    "```\n",
    "function info(a, b)\n",
    "    m = b/a  # the slope, rise/run\n",
    "    midx = a/2  # x-coordinate of the midpoint\n",
    "    midy = b/2  # y-coordinate of the midpoint\n",
    "    dist = (a^2 + b^2)^(1/2)  # distance, using the Pythagorean Theorem\n",
    "    println(\\\"The slope from the origin is \\$m\\\")\n",
    "    println(\\\"The midpoint is (\\$midx, \\$midy)\\\")\n",
    "    println(\\\"The distance is \\$dist units\\\")\n",
    "end\n",
    "```\n",
    "\"\"\"),\n",
    "\n",
    "#############\n",
    "# Lesson 07 #\n",
    "#############\n",
    "\n",
    "(\"ans107A\", \"\"\"\n",
    "###Answer A\n",
    "```\n",
    "function Abs(x)\n",
    "    if x < 0\n",
    "        println(\\\"The absolute value is \\$(-x)\\\")\n",
    "    else\n",
    "        println(\\\"The absolute value is \\$x\\\")\n",
    "    end\n",
    "end\n",
    "```\n",
    "\"\"\"),\n",
    "\n",
    "(\"ans107B\", \"\"\"\n",
    "###Answer B\n",
    "```\n",
    "function grade(x)\n",
    "    p = round(x/28*100,2)  # Converting points to percent, rounding to 2 decimal places\n",
    "    if p >= 90\n",
    "        println(\\\"Congratulations! You got an A, \\$p%!\\\")\n",
    "    elseif p >= 70\n",
    "        println(\\\"You passed your essay with \\$p%!\\\")\n",
    "    else\n",
    "        println(\\\"Please see Mrs. Crabapple for help raising your \\$p%.\\\")\n",
    "    end\n",
    "end\n",
    "```\n",
    "\"\"\"))\n"
   ]
  },
  {
   "cell_type": "code",
   "execution_count": 125,
   "metadata": {
    "collapsed": false
   },
   "outputs": [
    {
     "data": {
      "text/plain": [
       "\"###Answer A\\n1. In order from left to right: (3.9, 18.21), (4, 19), (4.1, 19.81). Increases right, decreases left.\\n\\n2. (1, 15), (2, 17), (3, 35). Increases right, decreases left\\n\\n3. (-0.5, 4.61), (0, 3), (0.5, 1.65). Increases left, decreases right.\\n\""
      ]
     },
     "execution_count": 125,
     "metadata": {},
     "output_type": "execute_result"
    }
   ],
   "source": [
    "answers[\"ans105A\"] = \"\"\"\n",
    "###Answer A\n",
    "1. In order from left to right: (3.9, 18.21), (4, 19), (4.1, 19.81). Increases right, decreases left.\n",
    "\n",
    "2. (1, 15), (2, 17), (3, 35). Increases right, decreases left\n",
    "\n",
    "3. (-0.5, 4.61), (0, 3), (0.5, 1.65). Increases left, decreases right.\n",
    "\"\"\""
   ]
  },
  {
   "cell_type": "code",
   "execution_count": 157,
   "metadata": {
    "collapsed": false
   },
   "outputs": [
    {
     "ename": "LoadError",
     "evalue": "syntax: keyword argument is not a symbol: \"Symbol(key)\"\nwhile loading In[157], in expression starting on line 4",
     "output_type": "error",
     "traceback": [
      "syntax: keyword argument is not a symbol: \"Symbol(key)\"\nwhile loading In[157], in expression starting on line 4",
      ""
     ]
    }
   ],
   "source": [
    "for (key, val) in answers\n",
    "    # store val in a variable named the value of key\n",
    "    println(key)\n",
    "end"
   ]
  },
  {
   "cell_type": "code",
   "execution_count": 154,
   "metadata": {
    "collapsed": false
   },
   "outputs": [
    {
     "ename": "LoadError",
     "evalue": "ans105A not defined\nwhile loading In[154], in expression starting on line 1",
     "output_type": "error",
     "traceback": [
      "ans105A not defined\nwhile loading In[154], in expression starting on line 1",
      ""
     ]
    }
   ],
   "source": [
    "ans105A"
   ]
  },
  {
   "cell_type": "code",
   "execution_count": 117,
   "metadata": {
    "collapsed": false
   },
   "outputs": [
    {
     "ename": "LoadError",
     "evalue": "error in method definition: function Base.symbol must be explicitly imported to be extended\nwhile loading In[117], in expression starting on line 1",
     "output_type": "error",
     "traceback": [
      "error in method definition: function Base.symbol must be explicitly imported to be extended\nwhile loading In[117], in expression starting on line 1",
      ""
     ]
    }
   ],
   "source": []
  },
  {
   "cell_type": "code",
   "execution_count": null,
   "metadata": {
    "collapsed": true
   },
   "outputs": [],
   "source": []
  }
 ],
 "metadata": {
  "kernelspec": {
   "display_name": "Julia 0.3.10",
   "language": "julia",
   "name": "julia-0.3"
  },
  "language_info": {
   "file_extension": ".jl",
   "mimetype": "application/julia",
   "name": "julia",
   "version": "0.3.10"
  }
 },
 "nbformat": 4,
 "nbformat_minor": 0
}
