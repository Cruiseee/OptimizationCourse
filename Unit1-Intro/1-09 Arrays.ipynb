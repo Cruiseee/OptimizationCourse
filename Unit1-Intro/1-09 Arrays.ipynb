{
 "cells": [
  {
   "cell_type": "markdown",
   "metadata": {
    "run_control": {
     "read_only": false
    }
   },
   "source": [
    "#Arrays\n",
    "* 1-dimensional vs. multidimensional\n",
    "* Commands\n",
    "* Some applications"
   ]
  },
  {
   "cell_type": "code",
   "execution_count": 2,
   "metadata": {
    "run_control": {
     "read_only": false
    }
   },
   "outputs": [
    {
     "data": {
      "text/markdown": [
       "\n"
      ],
      "text/plain": [
       "Revealables.Revealable(\"### Answer\\nYour program may be different (and better!).\\n<code>\\nf(x) = x^2 - 4x  # function can be modified to whatever\\n\\nfunction secant(f, a, b)\\n    while abs(b - a) > 0.00001  # more accurate is fine. Note absolute value is important for distance!\\n                                # Also could use f(b) < 0.00001.\\n        m = (f(a) - f(b))/(a - b)  # made a variable for slope to simplify next line\\n        x = -f(a)/m + a  # calculating the x-intercept\\n        a = b  # redefining a and b to include the old b and the x-intercept x\\n        b = x\\n    end  # loop ends when tolerance is reached\\n    println(b)  # print the value of b (the last x-intercept found).\\nend\\n</code>\\n\", \"Answer\", false, false)"
      ]
     },
     "execution_count": 2,
     "metadata": {},
     "output_type": "execute_result"
    }
   ],
   "source": [
    "using Revealables\n",
    "include(\"files/answers.jl\")"
   ]
  },
  {
   "cell_type": "markdown",
   "metadata": {},
   "source": [
    "##Definition\n",
    "An `array` is a sequence of objects, which could be in a row or a column or matrix form. \n",
    "\n",
    "The ordered pairs (3, 5), (2, -4), and (-3, 0) could be entered as a list, called a 1-dimensional array:"
   ]
  },
  {
   "cell_type": "code",
   "execution_count": 3,
   "metadata": {
    "run_control": {
     "read_only": false
    },
    "scrolled": true
   },
   "outputs": [
    {
     "data": {
      "text/plain": [
       "3-element Array{Tuple{Int64,Int64},1}:\n",
       " (3, 5)\n",
       " (2, 4)\n",
       " (3, 0)"
      ]
     },
     "execution_count": 3,
     "metadata": {},
     "output_type": "execute_result"
    }
   ],
   "source": [
    "orderedpairs = [(3, 5), (2, 4), (3, 0)] \n",
    "# all of these are pairs of numbers (64-bit integers, to be specific)"
   ]
  },
  {
   "cell_type": "markdown",
   "metadata": {},
   "source": [
    "Here are more 1-dimensional arrays:"
   ]
  },
  {
   "cell_type": "code",
   "execution_count": 4,
   "metadata": {
    "run_control": {
     "read_only": false
    }
   },
   "outputs": [
    {
     "data": {
      "text/plain": [
       "4-element Array{Int64,1}:\n",
       " 10\n",
       " 20\n",
       " 30\n",
       " 70"
      ]
     },
     "execution_count": 4,
     "metadata": {},
     "output_type": "execute_result"
    }
   ],
   "source": [
    "numbers = Int[]  # to create an empty array, you must specify the type of element it will hold\n",
    "push!(numbers,10)  # push! changes the array by adding an element at the end\n",
    "push!(numbers,20)\n",
    "push!(numbers,30)\n",
    "push!(numbers,70)"
   ]
  },
  {
   "cell_type": "code",
   "execution_count": 5,
   "metadata": {
    "run_control": {
     "read_only": false
    }
   },
   "outputs": [
    {
     "data": {
      "text/plain": [
       "4-element Array{String,1}:\n",
       " \"cats\"      \n",
       " \"dogs\"      \n",
       " \"bumblebees\"\n",
       " \"wombats\"   "
      ]
     },
     "execution_count": 5,
     "metadata": {},
     "output_type": "execute_result"
    }
   ],
   "source": [
    "animals = [\"cats\", \"dogs\", \"bumblebees\", \"wombats\"]  # all of these are strings"
   ]
  },
  {
   "cell_type": "code",
   "execution_count": 6,
   "metadata": {
    "run_control": {
     "read_only": false
    }
   },
   "outputs": [
    {
     "data": {
      "text/plain": [
       "5-element Array{Any,1}:\n",
       "   \"canteloupe\"\n",
       " 16            \n",
       "   (3, 4, 5)   \n",
       "   \"numbers\"   \n",
       " 3//4          "
      ]
     },
     "execution_count": 6,
     "metadata": {},
     "output_type": "execute_result"
    }
   ],
   "source": [
    "mixedup = [\"canteloupe\", 16, (3,4,5), \"numbers\", 3//4]\n",
    "# all of these are different types of objects"
   ]
  },
  {
   "cell_type": "markdown",
   "metadata": {},
   "source": [
    "Try setting `list` equal to each of the 1-dimenstional arrays above and see what happens when you try each function in the next section. Or, if you prefer:\n",
    "\n",
    "```\n",
    "for each 1D array in [orderedpairs, numbers, animals, mixedup]\n",
    "    set list = that variable name\n",
    "    try each array operation to see what happens\n",
    "end\n",
    "```"
   ]
  },
  {
   "cell_type": "code",
   "execution_count": 7,
   "metadata": {
    "run_control": {
     "read_only": false
    }
   },
   "outputs": [
    {
     "data": {
      "text/plain": [
       "3-element Array{Tuple{Int64,Int64},1}:\n",
       " (3, 5)\n",
       " (2, 4)\n",
       " (3, 0)"
      ]
     },
     "execution_count": 7,
     "metadata": {},
     "output_type": "execute_result"
    }
   ],
   "source": [
    "list = orderedpairs\n",
    "#list = numbers\n",
    "#list = animals\n",
    "#list = mixedup"
   ]
  },
  {
   "cell_type": "code",
   "execution_count": 8,
   "metadata": {
    "run_control": {
     "read_only": false
    }
   },
   "outputs": [
    {
     "data": {
      "text/plain": [
       "3-element Array{Tuple{Int64,Int64},1}:\n",
       " (2, 4)\n",
       " (3, 0)\n",
       " (3, 5)"
      ]
     },
     "execution_count": 8,
     "metadata": {},
     "output_type": "execute_result"
    }
   ],
   "source": [
    "sort(list)  # puts the elements of list in order\n",
    "# Works only if elements are of the same type"
   ]
  },
  {
   "cell_type": "code",
   "execution_count": 9,
   "metadata": {
    "run_control": {
     "read_only": false
    }
   },
   "outputs": [
    {
     "data": {
      "text/plain": [
       "(2, 4)"
      ]
     },
     "execution_count": 9,
     "metadata": {},
     "output_type": "execute_result"
    }
   ],
   "source": [
    "list[2]  # returns the 2nd element of list"
   ]
  },
  {
   "cell_type": "code",
   "execution_count": 10,
   "metadata": {
    "run_control": {
     "read_only": false
    }
   },
   "outputs": [
    {
     "data": {
      "text/plain": [
       "3"
      ]
     },
     "execution_count": 10,
     "metadata": {},
     "output_type": "execute_result"
    }
   ],
   "source": [
    "findfirst(list,(3,0))  # tells which element is (3,0)"
   ]
  },
  {
   "cell_type": "code",
   "execution_count": 11,
   "metadata": {
    "run_control": {
     "read_only": false
    }
   },
   "outputs": [
    {
     "data": {
      "text/plain": [
       "(3, 0)"
      ]
     },
     "execution_count": 11,
     "metadata": {},
     "output_type": "execute_result"
    }
   ],
   "source": [
    "list[end]  # returns last element without changing the array"
   ]
  },
  {
   "cell_type": "code",
   "execution_count": 12,
   "metadata": {
    "run_control": {
     "read_only": false
    }
   },
   "outputs": [
    {
     "data": {
      "text/plain": [
       "4-element Array{Tuple{Int64,Int64},1}:\n",
       " (3, 5)\n",
       " (2, 4)\n",
       " (3, 0)\n",
       " (2, 5)"
      ]
     },
     "execution_count": 12,
     "metadata": {},
     "output_type": "execute_result"
    }
   ],
   "source": [
    "push!(list, (2, 5))  # adds (2, 5) at the end of S\n",
    "\n",
    "# Since (2, -5) is a pair of numbers, this works\n",
    "# only if all elements in the list are pair of numbers\n",
    "# or if the types of the elements in the list are mixed \n",
    "# (which means the type of the Array is \"Any\")"
   ]
  },
  {
   "cell_type": "code",
   "execution_count": 13,
   "metadata": {
    "run_control": {
     "read_only": false
    }
   },
   "outputs": [
    {
     "data": {
      "text/plain": [
       "(3, 0)"
      ]
     },
     "execution_count": 13,
     "metadata": {},
     "output_type": "execute_result"
    }
   ],
   "source": [
    "(a, b) = list[3]  # assigns values of list[3] to a, b\n",
    "# Since there are two objects getting assignments, \n",
    "# this works only if element #3 has at least two parts to assign"
   ]
  },
  {
   "cell_type": "code",
   "execution_count": 14,
   "metadata": {
    "run_control": {
     "read_only": false
    }
   },
   "outputs": [
    {
     "data": {
      "text/plain": [
       "3"
      ]
     },
     "execution_count": 14,
     "metadata": {},
     "output_type": "execute_result"
    }
   ],
   "source": [
    "a  # now a equals..."
   ]
  },
  {
   "cell_type": "code",
   "execution_count": 15,
   "metadata": {
    "run_control": {
     "read_only": false
    }
   },
   "outputs": [
    {
     "data": {
      "text/plain": [
       "0"
      ]
     },
     "execution_count": 15,
     "metadata": {},
     "output_type": "execute_result"
    }
   ],
   "source": [
    "b  # and b equals..."
   ]
  },
  {
   "cell_type": "code",
   "execution_count": 16,
   "metadata": {
    "run_control": {
     "read_only": false
    }
   },
   "outputs": [
    {
     "data": {
      "text/plain": [
       "(2, 5)"
      ]
     },
     "execution_count": 16,
     "metadata": {},
     "output_type": "execute_result"
    }
   ],
   "source": [
    "pop!(list)  # permanently removes the last element of list"
   ]
  },
  {
   "cell_type": "code",
   "execution_count": 17,
   "metadata": {
    "run_control": {
     "read_only": false
    }
   },
   "outputs": [
    {
     "data": {
      "text/plain": [
       "(3, 5)"
      ]
     },
     "execution_count": 17,
     "metadata": {},
     "output_type": "execute_result"
    }
   ],
   "source": [
    "shift!(list)  # permanently removes the first element of list"
   ]
  },
  {
   "cell_type": "code",
   "execution_count": 18,
   "metadata": {
    "run_control": {
     "read_only": false
    }
   },
   "outputs": [
    {
     "data": {
      "text/plain": [
       "2"
      ]
     },
     "execution_count": 18,
     "metadata": {},
     "output_type": "execute_result"
    }
   ],
   "source": [
    "length(list)  # gives the number of elements in list"
   ]
  },
  {
   "cell_type": "code",
   "execution_count": 19,
   "metadata": {
    "run_control": {
     "read_only": false
    }
   },
   "outputs": [
    {
     "ename": "LoadError",
     "evalue": "\u001b[91mMethodError: no method matching +(::Tuple{Int64,Int64}, ::Tuple{Int64,Int64})\u001b[0m\nClosest candidates are:\n  +(::Any, ::Any, \u001b[91m::Any\u001b[39m, \u001b[91m::Any...\u001b[39m) at operators.jl:424\u001b[39m",
     "output_type": "error",
     "traceback": [
      "\u001b[91mMethodError: no method matching +(::Tuple{Int64,Int64}, ::Tuple{Int64,Int64})\u001b[0m\nClosest candidates are:\n  +(::Any, ::Any, \u001b[91m::Any\u001b[39m, \u001b[91m::Any...\u001b[39m) at operators.jl:424\u001b[39m",
      "",
      "Stacktrace:",
      " [1] \u001b[1m_mapreduce\u001b[22m\u001b[22m\u001b[1m(\u001b[22m\u001b[22m::Base.#identity, ::Base.#+, ::IndexLinear, ::Array{Tuple{Int64,Int64},1}\u001b[1m)\u001b[22m\u001b[22m at \u001b[1m.\\reduce.jl:273\u001b[22m\u001b[22m",
      " [2] \u001b[1msum\u001b[22m\u001b[22m\u001b[1m(\u001b[22m\u001b[22m::Array{Tuple{Int64,Int64},1}\u001b[1m)\u001b[22m\u001b[22m at \u001b[1m.\\reduce.jl:359\u001b[22m\u001b[22m",
      " [3] \u001b[1minclude_string\u001b[22m\u001b[22m\u001b[1m(\u001b[22m\u001b[22m::String, ::String\u001b[1m)\u001b[22m\u001b[22m at \u001b[1m.\\loading.jl:515\u001b[22m\u001b[22m"
     ]
    }
   ],
   "source": [
    "sum(list)  # finds the sum of single terms in list\n",
    "# Works only if each item is a single number\n",
    "# This shouldn't work because the list doesn't contain single numbers."
   ]
  },
  {
   "cell_type": "code",
   "execution_count": 20,
   "metadata": {
    "run_control": {
     "read_only": false
    }
   },
   "outputs": [
    {
     "ename": "LoadError",
     "evalue": "\u001b[91mMethodError: no method matching +(::Tuple{Int64,Int64}, ::Int64)\u001b[0m\nClosest candidates are:\n  +(::Any, ::Any, \u001b[91m::Any\u001b[39m, \u001b[91m::Any...\u001b[39m) at operators.jl:424\n  +(\u001b[91m::Complex{Bool}\u001b[39m, ::Real) at complex.jl:247\n  +(\u001b[91m::Char\u001b[39m, ::Integer) at char.jl:40\n  ...\u001b[39m",
     "output_type": "error",
     "traceback": [
      "\u001b[91mMethodError: no method matching +(::Tuple{Int64,Int64}, ::Int64)\u001b[0m\nClosest candidates are:\n  +(::Any, ::Any, \u001b[91m::Any\u001b[39m, \u001b[91m::Any...\u001b[39m) at operators.jl:424\n  +(\u001b[91m::Complex{Bool}\u001b[39m, ::Real) at complex.jl:247\n  +(\u001b[91m::Char\u001b[39m, ::Integer) at char.jl:40\n  ...\u001b[39m",
      "",
      "Stacktrace:",
      " [1] \u001b[1mbroadcast_t\u001b[22m\u001b[22m\u001b[1m(\u001b[22m\u001b[22m::Function, ::Type{Any}, ::Tuple{Base.OneTo{Int64}}, ::CartesianRange{CartesianIndex{1}}, ::Array{Tuple{Int64,Int64},1}, ::Int64\u001b[1m)\u001b[22m\u001b[22m at \u001b[1m.\\broadcast.jl:256\u001b[22m\u001b[22m",
      " [2] \u001b[1mbroadcast_c\u001b[22m\u001b[22m at \u001b[1m.\\broadcast.jl:319\u001b[22m\u001b[22m [inlined]",
      " [3] \u001b[1mbroadcast\u001b[22m\u001b[22m at \u001b[1m.\\broadcast.jl:434\u001b[22m\u001b[22m [inlined]",
      " [4] \u001b[1m+\u001b[22m\u001b[22m\u001b[1m(\u001b[22m\u001b[22m::Array{Tuple{Int64,Int64},1}, ::Int64\u001b[1m)\u001b[22m\u001b[22m at \u001b[1m.\\arraymath.jl:47\u001b[22m\u001b[22m",
      " [5] \u001b[1minclude_string\u001b[22m\u001b[22m\u001b[1m(\u001b[22m\u001b[22m::String, ::String\u001b[1m)\u001b[22m\u001b[22m at \u001b[1m.\\loading.jl:515\u001b[22m\u001b[22m"
     ]
    }
   ],
   "source": [
    "list + 4  # Adds 4 to each element\n",
    "# Works only when each element is a number -- again, this shouldn't work because list doesn't contain single numbers."
   ]
  },
  {
   "cell_type": "markdown",
   "metadata": {},
   "source": [
    "If you haven't checked all the kinds of arrays, go back up and try again!"
   ]
  },
  {
   "cell_type": "markdown",
   "metadata": {},
   "source": [
    "##Multidimensional Arrays\n",
    "Arrays don't have to be lists of things."
   ]
  },
  {
   "cell_type": "code",
   "execution_count": 21,
   "metadata": {
    "run_control": {
     "read_only": false
    }
   },
   "outputs": [
    {
     "data": {
      "text/plain": [
       "3×2 Array{Int64,2}:\n",
       "  3   5\n",
       "  2  -4\n",
       " -3   0"
      ]
     },
     "execution_count": 21,
     "metadata": {},
     "output_type": "execute_result"
    }
   ],
   "source": [
    "integers = [3 5; 2 -4; -3 0]"
   ]
  },
  {
   "cell_type": "code",
   "execution_count": 22,
   "metadata": {
    "run_control": {
     "read_only": false
    }
   },
   "outputs": [
    {
     "data": {
      "text/plain": [
       "2×3 Array{Any,2}:\n",
       " 3         \"butterfly\"  2\n",
       "  \"bee\"  -3             0"
      ]
     },
     "execution_count": 22,
     "metadata": {},
     "output_type": "execute_result"
    }
   ],
   "source": [
    "mixed = [3 \"butterfly\" 2; \"bee\" -3 0]"
   ]
  },
  {
   "cell_type": "code",
   "execution_count": 23,
   "metadata": {
    "run_control": {
     "read_only": false
    }
   },
   "outputs": [
    {
     "data": {
      "text/plain": [
       "2×2 Array{Float64,2}:\n",
       " 0.906932  0.113942\n",
       " 0.36614   0.579421"
      ]
     },
     "execution_count": 23,
     "metadata": {},
     "output_type": "execute_result"
    }
   ],
   "source": [
    "decimals = rand(2,2)"
   ]
  },
  {
   "cell_type": "markdown",
   "metadata": {},
   "source": [
    "Try each array above in the functions below. Which functions will work with each kind of array?"
   ]
  },
  {
   "cell_type": "code",
   "execution_count": 24,
   "metadata": {
    "run_control": {
     "read_only": false
    }
   },
   "outputs": [
    {
     "data": {
      "text/plain": [
       "3×2 Array{Int64,2}:\n",
       "  3   5\n",
       "  2  -4\n",
       " -3   0"
      ]
     },
     "execution_count": 24,
     "metadata": {},
     "output_type": "execute_result"
    }
   ],
   "source": [
    "array = integers\n",
    "#array = mixed\n",
    "#array = decimals"
   ]
  },
  {
   "cell_type": "code",
   "execution_count": 25,
   "metadata": {
    "run_control": {
     "read_only": false
    }
   },
   "outputs": [
    {
     "data": {
      "text/plain": [
       "3×2 Array{Int64,2}:\n",
       " -3   0\n",
       "  2  -4\n",
       "  3   5"
      ]
     },
     "execution_count": 25,
     "metadata": {},
     "output_type": "execute_result"
    }
   ],
   "source": [
    "sortrows(array)  # puts rows in order"
   ]
  },
  {
   "cell_type": "code",
   "execution_count": 32,
   "metadata": {
    "run_control": {
     "read_only": false
    }
   },
   "outputs": [
    {
     "data": {
      "text/plain": [
       "3×4 Array{Int64,2}:\n",
       "  3   5  1  2\n",
       "  2  -4  3  4\n",
       " -3   0  5  6"
      ]
     },
     "execution_count": 32,
     "metadata": {},
     "output_type": "execute_result"
    }
   ],
   "source": [
    "secondarray = [1 2; 3 4; 5 6]\n",
    "hcat(array, secondarray)  # Augments B at the end of A"
   ]
  },
  {
   "cell_type": "code",
   "execution_count": 33,
   "metadata": {
    "run_control": {
     "read_only": false
    }
   },
   "outputs": [
    {
     "data": {
      "text/plain": [
       "3×2 Array{Int64,2}:\n",
       " 4  7\n",
       " 5  0\n",
       " 2  6"
      ]
     },
     "execution_count": 33,
     "metadata": {},
     "output_type": "execute_result"
    }
   ],
   "source": [
    "array + secondarray  # Adds the elements in the same position of each array"
   ]
  },
  {
   "cell_type": "code",
   "execution_count": 35,
   "metadata": {
    "run_control": {
     "read_only": false
    }
   },
   "outputs": [
    {
     "data": {
      "text/plain": [
       "3×2 Array{Int64,2}:\n",
       "   3   10\n",
       "   6  -16\n",
       " -15    0"
      ]
     },
     "execution_count": 35,
     "metadata": {},
     "output_type": "execute_result"
    }
   ],
   "source": [
    "array .* secondarray  # multiplies the elements in the same position of each array"
   ]
  },
  {
   "cell_type": "code",
   "execution_count": 36,
   "metadata": {
    "run_control": {
     "read_only": false
    }
   },
   "outputs": [
    {
     "data": {
      "text/plain": [
       "3×2 Array{Int64,2}:\n",
       "  27   45\n",
       "  18  -36\n",
       " -27    0"
      ]
     },
     "execution_count": 36,
     "metadata": {},
     "output_type": "execute_result"
    }
   ],
   "source": [
    "array * 9"
   ]
  },
  {
   "cell_type": "code",
   "execution_count": 37,
   "metadata": {
    "run_control": {
     "read_only": false
    }
   },
   "outputs": [
    {
     "data": {
      "text/plain": [
       "6×2 Array{Int64,2}:\n",
       "  3   5\n",
       "  2  -4\n",
       " -3   0\n",
       "  1   2\n",
       "  3   4\n",
       "  5   6"
      ]
     },
     "execution_count": 37,
     "metadata": {},
     "output_type": "execute_result"
    }
   ],
   "source": [
    "vcat(array, secondarray)  # Augments B below A"
   ]
  },
  {
   "cell_type": "code",
   "execution_count": 38,
   "metadata": {
    "run_control": {
     "read_only": false
    }
   },
   "outputs": [
    {
     "data": {
      "text/plain": [
       "-4"
      ]
     },
     "execution_count": 38,
     "metadata": {},
     "output_type": "execute_result"
    }
   ],
   "source": [
    "array[5]  # gives 5th element of A"
   ]
  },
  {
   "cell_type": "code",
   "execution_count": 39,
   "metadata": {
    "run_control": {
     "read_only": false
    }
   },
   "outputs": [
    {
     "data": {
      "text/plain": [
       "0"
      ]
     },
     "execution_count": 39,
     "metadata": {},
     "output_type": "execute_result"
    }
   ],
   "source": [
    "array[3, 2]  # gives the 3rd row, 2nd column of A"
   ]
  },
  {
   "cell_type": "code",
   "execution_count": 40,
   "metadata": {
    "run_control": {
     "read_only": false
    }
   },
   "outputs": [
    {
     "data": {
      "text/plain": [
       "2-element Array{Int64,1}:\n",
       " 3\n",
       " 5"
      ]
     },
     "execution_count": 40,
     "metadata": {},
     "output_type": "execute_result"
    }
   ],
   "source": [
    "array[1, : ]  # gives first row of A"
   ]
  },
  {
   "cell_type": "code",
   "execution_count": 41,
   "metadata": {
    "run_control": {
     "read_only": false
    }
   },
   "outputs": [
    {
     "data": {
      "text/plain": [
       "2-element Array{Int64,1}:\n",
       "  2\n",
       " -4"
      ]
     },
     "execution_count": 41,
     "metadata": {},
     "output_type": "execute_result"
    }
   ],
   "source": [
    "(a, b) = array[2, : ]  # assigns 2nd row values to a, b"
   ]
  },
  {
   "cell_type": "code",
   "execution_count": 42,
   "metadata": {
    "run_control": {
     "read_only": false
    }
   },
   "outputs": [
    {
     "data": {
      "text/plain": [
       "6"
      ]
     },
     "execution_count": 42,
     "metadata": {},
     "output_type": "execute_result"
    }
   ],
   "source": [
    "length(array)  # gives the length of A"
   ]
  },
  {
   "cell_type": "code",
   "execution_count": 43,
   "metadata": {
    "run_control": {
     "read_only": false
    }
   },
   "outputs": [
    {
     "data": {
      "text/plain": [
       "3"
      ]
     },
     "execution_count": 43,
     "metadata": {},
     "output_type": "execute_result"
    }
   ],
   "source": [
    "sum(array)  # adds all the elements of A"
   ]
  },
  {
   "cell_type": "markdown",
   "metadata": {},
   "source": [
    "###Practice Problem A\n",
    "Create a program that lists the first $n$ Fibonacci numbers as an array, rather than a vertical list. To do this, start with the [1, 1], then `push!` new elements on the end."
   ]
  },
  {
   "cell_type": "code",
   "execution_count": null,
   "metadata": {
    "collapsed": true,
    "run_control": {
     "read_only": false
    }
   },
   "outputs": [],
   "source": [
    "# Code here\n",
    "\n",
    "\n"
   ]
  },
  {
   "cell_type": "code",
   "execution_count": 44,
   "metadata": {
    "run_control": {
     "read_only": false
    }
   },
   "outputs": [
    {
     "data": {
      "text/html": [],
      "text/plain": [
       "Interact.ToggleButton(1: \"input\" = false Bool , \"Answer\", false)"
      ]
     },
     "metadata": {},
     "output_type": "display_data"
    },
    {
     "data": {
      "text/markdown": [
       "\n"
      ],
      "text/plain": [
       "Revealables.Revealable(\"### Answer A\\nI chose to use a `for` loop on this, but a `while` loop with a counter would work perfectly well also.\\n<code>\\nfunction fibstring(n)\\n    fibs = [1, 1]  # preloading the array fibs and variables\\n    a = 1\\n    b = 1\\n    for x in 1:(n - 2)  # I have 2 elements, so for n elements total I need (n - 2) more\\n            c = a + b  # find the next term...\\n            a = b  # ...and redefine the other variables\\n            b = c\\n            push!(fibs, c)  # finally tack c on the end of fibs; this step could have been earlier\\n    end\\n    println(fibs)  # at the end, print out the final list\\nend\\n</code>\\n\", \"Answer\", false, false)"
      ]
     },
     "execution_count": 44,
     "metadata": {
      "comm_id": "4f51df68-0a9e-446f-b22d-da394a1464fb",
      "reactive": true
     },
     "output_type": "execute_result"
    },
    {
     "name": "stderr",
     "output_type": "stream",
     "text": [
      "WARNING: Compat.ASCIIString is deprecated, use String instead.\n",
      "  likely near C:\\Users\\Victoria Docherty\\.julia\\v0.6\\IJulia\\src\\kernel.jl:31\n",
      "WARNING: Compat.ASCIIString is deprecated, use String instead.\n",
      "  likely near C:\\Users\\Victoria Docherty\\.julia\\v0.6\\IJulia\\src\\kernel.jl:31\n"
     ]
    }
   ],
   "source": [
    "revealable(ans109A)"
   ]
  },
  {
   "cell_type": "markdown",
   "metadata": {},
   "source": [
    "###Practice Problem B\n",
    "Recall that a useful application of vectors is the equation $new = old + scalar · vector$. \n",
    "\n",
    "Write a function `vector(s, t)` where `s` and `t` are points in array form. This function must:\n",
    "* calculate the vector from `s` to `t`\n",
    "* calculate another point `v` along the same vector, but 1.5 times farther from `s` than `t`\n",
    "* report the vector and the point `v` in user-friendly language."
   ]
  },
  {
   "cell_type": "code",
   "execution_count": null,
   "metadata": {
    "collapsed": true,
    "run_control": {
     "read_only": false
    }
   },
   "outputs": [],
   "source": [
    "# Code here\n",
    "\n",
    "\n",
    "\n",
    "\n",
    "# As an extra challenge, can you figure out\n",
    "# how to report back the vector and point in \"proper\" form,\n",
    "# not as arrays but as a vector and a coordinate point? "
   ]
  },
  {
   "cell_type": "code",
   "execution_count": null,
   "metadata": {
    "collapsed": true,
    "run_control": {
     "read_only": false
    }
   },
   "outputs": [],
   "source": [
    "# Don't forget to test your code!\n"
   ]
  },
  {
   "cell_type": "code",
   "execution_count": 45,
   "metadata": {},
   "outputs": [
    {
     "data": {
      "text/html": [],
      "text/plain": [
       "Interact.ToggleButton(4: \"input-2\" = false Bool , \"Answer\", false)"
      ]
     },
     "metadata": {},
     "output_type": "display_data"
    },
    {
     "data": {
      "text/markdown": [
       "\n"
      ],
      "text/plain": [
       "Revealables.Revealable(\"### Answer B\\n<code>\\nfunction vector(s, t)\\n    vec = t - s\\n    println (\\\"The vector from s to t is \\$vec\\\")\\n    v = s + 1.5 \\\\* vec\\n    println(\\\"The new point v is \\$v\\\")\\nend\\n</code>\\n\", \"Answer\", false, false)"
      ]
     },
     "execution_count": 45,
     "metadata": {
      "comm_id": "c772a983-f522-4ca2-8f7c-6ba08d427dbc",
      "reactive": true
     },
     "output_type": "execute_result"
    },
    {
     "name": "stderr",
     "output_type": "stream",
     "text": [
      "WARNING: Compat.ASCIIString is deprecated, use String instead.\n",
      "  likely near C:\\Users\\Victoria Docherty\\.julia\\v0.6\\IJulia\\src\\kernel.jl:31\n"
     ]
    }
   ],
   "source": [
    "revealable(ans109B)"
   ]
  },
  {
   "cell_type": "markdown",
   "metadata": {},
   "source": [
    "###Practice Problem C\n",
    "\n",
    "Sometimes when working with vectors it's important to find a unit vector for a given vector $\\vec{v}$. This unit vector goes the same direction as $\\vec{v}$ but has a magnitude of 1. To find it, you first [find the magnitude](http://mathinsight.org/vectors_cartesian_coordinates_2d_3d) of $\\vec{v}$ using Pythagorean Theorem, then divide each term in $\\vec{v}$ by that magnitude.\n",
    "\n",
    "Write a program that finds the unit vector of a given vector $\\vec{v}$. Don’t forget to test your code!\n"
   ]
  },
  {
   "cell_type": "code",
   "execution_count": null,
   "metadata": {
    "collapsed": true,
    "run_control": {
     "read_only": false
    }
   },
   "outputs": [],
   "source": [
    "# Code here"
   ]
  },
  {
   "cell_type": "code",
   "execution_count": null,
   "metadata": {
    "collapsed": true,
    "run_control": {
     "read_only": false
    }
   },
   "outputs": [],
   "source": [
    "# Test here"
   ]
  },
  {
   "cell_type": "code",
   "execution_count": 46,
   "metadata": {
    "run_control": {
     "read_only": false
    }
   },
   "outputs": [
    {
     "data": {
      "text/html": [],
      "text/plain": [
       "Interact.ToggleButton(7: \"input-3\" = false Bool , \"Answer\", false)"
      ]
     },
     "metadata": {},
     "output_type": "display_data"
    },
    {
     "data": {
      "text/markdown": [
       "\n"
      ],
      "text/plain": [
       "Revealables.Revealable(\"### Answer C\\n<code>\\nfunction unitize(v)\\n    n = length(v)  # so I know where to stop in my for loop later\\n    sum = 0  # seed 0 for the current sum\\n    for x in 1:n  # repeat for each element of v\\n        sum = sum + (v[x])^2  # augment sum with value of next term, squared -- Pythagorean Theorem\\n    end\\n    mag = sqrt(sum)  # finish with square root of the sum of squares, to find magnitude\\n    v = v/mag  # replace old vector v with unitized elements\\n    println(\\\"The unitized vector is \\$v\\\")\\nend\\n</code>\\n\", \"Answer\", false, false)"
      ]
     },
     "execution_count": 46,
     "metadata": {
      "comm_id": "b5d0138f-8f20-4784-88be-8295bacbdcab",
      "reactive": true
     },
     "output_type": "execute_result"
    }
   ],
   "source": [
    "revealable(ans109C)"
   ]
  },
  {
   "cell_type": "markdown",
   "metadata": {},
   "source": [
    "###Practice Problem D\n",
    "A common calculation with vectors is the \"dot product.\" Assuming the two vectors are the same length, you find the product of both first terms, then both second terms, then both third terms, and so on; then you add the results.\n",
    "\n",
    "Write a function `Dot(a, b)` that finds the dot product of two vectors $\\vec{a}$ and $\\vec{b}$. Test your code.\n",
    "\n",
    "Julia already has a `dot(a,b)` function. Don't use it for this exercise (except maybe to check your program's output).\n",
    "\n",
    "Too easy? Add a section of code that returns an error if the two vectors are not the same length."
   ]
  },
  {
   "cell_type": "code",
   "execution_count": null,
   "metadata": {
    "collapsed": true,
    "run_control": {
     "read_only": false
    }
   },
   "outputs": [],
   "source": [
    "# Code here\n"
   ]
  },
  {
   "cell_type": "code",
   "execution_count": null,
   "metadata": {
    "collapsed": true,
    "run_control": {
     "read_only": false
    }
   },
   "outputs": [],
   "source": [
    "# Test here"
   ]
  },
  {
   "cell_type": "code",
   "execution_count": 47,
   "metadata": {
    "run_control": {
     "read_only": false
    }
   },
   "outputs": [
    {
     "data": {
      "text/html": [],
      "text/plain": [
       "Interact.ToggleButton(10: \"input-4\" = false Bool , \"Answer\", false)"
      ]
     },
     "metadata": {},
     "output_type": "display_data"
    },
    {
     "data": {
      "text/markdown": [
       "\n"
      ],
      "text/plain": [
       "Revealables.Revealable(\"### Answer D\\nIf you create an empty array without telling Julia what kind of objects you're going to put in it, you won't be able to increase the size of the array later. That's why I have the line `products = Number[]`. That tells Julia to save space for some Numbers in that array.\\n\\n<code>\\nfunction Dot(a, b)\\n    n = length(a)  # find the length of a for my loop later\\n    products = Number[]  # preload products as the empty set\\n    for x in 1:n  # stop when we run out of elements to multiply.\\n            k = a[x] \\\\* b[x]  # multiply each term in order...\\n            push!(products, k)  # ...and push that onto the end of products\\n        end\\n    println(\\\"The dot product is \\$(sum(products))\\\")\\nend\\n</code>\\n\", \"Answer\", false, false)"
      ]
     },
     "execution_count": 47,
     "metadata": {
      "comm_id": "f899f0e8-5c0b-43ab-be83-9e78307a4b3d",
      "reactive": true
     },
     "output_type": "execute_result"
    }
   ],
   "source": [
    "revealable(ans109D)"
   ]
  },
  {
   "cell_type": "code",
   "execution_count": null,
   "metadata": {
    "collapsed": true,
    "run_control": {
     "read_only": false
    }
   },
   "outputs": [],
   "source": []
  }
 ],
 "metadata": {
  "kernelspec": {
   "display_name": "Julia 0.6.0",
   "language": "julia",
   "name": "julia-0.6"
  },
  "language_info": {
   "file_extension": ".jl",
   "mimetype": "application/julia",
   "name": "julia",
   "version": "0.6.0"
  }
 },
 "nbformat": 4,
 "nbformat_minor": 1
}
