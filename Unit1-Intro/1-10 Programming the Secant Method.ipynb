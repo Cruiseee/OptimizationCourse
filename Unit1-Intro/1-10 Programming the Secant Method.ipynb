{
 "cells": [
  {
   "cell_type": "markdown",
   "metadata": {
    "run_control": {
     "read_only": false
    }
   },
   "source": [
    "#Programming the Secant Method\n",
    "As you recall, the secant method is used to approximate the root of a function: \n",
    "\n",
    "<img src=\"files/1-10/secant.png\" align=\"left\" width=150 />\n",
    "1. Find <font color=\"#339966\">two points</font> that are fairly close to each other and to the x-intercept of the function.\n",
    "2. Find the equation of the <font color=\"#336699\">connecting line</font>.\n",
    "3. Find where that <font color=\"#336699\">line</font> crosses the axis.\n",
    "4. Repeat using the new point and one of the old points.\n",
    "\n",
    "\n",
    "\n",
    "\n"
   ]
  },
  {
   "cell_type": "code",
   "execution_count": null,
   "metadata": {
    "run_control": {
     "read_only": false
    }
   },
   "outputs": [],
   "source": [
    "using Revealables\n",
    "include(\"files/answers.jl\")"
   ]
  },
  {
   "cell_type": "markdown",
   "metadata": {},
   "source": [
    "##Chapter 1 Summary Problem\n",
    "Write a program `secant(f, a, b)` that will use the secant method to approximate the root of a pre-loaded function `f`, starting with $x = a$ and $x = b$. The program should find the root to within a tolerance of 0.00001.\n",
    "\n",
    "Oh – and don't forget to test your code.\n"
   ]
  },
  {
   "cell_type": "code",
   "execution_count": null,
   "metadata": {
    "collapsed": true,
    "run_control": {
     "read_only": false
    }
   },
   "outputs": [],
   "source": [
    "# Your secant function!"
   ]
  },
  {
   "cell_type": "markdown",
   "metadata": {},
   "source": [
    "An extension is to program, not a tolerance, but a given number of iterations. This one may return `NaN` (not a number) because when $a = b$ the slope is undefined; they will need to program in a stop line to catch that error. It's cool to print out the successive values of the x-intercept for each iteration to see the rapid convergence on the zero."
   ]
  },
  {
   "cell_type": "code",
   "execution_count": null,
   "metadata": {
    "input_collapsed": true,
    "run_control": {
     "read_only": false
    }
   },
   "outputs": [],
   "source": [
    "revealable(ans110)"
   ]
  },
  {
   "cell_type": "markdown",
   "metadata": {},
   "source": [
    "##The Amazing Thing\n",
    "Big deal, we found a root.\n",
    "\n",
    "But what this enables us to do is to solve any equation. For example,\n",
    "$$\\underbrace{3x^2 – 2sinx = e^{2x} – x}_{not~solvable}$$ \n",
    "can be changed into\n",
    "\t$$3x^2 – 2sinx + x – e^{2x} = 0$$\n",
    "    \n",
    "We can find its zeroes/roots using our program and thereby solve the equation.\n",
    "\n",
    "This (or something like it) is how graphing calculators find roots of functions."
   ]
  }
 ],
 "metadata": {
  "kernelspec": {
   "display_name": "Julia 0.6.0",
   "language": "julia",
   "name": "julia-0.6"
  },
  "language_info": {
   "file_extension": ".jl",
   "mimetype": "application/julia",
   "name": "julia",
   "version": "0.6.0"
  }
 },
 "nbformat": 4,
 "nbformat_minor": 1
}
