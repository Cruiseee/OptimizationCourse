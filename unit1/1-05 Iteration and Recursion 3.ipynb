{
 "cells": [
  {
   "cell_type": "markdown",
   "metadata": {
    "run_control": {
     "read_only": false
    }
   },
   "source": [
    "#Iteration and Recursion 3: Finding a 3-Point Interval\n",
    "Sorry, basketball fans&mdash;it's not related!"
   ]
  },
  {
   "cell_type": "code",
   "execution_count": 19,
   "metadata": {
    "collapsed": false,
    "input_collapsed": false,
    "run_control": {
     "read_only": false
    }
   },
   "outputs": [],
   "source": [
    "# Let these packages load while you read\n",
    "using Images\n",
    "using Interact\n",
    "using Reactive\n",
    "using Revealables\n",
    "include(\"files/answers.jl\");"
   ]
  },
  {
   "cell_type": "markdown",
   "metadata": {},
   "source": [
    "##The Premise\n",
    "If your goal is to optimize (maximize or minimize) the value of an equation, one of the very first steps is to find an interval where that value might occur.\n",
    "\n",
    "For example, when using the Secant Method, even before the first iterative step, we found two points that were close to the desired root. In order to do this, we first had to obtain a graph or table of values so we could get a ballpark estimate of where the root might be.\n",
    "\n",
    "Similarly, when you’re trying to find a maximum or minimum value of a function, you need a ballpark estimate of where the optimal point might be before you can begin the iterative process. This interval becomes the starting location for whatever procedure you use to find the maximum or minimum."
   ]
  },
  {
   "cell_type": "code",
   "execution_count": 7,
   "metadata": {
    "collapsed": false,
    "input_collapsed": true,
    "run_control": {
     "read_only": false
    }
   },
   "outputs": [
    {
     "data": {
      "text/html": [],
      "text/plain": [
       "ToggleButton([Input{Bool}] false,\"The starting point is obvious if you know the graph, but what if you don't?\",false)"
      ]
     },
     "metadata": {},
     "output_type": "display_data"
    },
    {
     "data": {
      "image/png": "[encoded data removed]",
      "text/plain": [
       "RGBA Image with:\n",
       "  data: 470x213 Array{AlphaColorValue{RGB{Float64},Float64},2}\n",
       "  properties:\n",
       "    imagedescription: <suppressed>\n",
       "    spatialorder:  x y\n",
       "    pixelspacing:  2 2"
      ]
     },
     "execution_count": 7,
     "metadata": {
      "comm_id": "d2858b9a-ea6f-4841-86f1-e0f7e9959fac",
      "reactive": true
     },
     "output_type": "execute_result"
    }
   ],
   "source": [
    "img1 = Images.imread(\"files/1-5/findmax.png\")\n",
    "img2 = Images.imread(\"files/1-5/findmax2.png\")\n",
    "@manipulate for y in togglebutton(; label=\"The starting point is obvious if you know the graph, but what if you don't?\", value=false, signal=Input(false))\n",
    "    if y\n",
    "        restrict(img2)\n",
    "    else\n",
    "        restrict(img1)\n",
    "    end\n",
    "end"
   ]
  },
  {
   "cell_type": "markdown",
   "metadata": {
    "input_collapsed": true
   },
   "source": [
    "A graphing calculator might be helpful if your graph is one-dimensional (independent variable = `x`, response = `y`). But graphing calculators don't work so well when you have two or three or five or twenty independent variables, which happens. We’re going to stick with one independent variable for educational purposes, but the basic idea is the same (and often, this exact procedure is a step) in high-dimension optimization.\n",
    "\n",
    "Also, when we transfer over to computers... well, let’s just say \"look at the graph\" is not a command that computers understand. Humans have the advantage of eyes, computers have the advantage of being able to operate on ugly decimals with astonishing speed. It's a trade-off. Here, we're learning how to convince a computer to find an optimal point, without eyes."
   ]
  },
  {
   "cell_type": "markdown",
   "metadata": {},
   "source": [
    "##Step 1: Pick a point\n",
    "\n",
    "The first thing you do is find a point. Any point. Since you have no clues about the graph or its shape, you're flying blind. Pick your favorite number (π? Actually, let's pick 2) and plug it in."
   ]
  },
  {
   "cell_type": "code",
   "execution_count": 8,
   "metadata": {
    "collapsed": false,
    "run_control": {
     "read_only": false
    }
   },
   "outputs": [
    {
     "data": {
      "text/plain": [
       "0.1879567361672482"
      ]
     },
     "execution_count": 8,
     "metadata": {},
     "output_type": "execute_result"
    }
   ],
   "source": [
    "f(x) = sin(x)^3/x^2 # This is our mystery function. Don't graph it!\n",
    "\n",
    "x1 = 2 # Our first x-coordinate is 2...\n",
    "\n",
    "f(x1) # And we can calculate the y-coordinate"
   ]
  },
  {
   "cell_type": "markdown",
   "metadata": {},
   "source": [
    "Notice that we still have no information about the shape of the graph.\n",
    "\n",
    "##Step 2: Pick an interval value\n",
    "\n",
    "Next, you find a second point pretty close to the first. You can do this by guessing a second number, but you can save steps later by just picking an interval value, which I’ll call $h$. your second point will have an x-coordinate $h$ units larger than the first."
   ]
  },
  {
   "cell_type": "code",
   "execution_count": 9,
   "metadata": {
    "collapsed": false,
    "run_control": {
     "read_only": false
    }
   },
   "outputs": [
    {
     "data": {
      "text/plain": [
       "0.03429665822148522"
      ]
     },
     "execution_count": 9,
     "metadata": {},
     "output_type": "execute_result"
    }
   ],
   "source": [
    "# x1 is still 2, and f(x1) is still... whatever you calculated it to be.\n",
    "\n",
    "h = 0.5\n",
    "\n",
    "x2 = x1 + h\n",
    "\n",
    "f(x2) # The next y-coordinate"
   ]
  },
  {
   "cell_type": "markdown",
   "metadata": {
    "input_collapsed": false
   },
   "source": [
    "<img src=\"files/1-5/interval_right.png\" width=250 align=\"right\" />Since we chose $x_1 = 2$ and $h = 0.5$, we have points at $(2,~f(2))$ and $(2.5,~f(2.5))$.\n",
    "\n",
    "##Step 3: The initial test\n",
    "\n",
    "Once you have the second point, you compare it to the first.\n",
    "\n",
    "* If you're seeking a _minimum_, you want your second point to be lower (smaller $y$) than the first.\n",
    "* If you're seeking a _maximum_, you want your second point to be higher (larger $y$).\n",
    "\n",
    "Let's say we want to find a maximum."
   ]
  },
  {
   "cell_type": "code",
   "execution_count": 10,
   "metadata": {
    "collapsed": false,
    "run_control": {
     "read_only": false
    }
   },
   "outputs": [
    {
     "data": {
      "text/plain": [
       "false"
      ]
     },
     "execution_count": 10,
     "metadata": {},
     "output_type": "execute_result"
    }
   ],
   "source": [
    "f(x1) < f(x2) # Is the second point higher than the first?"
   ]
  },
  {
   "cell_type": "markdown",
   "metadata": {},
   "source": [
    "If the second point fails the test, change your $h$ to $–h$ and try again with $(x,~ f(x))$ and $(x-h,~ f(x-h))$.<img src=\"files/1-5/interval_left.png\" width=350 align=\"right\" />\n",
    "\n",
    "If the graph is decreasing to the right, it’s usually increasing to the left, and vice-versa."
   ]
  },
  {
   "cell_type": "code",
   "execution_count": 11,
   "metadata": {
    "collapsed": false,
    "run_control": {
     "read_only": false
    }
   },
   "outputs": [
    {
     "data": {
      "text/plain": [
       "0.4411127863863623"
      ]
     },
     "execution_count": 11,
     "metadata": {},
     "output_type": "execute_result"
    }
   ],
   "source": [
    "# x1 is (still) 2, f(x1) is still 0.1879567...\n",
    "\n",
    "x3 = x1 - h # Now we're checking an x-coordinate on the other side of x1\n",
    "\n",
    "f(x3) # For a maximum, we would like this to be bigger than f(x1)"
   ]
  },
  {
   "cell_type": "markdown",
   "metadata": {},
   "source": [
    "###Practice Problem A\n",
    "For the given function $f(x)$, starting point $x$, and interval $h$, find the three points $(x,~f(x))$, $(x+h,~f(x+h))$, and $(x-h,~f(x-h))$. \n",
    "\n",
    "What is the direction of increase (left or right)? What is the direction of decrease? \n",
    "\n",
    "1. $f(x) = x^2 + 3,~x = 4,~h = 0.1$\n",
    "    \n",
    "2. $f(x) = 2x^3 – 4x^2 + 17,~x = 2,~h = 1$\n",
    "    \n",
    "3. $f(x) = e^x – 4x + 2,~x = 0,~h = 0.5$\n"
   ]
  },
  {
   "cell_type": "code",
   "execution_count": 12,
   "metadata": {
    "collapsed": true,
    "run_control": {
     "read_only": false
    }
   },
   "outputs": [],
   "source": [
    "# Try it in this code cell!\n",
    "\n",
    "\n",
    "\n"
   ]
  },
  {
   "cell_type": "code",
   "execution_count": 21,
   "metadata": {
    "collapsed": false,
    "input_collapsed": true,
    "run_control": {
     "read_only": false
    }
   },
   "outputs": [
    {
     "data": {
      "text/html": [],
      "text/plain": [
       "ToggleButton([Input{Bool}] true,\"Show/Hide Answer\",true)"
      ]
     },
     "metadata": {},
     "output_type": "display_data"
    },
    {
     "data": {
      "text/markdown": [
       "###Answer A\n",
       "1. In order from left to right: (3.9, 18.21), (4, 19), (4.1, 19.81). Increases right, decreases left.\n",
       "\n",
       "2. (1, 15), (2, 17), (3, 35). Increases right, decreases left\n",
       "\n",
       "3. (-0.5, 4.61), (0, 3), (0.5, 1.65). Increases left, decreases right.\n",
       "\n"
      ],
      "text/plain": [
       "Revealable(\"###Answer A\\n1. In order from left to right: (3.9, 18.21), (4, 19), (4.1, 19.81). Increases right, decreases left.\\n\\n2. (1, 15), (2, 17), (3, 35). Increases right, decreases left\\n\\n3. (-0.5, 4.61), (0, 3), (0.5, 1.65). Increases left, decreases right.\\n\",\"Answer\",true)"
      ]
     },
     "metadata": {},
     "output_type": "display_data"
    },
    {
     "data": {
      "text/plain": [
       "nothing"
      ]
     },
     "execution_count": 21,
     "metadata": {
      "comm_id": "69f37219-52a7-4a7d-99f2-2adae3fc3b94",
      "reactive": true
     },
     "output_type": "execute_result"
    }
   ],
   "source": [
    "revealable(ans105A)"
   ]
  },
  {
   "cell_type": "markdown",
   "metadata": {},
   "source": [
    "##Step 4: After the initial test\n",
    "\n",
    "Once you know your direction, take another step in that direction using the same value of $h$.\n",
    "\n",
    "If you were _minimizing_ a _decreasing function_ it might look like this:\n",
    "\n",
    "<img src=\"files/1-5/min2ints.png\" width=350 align=\"center\" />\n",
    "\n",
    "Now you have 3 points."
   ]
  },
  {
   "cell_type": "markdown",
   "metadata": {
    "collapsed": true,
    "run_control": {
     "read_only": false
    }
   },
   "source": [
    "##The Goal\n",
    "\n",
    "If you're looking for a _minimum_, your ultimate goal is to find an interval of three points such that the point in the middle is lower than both endpoints:\n",
    "\n",
    "<img src=\"files/1-5/mingoal.png\" width=350 align=\"center\" />\n",
    "\n",
    "When you get this type of picture, you know there is a minimum somewhere in the interval between $x_k$ and $x_{k+2}$. \n",
    "\n",
    "For a maximum, it would be the reverse: three points such that the middle point is higher than both endpoints. "
   ]
  },
  {
   "cell_type": "markdown",
   "metadata": {
    "collapsed": true,
    "run_control": {
     "read_only": false
    }
   },
   "source": [
    "##The Loop\n",
    "\n",
    "1. Start with $(x,~f(x))$.\n",
    "2. Find $(x+h,~f(x+h))$ and check if it's going the right direction. If not, find $(x-h,~f(x-h))$.\n",
    "3. Take one more step in the $h$ or $–h$ direction.\n",
    "4. Check if you have reached the goal (middle point higher/lower than both endpoints). \n",
    "    - If yes, stop.\n",
    "    - If no, return to step 3.\n",
    "\n",
    "The endpoints will be the most recent point and the 3rd-most-recent point. The middle point will be the 2nd-most-recent point. \n",
    "\n",
    "Is this process iterative or recursive? Both! The steps of the loop are iterative. However, the loop is also recursive because as we walk from interval to interval with this procedure, each new point starts life as an endpoint, then drifts to middle point, then becomes the other endpoint, then out of consideration. The output of each iteration (a new point) becomes part of the input to the next test.\n"
   ]
  },
  {
   "cell_type": "markdown",
   "metadata": {},
   "source": [
    "###Practice Problem B\n",
    "\n",
    "For the given function f(x), starting point x, and interval h, use the steps to find a 3-point interval without referencing a graph:\n",
    "\n",
    "1. $f(x) = x^2 – 4x,~x = 0,~h = 0.6$, interval contains the minimum\n",
    "    \n",
    "2. $f(x) = x^3 – 5x^2 + 3x + 2,~x = 2,~h = 0.5$, interval contains the maximum\n",
    "\n",
    "These problems worked nicely without having to change $h$ too much. That won't always be true, so enjoy it while it lasts!"
   ]
  },
  {
   "cell_type": "code",
   "execution_count": null,
   "metadata": {
    "collapsed": true,
    "run_control": {
     "read_only": false
    }
   },
   "outputs": [],
   "source": [
    "# Do your calculations here\n",
    "\n",
    "\n",
    "\n",
    "\n"
   ]
  },
  {
   "cell_type": "code",
   "execution_count": 4,
   "metadata": {
    "collapsed": false,
    "input_collapsed": true,
    "run_control": {
     "read_only": false
    }
   },
   "outputs": [
    {
     "data": {
      "text/html": [],
      "text/plain": [
       "ToggleButton([Input{Bool}] false,\"Show/Hide Answer\",false)"
      ]
     },
     "metadata": {},
     "output_type": "display_data"
    },
    {
     "data": {
      "text/markdown": [
       "\n"
      ],
      "text/plain": [
       "Revealable(\"###Answer B\\n1. Points should be: (0, 0) (0.6, -2.04) (1.2, -3.36) (1.8, -3.96) (2.4, -3.84). The interval/answer is bolded.\\n\\n2. (2, -4) (2.5, -6.125) This is going the wrong direction; change step to -0.5. [If you didn't pay attention, you got the minimum, around 3.] Complete answer: (2, -4) (1.5, -1.375) (1, 1) (.5, 2.375) (0, 2)\\n\",\"Answer\",false)"
      ]
     },
     "execution_count": 4,
     "metadata": {
      "comm_id": "96625055-2aa0-4306-8467-b397142f7a88",
      "reactive": true
     },
     "output_type": "execute_result"
    }
   ],
   "source": [
    "revealable(ans105B)"
   ]
  },
  {
   "cell_type": "markdown",
   "metadata": {},
   "source": [
    "##The problem with $h$\n",
    "\n",
    "In the practice problems, $h$ was chosen for you on purpose, because determining $h$ brings up a pervasive issue:\n",
    "- If $h$ is too big, your margin of error is large and you risk skipping over the maximum or minimum completely.\n",
    "- If $h$ is too small, the calculations become too numerous. You don’t want it to require a thousand calculations each time it cycles through.\n"
   ]
  },
  {
   "cell_type": "markdown",
   "metadata": {},
   "source": [
    "##The Loop, <font color=\"red\">Modified</font>\n",
    "\n",
    "1. Start with $(x,~f(x))$.\n",
    "2. Find $(x+h,~f(x+h))$ and check if it's going the right direction. If not, find $(x-h,~f(x-h))$.\n",
    "3. Take one more step in the $h$ or $–h$ direction.\n",
    "4. Check if you have reached the goal (middle point higher/lower than both endpoints). \n",
    "    - If yes, stop.\n",
    "        - If no, <font color=\"red\">increase $h$ and</font> return to step 3."
   ]
  },
  {
   "cell_type": "markdown",
   "metadata": {},
   "source": [
    "##Solving the problem with $h$\n",
    "\n",
    "One solution is to start with small values of $h$ (like 0.1) and then increase $h$ as the loop continues to iterate.\n",
    "\n",
    "Doubling $h$ is troublesome because it gets too big too fast: $h,~ 2h,~ 4h,~ 8h,~ 16h,~ 32h,~ 64h,~ 128h...$\n",
    "\n",
    "Multiplying $h$ by 1.5 makes ugly decimals that eventually lead to rounding errors: $h,~ 1.5h,~ 2.25h,~ 3.375h,~ 5.0625h,~ 7.59375h...$\n",
    "\n",
    "So a good compromise is to use Fibonacci numbers: $h,~ h,~ 2h,~ 3h,~ 5h,~ 8h,~ 13h,~ 21h...$\n",
    "\n"
   ]
  },
  {
   "cell_type": "markdown",
   "metadata": {},
   "source": [
    "##Problems with the procedure\n",
    "<img src=\"files/1-5/problems.png\" width=250 align=\"left\" />\n",
    "__This procedure will only find a _local_ minimum or maximum, not necessarily the _absolute_ minimum or maximum.__ There is no easy way to prevent this error, but some advanced methods have been developed to do so.\n",
    "\n",
    "__If the function is unbounded, you might not find an interval at all.__ You can either introduce a boundary (like $x$ must be between \\_\\_\\_ and \\_\\_\\_ ), or you can stop the process if you appear to be heading off toward infinity, and start again with a different $x$.\n"
   ]
  },
  {
   "cell_type": "markdown",
   "metadata": {},
   "source": [
    "###Practice Problem C\n",
    "\n",
    "Choose an $x$ and $h$ and use the iterative procedure to find a 3-point interval. Go step by step!\n",
    "1. $f(x) = x^3 – 10x^2 – 400x + 4000$, interval contains a maximum.\n",
    "\n",
    "2. $f(x) = e^x – 2xsin(x) – 20x$, interval contains a minimum.\n",
    "\n",
    "You may graph to _check_ your work, but not to start it.\n"
   ]
  },
  {
   "cell_type": "code",
   "execution_count": 15,
   "metadata": {
    "collapsed": true,
    "run_control": {
     "read_only": false
    }
   },
   "outputs": [],
   "source": [
    "# Do work here\n",
    "\n",
    "\n"
   ]
  },
  {
   "cell_type": "code",
   "execution_count": 22,
   "metadata": {
    "collapsed": false,
    "input_collapsed": true,
    "run_control": {
     "read_only": false
    }
   },
   "outputs": [
    {
     "data": {
      "text/html": [],
      "text/plain": [
       "ToggleButton([Input{Bool}] false,\"Show/Hide Answer\",false)"
      ]
     },
     "metadata": {},
     "output_type": "display_data"
    },
    {
     "data": {
      "text/markdown": [
       "\n"
      ],
      "text/plain": [
       "Revealable(\"###Answer C\\nAnswers will vary greatly depending on starting \\$x\\$, starting \\$h\\$, and how you increment \\$h\\$ (Fibonacci numbers are only a suggestion).\\n\\nMake sure you are beginning with a small \\$h\\$ (at most 0.5). It will ramp up fairly quickly as you increase its value.\\n\\n1. The local maximum is at \\$x = -8.6852\\$. Note that this cubic is unbounded on both left and right so if you choose a starting \\$x\\$ greater than 12 or so, your numbers will fly off to infinity.\\n\\n2. This function has a few local minima past -12, but as long as you choose an \\$x\\$-value greater than -11 or so, you should reach the absolute minimum at around \\$x = 2.75172\\$.\\n\",\"Answer\",false)"
      ]
     },
     "metadata": {},
     "output_type": "display_data"
    },
    {
     "data": {
      "text/plain": [
       "nothing"
      ]
     },
     "execution_count": 22,
     "metadata": {
      "comm_id": "ea2a125f-79f8-472a-85c3-bb53342121ad",
      "reactive": true
     },
     "output_type": "execute_result"
    }
   ],
   "source": [
    "revealable(ans105C)"
   ]
  },
  {
   "cell_type": "code",
   "execution_count": null,
   "metadata": {
    "collapsed": true,
    "run_control": {
     "read_only": false
    }
   },
   "outputs": [],
   "source": []
  }
 ],
 "metadata": {
  "kernelspec": {
   "display_name": "Julia 0.3.10",
   "language": "julia",
   "name": "julia-0.3"
  },
  "language_info": {
   "file_extension": ".jl",
   "mimetype": "application/julia",
   "name": "julia",
   "version": "0.3.10"
  }
 },
 "nbformat": 4,
 "nbformat_minor": 0
}
