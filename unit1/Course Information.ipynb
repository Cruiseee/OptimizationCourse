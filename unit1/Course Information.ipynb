{
 "cells": [
  {
   "cell_type": "markdown",
   "metadata": {},
   "source": [
    "#Optimization Course Information"
   ]
  },
  {
   "cell_type": "markdown",
   "metadata": {},
   "source": [
    "##Course Outline\n",
    "*   Unit 1: Introductions and Skills  \n",
    "    *Optimization, vectors, iteration and recursion, foundational programming skills*\n",
    "*   Unit 2: Non-calculus methods without constraints  \n",
    "    *Methods in two dimensions using computers; extension to methods in three or more dimensions*\n",
    "*   Unit 3: Non-calculus methods with constraints  \n",
    "    *Linear programming*\n",
    "*   Unit 4: Calculus methods without constraints  \n",
    "    *Newton’s method and review of derivative meaning; derivatives in 3D and above with implications for optimization*\n",
    "*   Unit 5: Calculus methods with constraints  \n",
    "    *Penalty functions; overview of other methods; Lagrange multipliers*\n"
   ]
  },
  {
   "cell_type": "markdown",
   "metadata": {
    "collapsed": true,
    "run_control": {
     "read_only": false
    }
   },
   "source": [
    "##Audience\n",
    "* First three units: math content around Algebra 1 level, analytical skills approaching Calculus. Students at the Pre-Calculus level should feel comfortable. Skilled, motivated students in Algebra 1 can certainly give it a shot.\n",
    "* Last two units: Calculus required – know how to take derivatives and be familiar with their implications for finding maxima and minima.\n",
    "* Computer programming skills will be taught from the ground up. Previous experience is not necessary. \n"
   ]
  },
  {
   "cell_type": "markdown",
   "metadata": {
    "input_collapsed": false,
    "run_control": {
     "read_only": false
    }
   },
   "source": [
    "##Credits#\n",
    "\n",
    "These slides were adapted from a curriculum developed by Julia Roberts, a mathematics teacher at Cupertino High School in San Jose. They were adapted into notebooks by Renee Trochet, a mathematics teacher at Eastside College Prep in East Palo Alto. This series of lessons was created with support from Professor Mykel Kochenderfer at Stanford University, under a grant from the National Science Foundation through the IISME (Industry Initiatives for Science and Math Education) program. "
   ]
  },
  {
   "cell_type": "code",
   "execution_count": null,
   "metadata": {
    "collapsed": true
   },
   "outputs": [],
   "source": []
  }
 ],
 "metadata": {
  "kernelspec": {
   "display_name": "Julia 0.3.10",
   "language": "julia",
   "name": "julia-0.3"
  },
  "language_info": {
   "file_extension": ".jl",
   "mimetype": "application/julia",
   "name": "julia",
   "version": "0.3.10"
  }
 },
 "nbformat": 4,
 "nbformat_minor": 0
}
