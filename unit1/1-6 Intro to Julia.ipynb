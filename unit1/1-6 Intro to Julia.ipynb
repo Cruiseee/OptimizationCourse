{
 "cells": [
  {
   "cell_type": "markdown",
   "metadata": {
    "run_control": {
     "read_only": false
    }
   },
   "source": [
    "# 1-6 Intro to Julia"
   ]
  },
  {
   "cell_type": "code",
   "execution_count": null,
   "metadata": {
    "collapsed": false,
    "run_control": {
     "read_only": false
    }
   },
   "outputs": [],
   "source": [
    "using Revealables\n",
    "include(\"files/answers.jl\");"
   ]
  },
  {
   "cell_type": "markdown",
   "metadata": {},
   "source": [
    "##Julia Facts:\n",
    "* Released in 2012\n",
    "* Geared towards  numerical (math) and scientific computing\n",
    "* Open-source, meaning it's free and anyone can contribute\n",
    "* A solid, flexible, powerful language, easy to learn and use but also high-level and fast\n",
    "\n",
    "Why is it named \"Julia\"? One of the developers' friends liked the name. No hidden meaning."
   ]
  },
  {
   "cell_type": "code",
   "execution_count": null,
   "metadata": {
    "collapsed": false,
    "run_control": {
     "read_only": false
    }
   },
   "outputs": [],
   "source": [
    "# Try some arithmetic operations, like adding, dividing, etc.\n",
    "# Type them into this text box (called a \"code cell\")\n",
    "# and hit Shift+Enter to run the code.\n",
    "\n",
    "3*8"
   ]
  },
  {
   "cell_type": "code",
   "execution_count": null,
   "metadata": {
    "collapsed": false,
    "run_control": {
     "read_only": false
    }
   },
   "outputs": [],
   "source": [
    "# Again, hit Shift+Enter to run the code\n",
    "\n",
    "round(5/3,2)"
   ]
  },
  {
   "cell_type": "code",
   "execution_count": null,
   "metadata": {
    "collapsed": false,
    "run_control": {
     "read_only": false
    }
   },
   "outputs": [],
   "source": [
    "2^5"
   ]
  },
  {
   "cell_type": "code",
   "execution_count": null,
   "metadata": {
    "collapsed": false,
    "run_control": {
     "read_only": false
    }
   },
   "outputs": [],
   "source": [
    "sqrt(25)"
   ]
  },
  {
   "cell_type": "code",
   "execution_count": null,
   "metadata": {
    "collapsed": false,
    "run_control": {
     "read_only": false
    }
   },
   "outputs": [],
   "source": [
    "# Make a fraction\n",
    "4//3"
   ]
  },
  {
   "cell_type": "code",
   "execution_count": null,
   "metadata": {
    "collapsed": false,
    "run_control": {
     "read_only": false
    }
   },
   "outputs": [],
   "source": [
    "# Do fraction arithmetic\n",
    "5//6*2//15"
   ]
  },
  {
   "cell_type": "code",
   "execution_count": null,
   "metadata": {
    "collapsed": false,
    "run_control": {
     "read_only": false
    }
   },
   "outputs": [],
   "source": [
    "# Find a remainder\n",
    "126%8"
   ]
  },
  {
   "cell_type": "code",
   "execution_count": null,
   "metadata": {
    "collapsed": false,
    "run_control": {
     "read_only": false
    }
   },
   "outputs": [],
   "source": [
    "# Find a cube root -- no special function; use a fractional exponent\n",
    "27 ^(1/3)"
   ]
  },
  {
   "cell_type": "markdown",
   "metadata": {},
   "source": [
    "Now try some more complicated expressions. What is the output of each one?"
   ]
  },
  {
   "cell_type": "code",
   "execution_count": null,
   "metadata": {
    "collapsed": false,
    "run_control": {
     "read_only": false
    }
   },
   "outputs": [],
   "source": [
    "3*4 + 6^2 - 12 + sin(2pi/3)"
   ]
  },
  {
   "cell_type": "code",
   "execution_count": null,
   "metadata": {
    "collapsed": false,
    "run_control": {
     "read_only": false
    }
   },
   "outputs": [],
   "source": [
    "(5 + 3im)*(6 - 2im)"
   ]
  },
  {
   "cell_type": "code",
   "execution_count": null,
   "metadata": {
    "collapsed": false,
    "run_control": {
     "read_only": false
    }
   },
   "outputs": [],
   "source": [
    "f(x) = x^2 + 8x - 12"
   ]
  },
  {
   "cell_type": "code",
   "execution_count": null,
   "metadata": {
    "collapsed": false,
    "run_control": {
     "read_only": false
    }
   },
   "outputs": [],
   "source": [
    "f(2)"
   ]
  },
  {
   "cell_type": "code",
   "execution_count": null,
   "metadata": {
    "collapsed": false,
    "run_control": {
     "read_only": false
    }
   },
   "outputs": [],
   "source": [
    "f(-1)"
   ]
  },
  {
   "cell_type": "code",
   "execution_count": null,
   "metadata": {
    "collapsed": false,
    "run_control": {
     "read_only": false
    }
   },
   "outputs": [],
   "source": [
    "f(e)"
   ]
  },
  {
   "cell_type": "code",
   "execution_count": null,
   "metadata": {
    "collapsed": false,
    "run_control": {
     "read_only": false
    }
   },
   "outputs": [],
   "source": [
    "rad2deg(pi/2)"
   ]
  },
  {
   "cell_type": "code",
   "execution_count": null,
   "metadata": {
    "collapsed": false,
    "run_control": {
     "read_only": false
    }
   },
   "outputs": [],
   "source": [
    "deg2rad(60)"
   ]
  },
  {
   "cell_type": "markdown",
   "metadata": {},
   "source": [
    "Take notes on Julia tools. Researching can be easily done at [julialang.org](http://julialang.org), especially in the \"standard library\" but also in the documentation. Another good resource is [julia in y minutes](http://learnxinyminutes.com/docs/julia/). However, for stuff you anticipate using often, a toolbox is a must."
   ]
  },
  {
   "cell_type": "markdown",
   "metadata": {},
   "source": [
    "##Variables\n",
    "__Variables__ store values can be named almost anything. Names have to start with a letter."
   ]
  },
  {
   "cell_type": "code",
   "execution_count": null,
   "metadata": {
    "collapsed": false,
    "run_control": {
     "read_only": false
    }
   },
   "outputs": [],
   "source": [
    "x = 2"
   ]
  },
  {
   "cell_type": "markdown",
   "metadata": {},
   "source": [
    "Note that it's important to go left to right. `x = 2` changes the value of `x` to 2, but `2 = x` won't work because you can't change the value of 2."
   ]
  },
  {
   "cell_type": "code",
   "execution_count": null,
   "metadata": {
    "collapsed": false,
    "run_control": {
     "read_only": false
    }
   },
   "outputs": [],
   "source": [
    "3x + 7"
   ]
  },
  {
   "cell_type": "code",
   "execution_count": null,
   "metadata": {
    "collapsed": false,
    "run_control": {
     "read_only": false
    }
   },
   "outputs": [],
   "source": [
    "puppies = 6"
   ]
  },
  {
   "cell_type": "code",
   "execution_count": null,
   "metadata": {
    "collapsed": false,
    "run_control": {
     "read_only": false
    }
   },
   "outputs": [],
   "source": [
    "x + puppies"
   ]
  },
  {
   "cell_type": "markdown",
   "metadata": {},
   "source": [
    "If you've used a graphing calculator, you might be familiar with the miracle that is the \"Ans\" button. Julia has one too! It's called `ans`."
   ]
  },
  {
   "cell_type": "code",
   "execution_count": null,
   "metadata": {
    "collapsed": false,
    "run_control": {
     "read_only": false
    }
   },
   "outputs": [],
   "source": [
    "ans + 2"
   ]
  },
  {
   "cell_type": "code",
   "execution_count": null,
   "metadata": {
    "collapsed": false,
    "run_control": {
     "read_only": false
    }
   },
   "outputs": [],
   "source": [
    "y = ans  # Read left to right--sets y equal to ans"
   ]
  },
  {
   "cell_type": "code",
   "execution_count": null,
   "metadata": {
    "collapsed": false,
    "run_control": {
     "read_only": false
    }
   },
   "outputs": [],
   "source": [
    "y"
   ]
  },
  {
   "cell_type": "code",
   "execution_count": null,
   "metadata": {
    "collapsed": false,
    "run_control": {
     "read_only": false
    }
   },
   "outputs": [],
   "source": [
    "puppies = x  # Again, left to right. puppies is now set equal to x"
   ]
  },
  {
   "cell_type": "code",
   "execution_count": null,
   "metadata": {
    "collapsed": false,
    "run_control": {
     "read_only": false
    }
   },
   "outputs": [],
   "source": [
    "puppies"
   ]
  },
  {
   "cell_type": "code",
   "execution_count": null,
   "metadata": {
    "collapsed": false,
    "run_control": {
     "read_only": false
    }
   },
   "outputs": [],
   "source": [
    "x"
   ]
  },
  {
   "cell_type": "markdown",
   "metadata": {},
   "source": [
    "Near the end, `puppies = x` changes the value of `puppies` to `x` (which was 2), but it does not change the value of `x` (`x` is still 2)."
   ]
  },
  {
   "cell_type": "markdown",
   "metadata": {},
   "source": [
    "##One-Line Functions"
   ]
  },
  {
   "cell_type": "code",
   "execution_count": null,
   "metadata": {
    "collapsed": false,
    "run_control": {
     "read_only": false
    }
   },
   "outputs": [],
   "source": [
    "g(x, y) = x + y"
   ]
  },
  {
   "cell_type": "code",
   "execution_count": null,
   "metadata": {
    "collapsed": false,
    "run_control": {
     "read_only": false
    }
   },
   "outputs": [],
   "source": [
    "g(6, 12)"
   ]
  },
  {
   "cell_type": "code",
   "execution_count": null,
   "metadata": {
    "collapsed": false,
    "run_control": {
     "read_only": false
    }
   },
   "outputs": [],
   "source": [
    "f(x) = 2x + 7"
   ]
  },
  {
   "cell_type": "code",
   "execution_count": null,
   "metadata": {
    "collapsed": false,
    "run_control": {
     "read_only": false
    }
   },
   "outputs": [],
   "source": [
    "x = 8"
   ]
  },
  {
   "cell_type": "code",
   "execution_count": null,
   "metadata": {
    "collapsed": false,
    "run_control": {
     "read_only": false
    }
   },
   "outputs": [],
   "source": [
    "f(x)"
   ]
  },
  {
   "cell_type": "code",
   "execution_count": null,
   "metadata": {
    "collapsed": false,
    "run_control": {
     "read_only": false
    }
   },
   "outputs": [],
   "source": [
    "g(x, 2)"
   ]
  },
  {
   "cell_type": "markdown",
   "metadata": {},
   "source": [
    "Things are about to get a little weird for math people. As you run the following lines of code, notice that the value of `x` is flying everywhere. We start with `x = 8`. Then suddenly `x = 23`, then `x = x + 4` (what??) so now `x` is 27. For the fastidious, remember that the sign `=` doesn't actually mean equals, it means something more like \"takes on the value of.\""
   ]
  },
  {
   "cell_type": "code",
   "execution_count": null,
   "metadata": {
    "collapsed": false,
    "run_control": {
     "read_only": false
    }
   },
   "outputs": [],
   "source": [
    "x = f(x)"
   ]
  },
  {
   "cell_type": "code",
   "execution_count": null,
   "metadata": {
    "collapsed": false,
    "run_control": {
     "read_only": false
    }
   },
   "outputs": [],
   "source": [
    "x"
   ]
  },
  {
   "cell_type": "code",
   "execution_count": null,
   "metadata": {
    "collapsed": false,
    "run_control": {
     "read_only": false
    }
   },
   "outputs": [],
   "source": [
    "x = x + 4"
   ]
  },
  {
   "cell_type": "code",
   "execution_count": null,
   "metadata": {
    "collapsed": false,
    "run_control": {
     "read_only": false
    }
   },
   "outputs": [],
   "source": [
    "x"
   ]
  },
  {
   "cell_type": "code",
   "execution_count": null,
   "metadata": {
    "collapsed": false,
    "run_control": {
     "read_only": false
    }
   },
   "outputs": [],
   "source": [
    "x + 4 = x"
   ]
  },
  {
   "cell_type": "markdown",
   "metadata": {},
   "source": [
    "Check out that error! We can't set `x + 4` equal to the value of `x` because `x + 4` is not a variable."
   ]
  },
  {
   "cell_type": "markdown",
   "metadata": {},
   "source": [
    "###Practice Problem A\n",
    "Suppose you want to find the slope between two points $(a,~ f(a))$ and $(b,~ f(b))$ where $f(x) = x^2 + 2x – 7$.\n",
    "\n",
    "1. Enter the one-line function `f(x) = x^2 + 2x – 7`.\n",
    "\n",
    "2. Create a function `g(a, b)` that will find the slope between two points $x = a$ and $x = b$ on `f(x)`.\n",
    "\n",
    "3. Use `g` to find the slope between $x = 3$ and $x = 5$\n",
    "\n",
    "4. Use `g` to find the slope between $x = -2$ and $x = 7$"
   ]
  },
  {
   "cell_type": "code",
   "execution_count": null,
   "metadata": {
    "collapsed": true,
    "run_control": {
     "read_only": false
    }
   },
   "outputs": [],
   "source": [
    "# Write your answer here\n",
    "\n",
    "\n",
    "\n",
    "\n"
   ]
  },
  {
   "cell_type": "code",
   "execution_count": null,
   "metadata": {
    "collapsed": false,
    "input_collapsed": true,
    "run_control": {
     "read_only": false
    }
   },
   "outputs": [],
   "source": [
    "revealable(ans106A)"
   ]
  },
  {
   "cell_type": "markdown",
   "metadata": {},
   "source": [
    "##Saving Julia Notebooks\n",
    "\n",
    "Your notebook autosaves your progress. To create a checkpoint that you can return to later, you can select `File->Save and Checkpoint` (or `Control+s` on Windows/Unix and `Command+s` on Macs). If you want to go back to your last check point, you can select `File->Revert to Checkpoint`. This is incredibly useful when changing your code. You can save a checkpoint when everything works, and then if you mess it up later, you can return to a checkpoint when things were working."
   ]
  },
  {
   "cell_type": "markdown",
   "metadata": {
    "collapsed": true,
    "run_control": {
     "read_only": false
    }
   },
   "source": [
    "##Output\n",
    "The command `println` will cause Julia to give output. Actual words go in quotes (they’re called \"strings\"), and anything else will be treated as a number or variable.\n",
    "\n",
    "Try these:"
   ]
  },
  {
   "cell_type": "code",
   "execution_count": null,
   "metadata": {
    "collapsed": false,
    "run_control": {
     "read_only": false
    }
   },
   "outputs": [],
   "source": [
    "x = 2\n",
    "println(x)"
   ]
  },
  {
   "cell_type": "code",
   "execution_count": null,
   "metadata": {
    "collapsed": false,
    "run_control": {
     "read_only": false
    }
   },
   "outputs": [],
   "source": [
    "println(\"x\")"
   ]
  },
  {
   "cell_type": "code",
   "execution_count": null,
   "metadata": {
    "collapsed": false,
    "run_control": {
     "read_only": false
    }
   },
   "outputs": [],
   "source": [
    "println(\"hello\")"
   ]
  },
  {
   "cell_type": "code",
   "execution_count": null,
   "metadata": {
    "collapsed": false,
    "run_control": {
     "read_only": false
    }
   },
   "outputs": [],
   "source": [
    "f(x) = x^2\n",
    "println(8, \" squared is \", f(8))\n",
    "println(x, \" squared is \", f(x))"
   ]
  },
  {
   "cell_type": "markdown",
   "metadata": {},
   "source": [
    "You can also put variables directly in a string by putting a `$` in front of each variable. Notice the difference between the code below and the code in the cell above."
   ]
  },
  {
   "cell_type": "code",
   "execution_count": null,
   "metadata": {
    "collapsed": false,
    "run_control": {
     "read_only": false
    }
   },
   "outputs": [],
   "source": [
    "f(x) = x^2\n",
    "println(\"$x squared is $f(x)\") # f(x) isn't a variable, so you can't include it in a string by using $\n",
    "println(\"$x squared is \", f(x))"
   ]
  },
  {
   "cell_type": "markdown",
   "metadata": {},
   "source": [
    "##Multi-Line Functions\n",
    "Here’s another way to write the function for practice problem A. Notice this does the same thing as practice problem 1 but is easier to write and read. It is longer, but only simple functions can be written as one-liners; anything complex has to be done on multiple lines. \n",
    "\n",
    "__It is more important for code to be readable than short.__\n",
    "\n",
    "I got pretty fancy on that println for demonstration purposes, but I could have just done `println(m)` and that would be fine."
   ]
  },
  {
   "cell_type": "code",
   "execution_count": null,
   "metadata": {
    "collapsed": false,
    "run_control": {
     "read_only": false
    }
   },
   "outputs": [],
   "source": [
    "function slope(f, a, b)\n",
    "    y1 = f(a)\n",
    "    y2 = f(b)\n",
    "    m = (f(a) - f(b))/(a-b)\n",
    "    println(\"the slope is $m\")\n",
    "end"
   ]
  },
  {
   "cell_type": "markdown",
   "metadata": {},
   "source": [
    "Don't forget to test your code! Here's one set of numbers to check (against your own math that you do without the program). Check at least one more pair of x-coordinates. Feel free to change the function `f(x)` too."
   ]
  },
  {
   "cell_type": "code",
   "execution_count": null,
   "metadata": {
    "collapsed": false,
    "run_control": {
     "read_only": false
    }
   },
   "outputs": [],
   "source": [
    "f(x) = x^2 + 2x - 7  # This function could be any polynomial! Feel free to change it.\n",
    "slope(f, 4, 6)"
   ]
  },
  {
   "cell_type": "markdown",
   "metadata": {},
   "source": [
    "Now let's write a new function called `oops`."
   ]
  },
  {
   "cell_type": "code",
   "execution_count": null,
   "metadata": {
    "collapsed": false,
    "run_control": {
     "read_only": false
    }
   },
   "outputs": [],
   "source": [
    "function oops(x, y)\n",
    "    w = x + a\n",
    "    p = y - 2\n",
    "    println(w + p)\n",
    "end"
   ]
  },
  {
   "cell_type": "code",
   "execution_count": null,
   "metadata": {
    "collapsed": false,
    "run_control": {
     "read_only": false
    }
   },
   "outputs": [],
   "source": [
    "oops(3,5)"
   ]
  },
  {
   "cell_type": "markdown",
   "metadata": {},
   "source": [
    "Oops, we forgot to define `a`. The error message tells us what went wrong: \n",
    "```\n",
    "a not defined\n",
    "```\n",
    "\n",
    "It found the error `while loading In[#], in expression starting on line 1`, so our error happened when we ran the previous code cell.\n",
    "\n",
    "The error is `in oops at In[#]:2`, which tells us to look at line 2 of the code containing our `oops` function. That's where we used `a` without defining it first.\n",
    "\n",
    "It's easy to fix. Go back up to the cell where you defined `oops` and add this line of code after `function oops(x, y)`:\n",
    "\n",
    "```\n",
    "a = 2\n",
    "```\n",
    "Now run the next code cell again (`oops(3,5)`). You should get 8.\n"
   ]
  },
  {
   "cell_type": "markdown",
   "metadata": {},
   "source": [
    "##Documenting in Julia\n",
    "\n",
    "Most languages have a system by which you can type commentary into your code without it being compiled along with the code. In Julia, the symbol is a hashtag, #. Anything after a hashtag on a single line will be ignored by the program.\n",
    "\n",
    "With small, simple functions there’s no real reason to document your code, but longer functions may involve instructions that you might forget or other people might want to know.\n",
    "\n",
    "Coders hate to document. They always think:\n",
    "* I’ll remember what I did when I look at it again a year from now.\n",
    "* This is so obvious, my team will understand what I did without documentation.\n",
    "\n",
    "They are always wrong. Every professional coder I know complains about how much time is wasted trying to figure out what is going on in undocumented code, whether their own or someone else's. If you're working on a team where another person will be calling your code, it is just plain rude not to document. When in doubt, overdocument. It can't hurt.\n"
   ]
  },
  {
   "cell_type": "markdown",
   "metadata": {},
   "source": [
    "###Practice Problem B\n",
    "Write a function `info(a, b)` that takes a point $(a, b)$ and returns three things about the _segment from the     origin to the point_:\n",
    "    \n",
    "* Its slope\n",
    "* Its midpoint\n",
    "* Its length (distance)\n",
    "\n",
    "Output must be in the form “the slope from the origin is \\_\\_\\_ ,” etc.\n",
    "    \n",
    "Write at least one line of documentation. \n",
    "    \n",
    "Test your code.\n",
    "\n"
   ]
  },
  {
   "cell_type": "code",
   "execution_count": null,
   "metadata": {
    "collapsed": true,
    "run_control": {
     "read_only": false
    }
   },
   "outputs": [],
   "source": [
    "function info(a, b)\n",
    "# Your code goes here!\n",
    "\n",
    "\n",
    "\n",
    "\n",
    "\n",
    "end\n",
    "\n",
    "\n",
    "\n",
    "\n",
    "# Want more of a challenge? Try writing another program that\n",
    "# finds the slope, midpoint, and distance for two points (a,b) and (c,d).\n",
    "\n",
    "function info(a, b, c, d)\n",
    "\n",
    "\n",
    "end"
   ]
  },
  {
   "cell_type": "code",
   "execution_count": null,
   "metadata": {
    "collapsed": false,
    "input_collapsed": false,
    "run_control": {
     "read_only": false
    }
   },
   "outputs": [],
   "source": [
    "revealable(ans106B)"
   ]
  },
  {
   "cell_type": "code",
   "execution_count": null,
   "metadata": {
    "collapsed": false,
    "input_collapsed": false,
    "run_control": {
     "read_only": false
    }
   },
   "outputs": [],
   "source": [
    "info(5,9)"
   ]
  },
  {
   "cell_type": "code",
   "execution_count": null,
   "metadata": {
    "collapsed": true,
    "run_control": {
     "read_only": false
    }
   },
   "outputs": [],
   "source": []
  }
 ],
 "metadata": {
  "kernelspec": {
   "display_name": "Julia 0.3.10",
   "language": "julia",
   "name": "julia-0.3"
  },
  "language_info": {
   "file_extension": ".jl",
   "mimetype": "application/julia",
   "name": "julia",
   "version": "0.3.10"
  }
 },
 "nbformat": 4,
 "nbformat_minor": 0
}
