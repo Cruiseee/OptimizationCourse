{
 "cells": [
  {
   "cell_type": "markdown",
   "metadata": {
    "run_control": {
     "read_only": false
    }
   },
   "source": [
    "#Testing Conditions\n",
    "\"if\", \"elseif\", and \"else\""
   ]
  },
  {
   "cell_type": "code",
   "execution_count": null,
   "metadata": {
    "collapsed": false
   },
   "outputs": [],
   "source": [
    "using Revealables\n",
    "include(\"files/answers.jl\");"
   ]
  },
  {
   "cell_type": "markdown",
   "metadata": {},
   "source": [
    "Often you will want a program to do different things depending on the condition of the input.\n",
    "    \n",
    "For example, in the calculator game a few lessons ago, the operation involved checking if the number was even or odd.\n",
    "\n",
    "* IF it was even, you divided by two\n",
    "* IF it was odd, you multiplied by 3 and added 1.\n",
    "\n",
    "In Julia, this is handled with a section of code whose basic structure goes \n",
    "\n",
    "    if (statement that must be true or false)\n",
    "        # do something\n",
    "    else \n",
    "        # do something else\n",
    "    end\n",
    "    \n",
    "This structure applies when you only have one option to test. If you want to test more options the structure becomes:\n",
    "\n",
    "    if (statement that must be true or false)\n",
    "    elseif (another statement that must be true or false)\n",
    "    elseif (third statement that must be true or false)\n",
    "    elseif (fourth statement that must be true or false)\n",
    "    ...\n",
    "    else\n",
    "    end\n"
   ]
  },
  {
   "cell_type": "markdown",
   "metadata": {},
   "source": [
    "The word `if` must be followed by a statement that can be either true or false. Predict the output of the following cells, then run them:"
   ]
  },
  {
   "cell_type": "code",
   "execution_count": null,
   "metadata": {
    "collapsed": false,
    "run_control": {
     "read_only": false
    }
   },
   "outputs": [],
   "source": [
    "x = 12\n",
    "x < 5  # Is the variable x less than 5?"
   ]
  },
  {
   "cell_type": "code",
   "execution_count": null,
   "metadata": {
    "collapsed": false,
    "run_control": {
     "read_only": false
    }
   },
   "outputs": [],
   "source": [
    "y = sqrt(2)\n",
    "y^2 >= 2  # Is the value of y2 greater than or equal to 2?"
   ]
  },
  {
   "cell_type": "code",
   "execution_count": null,
   "metadata": {
    "collapsed": false,
    "run_control": {
     "read_only": false
    }
   },
   "outputs": [],
   "source": [
    "t = 3  # SINGLE equal sign--assigns a value of 3 to the variable t.\n",
    "t == 0  # DOUBLE equal sign! Is the variable t equal to 0?"
   ]
  },
  {
   "cell_type": "code",
   "execution_count": null,
   "metadata": {
    "collapsed": false,
    "run_control": {
     "read_only": false
    }
   },
   "outputs": [],
   "source": [
    "c = round(5.2, 0)  # Remember `round`? Think carefully about the output....\n",
    "c != 5  #  Is the variable c NOT equal to 5?"
   ]
  },
  {
   "cell_type": "code",
   "execution_count": null,
   "metadata": {
    "collapsed": false,
    "run_control": {
     "read_only": false
    }
   },
   "outputs": [],
   "source": [
    "!true"
   ]
  },
  {
   "cell_type": "code",
   "execution_count": null,
   "metadata": {
    "collapsed": false,
    "run_control": {
     "read_only": false
    }
   },
   "outputs": [],
   "source": [
    "!!true"
   ]
  },
  {
   "cell_type": "code",
   "execution_count": null,
   "metadata": {
    "collapsed": false,
    "run_control": {
     "read_only": false
    }
   },
   "outputs": [],
   "source": [
    "!!!!!!!!!!!(2+2==5)"
   ]
  },
  {
   "cell_type": "markdown",
   "metadata": {},
   "source": [
    "##A Two-Option Test\n",
    "Here’s an example of a simple (and pretty dumb) function using an if statement:"
   ]
  },
  {
   "cell_type": "code",
   "execution_count": null,
   "metadata": {
    "collapsed": false,
    "run_control": {
     "read_only": false
    }
   },
   "outputs": [],
   "source": [
    "function even(x)\n",
    "    if x%2 == 0  # Remember %? \"x%2\" means \"the remainder when x is divided by 2.\"\n",
    "        println(x, \" is even.\")\n",
    "    else\n",
    "        println (x, \" is odd.\")\n",
    "    end\n",
    "end"
   ]
  },
  {
   "cell_type": "markdown",
   "metadata": {},
   "source": [
    "Note the indentations I'm using, which is considered good etiquette. It makes the code easier to read; you know which \"end\" goes with which loop, you can clearly see the structure of the `if-else-end` sequence. You should use proper indentation when writing your own code. \n",
    "\n",
    "This code can also be written with fewer separate lines, like this:\n",
    "    function even(x)\n",
    "\t    if x%2 == 0 println(x, “ is even.”)\n",
    "\t    else println(x, “ is odd.”) \n",
    "\t    end\n",
    "    end\n",
    "\n",
    "In fact, the whole darn thing can be written on one line. This is dandy if you’re in a competition (which coders sometimes do for fun) to accomplish something in the fewest lines of code. But in industry, clarity is more important than brevity."
   ]
  },
  {
   "cell_type": "markdown",
   "metadata": {},
   "source": [
    "###Practice Problem A\n",
    "Julia has a built-in function for absolute value, `abs(x)`, but you're going to ignore that and write your own using an 'if-else-end' sequence. Test it for -4, 8 and 0. Call it 'Abs(x)' since 'abs' is taken.\n",
    "\n",
    "Your output should be in the form, \"The absolute value is \\_\\_\\_.\"\n",
    "    \n",
    "Be sure to test your code."
   ]
  },
  {
   "cell_type": "code",
   "execution_count": null,
   "metadata": {
    "collapsed": false,
    "run_control": {
     "read_only": false
    }
   },
   "outputs": [],
   "source": [
    "function Abs(x)\n",
    "    # Write your code!\n",
    "\n",
    "\n",
    "\n",
    "\n",
    "end"
   ]
  },
  {
   "cell_type": "code",
   "execution_count": null,
   "metadata": {
    "collapsed": true,
    "run_control": {
     "read_only": false
    }
   },
   "outputs": [],
   "source": [
    "Abs(-4)"
   ]
  },
  {
   "cell_type": "code",
   "execution_count": null,
   "metadata": {
    "collapsed": true,
    "run_control": {
     "read_only": false
    }
   },
   "outputs": [],
   "source": [
    "Abs(8)"
   ]
  },
  {
   "cell_type": "code",
   "execution_count": null,
   "metadata": {
    "collapsed": false,
    "run_control": {
     "read_only": false
    }
   },
   "outputs": [],
   "source": [
    "Abs(0)"
   ]
  },
  {
   "cell_type": "code",
   "execution_count": null,
   "metadata": {
    "collapsed": false,
    "scrolled": false
   },
   "outputs": [],
   "source": [
    "revealable(ans107A)"
   ]
  },
  {
   "cell_type": "markdown",
   "metadata": {},
   "source": [
    "##A Multi-Option Test\n",
    "Here's another simple function."
   ]
  },
  {
   "cell_type": "code",
   "execution_count": null,
   "metadata": {
    "collapsed": false,
    "run_control": {
     "read_only": false
    }
   },
   "outputs": [],
   "source": [
    "function div(a, b)\n",
    "    if b == 0\n",
    "        println (\"Please stop trying to divide by 0\")\n",
    "    elseif a%b == 0\n",
    "        println(a, \" divides evenly by \", b)\n",
    "    else\n",
    "        println(a, \"does not divide evenly by \", b)\n",
    "    end\n",
    "end"
   ]
  },
  {
   "cell_type": "markdown",
   "metadata": {},
   "source": [
    "You can add as many `elseif`s as you want, as long as you end with `else - end`.\n",
    "\n",
    "There does not need to be a command after `else`, so the line `else end` is fine if you want it to just end. It's also fine to go straight from `if` to `end` and skip `else` entirely.\n",
    "\n",
    "The reason we need `elseif` is that it tells the language where to go next if `if` is false. If you code two `if`s in a row, the second `if` will be assumed to occur inside the subsection of the first `if`. The computer will breeze right past it looking for `elseif`.\n"
   ]
  },
  {
   "cell_type": "markdown",
   "metadata": {},
   "source": [
    "###Practice Problem B\n",
    "Write a function to determine a student’s grade on an essay, given the number of points they scored out of 28 possible. The output should be:\n",
    "\n",
    "   * 90% or above: “Congratulations! You got an A, \\_\\_%!”\n",
    "   * 70-89%: “You passed your essay with \\_\\_%!”\n",
    "   * 69% or lower: “Please see Mrs. Crabapple for help raising your \\_\\_%.”\n",
    "\n",
    "Be sure to test your code."
   ]
  },
  {
   "cell_type": "code",
   "execution_count": null,
   "metadata": {
    "collapsed": true,
    "run_control": {
     "read_only": false
    }
   },
   "outputs": [],
   "source": [
    "# Name your function whatever you like! Your code goes here.\n",
    "\n",
    "\n",
    "\n",
    "\n",
    "\n",
    "# Make your code pretty--make it readable and indent nicely.\n",
    "# If you're looking for something extra to do,\n",
    "# put more information on the output: break down B and C grades,\n",
    "# include the points possible in addition to the percent, and so on. "
   ]
  },
  {
   "cell_type": "code",
   "execution_count": null,
   "metadata": {
    "collapsed": true,
    "run_control": {
     "read_only": false
    }
   },
   "outputs": [],
   "source": [
    "# Test your code here:\n",
    "\n"
   ]
  },
  {
   "cell_type": "code",
   "execution_count": null,
   "metadata": {
    "collapsed": false
   },
   "outputs": [],
   "source": [
    "revealable(ans107B)"
   ]
  },
  {
   "cell_type": "code",
   "execution_count": null,
   "metadata": {
    "collapsed": true
   },
   "outputs": [],
   "source": []
  }
 ],
 "metadata": {
  "kernelspec": {
   "display_name": "Julia 0.3.10",
   "language": "julia",
   "name": "julia-0.3"
  },
  "language_info": {
   "file_extension": ".jl",
   "mimetype": "application/julia",
   "name": "julia",
   "version": "0.3.10"
  }
 },
 "nbformat": 4,
 "nbformat_minor": 0
}
