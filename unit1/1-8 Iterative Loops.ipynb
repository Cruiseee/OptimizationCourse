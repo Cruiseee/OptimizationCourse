{
 "cells": [
  {
   "cell_type": "markdown",
   "metadata": {
    "run_control": {
     "read_only": false
    }
   },
   "source": [
    "#Iterative Loops\n",
    "* `for` loops\n",
    "* `while` loops\n",
    "\n",
    "This lesson has a lot of content and some very rich problems, especially the extension problems at the end. I'd recommend giving it a couple of days and doing all of the problems, including the extensions. If you choose to do this, you could probably get through practice problem 4 in one day, then 5-7 on the second day. Several of the problems have additional extensions."
   ]
  },
  {
   "cell_type": "code",
   "execution_count": null,
   "metadata": {
    "collapsed": false,
    "run_control": {
     "read_only": false
    }
   },
   "outputs": [],
   "source": [
    "using Revealables\n",
    "include(\"files/answers.jl\");"
   ]
  },
  {
   "cell_type": "markdown",
   "metadata": {},
   "source": [
    "##What was an iterative loop, again?"
   ]
  },
  {
   "cell_type": "code",
   "execution_count": null,
   "metadata": {
    "collapsed": false,
    "run_control": {
     "read_only": false
    }
   },
   "outputs": [],
   "source": [
    "revealable(defIteration)"
   ]
  },
  {
   "cell_type": "markdown",
   "metadata": {},
   "source": [
    "##Two Types of Iterative Loops\n",
    "\n",
    "* __for__ loop: \n",
    "\n",
    "    plug in a bunch of successive integers, or repeat a procedure a given number of times\n",
    "    \n",
    "\n",
    "* __while__ loop:\n",
    "\n",
    "    iterate until a certain condition is met, or when you know in advance how many loops to run "
   ]
  },
  {
   "cell_type": "markdown",
   "metadata": {},
   "source": [
    "##Loops with `for`\n",
    "\n",
    "`for` loops are used when want to plug in a bunch of successive integers, or repeat a procedure a given number of times. \n",
    "\n",
    "The general structure is:"
   ]
  },
  {
   "cell_type": "code",
   "execution_count": null,
   "metadata": {
    "collapsed": false,
    "run_control": {
     "read_only": false
    }
   },
   "outputs": [],
   "source": [
    "start_number = 1\n",
    "end_number = 10\n",
    "\n",
    "for x in start_number:end_number\n",
    "    # do something, maybe println(x)\n",
    "    \n",
    "end"
   ]
  },
  {
   "cell_type": "markdown",
   "metadata": {},
   "source": [
    "Let's say you wanted to print out the values of $y = x^2$ from $x = 5$ to $x = 12$. Here's the code:\n"
   ]
  },
  {
   "cell_type": "code",
   "execution_count": null,
   "metadata": {
    "collapsed": false,
    "run_control": {
     "read_only": false
    }
   },
   "outputs": [],
   "source": [
    "for x in 5:12\n",
    "    println(x^2)\n",
    "end"
   ]
  },
  {
   "cell_type": "markdown",
   "metadata": {},
   "source": [
    "Now suppose you want to add up the values of $y = x^2 - 5x + 11$ from $x = 0$ to $x =$ some number $n$. \n",
    "\n",
    "This procedure is a bit longer: \n",
    "\n",
    "   1. Plug $x$ into $f(x)$\n",
    "   2. Add that to the total\n",
    "   \n",
    "   Repeat for $x$-values from 0 to $n$.\n",
    "\n",
    "(We won't write out a plan for every program we code. But for more complex programs, or if your simple program is running into difficulty, it can be vital.)"
   ]
  },
  {
   "cell_type": "code",
   "execution_count": null,
   "metadata": {
    "collapsed": false,
    "run_control": {
     "read_only": false
    }
   },
   "outputs": [],
   "source": [
    "# Program to add up the values of y = x^2 - 5x + 11 from x = 0 to x = n\n",
    "\n",
    "function Sum(n)  # lowercase `sum` was already taken\n",
    "    f(x) = x^2 - 5x + 11\n",
    "    S = 0\n",
    "    for x in 0:n\n",
    "        S = S + f(x)  # You can write this line with a shortcut: S += f(x)\n",
    "    end\n",
    "    println(S)\n",
    "end\n"
   ]
  },
  {
   "cell_type": "markdown",
   "metadata": {},
   "source": [
    "An important note: A feature of most loop programs is a few lines of code at the top pre-defining certain things. In this case, I pre-loaded the function `f(x)`, but I also had to pre-load `S = 0`. Then each loop of the iteration adds the new function value onto the existing sum `S`. Without pre-loading `S`, the `S = S + f(x)` would come back undefined. \n",
    "\n",
    "This function ends up being a function with three variables: `n` (the last number to plug in, entered by the user), `x` (the actual variable used in the function, ranging from 0 to `n`), and `S` (the sum). Variables tend to proliferate in loopy programs, and that's okay."
   ]
  },
  {
   "cell_type": "markdown",
   "metadata": {},
   "source": [
    "###Extension questions\n",
    "1. What would you do if you wanted the sum from $x = a$ to $x = b$ instead of $x = 0$ to $x = n$?\n",
    "\n",
    "2. How could you make the output more attractive?"
   ]
  },
  {
   "cell_type": "code",
   "execution_count": null,
   "metadata": {
    "collapsed": false,
    "run_control": {
     "read_only": false
    }
   },
   "outputs": [],
   "source": [
    "revealable(ext1081)"
   ]
  },
  {
   "cell_type": "code",
   "execution_count": null,
   "metadata": {
    "collapsed": false,
    "run_control": {
     "read_only": false
    }
   },
   "outputs": [],
   "source": [
    "revealable(ext1082)"
   ]
  },
  {
   "cell_type": "markdown",
   "metadata": {},
   "source": [
    "###Iterating a certain number of times\n",
    "`for` can also let you do something a certain number of times; you don’t even need to apply the value of `n`.  Try this:"
   ]
  },
  {
   "cell_type": "code",
   "execution_count": null,
   "metadata": {
    "collapsed": true,
    "run_control": {
     "read_only": false
    }
   },
   "outputs": [],
   "source": [
    "for n in 1:10\n",
    "    println(\"Mrs. Crabapple is perfect!\")\n",
    "end"
   ]
  },
  {
   "cell_type": "markdown",
   "metadata": {},
   "source": [
    "The value of `n` will automatically increment whether or not it's used. So if you wanted to repeat the same thing 20 times, use `n in 1:20` and follow that with whatever you want to iterate. \n"
   ]
  },
  {
   "cell_type": "markdown",
   "metadata": {},
   "source": [
    "###For Loops With Recursion\n",
    "Recall that the powers of two can be generated using recursion&mdash;each term is double the previous term. Heres an example using a `for` loop to print out the first ten powers of two:"
   ]
  },
  {
   "cell_type": "code",
   "execution_count": null,
   "metadata": {
    "collapsed": false,
    "run_control": {
     "read_only": false
    }
   },
   "outputs": [],
   "source": [
    "x = 1  # pre-loading x = 1 to make sure x is defined (as 1) later.\n",
    "for n in 1:10\n",
    "    println(x)  # println(x) before doubling to ensure my list starts with 1 – there are other ways around this\n",
    "    x = 2x  # recursion appears as a replacement of x with 2x each time through the loop\n",
    "end"
   ]
  },
  {
   "cell_type": "markdown",
   "metadata": {},
   "source": [
    "###Practice Problem A\n",
    "Use a `for` loop to generate a list of values of $y = 4x^2 - 12$ from $x = -6$ to $x = 6$."
   ]
  },
  {
   "cell_type": "code",
   "execution_count": null,
   "metadata": {
    "collapsed": true,
    "run_control": {
     "read_only": false
    }
   },
   "outputs": [],
   "source": [
    "# Code here!\n"
   ]
  },
  {
   "cell_type": "code",
   "execution_count": null,
   "metadata": {
    "collapsed": false,
    "run_control": {
     "read_only": false
    }
   },
   "outputs": [],
   "source": [
    "revealable(ans108A)"
   ]
  },
  {
   "cell_type": "markdown",
   "metadata": {},
   "source": [
    "###Practice Problem B\n",
    "Use a `for` loop to generate a sequence of 12 terms, starting with 20, where each term is the square root of the previous term."
   ]
  },
  {
   "cell_type": "code",
   "execution_count": null,
   "metadata": {
    "collapsed": true,
    "run_control": {
     "read_only": false
    }
   },
   "outputs": [],
   "source": [
    "# Code here!\n"
   ]
  },
  {
   "cell_type": "code",
   "execution_count": null,
   "metadata": {
    "collapsed": true,
    "run_control": {
     "read_only": false
    }
   },
   "outputs": [],
   "source": []
  },
  {
   "cell_type": "code",
   "execution_count": null,
   "metadata": {
    "collapsed": false,
    "run_control": {
     "read_only": false
    }
   },
   "outputs": [],
   "source": [
    "revealable(ans108B)"
   ]
  },
  {
   "cell_type": "markdown",
   "metadata": {},
   "source": [
    "###Fibonacci Numbers, Revisited\n",
    "It is possible to generate the Fibonacci numbers using a `for` loop, but the replacement is tricky. The first two terms are easy:\n",
    "\n",
    "    a = 1\n",
    "    b = 1\n",
    "    \n",
    "And the looped procedure is easy:\n",
    "\n",
    "    c = a + b\n",
    "    \n",
    "Bu how will you get the next term, and the next, without introducing any new variables?"
   ]
  },
  {
   "cell_type": "markdown",
   "metadata": {},
   "source": [
    "Hint:\n",
    "\n",
    "You’ll need to reassign variables. The key is that the next term will always be called `c`, and it will always be found using `a + b`.\n",
    "\n",
    "So the values of `a` and `b` need to change with each iteration. Specifically, `a` needs to take on the value of `b`, and `b` needs to take on the value of `c`, so that `c` can take on the value of `a + b` again.\n"
   ]
  },
  {
   "cell_type": "markdown",
   "metadata": {},
   "source": [
    "Answer\n",
    "\n",
    "`a = 1    b = 1    c = a + b`\n",
    "\n",
    "We need to replace `a` and `b` with the next term:\n",
    "\n",
    " `a = b` \tthe value of `b` is now called `a`\n",
    " \n",
    " `b = c`\tthe value of `c` is now called `b`\n",
    " \n",
    "and then repeat:\n",
    "\n",
    "`c = a + b`\tthe new value of `c` is `a + b`.\n",
    "\n",
    "Order matters! You don't want to change `b` until *after* you store its old value in `a`."
   ]
  },
  {
   "cell_type": "markdown",
   "metadata": {},
   "source": [
    "###Practice Problem C\n",
    "Write a function including a `for` loop to generate the first $n$ numbers in the Fibonacci sequence, including the first two. Use it to generate a list of the first 15 Fibonacci numbers.\n"
   ]
  },
  {
   "cell_type": "code",
   "execution_count": null,
   "metadata": {
    "collapsed": true,
    "run_control": {
     "read_only": false
    }
   },
   "outputs": [],
   "source": [
    "function fibo(a,b)\n",
    "# Write your function here.\n",
    "\n",
    "\n",
    "\n",
    "\n",
    "end\n",
    "\n",
    "fibo(1,1)"
   ]
  },
  {
   "cell_type": "code",
   "execution_count": null,
   "metadata": {
    "collapsed": false,
    "run_control": {
     "read_only": false
    }
   },
   "outputs": [],
   "source": [
    "revealable(ans108C)"
   ]
  },
  {
   "cell_type": "markdown",
   "metadata": {},
   "source": [
    "##`while` Loops\n",
    "A while loop is used when you want to iterate until a certain condition isn't true any more, or when you know in advance how many loops to run. The format goes:"
   ]
  },
  {
   "cell_type": "code",
   "execution_count": null,
   "metadata": {
    "collapsed": false,
    "run_control": {
     "read_only": false
    }
   },
   "outputs": [],
   "source": [
    "x = 13\n",
    "while x%7 != 0  # while the remainder of x/7 is NOT 0\n",
    "    # do a bunch of stuff, maybe println(x) or println(x%7)\n",
    "    \n",
    "    \n",
    "    x = x - 1  # changing x every time; otherwise the loop would go forever!\n",
    "end"
   ]
  },
  {
   "cell_type": "markdown",
   "metadata": {},
   "source": [
    "The repeated square root of a positive number will always get closer to 1. Here is a function that will repeatedly take square roots until within 0.001 of 1:"
   ]
  },
  {
   "cell_type": "code",
   "execution_count": null,
   "metadata": {
    "collapsed": false,
    "run_control": {
     "read_only": false
    }
   },
   "outputs": [],
   "source": [
    "function repeated_root(x)\n",
    "    while abs(x - 1) > 0.001  # remember, x - 1 is the distance from x to 1\n",
    "        x = sqrt(x)\n",
    "        println(x)\n",
    "    end\n",
    "end"
   ]
  },
  {
   "cell_type": "markdown",
   "metadata": {},
   "source": [
    "In the function above, I used `>` rather than `>=`. It doesnt really matter for this particular function, but it was (and should always be) a conscious decision."
   ]
  },
  {
   "cell_type": "code",
   "execution_count": null,
   "metadata": {
    "collapsed": false,
    "run_control": {
     "read_only": false
    }
   },
   "outputs": [],
   "source": [
    "# Enter some numbers like 5 or 7 or 2119004.8 and see how it works\n",
    "repeated_root(5)"
   ]
  },
  {
   "cell_type": "markdown",
   "metadata": {},
   "source": [
    "As soon as the condition is met&mdash;in this case, as soon as `x` is within 0.001 of 1, written as `(x – 1) < 0.001`&mdash; the loop ends.\n"
   ]
  },
  {
   "cell_type": "markdown",
   "metadata": {},
   "source": [
    "###Loop Counters\n",
    "Let's say you wanted to know how many iterations it took for the repeated_root program to get to within 0.001 of 1. You could modify the program to include a variable that keeps track of the number of loops.\n",
    "\n",
    "The number `n` is a __counter__ – it just counts the loops."
   ]
  },
  {
   "cell_type": "code",
   "execution_count": null,
   "metadata": {
    "collapsed": false,
    "run_control": {
     "read_only": false
    }
   },
   "outputs": [],
   "source": [
    "function repeated_root(x)\n",
    "    n = 0  # no loops yet!\n",
    "    while abs(x - 1) > .001\n",
    "        x = sqrt(x)\n",
    "        n = n + 1  # n increases by 1 each time\n",
    "    end\n",
    "    println(n)  # this is the total number of loops, and it prints once at the very end\n",
    "end\n",
    "\n",
    "repeated_root(5)  # input some numbers like 5 or 7 or 2119004.8 and see how it works"
   ]
  },
  {
   "cell_type": "markdown",
   "metadata": {},
   "source": [
    "If you wanted to run the reproot program through 20 loops, then print the answer, you could also do this using counters:"
   ]
  },
  {
   "cell_type": "code",
   "execution_count": null,
   "metadata": {
    "collapsed": false,
    "run_control": {
     "read_only": false
    }
   },
   "outputs": [],
   "source": [
    "function repeated_root(x)\n",
    "    n = 0\n",
    "    while n < 20\n",
    "        x = sqrt(x)\n",
    "        n = n + 1\n",
    "    end\n",
    "    println(x)\n",
    "end\n",
    "\n",
    "repeated_root(5)  # input some numbers like 5 or 7 or 2119004.8 and see how it works"
   ]
  },
  {
   "cell_type": "markdown",
   "metadata": {},
   "source": [
    "We could have used a `for` loop here too."
   ]
  },
  {
   "cell_type": "markdown",
   "metadata": {},
   "source": [
    "##`while` Loops vs. `for` Loops\n",
    "For a set number of iterations, you could use either `while` or `for`.\n",
    "\n",
    "* `for` loops are short and simple but only work when you increment by the same amount each time. You can make them increment by numbers other than 1 using for `n in 1:0.1:20`, for example.\n",
    "\n",
    "\n",
    "\n",
    "* `while` loops are a little longer but will work even if you're not incrementing by the same amount each time.\n"
   ]
  },
  {
   "cell_type": "markdown",
   "metadata": {},
   "source": [
    "###Practice Problem D\n",
    "Write a function, `compound(P)`, that will count how many years it will take for an investment of `P` dollars, earning 5% interest, to grow over \\$1,000,000.\n",
    "\n",
    "You might need to refresh your memory about [compound interest](https://www.mathsisfun.com/money/compound-interest.html).\n",
    "\n",
    "Don’t forget to test your code!\n"
   ]
  },
  {
   "cell_type": "code",
   "execution_count": null,
   "metadata": {
    "collapsed": true,
    "run_control": {
     "read_only": false
    }
   },
   "outputs": [],
   "source": [
    "# Write your function here\n",
    "\n",
    "\n",
    "\n",
    "\n",
    "\n"
   ]
  },
  {
   "cell_type": "code",
   "execution_count": null,
   "metadata": {
    "collapsed": true,
    "run_control": {
     "read_only": false
    }
   },
   "outputs": [],
   "source": [
    "# Test your function here\n",
    "\n"
   ]
  },
  {
   "cell_type": "markdown",
   "metadata": {},
   "source": [
    "Done already? Try these extensions!\n",
    "\n",
    "1. Make the output more user-friendly.\n",
    "2. Make the interest rate a variable as well.\n",
    "3. Instead of using the total amount of money as the end condition, use the amount of interest only.\n",
    "3. Write a test loop to handle values of `P` over \\$1,000,000 – either giving an error message or calculating backwards and giving a negative answer.\n",
    "\n"
   ]
  },
  {
   "cell_type": "code",
   "execution_count": null,
   "metadata": {
    "collapsed": false,
    "run_control": {
     "read_only": false
    }
   },
   "outputs": [],
   "source": [
    "revealable(ans108D)"
   ]
  },
  {
   "cell_type": "markdown",
   "metadata": {},
   "source": [
    "###Practice Problem E\n",
    "Working in groups or on your own, write a function `calcgame(x)` that counts the number of iterations in the calculator game. Here are the rules again:\n",
    "\n",
    "* If x is odd, multiply by 3 and add 1.\n",
    "* If x is even, divide by 2.\n",
    "* Stop when x = 1.\n",
    "* Count the iterations.\n",
    "\n",
    "Your function must include a `while` loop as well as an `if-else` test."
   ]
  },
  {
   "cell_type": "code",
   "execution_count": null,
   "metadata": {
    "collapsed": true,
    "run_control": {
     "read_only": false
    }
   },
   "outputs": [],
   "source": [
    "function calcgame(x)\n",
    "    # Code goes here!\n",
    "    \n",
    "    \n",
    "    \n",
    "    \n",
    "    \n",
    "end"
   ]
  },
  {
   "cell_type": "code",
   "execution_count": null,
   "metadata": {
    "collapsed": true,
    "run_control": {
     "read_only": false
    }
   },
   "outputs": [],
   "source": [
    "# Test your code\n",
    "\n",
    "\n"
   ]
  },
  {
   "cell_type": "code",
   "execution_count": null,
   "metadata": {
    "collapsed": false,
    "run_control": {
     "read_only": false
    }
   },
   "outputs": [],
   "source": [
    "revealable(ans108E)"
   ]
  },
  {
   "cell_type": "markdown",
   "metadata": {},
   "source": [
    "###Practice Problem F\n",
    "Use a `for` loop to list the number of iterations of the `calgame(x)` function from $x = 1$ to $x = 20$."
   ]
  },
  {
   "cell_type": "code",
   "execution_count": null,
   "metadata": {
    "collapsed": true,
    "run_control": {
     "read_only": false
    }
   },
   "outputs": [],
   "source": [
    "# You will need to call calcgame(x) in your code\n",
    "\n"
   ]
  },
  {
   "cell_type": "code",
   "execution_count": null,
   "metadata": {
    "collapsed": false,
    "run_control": {
     "read_only": false
    }
   },
   "outputs": [],
   "source": [
    "revealable(ans108F)"
   ]
  },
  {
   "cell_type": "markdown",
   "metadata": {},
   "source": [
    "###Practice Problem G\n",
    "Working in groups or on your own, write a program to test if a number is prime. Your output should be some version of “n is prime” or “n is not prime”.\n",
    "\n",
    "Julia has an `isprime(n)` function. Don't use it&mdash;that's cheating for this problem. :)"
   ]
  },
  {
   "cell_type": "code",
   "execution_count": null,
   "metadata": {
    "collapsed": true,
    "run_control": {
     "read_only": false
    }
   },
   "outputs": [],
   "source": [
    "# Function goes here\n",
    "\n"
   ]
  },
  {
   "cell_type": "code",
   "execution_count": null,
   "metadata": {
    "collapsed": true,
    "run_control": {
     "read_only": false
    }
   },
   "outputs": [],
   "source": [
    "# Test your function here\n"
   ]
  },
  {
   "cell_type": "code",
   "execution_count": null,
   "metadata": {
    "collapsed": false,
    "run_control": {
     "read_only": false
    }
   },
   "outputs": [],
   "source": [
    "revealable(ans108G)"
   ]
  },
  {
   "cell_type": "code",
   "execution_count": null,
   "metadata": {
    "collapsed": true,
    "run_control": {
     "read_only": false
    }
   },
   "outputs": [],
   "source": []
  }
 ],
 "metadata": {
  "kernelspec": {
   "display_name": "Julia 0.3.10",
   "language": "julia",
   "name": "julia-0.3"
  },
  "language_info": {
   "file_extension": ".jl",
   "mimetype": "application/julia",
   "name": "julia",
   "version": "0.3.10"
  }
 },
 "nbformat": 4,
 "nbformat_minor": 0
}
