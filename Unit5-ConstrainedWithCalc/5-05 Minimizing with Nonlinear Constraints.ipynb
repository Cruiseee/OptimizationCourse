{
 "cells": [
  {
   "cell_type": "markdown",
   "metadata": {
    "run_control": {
     "read_only": false
    }
   },
   "source": [
    "# 5-5 Minimizing with Nonlinear Constraints\n",
    "* Start to Finish"
   ]
  },
  {
   "cell_type": "code",
   "execution_count": null,
   "metadata": {
    "collapsed": false
   },
   "outputs": [],
   "source": [
    "using Revealables\n",
    "include(\"files/answers.jl\")"
   ]
  },
  {
   "cell_type": "markdown",
   "metadata": {},
   "source": [
    "##Phase 1 Steps\n",
    "Choose an initial point on any constraint boundary. \n",
    "1. Find the steepest descent vector for $f(x)$ at that point.\n",
    "2. Test to see if the steepest descent vector is feasible. If not, skip to phase 2. If it is, move to step 3.\n",
    "3. Write coordinates for a “new point”, find the maximum a value, minimize f(a), and calculate the new point.\n",
    "4. If the new point is interior, find the steepest descent vector and repeat step 3. If it is on a constraint, move to phase 2.\n",
    "\n",
    "##Phase 2 Steps\n",
    "Given a point on a constraint boundary whose steepest-descent vector for $f(x)$ is not feasible, \n",
    "1. Push off from the boundary using the steepest-descent vector for the active constraint g(x)<sup>1</sup>\n",
    "2. Find the steepest descent vector for $f(x)$ from the interior point.\n",
    "3. From the interior point, find the maximum $a$ value<sup>1</sup>, minimize $f(a)$, then calculate the new point.\n",
    "\n",
    "<sup>1</sup> With modifications for corner regions.\n",
    "\n",
    "##Iterations/End Conditions\n",
    "Repeat phase 2 (push off, steepest descent, minimize $f(a)$) until:\n",
    "* two successive edge points are very close together, and/or \n",
    "* the determinant of the steepest descent + constraint gradient matrix is 0 or very close to 0."
   ]
  },
  {
   "cell_type": "markdown",
   "metadata": {},
   "source": [
    "###Problem A\n",
    "Minimize $f(x) = (x_1 – 3)^2 + {x_2}^2$\n",
    "\n",
    "subject to\n",
    "$\\begin{align}\n",
    "g_1(x) = {x_1}^2 – 4x_1 – x_2 &≤ 0 \\\\\n",
    "g_2(x) = {x_2}^2 + x_1 – 10 &≤ 0 \\\\\n",
    "g_3(x) = 2^{x_1−3} – x_2 &≤ 0\n",
    "\\end{align}$\n",
    "\n",
    "from starting point $(1, 3)$ on $g_2$.\n",
    "\n",
    "You will find it helpful to graph the feasible region before beginning.\n",
    "\n",
    "Automate anything you like. You will need to perform a lot of iterations, so it's best to write programs and use loops."
   ]
  },
  {
   "cell_type": "code",
   "execution_count": null,
   "metadata": {
    "collapsed": true
   },
   "outputs": [],
   "source": [
    "# Graph and write your programs"
   ]
  },
  {
   "cell_type": "code",
   "execution_count": null,
   "metadata": {
    "collapsed": false
   },
   "outputs": [],
   "source": [
    "revealable(ans505A)"
   ]
  },
  {
   "cell_type": "markdown",
   "metadata": {},
   "source": [
    "###Problem B\n",
    "Minimize $f(x) = {x_1}^2 + x_2$\n",
    "\n",
    "subject to\n",
    "$\\begin{align}\n",
    "g_1(x) = {x_1}^2 – 4x_1 – x_2 &≤ 0 \\\\\n",
    "g_2(x) = {x_2}^2 + x_1 – 10 &≤ 0 \\\\\n",
    "g_3(x) = 2^{x_1−3} – x_2 &≤ 0\n",
    "\\end{align}$\n",
    "\n",
    "from starting point $(1, 3)$ on $g_2$.\n",
    "\n",
    "Note that this has the same constraints as Problem 1, but a different objective function.\n",
    "\n",
    "Continue to use a graph."
   ]
  },
  {
   "cell_type": "code",
   "execution_count": null,
   "metadata": {
    "collapsed": false
   },
   "outputs": [],
   "source": [
    "# Code and calculate here"
   ]
  },
  {
   "cell_type": "code",
   "execution_count": null,
   "metadata": {
    "collapsed": false
   },
   "outputs": [],
   "source": [
    "revealable(ans505B)"
   ]
  },
  {
   "cell_type": "markdown",
   "metadata": {},
   "source": [
    "##A Note: Beyond 3D\n",
    "You may have noticed, particularly in Problem B, a heavy reliance on the graph.\n",
    "\n",
    "The main reason for this, however, was for humans to avoid extra calculations (like finding which constraint is the closest). But these sort of calculations can be done easily by a computer. \n",
    "\n",
    "Nothing else in the process requires a visual or graph. These procedures scale easily into non-graphable dimensions."
   ]
  },
  {
   "cell_type": "code",
   "execution_count": null,
   "metadata": {
    "collapsed": true
   },
   "outputs": [],
   "source": []
  }
 ],
 "metadata": {
  "kernelspec": {
   "display_name": "Julia 0.3.10",
   "language": "julia",
   "name": "julia-0.3"
  },
  "language_info": {
   "file_extension": ".jl",
   "mimetype": "application/julia",
   "name": "julia",
   "version": "0.3.10"
  }
 },
 "nbformat": 4,
 "nbformat_minor": 0
}
