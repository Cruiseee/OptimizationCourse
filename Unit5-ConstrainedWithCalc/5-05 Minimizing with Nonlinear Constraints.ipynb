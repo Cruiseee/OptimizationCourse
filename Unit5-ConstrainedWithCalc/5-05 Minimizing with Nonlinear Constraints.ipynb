{
 "cells": [
  {
   "cell_type": "markdown",
   "metadata": {
    "run_control": {
     "read_only": false
    }
   },
   "source": [
    "# 5-5 Minimizing with Nonlinear Constraints\n",
    "* Start to Finish"
   ]
  },
  {
   "cell_type": "code",
   "execution_count": 1,
   "metadata": {},
   "outputs": [
    {
     "data": {
      "text/html": [
       "<div id=\"interact-js-shim\">\n",
       "    <script charset=\"utf-8\">\r\n",
       "(function (IPython, $, _, MathJax) {\r\n",
       "    $.event.special.destroyed = {\r\n",
       "\tremove: function(o) {\r\n",
       "\t    if (o.handler) {\r\n",
       "\t\to.handler.apply(this, arguments)\r\n",
       "\t    }\r\n",
       "\t}\r\n",
       "    }\r\n",
       "\r\n",
       "    var OutputArea = IPython.version >= \"4.0.0\" ? require(\"notebook/js/outputarea\").OutputArea : IPython.OutputArea;\r\n",
       "\r\n",
       "    var redrawValue = function (container, type, val) {\r\n",
       "\tvar selector = $(\"<div/>\");\r\n",
       "\tvar oa = new OutputArea(_.extend(selector, {\r\n",
       "\t    selector: selector,\r\n",
       "\t    prompt_area: true,\r\n",
       "\t    events: IPython.events,\r\n",
       "\t    keyboard_manager: IPython.keyboard_manager\r\n",
       "\t})); // Hack to work with IPython 2.1.0\r\n",
       "\r\n",
       "\tswitch (type) {\r\n",
       "\tcase \"image/png\":\r\n",
       "            var _src = 'data:' + type + ';base64,' + val;\r\n",
       "\t    $(container).find(\"img\").attr('src', _src);\r\n",
       "\t    break;\r\n",
       "\tcase \"text/latex\":\r\n",
       "\t\tif (MathJax){\r\n",
       "\t\t\tvar math = MathJax.Hub.getAllJax(container)[0];\r\n",
       "\t\t\tMathJax.Hub.Queue([\"Text\", math, val.replace(/^\\${1,2}|\\${1,2}$/g, '')]);\r\n",
       "\t\t\tbreak;\r\n",
       "\t\t}\r\n",
       "\tdefault:\r\n",
       "\t    var toinsert = OutputArea.append_map[type].apply(\r\n",
       "\t\toa, [val, {}, selector]\r\n",
       "\t    );\r\n",
       "\t    $(container).empty().append(toinsert.contents());\r\n",
       "\t    selector.remove();\r\n",
       "\t}\r\n",
       "    }\r\n",
       "\r\n",
       "\r\n",
       "    $(document).ready(function() {\r\n",
       "\tfunction initComm(evt, data) {\r\n",
       "\t    var comm_manager = data.kernel.comm_manager;\r\n",
       "        //_.extend(comm_manager.targets, require(\"widgets/js/widget\"))\r\n",
       "\t    comm_manager.register_target(\"Signal\", function (comm) {\r\n",
       "            comm.on_msg(function (msg) {\r\n",
       "                var val = msg.content.data.value;\r\n",
       "                $(\".signal-\" + comm.comm_id).each(function() {\r\n",
       "                var type = $(this).data(\"type\");\r\n",
       "                if (typeof(val[type]) !== \"undefined\" && val[type] !== null) {\r\n",
       "                    redrawValue(this, type, val[type], type);\r\n",
       "                }\r\n",
       "                });\r\n",
       "                delete val;\r\n",
       "                delete msg.content.data.value;\r\n",
       "            });\r\n",
       "\t    });\r\n",
       "\r\n",
       "\t    // coordingate with Comm and redraw Signals\r\n",
       "\t    // XXX: Test using Reactive here to improve performance\r\n",
       "\t    $([IPython.events]).on(\r\n",
       "\t\t'output_appended.OutputArea', function (event, type, value, md, toinsert) {\r\n",
       "\t\t    if (md && md.reactive) {\r\n",
       "                // console.log(md.comm_id);\r\n",
       "                toinsert.addClass(\"signal-\" + md.comm_id);\r\n",
       "                toinsert.data(\"type\", type);\r\n",
       "                // Signal back indicating the mimetype required\r\n",
       "                var comm_manager = IPython.notebook.kernel.comm_manager;\r\n",
       "                var comm = comm_manager.comms[md.comm_id];\r\n",
       "                comm.then(function (c) {\r\n",
       "                    c.send({action: \"subscribe_mime\",\r\n",
       "                       mime: type});\r\n",
       "                    toinsert.bind(\"destroyed\", function() {\r\n",
       "                        c.send({action: \"unsubscribe_mime\",\r\n",
       "                               mime: type});\r\n",
       "                    });\r\n",
       "                })\r\n",
       "\t\t    }\r\n",
       "\t    });\r\n",
       "\t}\r\n",
       "\r\n",
       "\ttry {\r\n",
       "\t    // try to initialize right away. otherwise, wait on the status_started event.\r\n",
       "\t    initComm(undefined, IPython.notebook);\r\n",
       "\t} catch (e) {\r\n",
       "\t    $([IPython.events]).on('kernel_created.Kernel kernel_created.Session', initComm);\r\n",
       "\t}\r\n",
       "    });\r\n",
       "})(IPython, jQuery, _, MathJax);\r\n",
       "</script>\n",
       "    <script>\n",
       "        window.interactLoadedFlag = true\n",
       "       $(\"#interact-js-shim\").bind(\"destroyed\", function () {\n",
       "           if (window.interactLoadedFlag) {\n",
       "               console.warn(\"JavaScript required by Interact will be removed if you remove this cell or run using Interact more than once.\")\n",
       "           }\n",
       "       })\n",
       "       $([IPython.events]).on(\"kernel_starting.Kernel kernel_restarting.Kernel\", function () { window.interactLoadedFlag = false })\n",
       "   </script>\n",
       "</div>"
      ]
     },
     "metadata": {},
     "output_type": "display_data"
    },
    {
     "data": {
      "text/markdown": [
       "\n"
      ],
      "text/plain": [
       "Revealables.Revealable(\"###Answer F\\n1. Three is a challenge! I had to look it up. I won't give away the third, but there are a lot of possibilities. I'd be worried if their belief state wasn't something like: allergies 48%, cold 48%, <other> 2%. Make them fill in \\\"other\\\", even if they have to look it up too. It was educational.\\n2. I personally don't like over-medicating my patients (maybe this is why I'm a math teacher) so my action would be to wait a week and do nothing.\\n3. If they're still sneezing after waiting a week, my belief state would become: allergies 80%, cold 15%, <other> 5%.\\n4. They could get really insightful here. I would ask a lot of questions trying to eliminate the \\\"other\\\" hypothesis and narrow it down to cold or allergies, and then I would try to narrow it between those (is it seasonal? what seasons? do you work with small children? is your family sick?). I would try more wait time which would hopefully give a cold time to pass on, and then see if allergy meds helped. If they did, then there's the answer. If they didn't, then I would conclude that while allergies are still possible they are much less probable. At some point \\\"cold\\\" and \\\"allergies\\\" would both be so improbable I'd have to look deeper into the \\\"other\\\" option and maybe expand my state possibilities beyond three.\\n\\nYou gain a lot of insight into medicine by thinking of doctors as POMDP systems. Probably because they are.\\n\", \"Answer\", false, false)"
      ]
     },
     "execution_count": 1,
     "metadata": {},
     "output_type": "execute_result"
    }
   ],
   "source": [
    "using Revealables\n",
    "include(\"files/answers.jl\")"
   ]
  },
  {
   "cell_type": "markdown",
   "metadata": {},
   "source": [
    "##Phase 1 Steps\n",
    "Choose an initial point on any constraint boundary. \n",
    "1. Find the steepest descent vector for $f(x)$ at that point.\n",
    "2. Test to see if the steepest descent vector is feasible. If not, skip to phase 2. If it is, move to step 3.\n",
    "3. Write coordinates for a “new point”, find the maximum a value, minimize f(a), and calculate the new point.\n",
    "4. If the new point is interior, find the steepest descent vector and repeat step 3. If it is on a constraint, move to phase 2.\n",
    "\n",
    "##Phase 2 Steps\n",
    "Given a point on a constraint boundary whose steepest-descent vector for $f(x)$ is not feasible, \n",
    "1. Push off from the boundary using the steepest-descent vector for the active constraint g(x)<sup>1</sup>\n",
    "2. Find the steepest descent vector for $f(x)$ from the interior point.\n",
    "3. From the interior point, find the maximum $a$ value<sup>1</sup>, minimize $f(a)$, then calculate the new point.\n",
    "\n",
    "<sup>1</sup> With modifications for corner regions.\n",
    "\n",
    "##Iterations/End Conditions\n",
    "Repeat phase 2 (push off, steepest descent, minimize $f(a)$) until:\n",
    "* two successive edge points are very close together, and/or \n",
    "* the determinant of the steepest descent + constraint gradient matrix is 0 or very close to 0."
   ]
  },
  {
   "cell_type": "markdown",
   "metadata": {},
   "source": [
    "###Problem A\n",
    "Minimize $f(x) = (x_1 – 3)^2 + {x_2}^2$\n",
    "\n",
    "subject to\n",
    "$\\begin{align}\n",
    "g_1(x) = {x_1}^2 – 4x_1 – x_2 &≤ 0 \\\\\n",
    "g_2(x) = {x_2}^2 + x_1 – 10 &≤ 0 \\\\\n",
    "g_3(x) = 2^{x_1−3} – x_2 &≤ 0\n",
    "\\end{align}$\n",
    "\n",
    "from starting point $(1, 3)$ on $g_2$.\n",
    "\n",
    "You will find it helpful to graph the feasible region before beginning.\n",
    "\n",
    "Automate anything you like. You will need to perform a lot of iterations, so it's best to write programs and use loops."
   ]
  },
  {
   "cell_type": "code",
   "execution_count": null,
   "metadata": {
    "collapsed": true
   },
   "outputs": [],
   "source": [
    "# Graph and write your programs"
   ]
  },
  {
   "cell_type": "code",
   "execution_count": 2,
   "metadata": {},
   "outputs": [
    {
     "data": {
      "text/html": [],
      "text/plain": [
       "Interact.ToggleButton(1: \"input\" = false Bool , \"Answer\", false)"
      ]
     },
     "metadata": {},
     "output_type": "display_data"
    },
    {
     "data": {
      "text/markdown": [
       "\n"
      ],
      "text/plain": [
       "Revealables.Revealable(\"###Answer A\\n'Helpful to graph the feasible region' is more on the order of necessary. I'm using fooplot and graphing the points as I go along to check my work. Julia has lots of graphing packages if you want to do it all in the notebook.<br /><br />\\nAnswers will vary depending on how much you push off in phase 2 and how many iterations you run.<br /><br />\\nFrom (1, 3): steepest descent = &lt;4, -6&gt; is feasible (dot product with constraint gradient = -32)<br />\\nnew point = (1 + 4a, 3 - 6a), will impact g<sub>3</sub> at maximum a value of a = 0.3804<br />\\nminimizing f results in a = 0.3804. **Make sure you minimize `f(a)` in phase 1!**<br />\\nnew point = (2.5214, 0.7177) on g<sub>3</sub>.<br /><br />\\nFrom here, I used a couple of programs shown below (absent much documentation &mdash; sorry), in loops like `point = move(point)`, `point = edge(g, point)` to bump out and then move back to the edge. I didn't minimize `f` each time (shortcut! Oh no!). <br /><br />\\nProgression of points:\\n        edge                interior\\n        (1, 3)              n/a (phase 1)\\n        (2.5215, .7177)     (2.47696, 0.807233)\\n        (2.53167, .722799)  (2.48687, 0.812206)\\n        (2.54054, .727259)  (2.49553, 0.816555)\\n        (2.54828, 0.73117)  etc...\\n<br /><br />\\nFrom here I put it into a for loop (`for n in 1:___ / point = move(point) / point = edge(point) / println(point) / end`<br /><br />\\nand watched it go until I got an answer:\\n(2.601, 0.758)<br /><br />\\n<code>\\nusing Calculus\\n\\ngradg = gradient(x->g(x[1], x[2]))\\ngradf = gradient(x->f(x[1], x[2]))\\n\\nfunction normalize(v)\\n    mag = sqrt((v[1])^2 + (v[2])^2)\\n    v = v/mag\\n    return(v)\\nend\\n\\nfunction move(point)\\n    point = point + 0.1 \\\\* normalize(-gradg(point))\\n    return(point)\\nend\\n\\nfunction Newton(f::Function, x0, iter) # f::Function` makes Julia throw an error if you try to pass in anything else, like an integer; x0 is the seed point, if multiple zeroes Newton will find the closest to x0; iter is up to you but Newton works nicely around 6-7.\\n    n = 0\\n    while n < iter\\n        y0 = f(x0)  # y value for the seed point\\n        m0 = derivative(f)(x0)\\n        x1 = x0 - y0/m0  # find the x-value where the tangent line crosses the x-axis\\n        x0 = x1  # ...and make that the seed point for the next iteration\\n        n = n + 1\\n    end\\n    return(x0)\\nend\\n\\nfunction edge(g, point)\\n    v = -gradf(point)\\n    finda(a) = g(point[1] + v[1]\\\\*a, point[2] + v[2]\\\\*a)\\n    a = Newton(finda, 0, 5)\\n    point = [point[1] + v[1]\\\\*a, point[2] + v[2]\\\\*a]\\n    return(point)\\nend\\n</code>\\n\", \"Answer\", false, false)"
      ]
     },
     "execution_count": 2,
     "metadata": {
      "comm_id": "de0f3100-ceff-4063-bb6d-94c61c96fa80",
      "reactive": true
     },
     "output_type": "execute_result"
    },
    {
     "name": "stderr",
     "output_type": "stream",
     "text": [
      "WARNING: Compat.ASCIIString is deprecated, use String instead.\n",
      "  likely near C:\\Users\\Victoria Docherty\\.julia\\v0.6\\IJulia\\src\\kernel.jl:31\n",
      "WARNING: Compat.ASCIIString is deprecated, use String instead.\n",
      "  likely near C:\\Users\\Victoria Docherty\\.julia\\v0.6\\IJulia\\src\\kernel.jl:31\n",
      "WARNING: Compat.ASCIIString is deprecated, use String instead.\n",
      "  likely near C:\\Users\\Victoria Docherty\\.julia\\v0.6\\IJulia\\src\\kernel.jl:31\n",
      "WARNING: Compat.ASCIIString is deprecated, use String instead.\n",
      "  likely near C:\\Users\\Victoria Docherty\\.julia\\v0.6\\IJulia\\src\\kernel.jl:31\n",
      "WARNING: Compat.ASCIIString is deprecated, use String instead.\n",
      "  likely near C:\\Users\\Victoria Docherty\\.julia\\v0.6\\IJulia\\src\\kernel.jl:31\n",
      "WARNING: Compat.ASCIIString is deprecated, use String instead.\n",
      "  likely near C:\\Users\\Victoria Docherty\\.julia\\v0.6\\IJulia\\src\\kernel.jl:31\n"
     ]
    }
   ],
   "source": [
    "revealable(ans505A)"
   ]
  },
  {
   "cell_type": "markdown",
   "metadata": {},
   "source": [
    "###Problem B\n",
    "Minimize $f(x) = {x_1}^2 + x_2$\n",
    "\n",
    "subject to\n",
    "$\\begin{align}\n",
    "g_1(x) = {x_1}^2 – 4x_1 – x_2 &≤ 0 \\\\\n",
    "g_2(x) = {x_2}^2 + x_1 – 10 &≤ 0 \\\\\n",
    "g_3(x) = 2^{x_1−3} – x_2 &≤ 0\n",
    "\\end{align}$\n",
    "\n",
    "from starting point $(1, 3)$ on $g_2$.\n",
    "\n",
    "Note that this has the same constraints as Problem 1, but a different objective function.\n",
    "\n",
    "Continue to use a graph."
   ]
  },
  {
   "cell_type": "code",
   "execution_count": null,
   "metadata": {
    "collapsed": true
   },
   "outputs": [],
   "source": [
    "# Code and calculate here"
   ]
  },
  {
   "cell_type": "code",
   "execution_count": 3,
   "metadata": {},
   "outputs": [
    {
     "data": {
      "text/html": [],
      "text/plain": [
       "Interact.ToggleButton(4: \"input-2\" = false Bool , \"Answer\", false)"
      ]
     },
     "metadata": {},
     "output_type": "display_data"
    },
    {
     "data": {
      "text/markdown": [
       "\n"
      ],
      "text/plain": [
       "Revealables.Revealable(\"###Answer B\\nThis one is more involved because it will near a corner.<br /><br />\\nFrom (1,3) steepest descent is &lt;-2, -1&gt;, which is feasible with dot product -8. This will head towards g<sub>1</sub>. \\nHowever, although the limiting `a` is 0.75, the minimizing `a` is 0.625, which gives an interior point at (-0.25, 2.375).<br /><br />\\nFrom (-0.25, 2.375) steepest descent is &lt;0.5, -1&gt; which heads towards g<sub>3</sub>. This time the limiting `a` = 2.153304 ends up being the minimizing `a`, forming a new point at (0.826652, 0.2217).<br /><br />\\nPoints, in order:<br /><br />\\n\\n        edge                interior\\n        (1,3)               (-.25, 2.375) minimized f in interior here, phase 1 repeat\\n        (.826652, 0.2217)   (.811464, .320535)\\n        (.598406, 0.189255) (.585399, .288406)\\n        (.447277, .170433)  (.338229, .158025)\\n        ...\\n\\n<br /><br />\\n(-.029729, 0.12245) At this point it gets really near the corner of g<sub>3</sub> and g<sub>1</sub>, so I found the next interior point which is still within the feasible region: (-.0381862, .222092) and checked that against both constraints. Indeed, the max `a` value goes with constraint g<sub>1</sub>, with an edge point of (-.0307, .1236). After some checking against the graph I greatly reduced my push-off value and got to a new point (back on g<sub>3</sub>):<br /><br />\\n(-.03013, .1224). At this point there isn't much improvement over the previous point, so this is close to the answer.\\n\", \"Answer\", false, false)"
      ]
     },
     "execution_count": 3,
     "metadata": {
      "comm_id": "7773aeeb-d602-4a23-9cbe-ca986380b0f3",
      "reactive": true
     },
     "output_type": "execute_result"
    }
   ],
   "source": [
    "revealable(ans505B)"
   ]
  },
  {
   "cell_type": "markdown",
   "metadata": {},
   "source": [
    "##A Note: Beyond 3D\n",
    "You may have noticed, particularly in Problem B, a heavy reliance on the graph.\n",
    "\n",
    "The main reason for this, however, was for humans to avoid extra calculations (like finding which constraint is the closest). But these sort of calculations can be done easily by a computer. \n",
    "\n",
    "Nothing else in the process requires a visual or graph. These procedures scale easily into non-graphable dimensions."
   ]
  },
  {
   "cell_type": "code",
   "execution_count": null,
   "metadata": {
    "collapsed": true
   },
   "outputs": [],
   "source": []
  }
 ],
 "metadata": {
  "kernelspec": {
   "display_name": "Julia 0.6.0",
   "language": "julia",
   "name": "julia-0.6"
  },
  "language_info": {
   "file_extension": ".jl",
   "mimetype": "application/julia",
   "name": "julia",
   "version": "0.6.0"
  }
 },
 "nbformat": 4,
 "nbformat_minor": 1
}
