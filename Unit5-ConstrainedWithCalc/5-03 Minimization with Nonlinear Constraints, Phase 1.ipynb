{
 "cells": [
  {
   "cell_type": "markdown",
   "metadata": {
    "run_control": {
     "read_only": false
    }
   },
   "source": [
    "# 5-3 Minimization with Nonlinear Constraints: Phase 1\n",
    "* Initial Steps\n",
    "* Steps of Phase 1"
   ]
  },
  {
   "cell_type": "code",
   "execution_count": null,
   "metadata": {
    "collapsed": false
   },
   "outputs": [],
   "source": [
    "using Revealables\n",
    "include(\"files/answers.jl\")"
   ]
  },
  {
   "cell_type": "markdown",
   "metadata": {},
   "source": [
    "##Initial Steps\n",
    "As mentioned in the previous lesson, most procedures start by choosing a random point on a random boundary. To do this, we must ensure that the point satisfies the equation (not the inequality) for one of the constraints.\n",
    "\n",
    "<img src=\"files/5-3/point.png\" width=100 align=\"left\" />For example, the inequality constraint ${x_1}^2 + x_2 + 3 ≤ 0$ has equation ${x_1}^2 + x_2 + 3 = 0$. This would be satisfied for the point $(6, -39)$ but not $(6, -40)$."
   ]
  },
  {
   "cell_type": "markdown",
   "metadata": {},
   "source": [
    "###Practice Problem A\n",
    "Given the constraint $3x_1 – 2x_1{x_2}^2 + 9 ≤ 0$, find three points that fall on the boundary of this constraint."
   ]
  },
  {
   "cell_type": "code",
   "execution_count": null,
   "metadata": {
    "collapsed": true
   },
   "outputs": [],
   "source": [
    "# Calculate here"
   ]
  },
  {
   "cell_type": "code",
   "execution_count": null,
   "metadata": {
    "collapsed": false
   },
   "outputs": [],
   "source": [
    "revealable(ans503A)"
   ]
  },
  {
   "cell_type": "markdown",
   "metadata": {},
   "source": [
    "##Initial Steps\n",
    "Since the initial point is randomly chosen, there is a good chance that the direction of steepest descent (the negative of the objective function gradient) lies in a feasible direction.\n",
    "\n",
    "To test this:\n",
    "* Find the negative of the objective function gradient at the initial point. \n",
    "* Find the dot product with the constraint gradient at that point. \n",
    "* If the dot product is negative, then the steepest-descent vector lies in a feasible direction.\n",
    "  (If it doesn't, then you can skip the first phase entirely.)\n"
   ]
  },
  {
   "cell_type": "markdown",
   "metadata": {},
   "source": [
    "###Practice Problem B\n",
    "Find whether the steepest-descent vector lies in a feasible direction for the following objective functions ($f$), constraints ($g$) and initial points ($x$).\n",
    "1. $f = 5x_1 + {x_2}^2$, $g = 4x_1x_2 + 12$, $x = (1, -3)$<br /><br />\n",
    "2. $f = {x_1}^2 – 20x_2$, $g = 4{x_1}^2 – x_2$, $x = (1, 4)$<br /><br />\n",
    "3. $f = 3x_1{x_2}^2$, $g = {x_1}^2 + {x_2}^2 – 10$, $x = (2, -\\sqrt{6})$"
   ]
  },
  {
   "cell_type": "code",
   "execution_count": null,
   "metadata": {
    "collapsed": true
   },
   "outputs": [],
   "source": [
    "# Calculate"
   ]
  },
  {
   "cell_type": "code",
   "execution_count": null,
   "metadata": {
    "collapsed": false
   },
   "outputs": [],
   "source": [
    "revealable(ans503B)"
   ]
  },
  {
   "cell_type": "markdown",
   "metadata": {},
   "source": [
    "##Phase 1\n",
    "If the steepest descent vector lies in a feasible direction, then the situation probably looks something like this: \n",
    "\n",
    "<img src=\"files/5-3/feasdir.png\" width=300 />\n",
    "\n",
    "The steepest descent vector will cut across the interior of the feasible region, either:\n",
    "* nearing a minimum in the interior or \n",
    "* running into a different boundary.\n",
    "\n",
    "We can trace the path of the steepest descent vector $<v_1, v_2>$ from initial point $(x_1, x_2)$ using the vector translation formula: \n",
    "\n",
    "$$\\begin{align}new~point &= old~point + a·(vector) \\\\\n",
    "new~point &= (x_1 + av_1, x_2 + av_2)\\end{align}$$\n",
    "\n",
    "If this looks familiar, that’s because we used the exact same formula in last unit's methods for minimization without constraints.\n",
    "\n",
    "The following step is also identical to last unit: we will plug the $new~point$ into the objective function.\n",
    "\n",
    "Suppose we are working with\n",
    "$$f = {x_1}^2 – 20x_2 \\\\\n",
    "g = 4{x_1}^2 – x_2 \\\\\n",
    "x_0 = (1, 4)$$\n",
    "\n",
    "In Practice Problem B2 you determined that the initial descent vector $<-2, 20>$ was moving in a feasible direction. We can therefore write the new point as:\n",
    "\t$$new~point = (1-2a, 4+20a)$$\n",
    "and plug this into the objective function:\n",
    "\t$$f = (1 – 2a)^2 – 20(4 + 20a)$$\n",
    "which is now a function in one variable, so we can minimize it."
   ]
  },
  {
   "cell_type": "markdown",
   "metadata": {},
   "source": [
    "###Practice Problem C\n",
    "Given the objective function $f$, constraint $g$, and initial point $x$, verify that the steepest descent vector lies in a feasible direction, then rewrite $f$ as a function of $a$.\n",
    "1. $f = 3x_1{x_2}^2$, $g = {x_1}^2 + {x_2}^2 – 10$, $x = (2, -\\sqrt{6})$\n",
    "2. $f = {x_1}^2 + 2{x_2}^2$, $g = 2x_1x)^2 – x_1$, $x = (4, 0.5)$"
   ]
  },
  {
   "cell_type": "code",
   "execution_count": null,
   "metadata": {
    "collapsed": true
   },
   "outputs": [],
   "source": [
    "# Calculate here"
   ]
  },
  {
   "cell_type": "code",
   "execution_count": null,
   "metadata": {
    "collapsed": false
   },
   "outputs": [],
   "source": [
    "revealable(ans503C)"
   ]
  },
  {
   "cell_type": "markdown",
   "metadata": {},
   "source": [
    "##Phase 1\n",
    "If there were no boundaries, then we would just minimize $f(a)$. However, it is likely that $f(a)$ will run into a constraint before it is minimized.\n",
    "\n",
    "<img src=\"files/5-3/newpt.png\" width=100 />\n",
    "\n",
    "For this reason we need to set an upper limit on the value of $a$.  \n",
    "\n",
    "##Next Steps\n",
    "In the earlier example, we found an expression for the new point:\n",
    "$$new~point = (1 – 2a, 4 + 20a)$$\n",
    "\n",
    "Now suppose we are worried about running into the constraint $g = {x_1}^2 + {x_2}^2 – 25 ≤ 0$. Whatever the values of the new point are, they can not make $g(x)$ greater than $0$. So we need to find what values of the new point make $g(x) = 0$.\n",
    "\n",
    "This means we need to solve this equation:\n",
    "$$g(new~point) = (1 – 2a)^2 + (4 + 20a)^2 – 25 = 0$$\n",
    "The solution will be the upper limit on $a$."
   ]
  },
  {
   "cell_type": "markdown",
   "metadata": {},
   "source": [
    "###Practice Problem D\n",
    "Using either of your root-finding programs (`secant` or `Newton`), and the \"new points\" listed below (should be the same as your answers to Problems C1 and C2), find the upper limit on the value of a so it does not exceed the given constraint:\n",
    "\n",
    "1. new point $(2 – 18a, -\\sqrt{6}+12a\\sqrt{6})$, limiting constraint $g = x_2 – ln(x_1 + 3)$\n",
    "\n",
    "\t*Note: in Julia, $ln()$ is called using `log()`*<br /><br />\n",
    "2. new point $(4 – 8a, 0.5 – 2a)$, limiting constraint $g = {x_2}^2 – x_1 + 1$<br /><br />\n",
    "3. Does $a$ also have a minimum value? If so, what?"
   ]
  },
  {
   "cell_type": "code",
   "execution_count": null,
   "metadata": {
    "collapsed": true
   },
   "outputs": [],
   "source": [
    "# Find the upper limits"
   ]
  },
  {
   "cell_type": "code",
   "execution_count": null,
   "metadata": {
    "collapsed": false
   },
   "outputs": [],
   "source": [
    "revealable(ans503D)"
   ]
  },
  {
   "cell_type": "markdown",
   "metadata": {},
   "source": [
    "##End of Phase 1\n",
    "Once you have the upper limit for a, the next step is to minimize your modified objective function, $f(a)$, for values of a between 0 and the upper limit you have found. One of two things will happen:\n",
    "* The value of $a$ will be less than the upper bound. In this case, the minimum value of $f$ is probably in the interior of the region. \n",
    "* The value of $a$ will equal the upper bound. In this case, the minimum value of $f$ is probably on the boundary of the region.\n",
    "\n",
    "In either case, you would calculate the new point from the solved value of $a$.\n",
    "\n",
    "* If the point is in the interior, find the new steepest descent vector and check if that approaches a constraint. If the minimum is still interior after a few iterations, proceed from the new point as if there were no constraints (as in Unit 4). You should still check to make sure your final point satisfies all the constraints.\n",
    "* If the minimum of $f$ is on the boundary, you would start Phase 2. (Next lesson!)"
   ]
  },
  {
   "cell_type": "markdown",
   "metadata": {},
   "source": [
    "###Practice Problem E\n",
    "Use any of your minimization programs to minimize the objective functions for the scenarios you have been working with in the practice problems:\n",
    "1. $f(a) = (2-18a) · (- + 12a)^2$, $a$ in $[0, .11905]$\n",
    "2. $f(a) = (4 – 8a)^2 + 2(.5-2a)^2$, $a$ in $[0, .368034]$\n",
    "\n",
    "For each, find the value of the \"new point.\""
   ]
  },
  {
   "cell_type": "code",
   "execution_count": null,
   "metadata": {
    "collapsed": true
   },
   "outputs": [],
   "source": [
    "# Minimize here"
   ]
  },
  {
   "cell_type": "code",
   "execution_count": null,
   "metadata": {
    "collapsed": false
   },
   "outputs": [],
   "source": [
    "revealable(ans503E)"
   ]
  },
  {
   "cell_type": "markdown",
   "metadata": {},
   "source": [
    "###Practice Problem F\n",
    "1. The point you found in E1 for the objective function $f(x) = 3x_1{x_2}^2$ was an interior point. Verify that the gradient there is 0. Then find the eigenvalues of the Hessian to determine whether it is, in fact, a minimum.<br /><br />\n",
    "2. Verify that the new point from E2 lies on the constraint boundary $g(x) = {x_2}^2 – x_1 + 1$. Check that the steepest descent vector for $f(x) = {x_1}^2 + 2{x_2}^2$, at the new point, is not in a feasible direction."
   ]
  },
  {
   "cell_type": "code",
   "execution_count": null,
   "metadata": {
    "collapsed": true
   },
   "outputs": [],
   "source": [
    "# Calculate here"
   ]
  },
  {
   "cell_type": "code",
   "execution_count": null,
   "metadata": {
    "collapsed": false
   },
   "outputs": [],
   "source": [
    "revealable(ans503F)"
   ]
  },
  {
   "cell_type": "code",
   "execution_count": null,
   "metadata": {
    "collapsed": true
   },
   "outputs": [],
   "source": []
  }
 ],
 "metadata": {
  "kernelspec": {
   "display_name": "Julia 0.3.10",
   "language": "julia",
   "name": "julia-0.3"
  },
  "language_info": {
   "file_extension": ".jl",
   "mimetype": "application/julia",
   "name": "julia",
   "version": "0.3.10"
  }
 },
 "nbformat": 4,
 "nbformat_minor": 0
}
