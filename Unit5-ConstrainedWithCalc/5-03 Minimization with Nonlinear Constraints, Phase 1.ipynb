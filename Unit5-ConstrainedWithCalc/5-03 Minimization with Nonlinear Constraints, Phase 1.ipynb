{
 "cells": [
  {
   "cell_type": "markdown",
   "metadata": {
    "run_control": {
     "read_only": false
    }
   },
   "source": [
    "# 5-3 Minimization with Nonlinear Constraints: Phase 1\n",
    "* Initial Steps\n",
    "* Steps of Phase 1"
   ]
  },
  {
   "cell_type": "code",
   "execution_count": 1,
   "metadata": {},
   "outputs": [
    {
     "data": {
      "text/html": [
       "<div id=\"interact-js-shim\">\n",
       "    <script charset=\"utf-8\">\r\n",
       "(function (IPython, $, _, MathJax) {\r\n",
       "    $.event.special.destroyed = {\r\n",
       "\tremove: function(o) {\r\n",
       "\t    if (o.handler) {\r\n",
       "\t\to.handler.apply(this, arguments)\r\n",
       "\t    }\r\n",
       "\t}\r\n",
       "    }\r\n",
       "\r\n",
       "    var OutputArea = IPython.version >= \"4.0.0\" ? require(\"notebook/js/outputarea\").OutputArea : IPython.OutputArea;\r\n",
       "\r\n",
       "    var redrawValue = function (container, type, val) {\r\n",
       "\tvar selector = $(\"<div/>\");\r\n",
       "\tvar oa = new OutputArea(_.extend(selector, {\r\n",
       "\t    selector: selector,\r\n",
       "\t    prompt_area: true,\r\n",
       "\t    events: IPython.events,\r\n",
       "\t    keyboard_manager: IPython.keyboard_manager\r\n",
       "\t})); // Hack to work with IPython 2.1.0\r\n",
       "\r\n",
       "\tswitch (type) {\r\n",
       "\tcase \"image/png\":\r\n",
       "            var _src = 'data:' + type + ';base64,' + val;\r\n",
       "\t    $(container).find(\"img\").attr('src', _src);\r\n",
       "\t    break;\r\n",
       "\tcase \"text/latex\":\r\n",
       "\t\tif (MathJax){\r\n",
       "\t\t\tvar math = MathJax.Hub.getAllJax(container)[0];\r\n",
       "\t\t\tMathJax.Hub.Queue([\"Text\", math, val.replace(/^\\${1,2}|\\${1,2}$/g, '')]);\r\n",
       "\t\t\tbreak;\r\n",
       "\t\t}\r\n",
       "\tdefault:\r\n",
       "\t    var toinsert = OutputArea.append_map[type].apply(\r\n",
       "\t\toa, [val, {}, selector]\r\n",
       "\t    );\r\n",
       "\t    $(container).empty().append(toinsert.contents());\r\n",
       "\t    selector.remove();\r\n",
       "\t}\r\n",
       "    }\r\n",
       "\r\n",
       "\r\n",
       "    $(document).ready(function() {\r\n",
       "\tfunction initComm(evt, data) {\r\n",
       "\t    var comm_manager = data.kernel.comm_manager;\r\n",
       "        //_.extend(comm_manager.targets, require(\"widgets/js/widget\"))\r\n",
       "\t    comm_manager.register_target(\"Signal\", function (comm) {\r\n",
       "            comm.on_msg(function (msg) {\r\n",
       "                var val = msg.content.data.value;\r\n",
       "                $(\".signal-\" + comm.comm_id).each(function() {\r\n",
       "                var type = $(this).data(\"type\");\r\n",
       "                if (typeof(val[type]) !== \"undefined\" && val[type] !== null) {\r\n",
       "                    redrawValue(this, type, val[type], type);\r\n",
       "                }\r\n",
       "                });\r\n",
       "                delete val;\r\n",
       "                delete msg.content.data.value;\r\n",
       "            });\r\n",
       "\t    });\r\n",
       "\r\n",
       "\t    // coordingate with Comm and redraw Signals\r\n",
       "\t    // XXX: Test using Reactive here to improve performance\r\n",
       "\t    $([IPython.events]).on(\r\n",
       "\t\t'output_appended.OutputArea', function (event, type, value, md, toinsert) {\r\n",
       "\t\t    if (md && md.reactive) {\r\n",
       "                // console.log(md.comm_id);\r\n",
       "                toinsert.addClass(\"signal-\" + md.comm_id);\r\n",
       "                toinsert.data(\"type\", type);\r\n",
       "                // Signal back indicating the mimetype required\r\n",
       "                var comm_manager = IPython.notebook.kernel.comm_manager;\r\n",
       "                var comm = comm_manager.comms[md.comm_id];\r\n",
       "                comm.then(function (c) {\r\n",
       "                    c.send({action: \"subscribe_mime\",\r\n",
       "                       mime: type});\r\n",
       "                    toinsert.bind(\"destroyed\", function() {\r\n",
       "                        c.send({action: \"unsubscribe_mime\",\r\n",
       "                               mime: type});\r\n",
       "                    });\r\n",
       "                })\r\n",
       "\t\t    }\r\n",
       "\t    });\r\n",
       "\t}\r\n",
       "\r\n",
       "\ttry {\r\n",
       "\t    // try to initialize right away. otherwise, wait on the status_started event.\r\n",
       "\t    initComm(undefined, IPython.notebook);\r\n",
       "\t} catch (e) {\r\n",
       "\t    $([IPython.events]).on('kernel_created.Kernel kernel_created.Session', initComm);\r\n",
       "\t}\r\n",
       "    });\r\n",
       "})(IPython, jQuery, _, MathJax);\r\n",
       "</script>\n",
       "    <script>\n",
       "        window.interactLoadedFlag = true\n",
       "       $(\"#interact-js-shim\").bind(\"destroyed\", function () {\n",
       "           if (window.interactLoadedFlag) {\n",
       "               console.warn(\"JavaScript required by Interact will be removed if you remove this cell or run using Interact more than once.\")\n",
       "           }\n",
       "       })\n",
       "       $([IPython.events]).on(\"kernel_starting.Kernel kernel_restarting.Kernel\", function () { window.interactLoadedFlag = false })\n",
       "   </script>\n",
       "</div>"
      ]
     },
     "metadata": {},
     "output_type": "display_data"
    },
    {
     "data": {
      "text/markdown": [
       "\n"
      ],
      "text/plain": [
       "Revealables.Revealable(\"###Answer F\\n1. Three is a challenge! I had to look it up. I won't give away the third, but there are a lot of possibilities. I'd be worried if their belief state wasn't something like: allergies 48%, cold 48%, <other> 2%. Make them fill in \\\"other\\\", even if they have to look it up too. It was educational.\\n2. I personally don't like over-medicating my patients (maybe this is why I'm a math teacher) so my action would be to wait a week and do nothing.\\n3. If they're still sneezing after waiting a week, my belief state would become: allergies 80%, cold 15%, <other> 5%.\\n4. They could get really insightful here. I would ask a lot of questions trying to eliminate the \\\"other\\\" hypothesis and narrow it down to cold or allergies, and then I would try to narrow it between those (is it seasonal? what seasons? do you work with small children? is your family sick?). I would try more wait time which would hopefully give a cold time to pass on, and then see if allergy meds helped. If they did, then there's the answer. If they didn't, then I would conclude that while allergies are still possible they are much less probable. At some point \\\"cold\\\" and \\\"allergies\\\" would both be so improbable I'd have to look deeper into the \\\"other\\\" option and maybe expand my state possibilities beyond three.\\n\\nYou gain a lot of insight into medicine by thinking of doctors as POMDP systems. Probably because they are.\\n\", \"Answer\", false, false)"
      ]
     },
     "execution_count": 1,
     "metadata": {},
     "output_type": "execute_result"
    }
   ],
   "source": [
    "using Revealables\n",
    "include(\"files/answers.jl\")"
   ]
  },
  {
   "cell_type": "markdown",
   "metadata": {},
   "source": [
    "##Initial Steps\n",
    "As mentioned in the previous lesson, most procedures start by choosing a random point on a random boundary. To do this, we must ensure that the point satisfies the equation (not the inequality) for one of the constraints.\n",
    "\n",
    "<img src=\"files/5-3/point.png\" width=100 align=\"left\" />For example, the inequality constraint ${x_1}^2 + x_2 + 3 ≤ 0$ has equation ${x_1}^2 + x_2 + 3 = 0$. This would be satisfied for the point $(6, -39)$ but not $(6, -40)$."
   ]
  },
  {
   "cell_type": "markdown",
   "metadata": {},
   "source": [
    "###Practice Problem A\n",
    "Given the constraint $3x_1 – 2x_1{x_2}^2 + 9 ≤ 0$, find three points that fall on the boundary of this constraint."
   ]
  },
  {
   "cell_type": "code",
   "execution_count": null,
   "metadata": {
    "collapsed": true
   },
   "outputs": [],
   "source": [
    "# Calculate here"
   ]
  },
  {
   "cell_type": "code",
   "execution_count": 2,
   "metadata": {},
   "outputs": [
    {
     "data": {
      "text/html": [],
      "text/plain": [
       "Interact.ToggleButton(1: \"input\" = false Bool , \"Answer\", false)"
      ]
     },
     "metadata": {},
     "output_type": "display_data"
    },
    {
     "data": {
      "text/markdown": [
       "\n"
      ],
      "text/plain": [
       "Revealables.Revealable(\"###Answer A\\nAnswers will vary; examples are (-3, 0), (1, -9) and (-1, -9). The easiest thing, in this equation, is to set x<sub>2</sub> equal to whatever and solve for x<sub>1</sub>. You could also set x<sub>1</sub> equal to whatever, but then you'd have to square root, no big deal though.\\n\", \"Answer\", false, false)"
      ]
     },
     "execution_count": 2,
     "metadata": {
      "comm_id": "8dc1892a-ec25-47d8-91bc-e824c9322fea",
      "reactive": true
     },
     "output_type": "execute_result"
    },
    {
     "name": "stderr",
     "output_type": "stream",
     "text": [
      "WARNING: Compat.ASCIIString is deprecated, use String instead.\n",
      "  likely near C:\\Users\\Victoria Docherty\\.julia\\v0.6\\IJulia\\src\\kernel.jl:31\n",
      "WARNING: Compat.ASCIIString is deprecated, use String instead.\n",
      "  likely near C:\\Users\\Victoria Docherty\\.julia\\v0.6\\IJulia\\src\\kernel.jl:31\n",
      "WARNING: Compat.ASCIIString is deprecated, use String instead.\n",
      "  likely near C:\\Users\\Victoria Docherty\\.julia\\v0.6\\IJulia\\src\\kernel.jl:31\n",
      "WARNING: Compat.ASCIIString is deprecated, use String instead.\n",
      "  likely near C:\\Users\\Victoria Docherty\\.julia\\v0.6\\IJulia\\src\\kernel.jl:31\n"
     ]
    }
   ],
   "source": [
    "revealable(ans503A)"
   ]
  },
  {
   "cell_type": "markdown",
   "metadata": {},
   "source": [
    "##Initial Steps\n",
    "Since the initial point is randomly chosen, there is a good chance that the direction of steepest descent (the negative of the objective function gradient) lies in a feasible direction.\n",
    "\n",
    "To test this:\n",
    "* Find the negative of the objective function gradient at the initial point. \n",
    "* Find the dot product with the constraint gradient at that point. \n",
    "* If the dot product is negative, then the steepest-descent vector lies in a feasible direction.\n",
    "  (If it doesn't, then you can skip the first phase entirely.)\n"
   ]
  },
  {
   "cell_type": "markdown",
   "metadata": {},
   "source": [
    "###Practice Problem B\n",
    "Find whether the steepest-descent vector lies in a feasible direction for the following objective functions ($f$), constraints ($g$) and initial points ($x$).\n",
    "1. $f = 5x_1 + {x_2}^2$, $g = 4x_1x_2 + 12$, $x = (1, -3)$<br /><br />\n",
    "2. $f = {x_1}^2 – 20x_2$, $g = 4{x_1}^2 – x_2$, $x = (1, 4)$<br /><br />\n",
    "3. $f = 3x_1{x_2}^2$, $g = {x_1}^2 + {x_2}^2 – 10$, $x = (2, -\\sqrt{6})$"
   ]
  },
  {
   "cell_type": "code",
   "execution_count": null,
   "metadata": {
    "collapsed": true
   },
   "outputs": [],
   "source": [
    "# Calculate"
   ]
  },
  {
   "cell_type": "code",
   "execution_count": 3,
   "metadata": {},
   "outputs": [
    {
     "data": {
      "text/html": [],
      "text/plain": [
       "Interact.ToggleButton(4: \"input-2\" = false Bool , \"Answer\", false)"
      ]
     },
     "metadata": {},
     "output_type": "display_data"
    },
    {
     "data": {
      "text/markdown": [
       "\n"
      ],
      "text/plain": [
       "Revealables.Revealable(\"###Answer B\\n1. Steepest descent vector &lt;-5, 6&gt;, constraint gradient [-12, 4], dot product is POSITIVE: steepest descent is not feasible.\\n2. Steepest descent vector &lt;-2, 20&gt;, constraint gradient [8, -1], dot product is NEGATIVE: steepest descent is feasible.\\n3. Steepest descent vector &lt;-18, 12sqrt(6)&gt;, constraint gradient [4, -2sqrt(6)], dot product is NEGATIVE: steepest descent is feasible.\\n\", \"Answer\", false, false)"
      ]
     },
     "execution_count": 3,
     "metadata": {
      "comm_id": "5485a934-e15c-4561-91d4-a3ba1e58ff77",
      "reactive": true
     },
     "output_type": "execute_result"
    },
    {
     "name": "stderr",
     "output_type": "stream",
     "text": [
      "WARNING: Compat.ASCIIString is deprecated, use String instead.\n",
      "  likely near C:\\Users\\Victoria Docherty\\.julia\\v0.6\\IJulia\\src\\kernel.jl:31\n",
      "WARNING: Compat.ASCIIString is deprecated, use String instead.\n",
      "  likely near C:\\Users\\Victoria Docherty\\.julia\\v0.6\\IJulia\\src\\kernel.jl:31\n"
     ]
    }
   ],
   "source": [
    "revealable(ans503B)"
   ]
  },
  {
   "cell_type": "markdown",
   "metadata": {},
   "source": [
    "##Phase 1\n",
    "If the steepest descent vector lies in a feasible direction, then the situation probably looks something like this: \n",
    "\n",
    "<img src=\"files/5-3/feasdir.png\" width=300 />\n",
    "\n",
    "The steepest descent vector will cut across the interior of the feasible region, either:\n",
    "* nearing a minimum in the interior or \n",
    "* running into a different boundary.\n",
    "\n",
    "We can trace the path of the steepest descent vector $<v_1, v_2>$ from initial point $(x_1, x_2)$ using the vector translation formula: \n",
    "\n",
    "$$\\begin{align}new~point &= old~point + a·(vector) \\\\\n",
    "new~point &= (x_1 + av_1, x_2 + av_2)\\end{align}$$\n",
    "\n",
    "If this looks familiar, that’s because we used the exact same formula in last unit's methods for minimization without constraints.\n",
    "\n",
    "The following step is also identical to last unit: we will plug the $new~point$ into the objective function.\n",
    "\n",
    "Suppose we are working with\n",
    "$$f = {x_1}^2 – 20x_2 \\\\\n",
    "g = 4{x_1}^2 – x_2 \\\\\n",
    "x_0 = (1, 4)$$\n",
    "\n",
    "In Practice Problem B2 you determined that the initial descent vector $<-2, 20>$ was moving in a feasible direction. We can therefore write the new point as:\n",
    "\t$$new~point = (1-2a, 4+20a)$$\n",
    "and plug this into the objective function:\n",
    "\t$$f = (1 – 2a)^2 – 20(4 + 20a)$$\n",
    "which is now a function in one variable, so we can minimize it."
   ]
  },
  {
   "cell_type": "markdown",
   "metadata": {},
   "source": [
    "###Practice Problem C\n",
    "Given the objective function $f$, constraint $g$, and initial point $x$, verify that the steepest descent vector lies in a feasible direction, then rewrite $f$ as a function of $a$.\n",
    "1. $f = 3x_1{x_2}^2$, $g = {x_1}^2 + {x_2}^2 – 10$, $x = (2, -\\sqrt{6})$\n",
    "2. $f = {x_1}^2 + 2{x_2}^2$, $g = 2x_1x)^2 – x_1$, $x = (4, 0.5)$"
   ]
  },
  {
   "cell_type": "code",
   "execution_count": null,
   "metadata": {
    "collapsed": true
   },
   "outputs": [],
   "source": [
    "# Calculate here"
   ]
  },
  {
   "cell_type": "code",
   "execution_count": 4,
   "metadata": {},
   "outputs": [
    {
     "data": {
      "text/html": [],
      "text/plain": [
       "Interact.ToggleButton(7: \"input-3\" = false Bool , \"Answer\", false)"
      ]
     },
     "metadata": {},
     "output_type": "display_data"
    },
    {
     "data": {
      "text/markdown": [
       "\n"
      ],
      "text/plain": [
       "Revealables.Revealable(\"###Answer C\\n1. This is the same scenario as practice problem B3. f(a) = (2-18a)\\\\*(-sqrt(6) + 12sqrt(6)\\\\*a)<sup>2</sup>\\n2. Steepest descent vector &lt;-8, -2&gt; is feasible (constraint gradient [0 8]). f(a) = (4 - 8a)<sup>2</sup> + 2(.5-2a)<sup>2</sup>\\n\", \"Answer\", false, false)"
      ]
     },
     "execution_count": 4,
     "metadata": {
      "comm_id": "3cf5d2ec-4d12-440d-8eea-cca8543d4d02",
      "reactive": true
     },
     "output_type": "execute_result"
    }
   ],
   "source": [
    "revealable(ans503C)"
   ]
  },
  {
   "cell_type": "markdown",
   "metadata": {},
   "source": [
    "##Phase 1\n",
    "If there were no boundaries, then we would just minimize $f(a)$. However, it is likely that $f(a)$ will run into a constraint before it is minimized.\n",
    "\n",
    "<img src=\"files/5-3/newpt.png\" width=100 />\n",
    "\n",
    "For this reason we need to set an upper limit on the value of $a$.  \n",
    "\n",
    "##Next Steps\n",
    "In the earlier example, we found an expression for the new point:\n",
    "$$new~point = (1 – 2a, 4 + 20a)$$\n",
    "\n",
    "Now suppose we are worried about running into the constraint $g = {x_1}^2 + {x_2}^2 – 25 ≤ 0$. Whatever the values of the new point are, they can not make $g(x)$ greater than $0$. So we need to find what values of the new point make $g(x) = 0$.\n",
    "\n",
    "This means we need to solve this equation:\n",
    "$$g(new~point) = (1 – 2a)^2 + (4 + 20a)^2 – 25 = 0$$\n",
    "The solution will be the upper limit on $a$."
   ]
  },
  {
   "cell_type": "markdown",
   "metadata": {},
   "source": [
    "###Practice Problem D\n",
    "Using either of your root-finding programs (`secant` or `Newton`), and the \"new points\" listed below (should be the same as your answers to Problems C1 and C2), find the upper limit on the value of a so it does not exceed the given constraint:\n",
    "\n",
    "1. new point $(2 – 18a, -\\sqrt{6}+12a\\sqrt{6})$, limiting constraint $g = x_2 – ln(x_1 + 3)$\n",
    "\n",
    "\t*Note: in Julia, $ln()$ is called using `log()`*<br /><br />\n",
    "2. new point $(4 – 8a, 0.5 – 2a)$, limiting constraint $g = {x_2}^2 – x_1 + 1$<br /><br />\n",
    "3. Does $a$ also have a minimum value? If so, what?"
   ]
  },
  {
   "cell_type": "code",
   "execution_count": null,
   "metadata": {
    "collapsed": true
   },
   "outputs": [],
   "source": [
    "# Find the upper limits"
   ]
  },
  {
   "cell_type": "code",
   "execution_count": 5,
   "metadata": {},
   "outputs": [
    {
     "data": {
      "text/html": [],
      "text/plain": [
       "Interact.ToggleButton(10: \"input-4\" = false Bool , \"Answer\", false)"
      ]
     },
     "metadata": {},
     "output_type": "display_data"
    },
    {
     "data": {
      "text/markdown": [
       "\n"
      ],
      "text/plain": [
       "Revealables.Revealable(\"###Answer D\\n1. constraint g(a) = (-sqrt(6) + 12sqrt(6)\\\\*a) - ln(2 - 18a + 3) = 0 at a = 0.11905\\n2. constraint g(a) = (.5 - 2a)^2 - (4 - 8a) +1 = 0 at a = 0.368034\\n3. a has a minimum value of 0.\\n\", \"Answer\", false, false)"
      ]
     },
     "execution_count": 5,
     "metadata": {
      "comm_id": "26b0b217-07ba-426a-9a59-4d1b249cf879",
      "reactive": true
     },
     "output_type": "execute_result"
    }
   ],
   "source": [
    "revealable(ans503D)"
   ]
  },
  {
   "cell_type": "markdown",
   "metadata": {},
   "source": [
    "##End of Phase 1\n",
    "Once you have the upper limit for a, the next step is to minimize your modified objective function, $f(a)$, for values of a between 0 and the upper limit you have found. One of two things will happen:\n",
    "* The value of $a$ will be less than the upper bound. In this case, the minimum value of $f$ is probably in the interior of the region. \n",
    "* The value of $a$ will equal the upper bound. In this case, the minimum value of $f$ is probably on the boundary of the region.\n",
    "\n",
    "In either case, you would calculate the new point from the solved value of $a$.\n",
    "\n",
    "* If the point is in the interior, find the new steepest descent vector and check if that approaches a constraint. If the minimum is still interior after a few iterations, proceed from the new point as if there were no constraints (as in Unit 4). You should still check to make sure your final point satisfies all the constraints.\n",
    "* If the minimum of $f$ is on the boundary, you would start Phase 2. (Next lesson!)"
   ]
  },
  {
   "cell_type": "markdown",
   "metadata": {},
   "source": [
    "###Practice Problem E\n",
    "Use any of your minimization programs to minimize the objective functions for the scenarios you have been working with in the practice problems:\n",
    "1. $f(a) = (2-18a) · (- + 12a)^2$, $a$ in $[0, .11905]$\n",
    "2. $f(a) = (4 – 8a)^2 + 2(.5-2a)^2$, $a$ in $[0, .368034]$\n",
    "\n",
    "For each, find the value of the \"new point.\""
   ]
  },
  {
   "cell_type": "code",
   "execution_count": null,
   "metadata": {
    "collapsed": true
   },
   "outputs": [],
   "source": [
    "# Minimize here"
   ]
  },
  {
   "cell_type": "code",
   "execution_count": 6,
   "metadata": {},
   "outputs": [
    {
     "data": {
      "text/html": [],
      "text/plain": [
       "Interact.ToggleButton(13: \"input-5\" = false Bool , \"Answer\", false)"
      ]
     },
     "metadata": {},
     "output_type": "display_data"
    },
    {
     "data": {
      "text/markdown": [
       "\n"
      ],
      "text/plain": [
       "Revealables.Revealable(\"###Answer E\\n1. New point is (.5, 0) &mdash; in the interior.\\n2. New point is (1.0557, -0.2361).\\n\", \"Answer\", false, false)"
      ]
     },
     "execution_count": 6,
     "metadata": {
      "comm_id": "47d5abae-707e-4f97-9b40-6ee3f303b0e4",
      "reactive": true
     },
     "output_type": "execute_result"
    }
   ],
   "source": [
    "revealable(ans503E)"
   ]
  },
  {
   "cell_type": "markdown",
   "metadata": {},
   "source": [
    "###Practice Problem F\n",
    "1. The point you found in E1 for the objective function $f(x) = 3x_1{x_2}^2$ was an interior point. Verify that the gradient there is 0. Then find the eigenvalues of the Hessian to determine whether it is, in fact, a minimum.<br /><br />\n",
    "2. Verify that the new point from E2 lies on the constraint boundary $g(x) = {x_2}^2 – x_1 + 1$. Check that the steepest descent vector for $f(x) = {x_1}^2 + 2{x_2}^2$, at the new point, is not in a feasible direction."
   ]
  },
  {
   "cell_type": "code",
   "execution_count": null,
   "metadata": {
    "collapsed": true
   },
   "outputs": [],
   "source": [
    "# Calculate here"
   ]
  },
  {
   "cell_type": "code",
   "execution_count": 7,
   "metadata": {},
   "outputs": [
    {
     "data": {
      "text/html": [],
      "text/plain": [
       "Interact.ToggleButton(16: \"input-6\" = false Bool , \"Answer\", false)"
      ]
     },
     "metadata": {},
     "output_type": "display_data"
    },
    {
     "data": {
      "text/markdown": [
       "\n"
      ],
      "text/plain": [
       "Revealables.Revealable(\"###Answer F\\n1. Gradient = 0, but the eigenvalues of the Hessian (0 and 0.5 &mdash; you might need some sreview here, I did!) are not both positive. The fact that one is 0 means that this is an indeterminate point. What happened is the objective function is similar to the 2D equation xy = 1, or y = 1/x, which is not differentiable at x = 0. The same problem occurs here.\\n<br /><br />\\n2. Gradient of f = [2x<sub>1</sub>  4x<sub>2</sub>], at the new point = [2.111, -0.944], steepest descent = &lt;-2.111, 0.944&gt;.<br /><br />\\nConstraint gradient  = [-1  2x<sub>2</sub>], at the new point = [-1, -0.472].<br /><br />\\nThe dot product of the steepest descent vector and the constraint gradient is positive; therefore it is not feasible to continue moving in the direction of steepest descent.\\n\", \"Answer\", false, false)"
      ]
     },
     "execution_count": 7,
     "metadata": {
      "comm_id": "51ad5b2b-0db5-4b5a-a3ef-f8e504e41824",
      "reactive": true
     },
     "output_type": "execute_result"
    }
   ],
   "source": [
    "revealable(ans503F)"
   ]
  },
  {
   "cell_type": "code",
   "execution_count": null,
   "metadata": {
    "collapsed": true
   },
   "outputs": [],
   "source": []
  }
 ],
 "metadata": {
  "kernelspec": {
   "display_name": "Julia 0.6.0",
   "language": "julia",
   "name": "julia-0.6"
  },
  "language_info": {
   "file_extension": ".jl",
   "mimetype": "application/julia",
   "name": "julia",
   "version": "0.6.0"
  }
 },
 "nbformat": 4,
 "nbformat_minor": 1
}
