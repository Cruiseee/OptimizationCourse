{
 "cells": [
  {
   "cell_type": "markdown",
   "metadata": {
    "run_control": {
     "read_only": false
    }
   },
   "source": [
    "# 5-4 Minimizing with Nonlinear Constraints: Phase 2\n",
    "* Vector Normalization\n",
    "* Phase 2\n",
    "* Corner Regions"
   ]
  },
  {
   "cell_type": "code",
   "execution_count": 1,
   "metadata": {
    "run_control": {
     "read_only": false
    }
   },
   "outputs": [
    {
     "data": {
      "text/html": [
       "<div id=\"interact-js-shim\">\n",
       "    <script charset=\"utf-8\">\r\n",
       "(function (IPython, $, _, MathJax) {\r\n",
       "    $.event.special.destroyed = {\r\n",
       "\tremove: function(o) {\r\n",
       "\t    if (o.handler) {\r\n",
       "\t\to.handler.apply(this, arguments)\r\n",
       "\t    }\r\n",
       "\t}\r\n",
       "    }\r\n",
       "\r\n",
       "    var OutputArea = IPython.version >= \"4.0.0\" ? require(\"notebook/js/outputarea\").OutputArea : IPython.OutputArea;\r\n",
       "\r\n",
       "    var redrawValue = function (container, type, val) {\r\n",
       "\tvar selector = $(\"<div/>\");\r\n",
       "\tvar oa = new OutputArea(_.extend(selector, {\r\n",
       "\t    selector: selector,\r\n",
       "\t    prompt_area: true,\r\n",
       "\t    events: IPython.events,\r\n",
       "\t    keyboard_manager: IPython.keyboard_manager\r\n",
       "\t})); // Hack to work with IPython 2.1.0\r\n",
       "\r\n",
       "\tswitch (type) {\r\n",
       "\tcase \"image/png\":\r\n",
       "            var _src = 'data:' + type + ';base64,' + val;\r\n",
       "\t    $(container).find(\"img\").attr('src', _src);\r\n",
       "\t    break;\r\n",
       "\tcase \"text/latex\":\r\n",
       "\t\tif (MathJax){\r\n",
       "\t\t\tvar math = MathJax.Hub.getAllJax(container)[0];\r\n",
       "\t\t\tMathJax.Hub.Queue([\"Text\", math, val.replace(/^\\${1,2}|\\${1,2}$/g, '')]);\r\n",
       "\t\t\tbreak;\r\n",
       "\t\t}\r\n",
       "\tdefault:\r\n",
       "\t    var toinsert = OutputArea.append_map[type].apply(\r\n",
       "\t\toa, [val, {}, selector]\r\n",
       "\t    );\r\n",
       "\t    $(container).empty().append(toinsert.contents());\r\n",
       "\t    selector.remove();\r\n",
       "\t}\r\n",
       "    }\r\n",
       "\r\n",
       "\r\n",
       "    $(document).ready(function() {\r\n",
       "\tfunction initComm(evt, data) {\r\n",
       "\t    var comm_manager = data.kernel.comm_manager;\r\n",
       "        //_.extend(comm_manager.targets, require(\"widgets/js/widget\"))\r\n",
       "\t    comm_manager.register_target(\"Signal\", function (comm) {\r\n",
       "            comm.on_msg(function (msg) {\r\n",
       "                var val = msg.content.data.value;\r\n",
       "                $(\".signal-\" + comm.comm_id).each(function() {\r\n",
       "                var type = $(this).data(\"type\");\r\n",
       "                if (typeof(val[type]) !== \"undefined\" && val[type] !== null) {\r\n",
       "                    redrawValue(this, type, val[type], type);\r\n",
       "                }\r\n",
       "                });\r\n",
       "                delete val;\r\n",
       "                delete msg.content.data.value;\r\n",
       "            });\r\n",
       "\t    });\r\n",
       "\r\n",
       "\t    // coordingate with Comm and redraw Signals\r\n",
       "\t    // XXX: Test using Reactive here to improve performance\r\n",
       "\t    $([IPython.events]).on(\r\n",
       "\t\t'output_appended.OutputArea', function (event, type, value, md, toinsert) {\r\n",
       "\t\t    if (md && md.reactive) {\r\n",
       "                // console.log(md.comm_id);\r\n",
       "                toinsert.addClass(\"signal-\" + md.comm_id);\r\n",
       "                toinsert.data(\"type\", type);\r\n",
       "                // Signal back indicating the mimetype required\r\n",
       "                var comm_manager = IPython.notebook.kernel.comm_manager;\r\n",
       "                var comm = comm_manager.comms[md.comm_id];\r\n",
       "                comm.then(function (c) {\r\n",
       "                    c.send({action: \"subscribe_mime\",\r\n",
       "                       mime: type});\r\n",
       "                    toinsert.bind(\"destroyed\", function() {\r\n",
       "                        c.send({action: \"unsubscribe_mime\",\r\n",
       "                               mime: type});\r\n",
       "                    });\r\n",
       "                })\r\n",
       "\t\t    }\r\n",
       "\t    });\r\n",
       "\t}\r\n",
       "\r\n",
       "\ttry {\r\n",
       "\t    // try to initialize right away. otherwise, wait on the status_started event.\r\n",
       "\t    initComm(undefined, IPython.notebook);\r\n",
       "\t} catch (e) {\r\n",
       "\t    $([IPython.events]).on('kernel_created.Kernel kernel_created.Session', initComm);\r\n",
       "\t}\r\n",
       "    });\r\n",
       "})(IPython, jQuery, _, MathJax);\r\n",
       "</script>\n",
       "    <script>\n",
       "        window.interactLoadedFlag = true\n",
       "       $(\"#interact-js-shim\").bind(\"destroyed\", function () {\n",
       "           if (window.interactLoadedFlag) {\n",
       "               console.warn(\"JavaScript required by Interact will be removed if you remove this cell or run using Interact more than once.\")\n",
       "           }\n",
       "       })\n",
       "       $([IPython.events]).on(\"kernel_starting.Kernel kernel_restarting.Kernel\", function () { window.interactLoadedFlag = false })\n",
       "   </script>\n",
       "</div>"
      ]
     },
     "metadata": {},
     "output_type": "display_data"
    },
    {
     "data": {
      "text/markdown": [
       "\n"
      ],
      "text/plain": [
       "Revealables.Revealable(\"###Answer F\\n1. Three is a challenge! I had to look it up. I won't give away the third, but there are a lot of possibilities. I'd be worried if their belief state wasn't something like: allergies 48%, cold 48%, <other> 2%. Make them fill in \\\"other\\\", even if they have to look it up too. It was educational.\\n2. I personally don't like over-medicating my patients (maybe this is why I'm a math teacher) so my action would be to wait a week and do nothing.\\n3. If they're still sneezing after waiting a week, my belief state would become: allergies 80%, cold 15%, <other> 5%.\\n4. They could get really insightful here. I would ask a lot of questions trying to eliminate the \\\"other\\\" hypothesis and narrow it down to cold or allergies, and then I would try to narrow it between those (is it seasonal? what seasons? do you work with small children? is your family sick?). I would try more wait time which would hopefully give a cold time to pass on, and then see if allergy meds helped. If they did, then there's the answer. If they didn't, then I would conclude that while allergies are still possible they are much less probable. At some point \\\"cold\\\" and \\\"allergies\\\" would both be so improbable I'd have to look deeper into the \\\"other\\\" option and maybe expand my state possibilities beyond three.\\n\\nYou gain a lot of insight into medicine by thinking of doctors as POMDP systems. Probably because they are.\\n\", \"Answer\", false, false)"
      ]
     },
     "execution_count": 1,
     "metadata": {},
     "output_type": "execute_result"
    }
   ],
   "source": [
    "using Revealables\n",
    "using Interact\n",
    "include(\"files/extras.jl\")\n",
    "include(\"files/answers.jl\")"
   ]
  },
  {
   "cell_type": "markdown",
   "metadata": {},
   "source": [
    "##Vector Normalization\n",
    "When working with so many vectors (descent gradients, constraint gradients, and motion vectors), it's often a good idea to __normalize__ some or all of the vectors, which means to convert them into unit vectors (vectors of magnitude 1).\n",
    "\n",
    "In the very first unit, you wrote a program that normalized vectors, but it's been a long time! The steps are:\n",
    "1. Use Pythagorean Theorem to find the magnitude of the vector\n",
    "2. Divide all components by the magnitude.\n",
    "\n",
    "So, the vector $<2, -1>$ could be normalized as follows:\n",
    "1. Find the magnitude: $2^2 + (-1)^2 = c^2$, so $c = \\sqrt{5}$.\n",
    "Divide both components by the magnitude: the normalized vector is $$<\\frac{2}{\\sqrt{5}}, \\frac{-1}{\\sqrt{5}}>$$.\n",
    "\n",
    "Note that if you calculate the magnitude of $<\\frac{2}{\\sqrt{5}}, \\frac{-1}{\\sqrt{5}}>$, you get $(\\frac{2}{\\sqrt{5}})^2 + (\\frac{-1}{\\sqrt{5}})^2 = \\frac{4}{5} + \\frac{1}{5} = 1$, a unit vector."
   ]
  },
  {
   "cell_type": "markdown",
   "metadata": {},
   "source": [
    "###Practice Problem A\n",
    "Either find your old program, or write a new program, that normalizes vectors. Use it to normalize:\n",
    "1. $<1, -4>$\n",
    "2. $<-3, -4>$\n",
    "3. $<0.615, -2.889>$\n",
    "4. $<2.33, 1.5>$\n",
    "5. $<-12.221, -6.117>$"
   ]
  },
  {
   "cell_type": "code",
   "execution_count": null,
   "metadata": {
    "collapsed": true,
    "run_control": {
     "read_only": false
    }
   },
   "outputs": [],
   "source": [
    "# Write your program"
   ]
  },
  {
   "cell_type": "code",
   "execution_count": null,
   "metadata": {
    "collapsed": true,
    "run_control": {
     "read_only": false
    }
   },
   "outputs": [],
   "source": [
    "# Use it to normalize the problems above"
   ]
  },
  {
   "cell_type": "code",
   "execution_count": 2,
   "metadata": {
    "run_control": {
     "read_only": false
    }
   },
   "outputs": [
    {
     "data": {
      "text/html": [],
      "text/plain": [
       "Interact.ToggleButton(1: \"input\" = false Bool , \"Answer\", false)"
      ]
     },
     "metadata": {},
     "output_type": "display_data"
    },
    {
     "data": {
      "text/markdown": [
       "\n"
      ],
      "text/plain": [
       "Revealables.Revealable(\"###Answer A\\n1. (0.2425, -0.9701)\\n2. (-3/5, -4/5)\\n3. (0.208, -0.978)\\n4. (0.841, 0.541)\\n5. (-0.894, -0.448)\\n\\n<code>\\nfunction normalize(v) \\n    mag = sqrt((v[1])^2 + (v[2])^2) \\n    v = v/mag \\n    return(v) \\nend\\n</code>\\n\", \"Answer\", false, false)"
      ]
     },
     "execution_count": 2,
     "metadata": {
      "comm_id": "626dbcbd-3542-481d-99fb-4c27b48e1bb4",
      "reactive": true
     },
     "output_type": "execute_result"
    },
    {
     "name": "stderr",
     "output_type": "stream",
     "text": [
      "WARNING: Compat.ASCIIString is deprecated, use String instead.\n",
      "  likely near C:\\Users\\Victoria Docherty\\.julia\\v0.6\\IJulia\\src\\kernel.jl:31\n",
      "WARNING: Compat.ASCIIString is deprecated, use String instead.\n",
      "  likely near C:\\Users\\Victoria Docherty\\.julia\\v0.6\\IJulia\\src\\kernel.jl:31\n",
      "WARNING: Compat.ASCIIString is deprecated, use String instead.\n",
      "  likely near C:\\Users\\Victoria Docherty\\.julia\\v0.6\\IJulia\\src\\kernel.jl:31\n",
      "WARNING: Compat.ASCIIString is deprecated, use String instead.\n",
      "  likely near C:\\Users\\Victoria Docherty\\.julia\\v0.6\\IJulia\\src\\kernel.jl:31\n",
      "WARNING: Compat.ASCIIString is deprecated, use String instead.\n",
      "  likely near C:\\Users\\Victoria Docherty\\.julia\\v0.6\\IJulia\\src\\kernel.jl:31\n",
      "WARNING: Compat.ASCIIString is deprecated, use String instead.\n",
      "  likely near C:\\Users\\Victoria Docherty\\.julia\\v0.6\\IJulia\\src\\kernel.jl:31\n"
     ]
    }
   ],
   "source": [
    "revealable(ans504A)"
   ]
  },
  {
   "cell_type": "markdown",
   "metadata": {},
   "source": [
    "##Recap of Phase 1\n",
    "In phase 1, \n",
    "<img src=\"files/5-4/p11.png\" width=100 />\n",
    "1. An initial point is chosen.\n",
    "<img src=\"files/5-4/p12.png\" width=100 />\n",
    "2. The steepest-descent vector at that point is calculated and tested to see if it lies in a feasible direction.<img src=\"files/5-4/p14.png\" width=100 />\n",
    "3. If it does, the coordinates of the \"new point\" are calculated in terms of $a$.\n",
    "4. A maximum value of $a$ is calculated using the \"new point\" with the constraint limiting the vector in that direction.<img src=\"files/5-4/p15.png\" width=100 />\n",
    "5. The modified objective function $f(a)$ is minimized between $a = 0$ and $a = max$.\n",
    "\n",
    "Phase 1 has the effect of taking a large step across the interior of a region, usually ending up on the boundary of a different constraint from the one you started with. \n",
    "<img src=\"files/5-4/p1constr.png\" width=300 />\n",
    "\n",
    "Because the direction is calculated using the steepest-descent vector, this constraint will probably be the active constraint for the final, minimum value of the objective function."
   ]
  },
  {
   "cell_type": "markdown",
   "metadata": {},
   "source": [
    "##Phase 2\n",
    "After the initial, big step of phase 1, most adjustments are small. They usually involve traveling along the active constraint boundary in a descent direction until the minimum is found.\n",
    "<img src=\"files/5-4/p2bound.png\" width=125 />\n",
    "\n",
    "The main problem after Phase 1 is that the *steepest* descent vector is no longer feasible. There are probably other descent vectors that are feasible, but it is difficult to choose the \"best\" one. \n",
    "\n",
    "There are many techniques for finding the next point; we'll learn a relatively simple one.\n",
    "\n",
    "The basic premise for our Phase 2 is that, from the given point, we will move off from the constraint and into the feasible region by a small distance. The slider below shows the process:"
   ]
  },
  {
   "cell_type": "code",
   "execution_count": 3,
   "metadata": {
    "run_control": {
     "read_only": false
    }
   },
   "outputs": [
    {
     "data": {
      "text/html": [],
      "text/plain": [
       "Interact.Slider{Int64}(4: \"input-2\" = 1 Int64 , \"\", 1, 1:4, \"horizontal\", true, \"d\", true)"
      ]
     },
     "metadata": {},
     "output_type": "display_data"
    },
    {
     "data": {
      "text/markdown": [
       "<img src=\"files/5-4/p21.png\" width=150 />\n"
      ],
      "text/plain": [
       "Revealables.Revealable(\"<img src=\\\"files/5-4/p21.png\\\" width=150 />\", \"\", true, false)"
      ]
     },
     "execution_count": 3,
     "metadata": {
      "comm_id": "bfb5d06e-032e-4510-8f5d-608d2e5a53c1",
      "reactive": true
     },
     "output_type": "execute_result"
    }
   ],
   "source": [
    "@manipulate for s = slider(1:4, value=1)\n",
    "    phase2[s]\n",
    "end"
   ]
  },
  {
   "cell_type": "markdown",
   "metadata": {},
   "source": [
    "From this new point, the steepest descent vector should be feasible again.\n",
    "\n",
    "To find this interior point:\n",
    "1. Find the steepest descent vector for the active constraint $g(x)$. (This will be the negative of the gradient of $g(x)$.)\n",
    "2. Normalize the vector.\n",
    "3. Multiply it by a small number (for example 0.5 or 0.1, depending on the size of the region and how many iterations you're willing to take).\n",
    "4. Add that to the existing edge point to get the interior point. "
   ]
  },
  {
   "cell_type": "markdown",
   "metadata": {},
   "source": [
    "###Practice Problem B\n",
    "1. Given the point $(1.0557, -.2361)$ on constraint $g(x) = {x_2}^2 – x_1 + 1$, find a new point shifted 0.5 units off the constraint and into the feasible region.\n",
    "2. Given the point $(1, -3)$ on constraint $g(x) = 4x_1x_2 + 12$, find a new point shifted 0.1 units off the constraint and into the feasible region."
   ]
  },
  {
   "cell_type": "code",
   "execution_count": null,
   "metadata": {
    "collapsed": true,
    "run_control": {
     "read_only": false
    }
   },
   "outputs": [],
   "source": [
    "# Calculate here"
   ]
  },
  {
   "cell_type": "code",
   "execution_count": 4,
   "metadata": {
    "run_control": {
     "read_only": false
    }
   },
   "outputs": [
    {
     "data": {
      "text/html": [],
      "text/plain": [
       "Interact.ToggleButton(8: \"input-3\" = false Bool , \"Answer\", false)"
      ]
     },
     "metadata": {},
     "output_type": "display_data"
    },
    {
     "data": {
      "text/markdown": [
       "\n"
      ],
      "text/plain": [
       "Revealables.Revealable(\"###Answer B\\n1. gradient [-1 2x<sub>2</sub>], at this point [-1, -0.4722], so steepest descent is &lt;1, 0.4722&gt;. Normalized &lt;.904, 0.427&gt;, multiplied by 0.5 gives &lt;.4521, 0.2135&gt;, then added to the original point = (1.508, -0.023).<br />\\n2. gradient [4x<sub>2</sub>  4x<sub>1</sub>], at this point [-12  4], so steepest descent is &lt;12, -4&gt;. Normalized &lt;0.949, -0.316&gt;, multiplied &lt;0.0949, -0.0316&gt;. Added to initial point gives (1.0949, -3.0316).\\n\", \"Answer\", false, false)"
      ]
     },
     "execution_count": 4,
     "metadata": {
      "comm_id": "b52e8c28-3461-4872-8ddf-7300509ab86b",
      "reactive": true
     },
     "output_type": "execute_result"
    }
   ],
   "source": [
    "revealable(ans504B)"
   ]
  },
  {
   "cell_type": "markdown",
   "metadata": {},
   "source": [
    "##Phase 2\n",
    "The next step is to find the steepest descent vector for the objective function at the interior point. After that, the steps are familiar:\n",
    "1. Write a \"new point\" as\n",
    "\t$$new~point = interior point + a · vector$$\n",
    "2. Find a limiting value of a using the nearest constraint \n",
    "3. Modify the objective function into $f(a)$ and minimize between $a = 0$ and $a = max$.\n",
    "4. Plug in $a$ to find the actual value of the new point.\n"
   ]
  },
  {
   "cell_type": "markdown",
   "metadata": {},
   "source": [
    "###Practice Problem C\n",
    "Continue from Practice Problem B to find a new point on the boundary of the constraint. The information you need to know:\n",
    "1. $\\begin{array}{cc}\\\\\n",
    "interior~point & (1.508, -.023) \\\\\n",
    "nearest~constraint & g(x) = {x_2}^2 – x_1 + 1 \\\\\n",
    "objective~function & f(x) = {x_1}^2 + 2{x_2}^2\n",
    "\\end{array}$\n",
    "2. $\\begin{array}{cc} \\\\\n",
    "interior~point & (1.0949, -3.0316) \\\\\n",
    "nearest~constraint & g(x) = 4x_1x_2 + 12 \\\\\n",
    "objective~function & f(x) = 5x_1 + {x_2}^2\n",
    "\\end{array}$<br /><br />\n",
    "3. Compare your answers to the initial points $(1.0557, -0.2361)$ and $(1, -3)$ from Problem B.\n"
   ]
  },
  {
   "cell_type": "code",
   "execution_count": null,
   "metadata": {
    "collapsed": true,
    "run_control": {
     "read_only": false
    }
   },
   "outputs": [],
   "source": [
    "# Calculations"
   ]
  },
  {
   "cell_type": "code",
   "execution_count": 5,
   "metadata": {
    "run_control": {
     "read_only": false
    }
   },
   "outputs": [
    {
     "data": {
      "text/html": [],
      "text/plain": [
       "Interact.ToggleButton(11: \"input-4\" = false Bool , \"Answer\", false)"
      ]
     },
     "metadata": {},
     "output_type": "display_data"
    },
    {
     "data": {
      "text/markdown": [
       "\n"
      ],
      "text/plain": [
       "Revealables.Revealable(\"###Answer C\\nYou might have noticed that your minimum f value pretty much always occurs at the maximum a value (on the constraint), which makes a lot of sense graphically: chances are very small now that the minimum f value will occur in the interior of the feasible region since we already passed through the interior in phase 1 and landed on a constraint. You can shortcut the \\\"minimizing f\\\" step as long as you are aware that it is a shortcut which, though rarely, risks returning a wrong answer in the event that there is an interior minimum quite close to the constraint boundary.\\n\\n1. Objective function gradient [2x<sub>1</sub>  4x<sub>2</sub>], at this point = [3.016  -0.092], so steepest descent vector = &lt;-3.016, 0.92&gt;<br />\\nnew point = (1.508 - 3.016a, -0.023 + 0.92a), max value of a = 0.16308, f minimized when a = 0.16308, new point = (1.016, 0.127)<br />\\n2. Objective function gradient [5  2x<sub>2</sub>], at this point [5  -6.0632], so steepest descent vector = &lt;-5, 6.0632&gt;<br />\\n  new point = (1.0949 - 5a, -3.0316 + 6.0632a), max value of a = 0.1496, f minimized when a = 0.1496, new point = 1.02, -2.941)<br />\\n3. Both points are quite close to the originals, but not identical.\\n\", \"Answer\", false, false)"
      ]
     },
     "execution_count": 5,
     "metadata": {
      "comm_id": "6956e8ab-263b-4daa-a329-12b8512f74a8",
      "reactive": true
     },
     "output_type": "execute_result"
    }
   ],
   "source": [
    "revealable(ans504C)"
   ]
  },
  {
   "cell_type": "markdown",
   "metadata": {},
   "source": [
    "##Finishing Phase 2\n",
    "Phase 2 continues by repeating this procedure of finding an interior point, then minimizing from there, until the minimum is found. The minimum will occur when:\n",
    "* the determinant of the matrix formed by the constraint gradient and the steepest descent gradient is equal to 0, or very close\n",
    "* two successive \"edge\" points are very close together\n",
    "\n",
    "Either of these tests can be used as a stopping condition."
   ]
  },
  {
   "cell_type": "markdown",
   "metadata": {},
   "source": [
    "##Corner Regions\n",
    "Frequently, repetition of this procedure will lead to a corner region where two constraints cross:\n",
    "<img src=\"files/5-4/corner.png\" width=100 />\n",
    "\n",
    "This situation creates the need for two modifications:\n",
    "1. When finding the maximum value of a, both constraints  must be considered\n",
    "2. When \"pushing off\" from the active constraint, you may not cross over the other constraint.\n",
    "\n",
    "###Corner Regions: Finding maximum $a$\n",
    "When calculating maximum $a$ from an interior point near a corner, it can be unclear which constraint is the \"nearest\" or which one the steepest-descent vector will cross over first.\n",
    "<img src=\"files/5-4/maxa.png\" width=100 />\n",
    "\n",
    "\n",
    "In this case, calculate maximum a for both constraints and choose the most limiting (smallest) value for the maximum.\n",
    "\n",
    "Keep track of which constraint it goes with, because that will be the active constraint."
   ]
  },
  {
   "cell_type": "markdown",
   "metadata": {},
   "source": [
    "###Practice Problem D\n",
    "Given the interior point $(2.1, 2)$ between the constraints \n",
    "$$\\begin{align}\n",
    "g_1(x) &= 0.2{x_1}^2 – x_2 + 1 \\\\\n",
    "g_2(x) &= x_2 – 2^{x_1}-1\n",
    "\\end{align}$$\n",
    "\n",
    "with the goal of minimizing the objective function $f(x) = {x_1}^2 + {x_2}^2$, find the maximum value of $a$ and which constraint it is on."
   ]
  },
  {
   "cell_type": "code",
   "execution_count": null,
   "metadata": {
    "collapsed": true,
    "run_control": {
     "read_only": false
    }
   },
   "outputs": [],
   "source": [
    "# Calculate"
   ]
  },
  {
   "cell_type": "code",
   "execution_count": 6,
   "metadata": {
    "run_control": {
     "read_only": false
    }
   },
   "outputs": [
    {
     "data": {
      "text/html": [],
      "text/plain": [
       "Interact.ToggleButton(14: \"input-5\" = false Bool , \"Answer\", false)"
      ]
     },
     "metadata": {},
     "output_type": "display_data"
    },
    {
     "data": {
      "text/markdown": [
       "\n"
      ],
      "text/plain": [
       "Revealables.Revealable(\"###Answer D\\nGradient [2x<sub>1</sub>  2x<sub>2</sub>], here [4.2  4] steepest descent &lt;-4.2, -4&gt;, new point = (2.1 - 4.2a, 2 - 4a)\\n\\ng<sub>1</sub>(new) = 0 when a = 0.13253<br />\\ng<sub>2</sub>(new) = 0 when a = 0.10333\\n\\nThe second constraint will become active with max a = 0.10333.\\n\", \"Answer\", false, false)"
      ]
     },
     "execution_count": 6,
     "metadata": {
      "comm_id": "6241b3b2-b55a-40b6-b341-56bd0f7dbaea",
      "reactive": true
     },
     "output_type": "execute_result"
    }
   ],
   "source": [
    "revealable(ans504D)"
   ]
  },
  {
   "cell_type": "markdown",
   "metadata": {},
   "source": [
    "###Corner Regions: Pushing Off\n",
    "The method we use for pushing off typically finds an interior point along a vector perpendicular to the active constraint. \n",
    "\n",
    "<img src=\"files/5-4/pushoff.png\" width=100 />\n",
    "\n",
    "In a corner region, this can cause problems because it can push outside the feasible region. Usually reducing the push-off multiplier will solve the problem.\n",
    "\n",
    "If it doesn't, you may need to find a vector that moves between the two constraints.\n",
    "<img src=\"files/5-4/btwnconstrs.png\" width=100 />\n",
    "\n",
    "Here's how:"
   ]
  },
  {
   "cell_type": "code",
   "execution_count": 7,
   "metadata": {
    "run_control": {
     "read_only": false
    }
   },
   "outputs": [
    {
     "data": {
      "text/html": [],
      "text/plain": [
       "Interact.Slider{Int64}(17: \"input-6\" = 1 Int64 , \"\", 1, 1:3, \"horizontal\", true, \"d\", true)"
      ]
     },
     "metadata": {},
     "output_type": "display_data"
    },
    {
     "data": {
      "text/markdown": [
       "<img src=\"files/5-4/corner1.png\" width=125 align=\"left\" style=\"padding:0 1em 0 0\" />We can do this by pretending the point lies on both constraints, finding both steepest descent vectors, and normalizing both vectors.\n"
      ],
      "text/plain": [
       "Revealables.Revealable(\"<img src=\\\"files/5-4/corner1.png\\\" width=125 align=\\\"left\\\" style=\\\"padding:0 1em 0 0\\\" />We can do this by pretending the point lies on both constraints, finding both steepest descent vectors, and normalizing both vectors.\", \"\", true, false)"
      ]
     },
     "execution_count": 7,
     "metadata": {
      "comm_id": "9ec43bcd-d412-4c89-8f89-04ecfe37f378",
      "reactive": true
     },
     "output_type": "execute_result"
    }
   ],
   "source": [
    "@manipulate for v = slider(1:3, value=1)\n",
    "    pushingoff[v]\n",
    "end"
   ]
  },
  {
   "cell_type": "markdown",
   "metadata": {},
   "source": [
    "###Practice Problem E\n",
    "Using the max $a$ value from Practice Problem D, you would arrive at the point $(1.666, 1.5867)$ on constraint $g_2(x) = x_2 – 2^{x_1}-1$, but still very close to $g_1(x) = 0.2{x_1}^2 – x_2 + 1$.\n",
    "1. Find the normalized steepest descent vector for this point on both constraints.<br /><br />\n",
    "*If you haven't been using the `Calculus` package to find gradients recently, now is a great time to start again:*<br />\n",
    "`g = gradient(x -> f(x[1], x[2]))`<br /><br />\n",
    "2. Add the vectors and normalize the result.<br /><br />\n",
    "3. Find an interior point using the answer from Part 2 and a distance of 0.1."
   ]
  },
  {
   "cell_type": "code",
   "execution_count": null,
   "metadata": {
    "collapsed": true,
    "run_control": {
     "read_only": false
    }
   },
   "outputs": [],
   "source": [
    "# Lots of calculations!"
   ]
  },
  {
   "cell_type": "code",
   "execution_count": 8,
   "metadata": {
    "run_control": {
     "read_only": false
    }
   },
   "outputs": [
    {
     "data": {
      "text/html": [],
      "text/plain": [
       "Interact.ToggleButton(21: \"input-7\" = false Bool , \"Answer\", false)"
      ]
     },
     "metadata": {},
     "output_type": "display_data"
    },
    {
     "data": {
      "text/markdown": [
       "\n"
      ],
      "text/plain": [
       "Revealables.Revealable(\"###Answer E\\n1. g<sub>1</sub>: &lt;-0.5545, 0.832&gt;, g<sub>2</sub>: &lt;0.7399, -0.673&gt;\\n2. &lt;0.759, 0.651&gt;\\n3. new point = (1.666, 1.5867) + 0.1\\\\*&lt;0.759, 0.651&gt; = (1.7419, 1.6518)\\n\", \"Answer\", false, false)"
      ]
     },
     "execution_count": 8,
     "metadata": {
      "comm_id": "707fabf7-092e-45b8-9c6e-5864099ab22b",
      "reactive": true
     },
     "output_type": "execute_result"
    }
   ],
   "source": [
    "revealable(ans504E)"
   ]
  },
  {
   "cell_type": "markdown",
   "metadata": {},
   "source": [
    "##What That Did\n",
    "In Problems D and E, we started at interior point $(2.1, 2)$, minimized the objective function to an edge, then pushed off to a new interior point. The graph is shown here (courtesy fooplot.com): \n",
    "<img src=\"files/5-4/graph.png\" width=400 />"
   ]
  },
  {
   "cell_type": "code",
   "execution_count": null,
   "metadata": {
    "collapsed": true,
    "run_control": {
     "read_only": false
    }
   },
   "outputs": [],
   "source": []
  }
 ],
 "metadata": {
  "kernelspec": {
   "display_name": "Julia 0.6.0",
   "language": "julia",
   "name": "julia-0.6"
  },
  "language_info": {
   "file_extension": ".jl",
   "mimetype": "application/julia",
   "name": "julia",
   "version": "0.6.0"
  }
 },
 "nbformat": 4,
 "nbformat_minor": 1
}
