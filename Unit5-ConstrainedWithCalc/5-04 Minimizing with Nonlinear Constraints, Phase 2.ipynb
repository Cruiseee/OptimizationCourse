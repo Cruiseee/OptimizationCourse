{
 "cells": [
  {
   "cell_type": "markdown",
   "metadata": {
    "run_control": {
     "read_only": false
    }
   },
   "source": [
    "# 5-4 Minimizing with Nonlinear Constraints: Phase 2\n",
    "* Vector Normalization\n",
    "* Phase 2\n",
    "* Corner Regions"
   ]
  },
  {
   "cell_type": "code",
   "execution_count": null,
   "metadata": {
    "collapsed": false,
    "run_control": {
     "read_only": false
    }
   },
   "outputs": [],
   "source": [
    "using Revealables\n",
    "using Interact\n",
    "include(\"files/extras.jl\")\n",
    "include(\"files/answers.jl\")"
   ]
  },
  {
   "cell_type": "markdown",
   "metadata": {},
   "source": [
    "##Vector Normalization\n",
    "When working with so many vectors (descent gradients, constraint gradients, and motion vectors), it's often a good idea to __normalize__ some or all of the vectors, which means to convert them into unit vectors (vectors of magnitude 1).\n",
    "\n",
    "In the very first unit, you wrote a program that normalized vectors, but it's been a long time! The steps are:\n",
    "1. Use Pythagorean Theorem to find the magnitude of the vector\n",
    "2. Divide all components by the magnitude.\n",
    "\n",
    "So, the vector $<2, -1>$ could be normalized as follows:\n",
    "1. Find the magnitude: $2^2 + (-1)^2 = c^2$, so $c = \\sqrt{5}$.\n",
    "Divide both components by the magnitude: the normalized vector is $$<\\frac{2}{\\sqrt{5}}, \\frac{-1}{\\sqrt{5}}>$$.\n",
    "\n",
    "Note that if you calculate the magnitude of $<\\frac{2}{\\sqrt{5}}, \\frac{-1}{\\sqrt{5}}>$, you get $(\\frac{2}{\\sqrt{5}})^2 + (\\frac{-1}{\\sqrt{5}})^2 = \\frac{4}{5} + \\frac{1}{5} = 1$, a unit vector."
   ]
  },
  {
   "cell_type": "markdown",
   "metadata": {},
   "source": [
    "###Practice Problem A\n",
    "Either find your old program, or write a new program, that normalizes vectors. Use it to normalize:\n",
    "1. $<1, -4>$\n",
    "2. $<-3, -4>$\n",
    "3. $<0.615, -2.889>$\n",
    "4. $<2.33, 1.5>$\n",
    "5. $<-12.221, -6.117>$"
   ]
  },
  {
   "cell_type": "code",
   "execution_count": null,
   "metadata": {
    "collapsed": true,
    "run_control": {
     "read_only": false
    }
   },
   "outputs": [],
   "source": [
    "# Write your program"
   ]
  },
  {
   "cell_type": "code",
   "execution_count": null,
   "metadata": {
    "collapsed": true,
    "run_control": {
     "read_only": false
    }
   },
   "outputs": [],
   "source": [
    "# Use it to normalize the problems above"
   ]
  },
  {
   "cell_type": "code",
   "execution_count": null,
   "metadata": {
    "collapsed": false,
    "run_control": {
     "read_only": false
    }
   },
   "outputs": [],
   "source": [
    "revealable(ans504A)"
   ]
  },
  {
   "cell_type": "markdown",
   "metadata": {},
   "source": [
    "##Recap of Phase 1\n",
    "In phase 1, \n",
    "<img src=\"files/5-4/p11.png\" width=100 />\n",
    "1. An initial point is chosen.\n",
    "<img src=\"files/5-4/p12.png\" width=100 />\n",
    "2. The steepest-descent vector at that point is calculated and tested to see if it lies in a feasible direction.<img src=\"files/5-4/p14.png\" width=100 />\n",
    "3. If it does, the coordinates of the \"new point\" are calculated in terms of $a$.\n",
    "4. A maximum value of $a$ is calculated using the \"new point\" with the constraint limiting the vector in that direction.<img src=\"files/5-4/p15.png\" width=100 />\n",
    "5. The modified objective function $f(a)$ is minimized between $a = 0$ and $a = max$.\n",
    "\n",
    "Phase 1 has the effect of taking a large step across the interior of a region, usually ending up on the boundary of a different constraint from the one you started with. \n",
    "<img src=\"files/5-4/p1constr.png\" width=300 />\n",
    "\n",
    "Because the direction is calculated using the steepest-descent vector, this constraint will probably be the active constraint for the final, minimum value of the objective function."
   ]
  },
  {
   "cell_type": "markdown",
   "metadata": {},
   "source": [
    "##Phase 2\n",
    "After the initial, big step of phase 1, most adjustments are small. They usually involve traveling along the active constraint boundary in a descent direction until the minimum is found.\n",
    "<img src=\"files/5-4/p2bound.png\" width=125 />\n",
    "\n",
    "The main problem after Phase 1 is that the *steepest* descent vector is no longer feasible. There are probably other descent vectors that are feasible, but it is difficult to choose the \"best\" one. \n",
    "\n",
    "There are many techniques for finding the next point; we'll learn a relatively simple one.\n",
    "\n",
    "The basic premise for our Phase 2 is that, from the given point, we will move off from the constraint and into the feasible region by a small distance. The slider below shows the process:"
   ]
  },
  {
   "cell_type": "code",
   "execution_count": null,
   "metadata": {
    "collapsed": false,
    "run_control": {
     "read_only": false
    }
   },
   "outputs": [],
   "source": [
    "@manipulate for s = slider(1:4, value=1)\n",
    "    phase2[s]\n",
    "end"
   ]
  },
  {
   "cell_type": "markdown",
   "metadata": {},
   "source": [
    "From this new point, the steepest descent vector should be feasible again.\n",
    "\n",
    "To find this interior point:\n",
    "1. Find the steepest descent vector for the active constraint $g(x)$. (This will be the negative of the gradient of $g(x)$.)\n",
    "2. Normalize the vector.\n",
    "3. Multiply it by a small number (for example 0.5 or 0.1, depending on the size of the region and how many iterations you're willing to take).\n",
    "4. Add that to the existing edge point to get the interior point. "
   ]
  },
  {
   "cell_type": "markdown",
   "metadata": {},
   "source": [
    "###Practice Problem B\n",
    "1. Given the point $(1.0557, -.2361)$ on constraint $g(x) = {x_2}^2 – x_1 + 1$, find a new point shifted 0.5 units off the constraint and into the feasible region.\n",
    "2. Given the point $(1, -3)$ on constraint $g(x) = 4x_1x_2 + 12$, find a new point shifted 0.1 units off the constraint and into the feasible region."
   ]
  },
  {
   "cell_type": "code",
   "execution_count": null,
   "metadata": {
    "collapsed": true,
    "run_control": {
     "read_only": false
    }
   },
   "outputs": [],
   "source": [
    "# Calculate here"
   ]
  },
  {
   "cell_type": "code",
   "execution_count": null,
   "metadata": {
    "collapsed": false,
    "run_control": {
     "read_only": false
    }
   },
   "outputs": [],
   "source": [
    "revealable(ans504B)"
   ]
  },
  {
   "cell_type": "markdown",
   "metadata": {},
   "source": [
    "##Phase 2\n",
    "The next step is to find the steepest descent vector for the objective function at the interior point. After that, the steps are familiar:\n",
    "1. Write a \"new point\" as\n",
    "\t$$new~point = interior point + a · vector$$\n",
    "2. Find a limiting value of a using the nearest constraint \n",
    "3. Modify the objective function into $f(a)$ and minimize between $a = 0$ and $a = max$.\n",
    "4. Plug in $a$ to find the actual value of the new point.\n"
   ]
  },
  {
   "cell_type": "markdown",
   "metadata": {},
   "source": [
    "###Practice Problem C\n",
    "Continue from Practice Problem B to find a new point on the boundary of the constraint. The information you need to know:\n",
    "1. $\\begin{array}{cc}\\\\\n",
    "interior~point & (1.508, -.023) \\\\\n",
    "nearest~constraint & g(x) = {x_2}^2 – x_1 + 1 \\\\\n",
    "objective~function & f(x) = {x_1}^2 + 2{x_2}^2\n",
    "\\end{array}$\n",
    "2. $\\begin{array}{cc} \\\\\n",
    "interior~point & (1.0949, -3.0316) \\\\\n",
    "nearest~constraint & g(x) = 4x_1x_2 + 12 \\\\\n",
    "objective~function & f(x) = 5x_1 + {x_2}^2\n",
    "\\end{array}$<br /><br />\n",
    "3. Compare your answers to the initial points $(1.0557, -0.2361)$ and $(1, -3)$ from Problem B.\n"
   ]
  },
  {
   "cell_type": "code",
   "execution_count": null,
   "metadata": {
    "collapsed": true,
    "run_control": {
     "read_only": false
    }
   },
   "outputs": [],
   "source": [
    "# Calculations"
   ]
  },
  {
   "cell_type": "code",
   "execution_count": null,
   "metadata": {
    "collapsed": false,
    "run_control": {
     "read_only": false
    }
   },
   "outputs": [],
   "source": [
    "revealable(ans504C)"
   ]
  },
  {
   "cell_type": "markdown",
   "metadata": {},
   "source": [
    "##Finishing Phase 2\n",
    "Phase 2 continues by repeating this procedure of finding an interior point, then minimizing from there, until the minimum is found. The minimum will occur when:\n",
    "* the determinant of the matrix formed by the constraint gradient and the steepest descent gradient is equal to 0, or very close\n",
    "* two successive \"edge\" points are very close together\n",
    "\n",
    "Either of these tests can be used as a stopping condition."
   ]
  },
  {
   "cell_type": "markdown",
   "metadata": {},
   "source": [
    "##Corner Regions\n",
    "Frequently, repetition of this procedure will lead to a corner region where two constraints cross:\n",
    "<img src=\"files/5-4/corner.png\" width=100 />\n",
    "\n",
    "This situation creates the need for two modifications:\n",
    "1. When finding the maximum value of a, both constraints  must be considered\n",
    "2. When \"pushing off\" from the active constraint, you may not cross over the other constraint.\n",
    "\n",
    "###Corner Regions: Finding maximum $a$\n",
    "When calculating maximum $a$ from an interior point near a corner, it can be unclear which constraint is the \"nearest\" or which one the steepest-descent vector will cross over first.\n",
    "<img src=\"files/5-4/maxa.png\" width=100 />\n",
    "\n",
    "\n",
    "In this case, calculate maximum a for both constraints and choose the most limiting (smallest) value for the maximum.\n",
    "\n",
    "Keep track of which constraint it goes with, because that will be the active constraint."
   ]
  },
  {
   "cell_type": "markdown",
   "metadata": {},
   "source": [
    "###Practice Problem D\n",
    "Given the interior point $(2.1, 2)$ between the constraints \n",
    "$$\\begin{align}\n",
    "g_1(x) &= 0.2{x_1}^2 – x_2 + 1 \\\\\n",
    "g_2(x) &= x_2 – 2^{x_1}-1\n",
    "\\end{align}$$\n",
    "\n",
    "with the goal of minimizing the objective function $f(x) = {x_1}^2 + {x_2}^2$, find the maximum value of $a$ and which constraint it is on."
   ]
  },
  {
   "cell_type": "code",
   "execution_count": null,
   "metadata": {
    "collapsed": true,
    "run_control": {
     "read_only": false
    }
   },
   "outputs": [],
   "source": [
    "# Calculate"
   ]
  },
  {
   "cell_type": "code",
   "execution_count": null,
   "metadata": {
    "collapsed": false,
    "run_control": {
     "read_only": false
    }
   },
   "outputs": [],
   "source": [
    "revealable(ans504D)"
   ]
  },
  {
   "cell_type": "markdown",
   "metadata": {},
   "source": [
    "###Corner Regions: Pushing Off\n",
    "The method we use for pushing off typically finds an interior point along a vector perpendicular to the active constraint. \n",
    "\n",
    "<img src=\"files/5-4/pushoff.png\" width=100 />\n",
    "\n",
    "In a corner region, this can cause problems because it can push outside the feasible region. Usually reducing the push-off multiplier will solve the problem.\n",
    "\n",
    "If it doesn't, you may need to find a vector that moves between the two constraints.\n",
    "<img src=\"files/5-4/btwnconstrs.png\" width=100 />\n",
    "\n",
    "Here's how:"
   ]
  },
  {
   "cell_type": "code",
   "execution_count": null,
   "metadata": {
    "collapsed": false,
    "run_control": {
     "read_only": false
    }
   },
   "outputs": [],
   "source": [
    "@manipulate for v = slider(1:3, value=1)\n",
    "    pushingoff[v]\n",
    "end"
   ]
  },
  {
   "cell_type": "markdown",
   "metadata": {},
   "source": [
    "###Practice Problem E\n",
    "Using the max $a$ value from Practice Problem D, you would arrive at the point $(1.666, 1.5867)$ on constraint $g_2(x) = x_2 – 2^{x_1}-1$, but still very close to $g_1(x) = 0.2{x_1}^2 – x_2 + 1$.\n",
    "1. Find the normalized steepest descent vector for this point on both constraints.<br /><br />\n",
    "*If you haven't been using the `Calculus` package to find gradients recently, now is a great time to start again:*<br />\n",
    "`g = gradient(x -> f(x[1], x[2]))`<br /><br />\n",
    "2. Add the vectors and normalize the result.<br /><br />\n",
    "3. Find an interior point using the answer from Part 2 and a distance of 0.1."
   ]
  },
  {
   "cell_type": "code",
   "execution_count": null,
   "metadata": {
    "collapsed": true,
    "run_control": {
     "read_only": false
    }
   },
   "outputs": [],
   "source": [
    "# Lots of calculations!"
   ]
  },
  {
   "cell_type": "code",
   "execution_count": null,
   "metadata": {
    "collapsed": false,
    "run_control": {
     "read_only": false
    }
   },
   "outputs": [],
   "source": [
    "revealable(ans504E)"
   ]
  },
  {
   "cell_type": "markdown",
   "metadata": {},
   "source": [
    "##What That Did\n",
    "In Problems D and E, we started at interior point $(2.1, 2)$, minimized the objective function to an edge, then pushed off to a new interior point. The graph is shown here (courtesy fooplot.com): \n",
    "<img src=\"files/5-4/graph.png\" width=400 />"
   ]
  },
  {
   "cell_type": "code",
   "execution_count": null,
   "metadata": {
    "collapsed": true,
    "run_control": {
     "read_only": false
    }
   },
   "outputs": [],
   "source": []
  }
 ],
 "metadata": {
  "kernelspec": {
   "display_name": "Julia 0.3.10",
   "language": "julia",
   "name": "julia-0.3"
  },
  "language_info": {
   "file_extension": ".jl",
   "mimetype": "application/julia",
   "name": "julia",
   "version": "0.3.10"
  }
 },
 "nbformat": 4,
 "nbformat_minor": 0
}
