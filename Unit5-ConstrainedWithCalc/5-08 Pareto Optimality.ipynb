{
 "cells": [
  {
   "cell_type": "markdown",
   "metadata": {
    "run_control": {
     "read_only": false
    }
   },
   "source": [
    "# 5-8 Pareto Optimality\n",
    "* Premise\n",
    "* Design and Criterion Space\n",
    "* Pareto Optimality"
   ]
  },
  {
   "cell_type": "code",
   "execution_count": null,
   "metadata": {
    "collapsed": false
   },
   "outputs": [],
   "source": [
    "using Revealables\n",
    "include(\"files/answers.jl\")"
   ]
  },
  {
   "cell_type": "markdown",
   "metadata": {},
   "source": [
    "##The Premise\n",
    "In Unit 3 (Linear programming), we learned how to solve problems like this one:\n",
    "\n",
    "<blockquote>A small business advertises through traditional media and personal appearances. Each ad campaign in traditional media costs about \\$2000, generating 2 new customers and 1 positive rating per month. Each personal appearance costs \\$500, generating 2 new customers and 5 positive ratings. The company wants at least 16 new customers and 28 positive ratings per month. Minimize the advertising costs for this company.</blockquote>\n",
    "\n",
    "Now suppose the company in the previous example used linear programming to minimize costs, and found that their optimal solution was to skip traditional advertising altogether and just make personal appearances.\n",
    "\n",
    "Soon, the executives would realize that they were spending so much time at personal appearances that they might be tempted to hire another executive – hardly a way to minimize cost!\n",
    "\n",
    "This sort of scenario plays out quite often and is called multiobjective optimization. In it, there are two or more objectives (in this case, minimize cost AND time) along with constraints.\n",
    "\n",
    "Frequently, objectives are confused with constraints when initially framing a problem. \n",
    "For example, do you really only have 4 hours a week to spend doing chores? Or is that just a way of saying you want to minimize time?\n",
    "\n",
    "Constraints should only be used when there is a hard, non-negotiable limit on the resource. "
   ]
  },
  {
   "cell_type": "markdown",
   "metadata": {},
   "source": [
    "###Practice Problem A\n",
    "Decide if each restriction is best written as a constraint or an objective:\n",
    "1. A musician wants to spend at least 4 hours a day practicing.\n",
    "2. There are only 8 cups of flour in the pantry.\n",
    "3. The doorway is only 3 feet wide.\n",
    "4. A CEO wants at least 5 new contracts this year.\n",
    "5. An office manager wants to limit the number of lost staplers to 10 per month.\n",
    "6. A family must bring in at least $2000 to cover rent."
   ]
  },
  {
   "cell_type": "raw",
   "metadata": {},
   "source": [
    "Write your answers here:"
   ]
  },
  {
   "cell_type": "code",
   "execution_count": null,
   "metadata": {
    "collapsed": false
   },
   "outputs": [],
   "source": [
    "revealable(ans508A)"
   ]
  },
  {
   "cell_type": "markdown",
   "metadata": {},
   "source": [
    "##Pareto Optimality\n",
    "One way to find good solutions to multiobjective problems is with Pareto optimality, named after economist Vilfredo Pareto.\n",
    "\n",
    "Pareto noticed that many economic solutions helped some people while hurting others. He was interested in finding solutions that helped some people without hurting anyone else. Solutions like this are now called \"Pareto improvements.\"\n",
    "\n",
    "An example is the conflict between environmental issues and business. Most environmental considerations hurt business, whether it's limits on energy use or waste generated. The pizza shop that figured out how to use their waste cooking oil to power their delivery cars? Pareto improvement. (Well, unless you count the company they used to pay to haul away their used cooking oil.) There was this Wisconsin town that was trying to use cheese byproducts instead of salt on winter roads, finding it less corrosive as well; I’m guessing it didn’t work, but it would have been a Pareto improvement if it had. Increasing public transit use can be Pareto depending how you increase it (raising taxes to fund subsidies is not). Businesses who install fluorescent lights on motion timers to satisfy regulations, then find their energy costs plummeting, have stumbled on an obvious one. \n",
    "\n",
    "\n",
    "##Design Space\n",
    "The first step when solving a multiobjective problem is to get a handle on the feasible region. In our example, there were two constraints: minimum numbers of customers and positive ratings. \n",
    "\n",
    "(These should probably be objectives too, but let's keep it simple!)\n",
    "\n",
    "Customers were gained at a rate of 2 per ad campaign and 2 per appearance, and the company wanted a minimum of 16: \n",
    "\t$$2x_1 + 2x_2 ≥ 16$$\n",
    "    \n",
    "Positive reviews came in at 1 per ad and 5 per appearance, with a minimum of 28:\n",
    "\t$$x_1 + 5x_2 ≥ 28$$\n",
    "    \n",
    "These create the feasible region:<img src=\"files/5-8/feasreg.png\" width=200 />\n",
    "\n",
    "The graph of the feasible region for the constraints is called the design space for the problem. The two axes are $x_1$ and $x_2$, and the corner points are where the constraints cross.\n",
    "\n",
    "Evaluating the corner points for both objectives, we get: <img src=\"files/5-8/cornerpts.png\" width=250 />\n",
    "\n",
    "We already have a money objective: \n",
    "$$minimize~cost = 2000x_1 + 500x_2$$\n",
    "    \n",
    "Now, suppose each personal appearance takes 2 hours and each ad campaign takes 1 hour. Our second objective is then:\n",
    "$$minimize~time = x_1 + 2x_2$$\n",
    "\n",
    "If there were only one point that minimized both cost and time, obviously that would be the solution; but often, there are different optimal points for each objective.\n",
    "<img src=\"files/5-8/solns.png\" width=300 />\n",
    "The entire line segment between the two optimal points represents possible solutions.\n"
   ]
  },
  {
   "cell_type": "markdown",
   "metadata": {},
   "source": [
    "###Practice Problem B\n",
    "Suppose a university outreach program provides two services: campus tour days and publicity mailing days. The outcomes and requirements of both services are shown here:\n",
    "\n",
    "$\\begin{array}{c|cccc}\n",
    "\\hline\n",
    "Service & Cost & Hours & \\#~Applicants & \\#~Donors \\\\\n",
    "\\hline\n",
    "tour & 100 & 32 & 10 & 4 \\\\\n",
    "mailing & 500 & 16 & 2 & 6 \\\\\n",
    "requirement & ≤2600 & ≤256 & Maximize & Maximize \\\\\n",
    "\\hline\n",
    "\\end{array}$\n",
    "\n",
    "\n",
    "Graph the feasible region, find the two optimal points, and highlight the segment between them."
   ]
  },
  {
   "cell_type": "code",
   "execution_count": null,
   "metadata": {
    "collapsed": true
   },
   "outputs": [],
   "source": [
    "# You can graph offline and do calculations here"
   ]
  },
  {
   "cell_type": "code",
   "execution_count": null,
   "metadata": {
    "collapsed": false
   },
   "outputs": [],
   "source": [
    "revealable(ans508B)"
   ]
  },
  {
   "cell_type": "markdown",
   "metadata": {},
   "source": [
    "##Criterion Space\n",
    "After graphing the feasible region and finding its boundaries in design space, the next step is to convert it to criterion space. In criterion space, the axes are no longer $x_1$ and $x_2$, but $f_1$ and $f_2$, which are the two objective functions.\n",
    "\n",
    "Every point in design space has a corresponding point in criterion space, but it's sufficient to just locate the corner points.\n",
    "\n",
    "In our business example, we had three corner points with the objective function values shown. If we call \"cost\" $f_1$ and \"time\" $f_2$, we can create the criterion space:\n",
    "\n",
    "<img src=\"files/5-8/spaces.png\" width=500 />\n",
    "\n",
    "The original data for $x_1$ and $x_2$ are lost in the criterion space, and that's okay as long as you keep your design space and can find them again. Also note that there is no geometric resemblance between the spaces, nor is there a direct translation from point to point. It's a completely different space."
   ]
  },
  {
   "cell_type": "markdown",
   "metadata": {},
   "source": [
    "###Practice Problem C\n",
    "Convert your design space from Problem B into criterion space.\n",
    "\n",
    "Highlight the segment between the two optimal points from Problem B."
   ]
  },
  {
   "cell_type": "code",
   "execution_count": null,
   "metadata": {
    "collapsed": true
   },
   "outputs": [],
   "source": [
    "# Do any calculations here. Your graph can be on paper."
   ]
  },
  {
   "cell_type": "code",
   "execution_count": null,
   "metadata": {
    "collapsed": false
   },
   "outputs": [],
   "source": [
    "revealable(ans508C)"
   ]
  },
  {
   "cell_type": "markdown",
   "metadata": {},
   "source": [
    "##Pareto Optimality\n",
    "In the business example, we were trying to minimize time and cost.\n",
    "<img src=\"files/5-8/paretofront.png\" width=150 align=\"left\" style=\"padding:0 1em 0 0\" />\n",
    "Note that the orange point in criterion space is the lowest value of $f_2$ (time) and the red point is the lowest value of $f_1$ (cost). (we know these are the lowest values&mdash;even though the numbers aren't listed&mdash;because they are farthest down and farthest left, respectively.) The edge between them is called the __Pareto Front__.\n",
    "\n",
    "Any point on this front is considered \"Pareto optimal.\" By moving along the curve, you could minimize cost at the expense of time, or minimize time at the expense of cost, but you can not improve both at once.\n",
    "<img src=\"files/5-8/slope.png\" width=150 align=\"right\" style=\"padding:0 1em 0 0\" />\n",
    "What that means is, there is no mathematical \"best\" point along the Pareto front. Actual people would have to get together and figure out how they wanted to balance their priorities.\n",
    "\n",
    "The slope of our Pareto curve is -3/4500, which reduces to -1/1500. \n",
    "\n",
    "Using the slope, we can find some Pareto optimal solutions:\n",
    "\n",
    "$$\\begin{array}{c|c}\n",
    "\\hline\n",
    "Cost & Time \\\\\n",
    "\\hline\n",
    "4000 & 16 \\\\\n",
    "5500 & 15 \\\\\n",
    "7000 & 14 \\\\\n",
    "8500 & 13 \\\\\n",
    "\\hline\n",
    "\\end{array}$$"
   ]
  },
  {
   "cell_type": "markdown",
   "metadata": {},
   "source": [
    "###Practice Problem D\n",
    "Using the slope of the Pareto curve from your criterion space in Problem C, find all five whole-number and two fractional Pareto-optimal solutions. "
   ]
  },
  {
   "cell_type": "code",
   "execution_count": null,
   "metadata": {
    "collapsed": true
   },
   "outputs": [],
   "source": [
    "# Calculate here!"
   ]
  },
  {
   "cell_type": "code",
   "execution_count": null,
   "metadata": {
    "collapsed": false
   },
   "outputs": [],
   "source": [
    "revealable(ans508D)"
   ]
  },
  {
   "cell_type": "markdown",
   "metadata": {},
   "source": [
    "##Pareto Improvements\n",
    "\n",
    "<img src=\"files/5-8/inefficient.png\" width=200 align=\"left\" style=\"padding:0 1em 0 0\" />Another implication of the Pareto front is that any point in the feasible region that is not on the Pareto front is a bad solution. One of the objectives, or both, can be improved at no penalty to the other.<br clear=\"all\" />\n",
    "\n",
    "<img src=\"files/5-8/improvement.png\" width=200 align=\"left\" style=\"padding:0 1em 0 0\" />Recall that an improvement that helps one objective without harming the other is called a __Pareto improvement__."
   ]
  },
  {
   "cell_type": "markdown",
   "metadata": {},
   "source": [
    "###Practice Problem E\n",
    "Determine whether these practices by the university outreach program are Pareto optimal; if so, report the number of donors and applications produced:\n",
    "1. 7 tour days, 2 mailing days\n",
    "2. 1 tour day, 5 mailing days\n",
    "3. 5 tour days, 4.2 mailing days\n",
    "4. 6.5 tour days, 2.5 mailing days \n",
    "5. 7.5 tour days, 1 mailing day"
   ]
  },
  {
   "cell_type": "markdown",
   "metadata": {},
   "source": [
    "##Pareto Curves and Solutions\n",
    "When there is an obvious solution, Pareto curves will find it. Here are two examples:\n",
    "\n",
    "Goal: minimization\n",
    "<img src=\"files/5-8/curve1.png\" width=200 />\n",
    "The blue point minimizes both $f_1$ and $f_2$. There is only one Pareto-optimal solution.\n",
    "\n",
    "Goal: maximization\n",
    "<img src=\"files/5-8/curve1.png\" width=200 />\n",
    "Although orange is on the  Pareto front, moving to purple costs very little $f_2$ for huge gains in $f_1$.\n",
    "\n"
   ]
  },
  {
   "cell_type": "markdown",
   "metadata": {},
   "source": [
    "###Practice Problem F\n",
    "If there is an obvious solution, identify it by color. If not, write \"no obvious solution.\"\n",
    "\n",
    "Goal: minimize\n",
    "1. <img src=\"files/5-8/f1.png\" width=80 /><br clear=\"all\" />\n",
    "2. <img src=\"files/5-8/f2.png\" width=80 />\n",
    "3. <img src=\"files/5-8/f3.png\" width=100 /><br /><br />Goal: maximize<br /><br />\n",
    "4. <img src=\"files/5-8/f4.png\" width=80 />\n",
    "5. <img src=\"files/5-8/f5.png\" width=70 />\n",
    "6. <img src=\"files/5-8/f6.png\" width=80 />"
   ]
  },
  {
   "cell_type": "raw",
   "metadata": {},
   "source": [
    "Write your answers here:"
   ]
  },
  {
   "cell_type": "code",
   "execution_count": null,
   "metadata": {
    "collapsed": false
   },
   "outputs": [],
   "source": [
    "revealable(ans508F)"
   ]
  },
  {
   "cell_type": "code",
   "execution_count": null,
   "metadata": {
    "collapsed": true
   },
   "outputs": [],
   "source": []
  }
 ],
 "metadata": {
  "kernelspec": {
   "display_name": "Julia 0.3.10",
   "language": "julia",
   "name": "julia-0.3"
  },
  "language_info": {
   "file_extension": ".jl",
   "mimetype": "application/julia",
   "name": "julia",
   "version": "0.3.10"
  }
 },
 "nbformat": 4,
 "nbformat_minor": 0
}
