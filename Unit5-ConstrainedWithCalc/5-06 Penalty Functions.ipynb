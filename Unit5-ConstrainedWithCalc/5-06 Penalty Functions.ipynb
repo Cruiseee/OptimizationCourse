{
 "cells": [
  {
   "cell_type": "markdown",
   "metadata": {
    "run_control": {
     "read_only": false
    }
   },
   "source": [
    "# 5-6 Penalty Functions\n",
    "* The Premise\n",
    "* Quadratic Loss \n",
    "* Problems and Solutions"
   ]
  },
  {
   "cell_type": "code",
   "execution_count": 1,
   "metadata": {
    "run_control": {
     "read_only": false
    }
   },
   "outputs": [
    {
     "data": {
      "text/html": [
       "<div id=\"interact-js-shim\">\n",
       "    <script charset=\"utf-8\">\r\n",
       "(function (IPython, $, _, MathJax) {\r\n",
       "    $.event.special.destroyed = {\r\n",
       "\tremove: function(o) {\r\n",
       "\t    if (o.handler) {\r\n",
       "\t\to.handler.apply(this, arguments)\r\n",
       "\t    }\r\n",
       "\t}\r\n",
       "    }\r\n",
       "\r\n",
       "    var OutputArea = IPython.version >= \"4.0.0\" ? require(\"notebook/js/outputarea\").OutputArea : IPython.OutputArea;\r\n",
       "\r\n",
       "    var redrawValue = function (container, type, val) {\r\n",
       "\tvar selector = $(\"<div/>\");\r\n",
       "\tvar oa = new OutputArea(_.extend(selector, {\r\n",
       "\t    selector: selector,\r\n",
       "\t    prompt_area: true,\r\n",
       "\t    events: IPython.events,\r\n",
       "\t    keyboard_manager: IPython.keyboard_manager\r\n",
       "\t})); // Hack to work with IPython 2.1.0\r\n",
       "\r\n",
       "\tswitch (type) {\r\n",
       "\tcase \"image/png\":\r\n",
       "            var _src = 'data:' + type + ';base64,' + val;\r\n",
       "\t    $(container).find(\"img\").attr('src', _src);\r\n",
       "\t    break;\r\n",
       "\tcase \"text/latex\":\r\n",
       "\t\tif (MathJax){\r\n",
       "\t\t\tvar math = MathJax.Hub.getAllJax(container)[0];\r\n",
       "\t\t\tMathJax.Hub.Queue([\"Text\", math, val.replace(/^\\${1,2}|\\${1,2}$/g, '')]);\r\n",
       "\t\t\tbreak;\r\n",
       "\t\t}\r\n",
       "\tdefault:\r\n",
       "\t    var toinsert = OutputArea.append_map[type].apply(\r\n",
       "\t\toa, [val, {}, selector]\r\n",
       "\t    );\r\n",
       "\t    $(container).empty().append(toinsert.contents());\r\n",
       "\t    selector.remove();\r\n",
       "\t}\r\n",
       "    }\r\n",
       "\r\n",
       "\r\n",
       "    $(document).ready(function() {\r\n",
       "\tfunction initComm(evt, data) {\r\n",
       "\t    var comm_manager = data.kernel.comm_manager;\r\n",
       "        //_.extend(comm_manager.targets, require(\"widgets/js/widget\"))\r\n",
       "\t    comm_manager.register_target(\"Signal\", function (comm) {\r\n",
       "            comm.on_msg(function (msg) {\r\n",
       "                var val = msg.content.data.value;\r\n",
       "                $(\".signal-\" + comm.comm_id).each(function() {\r\n",
       "                var type = $(this).data(\"type\");\r\n",
       "                if (typeof(val[type]) !== \"undefined\" && val[type] !== null) {\r\n",
       "                    redrawValue(this, type, val[type], type);\r\n",
       "                }\r\n",
       "                });\r\n",
       "                delete val;\r\n",
       "                delete msg.content.data.value;\r\n",
       "            });\r\n",
       "\t    });\r\n",
       "\r\n",
       "\t    // coordingate with Comm and redraw Signals\r\n",
       "\t    // XXX: Test using Reactive here to improve performance\r\n",
       "\t    $([IPython.events]).on(\r\n",
       "\t\t'output_appended.OutputArea', function (event, type, value, md, toinsert) {\r\n",
       "\t\t    if (md && md.reactive) {\r\n",
       "                // console.log(md.comm_id);\r\n",
       "                toinsert.addClass(\"signal-\" + md.comm_id);\r\n",
       "                toinsert.data(\"type\", type);\r\n",
       "                // Signal back indicating the mimetype required\r\n",
       "                var comm_manager = IPython.notebook.kernel.comm_manager;\r\n",
       "                var comm = comm_manager.comms[md.comm_id];\r\n",
       "                comm.then(function (c) {\r\n",
       "                    c.send({action: \"subscribe_mime\",\r\n",
       "                       mime: type});\r\n",
       "                    toinsert.bind(\"destroyed\", function() {\r\n",
       "                        c.send({action: \"unsubscribe_mime\",\r\n",
       "                               mime: type});\r\n",
       "                    });\r\n",
       "                })\r\n",
       "\t\t    }\r\n",
       "\t    });\r\n",
       "\t}\r\n",
       "\r\n",
       "\ttry {\r\n",
       "\t    // try to initialize right away. otherwise, wait on the status_started event.\r\n",
       "\t    initComm(undefined, IPython.notebook);\r\n",
       "\t} catch (e) {\r\n",
       "\t    $([IPython.events]).on('kernel_created.Kernel kernel_created.Session', initComm);\r\n",
       "\t}\r\n",
       "    });\r\n",
       "})(IPython, jQuery, _, MathJax);\r\n",
       "</script>\n",
       "    <script>\n",
       "        window.interactLoadedFlag = true\n",
       "       $(\"#interact-js-shim\").bind(\"destroyed\", function () {\n",
       "           if (window.interactLoadedFlag) {\n",
       "               console.warn(\"JavaScript required by Interact will be removed if you remove this cell or run using Interact more than once.\")\n",
       "           }\n",
       "       })\n",
       "       $([IPython.events]).on(\"kernel_starting.Kernel kernel_restarting.Kernel\", function () { window.interactLoadedFlag = false })\n",
       "   </script>\n",
       "</div>"
      ]
     },
     "metadata": {},
     "output_type": "display_data"
    },
    {
     "data": {
      "text/markdown": [
       "\n"
      ],
      "text/plain": [
       "Revealables.Revealable(\"###Answer F\\n1. Three is a challenge! I had to look it up. I won't give away the third, but there are a lot of possibilities. I'd be worried if their belief state wasn't something like: allergies 48%, cold 48%, <other> 2%. Make them fill in \\\"other\\\", even if they have to look it up too. It was educational.\\n2. I personally don't like over-medicating my patients (maybe this is why I'm a math teacher) so my action would be to wait a week and do nothing.\\n3. If they're still sneezing after waiting a week, my belief state would become: allergies 80%, cold 15%, <other> 5%.\\n4. They could get really insightful here. I would ask a lot of questions trying to eliminate the \\\"other\\\" hypothesis and narrow it down to cold or allergies, and then I would try to narrow it between those (is it seasonal? what seasons? do you work with small children? is your family sick?). I would try more wait time which would hopefully give a cold time to pass on, and then see if allergy meds helped. If they did, then there's the answer. If they didn't, then I would conclude that while allergies are still possible they are much less probable. At some point \\\"cold\\\" and \\\"allergies\\\" would both be so improbable I'd have to look deeper into the \\\"other\\\" option and maybe expand my state possibilities beyond three.\\n\\nYou gain a lot of insight into medicine by thinking of doctors as POMDP systems. Probably because they are.\\n\", \"Answer\", false, false)"
      ]
     },
     "execution_count": 1,
     "metadata": {},
     "output_type": "execute_result"
    }
   ],
   "source": [
    "using Revealables\n",
    "include(\"files/answers.jl\")"
   ]
  },
  {
   "cell_type": "markdown",
   "metadata": {},
   "source": [
    "##The Premise\n",
    "You may have noticed that the addition of constraints to an optimization problem has the effect of making it much more difficult. \n",
    "\n",
    "The goal of __penalty functions__ is to convert constrained problems into unconstrained problems by introducing an artificial penalty for violating the constraint.\n",
    "\n",
    "Consider this example: Suppose there is a freeway (like a toll freeway) that monitors when you enter and exit the road.\n",
    "\n",
    "Instead of establishing a speed limit of 65 mph, they could use these rules:\n",
    "* You can drive as fast as you want.\n",
    "* If you drive under 65 mph you can use our road for free.\n",
    "* Every mph you drive over 65 will cost you \\$500.\n",
    "\n",
    "The previous example had no constraints – you can drive as fast as you want! But the effect of these rules would still be to limit drivers to 65mph. You can also control the likelihood of speeding by adjusting the fine.\n",
    "\n",
    "Penalty functions work in exactly this way.\n",
    "\n",
    "##Initial Steps\n",
    "We will be working with a very simple example: \n",
    "\n",
    "\tminimize $f(x) = 100/x$\n",
    "    \n",
    "\tsubject to $x ≤ 5$\n",
    "    \n",
    "(With a little thought, you can tell that $f(x)$ will be minimized when $x = 5$, so we know what answer we should get!)\n",
    "\n",
    "Before starting, convert any constraints into the form $(expression) ≤ 0$. In this example, $x ≤ 5$ becomes:\n",
    "$$x – 5 ≤ 0$$\n",
    "\n",
    "Once your constraints are converted, the next step is to start charging a penalty for violating them. Since we're trying to minimize $f(x)$, this means we need to __add__ value when the constraint is violated.\n",
    "\n",
    "If you are trying to maximize, the penalty will __subtract__ value.\n",
    "\n",
    "##Quadratic Loss: Inequalities\n",
    "With the constraint $x – 5 ≤ 0$, we need a penalty that is: \n",
    "* 0 when $x – 5 ≤ 0$  \t\t(the constraint is satisfied)\n",
    "* positive when $x – 5 > 0$ \t(the constraint is violated)\n",
    "\n",
    "This can be done using the operation \n",
    "\t$$P(x) = max(0, x – 5)$$\n",
    "which returns the maximum of the two values, either $0$ or whatever $(x – 5)$ is.\n",
    "\n",
    "We can make the penalty more severe by using \n",
    "\t$$P(x) = max(0, x – 5)^2$$\n",
    "    \n",
    "This is known as a __quadratic loss function__.\n",
    "\n",
    "##Quadratic Loss: Equalities\n",
    "It is even easier to convert equality constraints into quadratic loss functions because we don’t need to worry about the operation $(max, g(x))$. We can convert $h(x) = c$ into $h(x) – c = 0$, then use\n",
    "\t$$P(x) = (h(x) – c)^2$$\n",
    "    \n",
    "The lowest value of $P(x)$ will occur when $h(x) = c$, in which case the penalty $P(x) = 0$. This is exactly what we want."
   ]
  },
  {
   "cell_type": "markdown",
   "metadata": {},
   "source": [
    "###Practice Problem A\n",
    "Convert the following constraints into quadratic loss functions:\n",
    "1. $x ≤ 12$\n",
    "2. $x^2 ≥ 200$\n",
    "3. $2x + 7 ≤ 16$\n",
    "4. $e^{2x + 1} ≥ 9$\n",
    "5. $4x^2 + 2^x = 12$"
   ]
  },
  {
   "cell_type": "raw",
   "metadata": {},
   "source": [
    "Write your functions here:"
   ]
  },
  {
   "cell_type": "code",
   "execution_count": 2,
   "metadata": {
    "run_control": {
     "read_only": false
    }
   },
   "outputs": [
    {
     "data": {
      "text/html": [],
      "text/plain": [
       "Interact.ToggleButton(1: \"input\" = false Bool , \"Answer\", false)"
      ]
     },
     "metadata": {},
     "output_type": "display_data"
    },
    {
     "data": {
      "text/markdown": [
       "\n"
      ],
      "text/plain": [
       "Revealables.Revealable(\"###Answer A\\n1. P(x) = max(0, x - 12)<sup>2</sup>\\n2. P(x) = max(0, x<sup>2</sup> - 200)<sup>2</sup>\\n3. P(x) = max(0, 2x - 9)<sup>2</sup>\\n4. P(x) = max(0, 9 - e<sup>2x+1</sup>)<sup>2</sup>\\n5. P(x) = (4x<sup>2</sup> + 2<sup>x</sup> - 12)<sup>2</sup>\\n\", \"Answer\", false, false)"
      ]
     },
     "execution_count": 2,
     "metadata": {
      "comm_id": "b0f7b417-1ba1-44b4-b816-a3f93f709fc6",
      "reactive": true
     },
     "output_type": "execute_result"
    },
    {
     "name": "stderr",
     "output_type": "stream",
     "text": [
      "WARNING: Compat.ASCIIString is deprecated, use String instead.\n",
      "  likely near C:\\Users\\Victoria Docherty\\.julia\\v0.6\\IJulia\\src\\kernel.jl:31\n",
      "WARNING: Compat.ASCIIString is deprecated, use String instead.\n",
      "  likely near C:\\Users\\Victoria Docherty\\.julia\\v0.6\\IJulia\\src\\kernel.jl:31\n",
      "WARNING: Compat.ASCIIString is deprecated, use String instead.\n",
      "  likely near C:\\Users\\Victoria Docherty\\.julia\\v0.6\\IJulia\\src\\kernel.jl:31\n",
      "WARNING: Compat.ASCIIString is deprecated, use String instead.\n",
      "  likely near C:\\Users\\Victoria Docherty\\.julia\\v0.6\\IJulia\\src\\kernel.jl:31\n",
      "WARNING: Compat.ASCIIString is deprecated, use String instead.\n",
      "  likely near C:\\Users\\Victoria Docherty\\.julia\\v0.6\\IJulia\\src\\kernel.jl:31\n",
      "WARNING: Compat.ASCIIString is deprecated, use String instead.\n",
      "  likely near C:\\Users\\Victoria Docherty\\.julia\\v0.6\\IJulia\\src\\kernel.jl:31\n"
     ]
    }
   ],
   "source": [
    "revealable(ans506A)"
   ]
  },
  {
   "cell_type": "markdown",
   "metadata": {},
   "source": [
    "##The Next Step\n",
    "Once you have converted your constraints into penalty functions, the basic idea is to add all the penalty functions (usually called $T(x)$) on to the original objective function and minimize from there:\n",
    "\n",
    "minimize $T(x) =  f(x) + P(x)$\n",
    "\n",
    "In our example,\n",
    "\n",
    "minimize $T(x) = 100/x + max(0, x – 5)^2$\n",
    "\n",
    "##A Problem\n",
    "But it isn't quite that easy.\n",
    "\n",
    "The addition of penalty functions can create severe slope changes in the graph at the boundary, which interferes with typical minimization programs.\n",
    "<img src=\"files/5-6/steepslope.png\" width=150 />\n",
    "\n",
    "\n",
    "Fortunately, there are two simple changes that will alleviate this problem.\n",
    "\n",
    "##First Solution: $r$\n",
    "The first is to multiply the quadratic loss function by a constant, $r$. This controls how severe the penalty is for violating the constraint.\n",
    "\n",
    "<img src=\"files/5-6/r.png\" width=50 align=\"left\" />\n",
    "The accepted method is to start with r = 10, which is a mild penalty. It will not form a very sharp point in the graph, but the minimum point found using r = 10 will not be a very accurate answer because the penalty is not severe enough.<br clear=\"all\" /> \n",
    "\n",
    "<img src=\"files/5-6/rnarrows.png\" width=50 align=\"left\" />\n",
    "Then, $r$ is increased to 100 and the function minimized again starting from the minimum point found when $r$ was 10. The higher penalty increases accuracy, and as we narrow in on the solution, the sharpness of the graph is less of a problem.\n",
    "\n",
    "We continue to increase $r$ values until the solutions converge.<br clear=\"all\" /> \n",
    "\n",
    "##Second Solution: Methods\n",
    "The second solution is to be thoughtful with how we minimize. The more useful minimization programs written in Unit 2 were interval methods. The program started with an interval and narrowed it in from the endpoints.\n",
    "\n",
    "<img src=\"files/5-6/intervals.png\" width=300 />\n",
    "\n",
    "With a severe nonlinearity, interval methods have a tendency to skip right over the minimum.\n",
    "\n",
    "For this reason, interval methods are generally not ideal for penalty functions. It is better to use methods that take tiny steps from a starting point, similar to the \"brute force\" methods we used in 1-variable, or any of the methods we used in 2-variable minimization.\n",
    "\n",
    "It is also important when using penalty functions to run the program a few times from various starting points to avoid local extremes."
   ]
  },
  {
   "cell_type": "markdown",
   "metadata": {},
   "source": [
    "###Practice Problem B\n",
    "Write a program that, given an initial point and a function:\n",
    "1. uses the derivative to determine the direction of the minimum\n",
    "2. takes small steps in that direction until the function value increases\n",
    "3. decreases the step size to narrow in on the minimum\n",
    "4. reports the minimum value"
   ]
  },
  {
   "cell_type": "code",
   "execution_count": null,
   "metadata": {
    "collapsed": true,
    "run_control": {
     "read_only": false
    }
   },
   "outputs": [],
   "source": [
    "# Write your program"
   ]
  },
  {
   "cell_type": "code",
   "execution_count": 4,
   "metadata": {
    "run_control": {
     "read_only": false
    }
   },
   "outputs": [
    {
     "data": {
      "text/plain": [
       "stepmin (generic function with 1 method)"
      ]
     },
     "execution_count": 4,
     "metadata": {},
     "output_type": "execute_result"
    }
   ],
   "source": [
    "# Test your program"
   ]
  },
  {
   "cell_type": "code",
   "execution_count": 3,
   "metadata": {
    "run_control": {
     "read_only": false
    }
   },
   "outputs": [
    {
     "data": {
      "text/html": [],
      "text/plain": [
       "Interact.ToggleButton(4: \"input-2\" = false Bool , \"Answer\", false)"
      ]
     },
     "metadata": {},
     "output_type": "display_data"
    },
    {
     "data": {
      "text/markdown": [
       "\n"
      ],
      "text/plain": [
       "Revealables.Revealable(\"###Answer B\\nHere's mine:\\n\\n<code>\\nusing Calculus\\nfunction stepmin(f, x)\\n    int = 0.1\\n    if f'(x) > 0\\n        int = -.1\\n    end\\n    while f(x + int) < f(x)  # stops when function increases\\n        x = x + int\\n    end\\n    int = int/10000  # adjusts the interval smaller but in same direction\\n    while f(x + int) < f(x)\\n        x = x + int\\n    end\\n    x  # instead of `return(x)`; does the same thing in Julia\\nend\\n</code>\\n\", \"Answer\", false, false)"
      ]
     },
     "execution_count": 3,
     "metadata": {
      "comm_id": "6c58953d-34cf-4234-adfd-abb13a11c03f",
      "reactive": true
     },
     "output_type": "execute_result"
    }
   ],
   "source": [
    "revealable(ans506B)"
   ]
  },
  {
   "cell_type": "markdown",
   "metadata": {},
   "source": [
    "##The Final Step\n",
    "Now, back to the example:\n",
    "\n",
    "minimize $f(x) = 100/x$ subject to $x ≤ 5$\n",
    "\n",
    "has become\n",
    "\n",
    "minimize $T(x) = 100/x + r · (max(0, x – 5)^2)$\n",
    "\n",
    "(Notice how we're minimizing $T(x)$ instead of $f(x)$ now? That's because we're minimizing a penalty function.)\n",
    "\n",
    "The initial point must be chosen in violation of the constraint, which is why these are known as __*exterior* penalty functions__. We'll start with $x = 20$."
   ]
  },
  {
   "cell_type": "markdown",
   "metadata": {},
   "source": [
    "###Practice Problem C\n",
    "Using your step minimization program, minimize \n",
    "\t$$f(x) = 100/x + 10 · (max(0, x – 5))^2$$\n",
    "from starting point 20. Call your answer $a$.\n",
    "\n",
    "Then, minimize \n",
    "\t$$f(x) = 100/x + 100 · (max(0, x – 5))^2$$\n",
    "from starting point $a$.\n",
    "\n",
    "Repeat for $r = 1000$ and $r = 10,000$."
   ]
  },
  {
   "cell_type": "code",
   "execution_count": null,
   "metadata": {
    "collapsed": true,
    "run_control": {
     "read_only": false
    }
   },
   "outputs": [],
   "source": [
    "# Run your program here"
   ]
  },
  {
   "cell_type": "code",
   "execution_count": 4,
   "metadata": {
    "run_control": {
     "read_only": false
    }
   },
   "outputs": [
    {
     "data": {
      "text/html": [],
      "text/plain": [
       "Interact.ToggleButton(7: \"input-3\" = false Bool , \"Answer\", false)"
      ]
     },
     "metadata": {},
     "output_type": "display_data"
    },
    {
     "data": {
      "text/markdown": [
       "\n"
      ],
      "text/plain": [
       "Revealables.Revealable(\"###Answer C\\nAnswers should converge on x = 5.\\n\", \"Answer\", false, false)"
      ]
     },
     "execution_count": 4,
     "metadata": {
      "comm_id": "8d28f59f-94ad-4062-b4cb-41587ce3531c",
      "reactive": true
     },
     "output_type": "execute_result"
    }
   ],
   "source": [
    "revealable(ans506C)"
   ]
  },
  {
   "cell_type": "markdown",
   "metadata": {},
   "source": [
    "###Practice Problem D\n",
    "Write a function that will carry out successive iterations of raising the value of $r$ and closing the interval boundaries. Check your loop with the previous problem, then use it to solve this problem:\n",
    "\n",
    "minimize $f(x) = 0.8x^2 – 2^x$ subject to $x ≤ 4$\n",
    "    \n",
    "Test different starting points to see the effect."
   ]
  },
  {
   "cell_type": "code",
   "execution_count": 7,
   "metadata": {
    "run_control": {
     "read_only": false
    }
   },
   "outputs": [
    {
     "data": {
      "text/plain": [
       "extpen (generic function with 1 method)"
      ]
     },
     "execution_count": 7,
     "metadata": {},
     "output_type": "execute_result"
    }
   ],
   "source": [
    "# Loop through your program here"
   ]
  },
  {
   "cell_type": "code",
   "execution_count": 5,
   "metadata": {
    "run_control": {
     "read_only": false
    }
   },
   "outputs": [
    {
     "data": {
      "text/html": [],
      "text/plain": [
       "Interact.ToggleButton(10: \"input-4\" = false Bool , \"Answer\", false)"
      ]
     },
     "metadata": {},
     "output_type": "display_data"
    },
    {
     "data": {
      "text/markdown": [
       "\n"
      ],
      "text/plain": [
       "Revealables.Revealable(\"###Answer D\\nBecomes \\n\\nMinimize T(x) = 0.8x<sup>2</sup> - 2<sup>x</sup> + max(0, x-4)<sup>2</sup>\\n\\nShould be at the boundary, 4; any starting point above 6.5 or so will send it way up for r = 10.\\n\\nI wrote a function:\\n\\n<code>\\nfunction extpen(f, P, a)  # f: objective function, P: penalty function, a: initial value\\n    r = 10\\n    for n in 1:10\\n       T(x) = f(x) + r\\\\*P(x)\\n       a = stepmin(T, a)  # change this to T, a, __ for a GE constraint\\n       println(a)\\n       r = 10\\\\*r\\n    end\\nend\\n</code>\\n\", \"Answer\", false, false)"
      ]
     },
     "execution_count": 5,
     "metadata": {
      "comm_id": "fbcd498d-f112-49f1-82e7-2b6c2ebb9f21",
      "reactive": true
     },
     "output_type": "execute_result"
    }
   ],
   "source": [
    "revealable(ans506D)"
   ]
  },
  {
   "cell_type": "markdown",
   "metadata": {},
   "source": [
    "###Practice Problem E\n",
    "Next, solve this problem:\n",
    "\n",
    "Minimize $f(x) = (x – 8)^2$ subject to $x ≥ 10$.\n",
    "\n",
    "(Be careful with that $≥$! It will affect both your $g(x)$ and your starting point.)"
   ]
  },
  {
   "cell_type": "code",
   "execution_count": null,
   "metadata": {
    "collapsed": true,
    "run_control": {
     "read_only": false
    }
   },
   "outputs": [],
   "source": [
    "# Solve here"
   ]
  },
  {
   "cell_type": "code",
   "execution_count": 6,
   "metadata": {
    "run_control": {
     "read_only": false
    }
   },
   "outputs": [
    {
     "data": {
      "text/html": [],
      "text/plain": [
       "Interact.ToggleButton(13: \"input-5\" = false Bool , \"Answer\", false)"
      ]
     },
     "metadata": {},
     "output_type": "display_data"
    },
    {
     "data": {
      "text/markdown": [
       "\n"
      ],
      "text/plain": [
       "Revealables.Revealable(\"###Answer E\\nBecomes\\n\\nMinimize T(x) = (x-8)<sup>2</sup> + r\\\\*max(0, 10-x)<sup>2</sup>\\n\\nShould give 10.\\n\", \"Answer\", false, false)"
      ]
     },
     "execution_count": 6,
     "metadata": {
      "comm_id": "fd6a5eee-6bb2-4d4c-bda4-63f5399185ff",
      "reactive": true
     },
     "output_type": "execute_result"
    }
   ],
   "source": [
    "revealable(ans506E)"
   ]
  },
  {
   "cell_type": "markdown",
   "metadata": {},
   "source": [
    "##A Note About Exterior Penalty Functions\n",
    "Because exterior penalty functions start outside the feasible region and approach it from the outside, they only find extremes that occur on the boundaries of the feasible region. They will not find interior extremes.\n",
    "\n",
    "In order to accomplish that, these are often used in combination with interior penalty functions... next lesson!"
   ]
  },
  {
   "cell_type": "code",
   "execution_count": null,
   "metadata": {
    "collapsed": true,
    "run_control": {
     "read_only": false
    }
   },
   "outputs": [],
   "source": []
  }
 ],
 "metadata": {
  "kernelspec": {
   "display_name": "Julia 0.6.0",
   "language": "julia",
   "name": "julia-0.6"
  },
  "language_info": {
   "file_extension": ".jl",
   "mimetype": "application/julia",
   "name": "julia",
   "version": "0.6.0"
  }
 },
 "nbformat": 4,
 "nbformat_minor": 1
}
