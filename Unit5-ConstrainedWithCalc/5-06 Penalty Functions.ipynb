{
 "cells": [
  {
   "cell_type": "markdown",
   "metadata": {
    "run_control": {
     "read_only": false
    }
   },
   "source": [
    "# 5-6 Penalty Functions\n",
    "* The Premise\n",
    "* Quadratic Loss \n",
    "* Problems and Solutions"
   ]
  },
  {
   "cell_type": "code",
   "execution_count": null,
   "metadata": {
    "collapsed": false,
    "run_control": {
     "read_only": false
    }
   },
   "outputs": [],
   "source": [
    "using Revealables\n",
    "include(\"files/answers.jl\")"
   ]
  },
  {
   "cell_type": "markdown",
   "metadata": {},
   "source": [
    "##The Premise\n",
    "You may have noticed that the addition of constraints to an optimization problem has the effect of making it much more difficult. \n",
    "\n",
    "The goal of __penalty functions__ is to convert constrained problems into unconstrained problems by introducing an artificial penalty for violating the constraint.\n",
    "\n",
    "Consider this example: Suppose there is a freeway (like a toll freeway) that monitors when you enter and exit the road.\n",
    "\n",
    "Instead of establishing a speed limit of 65 mph, they could use these rules:\n",
    "* You can drive as fast as you want.\n",
    "* If you drive under 65 mph you can use our road for free.\n",
    "* Every mph you drive over 65 will cost you \\$500.\n",
    "\n",
    "The previous example had no constraints – you can drive as fast as you want! But the effect of these rules would still be to limit drivers to 65mph. You can also control the likelihood of speeding by adjusting the fine.\n",
    "\n",
    "Penalty functions work in exactly this way.\n",
    "\n",
    "##Initial Steps\n",
    "We will be working with a very simple example: \n",
    "\n",
    "\tminimize $f(x) = 100/x$\n",
    "    \n",
    "\tsubject to $x ≤ 5$\n",
    "    \n",
    "(With a little thought, you can tell that $f(x)$ will be minimized when $x = 5$, so we know what answer we should get!)\n",
    "\n",
    "Before starting, convert any constraints into the form $(expression) ≤ 0$. In this example, $x ≤ 5$ becomes:\n",
    "$$x – 5 ≤ 0$$\n",
    "\n",
    "Once your constraints are converted, the next step is to start charging a penalty for violating them. Since we're trying to minimize $f(x)$, this means we need to __add__ value when the constraint is violated.\n",
    "\n",
    "If you are trying to maximize, the penalty will __subtract__ value.\n",
    "\n",
    "##Quadratic Loss: Inequalities\n",
    "With the constraint $x – 5 ≤ 0$, we need a penalty that is: \n",
    "* 0 when $x – 5 ≤ 0$  \t\t(the constraint is satisfied)\n",
    "* positive when $x – 5 > 0$ \t(the constraint is violated)\n",
    "\n",
    "This can be done using the operation \n",
    "\t$$P(x) = max(0, x – 5)$$\n",
    "which returns the maximum of the two values, either $0$ or whatever $(x – 5)$ is.\n",
    "\n",
    "We can make the penalty more severe by using \n",
    "\t$$P(x) = max(0, x – 5)^2$$\n",
    "    \n",
    "This is known as a __quadratic loss function__.\n",
    "\n",
    "##Quadratic Loss: Equalities\n",
    "It is even easier to convert equality constraints into quadratic loss functions because we don’t need to worry about the operation $(max, g(x))$. We can convert $h(x) = c$ into $h(x) – c = 0$, then use\n",
    "\t$$P(x) = (h(x) – c)^2$$\n",
    "    \n",
    "The lowest value of $P(x)$ will occur when $h(x) = c$, in which case the penalty $P(x) = 0$. This is exactly what we want."
   ]
  },
  {
   "cell_type": "markdown",
   "metadata": {},
   "source": [
    "###Practice Problem A\n",
    "Convert the following constraints into quadratic loss functions:\n",
    "1. $x ≤ 12$\n",
    "2. $x^2 ≥ 200$\n",
    "3. $2x + 7 ≤ 16$\n",
    "4. $e^{2x + 1} ≥ 9$\n",
    "5. $4x^2 + 2^x = 12$"
   ]
  },
  {
   "cell_type": "raw",
   "metadata": {},
   "source": [
    "Write your functions here:"
   ]
  },
  {
   "cell_type": "code",
   "execution_count": null,
   "metadata": {
    "collapsed": false,
    "run_control": {
     "read_only": false
    }
   },
   "outputs": [],
   "source": [
    "revealable(ans506A)"
   ]
  },
  {
   "cell_type": "markdown",
   "metadata": {},
   "source": [
    "##The Next Step\n",
    "Once you have converted your constraints into penalty functions, the basic idea is to add all the penalty functions (usually called $T(x)$) on to the original objective function and minimize from there:\n",
    "\n",
    "minimize $T(x) =  f(x) + P(x)$\n",
    "\n",
    "In our example,\n",
    "\n",
    "minimize $T(x) = 100/x + max(0, x – 5)^2$\n",
    "\n",
    "##A Problem\n",
    "But it isn't quite that easy.\n",
    "\n",
    "The addition of penalty functions can create severe slope changes in the graph at the boundary, which interferes with typical minimization programs.\n",
    "<img src=\"files/5-6/steepslope.png\" width=150 />\n",
    "\n",
    "\n",
    "Fortunately, there are two simple changes that will alleviate this problem.\n",
    "\n",
    "##First Solution: $r$\n",
    "The first is to multiply the quadratic loss function by a constant, $r$. This controls how severe the penalty is for violating the constraint.\n",
    "\n",
    "<img src=\"files/5-6/r.png\" width=50 align=\"left\" />\n",
    "The accepted method is to start with r = 10, which is a mild penalty. It will not form a very sharp point in the graph, but the minimum point found using r = 10 will not be a very accurate answer because the penalty is not severe enough.<br clear=\"all\" /> \n",
    "\n",
    "<img src=\"files/5-6/rnarrows.png\" width=50 align=\"left\" />\n",
    "Then, $r$ is increased to 100 and the function minimized again starting from the minimum point found when $r$ was 10. The higher penalty increases accuracy, and as we narrow in on the solution, the sharpness of the graph is less of a problem.\n",
    "\n",
    "We continue to increase $r$ values until the solutions converge.<br clear=\"all\" /> \n",
    "\n",
    "##Second Solution: Methods\n",
    "The second solution is to be thoughtful with how we minimize. The more useful minimization programs written in Unit 2 were interval methods. The program started with an interval and narrowed it in from the endpoints.\n",
    "\n",
    "<img src=\"files/5-6/intervals.png\" width=300 />\n",
    "\n",
    "With a severe nonlinearity, interval methods have a tendency to skip right over the minimum.\n",
    "\n",
    "For this reason, interval methods are generally not ideal for penalty functions. It is better to use methods that take tiny steps from a starting point, similar to the \"brute force\" methods we used in 1-variable, or any of the methods we used in 2-variable minimization.\n",
    "\n",
    "It is also important when using penalty functions to run the program a few times from various starting points to avoid local extremes."
   ]
  },
  {
   "cell_type": "markdown",
   "metadata": {},
   "source": [
    "###Practice Problem B\n",
    "Write a program that, given an initial point and a function:\n",
    "1. uses the derivative to determine the direction of the minimum\n",
    "2. takes small steps in that direction until the function value increases\n",
    "3. decreases the step size to narrow in on the minimum\n",
    "4. reports the minimum value"
   ]
  },
  {
   "cell_type": "code",
   "execution_count": null,
   "metadata": {
    "collapsed": true,
    "run_control": {
     "read_only": false
    }
   },
   "outputs": [],
   "source": [
    "# Write your program"
   ]
  },
  {
   "cell_type": "code",
   "execution_count": null,
   "metadata": {
    "collapsed": true,
    "run_control": {
     "read_only": false
    }
   },
   "outputs": [],
   "source": [
    "# Test your program"
   ]
  },
  {
   "cell_type": "code",
   "execution_count": null,
   "metadata": {
    "collapsed": false,
    "run_control": {
     "read_only": false
    }
   },
   "outputs": [],
   "source": [
    "revealable(ans506B)"
   ]
  },
  {
   "cell_type": "markdown",
   "metadata": {},
   "source": [
    "##The Final Step\n",
    "Now, back to the example:\n",
    "\n",
    "minimize $f(x) = 100/x$ subject to $x ≤ 5$\n",
    "\n",
    "has become\n",
    "\n",
    "minimize $T(x) = 100/x + r · (max(0, x – 5)^2)$\n",
    "\n",
    "(Notice how we're minimizing $T(x)$ instead of $f(x)$ now? That's because we're minimizing a penalty function.)\n",
    "\n",
    "The initial point must be chosen in violation of the constraint, which is why these are known as __*exterior* penalty functions__. We'll start with $x = 20$."
   ]
  },
  {
   "cell_type": "markdown",
   "metadata": {},
   "source": [
    "###Practice Problem C\n",
    "Using your step minimization program, minimize \n",
    "\t$$f(x) = 100/x + 10 · (max(0, x – 5))^2$$\n",
    "from starting point 20. Call your answer $a$.\n",
    "\n",
    "Then, minimize \n",
    "\t$$f(x) = 100/x + 100 · (max(0, x – 5))^2$$\n",
    "from starting point $a$.\n",
    "\n",
    "Repeat for $r = 1000$ and $r = 10,000$."
   ]
  },
  {
   "cell_type": "code",
   "execution_count": null,
   "metadata": {
    "collapsed": true,
    "run_control": {
     "read_only": false
    }
   },
   "outputs": [],
   "source": [
    "# Run your program here"
   ]
  },
  {
   "cell_type": "code",
   "execution_count": null,
   "metadata": {
    "collapsed": true,
    "run_control": {
     "read_only": false
    }
   },
   "outputs": [],
   "source": [
    "revealable(ans506C)"
   ]
  },
  {
   "cell_type": "markdown",
   "metadata": {},
   "source": [
    "###Practice Problem D\n",
    "Write a function that will carry out successive iterations of raising the value of $r$ and closing the interval boundaries. Check your loop with the previous problem, then use it to solve this problem:\n",
    "\n",
    "minimize $f(x) = 0.8x^2 – 2^x$ subject to $x ≤ 4$\n",
    "    \n",
    "Test different starting points to see the effect."
   ]
  },
  {
   "cell_type": "code",
   "execution_count": null,
   "metadata": {
    "collapsed": true,
    "run_control": {
     "read_only": false
    }
   },
   "outputs": [],
   "source": [
    "# Loop through your program here"
   ]
  },
  {
   "cell_type": "code",
   "execution_count": null,
   "metadata": {
    "collapsed": false,
    "run_control": {
     "read_only": false
    }
   },
   "outputs": [],
   "source": [
    "revealable(ans506D)"
   ]
  },
  {
   "cell_type": "markdown",
   "metadata": {},
   "source": [
    "###Practice Problem E\n",
    "Next, solve this problem:\n",
    "\n",
    "Minimize $f(x) = (x – 8)^2$ subject to $x ≥ 10$.\n",
    "\n",
    "(Be careful with that $≥$! It will affect both your $g(x)$ and your starting point.)"
   ]
  },
  {
   "cell_type": "code",
   "execution_count": null,
   "metadata": {
    "collapsed": true,
    "run_control": {
     "read_only": false
    }
   },
   "outputs": [],
   "source": [
    "# Solve here"
   ]
  },
  {
   "cell_type": "code",
   "execution_count": null,
   "metadata": {
    "collapsed": false,
    "run_control": {
     "read_only": false
    }
   },
   "outputs": [],
   "source": [
    "revealable(ans506E)"
   ]
  },
  {
   "cell_type": "markdown",
   "metadata": {},
   "source": [
    "##A Note About Exterior Penalty Functions\n",
    "Because exterior penalty functions start outside the feasible region and approach it from the outside, they only find extremes that occur on the boundaries of the feasible region. They will not find interior extremes.\n",
    "\n",
    "In order to accomplish that, these are often used in combination with interior penalty functions... next lesson!"
   ]
  },
  {
   "cell_type": "code",
   "execution_count": null,
   "metadata": {
    "collapsed": true,
    "run_control": {
     "read_only": false
    }
   },
   "outputs": [],
   "source": []
  }
 ],
 "metadata": {
  "kernelspec": {
   "display_name": "Julia 0.3.10",
   "language": "julia",
   "name": "julia-0.3"
  },
  "language_info": {
   "file_extension": ".jl",
   "mimetype": "application/julia",
   "name": "julia",
   "version": "0.3.10"
  }
 },
 "nbformat": 4,
 "nbformat_minor": 0
}
