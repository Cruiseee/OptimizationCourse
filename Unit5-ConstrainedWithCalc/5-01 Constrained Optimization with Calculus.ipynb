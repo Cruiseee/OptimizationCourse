{
 "cells": [
  {
   "cell_type": "markdown",
   "metadata": {
    "run_control": {
     "read_only": false
    }
   },
   "source": [
    "# 5-1 Constrained Optimization with Calculus\n",
    "* Background\n",
    "* Three Big Problems\n",
    "* Setup and Vocabulary"
   ]
  },
  {
   "cell_type": "code",
   "execution_count": null,
   "metadata": {
    "collapsed": false,
    "run_control": {
     "read_only": false
    }
   },
   "outputs": [],
   "source": [
    "using Revealables\n",
    "include(\"files/answers.jl\")"
   ]
  },
  {
   "cell_type": "markdown",
   "metadata": {},
   "source": [
    "##Background Information\n",
    "In Unit 3, you learned about linear programming, in which all constraints and the objective function are linear equations.\n",
    "\n",
    "However, frequently situations arise where the constraints, or the objective function, or both, are not linear. In this unit you will learn about some techniques that can be used to minimize functions in this situation.\n",
    "\n",
    "##The First Big Problem\n",
    "The first big problem is with the objective function. When the objective function was linear, we knew the maximum and minimum values had to occur at a constraint boundary. \n",
    "<img src=\"files/5-1/linear.png\" width=225 />\n",
    "\n",
    "\n",
    "However, if the objective function is nonlinear, the optimum value can occur anywhere: \n",
    "<img src=\"files/5-1/extrema.png\" width=400 />\n",
    "\n",
    "Therefore, we can't get away with just checking the corners: we have to check all the edges, and the interior as well. (Typically the optimum point occurs at a boundary... but not always!)\n",
    "\n",
    "This means that any procedure attempting to minimize with a nonlinear objective function needs to have two components: one that considers the boundaries (including the corners) and one that checks the interior.\n",
    "\n",
    "##The Second Big Problem\n",
    "The second big problem is visualization. Even with only two variables plus an objective function (a three-dimensional situation), nonlinear constraints can be very difficult to visualize.\n",
    "<img src=\"files/5-1/feasreg.png\" width=100 />\n",
    "\n",
    "After the feasible region is graphed, we still have to consider the objective function. But the typical 3D graph distorts the $x$-$y$ plane, which would make it impossible to use our feasible region graph.\n",
    "<img src=\"files/5-1/3dfeasreg.png\" width=400 />\n",
    "\n",
    "The solution to this is to graph our 3D shape as a contour map and overlay it on the feasible region.\n",
    "<img src=\"files/5-1/overlay.png\" width=300 />\n",
    "\n",
    "Often, the maximum or minimum value can be found just by looking at this type of picture."
   ]
  },
  {
   "cell_type": "markdown",
   "metadata": {},
   "source": [
    "###Practice Problem A\n",
    "1. Sketch a 2D graph of this feasible region for $x$-values between $0$ and $10$ and $y$-values between $0$ and $10$:$$\\begin{align}\n",
    "y &≥ (x – 3)^2 \\\\\n",
    "y &≤ 10 – x \\\\\n",
    "y &≥ 1/x + 1\\end{align}$$\n",
    "\n",
    "2. Using your feasible region from Part 1 and the objective function graphs below, guess the locations of the maximum and minimum values of the objective function: \n",
    "<img src=\"files/5-1/pp1.png\" width=500 />"
   ]
  },
  {
   "cell_type": "code",
   "execution_count": null,
   "metadata": {
    "collapsed": false,
    "run_control": {
     "read_only": false
    }
   },
   "outputs": [],
   "source": [
    "# Do your work on a separate sheet of paper\n",
    "revealable(ans501A)"
   ]
  },
  {
   "cell_type": "markdown",
   "metadata": {},
   "source": [
    "###Practice Problem B\n",
    "Using this graph of a feasible region with several highlighted points, plug in to find the points with the highest and lowest values of \n",
    "$$f(x, y) = 2x^2 – 3y$$\n",
    "<img src=\"files/5-1/pp2.png\" width=400 />\n",
    "FYI, the equations in the graph (courtesy of fooplot.com) are:\n",
    "$\\begin{align}\n",
    "y&≤\\sqrt{x}+2 \\\\\n",
    "y&≥x^2-4x \\\\\n",
    "y&≥1.2^x-1 \\\\\n",
    "x&≥0\n",
    "\\end{align}$"
   ]
  },
  {
   "cell_type": "code",
   "execution_count": null,
   "metadata": {
    "collapsed": true,
    "run_control": {
     "read_only": false
    }
   },
   "outputs": [],
   "source": [
    "# Calculate here"
   ]
  },
  {
   "cell_type": "code",
   "execution_count": null,
   "metadata": {
    "collapsed": false,
    "run_control": {
     "read_only": false
    }
   },
   "outputs": [],
   "source": [
    "revealable(ans501B)"
   ]
  },
  {
   "cell_type": "markdown",
   "metadata": {},
   "source": [
    "##The Biggest Problem\n",
    "As we discussed in unit 3 with linear programming, graphs work great as long as you satisfy two requirements:\n",
    "* the work is done by humans (not computers)\n",
    "* there are only two variables\n",
    "\n",
    "These conditions are very unlikely to be satisfied in the real world! So there must also be methods that rely more on numbers and less on visuals.\n",
    "\n",
    "The rest of this lesson will cover basic set-up and vocabulary that are common to these methods.\n",
    "\n",
    "##Setting Up the Problem\n",
    "Some labels to be aware of in optimization problems with constraints:\n",
    "\n",
    "* The variables $\\color{blue}{x_1}$, $\\color{blue}{x_2}$, $\\color{blue}{x_3}$, etc are abbreviated as $\\color{blue}{x}$, which stands for a matrix or array of those variables.\n",
    "* $\\color{red}{f(x)}$ is always the objective function.\n",
    "* $\\color{purple}{g_j(x)}$ is used for inequality constraints. (There are usually more than one, so they are called $\\color{purple}{g_1}$, $\\color{purple}{g_2}$, $\\color{purple}{g_3}$ and so on, hence the $\\color{purple}{g_j}$ symbol.)\n",
    "* $\\color{green}{h_k(x)}$ is used for equality constraints; we will mostly be dealing with inequalities, however.\n",
    "\n",
    "Before work begins, all of the inequality constraints must be converted to constraints of the form $\\color{purple}{(expression) ≤ 0}$, and all the equality constraints must be converted to $\\color{green}{(expression) = 0}$.\n",
    "\n",
    "Even positive-variable requirements, $\\color{purple}{xn ≥ 0}$, must be converted to $\\color{purple}{-xn ≤ 0}$.\n",
    "\n",
    "(Note that if you plan to graph the feasible region, it's usually easier to graph before converting.)"
   ]
  },
  {
   "cell_type": "markdown",
   "metadata": {},
   "source": [
    "###Practice Problem C\n",
    "Graph each constraint, then convert each into proper form ($expression ≤ 0$). \n",
    "(It may be helpful to substitute $x$ and $y$ for $x_1$ and $x_2$ while graphing.)\n",
    "1. $x_2≥e^{-x_1}+2$\n",
    "2. ${x_1}^2+{x_2}^2 ≤ 24$\n",
    "3. $x_2≤-{x_1}^2+4x_1$\n",
    "4. $x_1≥0$\n",
    "5. $x_2≥0$"
   ]
  },
  {
   "cell_type": "code",
   "execution_count": null,
   "metadata": {
    "collapsed": true,
    "run_control": {
     "read_only": false
    }
   },
   "outputs": [],
   "source": [
    "# Graph on a separate paper"
   ]
  },
  {
   "cell_type": "code",
   "execution_count": null,
   "metadata": {
    "collapsed": false,
    "run_control": {
     "read_only": false
    }
   },
   "outputs": [],
   "source": [
    "revealable(ans501C)"
   ]
  },
  {
   "cell_type": "markdown",
   "metadata": {},
   "source": [
    "###Practice Problem D\n",
    "Frame this problem in standard form (all constraints $≤ 0$ or $= 0$, all functions abbreviated properly as $f$, $g_j$, or $h$):\n",
    "\n",
    "Minimize $3x_1^2 – 2x_1x_2$, subject to:\n",
    "\n",
    "$\\begin{align}\n",
    "\t(x_1)^2 + 5 &≤ x_2 \\\\\n",
    "\tx_1 + x_2 &≥ 12 \\\\\n",
    "\t(x_2)^2 + 4(x_1)^2 &= 18 \\\\\n",
    "\tx_1 &≥ 0 \\\\\n",
    "    x_2 &≥ 0\\end{align}$"
   ]
  },
  {
   "cell_type": "raw",
   "metadata": {},
   "source": [
    "Write problem in standard form mere:"
   ]
  },
  {
   "cell_type": "code",
   "execution_count": null,
   "metadata": {
    "collapsed": true,
    "run_control": {
     "read_only": false
    }
   },
   "outputs": [],
   "source": [
    "# Calculate here"
   ]
  },
  {
   "cell_type": "code",
   "execution_count": null,
   "metadata": {
    "collapsed": false,
    "run_control": {
     "read_only": false
    }
   },
   "outputs": [],
   "source": [
    "revealable(ans501D)"
   ]
  },
  {
   "cell_type": "markdown",
   "metadata": {},
   "source": [
    "##A Helpful Note\n",
    "One of the ugliest tasks in solving nonlinear constraint problems is figuring out where the constraints cross.\n",
    "\n",
    "<img src=\"files/5-1/circexp.png\" width=100 align=\"right\" />For example, if you needed to find the crossing points of the boundaries of $x^2+y^2≤4$ and $y≥1.2^x-1$, the task would be impossible by hand.\n",
    "\n",
    "To do it, you would need to solve \n",
    "the equation $±\\sqrt{4-x^2} = 1.2^x-1$. (Although the constraints are $≤ 0$, the boundaries of the region are where the constraints are $= 0$, and since we're worried about the boundaries only we can ignore the $<$ part of the symbol.)\n",
    "\n",
    "However, you have a program that finds roots (Newton's method or secant method), so if you can get your equation in the form $(expression) = 0$, you can solve anything using that program.\n",
    "\n",
    "The simplest way to do this with nonlinear constraints is to get one of the constraints into $g(x)$ form, then substitute the other:\n",
    "\n",
    "$x^2+y^2=4$ becomes $x^2+y^2-4=0$\n",
    " \n",
    "Substitute $y = 1.2^x-1$, getting $x^2+(1.2^x-1)^2-4=0$.\n",
    "\n",
    "Then solve using your program."
   ]
  },
  {
   "cell_type": "markdown",
   "metadata": {},
   "source": [
    "###Practice Problem E\n",
    "1. Find both crossing points of $x^2+y^2≤4$ and $y≥1.2^x-1$.<br /><br />\n",
    "\n",
    "2. Find all three crossing points of $y≤4x-x^2$ and $(y+1)^2≥0.5e^x+2$ \n",
    "\n",
    "Make sure to list both $x$ and $y$ coordinates, and check your answers in both functions."
   ]
  },
  {
   "cell_type": "code",
   "execution_count": null,
   "metadata": {
    "collapsed": true,
    "run_control": {
     "read_only": false
    }
   },
   "outputs": [],
   "source": [
    "# Calculate here"
   ]
  },
  {
   "cell_type": "code",
   "execution_count": null,
   "metadata": {
    "collapsed": false,
    "run_control": {
     "read_only": false
    }
   },
   "outputs": [],
   "source": [
    "revealable(ans501E)"
   ]
  },
  {
   "cell_type": "code",
   "execution_count": null,
   "metadata": {
    "collapsed": true,
    "run_control": {
     "read_only": false
    }
   },
   "outputs": [],
   "source": []
  }
 ],
 "metadata": {
  "kernelspec": {
   "display_name": "Julia 0.3.10",
   "language": "julia",
   "name": "julia-0.3"
  },
  "language_info": {
   "file_extension": ".jl",
   "mimetype": "application/julia",
   "name": "julia",
   "version": "0.3.10"
  }
 },
 "nbformat": 4,
 "nbformat_minor": 0
}
