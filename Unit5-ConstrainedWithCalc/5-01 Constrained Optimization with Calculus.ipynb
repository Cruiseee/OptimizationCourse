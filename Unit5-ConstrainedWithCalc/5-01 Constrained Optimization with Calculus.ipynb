{
 "cells": [
  {
   "cell_type": "markdown",
   "metadata": {
    "run_control": {
     "read_only": false
    }
   },
   "source": [
    "# 5-1 Constrained Optimization with Calculus\n",
    "* Background\n",
    "* Three Big Problems\n",
    "* Setup and Vocabulary"
   ]
  },
  {
   "cell_type": "code",
   "execution_count": 1,
   "metadata": {
    "run_control": {
     "read_only": false
    }
   },
   "outputs": [
    {
     "data": {
      "text/html": [
       "<div id=\"interact-js-shim\">\n",
       "    <script charset=\"utf-8\">\r\n",
       "(function (IPython, $, _, MathJax) {\r\n",
       "    $.event.special.destroyed = {\r\n",
       "\tremove: function(o) {\r\n",
       "\t    if (o.handler) {\r\n",
       "\t\to.handler.apply(this, arguments)\r\n",
       "\t    }\r\n",
       "\t}\r\n",
       "    }\r\n",
       "\r\n",
       "    var OutputArea = IPython.version >= \"4.0.0\" ? require(\"notebook/js/outputarea\").OutputArea : IPython.OutputArea;\r\n",
       "\r\n",
       "    var redrawValue = function (container, type, val) {\r\n",
       "\tvar selector = $(\"<div/>\");\r\n",
       "\tvar oa = new OutputArea(_.extend(selector, {\r\n",
       "\t    selector: selector,\r\n",
       "\t    prompt_area: true,\r\n",
       "\t    events: IPython.events,\r\n",
       "\t    keyboard_manager: IPython.keyboard_manager\r\n",
       "\t})); // Hack to work with IPython 2.1.0\r\n",
       "\r\n",
       "\tswitch (type) {\r\n",
       "\tcase \"image/png\":\r\n",
       "            var _src = 'data:' + type + ';base64,' + val;\r\n",
       "\t    $(container).find(\"img\").attr('src', _src);\r\n",
       "\t    break;\r\n",
       "\tcase \"text/latex\":\r\n",
       "\t\tif (MathJax){\r\n",
       "\t\t\tvar math = MathJax.Hub.getAllJax(container)[0];\r\n",
       "\t\t\tMathJax.Hub.Queue([\"Text\", math, val.replace(/^\\${1,2}|\\${1,2}$/g, '')]);\r\n",
       "\t\t\tbreak;\r\n",
       "\t\t}\r\n",
       "\tdefault:\r\n",
       "\t    var toinsert = OutputArea.append_map[type].apply(\r\n",
       "\t\toa, [val, {}, selector]\r\n",
       "\t    );\r\n",
       "\t    $(container).empty().append(toinsert.contents());\r\n",
       "\t    selector.remove();\r\n",
       "\t}\r\n",
       "    }\r\n",
       "\r\n",
       "\r\n",
       "    $(document).ready(function() {\r\n",
       "\tfunction initComm(evt, data) {\r\n",
       "\t    var comm_manager = data.kernel.comm_manager;\r\n",
       "        //_.extend(comm_manager.targets, require(\"widgets/js/widget\"))\r\n",
       "\t    comm_manager.register_target(\"Signal\", function (comm) {\r\n",
       "            comm.on_msg(function (msg) {\r\n",
       "                var val = msg.content.data.value;\r\n",
       "                $(\".signal-\" + comm.comm_id).each(function() {\r\n",
       "                var type = $(this).data(\"type\");\r\n",
       "                if (typeof(val[type]) !== \"undefined\" && val[type] !== null) {\r\n",
       "                    redrawValue(this, type, val[type], type);\r\n",
       "                }\r\n",
       "                });\r\n",
       "                delete val;\r\n",
       "                delete msg.content.data.value;\r\n",
       "            });\r\n",
       "\t    });\r\n",
       "\r\n",
       "\t    // coordingate with Comm and redraw Signals\r\n",
       "\t    // XXX: Test using Reactive here to improve performance\r\n",
       "\t    $([IPython.events]).on(\r\n",
       "\t\t'output_appended.OutputArea', function (event, type, value, md, toinsert) {\r\n",
       "\t\t    if (md && md.reactive) {\r\n",
       "                // console.log(md.comm_id);\r\n",
       "                toinsert.addClass(\"signal-\" + md.comm_id);\r\n",
       "                toinsert.data(\"type\", type);\r\n",
       "                // Signal back indicating the mimetype required\r\n",
       "                var comm_manager = IPython.notebook.kernel.comm_manager;\r\n",
       "                var comm = comm_manager.comms[md.comm_id];\r\n",
       "                comm.then(function (c) {\r\n",
       "                    c.send({action: \"subscribe_mime\",\r\n",
       "                       mime: type});\r\n",
       "                    toinsert.bind(\"destroyed\", function() {\r\n",
       "                        c.send({action: \"unsubscribe_mime\",\r\n",
       "                               mime: type});\r\n",
       "                    });\r\n",
       "                })\r\n",
       "\t\t    }\r\n",
       "\t    });\r\n",
       "\t}\r\n",
       "\r\n",
       "\ttry {\r\n",
       "\t    // try to initialize right away. otherwise, wait on the status_started event.\r\n",
       "\t    initComm(undefined, IPython.notebook);\r\n",
       "\t} catch (e) {\r\n",
       "\t    $([IPython.events]).on('kernel_created.Kernel kernel_created.Session', initComm);\r\n",
       "\t}\r\n",
       "    });\r\n",
       "})(IPython, jQuery, _, MathJax);\r\n",
       "</script>\n",
       "    <script>\n",
       "        window.interactLoadedFlag = true\n",
       "       $(\"#interact-js-shim\").bind(\"destroyed\", function () {\n",
       "           if (window.interactLoadedFlag) {\n",
       "               console.warn(\"JavaScript required by Interact will be removed if you remove this cell or run using Interact more than once.\")\n",
       "           }\n",
       "       })\n",
       "       $([IPython.events]).on(\"kernel_starting.Kernel kernel_restarting.Kernel\", function () { window.interactLoadedFlag = false })\n",
       "   </script>\n",
       "</div>"
      ]
     },
     "metadata": {},
     "output_type": "display_data"
    },
    {
     "data": {
      "text/markdown": [
       "\n"
      ],
      "text/plain": [
       "Revealables.Revealable(\"###Answer F\\n1. Three is a challenge! I had to look it up. I won't give away the third, but there are a lot of possibilities. I'd be worried if their belief state wasn't something like: allergies 48%, cold 48%, <other> 2%. Make them fill in \\\"other\\\", even if they have to look it up too. It was educational.\\n2. I personally don't like over-medicating my patients (maybe this is why I'm a math teacher) so my action would be to wait a week and do nothing.\\n3. If they're still sneezing after waiting a week, my belief state would become: allergies 80%, cold 15%, <other> 5%.\\n4. They could get really insightful here. I would ask a lot of questions trying to eliminate the \\\"other\\\" hypothesis and narrow it down to cold or allergies, and then I would try to narrow it between those (is it seasonal? what seasons? do you work with small children? is your family sick?). I would try more wait time which would hopefully give a cold time to pass on, and then see if allergy meds helped. If they did, then there's the answer. If they didn't, then I would conclude that while allergies are still possible they are much less probable. At some point \\\"cold\\\" and \\\"allergies\\\" would both be so improbable I'd have to look deeper into the \\\"other\\\" option and maybe expand my state possibilities beyond three.\\n\\nYou gain a lot of insight into medicine by thinking of doctors as POMDP systems. Probably because they are.\\n\", \"Answer\", false, false)"
      ]
     },
     "execution_count": 1,
     "metadata": {},
     "output_type": "execute_result"
    }
   ],
   "source": [
    "using Revealables\n",
    "include(\"files/answers.jl\")"
   ]
  },
  {
   "cell_type": "markdown",
   "metadata": {},
   "source": [
    "##Background Information\n",
    "In Unit 3, you learned about linear programming, in which all constraints and the objective function are linear equations.\n",
    "\n",
    "However, frequently situations arise where the constraints, or the objective function, or both, are not linear. In this unit you will learn about some techniques that can be used to minimize functions in this situation.\n",
    "\n",
    "##The First Big Problem\n",
    "The first big problem is with the objective function. When the objective function was linear, we knew the maximum and minimum values had to occur at a constraint boundary. \n",
    "<img src=\"files/5-1/linear.png\" width=225 />\n",
    "\n",
    "\n",
    "However, if the objective function is nonlinear, the optimum value can occur anywhere: \n",
    "<img src=\"files/5-1/extrema.png\" width=400 />\n",
    "\n",
    "Therefore, we can't get away with just checking the corners: we have to check all the edges, and the interior as well. (Typically the optimum point occurs at a boundary... but not always!)\n",
    "\n",
    "This means that any procedure attempting to minimize with a nonlinear objective function needs to have two components: one that considers the boundaries (including the corners) and one that checks the interior.\n",
    "\n",
    "##The Second Big Problem\n",
    "The second big problem is visualization. Even with only two variables plus an objective function (a three-dimensional situation), nonlinear constraints can be very difficult to visualize.\n",
    "<img src=\"files/5-1/feasreg.png\" width=100 />\n",
    "\n",
    "After the feasible region is graphed, we still have to consider the objective function. But the typical 3D graph distorts the $x$-$y$ plane, which would make it impossible to use our feasible region graph.\n",
    "<img src=\"files/5-1/3dfeasreg.png\" width=400 />\n",
    "\n",
    "The solution to this is to graph our 3D shape as a contour map and overlay it on the feasible region.\n",
    "<img src=\"files/5-1/overlay.png\" width=300 />\n",
    "\n",
    "Often, the maximum or minimum value can be found just by looking at this type of picture."
   ]
  },
  {
   "cell_type": "markdown",
   "metadata": {},
   "source": [
    "###Practice Problem A\n",
    "1. Sketch a 2D graph of this feasible region for $x$-values between $0$ and $10$ and $y$-values between $0$ and $10$:$$\\begin{align}\n",
    "y &≥ (x – 3)^2 \\\\\n",
    "y &≤ 10 – x \\\\\n",
    "y &≥ 1/x + 1\\end{align}$$\n",
    "\n",
    "2. Using your feasible region from Part 1 and the objective function graphs below, guess the locations of the maximum and minimum values of the objective function: \n",
    "<img src=\"files/5-1/pp1.png\" width=500 />"
   ]
  },
  {
   "cell_type": "code",
   "execution_count": 2,
   "metadata": {
    "run_control": {
     "read_only": false
    }
   },
   "outputs": [
    {
     "data": {
      "text/html": [],
      "text/plain": [
       "Interact.ToggleButton(1: \"input\" = false Bool , \"Answer\", false)"
      ]
     },
     "metadata": {},
     "output_type": "display_data"
    },
    {
     "data": {
      "text/markdown": [
       "\n"
      ],
      "text/plain": [
       "Revealables.Revealable(\"###Answer A\\n1. The feasible region has 5 corner points. On the left side it is bounded mainly by the parabola, though there is a crossing point with the 1/x near the top of the region. The upper left corner is the intersection of 1/x with 10-x; the entire upper bound is the line, and the right boundary is the parabola. The lower boundary is 1/x which crosses the parabola twice, close to x = 3. \\n2. The maximum value will likely occur at the right corner (between the parabola and line).<br /><br />\\nThe minimum value will probably occur at the corner closest to the origin, the middle of three crossing points of the parabola with 1/x.<br /><br />\\nHopefully two lessons will be learned here: first, this is harder than it seems at first glance, and second, we're really just guessing.\\n\", \"Answer\", false, false)"
      ]
     },
     "execution_count": 2,
     "metadata": {
      "comm_id": "5fc27cb4-72f6-43da-9767-0094bdaabab6",
      "reactive": true
     },
     "output_type": "execute_result"
    },
    {
     "name": "stderr",
     "output_type": "stream",
     "text": [
      "WARNING: Compat.ASCIIString is deprecated, use String instead.\n",
      "  likely near C:\\Users\\Victoria Docherty\\.julia\\v0.6\\IJulia\\src\\kernel.jl:31\n",
      "WARNING: Compat.ASCIIString is deprecated, use String instead.\n",
      "  likely near C:\\Users\\Victoria Docherty\\.julia\\v0.6\\IJulia\\src\\kernel.jl:31\n",
      "WARNING: Compat.ASCIIString is deprecated, use String instead.\n",
      "  likely near C:\\Users\\Victoria Docherty\\.julia\\v0.6\\IJulia\\src\\kernel.jl:31\n",
      "WARNING: Compat.ASCIIString is deprecated, use String instead.\n",
      "  likely near C:\\Users\\Victoria Docherty\\.julia\\v0.6\\IJulia\\src\\kernel.jl:31\n",
      "WARNING: Compat.ASCIIString is deprecated, use String instead.\n",
      "  likely near C:\\Users\\Victoria Docherty\\.julia\\v0.6\\IJulia\\src\\kernel.jl:31\n",
      "WARNING: Compat.ASCIIString is deprecated, use String instead.\n",
      "  likely near C:\\Users\\Victoria Docherty\\.julia\\v0.6\\IJulia\\src\\kernel.jl:31\n"
     ]
    }
   ],
   "source": [
    "# Do your work on a separate sheet of paper\n",
    "revealable(ans501A)"
   ]
  },
  {
   "cell_type": "markdown",
   "metadata": {},
   "source": [
    "###Practice Problem B\n",
    "Using this graph of a feasible region with several highlighted points, plug in to find the points with the highest and lowest values of \n",
    "$$f(x, y) = 2x^2 – 3y$$\n",
    "<img src=\"files/5-1/pp2.png\" width=400 />\n",
    "FYI, the equations in the graph (courtesy of fooplot.com) are:\n",
    "$\\begin{align}\n",
    "y&≤\\sqrt{x}+2 \\\\\n",
    "y&≥x^2-4x \\\\\n",
    "y&≥1.2^x-1 \\\\\n",
    "x&≥0\n",
    "\\end{align}$"
   ]
  },
  {
   "cell_type": "code",
   "execution_count": null,
   "metadata": {
    "collapsed": true,
    "run_control": {
     "read_only": false
    }
   },
   "outputs": [],
   "source": [
    "# Calculate here"
   ]
  },
  {
   "cell_type": "code",
   "execution_count": 3,
   "metadata": {
    "run_control": {
     "read_only": false
    }
   },
   "outputs": [
    {
     "data": {
      "text/html": [],
      "text/plain": [
       "Interact.ToggleButton(4: \"input-2\" = false Bool , \"Answer\", false)"
      ]
     },
     "metadata": {},
     "output_type": "display_data"
    },
    {
     "data": {
      "text/markdown": [
       "\n"
      ],
      "text/plain": [
       "Revealables.Revealable(\"###Answer B\\nMinimization occurs at g (0, 2) with a minimum of -6\\n\\nMaximization occurs at c (4.726, 1.181) with a maximum of 41.12\\n\", \"Answer\", false, false)"
      ]
     },
     "execution_count": 3,
     "metadata": {
      "comm_id": "136ba380-0c9f-4831-9366-a058a318a946",
      "reactive": true
     },
     "output_type": "execute_result"
    }
   ],
   "source": [
    "revealable(ans501B)"
   ]
  },
  {
   "cell_type": "markdown",
   "metadata": {},
   "source": [
    "##The Biggest Problem\n",
    "As we discussed in unit 3 with linear programming, graphs work great as long as you satisfy two requirements:\n",
    "* the work is done by humans (not computers)\n",
    "* there are only two variables\n",
    "\n",
    "These conditions are very unlikely to be satisfied in the real world! So there must also be methods that rely more on numbers and less on visuals.\n",
    "\n",
    "The rest of this lesson will cover basic set-up and vocabulary that are common to these methods.\n",
    "\n",
    "##Setting Up the Problem\n",
    "Some labels to be aware of in optimization problems with constraints:\n",
    "\n",
    "* The variables $\\color{blue}{x_1}$, $\\color{blue}{x_2}$, $\\color{blue}{x_3}$, etc are abbreviated as $\\color{blue}{x}$, which stands for a matrix or array of those variables.\n",
    "* $\\color{red}{f(x)}$ is always the objective function.\n",
    "* $\\color{purple}{g_j(x)}$ is used for inequality constraints. (There are usually more than one, so they are called $\\color{purple}{g_1}$, $\\color{purple}{g_2}$, $\\color{purple}{g_3}$ and so on, hence the $\\color{purple}{g_j}$ symbol.)\n",
    "* $\\color{green}{h_k(x)}$ is used for equality constraints; we will mostly be dealing with inequalities, however.\n",
    "\n",
    "Before work begins, all of the inequality constraints must be converted to constraints of the form $\\color{purple}{(expression) ≤ 0}$, and all the equality constraints must be converted to $\\color{green}{(expression) = 0}$.\n",
    "\n",
    "Even positive-variable requirements, $\\color{purple}{xn ≥ 0}$, must be converted to $\\color{purple}{-xn ≤ 0}$.\n",
    "\n",
    "(Note that if you plan to graph the feasible region, it's usually easier to graph before converting.)"
   ]
  },
  {
   "cell_type": "markdown",
   "metadata": {},
   "source": [
    "###Practice Problem C\n",
    "Graph each constraint, then convert each into proper form ($expression ≤ 0$). \n",
    "(It may be helpful to substitute $x$ and $y$ for $x_1$ and $x_2$ while graphing.)\n",
    "1. $x_2≥e^{-x_1}+2$\n",
    "2. ${x_1}^2+{x_2}^2 ≤ 24$\n",
    "3. $x_2≤-{x_1}^2+4x_1$\n",
    "4. $x_1≥0$\n",
    "5. $x_2≥0$"
   ]
  },
  {
   "cell_type": "code",
   "execution_count": null,
   "metadata": {
    "collapsed": true,
    "run_control": {
     "read_only": false
    }
   },
   "outputs": [],
   "source": [
    "# Graph on a separate paper"
   ]
  },
  {
   "cell_type": "code",
   "execution_count": 4,
   "metadata": {
    "run_control": {
     "read_only": false
    }
   },
   "outputs": [
    {
     "data": {
      "text/html": [],
      "text/plain": [
       "Interact.ToggleButton(7: \"input-3\" = false Bool , \"Answer\", false)"
      ]
     },
     "metadata": {},
     "output_type": "display_data"
    },
    {
     "data": {
      "text/markdown": [
       "\n"
      ],
      "text/plain": [
       "Revealables.Revealable(\"###Answer C\\n1. -x<sub>2</sub> + e<sup>-x<sub>1</sub></sup> + 2 &le; 0\\n2. x<sub>1</sub><sup>2</sup> + x<sub>2</sub><sup>2</sup> - 24 &le; 0 \\n3. x<sub>1</sub><sup>2</sup> - 4x<sub>1</sub> + x<sub>2</sub> - 2 &le; 0\\n4. -x<sub>1</sub> &le; 0\\n5. -x<sub>2</sub> &le; 0\\n\\nIf you graph these all together, it's a four-sided region (the axes do not come into play) bounded left and right by the parabola, top by the circle and bottom by the exponential.\\n\", \"Answer\", false, false)"
      ]
     },
     "execution_count": 4,
     "metadata": {
      "comm_id": "6569c618-3de3-4090-9a48-27ddcbd59441",
      "reactive": true
     },
     "output_type": "execute_result"
    }
   ],
   "source": [
    "revealable(ans501C)"
   ]
  },
  {
   "cell_type": "markdown",
   "metadata": {},
   "source": [
    "###Practice Problem D\n",
    "Frame this problem in standard form (all constraints $≤ 0$ or $= 0$, all functions abbreviated properly as $f$, $g_j$, or $h$):\n",
    "\n",
    "Minimize $3x_1^2 – 2x_1x_2$, subject to:\n",
    "\n",
    "$\\begin{align}\n",
    "\t(x_1)^2 + 5 &≤ x_2 \\\\\n",
    "\tx_1 + x_2 &≥ 12 \\\\\n",
    "\t(x_2)^2 + 4(x_1)^2 &= 18 \\\\\n",
    "\tx_1 &≥ 0 \\\\\n",
    "    x_2 &≥ 0\\end{align}$"
   ]
  },
  {
   "cell_type": "raw",
   "metadata": {},
   "source": [
    "Write problem in standard form mere:"
   ]
  },
  {
   "cell_type": "code",
   "execution_count": null,
   "metadata": {
    "collapsed": true,
    "run_control": {
     "read_only": false
    }
   },
   "outputs": [],
   "source": [
    "# Calculate here"
   ]
  },
  {
   "cell_type": "code",
   "execution_count": 5,
   "metadata": {
    "run_control": {
     "read_only": false
    }
   },
   "outputs": [
    {
     "data": {
      "text/html": [],
      "text/plain": [
       "Interact.ToggleButton(10: \"input-4\" = false Bool , \"Answer\", false)"
      ]
     },
     "metadata": {},
     "output_type": "display_data"
    },
    {
     "data": {
      "text/markdown": [
       "\n"
      ],
      "text/plain": [
       "Revealables.Revealable(\"###Answer D\\nf(x) = 3x<sub>1</sub><sup>2</sup> - 2x<sub>1</sub>x<sub>2</sub>\\n\\ng<sub>1</sub>(x) = x<sub>1</sub><sup>2</sup> + 5 - x<sub>2</sub> &le; 0\\n\\ng<sub>2</sub>(x) = 12 - x<sub>1</sub><sup>2</sup> - x<sub>2</sub><sup>2</sup> &le; 0\\n\\ng<sub>3</sub>(x) = -x<sub>1</sub> &le; 0\\n\\ng<sub>4</sub>(x) = -x<sub>2</sub> &le; 0\\n\\nh(x) = x<sub>2</sub><sup>2</sup> + 4x<sub>1</sub><sup>2</sup> - 18 = 0\\n\", \"Answer\", false, false)"
      ]
     },
     "execution_count": 5,
     "metadata": {
      "comm_id": "7d90e14f-14a2-45f0-9b37-9482ab862045",
      "reactive": true
     },
     "output_type": "execute_result"
    }
   ],
   "source": [
    "revealable(ans501D)"
   ]
  },
  {
   "cell_type": "markdown",
   "metadata": {},
   "source": [
    "##A Helpful Note\n",
    "One of the ugliest tasks in solving nonlinear constraint problems is figuring out where the constraints cross.\n",
    "\n",
    "<img src=\"files/5-1/circexp.png\" width=100 align=\"right\" />For example, if you needed to find the crossing points of the boundaries of $x^2+y^2≤4$ and $y≥1.2^x-1$, the task would be impossible by hand.\n",
    "\n",
    "To do it, you would need to solve \n",
    "the equation $±\\sqrt{4-x^2} = 1.2^x-1$. (Although the constraints are $≤ 0$, the boundaries of the region are where the constraints are $= 0$, and since we're worried about the boundaries only we can ignore the $<$ part of the symbol.)\n",
    "\n",
    "However, you have a program that finds roots (Newton's method or secant method), so if you can get your equation in the form $(expression) = 0$, you can solve anything using that program.\n",
    "\n",
    "The simplest way to do this with nonlinear constraints is to get one of the constraints into $g(x)$ form, then substitute the other:\n",
    "\n",
    "$x^2+y^2=4$ becomes $x^2+y^2-4=0$\n",
    " \n",
    "Substitute $y = 1.2^x-1$, getting $x^2+(1.2^x-1)^2-4=0$.\n",
    "\n",
    "Then solve using your program."
   ]
  },
  {
   "cell_type": "markdown",
   "metadata": {},
   "source": [
    "###Practice Problem E\n",
    "1. Find both crossing points of $x^2+y^2≤4$ and $y≥1.2^x-1$.<br /><br />\n",
    "\n",
    "2. Find all three crossing points of $y≤4x-x^2$ and $(y+1)^2≥0.5e^x+2$ \n",
    "\n",
    "Make sure to list both $x$ and $y$ coordinates, and check your answers in both functions."
   ]
  },
  {
   "cell_type": "code",
   "execution_count": null,
   "metadata": {
    "collapsed": true,
    "run_control": {
     "read_only": false
    }
   },
   "outputs": [],
   "source": [
    "# Calculate here"
   ]
  },
  {
   "cell_type": "code",
   "execution_count": 6,
   "metadata": {
    "run_control": {
     "read_only": false
    }
   },
   "outputs": [
    {
     "data": {
      "text/html": [],
      "text/plain": [
       "Interact.ToggleButton(13: \"input-5\" = false Bool , \"Answer\", false)"
      ]
     },
     "metadata": {},
     "output_type": "display_data"
    },
    {
     "data": {
      "text/markdown": [
       "\n"
      ],
      "text/plain": [
       "Revealables.Revealable(\"###Answer E\\n(-1.977, -0.303) and (1.95369, 0.428)\\n\\n(0.159, 0.608), (3.145, 2.689), and (-0.552, -2.513)\\n\", \"Answer\", false, false)"
      ]
     },
     "execution_count": 6,
     "metadata": {
      "comm_id": "85415b6f-dcf2-40c5-95aa-f317ee352dc6",
      "reactive": true
     },
     "output_type": "execute_result"
    }
   ],
   "source": [
    "revealable(ans501E)"
   ]
  },
  {
   "cell_type": "code",
   "execution_count": null,
   "metadata": {
    "collapsed": true,
    "run_control": {
     "read_only": false
    }
   },
   "outputs": [],
   "source": []
  }
 ],
 "metadata": {
  "kernelspec": {
   "display_name": "Julia 0.6.0",
   "language": "julia",
   "name": "julia-0.6"
  },
  "language_info": {
   "file_extension": ".jl",
   "mimetype": "application/julia",
   "name": "julia",
   "version": "0.6.0"
  }
 },
 "nbformat": 4,
 "nbformat_minor": 1
}
