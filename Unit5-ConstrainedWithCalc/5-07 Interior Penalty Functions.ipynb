{
 "cells": [
  {
   "cell_type": "markdown",
   "metadata": {
    "run_control": {
     "read_only": false
    }
   },
   "source": [
    "# 5-7 Interior Penalty Functions\n",
    "* Barrier Functions\n",
    "* A Problem and a Solution"
   ]
  },
  {
   "cell_type": "code",
   "execution_count": 1,
   "metadata": {
    "run_control": {
     "read_only": false
    }
   },
   "outputs": [
    {
     "data": {
      "text/html": [
       "<div id=\"interact-js-shim\">\n",
       "    <script charset=\"utf-8\">\r\n",
       "(function (IPython, $, _, MathJax) {\r\n",
       "    $.event.special.destroyed = {\r\n",
       "\tremove: function(o) {\r\n",
       "\t    if (o.handler) {\r\n",
       "\t\to.handler.apply(this, arguments)\r\n",
       "\t    }\r\n",
       "\t}\r\n",
       "    }\r\n",
       "\r\n",
       "    var OutputArea = IPython.version >= \"4.0.0\" ? require(\"notebook/js/outputarea\").OutputArea : IPython.OutputArea;\r\n",
       "\r\n",
       "    var redrawValue = function (container, type, val) {\r\n",
       "\tvar selector = $(\"<div/>\");\r\n",
       "\tvar oa = new OutputArea(_.extend(selector, {\r\n",
       "\t    selector: selector,\r\n",
       "\t    prompt_area: true,\r\n",
       "\t    events: IPython.events,\r\n",
       "\t    keyboard_manager: IPython.keyboard_manager\r\n",
       "\t})); // Hack to work with IPython 2.1.0\r\n",
       "\r\n",
       "\tswitch (type) {\r\n",
       "\tcase \"image/png\":\r\n",
       "            var _src = 'data:' + type + ';base64,' + val;\r\n",
       "\t    $(container).find(\"img\").attr('src', _src);\r\n",
       "\t    break;\r\n",
       "\tcase \"text/latex\":\r\n",
       "\t\tif (MathJax){\r\n",
       "\t\t\tvar math = MathJax.Hub.getAllJax(container)[0];\r\n",
       "\t\t\tMathJax.Hub.Queue([\"Text\", math, val.replace(/^\\${1,2}|\\${1,2}$/g, '')]);\r\n",
       "\t\t\tbreak;\r\n",
       "\t\t}\r\n",
       "\tdefault:\r\n",
       "\t    var toinsert = OutputArea.append_map[type].apply(\r\n",
       "\t\toa, [val, {}, selector]\r\n",
       "\t    );\r\n",
       "\t    $(container).empty().append(toinsert.contents());\r\n",
       "\t    selector.remove();\r\n",
       "\t}\r\n",
       "    }\r\n",
       "\r\n",
       "\r\n",
       "    $(document).ready(function() {\r\n",
       "\tfunction initComm(evt, data) {\r\n",
       "\t    var comm_manager = data.kernel.comm_manager;\r\n",
       "        //_.extend(comm_manager.targets, require(\"widgets/js/widget\"))\r\n",
       "\t    comm_manager.register_target(\"Signal\", function (comm) {\r\n",
       "            comm.on_msg(function (msg) {\r\n",
       "                var val = msg.content.data.value;\r\n",
       "                $(\".signal-\" + comm.comm_id).each(function() {\r\n",
       "                var type = $(this).data(\"type\");\r\n",
       "                if (typeof(val[type]) !== \"undefined\" && val[type] !== null) {\r\n",
       "                    redrawValue(this, type, val[type], type);\r\n",
       "                }\r\n",
       "                });\r\n",
       "                delete val;\r\n",
       "                delete msg.content.data.value;\r\n",
       "            });\r\n",
       "\t    });\r\n",
       "\r\n",
       "\t    // coordingate with Comm and redraw Signals\r\n",
       "\t    // XXX: Test using Reactive here to improve performance\r\n",
       "\t    $([IPython.events]).on(\r\n",
       "\t\t'output_appended.OutputArea', function (event, type, value, md, toinsert) {\r\n",
       "\t\t    if (md && md.reactive) {\r\n",
       "                // console.log(md.comm_id);\r\n",
       "                toinsert.addClass(\"signal-\" + md.comm_id);\r\n",
       "                toinsert.data(\"type\", type);\r\n",
       "                // Signal back indicating the mimetype required\r\n",
       "                var comm_manager = IPython.notebook.kernel.comm_manager;\r\n",
       "                var comm = comm_manager.comms[md.comm_id];\r\n",
       "                comm.then(function (c) {\r\n",
       "                    c.send({action: \"subscribe_mime\",\r\n",
       "                       mime: type});\r\n",
       "                    toinsert.bind(\"destroyed\", function() {\r\n",
       "                        c.send({action: \"unsubscribe_mime\",\r\n",
       "                               mime: type});\r\n",
       "                    });\r\n",
       "                })\r\n",
       "\t\t    }\r\n",
       "\t    });\r\n",
       "\t}\r\n",
       "\r\n",
       "\ttry {\r\n",
       "\t    // try to initialize right away. otherwise, wait on the status_started event.\r\n",
       "\t    initComm(undefined, IPython.notebook);\r\n",
       "\t} catch (e) {\r\n",
       "\t    $([IPython.events]).on('kernel_created.Kernel kernel_created.Session', initComm);\r\n",
       "\t}\r\n",
       "    });\r\n",
       "})(IPython, jQuery, _, MathJax);\r\n",
       "</script>\n",
       "    <script>\n",
       "        window.interactLoadedFlag = true\n",
       "       $(\"#interact-js-shim\").bind(\"destroyed\", function () {\n",
       "           if (window.interactLoadedFlag) {\n",
       "               console.warn(\"JavaScript required by Interact will be removed if you remove this cell or run using Interact more than once.\")\n",
       "           }\n",
       "       })\n",
       "       $([IPython.events]).on(\"kernel_starting.Kernel kernel_restarting.Kernel\", function () { window.interactLoadedFlag = false })\n",
       "   </script>\n",
       "</div>"
      ]
     },
     "metadata": {},
     "output_type": "display_data"
    },
    {
     "data": {
      "text/markdown": [
       "\n"
      ],
      "text/plain": [
       "Revealables.Revealable(\"###Answer F\\n1. Three is a challenge! I had to look it up. I won't give away the third, but there are a lot of possibilities. I'd be worried if their belief state wasn't something like: allergies 48%, cold 48%, <other> 2%. Make them fill in \\\"other\\\", even if they have to look it up too. It was educational.\\n2. I personally don't like over-medicating my patients (maybe this is why I'm a math teacher) so my action would be to wait a week and do nothing.\\n3. If they're still sneezing after waiting a week, my belief state would become: allergies 80%, cold 15%, <other> 5%.\\n4. They could get really insightful here. I would ask a lot of questions trying to eliminate the \\\"other\\\" hypothesis and narrow it down to cold or allergies, and then I would try to narrow it between those (is it seasonal? what seasons? do you work with small children? is your family sick?). I would try more wait time which would hopefully give a cold time to pass on, and then see if allergy meds helped. If they did, then there's the answer. If they didn't, then I would conclude that while allergies are still possible they are much less probable. At some point \\\"cold\\\" and \\\"allergies\\\" would both be so improbable I'd have to look deeper into the \\\"other\\\" option and maybe expand my state possibilities beyond three.\\n\\nYou gain a lot of insight into medicine by thinking of doctors as POMDP systems. Probably because they are.\\n\", \"Answer\", false, false)"
      ]
     },
     "execution_count": 1,
     "metadata": {},
     "output_type": "execute_result"
    }
   ],
   "source": [
    "using Revealables\n",
    "include(\"files/answers.jl\")"
   ]
  },
  {
   "cell_type": "markdown",
   "metadata": {},
   "source": [
    "##Initial Steps\n",
    "A second type of penalty function begins with an initial point inside the feasible region, which is why these procedures are called __interior penalty functions__ or \"barrier methods.\"\n",
    "\n",
    "Before beginning, all constraints must be converted into $(expression) ≤ 0$ form.\n",
    "\n",
    "This method will not work with equality constraints.\n",
    "\n",
    "##Barrier Functions\n",
    "The simplest interior penalty function, called an __inverse barrier function__, involves writing a barrier function for each constraint $g_j(x) ≤ 0$ as follows:\n",
    "\t$$B(x) = \\frac{−1}{g_j(x)}$$\n",
    "    \n",
    "This procedure has two effects:\n",
    "* The negative sign changes the constraint from a negative number ($≤ 0$) to a positive.\n",
    "* The fraction ensures that as $g_j(x)$ approaches the constraint boundary at 0, the barrier function gets infinitely large.\n",
    "\n",
    "Therefore, this barrier creates a positive number that approaches infinity as $x$ nears the boundary.\n",
    "\n",
    "##Problems with Barriers\n",
    "As with exterior penalty functions, the inverse barrier method causes some graphical problems. Because it involves an inverse function 1/g(x), it creates an asymptotic graph:\n",
    "<img src=\"files/5-7/asymptote.png\" width=300 />\n",
    "\n",
    "As long as we stay on the left side of the barrier, the method will work.\n",
    "\n",
    "<img src=\"files/5-7/rightpiece.png\" width=100 align=\"left\" />If the initial point ever moves outside the boundary, however, the method will fail, because outside the constraint (in this case, the right side of the graph) the other side of the function will come into play.\n",
    "\n",
    "The values here are lower, so a minimization program will pick them up and run with them, even though they violate the constraint.\n",
    "<br clear=\"all\" />\n",
    "\n",
    "##The Solution: $r$, again!\n",
    "As with exterior penalty functions, part of the solution is to include a multiplier, in this case $\\frac{1}{r}$. We will begin with $r = 1$ and gradually increase $r$ by factors of 10.\n",
    "\n",
    "This has the effect of successively reducing the penalty. In the beginning the penalty is large, preventing the minimum point from crossing the barrier of the constraint. This barrier is so effective that the minimum point will not be very accurate.\n",
    "\n",
    "As the penalty gets smaller, the minimum point will approach closer to the boundary.\n",
    "\n",
    "##Writing the Penalty Function\n",
    "Using our previous example, \n",
    "\n",
    "$$minimize~f(x) = \\frac{100}{x}$$\n",
    "\n",
    "subject to $x ≤ 5$\n",
    "\n",
    "we will first convert the constraint to $x – 5 ≤ 0$,\n",
    "\n",
    "then write the barrier function:\n",
    "\t$$B(x) = \\frac{−1}{x−5}$$\n",
    "    \n",
    "and then the modified objective function:\n",
    "\n",
    "$$minimize~T(x) = \\frac{100}{x} + \\frac{1}{r} \\cdot \\frac{−1}{x−5}$$\n",
    "   \n",
    "##Final Steps\n",
    "Finally, we will choose a point *__within the feasible region__* as our starting point.\n",
    "\n",
    "From there, we can use a step minimizer to minimize the function with $r = 1$; then, using that answer as the next starting point, minimize again with $r = 10$, and so on."
   ]
  },
  {
   "cell_type": "markdown",
   "metadata": {},
   "source": [
    "###Practice Problem A\n",
    "Minimize\n",
    "$$T(x) = \\frac{100}{x} + \\frac{1}{r} \\cdot \\frac{−1}{x−5}$$\n",
    "with $r = 1$ from starting point $x = 2$. \n",
    "\n",
    "Repeat for:\n",
    "* $r = 10$\n",
    "* $r = 100$\n",
    "* $r = 1000$ and\n",
    "* $r = 10,000$."
   ]
  },
  {
   "cell_type": "code",
   "execution_count": null,
   "metadata": {
    "collapsed": true,
    "run_control": {
     "read_only": false
    }
   },
   "outputs": [],
   "source": [
    "# Work here"
   ]
  },
  {
   "cell_type": "code",
   "execution_count": 2,
   "metadata": {
    "run_control": {
     "read_only": false
    }
   },
   "outputs": [
    {
     "data": {
      "text/html": [],
      "text/plain": [
       "Interact.ToggleButton(1: \"input\" = false Bool , \"Answer\", false)"
      ]
     },
     "metadata": {},
     "output_type": "display_data"
    },
    {
     "data": {
      "text/markdown": [
       "\n"
      ],
      "text/plain": [
       "Revealables.Revealable(\"###Answer A\\nAnswers should approach 5. However, there is a good chance (depending how you wrote their program) that Julia will hang. This will happen if your initial step size is significantly larger than the current value of 1/r, which will send your program over the asymptote and then downwards forever and ever.\\n\\nI had to modify my program so that the initial step size became a user input instead of standard at 0.1. Then I decreased the step size with increasing values of r. \\n\", \"Answer\", false, false)"
      ]
     },
     "execution_count": 2,
     "metadata": {
      "comm_id": "0d8e7375-ce83-42d3-abdb-92bd4a70cc54",
      "reactive": true
     },
     "output_type": "execute_result"
    },
    {
     "name": "stderr",
     "output_type": "stream",
     "text": [
      "WARNING: Compat.ASCIIString is deprecated, use String instead.\n",
      "  likely near C:\\Users\\Victoria Docherty\\.julia\\v0.6\\IJulia\\src\\kernel.jl:31\n",
      "WARNING: Compat.ASCIIString is deprecated, use String instead.\n",
      "  likely near C:\\Users\\Victoria Docherty\\.julia\\v0.6\\IJulia\\src\\kernel.jl:31\n",
      "WARNING: Compat.ASCIIString is deprecated, use String instead.\n",
      "  likely near C:\\Users\\Victoria Docherty\\.julia\\v0.6\\IJulia\\src\\kernel.jl:31\n",
      "WARNING: Compat.ASCIIString is deprecated, use String instead.\n",
      "  likely near C:\\Users\\Victoria Docherty\\.julia\\v0.6\\IJulia\\src\\kernel.jl:31\n",
      "WARNING: Compat.ASCIIString is deprecated, use String instead.\n",
      "  likely near C:\\Users\\Victoria Docherty\\.julia\\v0.6\\IJulia\\src\\kernel.jl:31\n",
      "WARNING: Compat.ASCIIString is deprecated, use String instead.\n",
      "  likely near C:\\Users\\Victoria Docherty\\.julia\\v0.6\\IJulia\\src\\kernel.jl:31\n"
     ]
    }
   ],
   "source": [
    "revealable(ans507A)"
   ]
  },
  {
   "cell_type": "markdown",
   "metadata": {},
   "source": [
    "###Practice Problem B\n",
    "Write a program or `for` loop that will increase the value of $r$ and decrease the initial step size of your minimizer. \n",
    "\n",
    "Use your program to minimize \n",
    "\t$$f(x) = (x – 12)^2$$\n",
    "\n",
    "subject to $x ≤ 10$."
   ]
  },
  {
   "cell_type": "code",
   "execution_count": null,
   "metadata": {
    "collapsed": true,
    "run_control": {
     "read_only": false
    }
   },
   "outputs": [],
   "source": [
    "# Program here"
   ]
  },
  {
   "cell_type": "code",
   "execution_count": 4,
   "metadata": {
    "run_control": {
     "read_only": false
    }
   },
   "outputs": [
    {
     "data": {
      "text/plain": [
       "intpen (generic function with 1 method)"
      ]
     },
     "execution_count": 4,
     "metadata": {},
     "output_type": "execute_result"
    }
   ],
   "source": [
    "# Test here"
   ]
  },
  {
   "cell_type": "code",
   "execution_count": 3,
   "metadata": {
    "run_control": {
     "read_only": false
    }
   },
   "outputs": [
    {
     "data": {
      "text/html": [],
      "text/plain": [
       "Interact.ToggleButton(4: \"input-2\" = false Bool , \"Answer\", false)"
      ]
     },
     "metadata": {},
     "output_type": "display_data"
    },
    {
     "data": {
      "text/markdown": [
       "\n"
      ],
      "text/plain": [
       "Revealables.Revealable(\"###Answer B\\nBecomes T(x) = (x - 12)<sup>2</sup> - 1/r(x-10)\\n\\nAnswers should approach 10.\\n<code>\\nfunction intpen(f, B, a)\\n    r = 1\\n    for n in 1:10\\n        T(x) = f(x) + (1/r)\\\\*B(x)\\n        a = stepmin(T, a, 1/(10\\\\*r))\\n        r = 10 \\\\* r\\n        println(a)\\n    end\\n    return(a)\\nend\\n</code>\\n\", \"Answer\", false, false)"
      ]
     },
     "execution_count": 3,
     "metadata": {
      "comm_id": "16e950cd-f26c-4f4c-a550-5aa1fe55b980",
      "reactive": true
     },
     "output_type": "execute_result"
    }
   ],
   "source": [
    "revealable(ans507B)"
   ]
  },
  {
   "cell_type": "markdown",
   "metadata": {},
   "source": [
    "###Practice Problem C\n",
    "Use an interior penalty function to minimize \n",
    "\t$$f(x) = 0.8x^2 – 2^x$$\n",
    "subject to $x ≤ 4$. \n",
    "\n",
    "1. Start with $r = 1$ and initial point $2$, then $3$.\n",
    "2. Then, use $r = 10$ and initial point $2$, then $3$.\n",
    "3. Reference graphs of $f(x)$ and $T(x)$. What is the correct answer? What happened?"
   ]
  },
  {
   "cell_type": "code",
   "execution_count": null,
   "metadata": {
    "collapsed": true,
    "run_control": {
     "read_only": false
    }
   },
   "outputs": [],
   "source": [
    "# Minimize here"
   ]
  },
  {
   "cell_type": "code",
   "execution_count": 4,
   "metadata": {
    "run_control": {
     "read_only": false
    }
   },
   "outputs": [
    {
     "data": {
      "text/html": [],
      "text/plain": [
       "Interact.ToggleButton(7: \"input-3\" = false Bool , \"Answer\", false)"
      ]
     },
     "metadata": {},
     "output_type": "display_data"
    },
    {
     "data": {
      "text/markdown": [
       "\n"
      ],
      "text/plain": [
       "Revealables.Revealable(\"###Answer C\\nBecomes\\nminimize T(x) = 0.8x<sup>2</sup> - 2<sup>x</sup> - 1/r(x - 4)\\n\\nYou should get 0.707, which is a local minimum but not the global minimum (which occurs at the boundary, 4).\\n\\nFor initial point 2 you should get 3, then for initial point 3, you will get the correct answer of x = 4. \\nIn 1. the penalty is too large, which causes the minimum at 4 to be caught up in the asymptote and dragged upward to the point where it is no longer even a local minimum. In 2. the smaller penalty corrects the graph, which now shows 4 as the lowest solution in the feasible region, but the initial point 2 is too far away, sinking us into the local minimum at 0.707. The initial point 3 is close enough to find the true minimum.\\n\", \"Answer\", false, false)"
      ]
     },
     "execution_count": 4,
     "metadata": {
      "comm_id": "fbaaf896-4fc8-46b3-b9b2-e30a3f86e2d1",
      "reactive": true
     },
     "output_type": "execute_result"
    }
   ],
   "source": [
    "revealable(ans507C)"
   ]
  },
  {
   "cell_type": "markdown",
   "metadata": {},
   "source": [
    "##Final Comments\n",
    "The difficulties on Problem C bring up an interesting point: penalty methods are not just plug-and-play! There are many variables involved, including:\n",
    "* the initial value of $r$\n",
    "* how fast $r$ grows\n",
    "* the initial value of $x$\n",
    "* the step size in the minimizer\n",
    "\n",
    "In an actual problem, these variables are tried in different combinations, and typically both interior and exterior methods are used."
   ]
  },
  {
   "cell_type": "markdown",
   "metadata": {},
   "source": [
    "###Practice Problem D\n",
    "Minimize the function \n",
    "$$f(x) = \\frac{𝑥^3}{10}+12sin(𝑥)+1.7^{−𝑥} − 𝑥^2$$\n",
    "subject to $–7 ≤ x ≤ 11$. (Note: this is two constraints!)\n",
    "\n",
    "1. Run a variety of feasible starting points through an interior penalty function.\n",
    "2. Run one infeasible point from each side in an exterior penalty function.\n",
    "3. This should yield five candidates for the global minimum including the endpoints. Test each candidate in $f(x)$ to find the minimum value."
   ]
  },
  {
   "cell_type": "code",
   "execution_count": null,
   "metadata": {
    "collapsed": true,
    "run_control": {
     "read_only": false
    }
   },
   "outputs": [],
   "source": [
    "# Calculate and find the minimum here"
   ]
  },
  {
   "cell_type": "code",
   "execution_count": 5,
   "metadata": {
    "run_control": {
     "read_only": false
    }
   },
   "outputs": [
    {
     "data": {
      "text/html": [],
      "text/plain": [
       "Interact.ToggleButton(10: \"input-4\" = false Bool , \"Answer\", false)"
      ]
     },
     "metadata": {},
     "output_type": "display_data"
    },
    {
     "data": {
      "text/markdown": [
       "\n"
      ],
      "text/plain": [
       "Revealables.Revealable(\"###Answer D\\nCandidates are:\\n* (-7, -50.15)\\n* (11, 0.103)\\n* (-1.8504, -12.92)\\n* (4.931, -23.97)\\n* (10.007, -6.523)\\n\\nGlobal minimum is at (-7, -50.15)\\n\", \"Answer\", false, false)"
      ]
     },
     "execution_count": 5,
     "metadata": {
      "comm_id": "57ea7e5f-ac10-4e26-8013-aafff5e4cda3",
      "reactive": true
     },
     "output_type": "execute_result"
    }
   ],
   "source": [
    "revealable(ans507D)"
   ]
  },
  {
   "cell_type": "code",
   "execution_count": null,
   "metadata": {
    "collapsed": true,
    "run_control": {
     "read_only": false
    }
   },
   "outputs": [],
   "source": []
  }
 ],
 "metadata": {
  "kernelspec": {
   "display_name": "Julia 0.6.0",
   "language": "julia",
   "name": "julia-0.6"
  },
  "language_info": {
   "file_extension": ".jl",
   "mimetype": "application/julia",
   "name": "julia",
   "version": "0.6.0"
  }
 },
 "nbformat": 4,
 "nbformat_minor": 1
}
