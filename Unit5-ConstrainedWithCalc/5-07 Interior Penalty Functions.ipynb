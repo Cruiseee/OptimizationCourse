{
 "cells": [
  {
   "cell_type": "markdown",
   "metadata": {
    "run_control": {
     "read_only": false
    }
   },
   "source": [
    "# 5-7 Interior Penalty Functions\n",
    "* Barrier Functions\n",
    "* A Problem and a Solution"
   ]
  },
  {
   "cell_type": "code",
   "execution_count": 9,
   "metadata": {
    "collapsed": false
   },
   "outputs": [
    {
     "data": {
      "text/markdown": [
       "\n"
      ],
      "text/plain": [
       "Revealable(\"###Answer D\\nCandidates are:\\n* (-7, -50.15)\\n* (11, 0.103)\\n* (-1.8504, -12.92)\\n* (4.931, -23.97)\\n* (10.007, -6.523)\\n\\nGlobal minimum is at (-7, -50.15)\\n\",\"Answer\",false)"
      ]
     },
     "execution_count": 9,
     "metadata": {},
     "output_type": "execute_result"
    }
   ],
   "source": [
    "using Revealables\n",
    "include(\"files/answers.jl\")"
   ]
  },
  {
   "cell_type": "markdown",
   "metadata": {},
   "source": [
    "##Initial Steps\n",
    "A second type of penalty function begins with an initial point inside the feasible region, which is why these procedures are called __interior penalty functions__ or \"barrier methods.\"\n",
    "\n",
    "Before beginning, all constraints must be converted into $(expression) ≤ 0$ form.\n",
    "\n",
    "This method will not work with equality constraints.\n",
    "\n",
    "##Barrier Functions\n",
    "The simplest interior penalty function, called an __inverse barrier function__, involves writing a barrier function for each constraint $g_j(x) ≤ 0$ as follows:\n",
    "\t$$B(x) = \\frac{−1}{g_j(x)}$$\n",
    "    \n",
    "This procedure has two effects:\n",
    "* The negative sign changes the constraint from a negative number ($≤ 0$) to a positive.\n",
    "* The fraction ensures that as $g_j(x)$ approaches the constraint boundary at 0, the barrier function gets infinitely large.\n",
    "\n",
    "Therefore, this barrier creates a positive number that approaches infinity as $x$ nears the boundary.\n",
    "\n",
    "##Problems with Barriers\n",
    "As with exterior penalty functions, the inverse barrier method causes some graphical problems. Because it involves an inverse function 1/g(x), it creates an asymptotic graph:\n",
    "<img src=\"files/5-7/asymptote.png\" width=300 />\n",
    "\n",
    "As long as we stay on the left side of the barrier, the method will work.\n",
    "\n",
    "<img src=\"files/5-7/rightpiece.png\" width=100 align=\"left\" />If the initial point ever moves outside the boundary, however, the method will fail, because outside the constraint (in this case, the right side of the graph) the other side of the function will come into play.\n",
    "\n",
    "The values here are lower, so a minimization program will pick them up and run with them, even though they violate the constraint.\n",
    "<br clear=\"all\" />\n",
    "\n",
    "##The Solution: $r$, again!\n",
    "As with exterior penalty functions, part of the solution is to include a multiplier, in this case $\\frac{1}{r}$. We will begin with $r = 1$ and gradually increase $r$ by factors of 10.\n",
    "\n",
    "This has the effect of successively reducing the penalty. In the beginning the penalty is large, preventing the minimum point from crossing the barrier of the constraint. This barrier is so effective that the minimum point will not be very accurate.\n",
    "\n",
    "As the penalty gets smaller, the minimum point will approach closer to the boundary.\n",
    "\n",
    "##Writing the Penalty Function\n",
    "Using our previous example, \n",
    "\n",
    "$$minimize~f(x) = \\frac{100}{x}$$\n",
    "\n",
    "subject to $x ≤ 5$\n",
    "\n",
    "we will first convert the constraint to $x – 5 ≤ 0$,\n",
    "\n",
    "then write the barrier function:\n",
    "\t$$B(x) = \\frac{−1}{x−5}$$\n",
    "    \n",
    "and then the modified objective function:\n",
    "\n",
    "$$minimize~T(x) = \\frac{100}{x} + \\frac{1}{r} \\cdot \\frac{−1}{x−5}$$\n",
    "   \n",
    "##Final Steps\n",
    "Finally, we will choose a point *__within the feasible region__* as our starting point.\n",
    "\n",
    "From there, we can use a step minimizer to minimize the function with $r = 1$; then, using that answer as the next starting point, minimize again with $r = 10$, and so on."
   ]
  },
  {
   "cell_type": "markdown",
   "metadata": {},
   "source": [
    "###Practice Problem A\n",
    "Minimize\n",
    "$$T(x) = \\frac{100}{x} + \\frac{1}{r} \\cdot \\frac{−1}{x−5}$$\n",
    "with $r = 1$ from starting point $x = 2$. \n",
    "\n",
    "Repeat for:\n",
    "* $r = 10$\n",
    "* $r = 100$\n",
    "* $r = 1000$ and\n",
    "* $r = 10,000$."
   ]
  },
  {
   "cell_type": "code",
   "execution_count": null,
   "metadata": {
    "collapsed": true
   },
   "outputs": [],
   "source": [
    "# Work here"
   ]
  },
  {
   "cell_type": "code",
   "execution_count": 5,
   "metadata": {
    "collapsed": false
   },
   "outputs": [
    {
     "data": {
      "text/html": [],
      "text/plain": [
       "ToggleButton([Input{Bool}] false,\"Answer\",false)"
      ]
     },
     "metadata": {},
     "output_type": "display_data"
    },
    {
     "data": {
      "text/markdown": [
       "\n"
      ],
      "text/plain": [
       "Revealable(\"###Answer A\\nAnswers should approach 5. However, there is a good chance (depending how you wrote their program) that Julia will hang. This will happen if your initial step size is significantly larger than the current value of 1/r, which will send your program over the asymptote and then downwards forever and ever.\\n\\nI had to modify my program so that the initial step size became a user input instead of standard at 0.1. Then I decreased the step size with increasing values of r. \\n\",\"Answer\",false)"
      ]
     },
     "execution_count": 5,
     "metadata": {
      "comm_id": "1b84b17c-39d8-47a2-aeb4-9319395ca48a",
      "reactive": true
     },
     "output_type": "execute_result"
    }
   ],
   "source": [
    "revealable(ans507A)"
   ]
  },
  {
   "cell_type": "markdown",
   "metadata": {},
   "source": [
    "###Practice Problem B\n",
    "Write a program or `for` loop that will increase the value of $r$ and decrease the initial step size of your minimizer. \n",
    "\n",
    "Use your program to minimize \n",
    "\t$$f(x) = (x – 12)^2$$\n",
    "\n",
    "subject to $x ≤ 10$."
   ]
  },
  {
   "cell_type": "code",
   "execution_count": null,
   "metadata": {
    "collapsed": true
   },
   "outputs": [],
   "source": [
    "# Program here"
   ]
  },
  {
   "cell_type": "code",
   "execution_count": null,
   "metadata": {
    "collapsed": true
   },
   "outputs": [],
   "source": [
    "# Test here"
   ]
  },
  {
   "cell_type": "code",
   "execution_count": 6,
   "metadata": {
    "collapsed": false
   },
   "outputs": [
    {
     "data": {
      "text/html": [],
      "text/plain": [
       "ToggleButton([Input{Bool}] false,\"Answer\",false)"
      ]
     },
     "metadata": {},
     "output_type": "display_data"
    },
    {
     "data": {
      "text/markdown": [
       "\n"
      ],
      "text/plain": [
       "Revealable(\"###Answer B\\nBecomes T(x) = (x - 12)<sup>2</sup> - 1/r(x-10)\\n\\nAnswers should approach 10.\\n<code>\\nfunction intpen(f, B, a)\\n    r = 1\\n    for n in 1:10\\n        T(x) = f(x) + (1/r)\\\\*B(x)\\n        a = stepmin(T, a, 1/(10\\\\*r))\\n        r = 10 \\\\* r\\n        println(a)\\n    end\\n    return(a)\\nend\\n</code>\\n\",\"Answer\",false)"
      ]
     },
     "execution_count": 6,
     "metadata": {
      "comm_id": "d6c9d2a9-6583-495c-9e99-2047103fb253",
      "reactive": true
     },
     "output_type": "execute_result"
    }
   ],
   "source": [
    "revealable(ans507B)"
   ]
  },
  {
   "cell_type": "markdown",
   "metadata": {},
   "source": [
    "###Practice Problem C\n",
    "Use an interior penalty function to minimize \n",
    "\t$$f(x) = 0.8x^2 – 2^x$$\n",
    "subject to $x ≤ 4$. \n",
    "\n",
    "1. Start with $r = 1$ and initial point $2$, then $3$.\n",
    "2. Then, use $r = 10$ and initial point $2$, then $3$.\n",
    "3. Reference graphs of $f(x)$ and $T(x)$. What is the correct answer? What happened?"
   ]
  },
  {
   "cell_type": "code",
   "execution_count": null,
   "metadata": {
    "collapsed": true
   },
   "outputs": [],
   "source": [
    "# Minimize here"
   ]
  },
  {
   "cell_type": "code",
   "execution_count": 7,
   "metadata": {
    "collapsed": false
   },
   "outputs": [
    {
     "data": {
      "text/html": [],
      "text/plain": [
       "ToggleButton([Input{Bool}] false,\"Answer\",false)"
      ]
     },
     "metadata": {},
     "output_type": "display_data"
    },
    {
     "data": {
      "text/markdown": [
       "\n"
      ],
      "text/plain": [
       "Revealable(\"###Answer C\\nBecomes\\nminimize T(x) = 0.8x<sup>2</sup> - 2<sup>x</sup> - 1/r(x - 4)\\n\\nYou should get 0.707, which is a local minimum but not the global minimum (which occurs at the boundary, 4).\\n\\nFor initial point 2 you should get 3, then for initial point 3, you will get the correct answer of x = 4. \\nIn 1. the penalty is too large, which causes the minimum at 4 to be caught up in the asymptote and dragged upward to the point where it is no longer even a local minimum. In 2. the smaller penalty corrects the graph, which now shows 4 as the lowest solution in the feasible region, but the initial point 2 is too far away, sinking us into the local minimum at 0.707. The initial point 3 is close enough to find the true minimum.\\n\",\"Answer\",false)"
      ]
     },
     "execution_count": 7,
     "metadata": {
      "comm_id": "8557d725-a1fa-4052-a2a9-fa758de0e2d5",
      "reactive": true
     },
     "output_type": "execute_result"
    }
   ],
   "source": [
    "revealable(ans507C)"
   ]
  },
  {
   "cell_type": "markdown",
   "metadata": {},
   "source": [
    "##Final Comments\n",
    "The difficulties on Problem C bring up an interesting point: penalty methods are not just plug-and-play! There are many variables involved, including:\n",
    "* the initial value of $r$\n",
    "* how fast $r$ grows\n",
    "* the initial value of $x$\n",
    "* the step size in the minimizer\n",
    "\n",
    "In an actual problem, these variables are tried in different combinations, and typically both interior and exterior methods are used."
   ]
  },
  {
   "cell_type": "markdown",
   "metadata": {},
   "source": [
    "###Practice Problem D\n",
    "Minimize the function \n",
    "$$f(x) = \\frac{𝑥^3}{10}+12sin(𝑥)+1.7^{−𝑥} − 𝑥^2$$\n",
    "subject to $–7 ≤ x ≤ 11$. (Note: this is two constraints!)\n",
    "\n",
    "1. Run a variety of feasible starting points through an interior penalty function.\n",
    "2. Run one infeasible point from each side in an exterior penalty function.\n",
    "3. This should yield five candidates for the global minimum including the endpoints. Test each candidate in $f(x)$ to find the minimum value."
   ]
  },
  {
   "cell_type": "code",
   "execution_count": null,
   "metadata": {
    "collapsed": true
   },
   "outputs": [],
   "source": [
    "# Calculate and find the minimum here"
   ]
  },
  {
   "cell_type": "code",
   "execution_count": 10,
   "metadata": {
    "collapsed": false
   },
   "outputs": [
    {
     "data": {
      "text/html": [],
      "text/plain": [
       "ToggleButton([Input{Bool}] false,\"Answer\",false)"
      ]
     },
     "metadata": {},
     "output_type": "display_data"
    },
    {
     "data": {
      "text/markdown": [
       "\n"
      ],
      "text/plain": [
       "Revealable(\"###Answer D\\nCandidates are:\\n* (-7, -50.15)\\n* (11, 0.103)\\n* (-1.8504, -12.92)\\n* (4.931, -23.97)\\n* (10.007, -6.523)\\n\\nGlobal minimum is at (-7, -50.15)\\n\",\"Answer\",false)"
      ]
     },
     "execution_count": 10,
     "metadata": {
      "comm_id": "87d946af-b9b8-4e20-9ae9-5a771f9e3a10",
      "reactive": true
     },
     "output_type": "execute_result"
    }
   ],
   "source": [
    "revealable(ans507D)"
   ]
  },
  {
   "cell_type": "code",
   "execution_count": null,
   "metadata": {
    "collapsed": true
   },
   "outputs": [],
   "source": [
    "x=10.007\n"
   ]
  }
 ],
 "metadata": {
  "kernelspec": {
   "display_name": "Julia 0.3.10",
   "language": "julia",
   "name": "julia-0.3"
  },
  "language_info": {
   "file_extension": ".jl",
   "mimetype": "application/julia",
   "name": "julia",
   "version": "0.3.10"
  }
 },
 "nbformat": 4,
 "nbformat_minor": 0
}
