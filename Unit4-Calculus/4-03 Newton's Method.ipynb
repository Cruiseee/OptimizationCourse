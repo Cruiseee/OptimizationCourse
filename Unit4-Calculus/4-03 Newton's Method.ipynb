{
 "cells": [
  {
   "cell_type": "markdown",
   "metadata": {
    "run_control": {
     "read_only": false
    }
   },
   "source": [
    "# 4-3 Newton's Method\n",
    "* Secant Method Review\n",
    "* Newton's Method Review\n",
    "* Programming"
   ]
  },
  {
   "cell_type": "code",
   "execution_count": null,
   "metadata": {
    "collapsed": false
   },
   "outputs": [],
   "source": [
    "using Revealables\n",
    "include(\"files/answers.jl\")"
   ]
  },
  {
   "cell_type": "markdown",
   "metadata": {},
   "source": [
    "##Finding Roots\n",
    "<img src=\"files/4-3/roots.png\" width=150 align=\"left\" />\n",
    "Finding the root (also known as zero, $x$-intercept, or solution) of a function is important in a lot of ways. Not only does it enable us to solve any graphable equation, it also has applications in calculus because there is meaning behind a derivative that is equal to zero. \n",
    "<br clear=\"all\" />\n",
    "\n",
    "\n",
    "##Secant Method\n",
    "In the very first unit of the course, we used the secant method to find zeroes. It worked like this:\n",
    "\n",
    "<img src=\"files/4-3/secant.png\" width=150 align=\"right\" />\n",
    "1. Find two points near the root of the function.\n",
    "2. Find the equation of the connecting line.\n",
    "3. Find where that line crosses the axis.\n",
    "4. Find the $y$-value of the function at that $x$-value.\n",
    "5. Use that $x$-value with the better of your original points and repeat.\n",
    "6. End when two successive answers are very close to each other.\n",
    "\n",
    "##Newton's Method\n",
    "With Newton's Method, the procedure is basically the same except you do not need two points; you only need one.\n",
    "\n",
    "The only reason we needed two points in the secant method was to get the slope of a line so we could find its equation. But with calculus you can find the slope of the line with only one point. This, of course, is known as a derivative.\n",
    "\n",
    "Newton's Method works like this:\n",
    "<img src=\"files/4-3/newtons.png\" width=150 align=\"right\" />\n",
    "1. Choose an $x$-value near the root.\n",
    "2. Find the derivative at that point and use the resulting slope, plus the $x$ and $y$ value of the point, to write the equation of the tangent line.\n",
    "3. Find where the tangent line crosses the $x$-axis.\n",
    "4. Repeat for that $x$-value.\n"
   ]
  },
  {
   "cell_type": "markdown",
   "metadata": {},
   "source": [
    "###Practice Problem A\n",
    "Using the function $y = x^2 – 8$, find the positive root using three iterations of Newton's Method with a starting point of $3$. Either leave the answers to each step in fraction form or round to 7 or 8 decimal places.\n",
    "\n",
    "Compare to the correct answer of $2\\sqrt{2}$.\n"
   ]
  },
  {
   "cell_type": "code",
   "execution_count": null,
   "metadata": {
    "collapsed": true
   },
   "outputs": [],
   "source": [
    "# Calculate here"
   ]
  },
  {
   "cell_type": "code",
   "execution_count": null,
   "metadata": {
    "collapsed": false
   },
   "outputs": [],
   "source": [
    "revealable(ans403A)"
   ]
  },
  {
   "cell_type": "markdown",
   "metadata": {},
   "source": [
    "###Practice Problem B\n",
    "Using your derivative program from the first lesson in this unit, write a program that uses Newton's Method to find the root of a function $f$ given starting point $a$."
   ]
  },
  {
   "cell_type": "code",
   "execution_count": null,
   "metadata": {
    "collapsed": true
   },
   "outputs": [],
   "source": [
    "# Code here"
   ]
  },
  {
   "cell_type": "code",
   "execution_count": null,
   "metadata": {
    "collapsed": true
   },
   "outputs": [],
   "source": [
    "# Test here"
   ]
  },
  {
   "cell_type": "code",
   "execution_count": null,
   "metadata": {
    "collapsed": false
   },
   "outputs": [],
   "source": [
    "revealable(ans403B)"
   ]
  },
  {
   "cell_type": "code",
   "execution_count": null,
   "metadata": {
    "collapsed": true
   },
   "outputs": [],
   "source": []
  }
 ],
 "metadata": {
  "kernelspec": {
   "display_name": "Julia 0.3.10",
   "language": "julia",
   "name": "julia-0.3"
  },
  "language_info": {
   "file_extension": ".jl",
   "mimetype": "application/julia",
   "name": "julia",
   "version": "0.3.10"
  }
 },
 "nbformat": 4,
 "nbformat_minor": 0
}
