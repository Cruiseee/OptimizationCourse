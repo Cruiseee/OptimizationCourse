{
 "cells": [
  {
   "cell_type": "markdown",
   "metadata": {
    "run_control": {
     "read_only": false
    }
   },
   "source": [
    "# 4-6 Verification of Extreme Values"
   ]
  },
  {
   "cell_type": "code",
   "execution_count": 1,
   "metadata": {
    "run_control": {
     "read_only": false
    }
   },
   "outputs": [
    {
     "data": {
      "text/html": [
       "<div id=\"interact-js-shim\">\n",
       "    <script charset=\"utf-8\">\r\n",
       "(function (IPython, $, _, MathJax) {\r\n",
       "    $.event.special.destroyed = {\r\n",
       "\tremove: function(o) {\r\n",
       "\t    if (o.handler) {\r\n",
       "\t\to.handler.apply(this, arguments)\r\n",
       "\t    }\r\n",
       "\t}\r\n",
       "    }\r\n",
       "\r\n",
       "    var OutputArea = IPython.version >= \"4.0.0\" ? require(\"notebook/js/outputarea\").OutputArea : IPython.OutputArea;\r\n",
       "\r\n",
       "    var redrawValue = function (container, type, val) {\r\n",
       "\tvar selector = $(\"<div/>\");\r\n",
       "\tvar oa = new OutputArea(_.extend(selector, {\r\n",
       "\t    selector: selector,\r\n",
       "\t    prompt_area: true,\r\n",
       "\t    events: IPython.events,\r\n",
       "\t    keyboard_manager: IPython.keyboard_manager\r\n",
       "\t})); // Hack to work with IPython 2.1.0\r\n",
       "\r\n",
       "\tswitch (type) {\r\n",
       "\tcase \"image/png\":\r\n",
       "            var _src = 'data:' + type + ';base64,' + val;\r\n",
       "\t    $(container).find(\"img\").attr('src', _src);\r\n",
       "\t    break;\r\n",
       "\tcase \"text/latex\":\r\n",
       "\t\tif (MathJax){\r\n",
       "\t\t\tvar math = MathJax.Hub.getAllJax(container)[0];\r\n",
       "\t\t\tMathJax.Hub.Queue([\"Text\", math, val.replace(/^\\${1,2}|\\${1,2}$/g, '')]);\r\n",
       "\t\t\tbreak;\r\n",
       "\t\t}\r\n",
       "\tdefault:\r\n",
       "\t    var toinsert = OutputArea.append_map[type].apply(\r\n",
       "\t\toa, [val, {}, selector]\r\n",
       "\t    );\r\n",
       "\t    $(container).empty().append(toinsert.contents());\r\n",
       "\t    selector.remove();\r\n",
       "\t}\r\n",
       "    }\r\n",
       "\r\n",
       "\r\n",
       "    $(document).ready(function() {\r\n",
       "\tfunction initComm(evt, data) {\r\n",
       "\t    var comm_manager = data.kernel.comm_manager;\r\n",
       "        //_.extend(comm_manager.targets, require(\"widgets/js/widget\"))\r\n",
       "\t    comm_manager.register_target(\"Signal\", function (comm) {\r\n",
       "            comm.on_msg(function (msg) {\r\n",
       "                var val = msg.content.data.value;\r\n",
       "                $(\".signal-\" + comm.comm_id).each(function() {\r\n",
       "                var type = $(this).data(\"type\");\r\n",
       "                if (typeof(val[type]) !== \"undefined\" && val[type] !== null) {\r\n",
       "                    redrawValue(this, type, val[type], type);\r\n",
       "                }\r\n",
       "                });\r\n",
       "                delete val;\r\n",
       "                delete msg.content.data.value;\r\n",
       "            });\r\n",
       "\t    });\r\n",
       "\r\n",
       "\t    // coordingate with Comm and redraw Signals\r\n",
       "\t    // XXX: Test using Reactive here to improve performance\r\n",
       "\t    $([IPython.events]).on(\r\n",
       "\t\t'output_appended.OutputArea', function (event, type, value, md, toinsert) {\r\n",
       "\t\t    if (md && md.reactive) {\r\n",
       "                // console.log(md.comm_id);\r\n",
       "                toinsert.addClass(\"signal-\" + md.comm_id);\r\n",
       "                toinsert.data(\"type\", type);\r\n",
       "                // Signal back indicating the mimetype required\r\n",
       "                var comm_manager = IPython.notebook.kernel.comm_manager;\r\n",
       "                var comm = comm_manager.comms[md.comm_id];\r\n",
       "                comm.then(function (c) {\r\n",
       "                    c.send({action: \"subscribe_mime\",\r\n",
       "                       mime: type});\r\n",
       "                    toinsert.bind(\"destroyed\", function() {\r\n",
       "                        c.send({action: \"unsubscribe_mime\",\r\n",
       "                               mime: type});\r\n",
       "                    });\r\n",
       "                })\r\n",
       "\t\t    }\r\n",
       "\t    });\r\n",
       "\t}\r\n",
       "\r\n",
       "\ttry {\r\n",
       "\t    // try to initialize right away. otherwise, wait on the status_started event.\r\n",
       "\t    initComm(undefined, IPython.notebook);\r\n",
       "\t} catch (e) {\r\n",
       "\t    $([IPython.events]).on('kernel_created.Kernel kernel_created.Session', initComm);\r\n",
       "\t}\r\n",
       "    });\r\n",
       "})(IPython, jQuery, _, MathJax);\r\n",
       "</script>\n",
       "    <script>\n",
       "        window.interactLoadedFlag = true\n",
       "       $(\"#interact-js-shim\").bind(\"destroyed\", function () {\n",
       "           if (window.interactLoadedFlag) {\n",
       "               console.warn(\"JavaScript required by Interact will be removed if you remove this cell or run using Interact more than once.\")\n",
       "           }\n",
       "       })\n",
       "       $([IPython.events]).on(\"kernel_starting.Kernel kernel_restarting.Kernel\", function () { window.interactLoadedFlag = false })\n",
       "   </script>\n",
       "</div>"
      ]
     },
     "metadata": {},
     "output_type": "display_data"
    },
    {
     "data": {
      "text/markdown": [
       "\n"
      ],
      "text/plain": [
       "Revealables.Revealable(\"###Answer C\\n1. You should get close to the actual minimum at z = 2, y = 4, x = 0\\n\\n2. This was kind of mean. Although with the simple functions we've been using as examples it seems \\\"easier\\\" to use calculus to minimize, it can get really ugly really fast. At some point the programs take over.\\n\\nAnyway:\\n\\ngradient = [10x + 6z - 12     2y - 4z    6x - 4y + 14z - 12]\\n\\nThis system of equations does, indeed, equal 0 at (0, 4, 2).\\n\\nHessian: [10  0  6; 0  2  -4; 6 -4 14]. Eigenvalues are all positive, confirming that it is positive definite/concave up, therefore (0, 4, 2) is a minimum. Yuck!!!\\n\\nMy 3d program here:\\n<code>\\nfunction conjgrad3(f, x1, x2, x3)  # x1 through x3 are values of the initial point\\n    g = gradient(x -> f(x[1], x[2], x[3]))\\n    v1 = -g([x1, x2, x3]  # returns the negative gradient as motion vector v\\n    for n in 1:20\\n        test(a) = f((x1 + a\\\\*v1[1]), (x2 + a\\\\*v1[2]), (x3 + a\\\\*v[3]))  # cross section of f in direction of vector v/scalar a\\n        a = fibmin(test, -10, 10) # scalar a shouldn't be too big, esp as vector v is not normalized\\n        x1 = x1 + a\\\\*v1[1] # forms new point from old + scalar\\\\*vector\\n        x2 = x2 + a\\\\*v1[2]\\n        x3 = x3 + a\\\\*v1[3]\\n        v2 = -g([x1, x2, x3])  # neg gradient at new point becomes temp motion vector (pre-nudge)\\n        s = dot(v2,v2)/dot(v1,v1)  # calculate scalar/nudge factor s\\n        v2 = v2 + s\\\\*v1  # replace temporary motion vector with post-nudged motion vector\\n        v1 = v2  # rename v2 as v1 for the benefit of the loop\\n        println(\\\"\\$x1, \\$x2, \\$x3\\\")\\n    end\\nend\\n</code>\\n\", \"Answer\", false, false)"
      ]
     },
     "execution_count": 1,
     "metadata": {},
     "output_type": "execute_result"
    }
   ],
   "source": [
    "using Revealables\n",
    "include(\"files/extras.jl\")\n",
    "include(\"files/answers.jl\")"
   ]
  },
  {
   "cell_type": "markdown",
   "metadata": {},
   "source": [
    "##Another Application of Concavity\n",
    "In a Calculus class, the use of concavity information is typically limited to finding inflection points for the purpose of curve sketching. \n",
    "\n",
    "A far more useful application is for verifying the nature of critical points: whether a given critical point is a maximum or minimum.\n",
    "\n",
    "In a typical curve-sketching problem, the behavior of the curve is well-known, so the concavity is not very important. Function values and first derivatives give you everything you need.\n",
    "<img src=\"files/4-6/min.png\" width=\"350\" />\n",
    "\n",
    "If less information is known about the function, the concavity becomes far more important.\n",
    "<img src=\"files/4-6/cp.png\" width=\"150\" />"
   ]
  },
  {
   "cell_type": "code",
   "execution_count": 2,
   "metadata": {
    "run_control": {
     "read_only": false
    }
   },
   "outputs": [
    {
     "data": {
      "text/html": [],
      "text/plain": [
       "Interact.ToggleButton(1: \"input\" = false Bool , \"How could the concavity tell us whether we have a min or max?\", false)"
      ]
     },
     "metadata": {},
     "output_type": "display_data"
    },
    {
     "data": {
      "text/markdown": [
       "\n"
      ],
      "text/plain": [
       "Revealables.Revealable(\"<img src=\\\"files/4-6/deriv2test.png\\\" width=300 />\\n\", \"How could the concavity tell us whether we have a min or max?\", false, false)"
      ]
     },
     "execution_count": 2,
     "metadata": {
      "comm_id": "26ffbb0b-bc4c-441b-bea8-de325990d724",
      "reactive": true
     },
     "output_type": "execute_result"
    },
    {
     "name": "stderr",
     "output_type": "stream",
     "text": [
      "WARNING: Compat.ASCIIString is deprecated, use String instead.\n",
      "  likely near C:\\Users\\Victoria Docherty\\.julia\\v0.6\\IJulia\\src\\kernel.jl:31\n",
      "WARNING: Compat.ASCIIString is deprecated, use String instead.\n",
      "  likely near C:\\Users\\Victoria Docherty\\.julia\\v0.6\\IJulia\\src\\kernel.jl:31\n",
      "WARNING: Compat.ASCIIString is deprecated, use String instead.\n",
      "  likely near C:\\Users\\Victoria Docherty\\.julia\\v0.6\\IJulia\\src\\kernel.jl:31\n",
      "WARNING: Compat.ASCIIString is deprecated, use String instead.\n",
      "  likely near C:\\Users\\Victoria Docherty\\.julia\\v0.6\\IJulia\\src\\kernel.jl:31\n"
     ]
    }
   ],
   "source": [
    "revealable(cp406)"
   ]
  },
  {
   "cell_type": "markdown",
   "metadata": {},
   "source": [
    "Another advantage is that we need only evaluate the second derivative at the critical point, not on both sides."
   ]
  },
  {
   "cell_type": "markdown",
   "metadata": {},
   "source": [
    "###Practice Problem\n",
    "Write a program using the `Calculus` package that uses first derivatives to locate critical points and second derivatives to verify whether those points are maxima or minima. Your program should report critical points as:\n",
    "\n",
    "    \"Maximum at (__, __)\"\n",
    "    \n",
    "and so on."
   ]
  },
  {
   "cell_type": "code",
   "execution_count": null,
   "metadata": {
    "run_control": {
     "read_only": false
    }
   },
   "outputs": [],
   "source": [
    "# Code here"
   ]
  },
  {
   "cell_type": "code",
   "execution_count": null,
   "metadata": {
    "collapsed": true,
    "run_control": {
     "read_only": false
    }
   },
   "outputs": [],
   "source": [
    "# Test here"
   ]
  },
  {
   "cell_type": "code",
   "execution_count": 3,
   "metadata": {
    "run_control": {
     "read_only": false
    }
   },
   "outputs": [
    {
     "data": {
      "text/html": [],
      "text/plain": [
       "Interact.ToggleButton(4: \"input-2\" = false Bool , \"Answer\", false)"
      ]
     },
     "metadata": {},
     "output_type": "display_data"
    },
    {
     "data": {
      "text/markdown": [
       "\n"
      ],
      "text/plain": [
       "Revealables.Revealable(\"###Answer\\nMy program steals blatantly from the first half of my increasing/decreasing program to find x-values where the derivative is zero; after that it's a few lines for concavity testing. It is **so much easier** to do concavity testing than increasing/decreasing interval testing.\\n\\n<code>\\nusing Calculus\\n\\nfunction critpts(f, a, b)\\n    check = {}  # list of points where derivative switches value is currently empty\\n    int = (b-a)/100  # 100 is arbitrary, raise/lower as needed. Divides the interval into 100 test points\\n    for n in a:int:(b-int)\\n        if sign(f'(n)) != sign(f'(n + int))  # seek points where the first deriv changes\\n            push!(check, n) #create list of left hand points where derivative changes\\n        end\\n    end\\n    for n in 1:length(check)\\n        l = check[n]\\n        r = l + int\\n        while abs(r - l) > 0.00001  # use secants to zoom in on this interval's zero\\n            m = (f'(r) - f'(l))/(r-l)\\n            xint = l - f'(l)/m\\n            r = l\\n            l = xint\\n            check[n] = xint  # replace each number in check with the accurate value\\n        end\\n     end\\n    for n in 1:length(check)\\n        if f''(check[n])> 0 \\n            println(\\\"minimum at (\\$(check[n]), \\$(f(check[n])))\\\")\\n        else\\n            println(\\\"maximum at (\\$(check[n]), \\$(f(check[n])))\\\")\\n        end\\n    end\\nend\\n</code>\\n\", \"Answer\", false, false)"
      ]
     },
     "execution_count": 3,
     "metadata": {
      "comm_id": "666cb475-fa7f-4b1b-b172-26796e77cd6f",
      "reactive": true
     },
     "output_type": "execute_result"
    },
    {
     "name": "stderr",
     "output_type": "stream",
     "text": [
      "WARNING: Compat.ASCIIString is deprecated, use String instead.\n",
      "  likely near C:\\Users\\Victoria Docherty\\.julia\\v0.6\\IJulia\\src\\kernel.jl:31\n",
      "WARNING: Compat.ASCIIString is deprecated, use String instead.\n",
      "  likely near C:\\Users\\Victoria Docherty\\.julia\\v0.6\\IJulia\\src\\kernel.jl:31\n"
     ]
    }
   ],
   "source": [
    "revealable(ans406)"
   ]
  },
  {
   "cell_type": "code",
   "execution_count": null,
   "metadata": {
    "collapsed": true,
    "run_control": {
     "read_only": false
    }
   },
   "outputs": [],
   "source": []
  }
 ],
 "metadata": {
  "kernelspec": {
   "display_name": "Julia 0.6.0",
   "language": "julia",
   "name": "julia-0.6"
  },
  "language_info": {
   "file_extension": ".jl",
   "mimetype": "application/julia",
   "name": "julia",
   "version": "0.6.0"
  }
 },
 "nbformat": 4,
 "nbformat_minor": 1
}
