{
 "cells": [
  {
   "cell_type": "markdown",
   "metadata": {
    "run_control": {
     "read_only": false
    }
   },
   "source": [
    "# 4-10 Analyzing the Hessian\n",
    "* Premise\n",
    "* Determinants\n",
    "* Eigenvalues\n",
    "* Meaning"
   ]
  },
  {
   "cell_type": "code",
   "execution_count": null,
   "metadata": {
    "collapsed": false
   },
   "outputs": [],
   "source": [
    "using Revealables\n",
    "include(\"files/answers.jl\")"
   ]
  },
  {
   "cell_type": "markdown",
   "metadata": {},
   "source": [
    "##The Problem\n",
    "In 1-variable calculus, you can just look at the second derivative at a point and tell what is happening with the concavity of a function: positive implies concave up, negative implies concave down.\n",
    "\n",
    "But because the Hessian (which is equivalent to the second derivative) is a matrix of values rather than a single value, there is extra work to be done.\n",
    "\n",
    "This lesson forms the background you will need to do that work.\n",
    "\n",
    "##Finding a Determinant\n",
    "Given a matrix \n",
    "$\\left[ \\begin{array}{cc}\n",
    "a & b \\\\\n",
    "c & d\n",
    "\\end{array} \\right]$, the determinant, symbolized $\\left| \\begin{array}{cc}\n",
    "a & b \\\\\n",
    "c & d\n",
    "\\end{array} \\right|$, is equal to $\\color{green}{a}·\\color{green}{d} - \\color{blue}{b}·\\color{blue}{c}$.\n",
    "\n",
    "So, the determinant of \n",
    "$\\left[ \\begin{array}{cc}\n",
    "\\color{green}{3} & \\color{blue}{4} \\\\\n",
    "\\color{blue}{-1} & \\color{green}{2}\n",
    "\\end{array} \\right]$ \n",
    "is $\\color{green}{6} - \\color{blue}{(-4)} = \\color{purple}{10}$.\n",
    "\n",
    "The determinant has applications in many fields. For us, it's just a useful concept.\n",
    "\n",
    "Determinants of larger matrices are possible to find, but more difficult and beyond the scope of this class."
   ]
  },
  {
   "cell_type": "markdown",
   "metadata": {},
   "source": [
    "###Practice Problem A\n",
    "Find the determinant. Check your work using `det(A)` in Julia.\n",
    "1. $\\left| \\begin{array}{cc}\n",
    "3 & 1 \\\\\n",
    "-2 & 0\n",
    "\\end{array} \\right|$<br /><br />\n",
    "2. $\\left| \\begin{array}{cc}\n",
    "4 & 1 \\\\\n",
    "1 & 5\n",
    "\\end{array} \\right|$<br /><br />\n",
    "3. $\\left| \\begin{array}{cc}\n",
    "1 & 0 \\\\\n",
    "0 & 1\n",
    "\\end{array} \\right|$"
   ]
  },
  {
   "cell_type": "code",
   "execution_count": null,
   "metadata": {
    "collapsed": true
   },
   "outputs": [],
   "source": [
    "# Check answers here"
   ]
  },
  {
   "cell_type": "code",
   "execution_count": null,
   "metadata": {
    "collapsed": false
   },
   "outputs": [],
   "source": [
    "revealable(ans410A)"
   ]
  },
  {
   "cell_type": "markdown",
   "metadata": {},
   "source": [
    "#Eigenvectors and Eigenvalues\n",
    "One of the biggest applications of matrices is in performing geometric transformations like rotation, translation, reflection, and dilation.\n",
    "\n",
    "All visual effects in movies, games, simulators or other video representations are accomplished with a combination of rotation (the observer turns), translation (the object moves side to side), and dilation (the object moves closer or farther). And, because these effects are currently accomplished by computers, they are accomplished using matrices, exactly like these."
   ]
  },
  {
   "cell_type": "code",
   "execution_count": null,
   "metadata": {
    "collapsed": true
   },
   "outputs": [],
   "source": [
    "X = [3; -1]"
   ]
  },
  {
   "cell_type": "code",
   "execution_count": null,
   "metadata": {
    "collapsed": true
   },
   "outputs": [],
   "source": [
    "[2 0; 0 2] * X"
   ]
  },
  {
   "cell_type": "markdown",
   "metadata": {},
   "source": [
    "You should get $\\left[ \\begin{array}{c}\n",
    "6 \\\\\n",
    "-2\n",
    "\\end{array} \\right]$, which is a multiplication of `X` by a factor of 2, in other words a *dilation*.\n",
    "\n",
    "Next, try $\\left[ \\begin{array}{cc}\n",
    "cos(\\frac{\\pi}{6}) & -sin(\\frac{\\pi}{6}) \\\\\n",
    "sin(\\frac{\\pi}{6}) & cos(\\frac{\\pi}{6})\n",
    "\\end{array} \\right] * X$\n",
    "\n"
   ]
  },
  {
   "cell_type": "code",
   "execution_count": null,
   "metadata": {
    "collapsed": true
   },
   "outputs": [],
   "source": [
    "# Enter the multiplication problem here\n"
   ]
  },
  {
   "cell_type": "markdown",
   "metadata": {},
   "source": [
    "Although this one isn't immediately clear, you have accomplished a *rotation* of vector `X` by $π/6$ radians.\n",
    "\n",
    "So far we have been looking at a constant `X` and a changing `A`, but you can also get interesting results for a constant `A` and a changing `X`.\n",
    "\n",
    "For example, the matrix $\\left[ \\begin{array}{cc}\n",
    "2 & 3 \\\\\n",
    "5 & 4\n",
    "\\end{array} \\right]$ doesn't look very special, and it doesn't do anything special for most values of `X`. \n",
    "\n",
    "But multiply it by $\\left[ \\begin{array}{c}\n",
    "3 \\\\\n",
    "5\n",
    "\\end{array} \\right]$ and see what you get:"
   ]
  },
  {
   "cell_type": "code",
   "execution_count": null,
   "metadata": {
    "collapsed": true
   },
   "outputs": [],
   "source": [
    "# Try it!"
   ]
  },
  {
   "cell_type": "markdown",
   "metadata": {},
   "source": [
    "This is a scalar multiplication by 7.\n",
    "\n",
    "When a random matrix `A` acts as a scalar multiplier on a vector `X`, then that vector is called an <font color=\"#993366\">eigenvector</font> of `X`.\n",
    "\n",
    "The value of the multiplier is known as an <font color=\"#993366\">eigenvalue</font>.\n",
    "\n",
    "For the purpose of analyzing Hessians, the eigenvectors are not important, but the eigenvalues are.\n",
    "\n",
    "##Finding Eigenvalues\n",
    "The simplest way to find eigenvalues is to open Julia and type in:\n",
    "\n",
    "\teig(A)\n",
    "    \n",
    "This will give you the eigenvalue(s) of `A` as well as a matrix composed of the associated eigenvectors.\n",
    "\n",
    "However, it's also useful to know how to do it by hand."
   ]
  },
  {
   "cell_type": "code",
   "execution_count": null,
   "metadata": {
    "collapsed": false
   },
   "outputs": [],
   "source": [
    "eig([2 3; 5 4])"
   ]
  },
  {
   "cell_type": "markdown",
   "metadata": {},
   "source": [
    "To find eigenvalues by hand, you will be solving this equation:\n",
    "$\\left| \\color{red}{\\left[ \\begin{array}{cc}\n",
    "a & b \\\\\n",
    "c & d\n",
    "\\end{array} \\right]}\n",
    "-\n",
    "\\color{blue}{\\left[ \\begin{array}{cc}\n",
    "x & 0 \\\\\n",
    "0 & x\n",
    "\\end{array} \\right]}\n",
    "\\right| = 0$\n",
    "\n",
    "where we have the <font color=\"red\">original matrix</font> minus the <font color=\"blue\">variable matrix in which we'll solve for $x$</font>.\n",
    "\n",
    "...which turns into the following determinant:\n",
    "\n",
    "$\\left| \\begin{array}{cc}\n",
    "a-x & b \\\\\n",
    "c & d-x\n",
    "\\end{array} \\right| = 0$.\n",
    "\n",
    "\n",
    "So, if you were trying to find the eigenvalues for the matrix \n",
    "$\\left[ \\begin{array}{cc}\n",
    "2 & 3 \\\\\n",
    "5 & 4\n",
    "\\end{array} \\right]$,\n",
    "you would need to solve the determinant $\\left| \\begin{array}{cc}\n",
    "2-x & 3 \\\\\n",
    "5 & 4-x\n",
    "\\end{array} \\right| = 0$.\n",
    "\n",
    "Cross-multiplying, you would get:\n",
    "\n",
    "$\\begin{align} \n",
    "\t(2 – x)(4 – x) – 15 &= 0 \\\\\n",
    "\t8 – 6x + x^2 – 15 &= 0 \\\\\n",
    "\tx^2 – 6x – 7 &= 0 \\\\\n",
    "\t(x – 7) (x + 1) &= 0 \\\\ \n",
    "    \\\\\n",
    "    x &= \\color{red}{7, -1}\n",
    "    \\end{align}$\n",
    "    \n",
    "7 and -1 are the <font color=\"red\">eigenvalues!\n",
    "\n"
   ]
  },
  {
   "cell_type": "markdown",
   "metadata": {},
   "source": [
    "###Practice Problem B\n",
    "Find the eigenvalues of the following matrices by hand, then check using Julia:\n",
    "1. $\\left[ \\begin{array}{cc}\n",
    "3 & 8 \\\\\n",
    "4 & -1\n",
    "\\end{array} \\right]$<br /><br />\n",
    "\n",
    "2. $\\left[ \\begin{array}{cc}\n",
    "2 & 6 \\\\\n",
    "-1 & 3\n",
    "\\end{array} \\right]$\n",
    "\n",
    "Find the eigenvalues using Julia:\n",
    "\n",
    "1. $\\left[ \\begin{array}{ccc}\n",
    "2 & 1 & -4 \\\\\n",
    "-2 & 3 & -1 \\\\\n",
    "0 & 1 & -2\n",
    "\\end{array} \\right]$"
   ]
  },
  {
   "cell_type": "code",
   "execution_count": null,
   "metadata": {
    "collapsed": true
   },
   "outputs": [],
   "source": [
    "# Check work here"
   ]
  },
  {
   "cell_type": "code",
   "execution_count": null,
   "metadata": {
    "collapsed": false
   },
   "outputs": [],
   "source": [
    "revealable(ans410B)"
   ]
  },
  {
   "cell_type": "markdown",
   "metadata": {},
   "source": [
    "##Meaning of Eigenvalues\n",
    "Because the Hessian of an equation is a square matrix, its eigenvalues can be found (by hand or with computers &mdash; we'll use computers from here on out).\n",
    "\n",
    "Because Hessians are also <font color=\"green\">symmetric</font> (the original and the transpose are the same), they have a special property that their eigenvalues will always be real numbers.\n",
    "\n",
    "So the only thing of concern is whether the eigenvalues are <font color=\"blue\">positive</font> or <font color=\"red\">negative</font>.\n",
    "\n",
    "<img src=\"files/4-10/posdef.png\" width=150 align=\"left\"/>If the Hessian at a given point has all positive eigenvalues, it is said to be a positive-definite matrix. This is the multivariable equivalent of \"concave up.\"<br clear=\"all\" />\n",
    "\n",
    "<img src=\"files/4-10/negdef.png\" width=150 align=\"right\" />If all of the eigenvalues are negative, it is said to be a negative-definite matrix. This is like \"concave down.\"<br clear=\"all\" />\n",
    "\n",
    "If either eigenvalue is 0, then you will need more information (possibly a graph or table) to see what is going on.\n",
    "\n",
    "And, if the eigenvalues are mixed (one positive, one negative), you have a saddle point:\n",
    "\n",
    "<img src=\"files/4-10/saddlept.png\" width=250 />\n",
    "\n",
    "Here, the graph is concave up in one direction and concave down in the other.\n"
   ]
  },
  {
   "cell_type": "markdown",
   "metadata": {},
   "source": [
    "###Practice Problem C\n",
    "Use Julia to find the eigenvalues of the given Hessian at the given point. Tell whether the function at the point is concave up, concave down, or at a saddle point, or whether the evidence is inconclusive.\n",
    "1. $\\left[ \\begin{array}{cc}\n",
    "12x^2 & -1 \\\\\n",
    "-1 & 2\n",
    "\\end{array} \\right]$ at $(3, 1)$<br /><br />\n",
    "2. $\\left[ \\begin{array}{cc}\n",
    "6x & 0 \\\\\n",
    "0 & 6y\n",
    "\\end{array} \\right]$ at $(-1, -2)$<br /><br />\n",
    "3. $\\left[ \\begin{array}{cc}\n",
    "-2y^2 & -4xy \\\\\n",
    "-4xy & -2x^2\n",
    "\\end{array} \\right]$ at $(1, -1)$ and $(1, 0)$<br /><br />\n"
   ]
  },
  {
   "cell_type": "code",
   "execution_count": null,
   "metadata": {
    "collapsed": true
   },
   "outputs": [],
   "source": [
    "# Find eigenvalues here"
   ]
  },
  {
   "cell_type": "code",
   "execution_count": null,
   "metadata": {
    "collapsed": false
   },
   "outputs": [],
   "source": [
    "revealable(ans410C)"
   ]
  },
  {
   "cell_type": "markdown",
   "metadata": {},
   "source": [
    "###Practice Problem D\n",
    "Determine the concavity of $f(x, y) = x^3 + 2y^3 – xy$ at the following points:\n",
    "1. $(0, 0)$\n",
    "2. $(3, 3)$\n",
    "3. $(3, -3)$\n",
    "4. $(-3, 3)$\n",
    "5. $(-3, -3)$"
   ]
  },
  {
   "cell_type": "code",
   "execution_count": null,
   "metadata": {
    "collapsed": true
   },
   "outputs": [],
   "source": [
    "# Determine concavity here"
   ]
  },
  {
   "cell_type": "code",
   "execution_count": null,
   "metadata": {
    "collapsed": false
   },
   "outputs": [],
   "source": [
    "revealable(ans410D)"
   ]
  },
  {
   "cell_type": "markdown",
   "metadata": {},
   "source": [
    "#Practice Problem E\n",
    "For $f(x, y) = 4x + 2y - x^2 – 3y^2$\n",
    "1. Find the gradient. Use that to find a critical point $(x, y)$ that makes the gradient 0.\n",
    "2. Use the eigenvalues of the Hessian at that point to determine whether the critical point in Part 1 is a maximum, minimum, or neither."
   ]
  },
  {
   "cell_type": "code",
   "execution_count": null,
   "metadata": {
    "collapsed": true
   },
   "outputs": [],
   "source": [
    "# Calculate here"
   ]
  },
  {
   "cell_type": "code",
   "execution_count": null,
   "metadata": {
    "collapsed": false
   },
   "outputs": [],
   "source": [
    "revealable(ans410E)"
   ]
  },
  {
   "cell_type": "markdown",
   "metadata": {},
   "source": [
    "###Practice Problem F\n",
    "For $f(x, y) = x^4 + y^2 – xy$,\n",
    "1. Find the critical point(s)\n",
    "2. Test the critical point(s) to see if they are maxima or minima."
   ]
  },
  {
   "cell_type": "code",
   "execution_count": null,
   "metadata": {
    "collapsed": true
   },
   "outputs": [],
   "source": [
    "# Code here"
   ]
  },
  {
   "cell_type": "code",
   "execution_count": null,
   "metadata": {
    "collapsed": false
   },
   "outputs": [],
   "source": [
    "revealable(ans410F)"
   ]
  },
  {
   "cell_type": "code",
   "execution_count": null,
   "metadata": {
    "collapsed": true
   },
   "outputs": [],
   "source": []
  }
 ],
 "metadata": {
  "kernelspec": {
   "display_name": "Julia 0.3.10",
   "language": "julia",
   "name": "julia-0.3"
  },
  "language_info": {
   "file_extension": ".jl",
   "mimetype": "application/julia",
   "name": "julia",
   "version": "0.3.10"
  }
 },
 "nbformat": 4,
 "nbformat_minor": 0
}
