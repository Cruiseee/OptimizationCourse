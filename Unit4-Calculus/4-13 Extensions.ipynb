{
 "cells": [
  {
   "cell_type": "markdown",
   "metadata": {
    "run_control": {
     "read_only": false
    }
   },
   "source": [
    "# 4-13 Extensions\n",
    "* Maximizing\n",
    "* Global Minima/Maxima\n",
    "* Beyond 3D"
   ]
  },
  {
   "cell_type": "code",
   "execution_count": null,
   "metadata": {},
   "outputs": [],
   "source": [
    "using Revealables\n",
    "include(\"files/answers.jl\")"
   ]
  },
  {
   "cell_type": "markdown",
   "metadata": {},
   "source": [
    "##Concept Extension 1: Maximizing\n",
    "In the past two lessons, we focused on minimizing because that is the most common requirement for an optimization problem. \n",
    "\n",
    "As you know, one way to convert a minimization procedure to a maximization procedure is to minimize the negative of the function. But if you'll be maximizing frequently, it's nice to have a decicated program for that purpose. "
   ]
  },
  {
   "cell_type": "markdown",
   "metadata": {},
   "source": [
    "###Practice Problem A\n",
    "Examine either your steepest-descent program or your conjugate gradient program. What two simple changes would convert it into a maximization program?"
   ]
  },
  {
   "cell_type": "raw",
   "metadata": {},
   "source": [
    "Write you answers here:\n"
   ]
  },
  {
   "cell_type": "code",
   "execution_count": null,
   "metadata": {},
   "outputs": [],
   "source": [
    "revealable(ans413A)"
   ]
  },
  {
   "cell_type": "markdown",
   "metadata": {},
   "source": [
    "##Concept Extension 2: Globals\n",
    "As with most optimization procedures, calculus-based optimizers tend to fall towards the closest minimum or maximum, whether it is local or global. \n",
    "\n",
    "In unit 2, you wrote a program that tested a grid of points in a function $f(x, y)$ to find the \"best\" one to use as a seed point for beginning the procedure. This is still a good way to start."
   ]
  },
  {
   "cell_type": "markdown",
   "metadata": {},
   "source": [
    "###Practice Problem B\n",
    "Dig up your grid-testing program from Unit 2 and use it to screen points prior to minimizing our problem function \n",
    "\t$$f(x, y) = (x – 2)^4 + (x – 2y)^2$$\n",
    "\n",
    "(Did that help?)"
   ]
  },
  {
   "cell_type": "code",
   "execution_count": null,
   "metadata": {},
   "outputs": [],
   "source": [
    "# Screen points, then minimize"
   ]
  },
  {
   "cell_type": "code",
   "execution_count": null,
   "metadata": {},
   "outputs": [],
   "source": [
    "revealable(ans413B)"
   ]
  },
  {
   "cell_type": "markdown",
   "metadata": {},
   "source": [
    "##Concept Extension 3: Beyond 3D\n",
    "As usual, these lessons have focused on 2-variable, 3-dimensional functions because of the possibility of visualization.\n",
    "\n",
    "Also as usual, none of the methods used are restricted to 2 variables: gradients, Hessians, directional vectors, and coordinate points can all be made into longer lists or larger matrices, without any need to change the underlying procedures.\n"
   ]
  },
  {
   "cell_type": "markdown",
   "metadata": {},
   "source": [
    "###Practice Problem C\n",
    "Modify your Conjugate Gradient program for a function f(x, y, z) in three variables. \n",
    "1. Use it to minimize \n",
    "\t$$f(x, y, z) = 3(x + z - 2)^2 + (y – 2z)^2 + 2x^2$$ \n",
    "starting at $(5, 5, 5)$.\n",
    "2. Check your work by finding the gradient by hand, setting it equal to 0 and solving to find the critical point, then calculating the Hessian by hand and its eigenvalues in Julia to verify that your critical point is a minimum."
   ]
  },
  {
   "cell_type": "code",
   "execution_count": null,
   "metadata": {
    "collapsed": true
   },
   "outputs": [],
   "source": [
    "# Code here"
   ]
  },
  {
   "cell_type": "code",
   "execution_count": null,
   "metadata": {
    "collapsed": true
   },
   "outputs": [],
   "source": [
    "# Find eigenvalues here"
   ]
  },
  {
   "cell_type": "code",
   "execution_count": null,
   "metadata": {},
   "outputs": [],
   "source": [
    "revealable(ans413C)"
   ]
  },
  {
   "cell_type": "code",
   "execution_count": null,
   "metadata": {
    "collapsed": true
   },
   "outputs": [],
   "source": []
  }
 ],
 "metadata": {
  "kernelspec": {
   "display_name": "Julia 0.6.0",
   "language": "julia",
   "name": "julia-0.6"
  },
  "language_info": {
   "file_extension": ".jl",
   "mimetype": "application/julia",
   "name": "julia",
   "version": "0.6.0"
  }
 },
 "nbformat": 4,
 "nbformat_minor": 1
}
