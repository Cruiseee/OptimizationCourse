{
 "cells": [
  {
   "cell_type": "markdown",
   "metadata": {
    "run_control": {
     "read_only": false
    }
   },
   "source": [
    "# 4-2 Simpson's Rule and Integration\n",
    "* Approximating Integrals\n",
    "* Simpson's Rule\n",
    "* Programming Integration"
   ]
  },
  {
   "cell_type": "code",
   "execution_count": 1,
   "metadata": {
    "run_control": {
     "read_only": false
    }
   },
   "outputs": [
    {
     "data": {
      "text/html": [
       "<div id=\"interact-js-shim\">\n",
       "    <script charset=\"utf-8\">\r\n",
       "(function (IPython, $, _, MathJax) {\r\n",
       "    $.event.special.destroyed = {\r\n",
       "\tremove: function(o) {\r\n",
       "\t    if (o.handler) {\r\n",
       "\t\to.handler.apply(this, arguments)\r\n",
       "\t    }\r\n",
       "\t}\r\n",
       "    }\r\n",
       "\r\n",
       "    var OutputArea = IPython.version >= \"4.0.0\" ? require(\"notebook/js/outputarea\").OutputArea : IPython.OutputArea;\r\n",
       "\r\n",
       "    var redrawValue = function (container, type, val) {\r\n",
       "\tvar selector = $(\"<div/>\");\r\n",
       "\tvar oa = new OutputArea(_.extend(selector, {\r\n",
       "\t    selector: selector,\r\n",
       "\t    prompt_area: true,\r\n",
       "\t    events: IPython.events,\r\n",
       "\t    keyboard_manager: IPython.keyboard_manager\r\n",
       "\t})); // Hack to work with IPython 2.1.0\r\n",
       "\r\n",
       "\tswitch (type) {\r\n",
       "\tcase \"image/png\":\r\n",
       "            var _src = 'data:' + type + ';base64,' + val;\r\n",
       "\t    $(container).find(\"img\").attr('src', _src);\r\n",
       "\t    break;\r\n",
       "\tcase \"text/latex\":\r\n",
       "\t\tif (MathJax){\r\n",
       "\t\t\tvar math = MathJax.Hub.getAllJax(container)[0];\r\n",
       "\t\t\tMathJax.Hub.Queue([\"Text\", math, val.replace(/^\\${1,2}|\\${1,2}$/g, '')]);\r\n",
       "\t\t\tbreak;\r\n",
       "\t\t}\r\n",
       "\tdefault:\r\n",
       "\t    var toinsert = OutputArea.append_map[type].apply(\r\n",
       "\t\toa, [val, {}, selector]\r\n",
       "\t    );\r\n",
       "\t    $(container).empty().append(toinsert.contents());\r\n",
       "\t    selector.remove();\r\n",
       "\t}\r\n",
       "    }\r\n",
       "\r\n",
       "\r\n",
       "    $(document).ready(function() {\r\n",
       "\tfunction initComm(evt, data) {\r\n",
       "\t    var comm_manager = data.kernel.comm_manager;\r\n",
       "        //_.extend(comm_manager.targets, require(\"widgets/js/widget\"))\r\n",
       "\t    comm_manager.register_target(\"Signal\", function (comm) {\r\n",
       "            comm.on_msg(function (msg) {\r\n",
       "                var val = msg.content.data.value;\r\n",
       "                $(\".signal-\" + comm.comm_id).each(function() {\r\n",
       "                var type = $(this).data(\"type\");\r\n",
       "                if (typeof(val[type]) !== \"undefined\" && val[type] !== null) {\r\n",
       "                    redrawValue(this, type, val[type], type);\r\n",
       "                }\r\n",
       "                });\r\n",
       "                delete val;\r\n",
       "                delete msg.content.data.value;\r\n",
       "            });\r\n",
       "\t    });\r\n",
       "\r\n",
       "\t    // coordingate with Comm and redraw Signals\r\n",
       "\t    // XXX: Test using Reactive here to improve performance\r\n",
       "\t    $([IPython.events]).on(\r\n",
       "\t\t'output_appended.OutputArea', function (event, type, value, md, toinsert) {\r\n",
       "\t\t    if (md && md.reactive) {\r\n",
       "                // console.log(md.comm_id);\r\n",
       "                toinsert.addClass(\"signal-\" + md.comm_id);\r\n",
       "                toinsert.data(\"type\", type);\r\n",
       "                // Signal back indicating the mimetype required\r\n",
       "                var comm_manager = IPython.notebook.kernel.comm_manager;\r\n",
       "                var comm = comm_manager.comms[md.comm_id];\r\n",
       "                comm.then(function (c) {\r\n",
       "                    c.send({action: \"subscribe_mime\",\r\n",
       "                       mime: type});\r\n",
       "                    toinsert.bind(\"destroyed\", function() {\r\n",
       "                        c.send({action: \"unsubscribe_mime\",\r\n",
       "                               mime: type});\r\n",
       "                    });\r\n",
       "                })\r\n",
       "\t\t    }\r\n",
       "\t    });\r\n",
       "\t}\r\n",
       "\r\n",
       "\ttry {\r\n",
       "\t    // try to initialize right away. otherwise, wait on the status_started event.\r\n",
       "\t    initComm(undefined, IPython.notebook);\r\n",
       "\t} catch (e) {\r\n",
       "\t    $([IPython.events]).on('kernel_created.Kernel kernel_created.Session', initComm);\r\n",
       "\t}\r\n",
       "    });\r\n",
       "})(IPython, jQuery, _, MathJax);\r\n",
       "</script>\n",
       "    <script>\n",
       "        window.interactLoadedFlag = true\n",
       "       $(\"#interact-js-shim\").bind(\"destroyed\", function () {\n",
       "           if (window.interactLoadedFlag) {\n",
       "               console.warn(\"JavaScript required by Interact will be removed if you remove this cell or run using Interact more than once.\")\n",
       "           }\n",
       "       })\n",
       "       $([IPython.events]).on(\"kernel_starting.Kernel kernel_restarting.Kernel\", function () { window.interactLoadedFlag = false })\n",
       "   </script>\n",
       "</div>"
      ]
     },
     "metadata": {},
     "output_type": "display_data"
    },
    {
     "data": {
      "text/markdown": [
       "\n"
      ],
      "text/plain": [
       "Revealables.Revealable(\"###Answer C\\n1. You should get close to the actual minimum at z = 2, y = 4, x = 0\\n\\n2. This was kind of mean. Although with the simple functions we've been using as examples it seems \\\"easier\\\" to use calculus to minimize, it can get really ugly really fast. At some point the programs take over.\\n\\nAnyway:\\n\\ngradient = [10x + 6z - 12     2y - 4z    6x - 4y + 14z - 12]\\n\\nThis system of equations does, indeed, equal 0 at (0, 4, 2).\\n\\nHessian: [10  0  6; 0  2  -4; 6 -4 14]. Eigenvalues are all positive, confirming that it is positive definite/concave up, therefore (0, 4, 2) is a minimum. Yuck!!!\\n\\nMy 3d program here:\\n<code>\\nfunction conjgrad3(f, x1, x2, x3)  # x1 through x3 are values of the initial point\\n    g = gradient(x -> f(x[1], x[2], x[3]))\\n    v1 = -g([x1, x2, x3]  # returns the negative gradient as motion vector v\\n    for n in 1:20\\n        test(a) = f((x1 + a\\\\*v1[1]), (x2 + a\\\\*v1[2]), (x3 + a\\\\*v[3]))  # cross section of f in direction of vector v/scalar a\\n        a = fibmin(test, -10, 10) # scalar a shouldn't be too big, esp as vector v is not normalized\\n        x1 = x1 + a\\\\*v1[1] # forms new point from old + scalar\\\\*vector\\n        x2 = x2 + a\\\\*v1[2]\\n        x3 = x3 + a\\\\*v1[3]\\n        v2 = -g([x1, x2, x3])  # neg gradient at new point becomes temp motion vector (pre-nudge)\\n        s = dot(v2,v2)/dot(v1,v1)  # calculate scalar/nudge factor s\\n        v2 = v2 + s\\\\*v1  # replace temporary motion vector with post-nudged motion vector\\n        v1 = v2  # rename v2 as v1 for the benefit of the loop\\n        println(\\\"\\$x1, \\$x2, \\$x3\\\")\\n    end\\nend\\n</code>\\n\", \"Answer\", false, false)"
      ]
     },
     "execution_count": 1,
     "metadata": {},
     "output_type": "execute_result"
    }
   ],
   "source": [
    "using Revealables\n",
    "include(\"files/extras.jl\")\n",
    "include(\"files/answers.jl\")"
   ]
  },
  {
   "cell_type": "markdown",
   "metadata": {},
   "source": [
    "##Approximating Integrals\n",
    "In Calculus, you learned two basic ways to approximate the value of an integral:\n",
    "\n",
    "* *Riemann sums*: rectangle areas with heights calculated at the left side, right side, or midpoint of each interval\n",
    "<img src=\"files/4-2/riemann.png\" width=500 />\n",
    "\n",
    "* *Trapezoidal sums*: areas of trapezoids formed at each interval\n",
    "<img src=\"files/4-2/trap.png\" width=130 />\n",
    "\n",
    "In each of these cases, the area approximation got better as the width of the intervals decreased. This led to the concept of an integral as the limit of the area as the partition width tends toward zero.\n",
    "\n",
    "Calculating the areas of a zillion rectangles sounds like something a computer could do really well (and it is), but there's an even better way.\n",
    "\n",
    "##Simpson's Rule\n",
    "Simpson's Rule, named after Thomas Simpson though also used by Kepler a century before, was a way to approximate integrals without having to deal with lots of narrow rectangles (which also implies lots of decimal calculations).\n",
    "\n",
    "Its strength is that, although rectangles and trapezoids work better for linear functions, Simpson's Rule works quite well on curves.\n",
    "\n",
    "Simpson's Rule is based on the fact that given any three points, you can find the equation of a quadratic through those points. \n",
    "\n",
    "For example, let's say you had points $(3, 12)$, $(1, 5)$, and $(5, 9)$. \n",
    "Starting with $(3, 12)$ and using $y = ax^2 + bx + c$, you could write: \n",
    "\n",
    "$\\begin{align}\n",
    "12 &= a(3)^2 + b(3) + c \\\\\n",
    "12 &= 9a + 3b + c\n",
    "\\end{align}$\n",
    "\n",
    "You could do the same thing with the other two points as well, getting:\t\n",
    "\n",
    "$\\begin{align}\n",
    "5 &= a + b + c \\\\\n",
    "9 &= 25a + 5b + c\n",
    "\\end{align}$\n",
    "\n",
    "Then you could solve this system of equations for $a$, $b$, and $c$, and get the equation of the quadratic.\n",
    "\n",
    "<img src=\"files/4-2/systemsoln.png\" width=250 align=\"right\" />\n",
    "If you're curious, the system of equations solves to:\n",
    "\n",
    "$\\begin{align}\n",
    "a &= -1.25 \\\\\n",
    "b &= 8.5 \\\\\n",
    "c &= -2.25\n",
    "\\end{align}$\n",
    "\n",
    "which gives the quadratic $y = -1.25x^2 + 8.5x – 2.25$, whose graph is shown at right.\n",
    "<br clear=\"all\" />\n",
    "\n",
    "Then, because quadratics are easy to integrate, you could just integrate the quadratic over the interval. It ends up being a very good approximation, but it's also a lot of arithmetic!\n",
    "\n",
    "Fortunately, there's a nice shortcut. It turns out that the integral of the quadratic over the interval $[a, b]$ always comes out to:\n",
    "\n",
    "<img src=\"files/4-2/quadapprox.png\" width=150 align=\"right\" />\n",
    "\n",
    "${{b-a}\\over{6}} \\cdot \\left( f(a)+4f(m)+f(b)\\right)$\n",
    "\n",
    "where $f(a)$, $f(m)$ and $f(b)$ were the values of the original function at $a$, $m$, and $b$. You don't need the quadratic at all."
   ]
  },
  {
   "cell_type": "code",
   "execution_count": 2,
   "metadata": {
    "run_control": {
     "read_only": false
    }
   },
   "outputs": [
    {
     "data": {
      "text/html": [],
      "text/plain": [
       "Interact.ToggleButton(1: \"input\" = false Bool , \"Oh yeah? Prove it!\", false)"
      ]
     },
     "metadata": {},
     "output_type": "display_data"
    },
    {
     "data": {
      "text/markdown": [
       "\n"
      ],
      "text/plain": [
       "Revealables.Revealable(\"###Proving the Shortcut\\nThe proof, though complex, isn't really that bad if you use a couple of tricks. First, center the interval at 0 which will not change the value of the integral. Then, multiply the interval width by 2/(b-a), which will scale the endpoints to -1 and 1. We'll have to scale it back later by multiplying by (b-a)/2. So now, the three given points can be written (-1, L) (0, M) and (1, R). Building the quadratics and solving the system is fairly simple; you will get 1st coefficient = R &ndash; M &ndash; (R-L)/2, 2nd = (R-L)/2, 3rd = M.\\n\\nIntegrating from -1 to 1 is a little hairy with all the variables, but not that bad because things cancel; simplifying is fairly nice, and after multiplying by (b-a)/2 to unscale it to its original size, you will get the formula above. \\n\", \"Oh yeah? Prove it!\", false, false)"
      ]
     },
     "execution_count": 2,
     "metadata": {
      "comm_id": "b6b8acdd-61ce-4c09-a9d9-4927c055b777",
      "reactive": true
     },
     "output_type": "execute_result"
    },
    {
     "name": "stderr",
     "output_type": "stream",
     "text": [
      "WARNING: Compat.ASCIIString is deprecated, use String instead.\n",
      "  likely near C:\\Users\\Victoria Docherty\\.julia\\v0.6\\IJulia\\src\\kernel.jl:31\n",
      "WARNING: Compat.ASCIIString is deprecated, use String instead.\n",
      "  likely near C:\\Users\\Victoria Docherty\\.julia\\v0.6\\IJulia\\src\\kernel.jl:31\n",
      "WARNING: Compat.ASCIIString is deprecated, use String instead.\n",
      "  likely near C:\\Users\\Victoria Docherty\\.julia\\v0.6\\IJulia\\src\\kernel.jl:31\n",
      "WARNING: Compat.ASCIIString is deprecated, use String instead.\n",
      "  likely near C:\\Users\\Victoria Docherty\\.julia\\v0.6\\IJulia\\src\\kernel.jl:31\n"
     ]
    }
   ],
   "source": [
    "revealable(proof402)"
   ]
  },
  {
   "cell_type": "markdown",
   "metadata": {},
   "source": [
    "As an example, let's say you have a function $f(x)$ that you need to integrate over the interval $[2, 12]$. The midpoint of this interval is $x = 7$, which gives us three $x$ values: 2, 7 and 12.\n",
    "\n",
    "The next step is to evaluate the function at these $x$ values; suppose it gives $(2, 10)$, $(7, -3)$ and $(12, -8)$.\n",
    "\n",
    "According to Simpson's Rule, the integral can be approximated using: \n",
    "\n",
    "$\\begin{align}\n",
    "{{12-2}\\over{6}} \\cdot \\left( f(2)+4f(7)+f(12)\\right) &= \\\\\n",
    "{{10}\\over{6}} \\cdot \\left(10+4(-3) + (-8)\\right) &= \\\\\n",
    "{{5}\\over{3}} \\cdot (-10) &= \\color{blue}{{-50}\\over{3}}\n",
    "\\end{align}$.\n"
   ]
  },
  {
   "cell_type": "markdown",
   "metadata": {},
   "source": [
    "###Practice Problem A\n",
    "1. Take the integral of $y = -1.25x^2 + 8.5x – 2.25$ from $1$ to $5$. Verify that it has the same value as the Simpson's Rule formula for the three points $(1, 5)$, $(3, 12)$ and $(5, 9)$.\n",
    "2. Verify Simpson's Rule using the quadratic $y = 2x^2 + 5x + 12$ on the interval $[-1, 5]$.\n",
    "3. Verify Simpson's Rule using the cubic $y = x^3 + 2x^2 – 5x – 2$ on the interval $[0, 2]$."
   ]
  },
  {
   "cell_type": "code",
   "execution_count": null,
   "metadata": {
    "collapsed": true,
    "run_control": {
     "read_only": false
    }
   },
   "outputs": [],
   "source": [
    "# Calculate here! You might as well write a function to save some time...."
   ]
  },
  {
   "cell_type": "code",
   "execution_count": 3,
   "metadata": {
    "run_control": {
     "read_only": false
    }
   },
   "outputs": [
    {
     "data": {
      "text/html": [],
      "text/plain": [
       "Interact.ToggleButton(4: \"input-2\" = false Bool , \"Answer\", false)"
      ]
     },
     "metadata": {},
     "output_type": "display_data"
    },
    {
     "data": {
      "text/markdown": [
       "\n"
      ],
      "text/plain": [
       "Revealables.Revealable(\"###Answer A\\n1. 41.33 in both cases.\\n2. The three points will be (-1, 9), (2,30) and (5, 87). The integral of 2x<sup>2</sup> + 5x + 12 from -1 to 5 gives 216. Simpson's Rule yields 1 * (9 + 120 + 87) = 216.\\n3. Both answers are identical at -4.67.\\n\\n\", \"Answer\", false, false)"
      ]
     },
     "execution_count": 3,
     "metadata": {
      "comm_id": "d514c34e-dd53-4bff-860e-91be8ccef10f",
      "reactive": true
     },
     "output_type": "execute_result"
    },
    {
     "name": "stderr",
     "output_type": "stream",
     "text": [
      "WARNING: Compat.ASCIIString is deprecated, use String instead.\n",
      "  likely near C:\\Users\\Victoria Docherty\\.julia\\v0.6\\IJulia\\src\\kernel.jl:31\n",
      "WARNING: Compat.ASCIIString is deprecated, use String instead.\n",
      "  likely near C:\\Users\\Victoria Docherty\\.julia\\v0.6\\IJulia\\src\\kernel.jl:31\n"
     ]
    }
   ],
   "source": [
    "revealable(ans402A)"
   ]
  },
  {
   "cell_type": "markdown",
   "metadata": {},
   "source": [
    "As you (hopefully) noticed in Problem A, Simpson's Rule gives exactly correct answers for quadratics and cubics. \n",
    "\n",
    "For other functions, Simpson's Rule only gives an approximation."
   ]
  },
  {
   "cell_type": "markdown",
   "metadata": {},
   "source": [
    "###Practice Problem B\n",
    "1. Find the integral of $y = 3x$ on $[-3, 11]$. Also use Simpson's Rule. Compare the answers.\n",
    "2. Repeat for $y = \\sqrt{x}$ on $[4, 16]$.\n",
    "3. Repeat for $y = sin(x)$ on $[0, π/2]$.\n",
    "4. Repeat for $y = e^x$ on $[1, 5]$. \n",
    "\n",
    "(If you're using Julia for calculations, you may use `pi` to get π and `e` for $e$.)"
   ]
  },
  {
   "cell_type": "code",
   "execution_count": null,
   "metadata": {
    "collapsed": true,
    "run_control": {
     "read_only": false
    }
   },
   "outputs": [],
   "source": [
    "# Calculate here! You can re-use your function if you wrote one."
   ]
  },
  {
   "cell_type": "code",
   "execution_count": 4,
   "metadata": {
    "run_control": {
     "read_only": false
    }
   },
   "outputs": [
    {
     "data": {
      "text/html": [],
      "text/plain": [
       "Interact.ToggleButton(7: \"input-3\" = false Bool , \"Answer\", false)"
      ]
     },
     "metadata": {},
     "output_type": "display_data"
    },
    {
     "data": {
      "text/markdown": [
       "\n"
      ],
      "text/plain": [
       "Revealables.Revealable(\"###Answer B\\n1. Integral = 168; Simpson's = (-3, -9), (4, 12) and (11, 33) for 14 / 6 \\\\* (-9 + 48 + 33) = 168.0. \\n2. Integral = 37.333; Simpson's = (4, 2) (10, 3.1623) (16, 4) for 2 \\\\* (2 + 12.6491 + 4) = 37.298. \\n3. Integral = 1; Simpson's = (0, 1), (&pi;/4, .7071), (&pi;/2, 0) for &pi;/12 \\\\* (1 + 2.8284 + 0) = 1.002\\n4. Integral = 145.6949; Simpson's = (1, 2.718) (3, 20.0855) (5, 148.4132) for 4 / 6 \\\\* (2.718 + 80.3421 + 148.4132) = 154.3158.\\n\", \"Answer\", false, false)"
      ]
     },
     "execution_count": 4,
     "metadata": {
      "comm_id": "2effba71-32e2-47f4-93a3-e347b70cdb6a",
      "reactive": true
     },
     "output_type": "execute_result"
    }
   ],
   "source": [
    "revealable(ans402B)"
   ]
  },
  {
   "cell_type": "markdown",
   "metadata": {},
   "source": [
    "Like any other approximation rule, Simpson's works best when the interval is narrow and the function values over that interval have a similar shape to the approximation device (in this case, a quadratic curve).\n",
    "\n",
    "<img src=\"files/4-2/graphs.png\" width=\"250\" align=\"right\" />\n",
    "\n",
    "Some function types, like exponentials, can cause problems because their shape over a broad interval is not similar enough to a quadratic. Here, the exponential is shown in red and the Simpson's quadratic in blue.\n",
    "\n",
    "However, this problem can be alleviated by dividing larger intervals into smaller sub-intervals over which Simpson's Rule will continue to work well. \n",
    "\n",
    "The number of sub-intervals should depend on the width of the original interval; it makes as little sense to divide an interval of width 0.5 by 5 as it does to divide an interval of width 100 by 5."
   ]
  },
  {
   "cell_type": "markdown",
   "metadata": {},
   "source": [
    "###Practice Problem C\n",
    "Write a function that will apply Simpson's Rule to a given function $f$ over an interval $[a, b]$. Do not worry about interval width yet. \n",
    "\n",
    "Apply that function to the exponential from Problem B4, $\\int_1^5{e^x dx}$, to determine what interval width will yield answers with an acceptable error.\n",
    "\n",
    "You may find this language helpful:\n",
    "\n",
    "    for k in 1:0.5:4.5\n",
    "    \n",
    "(counts from 1 to 4.5 by 0.5's)"
   ]
  },
  {
   "cell_type": "code",
   "execution_count": null,
   "metadata": {
    "collapsed": true,
    "run_control": {
     "read_only": false
    }
   },
   "outputs": [],
   "source": [
    "# Code here"
   ]
  },
  {
   "cell_type": "code",
   "execution_count": null,
   "metadata": {
    "collapsed": true,
    "run_control": {
     "read_only": false
    }
   },
   "outputs": [],
   "source": [
    "# Test here"
   ]
  },
  {
   "cell_type": "code",
   "execution_count": 5,
   "metadata": {
    "run_control": {
     "read_only": false
    }
   },
   "outputs": [
    {
     "data": {
      "text/html": [],
      "text/plain": [
       "Interact.ToggleButton(10: \"input-4\" = false Bool , \"Answer\", false)"
      ]
     },
     "metadata": {},
     "output_type": "display_data"
    },
    {
     "data": {
      "text/markdown": [
       "\n"
      ],
      "text/plain": [
       "Revealables.Revealable(\"###Answer C\\nCome up with your own definition of \\\"acceptable error.\\\" Sometimes the audience will dictate that, but sometimes it's just up to the designer (that's you!).\\n\\nI found that interval width 4 (original) gave 154.315726...; width 2 gave 146.417113...; width 1 gave 145.7439987. I wasn't happy until around 0.05; 0.01 was extremely accurate. (At that point I wondered how accurate just doing a Riemann sum would be, but it was not as accurate.)\\n\\n<code>\\nfunction simpson(f, a, b)\\n    m = (a + b) / 2 \\n    integral = (b - a) / 6 \\\\* (f(a) + 4*f(m) +f(b))  # calculate and return integral\\nend\\n\\nb = 0\\nfor k in (1:.01:4.99)\\n    b = b + simpson(f, k, k + .01)\\nend\\nprintln(b)\\n</code>\\n\", \"Answer\", false, false)"
      ]
     },
     "execution_count": 5,
     "metadata": {
      "comm_id": "4222140d-249d-4aa9-a3a9-eb91327fa01f",
      "reactive": true
     },
     "output_type": "execute_result"
    }
   ],
   "source": [
    "revealable(ans402C)"
   ]
  },
  {
   "cell_type": "markdown",
   "metadata": {},
   "source": [
    "###Practice Problem D\n",
    "Decide how you will divide any interval of width $w$ into a whole number of evenly-spaced sub-intervals whose width is approximately the width you chose in Problem C."
   ]
  },
  {
   "cell_type": "raw",
   "metadata": {},
   "source": [
    "Write your design here."
   ]
  },
  {
   "cell_type": "code",
   "execution_count": 6,
   "metadata": {
    "run_control": {
     "read_only": false
    }
   },
   "outputs": [
    {
     "data": {
      "text/html": [],
      "text/plain": [
       "Interact.ToggleButton(13: \"input-5\" = false Bool , \"Answer\", false)"
      ]
     },
     "metadata": {},
     "output_type": "display_data"
    },
    {
     "data": {
      "text/markdown": [
       "\n"
      ],
      "text/plain": [
       "Revealables.Revealable(\"###Answer D\\nThis is a bit tricky because you really do need a whole number of intervals, and they really should be evenly spaced (though this is actually not necessary), and the width could be anything. \\n\\nMy solution is to divide `w` by 0.01 (which is my desired interval width), then round to the nearest whole number, then divide `w` again by that whole number to get the width of each interval. Rounding to a whole number can be accomplished using `round(k, 0)`.\\n\", \"Answer\", false, false)"
      ]
     },
     "execution_count": 6,
     "metadata": {
      "comm_id": "adfee684-12f4-41d4-bbc9-74d26421d0d5",
      "reactive": true
     },
     "output_type": "execute_result"
    }
   ],
   "source": [
    "revealable(ans402D)"
   ]
  },
  {
   "cell_type": "markdown",
   "metadata": {},
   "source": [
    "###Practice Problem E\n",
    "Write a program to take integrals using Simpson's Rule that:\n",
    "1. divides the given interval into a whole number of even sub-intervals of acceptable width \n",
    "2. runs Simpson's Rule across those subintervals\n",
    "3. finds the sum of the subinterval integrals for the total area."
   ]
  },
  {
   "cell_type": "code",
   "execution_count": null,
   "metadata": {
    "collapsed": true,
    "run_control": {
     "read_only": false
    }
   },
   "outputs": [],
   "source": [
    "# Write your program here"
   ]
  },
  {
   "cell_type": "code",
   "execution_count": null,
   "metadata": {
    "collapsed": true,
    "run_control": {
     "read_only": false
    }
   },
   "outputs": [],
   "source": [
    "# Test here"
   ]
  },
  {
   "cell_type": "code",
   "execution_count": 7,
   "metadata": {
    "run_control": {
     "read_only": false
    }
   },
   "outputs": [
    {
     "data": {
      "text/html": [],
      "text/plain": [
       "Interact.ToggleButton(16: \"input-6\" = false Bool , \"Answer\", false)"
      ]
     },
     "metadata": {},
     "output_type": "display_data"
    },
    {
     "data": {
      "text/markdown": [
       "\n"
      ],
      "text/plain": [
       "Revealables.Revealable(\"###Answer E\\n<code>\\nfunction simpson(f, a, b)\\n    integral = 0  # seed initial value for sum later\\n    k = round((b-a)/.01, 0)  # determine how many intervals are required to get interval width of ~0.01\\n    step = (b-a)/k  # create the step value using width / number of intervals\\n    for n in a:step:(b-step)  # build sub-intervals with left endpt n and right endpt (n + step), width = step\\n        m = n + (step/2)  # midpoint \\n        add = step / 6 \\\\* (f(n) + 4*f(m) + f(n+step))  # simpson's rule on subinterval\\n        integral = integral + add  # accumulate on integral here \\n    end\\n    println(integral)\\nend\\n\\nf(x) = e^x \\nsimpson(f, 1, 5)\\n</code>\\n\", \"Answer\", false, false)"
      ]
     },
     "execution_count": 7,
     "metadata": {
      "comm_id": "f08ee2b8-2475-4a93-bdbd-a04d113a4ba9",
      "reactive": true
     },
     "output_type": "execute_result"
    }
   ],
   "source": [
    "revealable(ans402E)"
   ]
  },
  {
   "cell_type": "code",
   "execution_count": null,
   "metadata": {
    "collapsed": true,
    "run_control": {
     "read_only": false
    }
   },
   "outputs": [],
   "source": []
  }
 ],
 "metadata": {
  "kernelspec": {
   "display_name": "Julia 0.6.0",
   "language": "julia",
   "name": "julia-0.6"
  },
  "language_info": {
   "file_extension": ".jl",
   "mimetype": "application/julia",
   "name": "julia",
   "version": "0.6.0"
  }
 },
 "nbformat": 4,
 "nbformat_minor": 1
}
