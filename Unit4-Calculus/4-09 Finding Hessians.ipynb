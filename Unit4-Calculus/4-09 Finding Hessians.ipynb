{
 "cells": [
  {
   "cell_type": "markdown",
   "metadata": {
    "run_control": {
     "read_only": false
    }
   },
   "source": [
    "# 4-09 Second Derivatives in 2 or More Variables\n",
    "* Calculating a Hessian"
   ]
  },
  {
   "cell_type": "code",
   "execution_count": null,
   "metadata": {
    "collapsed": true,
    "run_control": {
     "read_only": false
    }
   },
   "outputs": [],
   "source": [
    "using Revealables\n",
    "include(\"files/answers.jl\")"
   ]
  },
  {
   "attachments": {},
   "cell_type": "markdown",
   "metadata": {},
   "source": [
    "## Second Derivatives in 2 or More Variables\n",
    "\n",
    "Just as the first derivative in 2 or more variables has a special name, gradient, the second also has a special name, Hessian, after the developer, Ludwig Otto Hesse.\n",
    "\n",
    "And, just as the gradient involved vectors formed from partial derivatives, so does the Hessian.\n",
    "\n",
    "## Form of a Hessian\n",
    "\n",
    "Recall that finding the gradient of an equation in n variables resulted in a row vector of size 1 x n, where each element was the partial derivative of $f$ with respect to that variable.\n",
    "\n",
    "Finding the second derivative, the Hessian, results in an n x n square vector, where each element is a partial derivative of $f$. \n",
    "\n",
    "This is the form of a Hessian in 2 variables, $x$ and $y$:\n",
    "\n",
    "$\\left[ \\begin{array}{cc}\n",
    "\\color{red}{\\frac{d^2f}{dx^2}} & \\color{green}{\\frac{d^2f}{dxdy}} \\\\\n",
    "\\color{blue}{\\frac{d^2f}{dydx}} & \\color{orange}{\\frac{d^2f}{dy^2}} \\end{array} \\right]$\n",
    "\n",
    "Here's another, related way to think about the Hessian:\n",
    "\n",
    "$\\left[ \\begin{array}{cc}\n",
    "\\color{red}{2nd\\ derivative\\ of\\ f\\ with\\ respect\\ to\\ x} & \\color{green}{f\\ derived\\ with\\ respect\\ to\\ x\\ first,\\ then\\ y} \\\\\n",
    "\\color{blue}{f\\ derived\\ with\\ respect\\ to\\ y\\ first,\\ then\\ x} & \\color{orange}{2nd\\ derivative\\ of\\ f\\ with\\ respect\\ to\\ y} \\end{array} \\right]$\n",
    "\n",
    "\n",
    "\n",
    "## Calculating a Hessian\n",
    "\n",
    "Suppose you have the original function\n",
    "    $f(x, y) = 8x – 2x^2y^2$.\n",
    "    \n",
    "Verify that its gradient is $[8 – 4xy^2\\quad-4x^2y]$.\n",
    "\n",
    "For the first row of the Hessian, derive both elements of the gradient with respect to $x$:\n",
    "\n",
    "$[\\color{red}{-4y^2\\quad-8xy}]$\n",
    "    \n",
    "For the second row, derive both elements of the gradient with respect to $y$:\n",
    "\n",
    "$[\\color{blue}{-8xy\\quad-4x^2}]$\n",
    "    \n",
    "This makes the final Hessian: \n",
    "\n",
    "$\\left[ \\begin{array}{cc}\n",
    "\\color{red}{-4y^2} & \\color{red}{-8xy} \\\\\n",
    "\\color{blue}{-8xy} & \\color{blue}{-4x^2} \\end{array} \\right]$\n",
    "\n",
    "### Problem A\n",
    "Given the gradient, find the Hessian:\n",
    "1. $[2x\\quad2y]$\n",
    "2. $[3x^2y – 4x \\quad x^3 – 4x + 3]$\n",
    "3. $[2x + y + z^3 \\quad x – 2   z^3]$\n",
    "4. $[4xy – 2xy^2 \\quad 2x^2 – 2x^2y]$"
   ]
  },
  {
   "cell_type": "raw",
   "metadata": {},
   "source": [
    "Your answers:\n",
    "1. \n",
    "2. \n",
    "3. \n",
    "4. "
   ]
  },
  {
   "cell_type": "code",
   "execution_count": null,
   "metadata": {
    "collapsed": true,
    "run_control": {
     "read_only": false
    }
   },
   "outputs": [],
   "source": [
    "revealable(ans409A)"
   ]
  },
  {
   "attachments": {},
   "cell_type": "markdown",
   "metadata": {
    "collapsed": true,
    "run_control": {
     "read_only": false
    }
   },
   "source": [
    "### Practice Problem B\n",
    "Recall that the _transpose_ of a matrix involves switching the rows and columns, such that the first row becomes the first column, second row becomes second column, and so on.\n",
    "\n",
    "Find the transpose of each of your Hessians in practice problem 1 and compare to the original Hessian. What do you notice? \n",
    "\n",
    "Matrices exhibiting this phenomenon are called _symmetric_. Hessians are always symmetric."
   ]
  },
  {
   "cell_type": "raw",
   "metadata": {},
   "source": [
    "Your answer:\n"
   ]
  },
  {
   "cell_type": "code",
   "execution_count": null,
   "metadata": {
    "collapsed": true,
    "run_control": {
     "read_only": false
    }
   },
   "outputs": [],
   "source": [
    "revealable(ans409B)"
   ]
  },
  {
   "attachments": {},
   "cell_type": "markdown",
   "metadata": {
    "collapsed": true,
    "run_control": {
     "read_only": false
    }
   },
   "source": [
    "### Practice Problem C\n",
    "\n",
    "Find the Hessian of each function and evaluate it at the given point.\n",
    "1. $f(x, y) = x^2y – 4x + 3y^2$  at $(1, 4)$\n",
    "2. $f(x, y) = x^3 – xy$ at $(0, -2)$\n",
    "3. $f(x, y, z) = 3x^2z + 2z – 4zy^2$  at $(3, -1, 2)$"
   ]
  },
  {
   "cell_type": "raw",
   "metadata": {},
   "source": [
    "Type your answers here\n",
    "1. \n",
    "2. \n",
    "3. "
   ]
  },
  {
   "cell_type": "code",
   "execution_count": null,
   "metadata": {
    "collapsed": true,
    "run_control": {
     "read_only": false
    }
   },
   "outputs": [],
   "source": [
    "revealable(ans409C)"
   ]
  }
 ],
 "metadata": {
  "kernelspec": {
   "display_name": "Julia 0.6.0",
   "language": "julia",
   "name": "julia-0.6"
  },
  "language_info": {
   "file_extension": ".jl",
   "mimetype": "application/julia",
   "name": "julia",
   "version": "0.6.0"
  }
 },
 "nbformat": 4,
 "nbformat_minor": 1
}
