{
 "cells": [
  {
   "cell_type": "markdown",
   "metadata": {
    "run_control": {
     "read_only": false
    }
   },
   "source": [
    "# 4-08 Applications of Gradients\n",
    "* Evaluating the Gradient at a Point\n",
    "* Meaning of the Gradient"
   ]
  },
  {
   "cell_type": "code",
   "execution_count": null,
   "metadata": {
    "collapsed": true,
    "run_control": {
     "read_only": false
    }
   },
   "outputs": [],
   "source": [
    "using Revealables\n",
    "include(\"files/answers.jl\")"
   ]
  },
  {
   "cell_type": "markdown",
   "metadata": {},
   "source": [
    "## Evaluating the Gradient\n",
    "In 1-variable calculus, the derivative gives you an equation for the slope at any $x$-value along $f(x)$. You can then plug in an $x$-value to find the actual slope at that point.\n"
   ]
  },
  {
   "cell_type": "markdown",
   "metadata": {},
   "source": [
    "## Graphical Meaning\n",
    "In 1-variable calculus, the derivative gives you an equation for the slope at any x-value along f(x). You can then plug in an x-value to find the actual slope at that point.\n",
    "\n",
    "<img src=\"files/4-8/4tangentslopes.png\" width=350 />\n",
    "\n",
    "Similarly, the gradient gives you an equation for the slope of the tangent plane at any point $(x, y)$ or $(x, y, z)$ or whatever. You can then plug in the actual values at any point to find the slope of the tangent plane at that point. \n",
    "\n",
    "The slope of the tangent plane will be written as a vector, composed of the slopes along each dimension.\n",
    "\n",
    "As an example, given the function $f(x, y) = 3x^2y – 2x$ and the point $(4, -3)$, the gradient can be calculated as:\n",
    "\n",
    "$[6xy – 2\\quad3x^2]$\n",
    "\n",
    "Plugging in the values of x and y at $(4, -3)$ gives\n",
    "\n",
    "$[-74\\quad48]$\n",
    "\n",
    "which is the value of the gradient at that point.\n",
    "\n",
    "### Practice Problem A\n",
    "Evaluate the gradient of $f(x, y) = x^2 + y^2$ at\n",
    "1. $(0, 0)$\n",
    "2. $(1, 3)$\n",
    "3. $(-1, -5)$"
   ]
  },
  {
   "cell_type": "raw",
   "metadata": {},
   "source": [
    "Your answers:\n",
    "1. \n",
    "2. \n",
    "3. "
   ]
  },
  {
   "cell_type": "code",
   "execution_count": null,
   "metadata": {
    "collapsed": true,
    "run_control": {
     "read_only": false
    }
   },
   "outputs": [],
   "source": [
    "revealable(ans408A)"
   ]
  },
  {
   "cell_type": "markdown",
   "metadata": {
    "collapsed": true,
    "run_control": {
     "read_only": false
    }
   },
   "source": [
    "### Practice Problem B\n",
    "Evaluate the gradient of $f(x, y, z) = x^3z – 2y^2x + 5z$ at\n",
    "1. $(1, 1, -4)$\n",
    "2. $(0, 1, 0)$\n",
    "3. $(-3, -2, 1)$"
   ]
  },
  {
   "cell_type": "raw",
   "metadata": {},
   "source": [
    "Your answers:\n",
    "1. \n",
    "2. \n",
    "3. "
   ]
  },
  {
   "cell_type": "code",
   "execution_count": null,
   "metadata": {
    "collapsed": true,
    "run_control": {
     "read_only": false
    }
   },
   "outputs": [],
   "source": [
    "revealable(ans408B)"
   ]
  },
  {
   "attachments": {},
   "cell_type": "markdown",
   "metadata": {
    "collapsed": true,
    "run_control": {
     "read_only": false
    }
   },
   "source": [
    "## Meaning of the Gradient\n",
    "In the previous example, the function $f(x, y) = 3x^2y – 2x$ had a gradient of $[6xy – 2\\quad3x^2]$, which at the point $(4, -3)$ came out to $[-74\\quad48]$.\n",
    "\n",
    "<img src=\"files/4-8/tangentplanes.png\" width=300 align=\"right\" />\n",
    "\n",
    "The tangent plane at that point will have a slope of <font color=\"#99cc66\">-74</font> in the $x$ direction and <font color=\"#0099cc\">+48</font> in the $y$ direction.\n",
    "\n",
    "It's a little hard to see the slopes because the graph is rotated for good viewing, such that both axes are going backwards from left to right. The $x$ slope is going down as $x$-values travel from negative to positive, and the $y$ slope is going up as $y$-values travel from negative to positive. Also, the scale from -800 to 500 makes these slopes appear shallower than the numbers indicate.\n",
    "\n",
    "Even more important is the vector itself, $[-74\\quad48]$.\n",
    "\n",
    "Here is the graph again, with the vector drawn in as a vector rather than two sloped lines:\n",
    "\n",
    "<img src=\"files/4-8/vectorongradient.png\" width=300 />\n",
    "\n",
    "Recall that vectors give us direction as well as magnitude. The <font color=\"#990000\">direction</font> of the gradient vector will always point in the direction of steepest increase for the function. (This can get confusing, because the slope of the plane at its steepest will be different from the slopes of the plane in both the $x$ and $y$ directions.)\n",
    "\n",
    "Also, the vector's <font color=\"#990000\">magnitude</font> will give us the slope of the plane in that direction.\n",
    "\n",
    "<img src=\"files/4-8/components.png\" width=200 align=\"left\" />\n",
    "\n",
    "That's a lot of different slopes!\n",
    "\n",
    "Each component of the gradient vector (<font color=\"#990000\">red</font> and <font color=\"#ff9933\">orange</font>) gives the slope in one dimension only.\n",
    "\n",
    "The <font color=\"#ffcc33\">magnitude</font> of the gradient vector gives the steepest possible slope of the plane. It's a little like getting up a mountain using switchbacks; both of the edge slopes are fairly shallow, but the slope of going directly up to the mountain peak is steep.\n",
    "\n",
    "Recall that the magnitude can be found using the Pythagorean Theorem, $c^2 = a^2 + b^2$, where $c$ is the magnitude and $a$ and $b$ are the components of the vector.\n",
    "\n",
    "### Practice Problem C\n",
    "\n",
    "Find the gradient of $f(x, y) = 2xy – 2y$, and the magnitude of the gradient, at:\n",
    "\n",
    "1. $(0, 0)$\n",
    "2. $(5, -3)$\n",
    "3. $(20, 10)$\n",
    "4. $(-5, 4)$\n",
    "\n",
    "5. Find where the gradient = 0."
   ]
  },
  {
   "cell_type": "raw",
   "metadata": {},
   "source": [
    "Type your answers here\n",
    "1. \n",
    "2. \n",
    "3. \n",
    "4. \n",
    "5. "
   ]
  },
  {
   "cell_type": "code",
   "execution_count": null,
   "metadata": {
    "collapsed": true,
    "run_control": {
     "read_only": false
    }
   },
   "outputs": [],
   "source": [
    "revealable(ans408C)"
   ]
  },
  {
   "attachments": {},
   "cell_type": "markdown",
   "metadata": {
    "collapsed": true,
    "run_control": {
     "read_only": false
    }
   },
   "source": [
    "### Practice Problem D\n",
    "\n",
    "Find the gradient of \n",
    "\t$f(x, y, z, w) = 3xy – 2xw + 5xz – 2yw$\n",
    "and the magnitude of the gradient at $(0, 1, -1, 2)$."
   ]
  },
  {
   "cell_type": "raw",
   "metadata": {},
   "source": [
    "Type your answers here\n",
    "Gradient: \n",
    "\n",
    "Magnitude: "
   ]
  },
  {
   "cell_type": "code",
   "execution_count": null,
   "metadata": {
    "collapsed": true,
    "run_control": {
     "read_only": false
    }
   },
   "outputs": [],
   "source": [
    "revealable(ans408D)"
   ]
  },
  {
   "attachments": {},
   "cell_type": "markdown",
   "metadata": {},
   "source": [
    "### Practice Problem E\n",
    "Suppose we are maximizing the function \n",
    "\t$f(x, y) = 4x + 2y – x^2 – 3y^2$\n",
    "In 1-4, find the gradient and its magnitude from \n",
    "1. $(1, 5)$\n",
    "2. $(3, -2)$\n",
    "3. $(2, 0)$\n",
    "4. $(-4, -6)$\n",
    "5. Find where the gradient is 0."
   ]
  },
  {
   "cell_type": "raw",
   "metadata": {},
   "source": [
    "Your answers:\n",
    "1. \n",
    "2. \n",
    "3. \n",
    "4. \n",
    "5. "
   ]
  },
  {
   "cell_type": "code",
   "execution_count": null,
   "metadata": {
    "collapsed": true,
    "run_control": {
     "read_only": false
    }
   },
   "outputs": [],
   "source": [
    "revealable(ans407E)"
   ]
  },
  {
   "attachments": {},
   "cell_type": "markdown",
   "metadata": {
    "collapsed": true,
    "run_control": {
     "read_only": false
    }
   },
   "source": [
    "### Practice Problem F\n",
    "Suppose you were trying to minimize $f(x, y) = x^2 + 2y + 2y^2$. Along what vector should you travel from $(5, 12)$?"
   ]
  },
  {
   "cell_type": "raw",
   "metadata": {
    "collapsed": true,
    "run_control": {
     "read_only": false
    }
   },
   "source": [
    "Your answer:\n"
   ]
  },
  {
   "cell_type": "code",
   "execution_count": null,
   "metadata": {
    "collapsed": true,
    "run_control": {
     "read_only": false
    }
   },
   "outputs": [],
   "source": [
    "revealable(ans408F)"
   ]
  }
 ],
 "metadata": {
  "kernelspec": {
   "display_name": "Julia 0.6.0",
   "language": "julia",
   "name": "julia-0.6"
  },
  "language_info": {
   "file_extension": ".jl",
   "mimetype": "application/julia",
   "name": "julia",
   "version": "0.6.0"
  }
 },
 "nbformat": 4,
 "nbformat_minor": 1
}
