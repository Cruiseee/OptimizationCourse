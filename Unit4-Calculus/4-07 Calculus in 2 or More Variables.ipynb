{
 "cells": [
  {
   "cell_type": "markdown",
   "metadata": {
    "run_control": {
     "read_only": false
    }
   },
   "source": [
    "# 4-7 Calculus in 2 or More Variables\n",
    "* graphical meaning\n",
    "* calculating a gradient"
   ]
  },
  {
   "cell_type": "code",
   "execution_count": null,
   "metadata": {
    "run_control": {
     "read_only": false
    }
   },
   "outputs": [],
   "source": [
    "using Revealables\n",
    "include(\"files/answers.jl\")"
   ]
  },
  {
   "cell_type": "markdown",
   "metadata": {},
   "source": [
    "## First, a Note on Variables\n",
    "While you're learning how to do these calculations for the first time, variables will be written as $x$, $y$, $z$ instead of $x_1$, $x_2$, $x_3$ because it's a lot less confusing. However, be aware that in the \"real world,\" subscripts are more commonly used."
   ]
  },
  {
   "cell_type": "markdown",
   "metadata": {},
   "source": [
    "## Graphical Meaning\n",
    "Functions in 2 variables can be graphed in 3 dimensions:\n",
    "\n",
    "<img src=\"files/4-7/gradient.png\" width=250 />\n",
    "\n",
    "At each point on this graph, there is a slope; unlike calculus in 2 dimensions the slope is determined not by a line but by a plane.\n",
    "\n",
    "Are there any locations on this graph where the slope appears to be zero? What does that mean?"
   ]
  },
  {
   "cell_type": "code",
   "execution_count": null,
   "metadata": {
    "run_control": {
     "read_only": false
    }
   },
   "outputs": [],
   "source": [
    "revealable(zeroslope)"
   ]
  },
  {
   "attachments": {},
   "cell_type": "markdown",
   "metadata": {
    "collapsed": true,
    "run_control": {
     "read_only": false
    }
   },
   "source": [
    "There are many ways to define the slope of a plane. One of them is to use a pair of slopes, $z/x$ and $z/y$, where $z$ is the vertical dimension and $x$ and $y$ are the two nonvertical dimensions. \n",
    "<img src=\"files/4-7/planeslope.png\" width=300 />\n",
    "\n",
    "Those slopes are based on the slope triangles and assuming the scales are the same in all directions.\n",
    "\n",
    "Note that any plane can be determined by these two pieces of information. If you try using two pieces of cardboard or stiff paper, you can convince yourself that a plane of any slope can be built with only two rotational adjustments (ignoring translations for now). Another good analogy is the human hand, which can mimic almost any plane using only two rotations: radial rotation around the wrist and flexing back and forward at the wrist. \n",
    "\n",
    "It might also be easier to see the reverse, that a plane of any slope can be decomposed to flat with only two rotations."
   ]
  },
  {
   "attachments": {},
   "cell_type": "markdown",
   "metadata": {
    "collapsed": true,
    "run_control": {
     "read_only": false
    }
   },
   "source": [
    "The graph below shows a plane with a slope of 2 in one dimension and a slope of 0 in the other.\n",
    "\n",
    "<img src=\"files/4-7/plane1.png\" width=300 />\n",
    "\n",
    "The next graph below shows a plane with a slope of 1 in one dimension and a slope of 2 in the other.\n",
    "\n",
    "<img src=\"files/4-7/plane2.png\" width=300 />\n",
    "\n",
    "So when we do calculus on 3D graphs, we’re no longer looking for the slope of one line...\n",
    "\n",
    "\n",
    "<img src=\"files/4-7/1varderiv.png\" width=300 />\n",
    "\n",
    "...we're looking for the slopes of two lines.\n",
    "\n",
    "\n",
    "<img src=\"files/4-7/2varderiv.png\" width=300 />\n",
    "\n",
    "## Finding the Gradient\n",
    "The derivative in multiple dimensions is so different it has its own name: <font color=\"#990000\">gradient</font>.\n",
    "\n",
    "When finding a gradient, we use a concept addressed in an earlier unit, of dealing with a 3D graph one cross-section at a time.\n",
    "\n",
    "<img src=\"files/4-7/gradientwsections.png\" width=300 />\n",
    "\n",
    "The method we used in the second unit, called <font color=\"#990000\">cyclic coordinate search</font>, isolated each variable in turn by substituting constants for the other variables. \n",
    "\n",
    "Then the function was minimized for the remaining variable and the process repeated.\n",
    "\n",
    "Finding a gradient is pretty much the same.\n",
    "\n",
    "### Practice Problem A\n",
    "\n",
    "Consider the function:\n",
    "\n",
    "$f(x, y, z) = 2x^2 + 3xy + 2z^2y – 4xyz$\n",
    "\n",
    "Rewrite this function substituting\n",
    "\n",
    "1. $x = 2$, $y = 4$\n",
    "2. $x = -1$, $z = 3$\n",
    "3. $y = -2$, $z = 100$\n",
    "4. $x = 3$, $y = 2$, $z = -8$"
   ]
  },
  {
   "cell_type": "raw",
   "metadata": {},
   "source": [
    "Type your answers here\n",
    "1. \n",
    "2. \n",
    "3. \n",
    "4. "
   ]
  },
  {
   "cell_type": "code",
   "execution_count": null,
   "metadata": {
    "collapsed": true,
    "run_control": {
     "read_only": false
    }
   },
   "outputs": [],
   "source": [
    "revealable(ans407A)"
   ]
  },
  {
   "attachments": {},
   "cell_type": "markdown",
   "metadata": {
    "collapsed": true,
    "run_control": {
     "read_only": false
    }
   },
   "source": [
    "### Practice Problem B\n",
    "\n",
    "For each of your answers above, find the derivative of each function with respect to the remaining variable."
   ]
  },
  {
   "cell_type": "raw",
   "metadata": {},
   "source": [
    "Type your answers here\n",
    "1. \n",
    "2. \n",
    "3. \n",
    "4. "
   ]
  },
  {
   "cell_type": "code",
   "execution_count": null,
   "metadata": {
    "collapsed": true,
    "run_control": {
     "read_only": false
    }
   },
   "outputs": [],
   "source": [
    "revealable(ans407B)"
   ]
  },
  {
   "cell_type": "markdown",
   "metadata": {},
   "source": [
    "### Practice Problem C\n",
    "Consider the function \n",
    "$f(x, y) = x^3 + 2x^2y – 3xy^2 + 8$\n",
    "\n",
    "Find the derivative with respect to $x$ if:\n",
    "1. $y = 2$\n",
    "2. $y = 1$\n",
    "3. $y = 100$\n",
    "4. $y$ is unknown, but a constant\n",
    "\n",
    "Find the derivative with respect to $y$ if:\n",
    "5. $x = 4$\n",
    "6. $x = -2$\n",
    "7. $x$ is unknown, but a constant"
   ]
  },
  {
   "cell_type": "raw",
   "metadata": {},
   "source": [
    "Derivatives with respect to x:\n",
    "1. \n",
    "2. \n",
    "3. \n",
    "4. \n",
    "\n",
    "Derivatives with respect to y:\n",
    "1. \n",
    "2. \n",
    "3. "
   ]
  },
  {
   "cell_type": "code",
   "execution_count": null,
   "metadata": {
    "collapsed": true
   },
   "outputs": [],
   "source": [
    "revealable(ans407C)"
   ]
  },
  {
   "attachments": {},
   "cell_type": "markdown",
   "metadata": {
    "collapsed": true,
    "run_control": {
     "read_only": false
    }
   },
   "source": [
    "## Finding the Gradient\n",
    "\n",
    "When finding the gradient of a function $f$ in two variables, the procedure is:\n",
    "1. Derive with respect to the first variable, treating the second as a constant\n",
    "2. Derive with respect to the second variable, treating the first as a constant\n",
    "3. Write the result as a vector $\\big[\\frac{df}{dx} \\quad \\frac{df}{dy}\\big]$. These are called the <font color=\"#990000\">partial derivatives</font> of $f$.\n",
    "\n",
    "So, if the function was $f(x, y) = x^2 + 3xy – y^3$, \n",
    "* the derivative with respect to $x$ ($y$ is constant) is: $2x + 3y$\n",
    "* the derivative with respect to $y$ ($x$ is constant) is: $3x – 3y^2$\n",
    "\n",
    "Therefore the gradient is $[2x + 3y\\quad3x – 3y^2]$.\n",
    "\n",
    "### Practice Problem D\n",
    "Find the gradient of:\n",
    "1. $f(x, y) = 3x^2 + 4xy^2 – 2y + 7$\n",
    "\n",
    "2. $f(x, y) = 7x^4 + 8y^3 – 3x^2y^2 + 12y$\n",
    "\n",
    "3. $f(x, y) = x^2 + y^2$\n",
    "\n",
    "4. $f(x, y) = 12xy$"
   ]
  },
  {
   "cell_type": "raw",
   "metadata": {
    "collapsed": true,
    "run_control": {
     "read_only": false
    }
   },
   "source": [
    "Write your answers here.\n",
    "1. \n",
    "2. \n",
    "3. \n",
    "4. "
   ]
  },
  {
   "cell_type": "code",
   "execution_count": null,
   "metadata": {
    "collapsed": true
   },
   "outputs": [],
   "source": [
    "revealable(ans407D)"
   ]
  },
  {
   "attachments": {},
   "cell_type": "markdown",
   "metadata": {
    "collapsed": true,
    "run_control": {
     "read_only": false
    }
   },
   "source": [
    "## Gradients Beyond 3D\n",
    "The gradient in more variables is found in much the same way:\n",
    "1. Derive with respect to the first variable, treating _all_ others as constants\n",
    "2. Repeat for all other variables\n",
    "3. Write the resulting partial derivatives as a vector.\n",
    "\n",
    "### Practice Problem E\n",
    "1. Find the gradient of $f(x, y, z) = 2x^2 + 3xy + 2z^2y – 4xyz$\n",
    "\n",
    "2. Find the gradient of $f(x, y, z, w) = 2xy + 4yz – 3yz^2w$"
   ]
  },
  {
   "cell_type": "raw",
   "metadata": {},
   "source": [
    "Your Answers:\n",
    "1. \n",
    "2. "
   ]
  },
  {
   "cell_type": "code",
   "execution_count": null,
   "metadata": {
    "collapsed": true
   },
   "outputs": [],
   "source": [
    "revealable(ans407E)"
   ]
  }
 ],
 "metadata": {
  "kernelspec": {
   "display_name": "Julia 0.6.0",
   "language": "julia",
   "name": "julia-0.6"
  },
  "language_info": {
   "file_extension": ".jl",
   "mimetype": "application/julia",
   "name": "julia",
   "version": "0.6.0"
  }
 },
 "nbformat": 4,
 "nbformat_minor": 1
}
