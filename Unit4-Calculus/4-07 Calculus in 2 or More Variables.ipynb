{
 "cells": [
  {
   "cell_type": "markdown",
   "metadata": {
    "run_control": {
     "read_only": false
    }
   },
   "source": [
    "# 4-7 Calculus in 2 or More Variables\n",
    "* graphical meaning\n",
    "* calculating a gradient"
   ]
  },
  {
   "cell_type": "code",
   "execution_count": 2,
   "metadata": {
    "run_control": {
     "read_only": false
    }
   },
   "outputs": [
    {
     "name": "stderr",
     "output_type": "stream",
     "text": [
      "\n",
      "WARNING: deprecated syntax \"abstract Widget\" at /Users/rtrochet/.julia/v0.6/Interact/src/Interact.jl:12.\n",
      "Use \"abstract type Widget end\" instead.\n",
      "\n",
      "WARNING: deprecated syntax \"abstract InputWidget{T}<:Widget\" at /Users/rtrochet/.julia/v0.6/Interact/src/Interact.jl:15.\n",
      "Use \"abstract type InputWidget{T}<:Widget end\" instead.\n",
      "\u001b[1m\u001b[36mINFO: \u001b[39m\u001b[22m\u001b[36mPrecompiling module Interact.\n",
      "\u001b[39m\n",
      "WARNING: deprecated syntax \"abstract Widget\" at /Users/rtrochet/.julia/v0.6/Interact/src/Interact.jl:12.\n",
      "Use \"abstract type Widget end\" instead.\n",
      "\n",
      "WARNING: deprecated syntax \"abstract InputWidget{T}<:Widget\" at /Users/rtrochet/.julia/v0.6/Interact/src/Interact.jl:15.\n",
      "Use \"abstract type InputWidget{T}<:Widget end\" instead.\n",
      "\n",
      "WARNING: deprecated syntax \"abstract WidgetMod<:Widget\" at /Users/rtrochet/.julia/v0.6/Interact/src/compose.jl:4.\n",
      "Use \"abstract type WidgetMod<:Widget end\" instead.\n",
      "\n",
      "WARNING: deprecated syntax \"abstract Container<:Widget\" at /Users/rtrochet/.julia/v0.6/Interact/src/compose.jl:28.\n",
      "Use \"abstract type Container<:Widget end\" instead.\n"
     ]
    },
    {
     "data": {
      "text/html": [
       "<div id=\"interact-js-shim\">\n",
       "    <script charset=\"utf-8\">\n",
       "(function (IPython, $, _, MathJax) {\n",
       "    $.event.special.destroyed = {\n",
       "\tremove: function(o) {\n",
       "\t    if (o.handler) {\n",
       "\t\to.handler.apply(this, arguments)\n",
       "\t    }\n",
       "\t}\n",
       "    }\n",
       "\n",
       "    var OutputArea = IPython.version >= \"4.0.0\" ? require(\"notebook/js/outputarea\").OutputArea : IPython.OutputArea;\n",
       "\n",
       "    var redrawValue = function (container, type, val) {\n",
       "\tvar selector = $(\"<div/>\");\n",
       "\tvar oa = new OutputArea(_.extend(selector, {\n",
       "\t    selector: selector,\n",
       "\t    prompt_area: true,\n",
       "\t    events: IPython.events,\n",
       "\t    keyboard_manager: IPython.keyboard_manager\n",
       "\t})); // Hack to work with IPython 2.1.0\n",
       "\n",
       "\tswitch (type) {\n",
       "\tcase \"image/png\":\n",
       "            var _src = 'data:' + type + ';base64,' + val;\n",
       "\t    $(container).find(\"img\").attr('src', _src);\n",
       "\t    break;\n",
       "\tcase \"text/latex\":\n",
       "\t\tif (MathJax){\n",
       "\t\t\tvar math = MathJax.Hub.getAllJax(container)[0];\n",
       "\t\t\tMathJax.Hub.Queue([\"Text\", math, val.replace(/^\\${1,2}|\\${1,2}$/g, '')]);\n",
       "\t\t\tbreak;\n",
       "\t\t}\n",
       "\tdefault:\n",
       "\t    var toinsert = OutputArea.append_map[type].apply(\n",
       "\t\toa, [val, {}, selector]\n",
       "\t    );\n",
       "\t    $(container).empty().append(toinsert.contents());\n",
       "\t    selector.remove();\n",
       "\t}\n",
       "    }\n",
       "\n",
       "\n",
       "    $(document).ready(function() {\n",
       "\tfunction initComm(evt, data) {\n",
       "\t    var comm_manager = data.kernel.comm_manager;\n",
       "        //_.extend(comm_manager.targets, require(\"widgets/js/widget\"))\n",
       "\t    comm_manager.register_target(\"Signal\", function (comm) {\n",
       "            comm.on_msg(function (msg) {\n",
       "                var val = msg.content.data.value;\n",
       "                $(\".signal-\" + comm.comm_id).each(function() {\n",
       "                var type = $(this).data(\"type\");\n",
       "                if (typeof(val[type]) !== \"undefined\" && val[type] !== null) {\n",
       "                    redrawValue(this, type, val[type], type);\n",
       "                }\n",
       "                });\n",
       "                delete val;\n",
       "                delete msg.content.data.value;\n",
       "            });\n",
       "\t    });\n",
       "\n",
       "\t    // coordingate with Comm and redraw Signals\n",
       "\t    // XXX: Test using Reactive here to improve performance\n",
       "\t    $([IPython.events]).on(\n",
       "\t\t'output_appended.OutputArea', function (event, type, value, md, toinsert) {\n",
       "\t\t    if (md && md.reactive) {\n",
       "                // console.log(md.comm_id);\n",
       "                toinsert.addClass(\"signal-\" + md.comm_id);\n",
       "                toinsert.data(\"type\", type);\n",
       "                // Signal back indicating the mimetype required\n",
       "                var comm_manager = IPython.notebook.kernel.comm_manager;\n",
       "                var comm = comm_manager.comms[md.comm_id];\n",
       "                comm.then(function (c) {\n",
       "                    c.send({action: \"subscribe_mime\",\n",
       "                       mime: type});\n",
       "                    toinsert.bind(\"destroyed\", function() {\n",
       "                        c.send({action: \"unsubscribe_mime\",\n",
       "                               mime: type});\n",
       "                    });\n",
       "                })\n",
       "\t\t    }\n",
       "\t    });\n",
       "\t}\n",
       "\n",
       "\ttry {\n",
       "\t    // try to initialize right away. otherwise, wait on the status_started event.\n",
       "\t    initComm(undefined, IPython.notebook);\n",
       "\t} catch (e) {\n",
       "\t    $([IPython.events]).on('kernel_created.Kernel kernel_created.Session', initComm);\n",
       "\t}\n",
       "    });\n",
       "})(IPython, jQuery, _, MathJax);\n",
       "</script>\n",
       "    <script>\n",
       "        window.interactLoadedFlag = true\n",
       "       $(\"#interact-js-shim\").bind(\"destroyed\", function () {\n",
       "           if (window.interactLoadedFlag) {\n",
       "               console.warn(\"JavaScript required by Interact will be removed if you remove this cell or run using Interact more than once.\")\n",
       "           }\n",
       "       })\n",
       "       $([IPython.events]).on(\"kernel_starting.Kernel kernel_restarting.Kernel\", function () { window.interactLoadedFlag = false })\n",
       "   </script>\n",
       "</div>"
      ]
     },
     "metadata": {},
     "output_type": "display_data"
    },
    {
     "name": "stderr",
     "output_type": "stream",
     "text": [
      "WARNING: could not import Base.writemime into Revealables\n",
      "WARNING: Compat.ASCIIString is deprecated, use String instead.\n",
      "  likely near /Users/rtrochet/.julia/v0.6/Revealables/src/Revealables.jl:16\n",
      "WARNING: Compat.ASCIIString is deprecated, use String instead.\n",
      "  likely near /Users/rtrochet/.julia/v0.6/Revealables/src/Revealables.jl:16\n",
      "WARNING: Compat.ASCIIString is deprecated, use String instead.\n",
      "  likely near /Users/rtrochet/.julia/v0.6/Revealables/src/Revealables.jl:16\n",
      "WARNING: Compat.ASCIIString is deprecated, use String instead.\n",
      "  likely near /Users/rtrochet/.julia/v0.6/Revealables/src/Revealables.jl:16\n",
      "WARNING: Compat.ASCIIString is deprecated, use String instead.\n",
      "  likely near /Users/rtrochet/.julia/v0.6/Revealables/src/Revealables.jl:16\n",
      "WARNING: Compat.ASCIIString is deprecated, use String instead.\n",
      "  likely near /Users/rtrochet/.julia/v0.6/Revealables/src/Revealables.jl:23\n",
      "WARNING: Compat.ASCIIString is deprecated, use String instead.\n",
      "  likely near /Users/rtrochet/.julia/v0.6/Revealables/src/Revealables.jl:23\n",
      "WARNING: Compat.ASCIIString is deprecated, use String instead.\n",
      "  likely near /Users/rtrochet/.julia/v0.6/Revealables/src/Revealables.jl:23\n",
      "WARNING: Compat.ASCIIString is deprecated, use String instead.\n",
      "  likely near /Users/rtrochet/.julia/v0.6/Revealables/src/Revealables.jl:23\n",
      "WARNING: Compat.ASCIIString is deprecated, use String instead.\n",
      "  likely near /Users/rtrochet/.julia/v0.6/Revealables/src/Revealables.jl:23\n",
      "WARNING: Compat.ASCIIString is deprecated, use String instead.\n",
      "  likely near /Users/rtrochet/.julia/v0.6/Revealables/src/Revealables.jl:23\n",
      "WARNING: Compat.ASCIIString is deprecated, use String instead.\n",
      "  likely near /Users/rtrochet/.julia/v0.6/Revealables/src/Revealables.jl:23\n",
      "WARNING: Compat.ASCIIString is deprecated, use String instead.\n",
      "  likely near /Users/rtrochet/.julia/v0.6/Revealables/src/Revealables.jl:25\n",
      "WARNING: Compat.ASCIIString is deprecated, use String instead.\n",
      "  likely near /Users/rtrochet/.julia/v0.6/Revealables/src/Revealables.jl:25\n",
      "WARNING: Compat.ASCIIString is deprecated, use String instead.\n",
      "  likely near /Users/rtrochet/.julia/v0.6/Revealables/src/Revealables.jl:30\n",
      "WARNING: Compat.ASCIIString is deprecated, use String instead.\n",
      "  likely near /Users/rtrochet/.julia/v0.6/Revealables/src/Revealables.jl:30\n",
      "WARNING: Compat.ASCIIString is deprecated, use String instead.\n",
      "  likely near /Users/rtrochet/.julia/v0.6/Revealables/src/Revealables.jl:30\n",
      "WARNING: Compat.ASCIIString is deprecated, use String instead.\n",
      "  likely near /Users/rtrochet/.julia/v0.6/Revealables/src/Revealables.jl:43\n",
      "WARNING: Compat.ASCIIString is deprecated, use String instead.\n",
      "  likely near /Users/rtrochet/.julia/v0.6/Revealables/src/Revealables.jl:55\n",
      "WARNING: Compat.ASCIIString is deprecated, use String instead.\n",
      "  likely near /Users/rtrochet/.julia/v0.6/Revealables/src/Revealables.jl:66\n",
      "WARNING: Compat.ASCIIString is deprecated, use String instead.\n",
      "  likely near /Users/rtrochet/.julia/v0.6/Revealables/src/Revealables.jl:71\n",
      "WARNING: Compat.ASCIIString is deprecated, use String instead.\n",
      "  likely near /Users/rtrochet/.julia/v0.6/Revealables/src/Revealables.jl:82\n",
      "WARNING: Compat.ASCIIString is deprecated, use String instead.\n",
      "  likely near /Users/rtrochet/Documents/optimization/Unit4-Calculus/files/answers.jl:7\n",
      "WARNING: Compat.ASCIIString is deprecated, use String instead.\n",
      "  likely near /Users/rtrochet/Documents/optimization/Unit4-Calculus/files/answers.jl:7\n",
      "WARNING: Compat.ASCIIString is deprecated, use String instead.\n",
      "  likely near /Users/rtrochet/Documents/optimization/Unit4-Calculus/files/answers.jl:7\n",
      "WARNING: Compat.ASCIIString is deprecated, use String instead.\n",
      "  likely near /Users/rtrochet/Documents/optimization/Unit4-Calculus/files/answers.jl:7\n",
      "WARNING: Compat.ASCIIString is deprecated, use String instead.\n",
      "  likely near /Users/rtrochet/Documents/optimization/Unit4-Calculus/files/answers.jl:7\n",
      "WARNING: Compat.ASCIIString is deprecated, use String instead.\n",
      "  likely near /Users/rtrochet/Documents/optimization/Unit4-Calculus/files/answers.jl:7\n"
     ]
    },
    {
     "data": {
      "text/plain": [
       "Revealables.Revealable(\"###Answer C\\n1. You should get close to the actual minimum at z = 2, y = 4, x = 0\\n\\n2. This was kind of mean. Although with the simple functions we've been using as examples it seems \\\"easier\\\" to use calculus to minimize, it can get really ugly really fast. At some point the programs take over.\\n\\nAnyway:\\n\\ngradient = [10x + 6z - 12     2y - 4z    6x - 4y + 14z - 12]\\n\\nThis system of equations does, indeed, equal 0 at (0, 4, 2).\\n\\nHessian: [10  0  6; 0  2  -4; 6 -4 14]. Eigenvalues are all positive, confirming that it is positive definite/concave up, therefore (0, 4, 2) is a minimum. Yuck!!!\\n\\nMy 3d program here:\\n<code>\\nfunction conjgrad3(f, x1, x2, x3)  # x1 through x3 are values of the initial point\\n    g = gradient(x -> f(x[1], x[2], x[3]))\\n    v1 = -g([x1, x2, x3]  # returns the negative gradient as motion vector v\\n    for n in 1:20\\n        test(a) = f((x1 + a\\\\*v1[1]), (x2 + a\\\\*v1[2]), (x3 + a\\\\*v[3]))  # cross section of f in direction of vector v/scalar a\\n        a = fibmin(test, -10, 10) # scalar a shouldn't be too big, esp as vector v is not normalized\\n        x1 = x1 + a\\\\*v1[1] # forms new point from old + scalar\\\\*vector\\n        x2 = x2 + a\\\\*v1[2]\\n        x3 = x3 + a\\\\*v1[3]\\n        v2 = -g([x1, x2, x3])  # neg gradient at new point becomes temp motion vector (pre-nudge)\\n        s = dot(v2,v2)/dot(v1,v1)  # calculate scalar/nudge factor s\\n        v2 = v2 + s\\\\*v1  # replace temporary motion vector with post-nudged motion vector\\n        v1 = v2  # rename v2 as v1 for the benefit of the loop\\n        println(\\\"\\$x1, \\$x2, \\$x3\\\")\\n    end\\nend\\n</code>\\n\", \"Answer\", false, false)"
      ]
     },
     "execution_count": 2,
     "metadata": {},
     "output_type": "execute_result"
    }
   ],
   "source": [
    "using Revealables\n",
    "include(\"files/answers.jl\")"
   ]
  },
  {
   "cell_type": "markdown",
   "metadata": {},
   "source": [
    "## First, a Note on Variables\n",
    "While you're learning how to do these calculations for the first time, variables will be written as $x$, $y$, $z$ instead of $x_1$, $x_2$, $x_3$ because it's a lot less confusing. However, be aware that in the \"real world,\" subscripts are more commonly used."
   ]
  },
  {
   "cell_type": "markdown",
   "metadata": {},
   "source": [
    "## Graphical Meaning\n",
    "Functions in 2 variables can be graphed in 3 dimensions:\n",
    "\n",
    "<img src=\"files/4-7/gradient.png\" width=250 />\n",
    "\n",
    "At each point on this graph, there is a slope; unlike calculus in 2 dimensions the slope is determined not by a line but by a plane.\n",
    "\n",
    "Are there any locations on this graph where the slope appears to be zero? What does that mean?"
   ]
  },
  {
   "cell_type": "code",
   "execution_count": 3,
   "metadata": {
    "run_control": {
     "read_only": false
    }
   },
   "outputs": [
    {
     "data": {
      "text/html": [],
      "text/plain": [
       "Interact.ToggleButton(1: \"input\" = false Bool , \"Answer\", false)"
      ]
     },
     "metadata": {},
     "output_type": "display_data"
    },
    {
     "name": "stderr",
     "output_type": "stream",
     "text": [
      "WARNING: Reactive.Input is deprecated, use Reactive.Signal{T} where T instead.\n",
      "  likely near In[3]:1\n",
      "WARNING: Reactive.Input is deprecated, use Reactive.Signal{T} where T instead.\n",
      "  likely near In[3]:1\n",
      "WARNING: Reactive.Input is deprecated, use Reactive.Signal{T} where T instead.\n",
      "  likely near In[3]:1\n",
      "WARNING: Reactive.Input is deprecated, use Reactive.Signal{T} where T instead.\n",
      "  likely near In[3]:1\n",
      "WARNING: Reactive.Input is deprecated, use Reactive.Signal{T} where T instead.\n",
      "  likely near In[3]:1\n",
      "WARNING: Compat.ASCIIString is deprecated, use String instead.\n",
      "  likely near /Users/rtrochet/.julia/v0.6/IJulia/src/kernel.jl:31\n"
     ]
    },
    {
     "data": {
      "text/plain": [
       "Revealables.Revealable(\"The minimum point has a “slope” of zero. Notice that every line on the plane has a slope of zero at that point.\\n\", \"Answer\", false, false)"
      ]
     },
     "execution_count": 3,
     "metadata": {
      "comm_id": "3c307b7d-3ec7-4949-8994-e02b4bda3c25",
      "reactive": true
     },
     "output_type": "execute_result"
    },
    {
     "name": "stderr",
     "output_type": "stream",
     "text": [
      "WARNING: Compat.ASCIIString is deprecated, use String instead.\n",
      "  likely near /Users/rtrochet/.julia/v0.6/IJulia/src/kernel.jl:31\n",
      "WARNING: Compat.ASCIIString is deprecated, use String instead.\n",
      "  likely near /Users/rtrochet/.julia/v0.6/IJulia/src/kernel.jl:31\n"
     ]
    }
   ],
   "source": [
    "revealable(zeroslope)"
   ]
  },
  {
   "attachments": {},
   "cell_type": "markdown",
   "metadata": {
    "collapsed": true,
    "run_control": {
     "read_only": false
    }
   },
   "source": [
    "There are many ways to define the slope of a plane. One of them is to use a pair of slopes, $z/x$ and $z/y$, where $z$ is the vertical dimension and $x$ and $y$ are the two nonvertical dimensions. \n",
    "<img src=\"files/4-7/planeslope.png\" width=300 />\n",
    "\n",
    "Those slopes are based on the slope triangles and assuming the scales are the same in all directions.\n",
    "\n",
    "Note that any plane can be determined by these two pieces of information. If you try using two pieces of cardboard or stiff paper, you can convince yourself that a plane of any slope can be built with only two rotational adjustments (ignoring translations for now). Another good analogy is the human hand, which can mimic almost any plane using only two rotations: radial rotation around the wrist and flexing back and forward at the wrist. \n",
    "\n",
    "It might also be easier to see the reverse, that a plane of any slope can be decomposed to flat with only two rotations."
   ]
  },
  {
   "attachments": {},
   "cell_type": "markdown",
   "metadata": {
    "collapsed": true,
    "run_control": {
     "read_only": false
    }
   },
   "source": [
    "The graph below shows a plane with a slope of 2 in one dimension and a slope of 0 in the other.\n",
    "\n",
    "<img src=\"files/4-7/plane1.png\" width=300 />\n",
    "\n",
    "The next graph below shows a plane with a slope of 1 in one dimension and a slope of 2 in the other.\n",
    "\n",
    "<img src=\"files/4-7/plane2.png\" width=300 />\n",
    "\n",
    "So when we do calculus on 3D graphs, we’re no longer looking for the slope of one line...\n",
    "\n",
    "\n",
    "<img src=\"files/4-7/1varderiv.png\" width=300 />\n",
    "\n",
    "...we're looking for the slopes of two lines.\n",
    "\n",
    "\n",
    "<img src=\"files/4-7/2varderiv.png\" width=300 />\n",
    "\n",
    "## Finding the Gradient\n",
    "The derivative in multiple dimensions is so different it has its own name: <font color=\"#990000\">gradient</font>.\n",
    "\n",
    "When finding a gradient, we use a concept addressed in an earlier unit, of dealing with a 3D graph one cross-section at a time.\n",
    "\n",
    "<img src=\"files/4-7/gradientwsections.png\" width=300 />\n",
    "\n",
    "The method we used in the second unit, called <font color=\"#990000\">cyclic coordinate search</font>, isolated each variable in turn by substituting constants for the other variables. \n",
    "\n",
    "Then the function was minimized for the remaining variable and the process repeated.\n",
    "\n",
    "Finding a gradient is pretty much the same.\n",
    "\n",
    "### Practice Problem A\n",
    "\n",
    "Consider the function:\n",
    "\n",
    "$f(x, y, z) = 2x^2 + 3xy + 2z^2y – 4xyz$\n",
    "\n",
    "Rewrite this function substituting\n",
    "\n",
    "1. $x = 2$, $y = 4$\n",
    "2. $x = -1$, $z = 3$\n",
    "3. $y = -2$, $z = 100$\n",
    "4. $x = 3$, $y = 2$, $z = -8$"
   ]
  },
  {
   "cell_type": "raw",
   "metadata": {},
   "source": [
    "Type your answers here\n",
    "1. \n",
    "2. \n",
    "3. \n",
    "4. "
   ]
  },
  {
   "cell_type": "code",
   "execution_count": null,
   "metadata": {
    "collapsed": true,
    "run_control": {
     "read_only": false
    }
   },
   "outputs": [],
   "source": [
    "revealable(ans407A)"
   ]
  },
  {
   "attachments": {},
   "cell_type": "markdown",
   "metadata": {
    "collapsed": true,
    "run_control": {
     "read_only": false
    }
   },
   "source": [
    "### Practice Problem B\n",
    "\n",
    "For each of your answers above, find the derivative of each function with respect to the remaining variable."
   ]
  },
  {
   "cell_type": "raw",
   "metadata": {},
   "source": [
    "Type your answers here\n",
    "1. \n",
    "2. \n",
    "3. \n",
    "4. "
   ]
  },
  {
   "cell_type": "code",
   "execution_count": null,
   "metadata": {
    "collapsed": true,
    "run_control": {
     "read_only": false
    }
   },
   "outputs": [],
   "source": [
    "revealable(ans407B)"
   ]
  },
  {
   "cell_type": "markdown",
   "metadata": {},
   "source": [
    "### Practice Problem C\n",
    "Consider the function \n",
    "$f(x, y) = x^3 + 2x^2y – 3xy^2 + 8$\n",
    "\n",
    "Find the derivative with respect to $x$ if:\n",
    "1. $y = 2$\n",
    "2. $y = 1$\n",
    "3. $y = 100$\n",
    "4. $y$ is unknown, but a constant\n",
    "\n",
    "Find the derivative with respect to $y$ if:\n",
    "5. $x = 4$\n",
    "6. $x = -2$\n",
    "7. $x$ is unknown, but a constant"
   ]
  },
  {
   "cell_type": "raw",
   "metadata": {},
   "source": [
    "Derivatives with respect to x:\n",
    "1. \n",
    "2. \n",
    "3. \n",
    "4. \n",
    "\n",
    "Derivatives with respect to y:\n",
    "1. \n",
    "2. \n",
    "3. "
   ]
  },
  {
   "cell_type": "code",
   "execution_count": null,
   "metadata": {
    "collapsed": true
   },
   "outputs": [],
   "source": [
    "revealable(ans407C)"
   ]
  },
  {
   "attachments": {},
   "cell_type": "markdown",
   "metadata": {
    "collapsed": true,
    "run_control": {
     "read_only": false
    }
   },
   "source": [
    "## Finding the Gradient\n",
    "\n",
    "When finding the gradient of a function $f$ in two variables, the procedure is:\n",
    "1. Derive with respect to the first variable, treating the second as a constant\n",
    "2. Derive with respect to the second variable, treating the first as a constant\n",
    "3. Write the result as a vector $\\big[\\frac{df}{dx} \\quad \\frac{df}{dy}\\big]$. These are called the <font color=\"#990000\">partial derivatives</font> of $f$.\n",
    "\n",
    "So, if the function was $f(x, y) = x^2 + 3xy – y^3$, \n",
    "* the derivative with respect to $x$ ($y$ is constant) is: $2x + 3y$\n",
    "* the derivative with respect to $y$ ($x$ is constant) is: $3x – 3y^2$\n",
    "\n",
    "Therefore the gradient is $[2x + 3y\\quad3x – 3y^2]$.\n",
    "\n",
    "### Practice Problem D\n",
    "Find the gradient of:\n",
    "1. $f(x, y) = 3x^2 + 4xy^2 – 2y + 7$\n",
    "\n",
    "2. $f(x, y) = 7x^4 + 8y^3 – 3x^2y^2 + 12y$\n",
    "\n",
    "3. $f(x, y) = x^2 + y^2$\n",
    "\n",
    "4. $f(x, y) = 12xy$"
   ]
  },
  {
   "cell_type": "raw",
   "metadata": {
    "collapsed": true,
    "run_control": {
     "read_only": false
    }
   },
   "source": [
    "Write your answers here.\n",
    "1. \n",
    "2. \n",
    "3. \n",
    "4. "
   ]
  },
  {
   "cell_type": "code",
   "execution_count": null,
   "metadata": {
    "collapsed": true
   },
   "outputs": [],
   "source": [
    "revealable(ans407D)"
   ]
  },
  {
   "attachments": {},
   "cell_type": "markdown",
   "metadata": {
    "collapsed": true,
    "run_control": {
     "read_only": false
    }
   },
   "source": [
    "## Gradients Beyond 3D\n",
    "The gradient in more variables is found in much the same way:\n",
    "1. Derive with respect to the first variable, treating _all_ others as constants\n",
    "2. Repeat for all other variables\n",
    "3. Write the resulting partial derivatives as a vector.\n",
    "\n",
    "### Practice Problem E\n",
    "1. Find the gradient of $f(x, y, z) = 2x^2 + 3xy + 2z^2y – 4xyz$\n",
    "\n",
    "2. Find the gradient of $f(x, y, z, w) = 2xy + 4yz – 3yz^2w$"
   ]
  },
  {
   "cell_type": "raw",
   "metadata": {},
   "source": [
    "Your Answers:\n",
    "1. \n",
    "2. "
   ]
  },
  {
   "cell_type": "code",
   "execution_count": null,
   "metadata": {
    "collapsed": true
   },
   "outputs": [],
   "source": [
    "revealable(ans407E)"
   ]
  }
 ],
 "metadata": {
  "kernelspec": {
   "display_name": "Julia 0.6.0",
   "language": "julia",
   "name": "julia-0.6"
  },
  "language_info": {
   "file_extension": ".jl",
   "mimetype": "application/julia",
   "name": "julia",
   "version": "0.6.0"
  }
 },
 "nbformat": 4,
 "nbformat_minor": 1
}
