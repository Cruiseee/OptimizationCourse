{
 "cells": [
  {
   "cell_type": "markdown",
   "metadata": {
    "run_control": {
     "read_only": false
    }
   },
   "source": [
    "# 4-7 Calculus in 2 or More Variables\n",
    "* graphical meaning\n",
    "* calculating a gradient"
   ]
  },
  {
   "cell_type": "code",
   "execution_count": 2,
   "metadata": {},
   "outputs": [
    {
     "data": {
      "text/markdown": [
       "\n"
      ],
      "text/plain": [
       "Revealables.Revealable(\"###Answer C\\n1. You should get close to the actual minimum at z = 2, y = 4, x = 0\\n\\n2. This was kind of mean. Although with the simple functions we've been using as examples it seems \\\"easier\\\" to use calculus to minimize, it can get really ugly really fast. At some point the programs take over.\\n\\nAnyway:\\n\\ngradient = [10x + 6z - 12     2y - 4z    6x - 4y + 14z - 12]\\n\\nThis system of equations does, indeed, equal 0 at (0, 4, 2).\\n\\nHessian: [10  0  6; 0  2  -4; 6 -4 14]. Eigenvalues are all positive, confirming that it is positive definite/concave up, therefore (0, 4, 2) is a minimum. Yuck!!!\\n\\nMy 3d program here:\\n<code>\\nfunction conjgrad3(f, x1, x2, x3)  # x1 through x3 are values of the initial point\\n    g = gradient(x -> f(x[1], x[2], x[3]))\\n    v1 = -g([x1, x2, x3]  # returns the negative gradient as motion vector v\\n    for n in 1:20\\n        test(a) = f((x1 + a\\\\*v1[1]), (x2 + a\\\\*v1[2]), (x3 + a\\\\*v[3]))  # cross section of f in direction of vector v/scalar a\\n        a = fibmin(test, -10, 10) # scalar a shouldn't be too big, esp as vector v is not normalized\\n        x1 = x1 + a\\\\*v1[1] # forms new point from old + scalar\\\\*vector\\n        x2 = x2 + a\\\\*v1[2]\\n        x3 = x3 + a\\\\*v1[3]\\n        v2 = -g([x1, x2, x3])  # neg gradient at new point becomes temp motion vector (pre-nudge)\\n        s = dot(v2,v2)/dot(v1,v1)  # calculate scalar/nudge factor s\\n        v2 = v2 + s\\\\*v1  # replace temporary motion vector with post-nudged motion vector\\n        v1 = v2  # rename v2 as v1 for the benefit of the loop\\n        println(\\\"\\$x1, \\$x2, \\$x3\\\")\\n    end\\nend\\n</code>\\n\", \"Answer\", false, false)"
      ]
     },
     "execution_count": 2,
     "metadata": {},
     "output_type": "execute_result"
    }
   ],
   "source": [
    "using Revealables\n",
    "include(\"files/answers.jl\")"
   ]
  },
  {
   "cell_type": "markdown",
   "metadata": {},
   "source": [
    "##First, a Note on Variables\n",
    "While you're learning how to do these calculations for the first time, variables will be written as $x$, $y$, $z$ instead of $x_1$, $x_2$, $x_3$ because it's a lot less confusing. However, be aware that in the \"real world,\" subscripts are more commonly used."
   ]
  },
  {
   "cell_type": "markdown",
   "metadata": {},
   "source": [
    "##Graphical Meaning\n",
    "Functions in 2 variables can be graphed in 3 dimensions:\n",
    "\n",
    "At each point on this graph, there is a slope; unlike calculus in 2 dimensions the slope is determined not by a line but by a plane.\n",
    "\n",
    "Are there any locations on this graph where the slope appears to be zero? What does that mean?\n",
    "\n",
    "There are many ways to define the slope of a plane. One of them is to use a pair of slopes, $z/x$ and $z/y$, where $z$ is the vertical dimension and $x$ and $y$ are the two nonvertical dimensions. \n"
   ]
  },
  {
   "cell_type": "code",
   "execution_count": 2,
   "metadata": {},
   "outputs": [
    {
     "data": {
      "text/html": [
       "f(x) at In[2]:1"
      ],
      "text/plain": [
       "f(x) at In[2]:1"
      ]
     },
     "execution_count": 2,
     "metadata": {},
     "output_type": "execute_result"
    }
   ],
   "source": [
    "f(x)=x^2\n",
    "@which f(2)"
   ]
  },
  {
   "cell_type": "code",
   "execution_count": null,
   "metadata": {
    "collapsed": true
   },
   "outputs": [],
   "source": []
  },
  {
   "cell_type": "code",
   "execution_count": null,
   "metadata": {
    "collapsed": true
   },
   "outputs": [],
   "source": []
  },
  {
   "cell_type": "code",
   "execution_count": null,
   "metadata": {
    "collapsed": true
   },
   "outputs": [],
   "source": []
  },
  {
   "cell_type": "code",
   "execution_count": null,
   "metadata": {
    "collapsed": true
   },
   "outputs": [],
   "source": []
  },
  {
   "cell_type": "code",
   "execution_count": null,
   "metadata": {
    "collapsed": true
   },
   "outputs": [],
   "source": []
  },
  {
   "cell_type": "code",
   "execution_count": null,
   "metadata": {
    "collapsed": true
   },
   "outputs": [],
   "source": []
  },
  {
   "cell_type": "code",
   "execution_count": null,
   "metadata": {
    "collapsed": true
   },
   "outputs": [],
   "source": []
  },
  {
   "cell_type": "code",
   "execution_count": null,
   "metadata": {
    "collapsed": true
   },
   "outputs": [],
   "source": []
  }
 ],
 "metadata": {
  "kernelspec": {
   "display_name": "Julia 0.5.2",
   "language": "julia",
   "name": "julia-0.5"
  },
  "language_info": {
   "file_extension": ".jl",
   "mimetype": "application/julia",
   "name": "julia",
   "version": "0.5.2"
  }
 },
 "nbformat": 4,
 "nbformat_minor": 1
}
