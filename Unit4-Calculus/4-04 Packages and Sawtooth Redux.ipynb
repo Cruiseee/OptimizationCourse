{
 "cells": [
  {
   "cell_type": "markdown",
   "metadata": {
    "run_control": {
     "read_only": false
    }
   },
   "source": [
    "#Packages in Julia and Sawtoooth Redux\n",
    "* Downloading Packages\n",
    "* A Word of Caution\n",
    "* Sawtooth, Revisited"
   ]
  },
  {
   "cell_type": "code",
   "execution_count": 1,
   "metadata": {
    "run_control": {
     "read_only": false
    }
   },
   "outputs": [
    {
     "data": {
      "text/html": [
       "<div id=\"interact-js-shim\">\n",
       "    <script charset=\"utf-8\">\r\n",
       "(function (IPython, $, _, MathJax) {\r\n",
       "    $.event.special.destroyed = {\r\n",
       "\tremove: function(o) {\r\n",
       "\t    if (o.handler) {\r\n",
       "\t\to.handler.apply(this, arguments)\r\n",
       "\t    }\r\n",
       "\t}\r\n",
       "    }\r\n",
       "\r\n",
       "    var OutputArea = IPython.version >= \"4.0.0\" ? require(\"notebook/js/outputarea\").OutputArea : IPython.OutputArea;\r\n",
       "\r\n",
       "    var redrawValue = function (container, type, val) {\r\n",
       "\tvar selector = $(\"<div/>\");\r\n",
       "\tvar oa = new OutputArea(_.extend(selector, {\r\n",
       "\t    selector: selector,\r\n",
       "\t    prompt_area: true,\r\n",
       "\t    events: IPython.events,\r\n",
       "\t    keyboard_manager: IPython.keyboard_manager\r\n",
       "\t})); // Hack to work with IPython 2.1.0\r\n",
       "\r\n",
       "\tswitch (type) {\r\n",
       "\tcase \"image/png\":\r\n",
       "            var _src = 'data:' + type + ';base64,' + val;\r\n",
       "\t    $(container).find(\"img\").attr('src', _src);\r\n",
       "\t    break;\r\n",
       "\tcase \"text/latex\":\r\n",
       "\t\tif (MathJax){\r\n",
       "\t\t\tvar math = MathJax.Hub.getAllJax(container)[0];\r\n",
       "\t\t\tMathJax.Hub.Queue([\"Text\", math, val.replace(/^\\${1,2}|\\${1,2}$/g, '')]);\r\n",
       "\t\t\tbreak;\r\n",
       "\t\t}\r\n",
       "\tdefault:\r\n",
       "\t    var toinsert = OutputArea.append_map[type].apply(\r\n",
       "\t\toa, [val, {}, selector]\r\n",
       "\t    );\r\n",
       "\t    $(container).empty().append(toinsert.contents());\r\n",
       "\t    selector.remove();\r\n",
       "\t}\r\n",
       "    }\r\n",
       "\r\n",
       "\r\n",
       "    $(document).ready(function() {\r\n",
       "\tfunction initComm(evt, data) {\r\n",
       "\t    var comm_manager = data.kernel.comm_manager;\r\n",
       "        //_.extend(comm_manager.targets, require(\"widgets/js/widget\"))\r\n",
       "\t    comm_manager.register_target(\"Signal\", function (comm) {\r\n",
       "            comm.on_msg(function (msg) {\r\n",
       "                var val = msg.content.data.value;\r\n",
       "                $(\".signal-\" + comm.comm_id).each(function() {\r\n",
       "                var type = $(this).data(\"type\");\r\n",
       "                if (typeof(val[type]) !== \"undefined\" && val[type] !== null) {\r\n",
       "                    redrawValue(this, type, val[type], type);\r\n",
       "                }\r\n",
       "                });\r\n",
       "                delete val;\r\n",
       "                delete msg.content.data.value;\r\n",
       "            });\r\n",
       "\t    });\r\n",
       "\r\n",
       "\t    // coordingate with Comm and redraw Signals\r\n",
       "\t    // XXX: Test using Reactive here to improve performance\r\n",
       "\t    $([IPython.events]).on(\r\n",
       "\t\t'output_appended.OutputArea', function (event, type, value, md, toinsert) {\r\n",
       "\t\t    if (md && md.reactive) {\r\n",
       "                // console.log(md.comm_id);\r\n",
       "                toinsert.addClass(\"signal-\" + md.comm_id);\r\n",
       "                toinsert.data(\"type\", type);\r\n",
       "                // Signal back indicating the mimetype required\r\n",
       "                var comm_manager = IPython.notebook.kernel.comm_manager;\r\n",
       "                var comm = comm_manager.comms[md.comm_id];\r\n",
       "                comm.then(function (c) {\r\n",
       "                    c.send({action: \"subscribe_mime\",\r\n",
       "                       mime: type});\r\n",
       "                    toinsert.bind(\"destroyed\", function() {\r\n",
       "                        c.send({action: \"unsubscribe_mime\",\r\n",
       "                               mime: type});\r\n",
       "                    });\r\n",
       "                })\r\n",
       "\t\t    }\r\n",
       "\t    });\r\n",
       "\t}\r\n",
       "\r\n",
       "\ttry {\r\n",
       "\t    // try to initialize right away. otherwise, wait on the status_started event.\r\n",
       "\t    initComm(undefined, IPython.notebook);\r\n",
       "\t} catch (e) {\r\n",
       "\t    $([IPython.events]).on('kernel_created.Kernel kernel_created.Session', initComm);\r\n",
       "\t}\r\n",
       "    });\r\n",
       "})(IPython, jQuery, _, MathJax);\r\n",
       "</script>\n",
       "    <script>\n",
       "        window.interactLoadedFlag = true\n",
       "       $(\"#interact-js-shim\").bind(\"destroyed\", function () {\n",
       "           if (window.interactLoadedFlag) {\n",
       "               console.warn(\"JavaScript required by Interact will be removed if you remove this cell or run using Interact more than once.\")\n",
       "           }\n",
       "       })\n",
       "       $([IPython.events]).on(\"kernel_starting.Kernel kernel_restarting.Kernel\", function () { window.interactLoadedFlag = false })\n",
       "   </script>\n",
       "</div>"
      ]
     },
     "metadata": {},
     "output_type": "display_data"
    },
    {
     "data": {
      "text/markdown": [
       "\n"
      ],
      "text/plain": [
       "Revealables.Revealable(\"###Answer C\\n1. You should get close to the actual minimum at z = 2, y = 4, x = 0\\n\\n2. This was kind of mean. Although with the simple functions we've been using as examples it seems \\\"easier\\\" to use calculus to minimize, it can get really ugly really fast. At some point the programs take over.\\n\\nAnyway:\\n\\ngradient = [10x + 6z - 12     2y - 4z    6x - 4y + 14z - 12]\\n\\nThis system of equations does, indeed, equal 0 at (0, 4, 2).\\n\\nHessian: [10  0  6; 0  2  -4; 6 -4 14]. Eigenvalues are all positive, confirming that it is positive definite/concave up, therefore (0, 4, 2) is a minimum. Yuck!!!\\n\\nMy 3d program here:\\n<code>\\nfunction conjgrad3(f, x1, x2, x3)  # x1 through x3 are values of the initial point\\n    g = gradient(x -> f(x[1], x[2], x[3]))\\n    v1 = -g([x1, x2, x3]  # returns the negative gradient as motion vector v\\n    for n in 1:20\\n        test(a) = f((x1 + a\\\\*v1[1]), (x2 + a\\\\*v1[2]), (x3 + a\\\\*v[3]))  # cross section of f in direction of vector v/scalar a\\n        a = fibmin(test, -10, 10) # scalar a shouldn't be too big, esp as vector v is not normalized\\n        x1 = x1 + a\\\\*v1[1] # forms new point from old + scalar\\\\*vector\\n        x2 = x2 + a\\\\*v1[2]\\n        x3 = x3 + a\\\\*v1[3]\\n        v2 = -g([x1, x2, x3])  # neg gradient at new point becomes temp motion vector (pre-nudge)\\n        s = dot(v2,v2)/dot(v1,v1)  # calculate scalar/nudge factor s\\n        v2 = v2 + s\\\\*v1  # replace temporary motion vector with post-nudged motion vector\\n        v1 = v2  # rename v2 as v1 for the benefit of the loop\\n        println(\\\"\\$x1, \\$x2, \\$x3\\\")\\n    end\\nend\\n</code>\\n\", \"Answer\", false, false)"
      ]
     },
     "execution_count": 1,
     "metadata": {},
     "output_type": "execute_result"
    }
   ],
   "source": [
    "using Interact\n",
    "using Revealables\n",
    "include(\"files/extras.jl\")\n",
    "include(\"files/answers.jl\")"
   ]
  },
  {
   "cell_type": "markdown",
   "metadata": {},
   "source": [
    "##Downloading Packages\n",
    "Because Julia is an open-source language, there are a ton of packages available online that enable such things as graphics capabilities, specialized programs or functionality, and yes... even calculus.\n",
    "\n",
    "See which packages you already have by running the cell below:"
   ]
  },
  {
   "cell_type": "code",
   "execution_count": 2,
   "metadata": {
    "run_control": {
     "read_only": false
    }
   },
   "outputs": [
    {
     "name": "stdout",
     "output_type": "stream",
     "text": [
      "9 required packages:\n",
      " - Gadfly                        0.6.3\n",
      " - IJulia                        1.5.1\n",
      " - ImageMagick                   0.4.0\n",
      " - Images                        0.10.1\n",
      " - ImplicitEquations             0.3.0\n",
      " - Interact                      0.4.5\n",
      " - Plots                         0.11.4\n",
      " - Reactive                      0.5.2\n",
      " - Revealables                   0.0.1\n",
      "95 additional packages:\n",
      " - AdjacentFloats                0.0.6\n",
      " - AxisAlgorithms                0.1.6\n",
      " - AxisArrays                    0.1.4\n",
      " - BinDeps                       0.6.0\n",
      " - BufferedStreams               0.3.3\n",
      " - CRlibm                        0.5.0\n",
      " - Calculus                      0.2.2\n",
      " - CatIndices                    0.0.2\n",
      " - ColorTypes                    0.5.2\n",
      " - ColorVectorSpace              0.4.3\n",
      " - Colors                        0.7.4\n",
      " - Compat                        0.27.0\n",
      " - Compose                       0.5.3\n",
      " - ComputationalResources        0.0.2\n",
      " - Conda                         0.5.3\n",
      " - Contour                       0.3.0\n",
      " - CoordinateTransformations     0.4.1\n",
      " - CoupledFields                 0.0.1\n",
      " - CustomUnitRanges              0.0.4\n",
      " - DataArrays                    0.4.1\n",
      " - DataFrames                    0.9.1\n",
      " - DataStructures                0.6.0\n",
      " - DiffBase                      0.1.0\n",
      " - Distances                     0.4.1\n",
      " - Distributions                 0.13.0\n",
      " - DualNumbers                   0.3.0\n",
      " - ErrorfreeArithmetic           0.0.3\n",
      " - FFTViews                      0.0.2\n",
      " - FastRounding                  0.0.4\n",
      " - FileIO                        0.5.1\n",
      " - FixedPointNumbers             0.3.8\n",
      " - FixedSizeArrays               0.2.5\n",
      " - ForwardDiff                   0.4.2\n",
      " - GZip                          0.3.0\n",
      " - Graphics                      0.2.0\n",
      " - Hexagons                      0.1.0\n",
      " - Hiccup                        0.1.1\n",
      " - IdentityRanges                0.0.1\n",
      " - ImageAxes                     0.3.1\n",
      " - ImageCore                     0.3.3\n",
      " - ImageFiltering                0.1.4\n",
      " - ImageMetadata                 0.2.3\n",
      " - ImageTransformations          0.3.1\n",
      " - IndirectArrays                0.1.1\n",
      " - Interpolations                0.6.2\n",
      " - IntervalArithmetic            0.10.0\n",
      " - IntervalConstraintProgramming 0.7.0\n",
      " - IntervalContractors           0.1.0\n",
      " - IntervalRootFinding           0.1.1\n",
      " - IntervalSets                  0.1.1\n",
      " - IterTools                     0.1.0\n",
      " - JSON                          0.13.0\n",
      " - Juno                          0.2.7\n",
      " - KernelDensity                 0.3.2\n",
      " - LibExpat                      0.2.6\n",
      " - Libz                          0.2.4\n",
      " - LineSearches                  0.1.5\n",
      " - Loess                         0.3.0\n",
      " - MacroTools                    0.3.7\n",
      " - MappedArrays                  0.0.7\n",
      " - MbedTLS                       0.4.5\n",
      " - Measures                      0.1.0\n",
      " - Media                         0.2.7\n",
      " - NaNMath                       0.2.6\n",
      " - OffsetArrays                  0.3.0\n",
      " - Optim                         0.7.8\n",
      " - PDMats                        0.7.0\n",
      " - PaddedViews                   0.1.0\n",
      " - PlotThemes                    0.1.4\n",
      " - PlotUtils                     0.4.2\n",
      " - PositiveFactorizations        0.0.4\n",
      " - QuadGK                        0.1.2\n",
      " - RangeArrays                   0.2.0\n",
      " - Ratios                        0.1.0\n",
      " - RecipesBase                   0.1.0\n",
      " - Reexport                      0.0.3\n",
      " - Rmath                         0.1.7\n",
      " - Rotations                     0.3.5\n",
      " - SHA                           0.3.3\n",
      " - SIUnits                       0.1.0\n",
      " - ShowItLikeYouBuildIt          0.0.1\n",
      " - Showoff                       0.1.1\n",
      " - SimpleTraits                  0.5.0\n",
      " - SortingAlgorithms             0.1.1\n",
      " - SpecialFunctions              0.2.0\n",
      " - StaticArrays                  0.3.1\n",
      " - StatsBase                     0.17.0\n",
      " - StatsFuns                     0.5.0\n",
      " - TexExtensions                 0.1.0\n",
      " - TiledIteration                0.0.2\n",
      " - URIParser                     0.1.8\n",
      " - ValidatedNumerics             0.9.0\n",
      " - WinRPM                        0.2.5\n",
      " - WoodburyMatrices              0.2.2\n",
      " - ZMQ                           0.4.3\n"
     ]
    }
   ],
   "source": [
    "Pkg.status()"
   ]
  },
  {
   "cell_type": "markdown",
   "metadata": {},
   "source": [
    "The main repository for most of these packages is [GitHub](https://github.com).\n",
    "\n",
    "The main screen of GitHub will make you think you have to sign up. You don't. The search window is here.\n",
    "\n",
    "<img src=\"files/4-4/github.png\" width=400 />\n",
    "\n",
    "Everything's free. GitHub is a great place to research available packages, though if you need something specific, combine GitHub with a Google search to narrow things down. There is a lot of stuff on this site, not just for Julia but for all languages.\n",
    "\n",
    "If you already know what package you want to download, you can instruct Julia to take care of it for you. It's easiest to type it into a code cell in a notebook, but you can use the Julia console (the command-screen of the main program) as well.\n",
    "\n",
    "To see how it works, run the next cell... and wait."
   ]
  },
  {
   "cell_type": "code",
   "execution_count": 4,
   "metadata": {
    "run_control": {
     "read_only": false
    }
   },
   "outputs": [
    {
     "name": "stderr",
     "output_type": "stream",
     "text": [
      "\u001b[1m\u001b[36mINFO: \u001b[39m\u001b[22m\u001b[36mPackage Calculus is already installed\n",
      "\u001b[39m"
     ]
    }
   ],
   "source": [
    "Pkg.add(\"Calculus\")"
   ]
  },
  {
   "cell_type": "markdown",
   "metadata": {},
   "source": [
    "After a while Julia will let you know it is done. Now you have the Calculus package installed. \n",
    "Next, load loads up the Calculus package. You must do this every time you open a new notebook."
   ]
  },
  {
   "cell_type": "code",
   "execution_count": 5,
   "metadata": {
    "collapsed": true,
    "run_control": {
     "read_only": false
    }
   },
   "outputs": [],
   "source": [
    "using Calculus"
   ]
  },
  {
   "cell_type": "markdown",
   "metadata": {},
   "source": [
    "Let's play with Calculus! Predict the output of each line of code before you run it."
   ]
  },
  {
   "cell_type": "code",
   "execution_count": 6,
   "metadata": {
    "run_control": {
     "read_only": false
    }
   },
   "outputs": [
    {
     "data": {
      "text/plain": [
       "f (generic function with 1 method)"
      ]
     },
     "execution_count": 6,
     "metadata": {},
     "output_type": "execute_result"
    }
   ],
   "source": [
    "f(x) = x^2"
   ]
  },
  {
   "cell_type": "code",
   "execution_count": 7,
   "metadata": {
    "run_control": {
     "read_only": false
    }
   },
   "outputs": [
    {
     "data": {
      "text/plain": [
       "9.99999999994219"
      ]
     },
     "execution_count": 7,
     "metadata": {},
     "output_type": "execute_result"
    }
   ],
   "source": [
    "f'(5)"
   ]
  },
  {
   "cell_type": "code",
   "execution_count": 8,
   "metadata": {
    "run_control": {
     "read_only": false
    }
   },
   "outputs": [
    {
     "data": {
      "text/plain": [
       "f (generic function with 1 method)"
      ]
     },
     "execution_count": 8,
     "metadata": {},
     "output_type": "execute_result"
    }
   ],
   "source": [
    "f(x) = cos(x)"
   ]
  },
  {
   "cell_type": "code",
   "execution_count": 9,
   "metadata": {
    "run_control": {
     "read_only": false
    }
   },
   "outputs": [
    {
     "data": {
      "text/plain": [
       "-0.9999999999893637"
      ]
     },
     "execution_count": 9,
     "metadata": {},
     "output_type": "execute_result"
    }
   ],
   "source": [
    "f'(pi/2)"
   ]
  },
  {
   "cell_type": "code",
   "execution_count": 10,
   "metadata": {
    "run_control": {
     "read_only": false
    }
   },
   "outputs": [
    {
     "data": {
      "text/plain": [
       "f (generic function with 1 method)"
      ]
     },
     "execution_count": 10,
     "metadata": {},
     "output_type": "execute_result"
    }
   ],
   "source": [
    "f(x) = 4x^3"
   ]
  },
  {
   "cell_type": "code",
   "execution_count": 11,
   "metadata": {
    "run_control": {
     "read_only": false
    }
   },
   "outputs": [
    {
     "data": {
      "text/plain": [
       "108.00000000137042"
      ]
     },
     "execution_count": 11,
     "metadata": {},
     "output_type": "execute_result"
    }
   ],
   "source": [
    "f'(3)"
   ]
  },
  {
   "cell_type": "code",
   "execution_count": 12,
   "metadata": {
    "run_control": {
     "read_only": false
    }
   },
   "outputs": [
    {
     "data": {
      "text/plain": [
       "72.00006900345743"
      ]
     },
     "execution_count": 12,
     "metadata": {},
     "output_type": "execute_result"
    }
   ],
   "source": [
    "f''(3)"
   ]
  },
  {
   "cell_type": "code",
   "execution_count": 13,
   "metadata": {
    "run_control": {
     "read_only": false
    }
   },
   "outputs": [
    {
     "data": {
      "text/plain": [
       "22.37032369893329"
      ]
     },
     "execution_count": 13,
     "metadata": {},
     "output_type": "execute_result"
    }
   ],
   "source": [
    "f'''(3)"
   ]
  },
  {
   "cell_type": "markdown",
   "metadata": {},
   "source": [
    "This program has the same problems with accuracy. By the time you get to the third derivative, it's so far off it's not even useable. Up until then it's reasonable though, and has second derivative which is nice.\n",
    "\n",
    "###But wait!"
   ]
  },
  {
   "cell_type": "code",
   "execution_count": 14,
   "metadata": {
    "run_control": {
     "read_only": false
    }
   },
   "outputs": [
    {
     "data": {
      "text/plain": [
       ":(4 * (3 * x ^ 2))"
      ]
     },
     "execution_count": 14,
     "metadata": {},
     "output_type": "execute_result"
    }
   ],
   "source": [
    "differentiate(\"4x^3\", :x)"
   ]
  },
  {
   "cell_type": "markdown",
   "metadata": {},
   "source": [
    "Holy cow! The Calculus package can do __symbolic differentiation__ for some functions. You can even get an exact value with the following:"
   ]
  },
  {
   "cell_type": "code",
   "execution_count": 15,
   "metadata": {
    "run_control": {
     "read_only": false
    }
   },
   "outputs": [
    {
     "data": {
      "text/plain": [
       "108"
      ]
     },
     "execution_count": 15,
     "metadata": {},
     "output_type": "execute_result"
    }
   ],
   "source": [
    "f(x) = 4x^3\n",
    "x = 3\n",
    "eval(differentiate(\"4x^3\", :x))"
   ]
  },
  {
   "cell_type": "code",
   "execution_count": 16,
   "metadata": {
    "run_control": {
     "read_only": false
    }
   },
   "outputs": [
    {
     "data": {
      "text/plain": [
       "72"
      ]
     },
     "execution_count": 16,
     "metadata": {},
     "output_type": "execute_result"
    }
   ],
   "source": [
    "eval(differentiate(differentiate(\"4x^3\", :x)))"
   ]
  },
  {
   "cell_type": "code",
   "execution_count": 17,
   "metadata": {
    "run_control": {
     "read_only": false
    }
   },
   "outputs": [
    {
     "data": {
      "text/plain": [
       "24"
      ]
     },
     "execution_count": 17,
     "metadata": {},
     "output_type": "execute_result"
    }
   ],
   "source": [
    "eval(differentiate(differentiate(differentiate(\"4x^3\", :x))))"
   ]
  },
  {
   "cell_type": "markdown",
   "metadata": {},
   "source": [
    "I hope you're as impressed as I am. The code is recursive and [available](https://github.com/johnmyleswhite/Calculus.jl/blob/master/src/symbolic.jl) for you to look at (and contribute to, if you have the skills!).\n",
    "\n",
    "So why would you ever use the less accurate function? One reason is that it's *much faster*. For one derivative, it doesn't matter, but when you're running lots of loops with derivatives, often it makes sense to sacrifice a little accuracy for lots of speed.\n",
    "\n",
    "Another reason is that `derivative(` requires a string in quotes as its first argument, and you can't pass in a variable. This is extremely limiting.\n",
    "\n",
    "\n",
    "##A Word of Caution\n",
    "More about the functionality of the Calculus package in a moment. First, a warning.\n",
    "\n",
    "You just downloaded onto your computer, from the internet, a segment of code that communicates directly with the brains of your computer.\n",
    "\n",
    "Thank you for trusting me.\n",
    "\n",
    "Although it is very simple and looks so innocent, it is never a good idea to randomly download stuff from the internet (or app store, or whatever) without doing proper research first.\n",
    "\n",
    "This particular program, \"Calculus.jl,\" was written by John Myles White. (That information is available on GitHub, or by googling \"julia calculus.\")\n",
    "\n",
    "Take a moment to google John Myles White. Find at least 4 pieces of evidence that he's a good guy.\n",
    "\n",
    "You should __*always*__ do this type of search. Always!"
   ]
  },
  {
   "cell_type": "code",
   "execution_count": 18,
   "metadata": {
    "run_control": {
     "read_only": false
    }
   },
   "outputs": [
    {
     "data": {
      "text/html": [],
      "text/plain": [
       "Interact.ToggleButton(1: \"input\" = false Bool , \"Who is John Myles White, anyway?\", false)"
      ]
     },
     "metadata": {},
     "output_type": "display_data"
    },
    {
     "data": {
      "text/markdown": [
       "\n"
      ],
      "text/plain": [
       "Revealables.Revealable(\"## Results of My Search\\nFrom the Google search it should be immediately obvious that John Myles White is on the side of the angels. Here are some examples of evidence, in increasing order of convincingness:\\n* Based on an image search only, he's white, or Asian, or something else. Not informative at all.\\n* He has a twitter account and facebook page. Uhm... not significant, though it looks like he might be a real person.\\n* He's published a book. Nice, but these days anyone can do that.\\n* He has his own website. Could be a plus, but not enough. His website is pretty much dedicated to Julia. That looks good.\\n* His GitHub page shows that he's a member of two Julia-related organizations and he contributes a lot of GitHub packages. That's promising. \\n* He's done a bunch of interviews and presentations. Looks good.\\n\", \"Who is John Myles White, anyway?\", false, false)"
      ]
     },
     "execution_count": 18,
     "metadata": {
      "comm_id": "413a2753-084e-413b-a512-93874f968d61",
      "reactive": true
     },
     "output_type": "execute_result"
    },
    {
     "name": "stderr",
     "output_type": "stream",
     "text": [
      "WARNING: Compat.ASCIIString is deprecated, use String instead.\n",
      "  likely near C:\\Users\\Victoria Docherty\\.julia\\v0.6\\IJulia\\src\\kernel.jl:31\n",
      "WARNING: Compat.ASCIIString is deprecated, use String instead.\n",
      "  likely near C:\\Users\\Victoria Docherty\\.julia\\v0.6\\IJulia\\src\\kernel.jl:31\n",
      "WARNING: Compat.ASCIIString is deprecated, use String instead.\n",
      "  likely near C:\\Users\\Victoria Docherty\\.julia\\v0.6\\IJulia\\src\\kernel.jl:31\n",
      "WARNING: Compat.ASCIIString is deprecated, use String instead.\n",
      "  likely near C:\\Users\\Victoria Docherty\\.julia\\v0.6\\IJulia\\src\\kernel.jl:31\n",
      "WARNING: Compat.ASCIIString is deprecated, use String instead.\n",
      "  likely near C:\\Users\\Victoria Docherty\\.julia\\v0.6\\IJulia\\src\\kernel.jl:31\n",
      "WARNING: Compat.ASCIIString is deprecated, use String instead.\n",
      "  likely near C:\\Users\\Victoria Docherty\\.julia\\v0.6\\IJulia\\src\\kernel.jl:31\n"
     ]
    }
   ],
   "source": [
    "revealable(goodguy404)"
   ]
  },
  {
   "cell_type": "markdown",
   "metadata": {},
   "source": [
    "##Now, back to Calculus\n",
    "There are several other functions in the Calculus package, including:\n",
    "\n",
    "    integrate(f, a, b)\n",
    "    \n",
    "Full documentation is available on the [GitHub page for Calculus](https://github.com/johnmyleswhite/calculus.jl).\n",
    "\n",
    "The main functions we'll be using are derivatives.\n",
    "\n"
   ]
  },
  {
   "cell_type": "markdown",
   "metadata": {},
   "source": [
    "###Practice Problem A\n",
    "1. Find the derivative of $y = 3x^2 + 2sin(x)$ at $x = 4$ using your derivative program, using the Calculus package, and by hand. Compare the answers.\n",
    "2. Find the integral of $y = e^x + 3x - 2$ from $3$ to $5$ using your integral program, using the Calculus package, and by hand. Compare the answers."
   ]
  },
  {
   "cell_type": "code",
   "execution_count": null,
   "metadata": {
    "collapsed": true,
    "run_control": {
     "read_only": false
    }
   },
   "outputs": [],
   "source": [
    "# Calculate here!"
   ]
  },
  {
   "cell_type": "code",
   "execution_count": 19,
   "metadata": {
    "run_control": {
     "read_only": false
    }
   },
   "outputs": [
    {
     "data": {
      "text/html": [],
      "text/plain": [
       "Interact.ToggleButton(4: \"input-2\" = false Bool , \"Answer\", false)"
      ]
     },
     "metadata": {},
     "output_type": "display_data"
    },
    {
     "data": {
      "text/markdown": [
       "\n"
      ],
      "text/plain": [
       "Revealables.Revealable(\"###Answer A\\nFor the derivative, Calculus using `f'` got:\\n\\n        22.692712758264996\\n\\nCalculus using `eval(differentiate(`\\n\\n        22.692712758272776\\n\\nMy program\\n\\n        22.692712420 with rounding off\\n        22.69271 with rounding on\\n\\nCorrect answer: the Calculus answer using `eval(differentiate(`\\n\\n\\n\\nFor the integral, Calculus got\\n\\n        148.32762217938892\\n\\nI got\\n        148.32762217983452\\n\\nCorrect answer:\\n        148.32762217938892... I lose!\\n\\nYou may be upset about the fact that you were made to write these programs when they were already written (and written better, at least in my case). I think the fact that someone already did write those programs is proof that it's a legitimate pursuit. It's important to know how it's done. People get paid to do this kind of work; someone had to write the program for graphing calculators after all. As soon as another language gets invented, someone will have to program derivatives for it, unless John Myles White gets there first, too.\\n\", \"Answer\", false, false)"
      ]
     },
     "execution_count": 19,
     "metadata": {
      "comm_id": "4e9e576a-3357-4cc1-bde7-7971b7aaf3f8",
      "reactive": true
     },
     "output_type": "execute_result"
    }
   ],
   "source": [
    "revealable(ans404A)"
   ]
  },
  {
   "cell_type": "markdown",
   "metadata": {
    "run_control": {
     "read_only": false
    }
   },
   "source": [
    "##Sawtooth, Revisited\n",
    "<img src=\"files/4-4/sawtooth.png\" width=150 align=\"right\" />Another application for calculus, which we used in the second  unit, involves the Sawtooth Method. \n",
    "\n",
    "This method attempted to find a global maximum by drawing  a series of lines of slope $±m$ from various points on the function, with $m$ being a slope such that the function never got steeper than that slope.\n",
    "\n",
    "The basic procedure was this:"
   ]
  },
  {
   "cell_type": "code",
   "execution_count": 20,
   "metadata": {
    "run_control": {
     "read_only": false
    }
   },
   "outputs": [
    {
     "data": {
      "text/html": [],
      "text/plain": [
       "Interact.Slider{Int64}(7: \"input-3\" = 1 Int64 , \"\", 1, 1:5, \"horizontal\", true, \"d\", true)"
      ]
     },
     "metadata": {},
     "output_type": "display_data"
    },
    {
     "data": {
      "text/markdown": [
       "<img src=\"files/4-4/st1.png\" width=100 align=\"left\" />\n",
       "Step 1: Draw lines of slope m from the function at the midpoint and endpoints of the interval.\n",
       "\n"
      ],
      "text/plain": [
       "Revealables.Revealable(\"<img src=\\\"files/4-4/st1.png\\\" width=100 align=\\\"left\\\" />\\nStep 1: Draw lines of slope m from the function at the midpoint and endpoints of the interval.\\n\", \"Answer\", true, false)"
      ]
     },
     "execution_count": 20,
     "metadata": {
      "comm_id": "9c757f26-ea4c-4e4a-899b-11a96f98e714",
      "reactive": true
     },
     "output_type": "execute_result"
    }
   ],
   "source": [
    "@manipulate for s = slider(1:5, value=1)\n",
    "    sawtooth[s] \n",
    "end"
   ]
  },
  {
   "cell_type": "markdown",
   "metadata": {},
   "source": [
    "What we didn't do, at that time, was calculate the limiting slope, $m$. The method will not work if the slope of the function is steeper than the value of $m$ (or $–m$). \n",
    "\n",
    "Without calculus, you can guess the value of $m$ (as long as you guess too high) or use a graph to estimate it; but with calculus you can find the limiting slope using derivatives."
   ]
  },
  {
   "cell_type": "markdown",
   "metadata": {
    "run_control": {
     "read_only": false
    }
   },
   "source": [
    "###Practice Problem B\n",
    "1. Find, by hand, the steepest slope attained by the function $f(x) = 5x^3 + 2x^2$ on the interval $[-2, 5]$. This slope may be either negative or positive.\n",
    "\n",
    "2. Repeat for $f(x) = 3x^4 - 2x^2$ on $[-0.5, 0.5]$\n"
   ]
  },
  {
   "cell_type": "code",
   "execution_count": null,
   "metadata": {
    "collapsed": true,
    "run_control": {
     "read_only": false
    }
   },
   "outputs": [],
   "source": [
    "# Calculate here for #1"
   ]
  },
  {
   "cell_type": "code",
   "execution_count": null,
   "metadata": {
    "collapsed": true,
    "run_control": {
     "read_only": false
    }
   },
   "outputs": [],
   "source": [
    "# ...and here for #2"
   ]
  },
  {
   "cell_type": "code",
   "execution_count": 21,
   "metadata": {
    "run_control": {
     "read_only": false
    }
   },
   "outputs": [
    {
     "data": {
      "text/html": [],
      "text/plain": [
       "Interact.ToggleButton(11: \"input-4\" = false Bool , \"Answer\", false)"
      ]
     },
     "metadata": {},
     "output_type": "display_data"
    },
    {
     "data": {
      "text/markdown": [
       "\n"
      ],
      "text/plain": [
       "Revealables.Revealable(\"###Answer B\\n1. This derives to 15x<sup>2</sup> + 4x. The maximum will occur either at the endpoints or where the derivative of this equals zero (i.e., where the second derivative equals 0). The second derivative is 30x + 4, which equals 0 at -2/15. The slope (derivative) at each point is: (-2, 52); (-2/15, -2.67); (5, 395). Limiting slope is 395.\\n\\n2. This derives to 12x^<sup>3</sup> - 4x, second derivative 36x<sup>2</sup> - 4. The second derivative is 0 at &plusmn;1/3, with slopes &plusmn;0.88. The endpoints have slopes of &plusmn;0.5, so the limiting slope is 0.88.\\n\", \"Answer\", false, false)"
      ]
     },
     "execution_count": 21,
     "metadata": {
      "comm_id": "5ce91a57-d75b-4e8b-aea4-a1ab6c6a793a",
      "reactive": true
     },
     "output_type": "execute_result"
    }
   ],
   "source": [
    "revealable(ans404B)"
   ]
  },
  {
   "cell_type": "markdown",
   "metadata": {
    "collapsed": true,
    "run_control": {
     "read_only": false
    }
   },
   "source": [
    "##Finding Max/Min Values\n",
    "As you (hopefully) recalled on Problem B, the maximum and minimum values of a function must occur either at the endpoints, or where its derivative equals 0. \n",
    "\n",
    "If your function is a derivative, you are looking for where the second derivative equals 0. This assumes that you know the equation of the second derivative, which is fine if you're doing it by hand; but symbolic differentiation is inefficient (and not available in all languages).\n",
    "\n",
    "In pairs or groups, discuss how you could find the maximum or minimum slope values with the following tools:\n",
    "1. The original equation\n",
    "2. The ability to find f'(a) values of the derivative\n",
    "3. The ability to find f''(a) values of the second derivative\n",
    "4. Any existing programs you have from earlier units\n",
    "\n",
    "Remember, you may not use the equation of the derivative or second derivative!\n"
   ]
  },
  {
   "cell_type": "markdown",
   "metadata": {
    "collapsed": true,
    "run_control": {
     "read_only": false
    }
   },
   "source": [
    "###Practice Problem C\n",
    "Write a program that, given a function and endpoints, returns the limiting value of the slope for use in a sawtooth program. \n",
    "\n",
    "If you plan to use the Calculus package, you will need to type the line\n",
    "\n",
    "    using Calculus\n",
    "    \n",
    "before the opening function line.\n"
   ]
  },
  {
   "cell_type": "code",
   "execution_count": null,
   "metadata": {
    "collapsed": true,
    "run_control": {
     "read_only": false
    }
   },
   "outputs": [],
   "source": [
    "# Code here"
   ]
  },
  {
   "cell_type": "code",
   "execution_count": null,
   "metadata": {
    "collapsed": true,
    "run_control": {
     "read_only": false
    }
   },
   "outputs": [],
   "source": [
    "# Test here"
   ]
  },
  {
   "cell_type": "code",
   "execution_count": 22,
   "metadata": {
    "run_control": {
     "read_only": false
    }
   },
   "outputs": [
    {
     "data": {
      "text/html": [],
      "text/plain": [
       "Interact.ToggleButton(14: \"input-5\" = false Bool , \"Answer\", false)"
      ]
     },
     "metadata": {},
     "output_type": "display_data"
    },
    {
     "data": {
      "text/markdown": [
       "\n"
      ],
      "text/plain": [
       "Revealables.Revealable(\"###Answer C\\nThere ought to be a way to use symbolic differentiation too, but I could not figure out how to turn a variable storing a string into a string literal so I could pass it into the `differentiate` function in the Julia `Calculus` package.\\n\\nIf that sentence makes zero sense to you, don't worry. Here's a program that works using numerical differentiation:\\n\\n<code>\\nusing Calculus\\nfunction sawprep(f, a, b)\\n    check = {}  # list of points where second derivative switches value is currently empty\\n    int = (b-a)/20  # 20 is arbitrary, raise as needed. Divide interval into 20 test points\\n    test = [a b]\\n    test = float64(test)\\n    for n in a:int:(b-int)\\n        if sign(f''(n)) != sign(f''(n + int))\\n            push!(check, n)  # create list of left hand points where 2nd deriv changes value\\n        end\\n    end\\n    for n in 1:length(check)\\n        l = check[n]\\n        r = l + int\\n        while abs(r - l) > 0.001\\n             m = (f''(r) - f''(l))/(r-l)\\n             xint = l - f''(l)/m\\n             r = l\\n             l = xint\\n         end\\n         test = hcat(test, l)\\n     end\\n    println(\\\"x values for testing: \\$test\\\")\\n    for n in 1:length(test)\\n        test[n] = abs(f'(test[n]))\\n    end\\n    println(maximum(test))\\nend\\n</code>\\n\", \"Answer\", false, false)"
      ]
     },
     "execution_count": 22,
     "metadata": {
      "comm_id": "8decda1c-86d5-49b7-b63b-0349ef3f72bd",
      "reactive": true
     },
     "output_type": "execute_result"
    }
   ],
   "source": [
    "revealable(ans404C)"
   ]
  },
  {
   "cell_type": "code",
   "execution_count": null,
   "metadata": {
    "collapsed": true,
    "run_control": {
     "read_only": false
    }
   },
   "outputs": [],
   "source": []
  }
 ],
 "metadata": {
  "kernelspec": {
   "display_name": "Julia 0.6.0",
   "language": "julia",
   "name": "julia-0.6"
  },
  "language_info": {
   "file_extension": ".jl",
   "mimetype": "application/julia",
   "name": "julia",
   "version": "0.6.0"
  }
 },
 "nbformat": 4,
 "nbformat_minor": 1
}
