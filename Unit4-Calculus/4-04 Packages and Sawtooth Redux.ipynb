{
 "cells": [
  {
   "cell_type": "markdown",
   "metadata": {
    "run_control": {
     "read_only": false
    }
   },
   "source": [
    "#Packages in Julia and Sawtoooth Redux\n",
    "* Downloading Packages\n",
    "* A Word of Caution\n",
    "* Sawtooth, Revisited"
   ]
  },
  {
   "cell_type": "code",
   "execution_count": null,
   "metadata": {
    "collapsed": false,
    "run_control": {
     "read_only": false
    }
   },
   "outputs": [],
   "source": [
    "using Revealables\n",
    "using Interact\n",
    "include(\"files/answers.jl\")"
   ]
  },
  {
   "cell_type": "markdown",
   "metadata": {},
   "source": [
    "##Downloading Packages\n",
    "Because Julia is an open-source language, there are a ton of packages available online that enable such things as graphics capabilities, specialized programs or functionality, and yes... even calculus.\n",
    "\n",
    "See which packages you already have by running the cell below:"
   ]
  },
  {
   "cell_type": "code",
   "execution_count": null,
   "metadata": {
    "collapsed": true,
    "run_control": {
     "read_only": false
    }
   },
   "outputs": [],
   "source": [
    "Pkg.status()"
   ]
  },
  {
   "cell_type": "markdown",
   "metadata": {},
   "source": [
    "The main repository for most of these packages is [GitHub](https://github.com).\n",
    "\n",
    "The main screen of GitHub will make you think you have to sign up. You don't. The search window is here.\n",
    "\n",
    "<img src=\"files/4-4/github.png\" width=400 />\n",
    "\n",
    "Everything's free. GitHub is a great place to research available packages, though if you need something specific, combine GitHub with a Google search to narrow things down. There is a lot of stuff on this site, not just for Julia but for all languages.\n",
    "\n",
    "If you already know what package you want to download, you can instruct Julia to take care of it for you. It's easiest to type it into a code cell in a notebook, but you can use the Julia console (the command-screen of the main program) as well.\n",
    "\n",
    "To see how it works, run the next cell... and wait."
   ]
  },
  {
   "cell_type": "code",
   "execution_count": null,
   "metadata": {
    "collapsed": false,
    "run_control": {
     "read_only": false
    }
   },
   "outputs": [],
   "source": [
    "Pkg.add(\"Calculus\")"
   ]
  },
  {
   "cell_type": "markdown",
   "metadata": {},
   "source": [
    "After a while Julia will let you know it is done. Now you have the Calculus package installed. \n",
    "Next, load loads up the Calculus package. You must do this every time you open a new notebook."
   ]
  },
  {
   "cell_type": "code",
   "execution_count": null,
   "metadata": {
    "collapsed": true,
    "run_control": {
     "read_only": false
    }
   },
   "outputs": [],
   "source": [
    "using Calculus"
   ]
  },
  {
   "cell_type": "markdown",
   "metadata": {},
   "source": [
    "Let's play with Calculus! Predict the output of each line of code before you run it."
   ]
  },
  {
   "cell_type": "code",
   "execution_count": null,
   "metadata": {
    "collapsed": false,
    "run_control": {
     "read_only": false
    }
   },
   "outputs": [],
   "source": [
    "f(x) = x^2"
   ]
  },
  {
   "cell_type": "code",
   "execution_count": null,
   "metadata": {
    "collapsed": false,
    "run_control": {
     "read_only": false
    }
   },
   "outputs": [],
   "source": [
    "f'(5)"
   ]
  },
  {
   "cell_type": "code",
   "execution_count": null,
   "metadata": {
    "collapsed": false,
    "run_control": {
     "read_only": false
    }
   },
   "outputs": [],
   "source": [
    "f(x) = cos(x)"
   ]
  },
  {
   "cell_type": "code",
   "execution_count": null,
   "metadata": {
    "collapsed": false,
    "run_control": {
     "read_only": false
    }
   },
   "outputs": [],
   "source": [
    "f'(pi/2)"
   ]
  },
  {
   "cell_type": "code",
   "execution_count": null,
   "metadata": {
    "collapsed": false,
    "run_control": {
     "read_only": false
    }
   },
   "outputs": [],
   "source": [
    "f(x) = 4x^3"
   ]
  },
  {
   "cell_type": "code",
   "execution_count": null,
   "metadata": {
    "collapsed": false,
    "run_control": {
     "read_only": false
    }
   },
   "outputs": [],
   "source": [
    "f'(3)"
   ]
  },
  {
   "cell_type": "code",
   "execution_count": null,
   "metadata": {
    "collapsed": false,
    "run_control": {
     "read_only": false
    }
   },
   "outputs": [],
   "source": [
    "f''(3)"
   ]
  },
  {
   "cell_type": "code",
   "execution_count": null,
   "metadata": {
    "collapsed": false,
    "run_control": {
     "read_only": false
    }
   },
   "outputs": [],
   "source": [
    "f'''(3)"
   ]
  },
  {
   "cell_type": "markdown",
   "metadata": {},
   "source": [
    "This program has the same problems with accuracy. By the time you get to the third derivative, it's so far off it's not even useable. Up until then it's reasonable though, and has second derivative which is nice.\n",
    "\n",
    "###But wait!"
   ]
  },
  {
   "cell_type": "code",
   "execution_count": null,
   "metadata": {
    "collapsed": false,
    "run_control": {
     "read_only": false
    }
   },
   "outputs": [],
   "source": [
    "differentiate(\"4x^3\", :x)"
   ]
  },
  {
   "cell_type": "markdown",
   "metadata": {},
   "source": [
    "Holy cow! The Calculus package can do __symbolic differentiation__ for some functions. You can even get an exact value with the following:"
   ]
  },
  {
   "cell_type": "code",
   "execution_count": null,
   "metadata": {
    "collapsed": false,
    "run_control": {
     "read_only": false
    }
   },
   "outputs": [],
   "source": [
    "f(x) = 4x^3\n",
    "x = 3\n",
    "eval(differentiate(\"4x^3\", :x))"
   ]
  },
  {
   "cell_type": "code",
   "execution_count": null,
   "metadata": {
    "collapsed": false,
    "run_control": {
     "read_only": false
    }
   },
   "outputs": [],
   "source": [
    "eval(differentiate(differentiate(\"4x^3\", :x)))"
   ]
  },
  {
   "cell_type": "code",
   "execution_count": null,
   "metadata": {
    "collapsed": false,
    "run_control": {
     "read_only": false
    }
   },
   "outputs": [],
   "source": [
    "eval(differentiate(differentiate(differentiate(\"4x^3\", :x))))"
   ]
  },
  {
   "cell_type": "markdown",
   "metadata": {},
   "source": [
    "I hope you're as impressed as I am. The code is recursive and [available](https://github.com/johnmyleswhite/Calculus.jl/blob/master/src/symbolic.jl) for you to look at (and contribute to, if you have the skills!).\n",
    "\n",
    "So why would you ever use the less accurate function? One reason is that it's *much faster*. For one derivative, it doesn't matter, but when you're running lots of loops with derivatives, often it makes sense to sacrifice a little accuracy for lots of speed.\n",
    "\n",
    "Another reason is that `derivative(` requires a string in quotes as its first argument, and you can't pass in a variable. This is extremely limiting.\n",
    "\n",
    "\n",
    "##A Word of Caution\n",
    "More about the functionality of the Calculus package in a moment. First, a warning.\n",
    "\n",
    "You just downloaded onto your computer, from the internet, a segment of code that communicates directly with the brains of your computer.\n",
    "\n",
    "Thank you for trusting me.\n",
    "\n",
    "Although it is very simple and looks so innocent, it is never a good idea to randomly download stuff from the internet (or app store, or whatever) without doing proper research first.\n",
    "\n",
    "This particular program, \"Calculus.jl,\" was written by John Myles White. (That information is available on GitHub, or by googling \"julia calculus.\")\n",
    "\n",
    "Take a moment to google John Myles White. Find at least 4 pieces of evidence that he's a good guy.\n",
    "\n",
    "You should __*always*__ do this type of search. Always!"
   ]
  },
  {
   "cell_type": "code",
   "execution_count": null,
   "metadata": {
    "collapsed": false,
    "run_control": {
     "read_only": false
    }
   },
   "outputs": [],
   "source": [
    "revealable(goodguy404)"
   ]
  },
  {
   "cell_type": "markdown",
   "metadata": {},
   "source": [
    "##Now, back to Calculus\n",
    "There are several other functions in the Calculus package, including:\n",
    "\n",
    "    integrate(f, a, b)\n",
    "    \n",
    "Full documentation is available on the [GitHub page for Calculus](https://github.com/johnmyleswhite/calculus.jl).\n",
    "\n",
    "The main functions we'll be using are derivatives.\n",
    "\n"
   ]
  },
  {
   "cell_type": "markdown",
   "metadata": {},
   "source": [
    "###Practice Problem A\n",
    "1. Find the derivative of $y = 3x^2 + 2sin(x)$ at $x = 4$ using your derivative program, using the Calculus package, and by hand. Compare the answers.\n",
    "2. Find the integral of $y = e^x + 3x - 2$ from $3$ to $5$ using your integral program, using the Calculus package, and by hand. Compare the answers."
   ]
  },
  {
   "cell_type": "code",
   "execution_count": null,
   "metadata": {
    "collapsed": true,
    "run_control": {
     "read_only": false
    }
   },
   "outputs": [],
   "source": [
    "# Calculate here!"
   ]
  },
  {
   "cell_type": "code",
   "execution_count": null,
   "metadata": {
    "collapsed": false,
    "run_control": {
     "read_only": false
    }
   },
   "outputs": [],
   "source": [
    "revealable(ans404A)"
   ]
  },
  {
   "cell_type": "markdown",
   "metadata": {
    "collapsed": false,
    "run_control": {
     "read_only": false
    }
   },
   "source": [
    "##Sawtooth, Revisited\n",
    "<img src=\"files/4-4/sawtooth.png\" width=150 align=\"right\" />Another application for calculus, which we used in the second  unit, involves the Sawtooth Method. \n",
    "\n",
    "This method attempted to find a global maximum by drawing  a series of lines of slope $±m$ from various points on the function, with $m$ being a slope such that the function never got steeper than that slope.\n",
    "\n",
    "The basic procedure was this:"
   ]
  },
  {
   "cell_type": "code",
   "execution_count": null,
   "metadata": {
    "collapsed": false
   },
   "outputs": [],
   "source": [
    "@manipulate for s = slider(1:5, value=1)\n",
    "    sawtooth[s] \n",
    "end"
   ]
  },
  {
   "cell_type": "markdown",
   "metadata": {},
   "source": [
    "What we didn't do, at that time, was calculate the limiting slope, $m$. The method will not work if the slope of the function is steeper than the value of $m$ (or $–m$). \n",
    "\n",
    "Without calculus, you can guess the value of $m$ (as long as you guess too high) or use a graph to estimate it; but with calculus you can find the limiting slope using derivatives."
   ]
  },
  {
   "cell_type": "markdown",
   "metadata": {
    "collapsed": false,
    "run_control": {
     "read_only": false
    }
   },
   "source": [
    "###Practice Problem B\n",
    "1. Find, by hand, the steepest slope attained by the function $f(x) = 5x^3 + 2x^2$ on the interval $[-2, 5]$. This slope may be either negative or positive.\n",
    "\n",
    "2. Repeat for $f(x) = 3x^4 - 2x^2$ on $[-0.5, 0.5]$\n"
   ]
  },
  {
   "cell_type": "code",
   "execution_count": null,
   "metadata": {
    "collapsed": false,
    "run_control": {
     "read_only": false
    }
   },
   "outputs": [],
   "source": [
    "# Calculate here for #1"
   ]
  },
  {
   "cell_type": "code",
   "execution_count": null,
   "metadata": {
    "collapsed": true,
    "run_control": {
     "read_only": false
    }
   },
   "outputs": [],
   "source": [
    "# ...and here for #2"
   ]
  },
  {
   "cell_type": "code",
   "execution_count": null,
   "metadata": {
    "collapsed": false
   },
   "outputs": [],
   "source": [
    "revealable(ans404B)"
   ]
  },
  {
   "cell_type": "markdown",
   "metadata": {
    "collapsed": true,
    "run_control": {
     "read_only": false
    }
   },
   "source": [
    "##Finding Max/Min Values\n",
    "As you (hopefully) recalled on Problem B, the maximum and minimum values of a function must occur either at the endpoints, or where its derivative equals 0. \n",
    "\n",
    "If your function is a derivative, you are looking for where the second derivative equals 0. This assumes that you know the equation of the second derivative, which is fine if you're doing it by hand; but symbolic differentiation is inefficient (and not available in all languages).\n",
    "\n",
    "In pairs or groups, discuss how you could find the maximum or minimum slope values with the following tools:\n",
    "1. The original equation\n",
    "2. The ability to find f'(a) values of the derivative\n",
    "3. The ability to find f''(a) values of the second derivative\n",
    "4. Any existing programs you have from earlier units\n",
    "\n",
    "Remember, you may not use the equation of the derivative or second derivative!\n"
   ]
  },
  {
   "cell_type": "markdown",
   "metadata": {
    "collapsed": true,
    "run_control": {
     "read_only": false
    }
   },
   "source": [
    "###Practice Problem C\n",
    "Write a program that, given a function and endpoints, returns the limiting value of the slope for use in a sawtooth program. \n",
    "\n",
    "If you plan to use the Calculus package, you will need to type the line\n",
    "\n",
    "    using Calculus\n",
    "    \n",
    "before the opening function line.\n"
   ]
  },
  {
   "cell_type": "code",
   "execution_count": null,
   "metadata": {
    "collapsed": false,
    "run_control": {
     "read_only": false
    }
   },
   "outputs": [],
   "source": [
    "# Code here"
   ]
  },
  {
   "cell_type": "code",
   "execution_count": null,
   "metadata": {
    "collapsed": false,
    "run_control": {
     "read_only": false
    }
   },
   "outputs": [],
   "source": [
    "# Test here"
   ]
  },
  {
   "cell_type": "code",
   "execution_count": null,
   "metadata": {
    "collapsed": false
   },
   "outputs": [],
   "source": [
    "revealable(ans404C)"
   ]
  },
  {
   "cell_type": "code",
   "execution_count": null,
   "metadata": {
    "collapsed": true
   },
   "outputs": [],
   "source": []
  }
 ],
 "metadata": {
  "kernelspec": {
   "display_name": "Julia 0.3.10",
   "language": "julia",
   "name": "julia-0.3"
  },
  "language_info": {
   "file_extension": ".jl",
   "mimetype": "application/julia",
   "name": "julia",
   "version": "0.3.10"
  }
 },
 "nbformat": 4,
 "nbformat_minor": 0
}
