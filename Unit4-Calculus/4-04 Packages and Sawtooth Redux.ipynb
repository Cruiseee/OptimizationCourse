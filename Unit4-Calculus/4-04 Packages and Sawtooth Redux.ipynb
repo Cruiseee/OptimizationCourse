{
 "cells": [
  {
   "cell_type": "markdown",
   "metadata": {
    "run_control": {
     "read_only": false
    }
   },
   "source": [
    "#Packages in Julia and Sawtoooth Redux\n",
    "* Downloading Packages\n",
    "* A Word of Caution\n",
    "* Sawtooth, Revisited"
   ]
  },
  {
   "cell_type": "code",
   "execution_count": 17,
   "metadata": {
    "collapsed": false
   },
   "outputs": [
    {
     "data": {
      "text/markdown": [
       "\n"
      ],
      "text/plain": [
       "Revealable(\"My third generation was a huge improvement; my fourth, not so much. \\nHere are the fitness ranks of my generations, if you're curious:<br clear=\\\"all\\\">\\nI: 19, 9, 8, -5<br clear=\\\"all\\\">\\nII: 13, 10, 3, 1<br clear=\\\"all\\\">\\nIII: 40, 15, 14, 10<br clear=\\\"all\\\">\\nIV: 28, 12, 11, -5<br clear=\\\"all\\\">\\n\\nThen I got hooked...<br clear=\\\"all\\\">\\nV: 21, 16, 12, 4<br clear=\\\"all\\\">\\nVI: 23, 21, 16, 6<br clear=\\\"all\\\">\\nVII: 21, 21, 21, 6<br clear=\\\"all\\\">\\n\\n\\nOne thing I noticed while getting hooked is that I wrote a program that made an array out of `rand(12)` and returned the location of anything less than 1/12, which saved some time. If you're curious, continue your own iterations with computer support. Depending on your programming experience, writing an entire program might take more time than doing it by hand.\\n\\nVIII: 24, 23, 21, 19.<br clear=\\\"all\\\">\\nI stopped here because it was lunchtime. The optimum solution is 1111 / 1111 / 0000 = 30. It's clear that successive generations are approaching the optimum, and also getting more uniform (though mutation keeps it interesting). Cool stuff.\\n\",\"Answer\",false)"
      ]
     },
     "execution_count": 17,
     "metadata": {},
     "output_type": "execute_result"
    }
   ],
   "source": [
    "using Revealables\n",
    "include(\"files/answers.jl\")"
   ]
  },
  {
   "cell_type": "markdown",
   "metadata": {},
   "source": [
    "##Downloading Packages\n",
    "Because Julia is an open-source language, there are a ton of packages available online that enable such things as graphics capabilities, specialized programs or functionality, and yes... even calculus.\n",
    "\n",
    "See which packages you already have by running the cell below:"
   ]
  },
  {
   "cell_type": "code",
   "execution_count": null,
   "metadata": {
    "collapsed": true
   },
   "outputs": [],
   "source": [
    "Pkg.status()"
   ]
  },
  {
   "cell_type": "markdown",
   "metadata": {},
   "source": [
    "The main repository for most of these packages is [GitHub](https://github.com).\n",
    "\n",
    "The main screen of GitHub will make you think you have to sign up. You don't. The search window is here.\n",
    "\n",
    "<img src=\"files/4-4/github.png\" width=400 />\n",
    "\n",
    "Everything's free. GitHub is a great place to research available packages, though if you need something specific, combine GitHub with a Google search to narrow things down. There is a lot of stuff on this site, not just for Julia but for all languages.\n",
    "\n",
    "If you already know what package you want to download, you can instruct Julia to take care of it for you. It's easiest to type it into a code cell in a notebook, but you can use the Julia console (the command-screen of the main program) as well.\n",
    "\n",
    "To see how it works, run the next cell... and wait."
   ]
  },
  {
   "cell_type": "code",
   "execution_count": 2,
   "metadata": {
    "collapsed": false
   },
   "outputs": [
    {
     "name": "stderr",
     "output_type": "stream",
     "text": [
      "INFO: No packages to install, update or remove\n",
      "INFO: Package database updated\n"
     ]
    }
   ],
   "source": [
    "Pkg.add(\"Calculus\")"
   ]
  },
  {
   "cell_type": "markdown",
   "metadata": {},
   "source": [
    "After a while Julia will let you know it is done. Now you have the Calculus package installed. \n",
    "Next, load loads up the Calculus package. You must do this every time you open a new notebook."
   ]
  },
  {
   "cell_type": "code",
   "execution_count": 1,
   "metadata": {
    "collapsed": true
   },
   "outputs": [],
   "source": [
    "using Calculus"
   ]
  },
  {
   "cell_type": "markdown",
   "metadata": {},
   "source": [
    "Let's play with Calculus! Predict the output of each line of code before you run it."
   ]
  },
  {
   "cell_type": "code",
   "execution_count": 4,
   "metadata": {
    "collapsed": false
   },
   "outputs": [
    {
     "data": {
      "text/plain": [
       "f (generic function with 1 method)"
      ]
     },
     "execution_count": 4,
     "metadata": {},
     "output_type": "execute_result"
    }
   ],
   "source": [
    "f(x) = x^2"
   ]
  },
  {
   "cell_type": "code",
   "execution_count": 5,
   "metadata": {
    "collapsed": false
   },
   "outputs": [
    {
     "data": {
      "text/plain": [
       "9.99999999994219"
      ]
     },
     "execution_count": 5,
     "metadata": {},
     "output_type": "execute_result"
    }
   ],
   "source": [
    "f'(5)"
   ]
  },
  {
   "cell_type": "code",
   "execution_count": 7,
   "metadata": {
    "collapsed": false
   },
   "outputs": [
    {
     "data": {
      "text/plain": [
       "f (generic function with 1 method)"
      ]
     },
     "execution_count": 7,
     "metadata": {},
     "output_type": "execute_result"
    }
   ],
   "source": [
    "f(x) = cos(x)"
   ]
  },
  {
   "cell_type": "code",
   "execution_count": 8,
   "metadata": {
    "collapsed": false
   },
   "outputs": [
    {
     "data": {
      "text/plain": [
       "-0.9999999999893637"
      ]
     },
     "execution_count": 8,
     "metadata": {},
     "output_type": "execute_result"
    }
   ],
   "source": [
    "f'(pi/2)"
   ]
  },
  {
   "cell_type": "code",
   "execution_count": 9,
   "metadata": {
    "collapsed": false
   },
   "outputs": [
    {
     "data": {
      "text/plain": [
       "f (generic function with 1 method)"
      ]
     },
     "execution_count": 9,
     "metadata": {},
     "output_type": "execute_result"
    }
   ],
   "source": [
    "f(x) = 4x^3"
   ]
  },
  {
   "cell_type": "code",
   "execution_count": 10,
   "metadata": {
    "collapsed": false
   },
   "outputs": [
    {
     "data": {
      "text/plain": [
       "108.00000000137042"
      ]
     },
     "execution_count": 10,
     "metadata": {},
     "output_type": "execute_result"
    }
   ],
   "source": [
    "f'(3)"
   ]
  },
  {
   "cell_type": "code",
   "execution_count": 11,
   "metadata": {
    "collapsed": false
   },
   "outputs": [
    {
     "data": {
      "text/plain": [
       "72.00006900345743"
      ]
     },
     "execution_count": 11,
     "metadata": {},
     "output_type": "execute_result"
    }
   ],
   "source": [
    "f''(3)"
   ]
  },
  {
   "cell_type": "code",
   "execution_count": 12,
   "metadata": {
    "collapsed": false
   },
   "outputs": [
    {
     "data": {
      "text/plain": [
       "22.37032369893329"
      ]
     },
     "execution_count": 12,
     "metadata": {},
     "output_type": "execute_result"
    }
   ],
   "source": [
    "f'''(3)"
   ]
  },
  {
   "cell_type": "markdown",
   "metadata": {},
   "source": [
    "This program has the same problems with accuracy. By the time you get to the third derivative, it's so far off it's not even useable. Up until then it's reasonable though, and has second derivative which is nice.\n",
    "\n",
    "###But wait!"
   ]
  },
  {
   "cell_type": "code",
   "execution_count": 18,
   "metadata": {
    "collapsed": false
   },
   "outputs": [
    {
     "data": {
      "text/plain": [
       ":(4 * (3 * x^2))"
      ]
     },
     "execution_count": 18,
     "metadata": {},
     "output_type": "execute_result"
    }
   ],
   "source": [
    "differentiate(\"4x^3\", :x)"
   ]
  },
  {
   "cell_type": "markdown",
   "metadata": {},
   "source": [
    "Holy cow! The Calculus package can do __symbolic differentiation__ for some functions. You can even get an exact value with the following:"
   ]
  },
  {
   "cell_type": "code",
   "execution_count": 29,
   "metadata": {
    "collapsed": false
   },
   "outputs": [
    {
     "data": {
      "text/plain": [
       "108"
      ]
     },
     "execution_count": 29,
     "metadata": {},
     "output_type": "execute_result"
    }
   ],
   "source": [
    "f(x) = 4x^3\n",
    "x = 3\n",
    "eval(differentiate(\"4x^3\", :x))"
   ]
  },
  {
   "cell_type": "code",
   "execution_count": 31,
   "metadata": {
    "collapsed": false
   },
   "outputs": [
    {
     "data": {
      "text/plain": [
       "72"
      ]
     },
     "execution_count": 31,
     "metadata": {},
     "output_type": "execute_result"
    }
   ],
   "source": [
    "eval(differentiate(differentiate(\"4x^3\", :x)))"
   ]
  },
  {
   "cell_type": "code",
   "execution_count": 32,
   "metadata": {
    "collapsed": false
   },
   "outputs": [
    {
     "data": {
      "text/plain": [
       "24"
      ]
     },
     "execution_count": 32,
     "metadata": {},
     "output_type": "execute_result"
    }
   ],
   "source": [
    "eval(differentiate(differentiate(differentiate(\"4x^3\", :x))))"
   ]
  },
  {
   "cell_type": "markdown",
   "metadata": {},
   "source": [
    "I hope you're as impressed as I am. The code is recursive and [available](https://github.com/johnmyleswhite/Calculus.jl/blob/master/src/symbolic.jl) for you to look at (and contribute to, if you have the skills!).\n",
    "\n",
    "So why would you ever use the less accurate function? One reason is that it's *much faster*. For one derivative, it doesn't matter, but when you're running lots of loops with derivatives, often it makes sense to sacrifice a little accuracy for lots of speed.\n",
    "\n",
    "##A Word of Caution\n",
    "More about the functionality of the Calculus package in a moment. First, a warning.\n",
    "\n",
    "You just downloaded onto your computer, from the internet, a segment of code that communicates directly with the brains of your computer.\n",
    "\n",
    "Thank you for trusting me.\n",
    "\n",
    "Although it is very simple and looks so innocent, it is never a good idea to randomly download stuff from the internet (or app store, or whatever) without doing proper research first.\n",
    "\n",
    "This particular program, \"Calculus.jl,\" was written by John Myles White. (That information is available on GitHub, or by googling \"julia calculus.\")\n",
    "\n",
    "Take a moment to google John Myles White. Find at least 4 pieces of evidence that he's a good guy.\n",
    "\n",
    "You should __*always*__ do this type of search. Always!"
   ]
  },
  {
   "cell_type": "code",
   "execution_count": 14,
   "metadata": {
    "collapsed": false
   },
   "outputs": [
    {
     "data": {
      "text/html": [],
      "text/plain": [
       "ToggleButton([Input{Bool}] false,\"Who is John Myles White, anyway?\",false)"
      ]
     },
     "metadata": {},
     "output_type": "display_data"
    },
    {
     "data": {
      "text/markdown": [
       "\n"
      ],
      "text/plain": [
       "Revealable(\"## Results of My Search\\nFrom the Google search it should be immediately obvious that John Myles White is on the side of the angels. Here are some examples of evidence, in increasing order of convincingness:\\n* Based on an image search only, he's white, or Asian, or something else. Not informative at all.\\n* He has a twitter account and facebook page. Uhm... not significant, though it looks like he might be a real person.\\n* He's published a book. Nice, but these days anyone can do that.\\n* He has his own website. Could be a plus, but not enough. His website is pretty much dedicated to Julia. That looks good.\\n* His GitHub page shows that he's a member of two Julia-related organizations and he contributes a lot of GitHub packages. That's promising. \\n* He's done a bunch of interviews and presentations. Looks good.\\n\",\"Who is John Myles White, anyway?\",false)"
      ]
     },
     "execution_count": 14,
     "metadata": {
      "comm_id": "f28ffb75-4f62-4a96-a8b4-31ffbe2c83fa",
      "reactive": true
     },
     "output_type": "execute_result"
    }
   ],
   "source": [
    "revealable(goodguy404)"
   ]
  },
  {
   "cell_type": "markdown",
   "metadata": {},
   "source": [
    "##Now, back to Calculus\n",
    "There are several other functions in the Calculus package, including:\n",
    "\n",
    "    integrate(f, a, b)\n",
    "    \n",
    "Full documentation is available on the [GitHub page for Calculus](https://github.com/johnmyleswhite/calculus.jl).\n",
    "\n",
    "The main functions we'll be using are derivatives.\n",
    "\n"
   ]
  },
  {
   "cell_type": "markdown",
   "metadata": {},
   "source": [
    "###Practice Problem A\n",
    "1. Find the derivative of $y = 3x^2 + 2sin(x)$ at $x = 4$ using your derivative program, using the Calculus package, and by hand. Compare the answers.\n",
    "2. Find the integral of $y = e^x + 3x - 2$ from $3$ to $5$ using your integral program, using the Calculus package, and by hand. Compare the answers."
   ]
  },
  {
   "cell_type": "code",
   "execution_count": null,
   "metadata": {
    "collapsed": true
   },
   "outputs": [],
   "source": [
    "# Calculate here!"
   ]
  },
  {
   "cell_type": "code",
   "execution_count": 18,
   "metadata": {
    "collapsed": false
   },
   "outputs": [
    {
     "data": {
      "text/html": [],
      "text/plain": [
       "ToggleButton([Input{Bool}] false,\"Answer\",false)"
      ]
     },
     "metadata": {},
     "output_type": "display_data"
    },
    {
     "data": {
      "text/markdown": [
       "\n"
      ],
      "text/plain": [
       "Revealable(\"###Answer A\\nFor the derivative, Calculus using `f'` got:\\n\\n        22.692712758264996\\n\\nCalculus using `eval(differentiate(`\\n\\n        22.692712758272776\\n\\nMy program\\n\\n        22.692712420 with rounding off\\n        22.69271 with rounding on\\n\\nCorrect answer:\\n\\n        22.69271258272...\\n\\n\\n\\nFor the integral, Calculus got\\n\\n        148.32762217938892\\n\\nI got\\n        148.32762217983452\\n\\nCorrect answer:\\n        148.32762217938892... I lose!\\n\\nYou may be upset about the fact that you were made to write these programs when they were already written (and written better, at least in my case). I think the fact that someone already did write those programs is proof that it's a legitimate pursuit. It's important to know how it's done. People get paid to do this kind of work; someone had to write the program for graphing calculators after all. As soon as another language gets invented, someone will have to program derivatives for it, unless John Myles White gets there first, too.\\n\",\"Answer\",false)"
      ]
     },
     "execution_count": 18,
     "metadata": {
      "comm_id": "e6eb0ca0-a9b4-4afb-86b8-6bff8a8b11b1",
      "reactive": true
     },
     "output_type": "execute_result"
    }
   ],
   "source": [
    "revealable(ans404A)"
   ]
  },
  {
   "cell_type": "code",
   "execution_count": 2,
   "metadata": {
    "collapsed": false
   },
   "outputs": [
    {
     "data": {
      "text/plain": [
       "22.692712758264996"
      ]
     },
     "execution_count": 2,
     "metadata": {},
     "output_type": "execute_result"
    }
   ],
   "source": []
  },
  {
   "cell_type": "code",
   "execution_count": 7,
   "metadata": {
    "collapsed": false
   },
   "outputs": [
    {
     "data": {
      "text/plain": [
       "22.692712758272776"
      ]
     },
     "execution_count": 7,
     "metadata": {},
     "output_type": "execute_result"
    }
   ],
   "source": []
  },
  {
   "cell_type": "code",
   "execution_count": 11,
   "metadata": {
    "collapsed": false
   },
   "outputs": [
    {
     "data": {
      "text/plain": [
       "148.32762217938892"
      ]
     },
     "execution_count": 11,
     "metadata": {},
     "output_type": "execute_result"
    }
   ],
   "source": []
  },
  {
   "cell_type": "code",
   "execution_count": null,
   "metadata": {
    "collapsed": true
   },
   "outputs": [],
   "source": []
  },
  {
   "cell_type": "code",
   "execution_count": null,
   "metadata": {
    "collapsed": true
   },
   "outputs": [],
   "source": []
  },
  {
   "cell_type": "code",
   "execution_count": null,
   "metadata": {
    "collapsed": true
   },
   "outputs": [],
   "source": []
  },
  {
   "cell_type": "code",
   "execution_count": null,
   "metadata": {
    "collapsed": true
   },
   "outputs": [],
   "source": []
  },
  {
   "cell_type": "code",
   "execution_count": null,
   "metadata": {
    "collapsed": true
   },
   "outputs": [],
   "source": []
  }
 ],
 "metadata": {
  "kernelspec": {
   "display_name": "Julia 0.3.10",
   "language": "julia",
   "name": "julia-0.3"
  },
  "language_info": {
   "file_extension": ".jl",
   "mimetype": "application/julia",
   "name": "julia",
   "version": "0.3.10"
  }
 },
 "nbformat": 4,
 "nbformat_minor": 0
}
