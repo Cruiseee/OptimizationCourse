{
 "cells": [
  {
   "cell_type": "markdown",
   "metadata": {
    "run_control": {
     "read_only": false
    }
   },
   "source": [
    "# 4-1 Optimizing With Calculus\n",
    "* Introduction\n",
    "* Challenges\n",
    "* Programming a Numerical Derivative"
   ]
  },
  {
   "cell_type": "code",
   "execution_count": 2,
   "metadata": {
    "run_control": {
     "read_only": false
    }
   },
   "outputs": [
    {
     "data": {
      "text/markdown": [
       "\n"
      ],
      "text/plain": [
       "Revealables.Revealable(\"###Answer C\\n1. You should get close to the actual minimum at z = 2, y = 4, x = 0\\n\\n2. This was kind of mean. Although with the simple functions we've been using as examples it seems \\\"easier\\\" to use calculus to minimize, it can get really ugly really fast. At some point the programs take over.\\n\\nAnyway:\\n\\ngradient = [10x + 6z - 12     2y - 4z    6x - 4y + 14z - 12]\\n\\nThis system of equations does, indeed, equal 0 at (0, 4, 2).\\n\\nHessian: [10  0  6; 0  2  -4; 6 -4 14]. Eigenvalues are all positive, confirming that it is positive definite/concave up, therefore (0, 4, 2) is a minimum. Yuck!!!\\n\\nMy 3d program here:\\n<code>\\nfunction conjgrad3(f, x1, x2, x3)  # x1 through x3 are values of the initial point\\n    g = gradient(x -> f(x[1], x[2], x[3]))\\n    v1 = -g([x1, x2, x3]  # returns the negative gradient as motion vector v\\n    for n in 1:20\\n        test(a) = f((x1 + a\\\\*v1[1]), (x2 + a\\\\*v1[2]), (x3 + a\\\\*v[3]))  # cross section of f in direction of vector v/scalar a\\n        a = fibmin(test, -10, 10) # scalar a shouldn't be too big, esp as vector v is not normalized\\n        x1 = x1 + a\\\\*v1[1] # forms new point from old + scalar\\\\*vector\\n        x2 = x2 + a\\\\*v1[2]\\n        x3 = x3 + a\\\\*v1[3]\\n        v2 = -g([x1, x2, x3])  # neg gradient at new point becomes temp motion vector (pre-nudge)\\n        s = dot(v2,v2)/dot(v1,v1)  # calculate scalar/nudge factor s\\n        v2 = v2 + s\\\\*v1  # replace temporary motion vector with post-nudged motion vector\\n        v1 = v2  # rename v2 as v1 for the benefit of the loop\\n        println(\\\"\\$x1, \\$x2, \\$x3\\\")\\n    end\\nend\\n</code>\\n\", \"Answer\", false, false)"
      ]
     },
     "execution_count": 2,
     "metadata": {},
     "output_type": "execute_result"
    }
   ],
   "source": [
    "using Revealables\n",
    "include(\"files/answers.jl\")"
   ]
  },
  {
   "cell_type": "markdown",
   "metadata": {},
   "source": [
    "##Introduction to Calculus Optimization\n",
    "Many of the programs written in the first two units could have been done (in most cases, done better) with calculus.\n",
    "\n",
    "Some examples are:\n",
    "* finding function zeroes using secant method (when Newton's method is better)\n",
    "* guessing at the limiting slope for sawtooth method (versus finding it with derivatives)\n",
    "* finding maximum and minimum values (without referencing derivatives or second derivatives)\n",
    "\n",
    "In this unit, we will be revisiting many of these ideas using calculus as a tool.\n",
    "\n",
    "In addition, we will be extending calculus concepts into higher dimensions (i.e., more than one variable) and applying that to find maxima and minima in 3D or higher.\n",
    "\n",
    "##Challenges With Calculus\n",
    "The biggest challenge with programming a computer to \"do\" calculus is that computers are not abstract thinkers. They can do operations on numbers very quickly, but do not understand functions as an abstract concept.\n",
    "\n",
    "For example, $4^2$ makes perfect sense to a computer.\n",
    "\n",
    "However, $x^2$ does not make sense unless you input a value of $x$ first.\n",
    "\n",
    "Try these (in order) and see if you can predict the output for each:"
   ]
  },
  {
   "cell_type": "code",
   "execution_count": 1,
   "metadata": {
    "run_control": {
     "read_only": false
    }
   },
   "outputs": [
    {
     "data": {
      "text/plain": [
       "16"
      ]
     },
     "execution_count": 1,
     "metadata": {},
     "output_type": "execute_result"
    }
   ],
   "source": [
    "4^2"
   ]
  },
  {
   "cell_type": "code",
   "execution_count": 2,
   "metadata": {
    "run_control": {
     "read_only": false
    }
   },
   "outputs": [
    {
     "ename": "LoadError",
     "evalue": "UndefVarError: x not defined",
     "output_type": "error",
     "traceback": [
      "UndefVarError: x not defined",
      ""
     ]
    }
   ],
   "source": [
    "x^2"
   ]
  },
  {
   "cell_type": "code",
   "execution_count": 3,
   "metadata": {
    "run_control": {
     "read_only": false
    }
   },
   "outputs": [
    {
     "data": {
      "text/plain": [
       "4"
      ]
     },
     "execution_count": 3,
     "metadata": {},
     "output_type": "execute_result"
    }
   ],
   "source": [
    "x = 4"
   ]
  },
  {
   "cell_type": "code",
   "execution_count": 4,
   "metadata": {
    "run_control": {
     "read_only": false
    }
   },
   "outputs": [
    {
     "data": {
      "text/plain": [
       "16"
      ]
     },
     "execution_count": 4,
     "metadata": {},
     "output_type": "execute_result"
    }
   ],
   "source": [
    "x^2"
   ]
  },
  {
   "cell_type": "code",
   "execution_count": 5,
   "metadata": {
    "run_control": {
     "read_only": false
    }
   },
   "outputs": [
    {
     "data": {
      "text/plain": [
       "f (generic function with 1 method)"
      ]
     },
     "execution_count": 5,
     "metadata": {},
     "output_type": "execute_result"
    }
   ],
   "source": [
    "f(x) = x^2"
   ]
  },
  {
   "cell_type": "code",
   "execution_count": 6,
   "metadata": {
    "run_control": {
     "read_only": false
    }
   },
   "outputs": [
    {
     "ename": "LoadError",
     "evalue": "UndefVarError: a not defined",
     "output_type": "error",
     "traceback": [
      "UndefVarError: a not defined",
      ""
     ]
    }
   ],
   "source": [
    "f(a)"
   ]
  },
  {
   "cell_type": "code",
   "execution_count": 7,
   "metadata": {
    "run_control": {
     "read_only": false
    }
   },
   "outputs": [
    {
     "data": {
      "text/plain": [
       "16"
      ]
     },
     "execution_count": 7,
     "metadata": {},
     "output_type": "execute_result"
    }
   ],
   "source": [
    "f(x)"
   ]
  },
  {
   "cell_type": "markdown",
   "metadata": {},
   "source": [
    "The reason the errors happened is because the language knows perfectly well how to square a number, but unless $x$ is a number any operation on $x$ is meaningless.\n",
    "\n",
    "Computers seem really smart, but they would not pass Algebra 1.\n",
    "\n",
    "##Programming a Derivative\n",
    "For this reason, most of the rules that you learned for derivative shortcuts will not be useful to a computer. For example,\n",
    "\n",
    "* the derivative of $ax = a$\n",
    "* the derivative of $xn = n·xn – 1$\n",
    "\n",
    "Both rules require the viewer to see the left side ($ax$ or $xn$) as a function with different, separable parts. The computer sees them as a single number, or not at all.\n",
    "\n",
    "This is why some programming languages (including the ones that run most graphing calculators) can only calculate a derivative when given a value of $x$. They do it using the definition of derivative: \n",
    "\n",
    "$$f'(x) = \\lim_{h \\to 0}\\frac{f(x+h)-f(x)}{h}$$\n",
    "\n",
    "(...and you always wondered why you had to learn it!)"
   ]
  },
  {
   "cell_type": "markdown",
   "metadata": {},
   "source": [
    "###Practice Problem A\n",
    "Using the definition of derivative (without the limit part), calculate the following. Use Julia for the math. \n",
    "1. $f(x) = x^3$, $x = 3$, $h = 0.5$\n",
    "2. $f(x) = 3x$, $x = 5$, $h = 1$\n",
    "3. $f(x) = 5x^2$, $x = 2$, $h = 0.5$\n",
    "4. $f(x) = 5x^2$, $x = 2$, $h = 0.1$\n",
    "5. $f(x) = 5x^2$, $x = 2$, $h = 0.01$\n",
    "6. $f(x) = 5x^2$, $x = 2$, $h = 0.001$\n",
    "7. What is the actual derivative of $5x_2$ at $x = 2$?"
   ]
  },
  {
   "cell_type": "code",
   "execution_count": null,
   "metadata": {
    "collapsed": true,
    "run_control": {
     "read_only": false
    }
   },
   "outputs": [],
   "source": [
    "# Calculate here. You could even write a function to calculate for you!"
   ]
  },
  {
   "cell_type": "code",
   "execution_count": 3,
   "metadata": {
    "run_control": {
     "read_only": false
    }
   },
   "outputs": [
    {
     "data": {
      "text/html": [],
      "text/plain": [
       "Interact.ToggleButton(1: \"input\" = false Bool , \"Answer\", false)"
      ]
     },
     "metadata": {},
     "output_type": "display_data"
    },
    {
     "data": {
      "text/markdown": [
       "\n"
      ],
      "text/plain": [
       "Revealables.Revealable(\"###Answer A\\n1. 31.75\\n2. 3\\n3. 22.5\\n4. 20.5\\n5. 20.05\\n6. 20.005\\n7. 20, of course!\\n\", \"Answer\", false, false)"
      ]
     },
     "execution_count": 3,
     "metadata": {
      "comm_id": "c22115bf-8a49-4803-9a40-b8d5989837bd",
      "reactive": true
     },
     "output_type": "execute_result"
    },
    {
     "name": "stderr",
     "output_type": "stream",
     "text": [
      "WARNING: Compat.ASCIIString is deprecated, use String instead.\n",
      "  likely near C:\\Users\\Victoria Docherty\\.julia\\v0.6\\IJulia\\src\\kernel.jl:31\n",
      "WARNING: Compat.ASCIIString is deprecated, use String instead.\n",
      "  likely near C:\\Users\\Victoria Docherty\\.julia\\v0.6\\IJulia\\src\\kernel.jl:31\n",
      "WARNING: Compat.ASCIIString is deprecated, use String instead.\n",
      "  likely near C:\\Users\\Victoria Docherty\\.julia\\v0.6\\IJulia\\src\\kernel.jl:31\n",
      "WARNING: Compat.ASCIIString is deprecated, use String instead.\n",
      "  likely near C:\\Users\\Victoria Docherty\\.julia\\v0.6\\IJulia\\src\\kernel.jl:31\n"
     ]
    }
   ],
   "source": [
    "revealable(ans401A)"
   ]
  },
  {
   "cell_type": "markdown",
   "metadata": {},
   "source": [
    "###Practice Problem 2\n",
    "If you didn't already do so for Practice Problem A, write a little function `g(x, h)` that evaluates the derivative of $f$, given $x$ and $h$. Use it to find derivatives of $5\\sqrt{x}$ (a.k.a. `5*x^(1/2)` or `5*sqrt(x)`) when $x = 12$ and $h$ is…\n",
    "1. 0.1\n",
    "2. 0.01\n",
    "3. 0.001\n",
    "4. 0.0001\n",
    "5. 0.00001\n",
    "6. 0.0000000000001"
   ]
  },
  {
   "cell_type": "code",
   "execution_count": null,
   "metadata": {
    "collapsed": true,
    "run_control": {
     "read_only": false
    }
   },
   "outputs": [],
   "source": [
    "# Write your function"
   ]
  },
  {
   "cell_type": "code",
   "execution_count": null,
   "metadata": {
    "collapsed": true,
    "run_control": {
     "read_only": false
    }
   },
   "outputs": [],
   "source": [
    "# Test it here"
   ]
  },
  {
   "cell_type": "code",
   "execution_count": 4,
   "metadata": {
    "run_control": {
     "read_only": false
    }
   },
   "outputs": [
    {
     "data": {
      "text/html": [],
      "text/plain": [
       "Interact.ToggleButton(4: \"input-2\" = false Bool , \"Answer\", false)"
      ]
     },
     "metadata": {},
     "output_type": "display_data"
    },
    {
     "data": {
      "text/markdown": [
       "\n"
      ],
      "text/plain": [
       "Revealables.Revealable(\"###Answer B\\n1. 0.7201\\n2. 0.7215\\n3. 0.721673\\n4. 0.721686\\n5. 0.721688\\n6. Answers will vary depending on how many zeroes they type in (I didn't bother counting). Anyway it's not accurate. The moral of this story is that rounding error becomes really significant when you try to get too accurate. Mine converged just fine for a while as I added 0's, but then it started getting worse.\\n7. The actual derivative here is 5/(2*sqrt(5)), which is 0.7216878...\\n\", \"Answer\", false, false)"
      ]
     },
     "execution_count": 4,
     "metadata": {
      "comm_id": "5659dc56-88dc-4f56-9c66-7bf3faa42294",
      "reactive": true
     },
     "output_type": "execute_result"
    },
    {
     "name": "stderr",
     "output_type": "stream",
     "text": [
      "WARNING: Compat.ASCIIString is deprecated, use String instead.\n",
      "  likely near C:\\Users\\Victoria Docherty\\.julia\\v0.6\\IJulia\\src\\kernel.jl:31\n",
      "WARNING: Compat.ASCIIString is deprecated, use String instead.\n",
      "  likely near C:\\Users\\Victoria Docherty\\.julia\\v0.6\\IJulia\\src\\kernel.jl:31\n"
     ]
    }
   ],
   "source": [
    "revealable(ans401B)"
   ]
  },
  {
   "cell_type": "markdown",
   "metadata": {},
   "source": [
    "##Finding the Numerical Derivative\n",
    "This procedure, of calculating the derivative using actual numbers plugged into a function, is called finding the “numerical derivative”. \n",
    "The definition of derivative is only one way to do it. Another way would be to use secants:\n",
    "\n",
    "$$f'(x) = \\lim_{h \\to 0} \\frac{f(x+h)-f(x-h)}{2h}$$\n",
    "\n",
    "This method can be more effective for small values of h.\n",
    "\n",
    "When Calculus was invented, derivative shortcuts were important because Newton and friends did not have calculators; they would have had to do this by hand:\n",
    "\n",
    "$${\\sqrt{5.0000001}-\\sqrt{5}}\\over{.0000001}$$\n",
    "\n",
    "...which is why the shortcuts got discovered pretty quickly. But for most applications, computers can do the job just fine.\n",
    "\n",
    "As you went through decreasing values of $h$ with the same $x$ in the practice problems, hopefully you noticed two things:\n",
    "\n",
    "1. the values of the numerical derivative converged towards the \"correct\" value of the derivative\n",
    "2. for very small $h$ (but not too small), the numerical derivative was really close to the \"correct\" value of the derivative.  \n",
    "\n",
    "Of these two, the second is the most important, because computers can't recognize patterns of convergence, but they can calculate numerical derivatives for very small values of $h$."
   ]
  },
  {
   "cell_type": "markdown",
   "metadata": {},
   "source": [
    "###Practice Problem C\n",
    "Write a program `nderiv(f, x)` that calculates the derivative of a function `f` given an $x$-value `x`. You will need to choose $h$ carefully."
   ]
  },
  {
   "cell_type": "code",
   "execution_count": null,
   "metadata": {
    "collapsed": true,
    "run_control": {
     "read_only": false
    }
   },
   "outputs": [],
   "source": [
    "# Code here"
   ]
  },
  {
   "cell_type": "code",
   "execution_count": null,
   "metadata": {
    "collapsed": true,
    "run_control": {
     "read_only": false
    }
   },
   "outputs": [],
   "source": [
    "# Test here"
   ]
  },
  {
   "cell_type": "code",
   "execution_count": 5,
   "metadata": {
    "run_control": {
     "read_only": false
    }
   },
   "outputs": [
    {
     "data": {
      "text/html": [],
      "text/plain": [
       "Interact.ToggleButton(7: \"input-3\" = false Bool , \"Answer\", false)"
      ]
     },
     "metadata": {},
     "output_type": "display_data"
    },
    {
     "data": {
      "text/markdown": [
       "\n"
      ],
      "text/plain": [
       "Revealables.Revealable(\"###Answer C\\nI chose to use the secant method. Either will work just fine.\\n<code>\\nfunction nderiv(f, n)  # function f, n is the x-value at which you want the slope\\n    h = 0.00000001  # arbitrary, but won't work if h is too small (or too large!)\\n    d = (f(n+h) - f(n-h)) / (2h)\\n    d = round(d, 5)  # arbitrary rounding to 5 digits to account for the error provided by h not being precisely zero. If you change h, change this.\\n      println(d)\\nend\\n</code>\\n\", \"Answer\", false, false)"
      ]
     },
     "execution_count": 5,
     "metadata": {
      "comm_id": "68bfc885-a334-4b68-9b5f-f8a3bfdddb6a",
      "reactive": true
     },
     "output_type": "execute_result"
    }
   ],
   "source": [
    "revealable(ans401C)"
   ]
  },
  {
   "cell_type": "markdown",
   "metadata": {},
   "source": [
    "##So, What About the TI-Nspire CAS?\n",
    "If you have worked with a TI-Nspire CAS or similar calculator, you know that it can take \"real\" derivatives, for example\n",
    "\n",
    "$derivative(4x^3)$\n",
    "\n",
    "will return $12x^2$\n",
    "                \n",
    "These calculators use the same types of languages with the same limitations, so they're not actually taking the derivative the way a human would. Someone programmed them to do it. How might this have been done?\n",
    "\n",
    "One common way is the [automatic differentiation](https://en.wikipedia.org/wiki/Automatic_differentiation), which is fascinating but beyond the scope of this class.  [Computer algebra systems](https://en.wikipedia.org/wiki/Computer_algebra_system) (that's what \"CAS\" stands for) have been around since the 1960s, and they've been available on (expensive) calculators since 1987."
   ]
  },
  {
   "cell_type": "code",
   "execution_count": null,
   "metadata": {
    "collapsed": true,
    "run_control": {
     "read_only": false
    }
   },
   "outputs": [],
   "source": []
  }
 ],
 "metadata": {
  "kernelspec": {
   "display_name": "Julia 0.6.0",
   "language": "julia",
   "name": "julia-0.6"
  },
  "language_info": {
   "file_extension": ".jl",
   "mimetype": "application/julia",
   "name": "julia",
   "version": "0.6.0"
  }
 },
 "nbformat": 4,
 "nbformat_minor": 1
}
