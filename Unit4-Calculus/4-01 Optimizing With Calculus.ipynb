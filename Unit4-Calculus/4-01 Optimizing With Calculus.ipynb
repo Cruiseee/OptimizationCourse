{
 "cells": [
  {
   "cell_type": "markdown",
   "metadata": {
    "run_control": {
     "read_only": false
    }
   },
   "source": [
    "# 4-1 Optimizing With Calculus\n",
    "* Introduction\n",
    "* Challenges\n",
    "* Programming a Numerical Derivative"
   ]
  },
  {
   "cell_type": "code",
   "execution_count": null,
   "metadata": {
    "collapsed": false,
    "run_control": {
     "read_only": false
    }
   },
   "outputs": [],
   "source": [
    "using Revealables\n",
    "include(\"files/answers.jl\")"
   ]
  },
  {
   "cell_type": "markdown",
   "metadata": {},
   "source": [
    "##Introduction to Calculus Optimization\n",
    "Many of the programs written in the first two units could have been done (in most cases, done better) with calculus.\n",
    "\n",
    "Some examples are:\n",
    "* finding function zeroes using secant method (when Newton's method is better)\n",
    "* guessing at the limiting slope for sawtooth method (versus finding it with derivatives)\n",
    "* finding maximum and minimum values (without referencing derivatives or second derivatives)\n",
    "\n",
    "In this unit, we will be revisiting many of these ideas using calculus as a tool.\n",
    "\n",
    "In addition, we will be extending calculus concepts into higher dimensions (i.e., more than one variable) and applying that to find maxima and minima in 3D or higher.\n",
    "\n",
    "##Challenges With Calculus\n",
    "The biggest challenge with programming a computer to \"do\" calculus is that computers are not abstract thinkers. They can do operations on numbers very quickly, but do not understand functions as an abstract concept.\n",
    "\n",
    "For example, $4^2$ makes perfect sense to a computer.\n",
    "\n",
    "However, $x^2$ does not make sense unless you input a value of $x$ first.\n",
    "\n",
    "Try these (in order) and see if you can predict the output for each:"
   ]
  },
  {
   "cell_type": "code",
   "execution_count": null,
   "metadata": {
    "collapsed": true,
    "run_control": {
     "read_only": false
    }
   },
   "outputs": [],
   "source": [
    "4^2"
   ]
  },
  {
   "cell_type": "code",
   "execution_count": null,
   "metadata": {
    "collapsed": true,
    "run_control": {
     "read_only": false
    }
   },
   "outputs": [],
   "source": [
    "x^2"
   ]
  },
  {
   "cell_type": "code",
   "execution_count": null,
   "metadata": {
    "collapsed": true,
    "run_control": {
     "read_only": false
    }
   },
   "outputs": [],
   "source": [
    "x = 4"
   ]
  },
  {
   "cell_type": "code",
   "execution_count": null,
   "metadata": {
    "collapsed": true,
    "run_control": {
     "read_only": false
    }
   },
   "outputs": [],
   "source": [
    "x^2"
   ]
  },
  {
   "cell_type": "code",
   "execution_count": null,
   "metadata": {
    "collapsed": true,
    "run_control": {
     "read_only": false
    }
   },
   "outputs": [],
   "source": [
    "f(x) = x^2"
   ]
  },
  {
   "cell_type": "code",
   "execution_count": null,
   "metadata": {
    "collapsed": true,
    "run_control": {
     "read_only": false
    }
   },
   "outputs": [],
   "source": [
    "f(a)"
   ]
  },
  {
   "cell_type": "code",
   "execution_count": null,
   "metadata": {
    "collapsed": true,
    "run_control": {
     "read_only": false
    }
   },
   "outputs": [],
   "source": [
    "f(x)"
   ]
  },
  {
   "cell_type": "markdown",
   "metadata": {},
   "source": [
    "The reason the errors happened is because the language knows perfectly well how to square a number, but unless $x$ is a number any operation on $x$ is meaningless.\n",
    "\n",
    "Computers seem really smart, but they would not pass Algebra 1.\n",
    "\n",
    "##Programming a Derivative\n",
    "For this reason, most of the rules that you learned for derivative shortcuts will not be useful to a computer. For example,\n",
    "\n",
    "* the derivative of $ax = a$\n",
    "* the derivative of $xn = n·xn – 1$\n",
    "\n",
    "Both rules require the viewer to see the left side ($ax$ or $xn$) as a function with different, separable parts. The computer sees them as a single number, or not at all.\n",
    "\n",
    "This is why some programming languages (including the ones that run most graphing calculators) can only calculate a derivative when given a value of $x$. They do it using the definition of derivative: \n",
    "\n",
    "$$f'(x) = \\lim_{h \\to 0}\\frac{f(x+h)-f(x)}{h}$$\n",
    "\n",
    "(...and you always wondered why you had to learn it!)"
   ]
  },
  {
   "cell_type": "markdown",
   "metadata": {},
   "source": [
    "###Practice Problem A\n",
    "Using the definition of derivative (without the limit part), calculate the following. Use Julia for the math. \n",
    "1. $f(x) = x^3$, $x = 3$, $h = 0.5$\n",
    "2. $f(x) = 3x$, $x = 5$, $h = 1$\n",
    "3. $f(x) = 5x^2$, $x = 2$, $h = 0.5$\n",
    "4. $f(x) = 5x^2$, $x = 2$, $h = 0.1$\n",
    "5. $f(x) = 5x^2$, $x = 2$, $h = 0.01$\n",
    "6. $f(x) = 5x^2$, $x = 2$, $h = 0.001$\n",
    "7. What is the actual derivative of $5x_2$ at $x = 2$?"
   ]
  },
  {
   "cell_type": "code",
   "execution_count": null,
   "metadata": {
    "collapsed": true,
    "run_control": {
     "read_only": false
    }
   },
   "outputs": [],
   "source": [
    "# Calculate here. You could even write a function to calculate for you!"
   ]
  },
  {
   "cell_type": "code",
   "execution_count": null,
   "metadata": {
    "collapsed": false,
    "run_control": {
     "read_only": false
    }
   },
   "outputs": [],
   "source": [
    "revealable(ans401A)"
   ]
  },
  {
   "cell_type": "markdown",
   "metadata": {},
   "source": [
    "###Practice Problem 2\n",
    "If you didn't already do so for Practice Problem A, write a little function `g(x, h)` that evaluates the derivative of $f$, given $x$ and $h$. Use it to find derivatives of $5\\sqrt{x}$ (a.k.a. `5*x^(1/2)` or `5*sqrt(x)`) when $x = 12$ and $h$ is…\n",
    "1. 0.1\n",
    "2. 0.01\n",
    "3. 0.001\n",
    "4. 0.0001\n",
    "5. 0.00001\n",
    "6. 0.0000000000001"
   ]
  },
  {
   "cell_type": "code",
   "execution_count": null,
   "metadata": {
    "collapsed": true,
    "run_control": {
     "read_only": false
    }
   },
   "outputs": [],
   "source": [
    "# Write your function"
   ]
  },
  {
   "cell_type": "code",
   "execution_count": null,
   "metadata": {
    "collapsed": true,
    "run_control": {
     "read_only": false
    }
   },
   "outputs": [],
   "source": [
    "# Test it here"
   ]
  },
  {
   "cell_type": "code",
   "execution_count": null,
   "metadata": {
    "collapsed": false,
    "run_control": {
     "read_only": false
    }
   },
   "outputs": [],
   "source": [
    "revealable(ans401B)"
   ]
  },
  {
   "cell_type": "markdown",
   "metadata": {},
   "source": [
    "##Finding the Numerical Derivative\n",
    "This procedure, of calculating the derivative using actual numbers plugged into a function, is called finding the “numerical derivative”. \n",
    "The definition of derivative is only one way to do it. Another way would be to use secants:\n",
    "\n",
    "$$f'(x) = \\lim_{h \\to 0} \\frac{f(x+h)-f(x-h)}{2h}$$\n",
    "\n",
    "This method can be more effective for small values of h.\n",
    "\n",
    "When Calculus was invented, derivative shortcuts were important because Newton and friends did not have calculators; they would have had to do this by hand:\n",
    "\n",
    "$${\\sqrt{5.0000001}-\\sqrt{5}}\\over{.0000001}$$\n",
    "\n",
    "...which is why the shortcuts got discovered pretty quickly. But for most applications, computers can do the job just fine.\n",
    "\n",
    "As you went through decreasing values of $h$ with the same $x$ in the practice problems, hopefully you noticed two things:\n",
    "\n",
    "1. the values of the numerical derivative converged towards the \"correct\" value of the derivative\n",
    "2. for very small $h$ (but not too small), the numerical derivative was really close to the \"correct\" value of the derivative.  \n",
    "\n",
    "Of these two, the second is the most important, because computers can't recognize patterns of convergence, but they can calculate numerical derivatives for very small values of $h$."
   ]
  },
  {
   "cell_type": "markdown",
   "metadata": {},
   "source": [
    "###Practice Problem C\n",
    "Write a program `nderiv(f, x)` that calculates the derivative of a function `f` given an $x$-value `x`. You will need to choose $h$ carefully."
   ]
  },
  {
   "cell_type": "code",
   "execution_count": null,
   "metadata": {
    "collapsed": true,
    "run_control": {
     "read_only": false
    }
   },
   "outputs": [],
   "source": [
    "# Code here"
   ]
  },
  {
   "cell_type": "code",
   "execution_count": null,
   "metadata": {
    "collapsed": true,
    "run_control": {
     "read_only": false
    }
   },
   "outputs": [],
   "source": [
    "# Test here"
   ]
  },
  {
   "cell_type": "code",
   "execution_count": null,
   "metadata": {
    "collapsed": false,
    "run_control": {
     "read_only": false
    }
   },
   "outputs": [],
   "source": [
    "revealable(ans401C)"
   ]
  },
  {
   "cell_type": "markdown",
   "metadata": {},
   "source": [
    "##So, What About the TI-Nspire CAS?\n",
    "If you have worked with a TI-Nspire CAS or similar calculator, you know that it can take \"real\" derivatives, for example\n",
    "\n",
    "$derivative(4x^3)$\n",
    "\n",
    "will return $12x^2$\n",
    "                \n",
    "These calculators use the same types of languages with the same limitations, so they're not actually taking the derivative the way a human would. Someone programmed them to do it. How might this have been done?\n",
    "\n",
    "One common way is the [automatic differentiation](https://en.wikipedia.org/wiki/Automatic_differentiation), which is fascinating but beyond the scope of this class.  [Computer algebra systems](https://en.wikipedia.org/wiki/Computer_algebra_system) (that's what \"CAS\" stands for) have been around since the 1960s, and they've been available on (expensive) calculators since 1987."
   ]
  },
  {
   "cell_type": "code",
   "execution_count": null,
   "metadata": {
    "collapsed": true,
    "run_control": {
     "read_only": false
    }
   },
   "outputs": [],
   "source": []
  }
 ],
 "metadata": {
  "kernelspec": {
   "display_name": "Julia 0.3.10",
   "language": "julia",
   "name": "julia-0.3"
  },
  "language_info": {
   "file_extension": ".jl",
   "mimetype": "application/julia",
   "name": "julia",
   "version": "0.3.10"
  }
 },
 "nbformat": 4,
 "nbformat_minor": 0
}
