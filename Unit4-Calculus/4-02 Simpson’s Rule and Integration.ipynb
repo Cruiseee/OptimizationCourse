{
 "cells": [
  {
   "cell_type": "markdown",
   "metadata": {
    "run_control": {
     "read_only": false
    }
   },
   "source": [
    "# 4-2 Simpson's Rule and Integration\n",
    "* Approximating Integrals\n",
    "* Simpson's Rule\n",
    "* Programming Integration"
   ]
  },
  {
   "cell_type": "code",
   "execution_count": null,
   "metadata": {
    "collapsed": true
   },
   "outputs": [],
   "source": [
    "using Revealables\n",
    "include(\"files/answers.jl\")"
   ]
  },
  {
   "cell_type": "markdown",
   "metadata": {},
   "source": [
    "##Approximating Integrals\n",
    "In Calculus, you learned two basic ways to approximate the value of an integral:\n",
    "\n",
    "* *Reimann sums*: rectangle areas with heights calculated at the left side, right side, or midpoint of each interval\n",
    "<img>\n",
    "\n",
    "* *Trapezoidal sums*: areas of trapezoids formed at each interval\n",
    "<img>\n",
    "\n",
    "In each of these cases, the area approximation got better as the width of the intervals decreased. This led to the concept of an integral as the limit of the area as the partition width tends toward zero.\n",
    "\n",
    "Calculating the areas of a zillion rectangles sounds like something a computer could do really well (and it is), but there's an even better way.\n",
    "\n",
    "##Simpson's Rule\n",
    "Simpson's Rule, named after Thomas Simpson though also used by Kepler a century before, was a way to approximate integrals without having to deal with lots of narrow rectangles (which also implies lots of decimal calculations).\n",
    "\n",
    "Its strength is that, although rectangles and trapezoids work better for linear functions, Simpson's Rule works quite well on curves.\n",
    "\n",
    "Simpson's Rule is based on the fact that given any three points, you can find the equation of a quadratic through those points. \n",
    "\n",
    "For example, let's say you had points $(3, 12)$, $(1, 5)$, and $(5, 9)$. \n",
    "Starting with $(3, 12)$ and using $y = ax^2 + bx + c$, you could write: \n",
    "\n",
    "$\\begin{align}\n",
    "12 &= a(3)^2 + b(3) + c \\\\\n",
    "12 &= 9a + 3b + c\n",
    "\\end{align}$\n",
    "\n",
    "You could do the same thing with the other two points as well, getting:\t\n",
    "\n",
    "$\\begin{align}\n",
    "5 &= a + b + c \\\\\n",
    "9 &= 25a + 5b + c\n",
    "\\end{align}$\n",
    "\n",
    "Then you could solve this system of equations for $a$, $b$, and $c$, and get the equation of the quadratic.\n",
    "\n",
    "<img align=\"right\" \\>\n",
    "If you're curious, the system of equations solves to:\n",
    "\n",
    "$\\begin{align}\n",
    "a &= -1.25 \\\\\n",
    "b &= 8.5 \\\\\n",
    "c &= -2.25\n",
    "\\end{align}$\n",
    "\n",
    "which gives the quadratic $y = -1.25x^2 + 8.5x – 2.25$, whose graph is shown above.\n",
    "\n",
    "Then, because quadratics are easy to integrate, you could just integrate the quadratic over the interval. It ends up being a very good approximation, but it's also a lot of arithmetic!\n",
    "\n",
    "Fortunately, there's a nice shortcut. It turns out that the integral of the quadratic over the interval $[a, b]$ always comes out to \n",
    "\n",
    "${{b-a}\\over{6}} \\cdot \\left( f(a)+4f(m)+f(b)\\right)$\n",
    "\n",
    "where $f(a)$, $f(m)$ and $f(b)$ were the values of the original function at $a$, $m$, and $b$. You don't need the quadratic at all.\n",
    "\n",
    "As an example, let's say you have a function $f(x)$ that you need to integrate over the interval $[2, 12]$. The midpoint of this interval is $x = 7$, which gives us three $x$ values: 2, 7 and 12.\n",
    "\n",
    "The next step is to evaluate the function at these $x$ values; suppose it gives $(2, 10)$, $(7, -3)$ and $(12, -8)$.\n",
    "\n",
    "According to Simpson's Rule, the integral can be approximated using: $\\begin{align}\n",
    "{{12-2}\\over{6}} \\cdot \\left( f(2)+4f(7)+f(12)\\right) &= \\\\\n",
    "{{10}\\over{6}} \\cdot \\left(10+4(-3) + (-8)\\right) &= \\\\\n",
    "{{5}\\over{3}} \\cdot (-10) &= \\color{blue}{{-50}\\over{3}}\n",
    "\\end{align}$.\n",
    "\n",
    " "
   ]
  },
  {
   "cell_type": "markdown",
   "metadata": {},
   "source": [
    "###Practice Problem A\n",
    "1. Take the integral of $y = -1.25x^2 + 8.5x – 2.25$ from $1$ to $5$. Verify that it has the same value as the Simpson's Rule formula for the three points $(1, 5)$, $(3, 12)$ and $(5, 9)$.\n",
    "2. Verify Simpson's Rule using the quadratic $y = 2x^2 + 5x + 12$ on the interval $[-1, 5]$.\n",
    "3. Verify Simpson's Rule using the cubic $y = x^3 + 2x^2 – 5x – 2$ on the interval $[0, 2]$."
   ]
  },
  {
   "cell_type": "code",
   "execution_count": null,
   "metadata": {
    "collapsed": true
   },
   "outputs": [],
   "source": [
    "# Calculate here! You might as well write a function to save some time...."
   ]
  },
  {
   "cell_type": "code",
   "execution_count": null,
   "metadata": {
    "collapsed": true
   },
   "outputs": [],
   "source": [
    "revealable(ans402A)"
   ]
  },
  {
   "cell_type": "markdown",
   "metadata": {},
   "source": [
    "As you (hopefully) noticed in Problem A, Simpson's Rule gives exactly correct answers for quadratics and cubics. \n",
    "\n",
    "For other functions, Simpson's Rule only gives an approximation."
   ]
  },
  {
   "cell_type": "markdown",
   "metadata": {},
   "source": [
    "###Practice Problem B\n",
    "1. Find the integral of $y = 3x$ on $[-3, 11]$. Also use Simpson's Rule. Compare the answers.\n",
    "2. Repeat for $y = \\sqrt{x}$ on $[4, 16]$.\n",
    "3. Repeat for $y = sin(x)$ on $[0, π/2]$.\n",
    "4. Repeat for $y = e^x$ on $[1, 5]$. \n",
    "\n",
    "(If you're using Julia for calculations, you may use `pi` to get π and `e` for $e$.)"
   ]
  },
  {
   "cell_type": "code",
   "execution_count": null,
   "metadata": {
    "collapsed": true
   },
   "outputs": [],
   "source": [
    "# Calculate here! You can re-use your function if you wrote one."
   ]
  },
  {
   "cell_type": "code",
   "execution_count": null,
   "metadata": {
    "collapsed": true
   },
   "outputs": [],
   "source": [
    "revealable(ans402B)"
   ]
  },
  {
   "cell_type": "markdown",
   "metadata": {},
   "source": [
    "Like any other approximation rule, Simpson's works best when the interval is narrow and the function values over that interval have a similar shape to the approximation device (in this case, a quadratic curve).\n",
    "\n",
    "<img align=\"right\" />\n",
    "\n",
    "Some function types, like exponentials, can cause problems because their shape over a broad interval is not similar enough to a quadratic. Here, the exponential is shown in red and the Simpson's quadratic in blue.\n",
    "\n",
    "However, this problem can be alleviated by dividing larger intervals into smaller sub-intervals over which Simpson's Rule will continue to work well. \n",
    "\n",
    "The number of sub-intervals should depend on the width of the original interval; it makes as little sense to divide an interval of width 0.5 by 5 as it does to divide an interval of width 100 by 5."
   ]
  },
  {
   "cell_type": "markdown",
   "metadata": {},
   "source": [
    "###Practice Problem C\n",
    "Write a function that will apply Simpson's Rule to a given function $f$ over an interval $[a, b]$. Do not worry about interval width yet. \n",
    "\n",
    "Apply that function to the exponential from Problem B4, $\\int_1^5{e^x dx}$, to determine what interval width will yield answers with an acceptable error.\n",
    "\n",
    "You may find this language helpful:\n",
    "\n",
    "    for k in 1:0.5:4.5\n",
    "    \n",
    "(counts from 1 to 4.5 by 0.5's)"
   ]
  },
  {
   "cell_type": "code",
   "execution_count": null,
   "metadata": {
    "collapsed": true
   },
   "outputs": [],
   "source": []
  }
 ],
 "metadata": {
  "kernelspec": {
   "display_name": "Julia 0.3.10",
   "language": "julia",
   "name": "julia-0.3"
  },
  "language_info": {
   "file_extension": ".jl",
   "mimetype": "application/julia",
   "name": "julia",
   "version": "0.3.10"
  }
 },
 "nbformat": 4,
 "nbformat_minor": 0
}
