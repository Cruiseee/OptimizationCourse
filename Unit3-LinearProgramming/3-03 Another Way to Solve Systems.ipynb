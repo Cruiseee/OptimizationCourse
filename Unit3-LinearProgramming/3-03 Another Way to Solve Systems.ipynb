{
 "cells": [
  {
   "cell_type": "markdown",
   "metadata": {
    "run_control": {
     "read_only": false
    }
   },
   "source": [
    "# Another Way to Solve Systems\n",
    "* Array commands in Julia\n",
    "* Gaussian Elimination \n",
    "* Reduced Row-Echelon Form"
   ]
  },
  {
   "cell_type": "code",
   "execution_count": null,
   "metadata": {
    "collapsed": false
   },
   "outputs": [],
   "source": [
    "using Revealables\n",
    "include(\"files/answers.jl\")"
   ]
  },
  {
   "cell_type": "markdown",
   "metadata": {},
   "source": [
    "##Useful Array Commands\n",
    "Type this array into Julia, and then run the commands that follow:\n",
    "\n",
    "  $\\left[ \\begin{array}{ccc}\n",
    "2 & -1 & 4 \\\\\n",
    "6 & 0 & -3 \\end{array} \\right]$"
   ]
  },
  {
   "cell_type": "code",
   "execution_count": null,
   "metadata": {
    "collapsed": false
   },
   "outputs": [],
   "source": [
    "# Define matrix A\n",
    "A = "
   ]
  },
  {
   "cell_type": "code",
   "execution_count": null,
   "metadata": {
    "collapsed": true
   },
   "outputs": [],
   "source": [
    "A[1]  # first element (upper left)"
   ]
  },
  {
   "cell_type": "code",
   "execution_count": null,
   "metadata": {
    "collapsed": true
   },
   "outputs": [],
   "source": [
    "A[3]  # third element (counting across)"
   ]
  },
  {
   "cell_type": "code",
   "execution_count": null,
   "metadata": {
    "collapsed": true
   },
   "outputs": [],
   "source": [
    "A[4]  # fourth element"
   ]
  },
  {
   "cell_type": "code",
   "execution_count": null,
   "metadata": {
    "collapsed": true
   },
   "outputs": [],
   "source": [
    "A[1, 3]  # first row, third column"
   ]
  },
  {
   "cell_type": "code",
   "execution_count": null,
   "metadata": {
    "collapsed": true
   },
   "outputs": [],
   "source": [
    "A[2, 2]  # second row, second column"
   ]
  },
  {
   "cell_type": "code",
   "execution_count": null,
   "metadata": {
    "collapsed": true
   },
   "outputs": [],
   "source": [
    "A[1, :]  # first row of A"
   ]
  },
  {
   "cell_type": "code",
   "execution_count": null,
   "metadata": {
    "collapsed": true
   },
   "outputs": [],
   "source": [
    "A[2, :]  # second row"
   ]
  },
  {
   "cell_type": "code",
   "execution_count": null,
   "metadata": {
    "collapsed": true
   },
   "outputs": [],
   "source": [
    "A[:, 3]  # third column"
   ]
  },
  {
   "cell_type": "code",
   "execution_count": null,
   "metadata": {
    "collapsed": true
   },
   "outputs": [],
   "source": [
    "B = A[2, :]  # B is now the second row of A"
   ]
  },
  {
   "cell_type": "code",
   "execution_count": null,
   "metadata": {
    "collapsed": true
   },
   "outputs": [],
   "source": [
    "vcat(A[1, :], B)  # \"vertical concatenation\": re-creates A from A row 1 and B"
   ]
  },
  {
   "cell_type": "code",
   "execution_count": null,
   "metadata": {
    "collapsed": true
   },
   "outputs": [],
   "source": [
    "hcat(A, [3; 5])  # \"horizontal concatenation\": augments A on the right"
   ]
  },
  {
   "cell_type": "code",
   "execution_count": null,
   "metadata": {
    "collapsed": false
   },
   "outputs": [],
   "source": [
    "A[1,:] = [A[1,:] * A[2,1] / A[1,1]]\n",
    "A  # What did the line above do?"
   ]
  },
  {
   "cell_type": "markdown",
   "metadata": {},
   "source": [
    "The complicated-looking line of code replaced the first row of A with a new row consisting of the old row times A[2, 1]/A[1, 1]. The effect was to make the numbers in the first column the same."
   ]
  },
  {
   "cell_type": "code",
   "execution_count": null,
   "metadata": {
    "collapsed": false
   },
   "outputs": [],
   "source": [
    "A[2,:] = [A[1,:] - A[2,:]]\n",
    "A  # What did the line above do?"
   ]
  },
  {
   "cell_type": "markdown",
   "metadata": {},
   "source": [
    "The code above replaced the second row of A with the difference between the first and second rows. The effect was to make position [2, 1] equal 0.\n",
    "\n",
    "Now try this:"
   ]
  },
  {
   "cell_type": "code",
   "execution_count": null,
   "metadata": {
    "collapsed": false
   },
   "outputs": [],
   "source": [
    "A[1, :] = A[1, :]/5"
   ]
  },
  {
   "cell_type": "markdown",
   "metadata": {},
   "source": [
    "`InexactError()`!\n",
    "\n",
    "Why can't we divide by 5?\n",
    "\n",
    "The answer is that Julia thought `A` was an integer-only array (`Int64`), not all numbers (`Float64`). Dividing by 5 gives non-integer results, which are considered illegal in `A`.\n",
    "\n",
    "##A Note About Types and \"Type Safety\"\n",
    "\"Type safety\" is the extent to which a language or program prevents type errors like the one we just saw. There are multiple ways to prevent type errors.\n",
    "\n",
    "One is to be specific about the desired type of an array when you originally enter it:\n",
    "\n",
    "    A = Float64[3 3 -2; 4 1 0]\n",
    "    \n",
    "Another is to enter one of the original numbers as a decimal:\n",
    "\n",
    "    A = [3.0 3 -2; 4 1 0]\n",
    "    \n",
    "If the matrix has already been entered, you can convert it:\n",
    "\n",
    "    A = float64(A)\n"
   ]
  },
  {
   "cell_type": "code",
   "execution_count": null,
   "metadata": {
    "collapsed": false
   },
   "outputs": [],
   "source": [
    "# Try any of the methods above, then divide A by 5"
   ]
  },
  {
   "cell_type": "markdown",
   "metadata": {},
   "source": [
    "The problem with the first two methods is that you have to remember to enter `A` in that manner, or let the user know to enter `A` that way. As a programmer, you may say to yourself \"Oh, I'll remember\" or \"the user can figure it out,\" which is about the user-*un*friendliest way to do things. \n",
    "\n",
    "Pretty much all professional programming these days ultimately has a customer and it isn't the person who wrote it. It's good to start anticipating these things as a learner. In a program, the third command here is the one you should use."
   ]
  },
  {
   "cell_type": "markdown",
   "metadata": {},
   "source": [
    "###Practice Problem A\n",
    "Let $A = \\left[ \\begin{array}{ccc}\n",
    "3 & 1 & -2 \\\\\n",
    "2 & -2 & 5 \n",
    "\\end{array} \\right]$.\n",
    "\n",
    "Use Julia to get a 1 in the first row, first column (location [1, 1]) and 0 in the second row, first column (location [2, 1]) by:\n",
    "* dividing the first entire row by 3, then\n",
    "* replacing the second row with a sum of the second row and a multiple of the first row\n",
    "\n",
    "Try to make your code as general as possible by using locations in the array instead of the actual numbers at those locations."
   ]
  },
  {
   "cell_type": "code",
   "execution_count": null,
   "metadata": {
    "collapsed": true
   },
   "outputs": [],
   "source": [
    "# Code here"
   ]
  },
  {
   "cell_type": "code",
   "execution_count": null,
   "metadata": {
    "collapsed": true
   },
   "outputs": [],
   "source": [
    "# Test here"
   ]
  },
  {
   "cell_type": "code",
   "execution_count": null,
   "metadata": {
    "collapsed": false
   },
   "outputs": [],
   "source": [
    "revealable(ans303A)"
   ]
  },
  {
   "cell_type": "markdown",
   "metadata": {},
   "source": [
    "##Gaussian Elimination\n",
    "Let's say you were solving this system of equations using elimination:\n",
    "\n",
    "$\\begin{align*} \n",
    "2x_1 + 3x_2 &= 4 \\\\\n",
    "3x_1 – 5x_2 &= 5\n",
    "\\end{align*}$\n",
    "\n",
    "You might choose to multiply the first row by 3 and the second row by -2, then add the two rows like this:\n",
    "\n",
    "$\\begin{align*} \n",
    "6x_1 + 9x_2 &= 12 \\\\\n",
    "-6x_1 + 10x_2 &= -10 \\\\\n",
    "\\hline\n",
    "19x_2 &= 2\n",
    "\\end{align*}$\n",
    "\n",
    "After dividing, you might plug the answer back in to the first equation to find $x_1$.\n",
    "\n",
    "Without actually solving it, the implication is:\n",
    "\n",
    "The solution to $\\begin{align*}\n",
    "2x_1 + 3x_2 &= 4 \\\\\n",
    "3x_1 – 5x_2 &= 5\n",
    "\\end{align*}$\n",
    "\n",
    "is the same as the solution to \n",
    "$\\begin{align*}\n",
    "2x_1 + 3x_2 &= 4 \\\\\n",
    "19x_2 &= 2\n",
    "\\end{align*}$,\n",
    "\n",
    "but the second is easier to solve.\n",
    "\n",
    "In matrix form, we could say that the solution to \n",
    "$\\left[ \\begin{array}{ccc}\n",
    "2 & 3 & 4 \\\\\n",
    "3 & -5 & 5 \n",
    "\\end{array} \\right]$\n",
    "is the same as the solution to\n",
    "$\\left[ \\begin{array}{ccc}\n",
    "2 & 3 & 4 \\\\\n",
    "0 & 19 & 2 \n",
    "\\end{array} \\right]$,\n",
    "but the second is easier to solve."
   ]
  },
  {
   "cell_type": "markdown",
   "metadata": {},
   "source": [
    "###Practice Problem B\n",
    "Write a program that, given a 2x3 matrix $A$, \n",
    "1. returns a matrix with 0 in the lower corner\n",
    "2. reports the value of $x_2$\n",
    "3. reports the value of $x_1$.\n"
   ]
  },
  {
   "cell_type": "code",
   "execution_count": null,
   "metadata": {
    "collapsed": true
   },
   "outputs": [],
   "source": [
    "# Write your program"
   ]
  },
  {
   "cell_type": "code",
   "execution_count": null,
   "metadata": {
    "collapsed": true
   },
   "outputs": [],
   "source": [
    "# Test it here"
   ]
  },
  {
   "cell_type": "code",
   "execution_count": null,
   "metadata": {
    "collapsed": false
   },
   "outputs": [],
   "source": [
    "revealable(ans303B)"
   ]
  },
  {
   "cell_type": "markdown",
   "metadata": {},
   "source": [
    "##Reduced Row-Echelon Form\n",
    "(a.k.a. Gauss-Jordan Elimination)\n",
    "\n",
    "As long as we're building equivalent (but simpler) matrices, this is the ideal form:\n",
    "\n",
    "$\\left[ \\begin{array}{ccc}\n",
    "1 & 0 & a \\\\\n",
    "0 & 1 & b \n",
    "\\end{array} \\right]$"
   ]
  },
  {
   "cell_type": "code",
   "execution_count": null,
   "metadata": {
    "collapsed": false
   },
   "outputs": [],
   "source": [
    "revealable(rre303)"
   ]
  },
  {
   "cell_type": "markdown",
   "metadata": {},
   "source": [
    "With reduced row-echelon form, this is exactly the goal. It's painful to do by hand, but with computers, it's not so bad.\n",
    "\n",
    "The rules for creating equivalent matrices are as follows:\n",
    "1. You may always, anytime, multiply or divide a row by a constant.\n",
    "2. You may replace any row with the sum or difference of that row and another row.\n",
    "3. You may combine these operations by combining multiples of rows.\n",
    "\n",
    "The main thing you need to avoid is replacing a row with a sum of two different rows.\n",
    "\n",
    "In creating the ideal (row-reduced) matrix, the simplest way to progress is as follows:\n",
    "\n",
    "Original problem:\n",
    "$\\left[ \\begin{array}{ccc}\n",
    "a_{1,1} & a_{1,2} & b_{1} \\\\\n",
    "a_{2,1} & a_{2,2} & b_{2} \n",
    "\\end{array} \\right]$\n",
    "\n",
    "First column complete:\n",
    "$\\left[ \\begin{array}{ccc}\n",
    "1 & c_{1,2} & d_{1} \\\\\n",
    "0 & c_{2,2} & d_{2} \n",
    "\\end{array} \\right]$\n",
    "\n",
    "First column complete, matrix solved:\n",
    "$\\left[ \\begin{array}{ccc}\n",
    "1 & 0 & x_{1} \\\\\n",
    "0 & 1 & x_{2} \n",
    "\\end{array} \\right]$"
   ]
  },
  {
   "cell_type": "markdown",
   "metadata": {},
   "source": [
    "###Practice Problem C\n",
    "Write a program that will return a 2x3 matrix $A$ in reduced row-echelon form, and the answers $(x_1, x_2)$ as an array $B$. \n",
    "\n",
    "Then modify your program so it only returns the answers."
   ]
  },
  {
   "cell_type": "code",
   "execution_count": null,
   "metadata": {
    "collapsed": true
   },
   "outputs": [],
   "source": [
    "# Code and..."
   ]
  },
  {
   "cell_type": "code",
   "execution_count": null,
   "metadata": {
    "collapsed": true
   },
   "outputs": [],
   "source": [
    "# ...test"
   ]
  },
  {
   "cell_type": "code",
   "execution_count": null,
   "metadata": {
    "collapsed": false
   },
   "outputs": [],
   "source": [
    "revealable(ans303C)"
   ]
  },
  {
   "cell_type": "markdown",
   "metadata": {},
   "source": [
    "##Reduced Row-Echelon: Moving Up\n",
    "Next, we'll solve 3x3 systems, like this one: \n",
    "$\\left[ \\begin{array}{ccc|c}\n",
    "4 & -2 & 1 & 12 \\\\\n",
    "3 & 0 & -1 & 5 \\\\\n",
    "-2 & 1 & 3 & -8 \\\\\n",
    "\\end{array} \\right]$\n",
    "\n",
    "As we do so, here is some useful vocabulary:\n",
    "* __Pivot row__: the current row of focus, where you divide to get 1 and make the rest of the column 0.\n",
    "* __Pivot__: the location that becomes = 1.\n",
    "* __Pivoting__: the process of getting 0's in the rest of the column.\n",
    "\n",
    "In words, the process is summarized like this:\n",
    "1. Divide row 1 by the number in [1,1].\n",
    "2. Pivot around [1,1].\n",
    "3. Divide row 2 by the number in [2,2].\n",
    "4. Pivot around [2,2].\n",
    "5. Divide row 3 by the number in [3,3].\n",
    "6. Pivot around [3,3].\n",
    "7. If you have a bigger system, keep going....\n",
    "\n",
    "You could summarize even more by saying:\n",
    "* For rows `k = 1 through 3`, divide row `k` by `[k,k]`, then pivot around `[k,k]`.\n",
    "\n",
    "And, you could deal with even larger matrices by saying:\n",
    "* For rows `k = 1 through n`, divide row `k` by `[k,k]`, then pivot around `[k,k]`.\n"
   ]
  },
  {
   "cell_type": "markdown",
   "metadata": {},
   "source": [
    "###Practice Problem D\n",
    "Write a program that solves 3x3 matrices using reduced row-echelon solving without using loops.\n",
    "\n",
    "(I know&mdash;NO LOOPS? That's crazy! But you'll appreciate how elegant your next programs are after seeing this one.)"
   ]
  },
  {
   "cell_type": "code",
   "execution_count": null,
   "metadata": {
    "collapsed": true
   },
   "outputs": [],
   "source": [
    "# Write your code here"
   ]
  },
  {
   "cell_type": "code",
   "execution_count": null,
   "metadata": {
    "collapsed": true
   },
   "outputs": [],
   "source": [
    "# Test your code here"
   ]
  },
  {
   "cell_type": "code",
   "execution_count": null,
   "metadata": {
    "collapsed": false
   },
   "outputs": [],
   "source": [
    "revealable(ans303D)"
   ]
  },
  {
   "cell_type": "markdown",
   "metadata": {},
   "source": [
    "###Practice Problem E\n",
    "Modify your program so it uses `for` loops to solve 3x3 matrices."
   ]
  },
  {
   "cell_type": "code",
   "execution_count": null,
   "metadata": {
    "collapsed": false
   },
   "outputs": [],
   "source": [
    "# Write your code here\n",
    "A = [4 -2 1 12; 3 0 -1 5; -2 1 3 -8]\n",
    "\n",
    "function gauss3(A)\n",
    "    A = float64(A)\n",
    "    for n in 1:3\n",
    "        A[n,:] = A[n,:] / A[n,n]\n",
    "        for r in 1:3\n",
    "            if r != n\n",
    "                A[r,:] = A[n,:] * A[r, n] - A[r,:]\n",
    "            end\n",
    "        end\n",
    "    end\n",
    "    B = A[:, 4]\n",
    "    println(B)\n",
    "end\n",
    "gauss3(A)"
   ]
  },
  {
   "cell_type": "code",
   "execution_count": null,
   "metadata": {
    "collapsed": true
   },
   "outputs": [],
   "source": [
    "# Test your code here"
   ]
  },
  {
   "cell_type": "code",
   "execution_count": null,
   "metadata": {
    "collapsed": false
   },
   "outputs": [],
   "source": [
    "revealable(ans303E)"
   ]
  },
  {
   "cell_type": "markdown",
   "metadata": {},
   "source": [
    "###Practice Problem F\n",
    "Write a program that solves a matrix of any size (use `size(A,1)`) to find the number of rows) using reduced row-echelon solving."
   ]
  },
  {
   "cell_type": "code",
   "execution_count": null,
   "metadata": {
    "collapsed": true
   },
   "outputs": [],
   "source": [
    "# Write your code here"
   ]
  },
  {
   "cell_type": "code",
   "execution_count": null,
   "metadata": {
    "collapsed": true
   },
   "outputs": [],
   "source": [
    "# Test your code here"
   ]
  },
  {
   "cell_type": "code",
   "execution_count": null,
   "metadata": {
    "collapsed": false
   },
   "outputs": [],
   "source": [
    "revealable(ans303F)"
   ]
  },
  {
   "cell_type": "code",
   "execution_count": null,
   "metadata": {
    "collapsed": true
   },
   "outputs": [],
   "source": []
  }
 ],
 "metadata": {
  "kernelspec": {
   "display_name": "Julia 0.3.10",
   "language": "julia",
   "name": "julia-0.3"
  },
  "language_info": {
   "file_extension": ".jl",
   "mimetype": "application/julia",
   "name": "julia",
   "version": "0.3.10"
  }
 },
 "nbformat": 4,
 "nbformat_minor": 0
}
