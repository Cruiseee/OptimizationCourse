{
 "cells": [
  {
   "cell_type": "markdown",
   "metadata": {
    "run_control": {
     "read_only": false
    }
   },
   "source": [
    "# 3-1 Introduction to Constrained Optimization\n",
    "* Overview\n",
    "* Graphical Optimization"
   ]
  },
  {
   "cell_type": "code",
   "execution_count": null,
   "metadata": {
    "collapsed": false,
    "run_control": {
     "read_only": false
    }
   },
   "outputs": [],
   "source": [
    "using Revealables\n",
    "using Gadfly, ImplicitEquations\n",
    "include(\"files/extras.jl\")\n",
    "include(\"files/answers.jl\")"
   ]
  },
  {
   "cell_type": "markdown",
   "metadata": {},
   "source": [
    "##Constrained Optimization\n",
    "<img src=\"files/3-1/unbounded.png\" width=75 align=\"right\" />In the previous unit, most of the functions we examined were *unconstrained*, meaning they either had no boundaries or the boundaries were soft. \n",
    "<br clear=\"all\" />\n",
    "<img src=\"files/3-1/bounded.png\" width=75 align=\"left\" />In this unit, we will be examining situations that involve constraints.\n",
    "\n",
    "A constraint is a hard limit placed on the value of a variable, which prevents us from going forever in certain directions.\n",
    "<br clear=\"all\" />\n",
    "With nonlinear functions, the optimum values can either occur at the boundaries or between them.\n",
    "<img src=\"files/3-1/extrema.png\" width=400 />\n",
    "With linear functions, the optimum values can only occur at the boundaries.\n",
    "<img src=\"files/3-1/linearextrema.png\" width=235 />\n",
    "In this unit, we will mostly be working with linear functions.\n",
    "\n",
    "##Examples of Constraints\n",
    "If you are attempting to maximize the objective function, typical constraints might involve time, money, and resources. The amounts of these things are limited, and these limits also place limits on the best possible value of the objective function. \n",
    "\n",
    "If you are attempting to minimize, the constraints are more particular to the situation. \n",
    "\n",
    "For example on the minimization, if you are trying to minimize *shipping costs*, a constraint might be the fact that the product still has to get there in a reasonable amount of time. (The absolute minimum shipping cost would involve not shipping anything; you’d probably go out of business.) If you are trying to minimize your *calorie intake*, a constraint might be the fact that you have to remain healthy, which would involve minimum amounts of protein, fats, vitamins and minerals. (The absolute minimum calorie intake would be zero, resulting in death from starvation.)\n",
    "\n",
    "This unit will focus primarily on maximization.\n",
    "\n",
    "##Writing Constraints\n",
    "Recall from Algebra that if a single gizmo costs \\$4, then two gizmos cost \\$8, five gizmos cost \\$20, and $g$ gizmos cost \\$4$g$.\n",
    "\n",
    "If you buy $g$ gizmos at \\$4 and $s$ sprockets at \\$2, then your total cost will be \\$(4$g$ + 2$s$). \n",
    "If you only have \\$70 to spend at the gizmo-and-sprocket store, then your total cost must be \n",
    "4$g$ + 2$s$ ≤ 70. The 70 is the boundary. The whole inequality is linear (because all terms are first degree), so we call the inequality a *linear constraint*.\n",
    "\n"
   ]
  },
  {
   "cell_type": "markdown",
   "metadata": {},
   "source": [
    "###Practice Problem A\n",
    "Write constraints for each of the following:\n",
    "1. A batch of cookies requires 3 cups of flour, and a cake requires 4. Write a constraint limiting the amount of cookies and cakes that can be made with 24 cups of flour.\n",
    "2. Box type 1 can hold 20 books and box type 2 can hold 12. Write a constraint for the number of boxes needed in order to box up 100 books.\n",
    "3. If it takes you 4 minutes to bike a mile, 9 minutes to run a mile and 14 minutes to walk a mile, write a constraint that limits how many miles of each type of exercise you can get in a 45-minute lunch break.\n"
   ]
  },
  {
   "cell_type": "raw",
   "metadata": {},
   "source": [
    "Write your answers here.\n",
    "\n",
    "\n"
   ]
  },
  {
   "cell_type": "code",
   "execution_count": null,
   "metadata": {
    "collapsed": false,
    "run_control": {
     "read_only": false
    }
   },
   "outputs": [],
   "source": [
    "revealable(ans301A)"
   ]
  },
  {
   "cell_type": "markdown",
   "metadata": {},
   "source": [
    "##Algebra Review\n",
    "Suppose you have two constraints as follows:\n",
    "\n",
    "$2x_1 + 3x_2 \\le 34$\n",
    "\n",
    "$3x_1 + 5x_2 \\le 54$\n",
    "\n",
    "Also assume that $x_1$ and $x_2$ are objects and must be $\\ge 0$.\n",
    "You can graph these inequalities...\n",
    "\n",
    "##Graphical Optimization\n",
    "The overlap of these graphs is known as the __feasible region__. A solution to the problem must lie in the region in order to obey both of the constraints.\n",
    "\n",
    "And, because the constraints are linear, the maximum and minimum must lie on the boundary. \n",
    "\n",
    "In fact, it is most likely that the optimum occurs at one of the corner points. We can even find the values of the corner points with a little algebra:\n",
    "\n",
    "That the inequalities dropped away because we're focusing on the boundary. We are interested in the points exactly on the constraint lines, not above or below.\n",
    "\n",
    "Another thing that may cause grief later is not keeping track of which equation goes with which line. I wasn't careful with labeling here; you will need to be.\n",
    "\n"
   ]
  },
  {
   "cell_type": "markdown",
   "metadata": {},
   "source": [
    "###Practice Problem B\n",
    "Suppose a company hires both experienced and inexperienced workers. \n",
    "* Experienced workers are paid \\$15/hour and inexperienced workers are paid \\$10/hour. The company can spend \\$1200/hour on labor.\n",
    "* Experienced workers require an average of 1 minute an hour of contact with a supervisor; inexperienced workers require 2. There are two supervisors who can provide 120 minutes in an hour.\n",
    "\n",
    "Convert both of these into inequality constraints. Graph them, find the feasible region, and find all four corner points.\n",
    "\n",
    "You can choose to graph by hand or using Julia. If you use Julia, you'll need to make each of the constraints into an equation in slope-intercept form so Gadfly, Julia's graphing package, can graph it."
   ]
  },
  {
   "cell_type": "code",
   "execution_count": null,
   "metadata": {
    "collapsed": false,
    "run_control": {
     "read_only": false
    }
   },
   "outputs": [],
   "source": [
    "# Labor constraint: \n",
    "## a + b <= something\n",
    "#\n",
    "\n",
    "## Define maxCost from the problem\n",
    "maxCost = \n",
    "\n",
    "## Write as a function like this: labor(a, b) = a + b\n",
    "labor() = \n",
    "\n",
    "# Supervisor contact constraint: \n",
    "## a + b <= something\n",
    "#\n",
    "\n",
    "## Define maxTime from the problem\n",
    "maxTime = \n",
    "\n",
    "## Write as a function like this: supervisor(a, b) = a + b\n",
    "supervisor() = \n",
    "\n",
    "Gadfly.plot((labor == maxCost) | (supervisor == maxTime), 0, 120, 0, 120)"
   ]
  },
  {
   "cell_type": "code",
   "execution_count": null,
   "metadata": {
    "collapsed": false,
    "run_control": {
     "read_only": false
    }
   },
   "outputs": [],
   "source": [
    "ans301B()"
   ]
  },
  {
   "cell_type": "markdown",
   "metadata": {},
   "source": [
    "##Enter the Objective Function\n",
    "<img src=\"files/3-1/testpoints.png\" width=200 align=\"left\" />After you have the feasible region and the corner points, it's time to consider the objective function. \n",
    "\n",
    "The simplest way to optimize is to find the value of the objective function by plugging in each point, then choose the best one.\n",
    "\n",
    "Suppose your objective was to maximize \n",
    "$f = 10x_1 + 8.4x_2$. If you plug in the $x_1$ and $x_2$ at each corner, you would get...\n",
    "<img src=\"files/3-1/foundmax.png\" width=200 />\n",
    "...a maximum of $170$\n",
    "when $x_1 = 17$ and\n",
    "$x_2 = 0$.\n",
    "\n",
    "If you have a tie between two corners, the entire line segment between them will hold optimal solutions.\n",
    "\n",
    "A way to find the optimum without plugging in points is to sketch the slope of the objective function on the graph.\n",
    "<img src=\"files/3-1/slopeobj.png\" width=200 />\n",
    "$f = 10x_1 + 8.4x_2$  has slope\n",
    "$x_2\\over{x_1}$ = $-10\\over8.4$, a little\n",
    "steeper than -1.\n",
    "\n",
    "If you drag the slope line to the\n",
    "right, you can see that the last \n",
    "place it touches the feasible region is (17, 0). This will be the best point."
   ]
  },
  {
   "cell_type": "code",
   "execution_count": null,
   "metadata": {
    "collapsed": false,
    "run_control": {
     "read_only": false
    }
   },
   "outputs": [],
   "source": [
    "revealable(slope301)"
   ]
  },
  {
   "cell_type": "markdown",
   "metadata": {},
   "source": [
    "###Practice Problem C\n",
    "Write and optimize each objective function using your graph and points from Problem B. First plug in all the points to find the maximum, then use the slope of the objective function to verify your answer.\n",
    "1. The company finds that experienced workers complete 10 tasks per minute, while inexperienced workers only complete 9. Maximize task completion.\n",
    "2. The company finds that experienced workers make higher quality products, generating 3 new customers per worker per year. Inexperienced workers generate 2. Maximize customer gain. "
   ]
  },
  {
   "cell_type": "code",
   "execution_count": null,
   "metadata": {
    "collapsed": true,
    "run_control": {
     "read_only": false
    }
   },
   "outputs": [],
   "source": [
    "# Calculate here\n"
   ]
  },
  {
   "cell_type": "code",
   "execution_count": null,
   "metadata": {
    "collapsed": false,
    "run_control": {
     "read_only": false
    }
   },
   "outputs": [],
   "source": [
    "revealable(ans301C)"
   ]
  },
  {
   "cell_type": "markdown",
   "metadata": {},
   "source": [
    "##Active and Inactive Constraints\n",
    "An optimal solution that lies at the intersection point of two constraints causes both of those constraints to be considered *active*. \n",
    "<img src=\"files/3-1/activeconstr.png\" width=300 />\n",
    "If any of the constraint lines do not pass through the optimal point, those constraints are called *inactive*.\n",
    "<img src=\"files/3-1/inactiveconstr.png\" width=300 />\n",
    "In general, we ignore the constraints at 0 and focus on the constraints generated by limits on resources.\n",
    "\n",
    "An *active constraint* means that this factor is causing the limitation on the objective function. If an active constraint was amount of flour, then by increasing the flour available you could improve your objective. If all your constraints are active, that is good news&mdash;you are using all your resources.\n",
    "\n",
    "An *inactive constraint* means that this factor is not causing the limitation. If amount of flour was an inactive constraint, then you will have flour left over; perhaps you could use it for something else or sell it. \n"
   ]
  },
  {
   "cell_type": "markdown",
   "metadata": {},
   "source": [
    "###Practice Problem D\n",
    "For your answers to both C1 and C2, identify the active and inactive constraints. Do not include the 0 boundaries. \n"
   ]
  },
  {
   "cell_type": "raw",
   "metadata": {},
   "source": [
    "Answer here.\n"
   ]
  },
  {
   "cell_type": "code",
   "execution_count": null,
   "metadata": {
    "collapsed": false,
    "run_control": {
     "read_only": false
    }
   },
   "outputs": [],
   "source": [
    "revealable(ans301D)"
   ]
  },
  {
   "cell_type": "markdown",
   "metadata": {},
   "source": [
    "###Practice Problem E\n",
    "Discuss the implications of each of the following (both active and inactive constraints). How would you increase the value of $f$, the objective function?\n",
    "\n",
    "1. money is active, supervision inactive\n",
    "2. supervision active, money inactive\n",
    "3. both active"
   ]
  },
  {
   "cell_type": "raw",
   "metadata": {},
   "source": [
    "Answer here.\n"
   ]
  },
  {
   "cell_type": "code",
   "execution_count": null,
   "metadata": {
    "collapsed": false,
    "run_control": {
     "read_only": false
    }
   },
   "outputs": [],
   "source": [
    "revealable(ans301E)"
   ]
  },
  {
   "cell_type": "code",
   "execution_count": null,
   "metadata": {
    "collapsed": true,
    "run_control": {
     "read_only": false
    }
   },
   "outputs": [],
   "source": []
  }
 ],
 "metadata": {
  "kernelspec": {
   "display_name": "Julia 0.3.10",
   "language": "julia",
   "name": "julia-0.3"
  },
  "language_info": {
   "file_extension": ".jl",
   "mimetype": "application/julia",
   "name": "julia",
   "version": "0.3.10"
  }
 },
 "nbformat": 4,
 "nbformat_minor": 0
}
