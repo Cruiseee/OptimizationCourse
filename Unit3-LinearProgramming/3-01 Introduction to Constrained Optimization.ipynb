{
 "cells": [
  {
   "cell_type": "markdown",
   "metadata": {
    "run_control": {
     "read_only": false
    }
   },
   "source": [
    "# 3-1 Introduction to Constrained Optimization\n",
    "* Overview\n",
    "* Graphical Optimization"
   ]
  },
  {
   "cell_type": "code",
   "execution_count": 1,
   "metadata": {
    "run_control": {
     "read_only": false
    }
   },
   "outputs": [
    {
     "data": {
      "text/html": [
       "<div id=\"interact-js-shim\">\n",
       "    <script charset=\"utf-8\">\r\n",
       "(function (IPython, $, _, MathJax) {\r\n",
       "    $.event.special.destroyed = {\r\n",
       "\tremove: function(o) {\r\n",
       "\t    if (o.handler) {\r\n",
       "\t\to.handler.apply(this, arguments)\r\n",
       "\t    }\r\n",
       "\t}\r\n",
       "    }\r\n",
       "\r\n",
       "    var OutputArea = IPython.version >= \"4.0.0\" ? require(\"notebook/js/outputarea\").OutputArea : IPython.OutputArea;\r\n",
       "\r\n",
       "    var redrawValue = function (container, type, val) {\r\n",
       "\tvar selector = $(\"<div/>\");\r\n",
       "\tvar oa = new OutputArea(_.extend(selector, {\r\n",
       "\t    selector: selector,\r\n",
       "\t    prompt_area: true,\r\n",
       "\t    events: IPython.events,\r\n",
       "\t    keyboard_manager: IPython.keyboard_manager\r\n",
       "\t})); // Hack to work with IPython 2.1.0\r\n",
       "\r\n",
       "\tswitch (type) {\r\n",
       "\tcase \"image/png\":\r\n",
       "            var _src = 'data:' + type + ';base64,' + val;\r\n",
       "\t    $(container).find(\"img\").attr('src', _src);\r\n",
       "\t    break;\r\n",
       "\tcase \"text/latex\":\r\n",
       "\t\tif (MathJax){\r\n",
       "\t\t\tvar math = MathJax.Hub.getAllJax(container)[0];\r\n",
       "\t\t\tMathJax.Hub.Queue([\"Text\", math, val.replace(/^\\${1,2}|\\${1,2}$/g, '')]);\r\n",
       "\t\t\tbreak;\r\n",
       "\t\t}\r\n",
       "\tdefault:\r\n",
       "\t    var toinsert = OutputArea.append_map[type].apply(\r\n",
       "\t\toa, [val, {}, selector]\r\n",
       "\t    );\r\n",
       "\t    $(container).empty().append(toinsert.contents());\r\n",
       "\t    selector.remove();\r\n",
       "\t}\r\n",
       "    }\r\n",
       "\r\n",
       "\r\n",
       "    $(document).ready(function() {\r\n",
       "\tfunction initComm(evt, data) {\r\n",
       "\t    var comm_manager = data.kernel.comm_manager;\r\n",
       "        //_.extend(comm_manager.targets, require(\"widgets/js/widget\"))\r\n",
       "\t    comm_manager.register_target(\"Signal\", function (comm) {\r\n",
       "            comm.on_msg(function (msg) {\r\n",
       "                var val = msg.content.data.value;\r\n",
       "                $(\".signal-\" + comm.comm_id).each(function() {\r\n",
       "                var type = $(this).data(\"type\");\r\n",
       "                if (typeof(val[type]) !== \"undefined\" && val[type] !== null) {\r\n",
       "                    redrawValue(this, type, val[type], type);\r\n",
       "                }\r\n",
       "                });\r\n",
       "                delete val;\r\n",
       "                delete msg.content.data.value;\r\n",
       "            });\r\n",
       "\t    });\r\n",
       "\r\n",
       "\t    // coordingate with Comm and redraw Signals\r\n",
       "\t    // XXX: Test using Reactive here to improve performance\r\n",
       "\t    $([IPython.events]).on(\r\n",
       "\t\t'output_appended.OutputArea', function (event, type, value, md, toinsert) {\r\n",
       "\t\t    if (md && md.reactive) {\r\n",
       "                // console.log(md.comm_id);\r\n",
       "                toinsert.addClass(\"signal-\" + md.comm_id);\r\n",
       "                toinsert.data(\"type\", type);\r\n",
       "                // Signal back indicating the mimetype required\r\n",
       "                var comm_manager = IPython.notebook.kernel.comm_manager;\r\n",
       "                var comm = comm_manager.comms[md.comm_id];\r\n",
       "                comm.then(function (c) {\r\n",
       "                    c.send({action: \"subscribe_mime\",\r\n",
       "                       mime: type});\r\n",
       "                    toinsert.bind(\"destroyed\", function() {\r\n",
       "                        c.send({action: \"unsubscribe_mime\",\r\n",
       "                               mime: type});\r\n",
       "                    });\r\n",
       "                })\r\n",
       "\t\t    }\r\n",
       "\t    });\r\n",
       "\t}\r\n",
       "\r\n",
       "\ttry {\r\n",
       "\t    // try to initialize right away. otherwise, wait on the status_started event.\r\n",
       "\t    initComm(undefined, IPython.notebook);\r\n",
       "\t} catch (e) {\r\n",
       "\t    $([IPython.events]).on('kernel_created.Kernel kernel_created.Session', initComm);\r\n",
       "\t}\r\n",
       "    });\r\n",
       "})(IPython, jQuery, _, MathJax);\r\n",
       "</script>\n",
       "    <script>\n",
       "        window.interactLoadedFlag = true\n",
       "       $(\"#interact-js-shim\").bind(\"destroyed\", function () {\n",
       "           if (window.interactLoadedFlag) {\n",
       "               console.warn(\"JavaScript required by Interact will be removed if you remove this cell or run using Interact more than once.\")\n",
       "           }\n",
       "       })\n",
       "       $([IPython.events]).on(\"kernel_starting.Kernel kernel_restarting.Kernel\", function () { window.interactLoadedFlag = false })\n",
       "   </script>\n",
       "</div>"
      ]
     },
     "metadata": {},
     "output_type": "display_data"
    },
    {
     "name": "stderr",
     "output_type": "stream",
     "text": [
      "WARNING: Method definition <="
     ]
    },
    {
     "data": {
      "text/markdown": [
       "\n"
      ],
      "text/plain": [
       "Revealables.Revealable(\"###Answer D\\ntableau before phase 1 subtraction step:\\n\\n        [2  4  1  1  0  0  0 20\\n         3  1  5  0 -1  1  0 10 \\n         0  0  0  0  0  1  1  0]\\n\\nphase 1 tableau:\\n\\n        [2  4  1  1  0  0  0  20\\n         3  1  5  0 -1  1  0  10\\n        -3 -1 -5  0  1  0  1 -10]\\n\\nafter 1 pivot/final phase 1 tableau:\\n\\n        [7 19  0  5  1  0 90\\n         3  1  5  0 -1  0 10\\n         0  0  0  0  0  5  0]\\n\\nphase 2 tableau:\\n\\n        [ 7  19   0   5   1   0  90\\n          3   1   5   0  -1   0  10\\n        -15 -10 -20   0   0   1   0]\\n\\nAfter 3 pivots/final tableau:\\n\\n        [   35    95     0    25   5    0    450\\n          4750  9500  2375  2375   0    0  47500\\n         59375 166250    0 47500   0 2375 950000]\\n\\nMaximum value of 400 when x<sub>3</sub> = 20; slack variable x<sub>5</sub> = 90.\\n\", \"Answer\", false, false)"
      ]
     },
     "execution_count": 1,
     "metadata": {},
     "output_type": "execute_result"
    },
    {
     "name": "stderr",
     "output_type": "stream",
     "text": [
      "(IntervalArithmetic.Interval{T<:Real}, IntervalArithmetic.Interval{S<:Real}) in module IntervalArithmetic at C:\\Users\\Victoria Docherty\\.julia\\v0.6\\IntervalArithmetic\\src\\intervals\\arithmetic.jl:26 overwritten in module ImplicitEquations at C:\\Users\\Victoria Docherty\\.julia\\v0.6\\ImplicitEquations\\src\\intervals.jl:9.\n"
     ]
    }
   ],
   "source": [
    "using Revealables\n",
    "using Gadfly, ImplicitEquations\n",
    "include(\"files/extras.jl\")\n",
    "include(\"files/answers.jl\")"
   ]
  },
  {
   "cell_type": "markdown",
   "metadata": {},
   "source": [
    "##Constrained Optimization\n",
    "<img src=\"files/3-1/unbounded.png\" width=75 align=\"right\" />In the previous unit, most of the functions we examined were *unconstrained*, meaning they either had no boundaries or the boundaries were soft. \n",
    "<br clear=\"all\" />\n",
    "<img src=\"files/3-1/bounded.png\" width=75 align=\"left\" />In this unit, we will be examining situations that involve constraints.\n",
    "\n",
    "A constraint is a hard limit placed on the value of a variable, which prevents us from going forever in certain directions.\n",
    "<br clear=\"all\" />\n",
    "With nonlinear functions, the optimum values can either occur at the boundaries or between them.\n",
    "<img src=\"files/3-1/extrema.png\" width=400 />\n",
    "With linear functions, the optimum values can only occur at the boundaries.\n",
    "<img src=\"files/3-1/linearextrema.png\" width=235 />\n",
    "In this unit, we will mostly be working with linear functions.\n",
    "\n",
    "##Examples of Constraints\n",
    "If you are attempting to maximize the objective function, typical constraints might involve time, money, and resources. The amounts of these things are limited, and these limits also place limits on the best possible value of the objective function. \n",
    "\n",
    "If you are attempting to minimize, the constraints are more particular to the situation. \n",
    "\n",
    "For example on the minimization, if you are trying to minimize *shipping costs*, a constraint might be the fact that the product still has to get there in a reasonable amount of time. (The absolute minimum shipping cost would involve not shipping anything; you’d probably go out of business.) If you are trying to minimize your *calorie intake*, a constraint might be the fact that you have to remain healthy, which would involve minimum amounts of protein, fats, vitamins and minerals. (The absolute minimum calorie intake would be zero, resulting in death from starvation.)\n",
    "\n",
    "This unit will focus primarily on maximization.\n",
    "\n",
    "##Writing Constraints\n",
    "Recall from Algebra that if a single gizmo costs \\$4, then two gizmos cost \\$8, five gizmos cost \\$20, and $g$ gizmos cost \\$4$g$.\n",
    "\n",
    "If you buy $g$ gizmos at \\$4 and $s$ sprockets at \\$2, then your total cost will be \\$(4$g$ + 2$s$). \n",
    "If you only have \\$70 to spend at the gizmo-and-sprocket store, then your total cost must be \n",
    "4$g$ + 2$s$ ≤ 70. The 70 is the boundary. The whole inequality is linear (because all terms are first degree), so we call the inequality a *linear constraint*.\n",
    "\n"
   ]
  },
  {
   "cell_type": "markdown",
   "metadata": {},
   "source": [
    "###Practice Problem A\n",
    "Write constraints for each of the following:\n",
    "1. A batch of cookies requires 3 cups of flour, and a cake requires 4. Write a constraint limiting the amount of cookies and cakes that can be made with 24 cups of flour.\n",
    "2. Box type 1 can hold 20 books and box type 2 can hold 12. Write a constraint for the number of boxes needed in order to box up 100 books.\n",
    "3. If it takes you 4 minutes to bike a mile, 9 minutes to run a mile and 14 minutes to walk a mile, write a constraint that limits how many miles of each type of exercise you can get in a 45-minute lunch break.\n"
   ]
  },
  {
   "cell_type": "raw",
   "metadata": {},
   "source": [
    "Write your answers here.\n",
    "\n",
    "\n"
   ]
  },
  {
   "cell_type": "code",
   "execution_count": 2,
   "metadata": {
    "run_control": {
     "read_only": false
    }
   },
   "outputs": [
    {
     "data": {
      "text/html": [],
      "text/plain": [
       "Interact.ToggleButton(1: \"input\" = false Bool , \"Answer\", false)"
      ]
     },
     "metadata": {},
     "output_type": "display_data"
    },
    {
     "data": {
      "text/markdown": [
       "\n"
      ],
      "text/plain": [
       "Revealables.Revealable(\"###Answer A\\n1. 3c + 4k &le; 24    (c = number of batches of cookies; k = number of cakes)\\n2. 20b<sub>1</sub> + 12b<sub>2</sub> &ge; 100   (b<sub>1</sub> = number of box 1, b<sub>2</sub> = number of box 2)\\n3. 4b + 9r + 14w &le;  45 (b = number of miles biking, r = number of miles running, w = number of miles walking)\\n\\nSome things to watch out for: \\n\\n* Make sure variables are phrased in terms of *number of*. People are often tempted to abbreviate `c = cookies`, which looks great until they try to read the constraint and come up with \\\"3 cookies plus four cakes is less than 24,\\\" which makes no sense. It's 3 times the *number of batches* of cookies. It's a pain in the rear but saves grief later.\\n\\n* Note that the object or factor described by all the numbers is invisible in the constraint. In 1, the whole example is about flour, but nothing in the constraint refers to \\\"flour\\\"; it has disappeared. Similarly in the answer to 2 there are no \\\"books\\\" and in 3 there are no \\\"minutes.\\\" This gets really confusing for some people, who will often want to variable-ize flour, books, or minutes.\\n\", \"Answer\", false, false)"
      ]
     },
     "execution_count": 2,
     "metadata": {
      "comm_id": "2270f048-b501-41c9-8795-95b98438d2a7",
      "reactive": true
     },
     "output_type": "execute_result"
    },
    {
     "name": "stderr",
     "output_type": "stream",
     "text": [
      "WARNING: Compat.ASCIIString is deprecated, use String instead.\n",
      "  likely near C:\\Users\\Victoria Docherty\\.julia\\v0.6\\IJulia\\src\\kernel.jl:31\n",
      "WARNING: Compat.ASCIIString is deprecated, use String instead.\n",
      "  likely near C:\\Users\\Victoria Docherty\\.julia\\v0.6\\IJulia\\src\\kernel.jl:31\n",
      "WARNING: Compat.ASCIIString is deprecated, use String instead.\n",
      "  likely near C:\\Users\\Victoria Docherty\\.julia\\v0.6\\IJulia\\src\\kernel.jl:31\n"
     ]
    }
   ],
   "source": [
    "revealable(ans301A)"
   ]
  },
  {
   "cell_type": "markdown",
   "metadata": {},
   "source": [
    "##Algebra Review\n",
    "Suppose you have two constraints as follows:\n",
    "\n",
    "$2x_1 + 3x_2 \\le 34$\n",
    "\n",
    "$3x_1 + 5x_2 \\le 54$\n",
    "\n",
    "Also assume that $x_1$ and $x_2$ are objects and must be $\\ge 0$.\n",
    "You can graph these inequalities...\n",
    "\n",
    "##Graphical Optimization\n",
    "The overlap of these graphs is known as the __feasible region__. A solution to the problem must lie in the region in order to obey both of the constraints.\n",
    "\n",
    "And, because the constraints are linear, the maximum and minimum must lie on the boundary. \n",
    "\n",
    "In fact, it is most likely that the optimum occurs at one of the corner points. We can even find the values of the corner points with a little algebra:\n",
    "\n",
    "That the inequalities dropped away because we're focusing on the boundary. We are interested in the points exactly on the constraint lines, not above or below.\n",
    "\n",
    "Another thing that may cause grief later is not keeping track of which equation goes with which line. I wasn't careful with labeling here; you will need to be.\n",
    "\n"
   ]
  },
  {
   "cell_type": "markdown",
   "metadata": {},
   "source": [
    "###Practice Problem B\n",
    "Suppose a company hires both experienced and inexperienced workers. \n",
    "* Experienced workers are paid \\$15/hour and inexperienced workers are paid \\$10/hour. The company can spend \\$1200/hour on labor.\n",
    "* Experienced workers require an average of 1 minute an hour of contact with a supervisor; inexperienced workers require 2. There are two supervisors who can provide 120 minutes in an hour.\n",
    "\n",
    "Convert both of these into inequality constraints. Graph them, find the feasible region, and find all four corner points.\n",
    "\n",
    "You can choose to graph by hand or using Julia. If you use Julia, you'll need to make each of the constraints into an equation in slope-intercept form so Gadfly, Julia's graphing package, can graph it."
   ]
  },
  {
   "cell_type": "code",
   "execution_count": null,
   "metadata": {
    "run_control": {
     "read_only": false
    }
   },
   "outputs": [],
   "source": [
    "# Labor constraint: \n",
    "## a + b <= something\n",
    "#\n",
    "\n",
    "## Define maxCost from the problem\n",
    "maxCost = \n",
    "\n",
    "## Write as a function like this: labor(a, b) = a + b\n",
    "labor() = \n",
    "\n",
    "# Supervisor contact constraint: \n",
    "## a + b <= something\n",
    "#\n",
    "\n",
    "## Define maxTime from the problem\n",
    "maxTime = \n",
    "\n",
    "## Write as a function like this: supervisor(a, b) = a + b\n",
    "supervisor() = \n",
    "\n",
    "Gadfly.plot((labor == maxCost) | (supervisor == maxTime), 0, 120, 0, 120)"
   ]
  },
  {
   "cell_type": "code",
   "execution_count": 3,
   "metadata": {
    "run_control": {
     "read_only": false
    }
   },
   "outputs": [
    {
     "name": "stdout",
     "output_type": "stream",
     "text": [
      "Corner points are at (0, 0), (80, 0), (0, 60) and (60, 30).\n",
      "    \n",
      "\n",
      "    \n",
      "labor(exp, inexp) = 15exp + 10inexp\n",
      "    \n",
      "supervisor(exp, inexp) = exp + 2inexp\n",
      "    \n",
      "Gadfly.plot((labor == 1200) | (supervisor == 120), 0, 120, 0, 120)\n"
     ]
    },
    {
     "ename": "LoadError",
     "evalue": "\u001b[91mMethodError: no method matching plot(::Bool, ::Int64, ::Int64, ::Int64, ::Int64)\u001b[0m\nClosest candidates are:\n  plot(\u001b[91m::Function\u001b[39m, ::Number, ::Number, ::Number, ::Number, \u001b[91m::Union{Function, Gadfly.Element, Gadfly.Theme, Type}...\u001b[39m; mapping...) at C:\\Users\\Victoria Docherty\\.julia\\v0.6\\Gadfly\\src\\poetry.jl:53\n  plot(\u001b[91m::Array{T<:Union{Function, Type},1}\u001b[39m, ::Number, ::Number, \u001b[91m::Union{Function, Gadfly.Element, Gadfly.Theme, Type}...\u001b[39m; mapping...) where T<:Union{Function, Type} at C:\\Users\\Victoria Docherty\\.julia\\v0.6\\Gadfly\\src\\poetry.jl:16\n  plot(\u001b[91m::Function\u001b[39m, ::Number, ::Number, \u001b[91m::Union{Function, Gadfly.Element, Gadfly.Theme, Type}...\u001b[39m; mapping...) at C:\\Users\\Victoria Docherty\\.julia\\v0.6\\Gadfly\\src\\poetry.jl:46\u001b[39m",
     "output_type": "error",
     "traceback": [
      "\u001b[91mMethodError: no method matching plot(::Bool, ::Int64, ::Int64, ::Int64, ::Int64)\u001b[0m\nClosest candidates are:\n  plot(\u001b[91m::Function\u001b[39m, ::Number, ::Number, ::Number, ::Number, \u001b[91m::Union{Function, Gadfly.Element, Gadfly.Theme, Type}...\u001b[39m; mapping...) at C:\\Users\\Victoria Docherty\\.julia\\v0.6\\Gadfly\\src\\poetry.jl:53\n  plot(\u001b[91m::Array{T<:Union{Function, Type},1}\u001b[39m, ::Number, ::Number, \u001b[91m::Union{Function, Gadfly.Element, Gadfly.Theme, Type}...\u001b[39m; mapping...) where T<:Union{Function, Type} at C:\\Users\\Victoria Docherty\\.julia\\v0.6\\Gadfly\\src\\poetry.jl:16\n  plot(\u001b[91m::Function\u001b[39m, ::Number, ::Number, \u001b[91m::Union{Function, Gadfly.Element, Gadfly.Theme, Type}...\u001b[39m; mapping...) at C:\\Users\\Victoria Docherty\\.julia\\v0.6\\Gadfly\\src\\poetry.jl:46\u001b[39m",
      "",
      "Stacktrace:",
      " [1] \u001b[1mans301B\u001b[22m\u001b[22m\u001b[1m(\u001b[22m\u001b[22m\u001b[1m)\u001b[22m\u001b[22m at \u001b[1mC:\\Users\\Victoria Docherty\\Desktop\\OptimizationCourse-master\\Unit3-LinearProgramming\\files\\answers.jl:30\u001b[22m\u001b[22m",
      " [2] \u001b[1minclude_string\u001b[22m\u001b[22m\u001b[1m(\u001b[22m\u001b[22m::String, ::String\u001b[1m)\u001b[22m\u001b[22m at \u001b[1m.\\loading.jl:515\u001b[22m\u001b[22m"
     ]
    }
   ],
   "source": [
    "ans301B()"
   ]
  },
  {
   "cell_type": "markdown",
   "metadata": {},
   "source": [
    "##Enter the Objective Function\n",
    "<img src=\"files/3-1/testpoints.png\" width=200 align=\"left\" />After you have the feasible region and the corner points, it's time to consider the objective function. \n",
    "\n",
    "The simplest way to optimize is to find the value of the objective function by plugging in each point, then choose the best one.\n",
    "\n",
    "Suppose your objective was to maximize \n",
    "$f = 10x_1 + 8.4x_2$. If you plug in the $x_1$ and $x_2$ at each corner, you would get...\n",
    "<img src=\"files/3-1/foundmax.png\" width=200 />\n",
    "...a maximum of $170$\n",
    "when $x_1 = 17$ and\n",
    "$x_2 = 0$.\n",
    "\n",
    "If you have a tie between two corners, the entire line segment between them will hold optimal solutions.\n",
    "\n",
    "A way to find the optimum without plugging in points is to sketch the slope of the objective function on the graph.\n",
    "<img src=\"files/3-1/slopeobj.png\" width=200 />\n",
    "$f = 10x_1 + 8.4x_2$  has slope\n",
    "$x_2\\over{x_1}$ = $-10\\over8.4$, a little\n",
    "steeper than -1.\n",
    "\n",
    "If you drag the slope line to the\n",
    "right, you can see that the last \n",
    "place it touches the feasible region is (17, 0). This will be the best point."
   ]
  },
  {
   "cell_type": "code",
   "execution_count": 4,
   "metadata": {
    "run_control": {
     "read_only": false
    }
   },
   "outputs": [
    {
     "data": {
      "text/html": [],
      "text/plain": [
       "Interact.ToggleButton(4: \"input-2\" = false Bool , \"Why find the slope?\", false)"
      ]
     },
     "metadata": {},
     "output_type": "display_data"
    },
    {
     "data": {
      "text/markdown": [
       "\n"
      ],
      "text/plain": [
       "Revealables.Revealable(\"###Finding the Slope\\nTo find the slope, the easiest way is to set f = 0 and solve for x<sub>2</sub> / x<sub>1</sub>. \\n\\nMaybe you'd rather just plug in the corner points. But sometimes you have an objective function that is a curve and not a line. In that case, the optimal value of the objective function will occur on a boundary line but not necessarily at a corner point. To solve, you would graph the curve of the objective function and drag it in the direction of increasing `f` (kind of like making a contour map) and find the last place the objective function contacts the feasible region. That will be the location of the maximum.\\n\", \"Why find the slope?\", false, false)"
      ]
     },
     "execution_count": 4,
     "metadata": {
      "comm_id": "8f66ea1e-fb6b-4f39-88ef-c7de7d1b1cf1",
      "reactive": true
     },
     "output_type": "execute_result"
    }
   ],
   "source": [
    "revealable(slope301)"
   ]
  },
  {
   "cell_type": "markdown",
   "metadata": {},
   "source": [
    "###Practice Problem C\n",
    "Write and optimize each objective function using your graph and points from Problem B. First plug in all the points to find the maximum, then use the slope of the objective function to verify your answer.\n",
    "1. The company finds that experienced workers complete 10 tasks per minute, while inexperienced workers only complete 9. Maximize task completion.\n",
    "2. The company finds that experienced workers make higher quality products, generating 3 new customers per worker per year. Inexperienced workers generate 2. Maximize customer gain. "
   ]
  },
  {
   "cell_type": "code",
   "execution_count": null,
   "metadata": {
    "collapsed": true,
    "run_control": {
     "read_only": false
    }
   },
   "outputs": [],
   "source": [
    "# Calculate here\n"
   ]
  },
  {
   "cell_type": "code",
   "execution_count": 5,
   "metadata": {
    "run_control": {
     "read_only": false
    }
   },
   "outputs": [
    {
     "data": {
      "text/html": [],
      "text/plain": [
       "Interact.ToggleButton(7: \"input-3\" = false Bool , \"Answer\", false)"
      ]
     },
     "metadata": {},
     "output_type": "display_data"
    },
    {
     "data": {
      "text/markdown": [
       "\n"
      ],
      "text/plain": [
       "Revealables.Revealable(\"###Answer C\\nThe corner points were (0, 0), (0, 60), (80, 0) and (30, 60).\\n1. f = 10x<sub>1</sub> + 9x<sub>2</sub>; maximized at (30, 60) with f = 840. The company should hire 30 experienced and 60 inexperienced workers for 840 tasks per minute.\\n2. f = 3x<sub>1</sub> + 2x<sub>2</sub>; maximized at (80, 0) with f = 240. The company should hire 80 experienced and 0 inexperienced workers for 240 customers per year.\\n\\nDon't forget to write, or at least think about, the meaning of the points rather than just the numerical values. \\n\", \"Answer\", false, false)"
      ]
     },
     "execution_count": 5,
     "metadata": {
      "comm_id": "3425eb61-c73b-433d-9c8b-200b1e2f1782",
      "reactive": true
     },
     "output_type": "execute_result"
    }
   ],
   "source": [
    "revealable(ans301C)"
   ]
  },
  {
   "cell_type": "markdown",
   "metadata": {},
   "source": [
    "##Active and Inactive Constraints\n",
    "An optimal solution that lies at the intersection point of two constraints causes both of those constraints to be considered *active*. \n",
    "<img src=\"files/3-1/activeconstr.png\" width=300 />\n",
    "If any of the constraint lines do not pass through the optimal point, those constraints are called *inactive*.\n",
    "<img src=\"files/3-1/inactiveconstr.png\" width=300 />\n",
    "In general, we ignore the constraints at 0 and focus on the constraints generated by limits on resources.\n",
    "\n",
    "An *active constraint* means that this factor is causing the limitation on the objective function. If an active constraint was amount of flour, then by increasing the flour available you could improve your objective. If all your constraints are active, that is good news&mdash;you are using all your resources.\n",
    "\n",
    "An *inactive constraint* means that this factor is not causing the limitation. If amount of flour was an inactive constraint, then you will have flour left over; perhaps you could use it for something else or sell it. \n"
   ]
  },
  {
   "cell_type": "markdown",
   "metadata": {},
   "source": [
    "###Practice Problem D\n",
    "For your answers to both C1 and C2, identify the active and inactive constraints. Do not include the 0 boundaries. \n"
   ]
  },
  {
   "cell_type": "raw",
   "metadata": {},
   "source": [
    "Answer here.\n"
   ]
  },
  {
   "cell_type": "code",
   "execution_count": 6,
   "metadata": {
    "run_control": {
     "read_only": false
    }
   },
   "outputs": [
    {
     "data": {
      "text/html": [],
      "text/plain": [
       "Interact.ToggleButton(10: \"input-4\" = false Bool , \"Answer\", false)"
      ]
     },
     "metadata": {},
     "output_type": "display_data"
    },
    {
     "data": {
      "text/markdown": [
       "\n"
      ],
      "text/plain": [
       "Revealables.Revealable(\"###Answer D\\nIn C1, both constraints were active. In C2, only the \\\"money\\\" constraint was active.\\n\", \"Answer\", false, false)"
      ]
     },
     "execution_count": 6,
     "metadata": {
      "comm_id": "85f4aec8-104d-468c-b3d6-6c2163933996",
      "reactive": true
     },
     "output_type": "execute_result"
    }
   ],
   "source": [
    "revealable(ans301D)"
   ]
  },
  {
   "cell_type": "markdown",
   "metadata": {},
   "source": [
    "###Practice Problem E\n",
    "Discuss the implications of each of the following (both active and inactive constraints). How would you increase the value of $f$, the objective function?\n",
    "\n",
    "1. money is active, supervision inactive\n",
    "2. supervision active, money inactive\n",
    "3. both active"
   ]
  },
  {
   "cell_type": "raw",
   "metadata": {},
   "source": [
    "Answer here.\n"
   ]
  },
  {
   "cell_type": "code",
   "execution_count": 7,
   "metadata": {
    "run_control": {
     "read_only": false
    }
   },
   "outputs": [
    {
     "data": {
      "text/html": [],
      "text/plain": [
       "Interact.ToggleButton(13: \"input-5\" = false Bool , \"Answer\", false)"
      ]
     },
     "metadata": {},
     "output_type": "display_data"
    },
    {
     "data": {
      "text/markdown": [
       "\n"
      ],
      "text/plain": [
       "Revealables.Revealable(\"###Answer E\\n1. If money is active and supervision is inactive, then by increasing the amount of money available for wages, you could increase the value of `f`. At the same time, you have extra supervisor time. They could take on extra duties or perhaps you could reduce one to part-time.\\n\\n2. If supervision is active and money inactive, then you might consider hiring another supervisor. You will have extra money in your wage allocation; this might be used to hire that supervisor, or perhaps offer bonuses, or just put in savings.\\n\\n3. If both constraints are active, then you would have to increase both wage allocation and supervisor availability to increase the value of `f`.\\n\", \"Answer\", false, false)"
      ]
     },
     "execution_count": 7,
     "metadata": {
      "comm_id": "1893ab18-b46d-4f5e-9b70-8a619084d5cb",
      "reactive": true
     },
     "output_type": "execute_result"
    }
   ],
   "source": [
    "revealable(ans301E)"
   ]
  },
  {
   "cell_type": "code",
   "execution_count": null,
   "metadata": {
    "collapsed": true,
    "run_control": {
     "read_only": false
    }
   },
   "outputs": [],
   "source": []
  }
 ],
 "metadata": {
  "kernelspec": {
   "display_name": "Julia 0.6.0",
   "language": "julia",
   "name": "julia-0.6"
  },
  "language_info": {
   "file_extension": ".jl",
   "mimetype": "application/julia",
   "name": "julia",
   "version": "0.6.0"
  }
 },
 "nbformat": 4,
 "nbformat_minor": 1
}
