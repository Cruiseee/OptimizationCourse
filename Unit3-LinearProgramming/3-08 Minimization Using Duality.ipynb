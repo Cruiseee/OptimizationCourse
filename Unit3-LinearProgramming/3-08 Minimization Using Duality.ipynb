{
 "cells": [
  {
   "cell_type": "markdown",
   "metadata": {
    "run_control": {
     "read_only": false
    }
   },
   "source": [
    "# 3-8 Minimization Using Duality\n",
    "* Standard Minimization Problem\n",
    "* Building the Dual Tableau\n",
    "* Solving Standard Minimization"
   ]
  },
  {
   "cell_type": "code",
   "execution_count": 1,
   "metadata": {
    "run_control": {
     "read_only": false
    }
   },
   "outputs": [
    {
     "data": {
      "text/html": [
       "<div id=\"interact-js-shim\">\n",
       "    <script charset=\"utf-8\">\r\n",
       "(function (IPython, $, _, MathJax) {\r\n",
       "    $.event.special.destroyed = {\r\n",
       "\tremove: function(o) {\r\n",
       "\t    if (o.handler) {\r\n",
       "\t\to.handler.apply(this, arguments)\r\n",
       "\t    }\r\n",
       "\t}\r\n",
       "    }\r\n",
       "\r\n",
       "    var OutputArea = IPython.version >= \"4.0.0\" ? require(\"notebook/js/outputarea\").OutputArea : IPython.OutputArea;\r\n",
       "\r\n",
       "    var redrawValue = function (container, type, val) {\r\n",
       "\tvar selector = $(\"<div/>\");\r\n",
       "\tvar oa = new OutputArea(_.extend(selector, {\r\n",
       "\t    selector: selector,\r\n",
       "\t    prompt_area: true,\r\n",
       "\t    events: IPython.events,\r\n",
       "\t    keyboard_manager: IPython.keyboard_manager\r\n",
       "\t})); // Hack to work with IPython 2.1.0\r\n",
       "\r\n",
       "\tswitch (type) {\r\n",
       "\tcase \"image/png\":\r\n",
       "            var _src = 'data:' + type + ';base64,' + val;\r\n",
       "\t    $(container).find(\"img\").attr('src', _src);\r\n",
       "\t    break;\r\n",
       "\tcase \"text/latex\":\r\n",
       "\t\tif (MathJax){\r\n",
       "\t\t\tvar math = MathJax.Hub.getAllJax(container)[0];\r\n",
       "\t\t\tMathJax.Hub.Queue([\"Text\", math, val.replace(/^\\${1,2}|\\${1,2}$/g, '')]);\r\n",
       "\t\t\tbreak;\r\n",
       "\t\t}\r\n",
       "\tdefault:\r\n",
       "\t    var toinsert = OutputArea.append_map[type].apply(\r\n",
       "\t\toa, [val, {}, selector]\r\n",
       "\t    );\r\n",
       "\t    $(container).empty().append(toinsert.contents());\r\n",
       "\t    selector.remove();\r\n",
       "\t}\r\n",
       "    }\r\n",
       "\r\n",
       "\r\n",
       "    $(document).ready(function() {\r\n",
       "\tfunction initComm(evt, data) {\r\n",
       "\t    var comm_manager = data.kernel.comm_manager;\r\n",
       "        //_.extend(comm_manager.targets, require(\"widgets/js/widget\"))\r\n",
       "\t    comm_manager.register_target(\"Signal\", function (comm) {\r\n",
       "            comm.on_msg(function (msg) {\r\n",
       "                var val = msg.content.data.value;\r\n",
       "                $(\".signal-\" + comm.comm_id).each(function() {\r\n",
       "                var type = $(this).data(\"type\");\r\n",
       "                if (typeof(val[type]) !== \"undefined\" && val[type] !== null) {\r\n",
       "                    redrawValue(this, type, val[type], type);\r\n",
       "                }\r\n",
       "                });\r\n",
       "                delete val;\r\n",
       "                delete msg.content.data.value;\r\n",
       "            });\r\n",
       "\t    });\r\n",
       "\r\n",
       "\t    // coordingate with Comm and redraw Signals\r\n",
       "\t    // XXX: Test using Reactive here to improve performance\r\n",
       "\t    $([IPython.events]).on(\r\n",
       "\t\t'output_appended.OutputArea', function (event, type, value, md, toinsert) {\r\n",
       "\t\t    if (md && md.reactive) {\r\n",
       "                // console.log(md.comm_id);\r\n",
       "                toinsert.addClass(\"signal-\" + md.comm_id);\r\n",
       "                toinsert.data(\"type\", type);\r\n",
       "                // Signal back indicating the mimetype required\r\n",
       "                var comm_manager = IPython.notebook.kernel.comm_manager;\r\n",
       "                var comm = comm_manager.comms[md.comm_id];\r\n",
       "                comm.then(function (c) {\r\n",
       "                    c.send({action: \"subscribe_mime\",\r\n",
       "                       mime: type});\r\n",
       "                    toinsert.bind(\"destroyed\", function() {\r\n",
       "                        c.send({action: \"unsubscribe_mime\",\r\n",
       "                               mime: type});\r\n",
       "                    });\r\n",
       "                })\r\n",
       "\t\t    }\r\n",
       "\t    });\r\n",
       "\t}\r\n",
       "\r\n",
       "\ttry {\r\n",
       "\t    // try to initialize right away. otherwise, wait on the status_started event.\r\n",
       "\t    initComm(undefined, IPython.notebook);\r\n",
       "\t} catch (e) {\r\n",
       "\t    $([IPython.events]).on('kernel_created.Kernel kernel_created.Session', initComm);\r\n",
       "\t}\r\n",
       "    });\r\n",
       "})(IPython, jQuery, _, MathJax);\r\n",
       "</script>\n",
       "    <script>\n",
       "        window.interactLoadedFlag = true\n",
       "       $(\"#interact-js-shim\").bind(\"destroyed\", function () {\n",
       "           if (window.interactLoadedFlag) {\n",
       "               console.warn(\"JavaScript required by Interact will be removed if you remove this cell or run using Interact more than once.\")\n",
       "           }\n",
       "       })\n",
       "       $([IPython.events]).on(\"kernel_starting.Kernel kernel_restarting.Kernel\", function () { window.interactLoadedFlag = false })\n",
       "   </script>\n",
       "</div>"
      ]
     },
     "metadata": {},
     "output_type": "display_data"
    },
    {
     "name": "stderr",
     "output_type": "stream",
     "text": [
      "WARNING: Method definition <=(IntervalArithmetic.Interval"
     ]
    },
    {
     "data": {
      "text/markdown": [
       "\n"
      ],
      "text/plain": [
       "Revealables.Revealable(\"###Answer D\\ntableau before phase 1 subtraction step:\\n\\n        [2  4  1  1  0  0  0 20\\n         3  1  5  0 -1  1  0 10 \\n         0  0  0  0  0  1  1  0]\\n\\nphase 1 tableau:\\n\\n        [2  4  1  1  0  0  0  20\\n         3  1  5  0 -1  1  0  10\\n        -3 -1 -5  0  1  0  1 -10]\\n\\nafter 1 pivot/final phase 1 tableau:\\n\\n        [7 19  0  5  1  0 90\\n         3  1  5  0 -1  0 10\\n         0  0  0  0  0  5  0]\\n\\nphase 2 tableau:\\n\\n        [ 7  19   0   5   1   0  90\\n          3   1   5   0  -1   0  10\\n        -15 -10 -20   0   0   1   0]\\n\\nAfter 3 pivots/final tableau:\\n\\n        [   35    95     0    25   5    0    450\\n          4750  9500  2375  2375   0    0  47500\\n         59375 166250    0 47500   0 2375 950000]\\n\\nMaximum value of 400 when x<sub>3</sub> = 20; slack variable x<sub>5</sub> = 90.\\n\", \"Answer\", false, false)"
      ]
     },
     "execution_count": 1,
     "metadata": {},
     "output_type": "execute_result"
    },
    {
     "name": "stderr",
     "output_type": "stream",
     "text": [
      "{T<:Real}, IntervalArithmetic.Interval{S<:Real}) in module IntervalArithmetic at C:\\Users\\Victoria Docherty\\.julia\\v0.6\\IntervalArithmetic\\src\\intervals\\arithmetic.jl:26 overwritten in module ImplicitEquations at C:\\Users\\Victoria Docherty\\.julia\\v0.6\\ImplicitEquations\\src\\intervals.jl:9.\n"
     ]
    }
   ],
   "source": [
    "using Revealables\n",
    "include(\"files/answers.jl\")"
   ]
  },
  {
   "cell_type": "markdown",
   "metadata": {},
   "source": [
    "##Standard Minimization Form\n",
    "__Standard minimization form__ involves a minimization problem where all constraints are &ge;, for example:\n",
    "\n",
    "minimize $3x_1 + 4x_2$\n",
    "\n",
    "subject to $\\begin{align*}\n",
    "x_1 + 3x_2 &\\geq 10 \\\\\n",
    "2x_1 + 2x_2 &\\geq 8\n",
    "\\end{align*}$\n",
    "\n",
    "If we converted a standard minimization problem straight into a tableau, it would look like this:\n",
    "\n",
    "$\\left[ \\begin{array}{cccccc}\n",
    "1 & 1 & \\color{blue}{-1} & 0 & 0 & 480 \\\\\n",
    "2 & 3 & 0 & \\color{blue}{-1} & 0 & 1200 \\\\\n",
    "\\color{red}{3} & \\color{red}{4} & 0 & 0 & 1 & 0\n",
    "\\end{array} \\right]$\n",
    "\n",
    "* <font color=\"red\">\"minimize $f = 3x_1 + 4x_2$\" becomes \"maximize $f = -3x_1 + -4x_2$\", which converts to $3x_1 + 4x_2+f=0$</font>\n",
    "* <font color=\"blue\">constraints with &ge; mean we subtract slack variables instad of adding them</font>\n",
    "\n",
    "This tableau has all sorts of things wrong with it, including negative solutions which are illegal."
   ]
  },
  {
   "cell_type": "markdown",
   "metadata": {},
   "source": [
    "##Duality\n",
    "Fortunately, a standard *minimization* problem can be converted into a *maximization* problem with the same solution. The minimization problem and its corresponding maximization problem are called __duals__ of each other.\n",
    "\n",
    "Once we form the dual matrix, we can use the simplex method from there. Why use this more complicated method? Sometimes (like in this example) the simplex method gives no usable solution for the original matrix. Other times, you want to add constraints easily to the matrix. That is harder to do with the original matrix.\n",
    "\n",
    "###Steps:\n",
    "The first step in solving a standard minimization problem using duality is to write the information into a matrix, ignoring everything you know about slack variables and objective functions.\n",
    "\n",
    "minimize $f = 3x_1 + 4x_2$\n",
    "\n",
    "subject to \n",
    "$\\begin{align}\n",
    "x_1 + 3x_2 &\\geq 10 \\\\\n",
    "2x_1 + 2x_2 &\\geq 8\n",
    "\\end{align}$\n",
    "\n",
    "$\\left[ \\begin{array}{ccc}\n",
    "1 & 3 & 10 \\\\\n",
    "2 & 2 & 8 \\\\\n",
    "3 & 4 & 0\n",
    "\\end{array} \\right]$\n",
    " \n",
    "Make sure you understand where each row of the matrix came from.\n",
    "\n",
    "The next step is to create the dual matrix, which starts with the *transpose* of the matrix we just made. \"Transpose\" means that the first column became the first row, and so on.\n",
    "\n",
    "$\\begin{array}{ccc}\n",
    "\\left[ \\begin{array}{ccc}\n",
    "1 & 3 & 10 \\\\\n",
    "2 & 2 & 8 \\\\\n",
    "3 & 4 & 0\n",
    "\\end{array} \\right]\n",
    "&\n",
    "becomes\n",
    "& \n",
    "\\left[ \\begin{array}{ccc}\n",
    "1 & 2 & 3 \\\\\n",
    "3 & 2 & 4 \\\\\n",
    "10 & 8 & 0\n",
    "\\end{array} \\right]\n",
    "\\end{array}\n",
    "$\n",
    "\n",
    "The next step is where it gets strange. Using the transposed matrix, fill it in as if it were a standard *maximization* matrix:\n",
    "\n",
    "$\\left[ \\begin{array}{cccccc}\n",
    "1 & 2 & 1 & 0 &0 & 3\\\\\n",
    "3 & 2 & 0 & 1 &0 & 4 \\\\\n",
    "10 & 8 & 0 & 0 &1 & 0\n",
    "\\end{array} \\right]$\n",
    "\n",
    "Then maximize as you normally would.\n",
    "\n",
    "After pivoting twice, the finished matrix looks like this:\n",
    "\n",
    "$\\left[ \\begin{array}{cccccc}\n",
    "0 & 4 & 3 & -1 &0 & 5\\\\\n",
    "12 & 0 & -6 & 6 &0 & 6 \\\\\n",
    "0 & 0 & 12 & 36 & 12 & 180\n",
    "\\end{array} \\right]$\n",
    "\n",
    "The last step is to divide the last row so the $f$ column becomes 1. Your new last row is:\n",
    "\n",
    "$\\left[ \\begin{array}{cccccc}\n",
    "\\color{green}{0} & \\color{green}{0} & \\color{red}{1} & \\color{red}{3} & \\color{blue}{1} & \\color{blue}{15}\n",
    "\\end{array} \\right]$\n",
    "\n",
    "* <font color=\"green\">slack variables 1 and 2</font>\n",
    "* <font color=\"red\">$x_1$ and $x_2$</font>\n",
    "* <font color=\"blue\">$1f=solution$</font>\n",
    "\n",
    "From this you can read the solution directly. The minimum of 15 occurs at $x_1=1, x_2=3$."
   ]
  },
  {
   "cell_type": "markdown",
   "metadata": {},
   "source": [
    "###Practice Problem A\n",
    "Convert these constraints into a dual matrix in standard maximum form:\n",
    "\n",
    "Minimize $4x_1 + 2x_2 + 5x_3$\n",
    "\n",
    "subject to $\\begin{align}\n",
    "3x_1 + x_2 + 5x_3 &\\geq 15 \\\\\n",
    "2x_1 + 4x_2 + 2x_3 &\\geq 20\n",
    "\\end{align}$\n",
    "\n",
    "Julia has a `transpose` function! If `A` is your matrix, transpose it with `transpose(A)`."
   ]
  },
  {
   "cell_type": "code",
   "execution_count": null,
   "metadata": {
    "collapsed": true,
    "run_control": {
     "read_only": false
    }
   },
   "outputs": [],
   "source": [
    "# Calculate here\n"
   ]
  },
  {
   "cell_type": "code",
   "execution_count": null,
   "metadata": {
    "run_control": {
     "read_only": false
    }
   },
   "outputs": [],
   "source": [
    "revealable(ans308A)"
   ]
  },
  {
   "cell_type": "markdown",
   "metadata": {},
   "source": [
    "###Practice Problem B\n",
    "Using your pivoting program for standard maximum simplex, complete the steps to solve your tableau from Problem A.\n",
    "1. Write the final last row.\n",
    "2. Identify the values of: \n",
    "  * the slack variables\n",
    "  * $x_1$, $x_2$, and $x_3$, and\n",
    "  * the minimized objective function. "
   ]
  },
  {
   "cell_type": "code",
   "execution_count": null,
   "metadata": {
    "collapsed": true,
    "run_control": {
     "read_only": false
    }
   },
   "outputs": [],
   "source": [
    "# Calculate here"
   ]
  },
  {
   "cell_type": "code",
   "execution_count": null,
   "metadata": {
    "run_control": {
     "read_only": false
    }
   },
   "outputs": [],
   "source": [
    "revealable(ans308B)"
   ]
  },
  {
   "cell_type": "markdown",
   "metadata": {},
   "source": [
    "###Practice Problem C\n",
    "An office manager is equipping a new workspace with storage units. Traditional shelves can hold 9 cubic feet of material and provide 3 square feet of work area on top. Deep file cabinets can hold 12 cubic feet of material and provide 6 square feet of work area on top. The manager needs at least 50 cubic feet of storage and 36 square feet of work area. File cabinets cost \\$100 each and shelves \\$70. Minimize cost. Write a full answer in context."
   ]
  },
  {
   "cell_type": "code",
   "execution_count": null,
   "metadata": {
    "collapsed": true,
    "run_control": {
     "read_only": false
    }
   },
   "outputs": [],
   "source": [
    "# Calculate here\n"
   ]
  },
  {
   "cell_type": "raw",
   "metadata": {},
   "source": [
    "Write your answer in context:\n"
   ]
  },
  {
   "cell_type": "code",
   "execution_count": null,
   "metadata": {
    "run_control": {
     "read_only": false
    }
   },
   "outputs": [],
   "source": [
    "revealable(ans308C)"
   ]
  },
  {
   "cell_type": "code",
   "execution_count": null,
   "metadata": {
    "collapsed": true,
    "run_control": {
     "read_only": false
    }
   },
   "outputs": [],
   "source": []
  }
 ],
 "metadata": {
  "kernelspec": {
   "display_name": "Julia 0.6.0",
   "language": "julia",
   "name": "julia-0.6"
  },
  "language_info": {
   "file_extension": ".jl",
   "mimetype": "application/julia",
   "name": "julia",
   "version": "0.6.0"
  }
 },
 "nbformat": 4,
 "nbformat_minor": 1
}
