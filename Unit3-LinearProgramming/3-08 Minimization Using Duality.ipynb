{
 "cells": [
  {
   "cell_type": "markdown",
   "metadata": {
    "run_control": {
     "read_only": false
    }
   },
   "source": [
    "# 3-8 Minimization Using Duality\n",
    "* Standard Minimization Problem\n",
    "* Building the Dual Tableau\n",
    "* Solving Standard Minimization"
   ]
  },
  {
   "cell_type": "code",
   "execution_count": null,
   "metadata": {
    "collapsed": false,
    "run_control": {
     "read_only": false
    }
   },
   "outputs": [],
   "source": [
    "using Revealables\n",
    "include(\"files/answers.jl\")"
   ]
  },
  {
   "cell_type": "markdown",
   "metadata": {},
   "source": [
    "##Standard Minimization Form\n",
    "__Standard minimization form__ involves a minimization problem where all constraints are &ge;, for example:\n",
    "\n",
    "minimize $3x_1 + 4x_2$\n",
    "\n",
    "subject to $\\begin{align*}\n",
    "x_1 + 3x_2 &\\geq 10 \\\\\n",
    "2x_1 + 2x_2 &\\geq 8\n",
    "\\end{align*}$\n",
    "\n",
    "If we converted a standard minimization problem straight into a tableau, it would look like this:\n",
    "\n",
    "$\\left[ \\begin{array}{cccccc}\n",
    "1 & 1 & \\color{blue}{-1} & 0 & 0 & 480 \\\\\n",
    "2 & 3 & 0 & \\color{blue}{-1} & 0 & 1200 \\\\\n",
    "\\color{red}{3} & \\color{red}{4} & 0 & 0 & 1 & 0\n",
    "\\end{array} \\right]$\n",
    "\n",
    "* <font color=\"red\">\"minimize $f = 3x_1 + 4x_2$\" becomes \"maximize $f = -3x_1 + -4x_2$\", which converts to $3x_1 + 4x_2+f=0$</font>\n",
    "* <font color=\"blue\">constraints with &ge; mean we subtract slack variables instad of adding them</font>\n",
    "\n",
    "This tableau has all sorts of things wrong with it, including negative solutions which are illegal."
   ]
  },
  {
   "cell_type": "markdown",
   "metadata": {},
   "source": [
    "##Duality\n",
    "Fortunately, a standard *minimization* problem can be converted into a *maximization* problem with the same solution. The minimization problem and its corresponding maximization problem are called __duals__ of each other.\n",
    "\n",
    "Once we form the dual matrix, we can use the simplex method from there. Why use this more complicated method? Sometimes (like in this example) the simplex method gives no usable solution for the original matrix. Other times, you want to add constraints easily to the matrix. That is harder to do with the original matrix.\n",
    "\n",
    "###Steps:\n",
    "The first step in solving a standard minimization problem using duality is to write the information into a matrix, ignoring everything you know about slack variables and objective functions.\n",
    "\n",
    "minimize $f = 3x_1 + 4x_2$\n",
    "\n",
    "subject to \n",
    "$\\begin{align}\n",
    "x_1 + 3x_2 &\\geq 10 \\\\\n",
    "2x_1 + 2x_2 &\\geq 8\n",
    "\\end{align}$\n",
    "\n",
    "$\\left[ \\begin{array}{ccc}\n",
    "1 & 3 & 10 \\\\\n",
    "2 & 2 & 8 \\\\\n",
    "3 & 4 & 0\n",
    "\\end{array} \\right]$\n",
    " \n",
    "Make sure you understand where each row of the matrix came from.\n",
    "\n",
    "The next step is to create the dual matrix, which starts with the *transpose* of the matrix we just made. \"Transpose\" means that the first column became the first row, and so on.\n",
    "\n",
    "$\\begin{array}{ccc}\n",
    "\\left[ \\begin{array}{ccc}\n",
    "1 & 3 & 10 \\\\\n",
    "2 & 2 & 8 \\\\\n",
    "3 & 4 & 0\n",
    "\\end{array} \\right]\n",
    "&\n",
    "becomes\n",
    "& \n",
    "\\left[ \\begin{array}{ccc}\n",
    "1 & 2 & 3 \\\\\n",
    "3 & 2 & 4 \\\\\n",
    "10 & 8 & 0\n",
    "\\end{array} \\right]\n",
    "\\end{array}\n",
    "$\n",
    "\n",
    "The next step is where it gets strange. Using the transposed matrix, fill it in as if it were a standard *maximization* matrix:\n",
    "\n",
    "$\\left[ \\begin{array}{cccccc}\n",
    "1 & 2 & 1 & 0 &0 & 3\\\\\n",
    "3 & 2 & 0 & 1 &0 & 4 \\\\\n",
    "10 & 8 & 0 & 0 &1 & 0\n",
    "\\end{array} \\right]$\n",
    "\n",
    "Then maximize as you normally would.\n",
    "\n",
    "After pivoting twice, the finished matrix looks like this:\n",
    "\n",
    "$\\left[ \\begin{array}{cccccc}\n",
    "0 & 4 & 3 & -1 &0 & 5\\\\\n",
    "12 & 0 & -6 & 6 &0 & 6 \\\\\n",
    "0 & 0 & 12 & 36 & 12 & 180\n",
    "\\end{array} \\right]$\n",
    "\n",
    "The last step is to divide the last row so the $f$ column becomes 1. Your new last row is:\n",
    "\n",
    "$\\left[ \\begin{array}{cccccc}\n",
    "\\color{green}{0} & \\color{green}{0} & \\color{red}{1} & \\color{red}{3} & \\color{blue}{1} & \\color{blue}{15}\n",
    "\\end{array} \\right]$\n",
    "\n",
    "* <font color=\"green\">slack variables 1 and 2</font>\n",
    "* <font color=\"red\">$x_1$ and $x_2$</font>\n",
    "* <font color=\"blue\">$1f=solution$</font>\n",
    "\n",
    "From this you can read the solution directly. The minimum of 15 occurs at $x_1=1, x_2=3$."
   ]
  },
  {
   "cell_type": "markdown",
   "metadata": {},
   "source": [
    "###Practice Problem A\n",
    "Convert these constraints into a dual matrix in standard maximum form:\n",
    "\n",
    "Minimize $4x_1 + 2x_2 + 5x_3$\n",
    "\n",
    "subject to $\\begin{align}\n",
    "3x_1 + x_2 + 5x_3 &\\geq 15 \\\\\n",
    "2x_1 + 4x_2 + 2x_3 &\\geq 20\n",
    "\\end{align}$\n",
    "\n",
    "Julia has a `transpose` function! If `A` is your matrix, transpose it with `transpose(A)`."
   ]
  },
  {
   "cell_type": "code",
   "execution_count": null,
   "metadata": {
    "collapsed": false,
    "run_control": {
     "read_only": false
    }
   },
   "outputs": [],
   "source": [
    "# Calculate here\n"
   ]
  },
  {
   "cell_type": "code",
   "execution_count": null,
   "metadata": {
    "collapsed": false,
    "run_control": {
     "read_only": false
    }
   },
   "outputs": [],
   "source": [
    "revealable(ans308A)"
   ]
  },
  {
   "cell_type": "markdown",
   "metadata": {},
   "source": [
    "###Practice Problem B\n",
    "Using your pivoting program for standard maximum simplex, complete the steps to solve your tableau from Problem A.\n",
    "1. Write the final last row.\n",
    "2. Identify the values of: \n",
    "  * the slack variables\n",
    "  * $x_1$, $x_2$, and $x_3$, and\n",
    "  * the minimized objective function. "
   ]
  },
  {
   "cell_type": "code",
   "execution_count": null,
   "metadata": {
    "collapsed": true,
    "run_control": {
     "read_only": false
    }
   },
   "outputs": [],
   "source": [
    "# Calculate here"
   ]
  },
  {
   "cell_type": "code",
   "execution_count": null,
   "metadata": {
    "collapsed": false,
    "run_control": {
     "read_only": false
    }
   },
   "outputs": [],
   "source": [
    "revealable(ans308B)"
   ]
  },
  {
   "cell_type": "markdown",
   "metadata": {},
   "source": [
    "###Practice Problem C\n",
    "An office manager is equipping a new workspace with storage units. Traditional shelves can hold 9 cubic feet of material and provide 3 square feet of work area on top. Deep file cabinets can hold 12 cubic feet of material and provide 6 square feet of work area on top. The manager needs at least 50 cubic feet of storage and 36 square feet of work area. File cabinets cost \\$100 each and shelves \\$70. Minimize cost. Write a full answer in context."
   ]
  },
  {
   "cell_type": "code",
   "execution_count": null,
   "metadata": {
    "collapsed": true,
    "run_control": {
     "read_only": false
    }
   },
   "outputs": [],
   "source": [
    "# Calculate here\n"
   ]
  },
  {
   "cell_type": "raw",
   "metadata": {},
   "source": [
    "Write your answer in context:\n"
   ]
  },
  {
   "cell_type": "code",
   "execution_count": null,
   "metadata": {
    "collapsed": false,
    "run_control": {
     "read_only": false
    }
   },
   "outputs": [],
   "source": [
    "revealable(ans308C)"
   ]
  },
  {
   "cell_type": "code",
   "execution_count": null,
   "metadata": {
    "collapsed": true,
    "run_control": {
     "read_only": false
    }
   },
   "outputs": [],
   "source": []
  }
 ],
 "metadata": {
  "kernelspec": {
   "display_name": "Julia 0.3.10",
   "language": "julia",
   "name": "julia-0.3"
  },
  "language_info": {
   "file_extension": ".jl",
   "mimetype": "application/julia",
   "name": "julia",
   "version": "0.3.10"
  }
 },
 "nbformat": 4,
 "nbformat_minor": 0
}
