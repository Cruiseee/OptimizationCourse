{
 "cells": [
  {
   "cell_type": "markdown",
   "metadata": {
    "run_control": {
     "read_only": false
    }
   },
   "source": [
    "# 3-2 Operations on Matrices\n",
    "* Definition and Use\n",
    "* Basic operations\n",
    "* Multiplication\n",
    "* Inverses"
   ]
  },
  {
   "cell_type": "code",
   "execution_count": null,
   "metadata": {
    "collapsed": false,
    "run_control": {
     "read_only": false
    }
   },
   "outputs": [],
   "source": [
    "using Revealables\n",
    "include(\"files/extras.jl\")\n",
    "include(\"files/answers.jl\")"
   ]
  },
  {
   "cell_type": "markdown",
   "metadata": {},
   "source": [
    "##Definition of Matrix\n",
    "A matrix is an array of objects, usually numbers. You used some in your work in Unit 2.\n",
    "\n",
    "We talk about the size of a matrix as $m$x$n$; $m$ is the number of rows, $n$ the number of columns. This is confusing because we're used to counting points on a coordinate plane as (horiz, vert). Matrices are sized in the opposite fashion.\n",
    "\n",
    "Here are some examples:\n",
    "\n",
    "$\\color{red}{\\left[ \\begin{array}{cc}\n",
    "3 & 4 \\\\\n",
    "-1 & 2 \\end{array} \\right]}\n",
    "\\color{blue}{\\left[ \\begin{array}{ccc}\n",
    "5 & 1 & 0 \\\\\n",
    "0 & 2 & 0 \\\\\n",
    "1 & 1 & 4 \\end{array} \\right]}\n",
    "\\color{green}{\\left[ \\begin{array}{cc}\n",
    "3 & -1 \\\\\n",
    "2 & -5 \\\\\n",
    "0 & 1 \\end{array} \\right]}\n",
    "\\color{orange}{\\left[ \\begin{array}{ccc}\n",
    "6 & 3 & 2 \\end{array} \\right]}\n",
    "\\color{purple}{\\left[ \\begin{array}{c}\n",
    "0 \\\\\n",
    "1 \\\\\n",
    "0 \\end{array} \\right]}$"
   ]
  },
  {
   "cell_type": "code",
   "execution_count": null,
   "metadata": {
    "collapsed": false,
    "run_control": {
     "read_only": false
    }
   },
   "outputs": [],
   "source": [
    "revealable(dims302)"
   ]
  },
  {
   "cell_type": "markdown",
   "metadata": {},
   "source": [
    "##Use of Matrices\n",
    "Sometimes matrices are just lists of numbers and a matrix is the best way to organize them.\n",
    "\n",
    "More frequently, though, the numbers stand for something. You used matrices where the numbers stood for coordinate points; they can also stand for coefficients of equations, among other things.\n",
    "\n",
    "For example, the system of equations\n",
    "\n",
    "$4x_1-5x_2=13$\n",
    "\n",
    "$2x_1+x_2=7$\n",
    "\n",
    "can be inserted into a matrix that looks like this:\n",
    "$\\left[ \\begin{array}{cc|c}\n",
    "4 & -5 & 13 \\\\\n",
    "2 & 1 & 7 \\end{array} \\right]$\n",
    "\n",
    "In matrix (array) form, the system of equations is much easier for a computer to work with.\n",
    "\n",
    "The terms \"matrix\" and \"array\" are interchangeable. \"Matrix\" is the mathematical term; \"array\" is the computer term. As long as we're talking about math, I'll use the term \"matrix,\" but once we get into programming, I'll use \"array.\""
   ]
  },
  {
   "cell_type": "markdown",
   "metadata": {},
   "source": [
    "##Basic Operations on Matrices\n",
    "* Matrices that are the same size can be added or subtracted:\n",
    "\n",
    "  $\\left[ \\begin{array}{cc}\n",
    "  3 & 5 \\\\\n",
    "  2 & 0 \\\\\n",
    "  6 & -8 \\end{array} \\right]\n",
    "  -\n",
    "  \\left[ \\begin{array}{cc}\n",
    "  -1 & 0 \\\\\n",
    "  3 & 4 \\\\\n",
    "  -2 & 5 \\end{array} \\right]\n",
    "  =\n",
    "  \\left[ \\begin{array}{cc}\n",
    "  4 & 5 \\\\\n",
    "  -1 & -4 \\\\\n",
    "  8 & -13 \\end{array} \\right]$\n",
    "\n",
    "\n",
    "* A matrix can also be multiplied easily by a constant:\n",
    "\n",
    "  $2\n",
    "  *\n",
    "  \\left[ \\begin{array}{ccc}\n",
    "  3 & 1 & -2 \\\\\n",
    "  2 & 5 & 0 \\end{array} \\right]\n",
    "  =\n",
    "  \\left[ \\begin{array}{ccc}\n",
    "  6 & 2 & -4 \\\\\n",
    "  4 & 10 & 0 \\end{array} \\right]$"
   ]
  },
  {
   "cell_type": "markdown",
   "metadata": {},
   "source": [
    "##Matrices in Julia\n",
    "To enter the previous example Julia, you could type in:"
   ]
  },
  {
   "cell_type": "code",
   "execution_count": null,
   "metadata": {
    "collapsed": true,
    "run_control": {
     "read_only": false
    }
   },
   "outputs": [],
   "source": [
    "A = [3 1 -2; 2 5 0]\n",
    "2*A"
   ]
  },
  {
   "cell_type": "markdown",
   "metadata": {},
   "source": [
    "Spaces separate the numbers across a row, and a semicolon marks the break between rows. If you don't need to save `A` for later, you could also just type in:"
   ]
  },
  {
   "cell_type": "code",
   "execution_count": null,
   "metadata": {
    "collapsed": true,
    "run_control": {
     "read_only": false
    }
   },
   "outputs": [],
   "source": [
    "2*[3 1 -2; 2 5 0]"
   ]
  },
  {
   "cell_type": "markdown",
   "metadata": {},
   "source": [
    "###Practice Problem A\n",
    "\n",
    "   \n",
    "1. Calculate by hand:\n",
    "\n",
    "   $3\n",
    "  \\cdot\n",
    "  \\left[ \\begin{array}{cc}\n",
    "  2 & 1 \\\\\n",
    "  1 & 4 \\end{array} \\right]\n",
    "  +\n",
    "  \\left[ \\begin{array}{cc}\n",
    "  0 & -3 \\\\\n",
    "  8 & 5 \\end{array} \\right]\n",
    "  -\n",
    "  4\n",
    "  \\cdot\n",
    "  \\left[ \\begin{array}{cc}\n",
    "  -1 & 3 \\\\\n",
    "  5 & 0 \\end{array} \\right]$\n",
    "  \n",
    "  Then check your result using Julia.<br /><br />\n",
    "  \n",
    "2. Insert this system of equations into a matrix:\n",
    "\n",
    "   $\\begin{align*}\n",
    "   3x_1 + 2x_2 - x_3 &= 14 \\\\\n",
    "   2x_1 - 2x_2+5x_3 &= 22 \\\\\n",
    "   -x_1+x_2-2x_3&=-5 \\\\\n",
    "   \\end{align*}$"
   ]
  },
  {
   "cell_type": "code",
   "execution_count": null,
   "metadata": {
    "collapsed": true,
    "run_control": {
     "read_only": false
    }
   },
   "outputs": [],
   "source": [
    "# Calculate here"
   ]
  },
  {
   "cell_type": "code",
   "execution_count": null,
   "metadata": {
    "collapsed": false,
    "run_control": {
     "read_only": false
    }
   },
   "outputs": [],
   "source": [
    "revealable(ans302A)"
   ]
  },
  {
   "cell_type": "markdown",
   "metadata": {},
   "source": [
    "##Multiplying Matrices\n",
    "In contrast, multiplying two matrices together is not so easy. And, although size determines whether two matrices can be multiplied, they do not have to be the same size. Let's look at:\n",
    "\n",
    "$\\left[ \\begin{array}{cc}\n",
    "2 & 1 \\\\\n",
    "-1 & 4 \\\\\n",
    "0 & 5 \\end{array} \\right]\n",
    "*\n",
    "\\left[ \\begin{array}{cc}\n",
    "-3 & 5 \\\\\n",
    "1 & 7 \\end{array} \\right]$\n",
    "\n",
    "which can, in fact, be multiplied.\n",
    "\n",
    "Multiplying can be made easier by shifting the second matrix higher than the first. You may not switch the order; matrix multiplication does not commute (that is, A &middot; B ≠ B &middot; A for matrices).\n",
    "\n",
    "$\\begin{array}{c}\n",
    "\\qquad\\quad\\thinspace \\\\\n",
    "\\qquad\\quad\\thinspace \\end{array}\n",
    "\\left[ \\begin{array}{cc}\n",
    "-3 & 5 \\\\\n",
    "1 & 7 \\end{array} \\right]$\n",
    "\n",
    "$\\left[ \\begin{array}{cc}\n",
    "2 & 1 \\\\\n",
    "-1 & 4 \\\\\n",
    "0 & 5 \\end{array} \\right]\n",
    "\\left[ \\begin{array}{c}\n",
    "\\qquad\\thinspace\\thinspace \\\\\n",
    "\\qquad\\thinspace\\thinspace \\\\\n",
    "\\qquad\\thinspace\\thinspace \\end{array} \\right]$\n",
    "\n",
    "The answer will go in the space between them and will be the same size as that space.\n",
    "\n",
    "$\\begin{array}{c}\n",
    "\\qquad\\quad\\thinspace \\\\\n",
    "\\qquad\\quad\\thinspace \\end{array}\n",
    "\\left[ \\begin{array}{cc}\n",
    "\\color{red}{-3} & 5 \\\\\n",
    "\\color{orange}{1} & 7 \\end{array} \\right]$\n",
    "\n",
    "$\\left[ \\begin{array}{cc}\n",
    "\\color{red}{2} & \\color{orange}{1} \\\\\n",
    "-1 & 4 \\\\\n",
    "0 & 5 \\end{array} \\right]\n",
    "\\left[ \\begin{array}{c}\n",
    "\\qquad\\thinspace\\thinspace \\\\\n",
    "\\qquad\\thinspace\\thinspace \\\\\n",
    "\\qquad\\thinspace\\thinspace \\end{array} \\right]$\n",
    "\n",
    "Each space in the answer matrix is found using the corresponding row from the first matrix and column from the second.\n",
    "\n",
    "To find the first space, you multiply $\\color{red}{-3} \\cdot \\color{red}{2}$ and add $\\color{orange}{1} \\cdot \\color{orange}{1}$, which is $-6+1=-5$.\n",
    "\n",
    "$\\begin{array}{c}\n",
    "\\qquad\\quad\\thinspace \\\\\n",
    "\\qquad\\quad\\thinspace \\end{array}\n",
    "\\left[ \\begin{array}{cc}\n",
    "\\color{red}{-3} & 5 \\\\\n",
    "\\color{orange}{1} & 7 \\end{array} \\right]$\n",
    "\n",
    "$\\left[ \\begin{array}{cc}\n",
    "\\color{red}{2} & \\color{orange}{1} \\\\\n",
    "-1 & 4 \\\\\n",
    "0 & 5 \\end{array} \\right]\n",
    "\\left[ \\begin{array}{c}\n",
    "\\color{purple}{-5}\\quad \\\\\n",
    "\\qquad\\thinspace\\thinspace \\\\\n",
    "\\qquad\\thinspace\\thinspace \\end{array} \\right]$\n",
    "\n",
    "\n",
    "Using the same procedure, you can find the rest of the values.\n",
    "\n",
    "$\\begin{array}{c}\n",
    "\\qquad\\quad\\thinspace \\\\\n",
    "\\qquad\\quad\\thinspace \\end{array}\n",
    "\\left[ \\begin{array}{cc}\n",
    "-3 & \\thinspace\\thinspace\\thinspace\\color{red}{5} \\\\\n",
    "1 & \\thinspace\\thinspace\\thinspace\\color{orange}{7} \\end{array} \\right]$\n",
    "\n",
    "$\\left[ \\begin{array}{cc}\n",
    "\\color{red}{2} & \\color{orange}{1} \\\\\n",
    "-1 & 4 \\\\\n",
    "0 & 5 \\end{array} \\right]\n",
    "\\left[ \\begin{array}{cc}\n",
    "-5 & \\color{purple}{17} \\\\\n",
    "\\thinspace \\\\\n",
    "\\thinspace \\end{array} \\right]$\n",
    "\n",
    "The final answer:\n",
    "\n",
    "$\\begin{array}{c}\n",
    "\\qquad\\quad\\thinspace \\\\\n",
    "\\qquad\\quad\\thinspace \\end{array}\n",
    "\\left[ \\begin{array}{cc}\n",
    "-3\\thinspace & \\thinspace\\thinspace\\thinspace5 \\\\\n",
    "1\\thinspace & \\thinspace\\thinspace\\thinspace7 \\end{array} \\right]$\n",
    "\n",
    "$\\left[ \\begin{array}{cc}\n",
    "2 & 1 \\\\\n",
    "-1 & 4 \\\\\n",
    "0 & 5 \\end{array} \\right]\n",
    "\\left[ \\begin{array}{cc}\n",
    "-5 & 17 \\\\\n",
    "7 & 23 \\\\\n",
    "5 & 35 \\end{array} \\right]$\n",
    "\n",
    "Now take the same two matrices, but try multiplying them in reverse:\n",
    "\n",
    "$\\left[ \\begin{array}{cc}\n",
    "-3 & 5 \\\\\n",
    "1 & 7 \\end{array} \\right]\n",
    "\\cdot\n",
    "\\left[ \\begin{array}{cc}\n",
    "2 & 1 \\\\\n",
    "-1 & 4 \\\\\n",
    "0 & 5 \\end{array} \\right]$\n",
    "\n",
    "Multiplication is impossible because the dimensions don't match properly. Even if the dimensions do match, you will usually get different answers for AB and BA."
   ]
  },
  {
   "cell_type": "markdown",
   "metadata": {},
   "source": [
    "###Practice Problem B\n",
    "Multiply the following by hand, then check using Julia:\n",
    "1. $\\left[ \\begin{array}{ccc}\n",
    "5 & 1 & 4 \\\\\n",
    "-3 & 0 & -2\\end{array} \\right]\n",
    "\\cdot \n",
    "\\left[ \\begin{array}{cc}\n",
    "-1 & 3 \\\\\n",
    "-3 & 8 \\\\\n",
    "0 & -4 \\end{array} \\right]$<br /><br />\n",
    "\n",
    "2. $\\left[ \\begin{array}{cc}\n",
    "3 & -5 \\\\\n",
    "2 & 7 \\end{array} \\right]\n",
    "\\cdot \n",
    "\\left[ \\begin{array}{cc}\n",
    "0 & 1 \\\\\n",
    "-3 & 8 \\end{array} \\right]$<br /><br />\n",
    "\n",
    "3. $\\left[ \\begin{array}{cc}\n",
    "0 & 1 \\\\\n",
    "-3 & 8 \\end{array} \\right]\n",
    "\\cdot \n",
    "\\left[ \\begin{array}{cc}\n",
    "3 & -5 \\\\\n",
    "2 & 7 \\end{array} \\right]$<br /><br />\n",
    "\n",
    "4.  $\\left[ \\begin{array}{cc}\n",
    "1 & 0 \\\\\n",
    "0 & 1 \\end{array} \\right]\n",
    "\\cdot \n",
    "\\left[ \\begin{array}{cc}\n",
    "3 & -5 \\\\\n",
    "2 & 7 \\end{array} \\right]$<br /><br />\n",
    "\n",
    "5.  $\\left[ \\begin{array}{cc}\n",
    "3 & -5 \\\\\n",
    "2 & 7 \\end{array} \\right]\n",
    "\\cdot \n",
    "\\left[ \\begin{array}{cc}\n",
    "1 & 0 \\\\\n",
    "0 & 1 \\end{array} \\right]$"
   ]
  },
  {
   "cell_type": "code",
   "execution_count": null,
   "metadata": {
    "collapsed": true,
    "run_control": {
     "read_only": false
    }
   },
   "outputs": [],
   "source": [
    "# Check your answers with Julia here!\n"
   ]
  },
  {
   "cell_type": "code",
   "execution_count": null,
   "metadata": {
    "collapsed": false,
    "run_control": {
     "read_only": false
    }
   },
   "outputs": [],
   "source": [
    "revealable(ans302B)"
   ]
  },
  {
   "cell_type": "markdown",
   "metadata": {},
   "source": [
    "###Practice Problem C\n",
    "1. Multiply:\n",
    "\n",
    "  $\\left[ \\begin{array}{ccc}\n",
    "4 & -2 & 1 \\\\\n",
    "3 & 0 & -1 \\\\\n",
    "-2 & 1 & 3 \\end{array} \\right]\n",
    "\\cdot\n",
    "\\left[ \\begin{array}{c}\n",
    "x_1 \\\\\n",
    "x_2 \\\\\n",
    "x_3 \\end{array} \\right]$<br><br>\n",
    "\n",
    "2. Then set it equal to \n",
    "$\\left[ \\begin{array}{c}\n",
    "21 \\\\\n",
    "12 \\\\\n",
    "14 \\end{array} \\right]$\n",
    "\n",
    "  Often, systems of equations are abbreviated $AX=B$ where $A$, $X$, and $B$ are all matrices as shown here."
   ]
  },
  {
   "cell_type": "code",
   "execution_count": null,
   "metadata": {
    "collapsed": false,
    "run_control": {
     "read_only": false
    }
   },
   "outputs": [],
   "source": [
    "revealable(ans302C)"
   ]
  },
  {
   "cell_type": "markdown",
   "metadata": {},
   "source": [
    "##Inverses/Dividing\n",
    "Because multiplication is so complex, dividing is not possible in the traditional way. \n",
    "\n",
    "However, a __square__ matrix can be multiplied by its inverse which mimics division, just like multiplying by $1\\over2$ mimics dividing by 2.\n",
    "\n",
    "Only square matrices have inverses, and some square matrices don't have inverses because of mathematical issues (much like the number 0 has no inverse). \n",
    "\n",
    "The inverse of $A$ is defined as a matrix such that $A·A-1 = A-1·A =I$, where $I$ is a square matrix with 1's across the diagonal and 0's everywhere else. Although the identity matrix pictured here is 3x3, identity matrices come in all square sizes.\n",
    "\n",
    "$\\left[ \\begin{array}{ccc}\n",
    "1 & 0 & 0 \\\\\n",
    "0 & 1 & 0 \\\\\n",
    "0 & 0 & 1 \\end{array} \\right]$\n",
    "\n",
    "The matrix $I$ is known as the identity matrix because $IA = AI = A$ for all square matrices $A$. It works much like the number 1 in multiplication.\n",
    "\n",
    "The two important properties so far:\n",
    "\n",
    "$\\color{red}{\\boxed{A^{-1} \\cdot A = A·A^{-1} = I \\qquad I \\cdot A = A \\cdot I = A}}$\n",
    "\n",
    "We can use these to \"divide,\" as in the following example:\n",
    "\n",
    "$\\begin{align*}\n",
    "AX &= B,~solve~for~X. \\\\\n",
    "A^{-1} \\cdot AX &= A^{-1} \\cdot B \\qquad (order~matters~here:~B \\cdot A^{-1})~will~NOT~work \\\\\n",
    "I \\cdot X &= A-1 \\cdot B \\\\\n",
    "X &= A-1 \\cdot B\n",
    "\\end{align*}$\n",
    "\n",
    "Inverses can be found by hand, but that goes beyond the scope of this class. For now, all you need to know is:\n",
    "\n",
    "    inv(A)\n",
    "\n",
    "which is the Julia command for the inverse of A. Try making matrices and taking inverses below!"
   ]
  },
  {
   "cell_type": "code",
   "execution_count": null,
   "metadata": {
    "collapsed": true,
    "run_control": {
     "read_only": false
    }
   },
   "outputs": [],
   "source": [
    "# Play around a bit, type in random matrices, \n",
    "# find inverses, verify that `A*inv(A) = I` and `inv(A)*A = I`.\n"
   ]
  },
  {
   "cell_type": "markdown",
   "metadata": {},
   "source": [
    "###Practice Problem D\n",
    "1. Find the inverse of:\n",
    "\n",
    "  $\\left[ \\begin{array}{ccc}\n",
    "3 & 1 & -2 \\\\\n",
    "4 & 0 & 4 \\\\\n",
    "-1 & 1 & 5 \\end{array} \\right]$<br><br>\n",
    "\n",
    "2. Find the inverse of:\n",
    "\n",
    "  $\\left[ \\begin{array}{cc}\n",
    "4 & 2 \\\\\n",
    "10 & 5 \\end{array} \\right]$<br><br>\n",
    "\n",
    "3. Use inverses to find the solution to the following system of equations:\n",
    "\n",
    "  $\\begin{align*}\n",
    "  2x_1 + x_2 - 3x_3 + x_4 &= 12 \\\\\n",
    "  x_1-2x_2-6x_4 &= -28 \\\\\n",
    "  -3x_1+2x_2-x_3+3x_4 &= 10 \\\\\n",
    "  -x_1+x_3-2x_4 &= -13\n",
    "  \\end{align*}$"
   ]
  },
  {
   "cell_type": "code",
   "execution_count": null,
   "metadata": {
    "collapsed": true,
    "run_control": {
     "read_only": false
    }
   },
   "outputs": [],
   "source": [
    "# Calculate here!\n"
   ]
  },
  {
   "cell_type": "code",
   "execution_count": null,
   "metadata": {
    "collapsed": false,
    "run_control": {
     "read_only": false
    }
   },
   "outputs": [],
   "source": [
    "revealable(ans302D)"
   ]
  },
  {
   "cell_type": "code",
   "execution_count": null,
   "metadata": {
    "collapsed": true,
    "run_control": {
     "read_only": false
    }
   },
   "outputs": [],
   "source": []
  }
 ],
 "metadata": {
  "kernelspec": {
   "display_name": "Julia 0.3.10",
   "language": "julia",
   "name": "julia-0.3"
  },
  "language_info": {
   "file_extension": ".jl",
   "mimetype": "application/julia",
   "name": "julia",
   "version": "0.3.10"
  }
 },
 "nbformat": 4,
 "nbformat_minor": 0
}
