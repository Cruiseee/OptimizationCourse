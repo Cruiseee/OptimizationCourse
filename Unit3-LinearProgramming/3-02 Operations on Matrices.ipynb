{
 "cells": [
  {
   "cell_type": "markdown",
   "metadata": {
    "run_control": {
     "read_only": false
    }
   },
   "source": [
    "# 3-2 Operations on Matrices\n",
    "* Definition and Use\n",
    "* Basic operations\n",
    "* Multiplication\n",
    "* Inverses"
   ]
  },
  {
   "cell_type": "code",
   "execution_count": 1,
   "metadata": {
    "run_control": {
     "read_only": false
    }
   },
   "outputs": [
    {
     "data": {
      "text/html": [
       "<div id=\"interact-js-shim\">\n",
       "    <script charset=\"utf-8\">\r\n",
       "(function (IPython, $, _, MathJax) {\r\n",
       "    $.event.special.destroyed = {\r\n",
       "\tremove: function(o) {\r\n",
       "\t    if (o.handler) {\r\n",
       "\t\to.handler.apply(this, arguments)\r\n",
       "\t    }\r\n",
       "\t}\r\n",
       "    }\r\n",
       "\r\n",
       "    var OutputArea = IPython.version >= \"4.0.0\" ? require(\"notebook/js/outputarea\").OutputArea : IPython.OutputArea;\r\n",
       "\r\n",
       "    var redrawValue = function (container, type, val) {\r\n",
       "\tvar selector = $(\"<div/>\");\r\n",
       "\tvar oa = new OutputArea(_.extend(selector, {\r\n",
       "\t    selector: selector,\r\n",
       "\t    prompt_area: true,\r\n",
       "\t    events: IPython.events,\r\n",
       "\t    keyboard_manager: IPython.keyboard_manager\r\n",
       "\t})); // Hack to work with IPython 2.1.0\r\n",
       "\r\n",
       "\tswitch (type) {\r\n",
       "\tcase \"image/png\":\r\n",
       "            var _src = 'data:' + type + ';base64,' + val;\r\n",
       "\t    $(container).find(\"img\").attr('src', _src);\r\n",
       "\t    break;\r\n",
       "\tcase \"text/latex\":\r\n",
       "\t\tif (MathJax){\r\n",
       "\t\t\tvar math = MathJax.Hub.getAllJax(container)[0];\r\n",
       "\t\t\tMathJax.Hub.Queue([\"Text\", math, val.replace(/^\\${1,2}|\\${1,2}$/g, '')]);\r\n",
       "\t\t\tbreak;\r\n",
       "\t\t}\r\n",
       "\tdefault:\r\n",
       "\t    var toinsert = OutputArea.append_map[type].apply(\r\n",
       "\t\toa, [val, {}, selector]\r\n",
       "\t    );\r\n",
       "\t    $(container).empty().append(toinsert.contents());\r\n",
       "\t    selector.remove();\r\n",
       "\t}\r\n",
       "    }\r\n",
       "\r\n",
       "\r\n",
       "    $(document).ready(function() {\r\n",
       "\tfunction initComm(evt, data) {\r\n",
       "\t    var comm_manager = data.kernel.comm_manager;\r\n",
       "        //_.extend(comm_manager.targets, require(\"widgets/js/widget\"))\r\n",
       "\t    comm_manager.register_target(\"Signal\", function (comm) {\r\n",
       "            comm.on_msg(function (msg) {\r\n",
       "                var val = msg.content.data.value;\r\n",
       "                $(\".signal-\" + comm.comm_id).each(function() {\r\n",
       "                var type = $(this).data(\"type\");\r\n",
       "                if (typeof(val[type]) !== \"undefined\" && val[type] !== null) {\r\n",
       "                    redrawValue(this, type, val[type], type);\r\n",
       "                }\r\n",
       "                });\r\n",
       "                delete val;\r\n",
       "                delete msg.content.data.value;\r\n",
       "            });\r\n",
       "\t    });\r\n",
       "\r\n",
       "\t    // coordingate with Comm and redraw Signals\r\n",
       "\t    // XXX: Test using Reactive here to improve performance\r\n",
       "\t    $([IPython.events]).on(\r\n",
       "\t\t'output_appended.OutputArea', function (event, type, value, md, toinsert) {\r\n",
       "\t\t    if (md && md.reactive) {\r\n",
       "                // console.log(md.comm_id);\r\n",
       "                toinsert.addClass(\"signal-\" + md.comm_id);\r\n",
       "                toinsert.data(\"type\", type);\r\n",
       "                // Signal back indicating the mimetype required\r\n",
       "                var comm_manager = IPython.notebook.kernel.comm_manager;\r\n",
       "                var comm = comm_manager.comms[md.comm_id];\r\n",
       "                comm.then(function (c) {\r\n",
       "                    c.send({action: \"subscribe_mime\",\r\n",
       "                       mime: type});\r\n",
       "                    toinsert.bind(\"destroyed\", function() {\r\n",
       "                        c.send({action: \"unsubscribe_mime\",\r\n",
       "                               mime: type});\r\n",
       "                    });\r\n",
       "                })\r\n",
       "\t\t    }\r\n",
       "\t    });\r\n",
       "\t}\r\n",
       "\r\n",
       "\ttry {\r\n",
       "\t    // try to initialize right away. otherwise, wait on the status_started event.\r\n",
       "\t    initComm(undefined, IPython.notebook);\r\n",
       "\t} catch (e) {\r\n",
       "\t    $([IPython.events]).on('kernel_created.Kernel kernel_created.Session', initComm);\r\n",
       "\t}\r\n",
       "    });\r\n",
       "})(IPython, jQuery, _, MathJax);\r\n",
       "</script>\n",
       "    <script>\n",
       "        window.interactLoadedFlag = true\n",
       "       $(\"#interact-js-shim\").bind(\"destroyed\", function () {\n",
       "           if (window.interactLoadedFlag) {\n",
       "               console.warn(\"JavaScript required by Interact will be removed if you remove this cell or run using Interact more than once.\")\n",
       "           }\n",
       "       })\n",
       "       $([IPython.events]).on(\"kernel_starting.Kernel kernel_restarting.Kernel\", function () { window.interactLoadedFlag = false })\n",
       "   </script>\n",
       "</div>"
      ]
     },
     "metadata": {},
     "output_type": "display_data"
    },
    {
     "name": "stderr",
     "output_type": "stream",
     "text": [
      "WARNING: Method definition <="
     ]
    },
    {
     "data": {
      "text/markdown": [
       "\n"
      ],
      "text/plain": [
       "Revealables.Revealable(\"###Answer D\\ntableau before phase 1 subtraction step:\\n\\n        [2  4  1  1  0  0  0 20\\n         3  1  5  0 -1  1  0 10 \\n         0  0  0  0  0  1  1  0]\\n\\nphase 1 tableau:\\n\\n        [2  4  1  1  0  0  0  20\\n         3  1  5  0 -1  1  0  10\\n        -3 -1 -5  0  1  0  1 -10]\\n\\nafter 1 pivot/final phase 1 tableau:\\n\\n        [7 19  0  5  1  0 90\\n         3  1  5  0 -1  0 10\\n         0  0  0  0  0  5  0]\\n\\nphase 2 tableau:\\n\\n        [ 7  19   0   5   1   0  90\\n          3   1   5   0  -1   0  10\\n        -15 -10 -20   0   0   1   0]\\n\\nAfter 3 pivots/final tableau:\\n\\n        [   35    95     0    25   5    0    450\\n          4750  9500  2375  2375   0    0  47500\\n         59375 166250    0 47500   0 2375 950000]\\n\\nMaximum value of 400 when x<sub>3</sub> = 20; slack variable x<sub>5</sub> = 90.\\n\", \"Answer\", false, false)"
      ]
     },
     "execution_count": 1,
     "metadata": {},
     "output_type": "execute_result"
    },
    {
     "name": "stderr",
     "output_type": "stream",
     "text": [
      "(IntervalArithmetic.Interval{T<:Real}, IntervalArithmetic.Interval{S<:Real}) in module IntervalArithmetic at C:\\Users\\Victoria Docherty\\.julia\\v0.6\\IntervalArithmetic\\src\\intervals\\arithmetic.jl:26 overwritten in module ImplicitEquations at C:\\Users\\Victoria Docherty\\.julia\\v0.6\\ImplicitEquations\\src\\intervals.jl:9.\n"
     ]
    }
   ],
   "source": [
    "using Revealables\n",
    "include(\"files/extras.jl\")\n",
    "include(\"files/answers.jl\")"
   ]
  },
  {
   "cell_type": "markdown",
   "metadata": {},
   "source": [
    "##Definition of Matrix\n",
    "A matrix is an array of objects, usually numbers. You used some in your work in Unit 2.\n",
    "\n",
    "We talk about the size of a matrix as $m$x$n$; $m$ is the number of rows, $n$ the number of columns. This is confusing because we're used to counting points on a coordinate plane as (horiz, vert). Matrices are sized in the opposite fashion.\n",
    "\n",
    "Here are some examples:\n",
    "\n",
    "$\\color{red}{\\left[ \\begin{array}{cc}\n",
    "3 & 4 \\\\\n",
    "-1 & 2 \\end{array} \\right]}\n",
    "\\color{blue}{\\left[ \\begin{array}{ccc}\n",
    "5 & 1 & 0 \\\\\n",
    "0 & 2 & 0 \\\\\n",
    "1 & 1 & 4 \\end{array} \\right]}\n",
    "\\color{green}{\\left[ \\begin{array}{cc}\n",
    "3 & -1 \\\\\n",
    "2 & -5 \\\\\n",
    "0 & 1 \\end{array} \\right]}\n",
    "\\color{orange}{\\left[ \\begin{array}{ccc}\n",
    "6 & 3 & 2 \\end{array} \\right]}\n",
    "\\color{purple}{\\left[ \\begin{array}{c}\n",
    "0 \\\\\n",
    "1 \\\\\n",
    "0 \\end{array} \\right]}$"
   ]
  },
  {
   "cell_type": "code",
   "execution_count": 2,
   "metadata": {
    "run_control": {
     "read_only": false
    }
   },
   "outputs": [
    {
     "data": {
      "text/html": [],
      "text/plain": [
       "Interact.ToggleButton(1: \"input\" = false Bool , \"What are the dimensions of the matrices above?\", false)"
      ]
     },
     "metadata": {},
     "output_type": "display_data"
    },
    {
     "data": {
      "text/markdown": [
       "\n"
      ],
      "text/plain": [
       "Revealables.Revealable(\"The first two are \\\"square,\\\" the first 2x2 and the second 3x3. The third matrix is 3x2, the fourth one a \\\"row\\\" matrix at 1x3, and the fifth one a \\\"column\\\" matrix at 3x1.\\n\", \"What are the dimensions of the matrices above?\", false, false)"
      ]
     },
     "execution_count": 2,
     "metadata": {
      "comm_id": "8b6a1fe9-01dd-45d2-a83d-b3e4b7ac76a4",
      "reactive": true
     },
     "output_type": "execute_result"
    },
    {
     "name": "stderr",
     "output_type": "stream",
     "text": [
      "WARNING: WARNING: Compat.ASCIIString is deprecated, use String instead.\n",
      "  likely near C:\\Users\\Victoria Docherty\\.julia\\v0.6\\IJulia\\src\\kernel.jl:31\n"
     ]
    }
   ],
   "source": [
    "revealable(dims302)"
   ]
  },
  {
   "cell_type": "markdown",
   "metadata": {},
   "source": [
    "##Use of Matrices\n",
    "Sometimes matrices are just lists of numbers and a matrix is the best way to organize them.\n",
    "\n",
    "More frequently, though, the numbers stand for something. You used matrices where the numbers stood for coordinate points; they can also stand for coefficients of equations, among other things.\n",
    "\n",
    "For example, the system of equations\n",
    "\n",
    "$4x_1-5x_2=13$\n",
    "\n",
    "$2x_1+x_2=7$\n",
    "\n",
    "can be inserted into a matrix that looks like this:\n",
    "$\\left[ \\begin{array}{cc|c}\n",
    "4 & -5 & 13 \\\\\n",
    "2 & 1 & 7 \\end{array} \\right]$\n",
    "\n",
    "In matrix (array) form, the system of equations is much easier for a computer to work with.\n",
    "\n",
    "The terms \"matrix\" and \"array\" are interchangeable. \"Matrix\" is the mathematical term; \"array\" is the computer term. As long as we're talking about math, I'll use the term \"matrix,\" but once we get into programming, I'll use \"array.\""
   ]
  },
  {
   "cell_type": "markdown",
   "metadata": {},
   "source": [
    "##Basic Operations on Matrices\n",
    "* Matrices that are the same size can be added or subtracted:\n",
    "\n",
    "  $\\left[ \\begin{array}{cc}\n",
    "  3 & 5 \\\\\n",
    "  2 & 0 \\\\\n",
    "  6 & -8 \\end{array} \\right]\n",
    "  -\n",
    "  \\left[ \\begin{array}{cc}\n",
    "  -1 & 0 \\\\\n",
    "  3 & 4 \\\\\n",
    "  -2 & 5 \\end{array} \\right]\n",
    "  =\n",
    "  \\left[ \\begin{array}{cc}\n",
    "  4 & 5 \\\\\n",
    "  -1 & -4 \\\\\n",
    "  8 & -13 \\end{array} \\right]$\n",
    "\n",
    "\n",
    "* A matrix can also be multiplied easily by a constant:\n",
    "\n",
    "  $2\n",
    "  *\n",
    "  \\left[ \\begin{array}{ccc}\n",
    "  3 & 1 & -2 \\\\\n",
    "  2 & 5 & 0 \\end{array} \\right]\n",
    "  =\n",
    "  \\left[ \\begin{array}{ccc}\n",
    "  6 & 2 & -4 \\\\\n",
    "  4 & 10 & 0 \\end{array} \\right]$"
   ]
  },
  {
   "cell_type": "markdown",
   "metadata": {},
   "source": [
    "##Matrices in Julia\n",
    "To enter the previous example Julia, you could type in:"
   ]
  },
  {
   "cell_type": "code",
   "execution_count": 5,
   "metadata": {
    "run_control": {
     "read_only": false
    }
   },
   "outputs": [
    {
     "data": {
      "text/plain": [
       "2×3 Array{Int64,2}:\n",
       " 6   2  -4\n",
       " 4  10   0"
      ]
     },
     "execution_count": 5,
     "metadata": {},
     "output_type": "execute_result"
    }
   ],
   "source": [
    "A = [3 1 -2; 2 5 0]\n",
    "2*A"
   ]
  },
  {
   "cell_type": "markdown",
   "metadata": {},
   "source": [
    "Spaces separate the numbers across a row, and a semicolon marks the break between rows. If you don't need to save `A` for later, you could also just type in:"
   ]
  },
  {
   "cell_type": "code",
   "execution_count": 6,
   "metadata": {
    "run_control": {
     "read_only": false
    }
   },
   "outputs": [
    {
     "data": {
      "text/plain": [
       "2×3 Array{Int64,2}:\n",
       " 6   2  -4\n",
       " 4  10   0"
      ]
     },
     "execution_count": 6,
     "metadata": {},
     "output_type": "execute_result"
    }
   ],
   "source": [
    "2*[3 1 -2; 2 5 0]"
   ]
  },
  {
   "cell_type": "markdown",
   "metadata": {},
   "source": [
    "###Practice Problem A\n",
    "\n",
    "   \n",
    "1. Calculate by hand:\n",
    "\n",
    "   $3\n",
    "  \\cdot\n",
    "  \\left[ \\begin{array}{cc}\n",
    "  2 & 1 \\\\\n",
    "  1 & 4 \\end{array} \\right]\n",
    "  +\n",
    "  \\left[ \\begin{array}{cc}\n",
    "  0 & -3 \\\\\n",
    "  8 & 5 \\end{array} \\right]\n",
    "  -\n",
    "  4\n",
    "  \\cdot\n",
    "  \\left[ \\begin{array}{cc}\n",
    "  -1 & 3 \\\\\n",
    "  5 & 0 \\end{array} \\right]$\n",
    "  \n",
    "  Then check your result using Julia.<br /><br />\n",
    "  \n",
    "2. Insert this system of equations into a matrix:\n",
    "\n",
    "   $\\begin{align*}\n",
    "   3x_1 + 2x_2 - x_3 &= 14 \\\\\n",
    "   2x_1 - 2x_2+5x_3 &= 22 \\\\\n",
    "   -x_1+x_2-2x_3&=-5 \\\\\n",
    "   \\end{align*}$"
   ]
  },
  {
   "cell_type": "code",
   "execution_count": null,
   "metadata": {
    "collapsed": true,
    "run_control": {
     "read_only": false
    }
   },
   "outputs": [],
   "source": [
    "# Calculate here"
   ]
  },
  {
   "cell_type": "code",
   "execution_count": 7,
   "metadata": {
    "run_control": {
     "read_only": false
    }
   },
   "outputs": [
    {
     "data": {
      "text/html": [],
      "text/plain": [
       "Interact.ToggleButton(4: \"input-2\" = false Bool , \"Answer\", false)"
      ]
     },
     "metadata": {},
     "output_type": "display_data"
    },
    {
     "data": {
      "text/markdown": [
       "\n"
      ],
      "text/plain": [
       "Revealables.Revealable(\"###Answer A\\n1.\\n```\\n[ 10 -12\\n  -9  17 ]\\n  ```\\n<br clear=\\\"all\\\" />\\n\\n2.\\n```\\n[ 3  2 -1 | 14\\n  2 -2  5 | 22\\n -1  1 -2 | -5]\\n ```\\n\", \"Answer\", false, false)"
      ]
     },
     "execution_count": 7,
     "metadata": {
      "comm_id": "f8087153-71bf-477f-8894-d83fd374e072",
      "reactive": true
     },
     "output_type": "execute_result"
    }
   ],
   "source": [
    "revealable(ans302A)"
   ]
  },
  {
   "cell_type": "markdown",
   "metadata": {},
   "source": [
    "##Multiplying Matrices\n",
    "In contrast, multiplying two matrices together is not so easy. And, although size determines whether two matrices can be multiplied, they do not have to be the same size. Let's look at:\n",
    "\n",
    "$\\left[ \\begin{array}{cc}\n",
    "2 & 1 \\\\\n",
    "-1 & 4 \\\\\n",
    "0 & 5 \\end{array} \\right]\n",
    "*\n",
    "\\left[ \\begin{array}{cc}\n",
    "-3 & 5 \\\\\n",
    "1 & 7 \\end{array} \\right]$\n",
    "\n",
    "which can, in fact, be multiplied.\n",
    "\n",
    "Multiplying can be made easier by shifting the second matrix higher than the first. You may not switch the order; matrix multiplication does not commute (that is, A &middot; B ≠ B &middot; A for matrices).\n",
    "\n",
    "$\\begin{array}{c}\n",
    "\\qquad\\quad\\thinspace \\\\\n",
    "\\qquad\\quad\\thinspace \\end{array}\n",
    "\\left[ \\begin{array}{cc}\n",
    "-3 & 5 \\\\\n",
    "1 & 7 \\end{array} \\right]$\n",
    "\n",
    "$\\left[ \\begin{array}{cc}\n",
    "2 & 1 \\\\\n",
    "-1 & 4 \\\\\n",
    "0 & 5 \\end{array} \\right]\n",
    "\\left[ \\begin{array}{c}\n",
    "\\qquad\\thinspace\\thinspace \\\\\n",
    "\\qquad\\thinspace\\thinspace \\\\\n",
    "\\qquad\\thinspace\\thinspace \\end{array} \\right]$\n",
    "\n",
    "The answer will go in the space between them and will be the same size as that space.\n",
    "\n",
    "$\\begin{array}{c}\n",
    "\\qquad\\quad\\thinspace \\\\\n",
    "\\qquad\\quad\\thinspace \\end{array}\n",
    "\\left[ \\begin{array}{cc}\n",
    "\\color{red}{-3} & 5 \\\\\n",
    "\\color{orange}{1} & 7 \\end{array} \\right]$\n",
    "\n",
    "$\\left[ \\begin{array}{cc}\n",
    "\\color{red}{2} & \\color{orange}{1} \\\\\n",
    "-1 & 4 \\\\\n",
    "0 & 5 \\end{array} \\right]\n",
    "\\left[ \\begin{array}{c}\n",
    "\\qquad\\thinspace\\thinspace \\\\\n",
    "\\qquad\\thinspace\\thinspace \\\\\n",
    "\\qquad\\thinspace\\thinspace \\end{array} \\right]$\n",
    "\n",
    "Each space in the answer matrix is found using the corresponding row from the first matrix and column from the second.\n",
    "\n",
    "To find the first space, you multiply $\\color{red}{-3} \\cdot \\color{red}{2}$ and add $\\color{orange}{1} \\cdot \\color{orange}{1}$, which is $-6+1=-5$.\n",
    "\n",
    "$\\begin{array}{c}\n",
    "\\qquad\\quad\\thinspace \\\\\n",
    "\\qquad\\quad\\thinspace \\end{array}\n",
    "\\left[ \\begin{array}{cc}\n",
    "\\color{red}{-3} & 5 \\\\\n",
    "\\color{orange}{1} & 7 \\end{array} \\right]$\n",
    "\n",
    "$\\left[ \\begin{array}{cc}\n",
    "\\color{red}{2} & \\color{orange}{1} \\\\\n",
    "-1 & 4 \\\\\n",
    "0 & 5 \\end{array} \\right]\n",
    "\\left[ \\begin{array}{c}\n",
    "\\color{purple}{-5}\\quad \\\\\n",
    "\\qquad\\thinspace\\thinspace \\\\\n",
    "\\qquad\\thinspace\\thinspace \\end{array} \\right]$\n",
    "\n",
    "\n",
    "Using the same procedure, you can find the rest of the values.\n",
    "\n",
    "$\\begin{array}{c}\n",
    "\\qquad\\quad\\thinspace \\\\\n",
    "\\qquad\\quad\\thinspace \\end{array}\n",
    "\\left[ \\begin{array}{cc}\n",
    "-3 & \\thinspace\\thinspace\\thinspace\\color{red}{5} \\\\\n",
    "1 & \\thinspace\\thinspace\\thinspace\\color{orange}{7} \\end{array} \\right]$\n",
    "\n",
    "$\\left[ \\begin{array}{cc}\n",
    "\\color{red}{2} & \\color{orange}{1} \\\\\n",
    "-1 & 4 \\\\\n",
    "0 & 5 \\end{array} \\right]\n",
    "\\left[ \\begin{array}{cc}\n",
    "-5 & \\color{purple}{17} \\\\\n",
    "\\thinspace \\\\\n",
    "\\thinspace \\end{array} \\right]$\n",
    "\n",
    "The final answer:\n",
    "\n",
    "$\\begin{array}{c}\n",
    "\\qquad\\quad\\thinspace \\\\\n",
    "\\qquad\\quad\\thinspace \\end{array}\n",
    "\\left[ \\begin{array}{cc}\n",
    "-3\\thinspace & \\thinspace\\thinspace\\thinspace5 \\\\\n",
    "1\\thinspace & \\thinspace\\thinspace\\thinspace7 \\end{array} \\right]$\n",
    "\n",
    "$\\left[ \\begin{array}{cc}\n",
    "2 & 1 \\\\\n",
    "-1 & 4 \\\\\n",
    "0 & 5 \\end{array} \\right]\n",
    "\\left[ \\begin{array}{cc}\n",
    "-5 & 17 \\\\\n",
    "7 & 23 \\\\\n",
    "5 & 35 \\end{array} \\right]$\n",
    "\n",
    "Now take the same two matrices, but try multiplying them in reverse:\n",
    "\n",
    "$\\left[ \\begin{array}{cc}\n",
    "-3 & 5 \\\\\n",
    "1 & 7 \\end{array} \\right]\n",
    "\\cdot\n",
    "\\left[ \\begin{array}{cc}\n",
    "2 & 1 \\\\\n",
    "-1 & 4 \\\\\n",
    "0 & 5 \\end{array} \\right]$\n",
    "\n",
    "Multiplication is impossible because the dimensions don't match properly. Even if the dimensions do match, you will usually get different answers for AB and BA."
   ]
  },
  {
   "cell_type": "markdown",
   "metadata": {},
   "source": [
    "###Practice Problem B\n",
    "Multiply the following by hand, then check using Julia:\n",
    "1. $\\left[ \\begin{array}{ccc}\n",
    "5 & 1 & 4 \\\\\n",
    "-3 & 0 & -2\\end{array} \\right]\n",
    "\\cdot \n",
    "\\left[ \\begin{array}{cc}\n",
    "-1 & 3 \\\\\n",
    "-3 & 8 \\\\\n",
    "0 & -4 \\end{array} \\right]$<br /><br />\n",
    "\n",
    "2. $\\left[ \\begin{array}{cc}\n",
    "3 & -5 \\\\\n",
    "2 & 7 \\end{array} \\right]\n",
    "\\cdot \n",
    "\\left[ \\begin{array}{cc}\n",
    "0 & 1 \\\\\n",
    "-3 & 8 \\end{array} \\right]$<br /><br />\n",
    "\n",
    "3. $\\left[ \\begin{array}{cc}\n",
    "0 & 1 \\\\\n",
    "-3 & 8 \\end{array} \\right]\n",
    "\\cdot \n",
    "\\left[ \\begin{array}{cc}\n",
    "3 & -5 \\\\\n",
    "2 & 7 \\end{array} \\right]$<br /><br />\n",
    "\n",
    "4.  $\\left[ \\begin{array}{cc}\n",
    "1 & 0 \\\\\n",
    "0 & 1 \\end{array} \\right]\n",
    "\\cdot \n",
    "\\left[ \\begin{array}{cc}\n",
    "3 & -5 \\\\\n",
    "2 & 7 \\end{array} \\right]$<br /><br />\n",
    "\n",
    "5.  $\\left[ \\begin{array}{cc}\n",
    "3 & -5 \\\\\n",
    "2 & 7 \\end{array} \\right]\n",
    "\\cdot \n",
    "\\left[ \\begin{array}{cc}\n",
    "1 & 0 \\\\\n",
    "0 & 1 \\end{array} \\right]$"
   ]
  },
  {
   "cell_type": "code",
   "execution_count": null,
   "metadata": {
    "collapsed": true,
    "run_control": {
     "read_only": false
    }
   },
   "outputs": [],
   "source": [
    "# Check your answers with Julia here!\n"
   ]
  },
  {
   "cell_type": "code",
   "execution_count": 8,
   "metadata": {
    "run_control": {
     "read_only": false
    }
   },
   "outputs": [
    {
     "data": {
      "text/html": [],
      "text/plain": [
       "Interact.ToggleButton(7: \"input-3\" = false Bool , \"Answer\", false)"
      ]
     },
     "metadata": {},
     "output_type": "display_data"
    },
    {
     "data": {
      "text/markdown": [
       "\n"
      ],
      "text/plain": [
       "Revealables.Revealable(\"###Answer B\\n\\n1. [-8 7; 3 -1]\\n\\n2. [15 -37; -21 58]\\n\\n3. [2 7; 7 71] Multiplying matrices is not commutative!\\n\\n4. [3 -5; 2 7] \\n\\n5. [3 -5; 2 7] Hey, the answers to 4 and 5 are the same! Both problems involve the *identity matrix*, which we'll talk about soon.\\n\", \"Answer\", false, false)"
      ]
     },
     "execution_count": 8,
     "metadata": {
      "comm_id": "486f8e2a-6cab-46f9-a7bc-7d20aaf7b8ae",
      "reactive": true
     },
     "output_type": "execute_result"
    }
   ],
   "source": [
    "revealable(ans302B)"
   ]
  },
  {
   "cell_type": "markdown",
   "metadata": {},
   "source": [
    "###Practice Problem C\n",
    "1. Multiply:\n",
    "\n",
    "  $\\left[ \\begin{array}{ccc}\n",
    "4 & -2 & 1 \\\\\n",
    "3 & 0 & -1 \\\\\n",
    "-2 & 1 & 3 \\end{array} \\right]\n",
    "\\cdot\n",
    "\\left[ \\begin{array}{c}\n",
    "x_1 \\\\\n",
    "x_2 \\\\\n",
    "x_3 \\end{array} \\right]$<br><br>\n",
    "\n",
    "2. Then set it equal to \n",
    "$\\left[ \\begin{array}{c}\n",
    "21 \\\\\n",
    "12 \\\\\n",
    "14 \\end{array} \\right]$\n",
    "\n",
    "  Often, systems of equations are abbreviated $AX=B$ where $A$, $X$, and $B$ are all matrices as shown here."
   ]
  },
  {
   "cell_type": "code",
   "execution_count": 9,
   "metadata": {
    "run_control": {
     "read_only": false
    }
   },
   "outputs": [
    {
     "data": {
      "text/html": [],
      "text/plain": [
       "Interact.ToggleButton(10: \"input-4\" = false Bool , \"Answer\", false)"
      ]
     },
     "metadata": {},
     "output_type": "display_data"
    },
    {
     "data": {
      "text/markdown": [
       "\n"
      ],
      "text/plain": [
       "Revealables.Revealable(\"###Answer C\\nThis is the system of equations:\\n\\n4x<sub>1</sub> - 2x<sub>2</sub> + x<sub>3</sub> = 21\\n\\n3x<sub>1</sub> - x<sub>3</sub> = 12\\n\\n-2x<sub>1</sub> + x<sub>2</sub> + 3x<sub>3</sub> = 14\\n\", \"Answer\", false, false)"
      ]
     },
     "execution_count": 9,
     "metadata": {
      "comm_id": "286eab15-faff-4fe1-9e80-33384b4aee27",
      "reactive": true
     },
     "output_type": "execute_result"
    }
   ],
   "source": [
    "revealable(ans302C)"
   ]
  },
  {
   "cell_type": "markdown",
   "metadata": {},
   "source": [
    "##Inverses/Dividing\n",
    "Because multiplication is so complex, dividing is not possible in the traditional way. \n",
    "\n",
    "However, a __square__ matrix can be multiplied by its inverse which mimics division, just like multiplying by $1\\over2$ mimics dividing by 2.\n",
    "\n",
    "Only square matrices have inverses, and some square matrices don't have inverses because of mathematical issues (much like the number 0 has no inverse). \n",
    "\n",
    "The inverse of $A$ is defined as a matrix such that $A·A-1 = A-1·A =I$, where $I$ is a square matrix with 1's across the diagonal and 0's everywhere else. Although the identity matrix pictured here is 3x3, identity matrices come in all square sizes.\n",
    "\n",
    "$\\left[ \\begin{array}{ccc}\n",
    "1 & 0 & 0 \\\\\n",
    "0 & 1 & 0 \\\\\n",
    "0 & 0 & 1 \\end{array} \\right]$\n",
    "\n",
    "The matrix $I$ is known as the identity matrix because $IA = AI = A$ for all square matrices $A$. It works much like the number 1 in multiplication.\n",
    "\n",
    "The two important properties so far:\n",
    "\n",
    "$\\color{red}{\\boxed{A^{-1} \\cdot A = A·A^{-1} = I \\qquad I \\cdot A = A \\cdot I = A}}$\n",
    "\n",
    "We can use these to \"divide,\" as in the following example:\n",
    "\n",
    "$\\begin{align*}\n",
    "AX &= B,~solve~for~X. \\\\\n",
    "A^{-1} \\cdot AX &= A^{-1} \\cdot B \\qquad (order~matters~here:~B \\cdot A^{-1})~will~NOT~work \\\\\n",
    "I \\cdot X &= A-1 \\cdot B \\\\\n",
    "X &= A-1 \\cdot B\n",
    "\\end{align*}$\n",
    "\n",
    "Inverses can be found by hand, but that goes beyond the scope of this class. For now, all you need to know is:\n",
    "\n",
    "    inv(A)\n",
    "\n",
    "which is the Julia command for the inverse of A. Try making matrices and taking inverses below!"
   ]
  },
  {
   "cell_type": "code",
   "execution_count": null,
   "metadata": {
    "collapsed": true,
    "run_control": {
     "read_only": false
    }
   },
   "outputs": [],
   "source": [
    "# Play around a bit, type in random matrices, \n",
    "# find inverses, verify that `A*inv(A) = I` and `inv(A)*A = I`.\n"
   ]
  },
  {
   "cell_type": "markdown",
   "metadata": {},
   "source": [
    "###Practice Problem D\n",
    "1. Find the inverse of:\n",
    "\n",
    "  $\\left[ \\begin{array}{ccc}\n",
    "3 & 1 & -2 \\\\\n",
    "4 & 0 & 4 \\\\\n",
    "-1 & 1 & 5 \\end{array} \\right]$<br><br>\n",
    "\n",
    "2. Find the inverse of:\n",
    "\n",
    "  $\\left[ \\begin{array}{cc}\n",
    "4 & 2 \\\\\n",
    "10 & 5 \\end{array} \\right]$<br><br>\n",
    "\n",
    "3. Use inverses to find the solution to the following system of equations:\n",
    "\n",
    "  $\\begin{align*}\n",
    "  2x_1 + x_2 - 3x_3 + x_4 &= 12 \\\\\n",
    "  x_1-2x_2-6x_4 &= -28 \\\\\n",
    "  -3x_1+2x_2-x_3+3x_4 &= 10 \\\\\n",
    "  -x_1+x_3-2x_4 &= -13\n",
    "  \\end{align*}$"
   ]
  },
  {
   "cell_type": "code",
   "execution_count": null,
   "metadata": {
    "collapsed": true,
    "run_control": {
     "read_only": false
    }
   },
   "outputs": [],
   "source": [
    "# Calculate here!\n"
   ]
  },
  {
   "cell_type": "code",
   "execution_count": 10,
   "metadata": {
    "run_control": {
     "read_only": false
    }
   },
   "outputs": [
    {
     "data": {
      "text/html": [],
      "text/plain": [
       "Interact.ToggleButton(13: \"input-5\" = false Bool , \"Answer\", false)"
      ]
     },
     "metadata": {},
     "output_type": "display_data"
    },
    {
     "data": {
      "text/markdown": [
       "\n"
      ],
      "text/plain": [
       "Revealables.Revealable(\"###Answer D\\n1. [.09 .16 -.09; .55 -.29 .45; -.09 .09 .09]\\n2. Yikes! Giant error! This has no inverse. Any matrix with a determinant of 0 is not invertible, but that's not really important here, it's just cool.\\n3. This is kind of a lot at once. First, you need to translate the coefficient matrix into a matrix A (being careful to correctly place 0's), then abbreviate this system as AX = B, then use inverses to find X = A<sup>-1</sup>B. At this point, it's a Julia problem. The answer is 2, 0 , -1, 5.\\n\\nRemember how painful it is to solve systems of equations by hand? Getting a computer to do it for you is a HUGE time-saver. Plus, computers don't forget negative signs or lose track of what step they're on.\\n\", \"Answer\", false, false)"
      ]
     },
     "execution_count": 10,
     "metadata": {
      "comm_id": "c314282c-dc80-4bac-90cb-9ef786a93925",
      "reactive": true
     },
     "output_type": "execute_result"
    }
   ],
   "source": [
    "revealable(ans302D)"
   ]
  },
  {
   "cell_type": "code",
   "execution_count": null,
   "metadata": {
    "collapsed": true,
    "run_control": {
     "read_only": false
    }
   },
   "outputs": [],
   "source": []
  }
 ],
 "metadata": {
  "kernelspec": {
   "display_name": "Julia 0.6.0",
   "language": "julia",
   "name": "julia-0.6"
  },
  "language_info": {
   "file_extension": ".jl",
   "mimetype": "application/julia",
   "name": "julia",
   "version": "0.6.0"
  }
 },
 "nbformat": 4,
 "nbformat_minor": 1
}
