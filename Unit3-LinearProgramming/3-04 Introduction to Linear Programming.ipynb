{
 "cells": [
  {
   "cell_type": "markdown",
   "metadata": {
    "run_control": {
     "read_only": false
    }
   },
   "source": [
    "# 3-04 Introduction to Linear Programming\n",
    "* What is Linear Programming?\n",
    "* Setting up an Initial Tableau"
   ]
  },
  {
   "cell_type": "code",
   "execution_count": 1,
   "metadata": {
    "run_control": {
     "read_only": false
    }
   },
   "outputs": [
    {
     "data": {
      "text/html": [
       "<div id=\"interact-js-shim\">\n",
       "    <script charset=\"utf-8\">\r\n",
       "(function (IPython, $, _, MathJax) {\r\n",
       "    $.event.special.destroyed = {\r\n",
       "\tremove: function(o) {\r\n",
       "\t    if (o.handler) {\r\n",
       "\t\to.handler.apply(this, arguments)\r\n",
       "\t    }\r\n",
       "\t}\r\n",
       "    }\r\n",
       "\r\n",
       "    var OutputArea = IPython.version >= \"4.0.0\" ? require(\"notebook/js/outputarea\").OutputArea : IPython.OutputArea;\r\n",
       "\r\n",
       "    var redrawValue = function (container, type, val) {\r\n",
       "\tvar selector = $(\"<div/>\");\r\n",
       "\tvar oa = new OutputArea(_.extend(selector, {\r\n",
       "\t    selector: selector,\r\n",
       "\t    prompt_area: true,\r\n",
       "\t    events: IPython.events,\r\n",
       "\t    keyboard_manager: IPython.keyboard_manager\r\n",
       "\t})); // Hack to work with IPython 2.1.0\r\n",
       "\r\n",
       "\tswitch (type) {\r\n",
       "\tcase \"image/png\":\r\n",
       "            var _src = 'data:' + type + ';base64,' + val;\r\n",
       "\t    $(container).find(\"img\").attr('src', _src);\r\n",
       "\t    break;\r\n",
       "\tcase \"text/latex\":\r\n",
       "\t\tif (MathJax){\r\n",
       "\t\t\tvar math = MathJax.Hub.getAllJax(container)[0];\r\n",
       "\t\t\tMathJax.Hub.Queue([\"Text\", math, val.replace(/^\\${1,2}|\\${1,2}$/g, '')]);\r\n",
       "\t\t\tbreak;\r\n",
       "\t\t}\r\n",
       "\tdefault:\r\n",
       "\t    var toinsert = OutputArea.append_map[type].apply(\r\n",
       "\t\toa, [val, {}, selector]\r\n",
       "\t    );\r\n",
       "\t    $(container).empty().append(toinsert.contents());\r\n",
       "\t    selector.remove();\r\n",
       "\t}\r\n",
       "    }\r\n",
       "\r\n",
       "\r\n",
       "    $(document).ready(function() {\r\n",
       "\tfunction initComm(evt, data) {\r\n",
       "\t    var comm_manager = data.kernel.comm_manager;\r\n",
       "        //_.extend(comm_manager.targets, require(\"widgets/js/widget\"))\r\n",
       "\t    comm_manager.register_target(\"Signal\", function (comm) {\r\n",
       "            comm.on_msg(function (msg) {\r\n",
       "                var val = msg.content.data.value;\r\n",
       "                $(\".signal-\" + comm.comm_id).each(function() {\r\n",
       "                var type = $(this).data(\"type\");\r\n",
       "                if (typeof(val[type]) !== \"undefined\" && val[type] !== null) {\r\n",
       "                    redrawValue(this, type, val[type], type);\r\n",
       "                }\r\n",
       "                });\r\n",
       "                delete val;\r\n",
       "                delete msg.content.data.value;\r\n",
       "            });\r\n",
       "\t    });\r\n",
       "\r\n",
       "\t    // coordingate with Comm and redraw Signals\r\n",
       "\t    // XXX: Test using Reactive here to improve performance\r\n",
       "\t    $([IPython.events]).on(\r\n",
       "\t\t'output_appended.OutputArea', function (event, type, value, md, toinsert) {\r\n",
       "\t\t    if (md && md.reactive) {\r\n",
       "                // console.log(md.comm_id);\r\n",
       "                toinsert.addClass(\"signal-\" + md.comm_id);\r\n",
       "                toinsert.data(\"type\", type);\r\n",
       "                // Signal back indicating the mimetype required\r\n",
       "                var comm_manager = IPython.notebook.kernel.comm_manager;\r\n",
       "                var comm = comm_manager.comms[md.comm_id];\r\n",
       "                comm.then(function (c) {\r\n",
       "                    c.send({action: \"subscribe_mime\",\r\n",
       "                       mime: type});\r\n",
       "                    toinsert.bind(\"destroyed\", function() {\r\n",
       "                        c.send({action: \"unsubscribe_mime\",\r\n",
       "                               mime: type});\r\n",
       "                    });\r\n",
       "                })\r\n",
       "\t\t    }\r\n",
       "\t    });\r\n",
       "\t}\r\n",
       "\r\n",
       "\ttry {\r\n",
       "\t    // try to initialize right away. otherwise, wait on the status_started event.\r\n",
       "\t    initComm(undefined, IPython.notebook);\r\n",
       "\t} catch (e) {\r\n",
       "\t    $([IPython.events]).on('kernel_created.Kernel kernel_created.Session', initComm);\r\n",
       "\t}\r\n",
       "    });\r\n",
       "})(IPython, jQuery, _, MathJax);\r\n",
       "</script>\n",
       "    <script>\n",
       "        window.interactLoadedFlag = true\n",
       "       $(\"#interact-js-shim\").bind(\"destroyed\", function () {\n",
       "           if (window.interactLoadedFlag) {\n",
       "               console.warn(\"JavaScript required by Interact will be removed if you remove this cell or run using Interact more than once.\")\n",
       "           }\n",
       "       })\n",
       "       $([IPython.events]).on(\"kernel_starting.Kernel kernel_restarting.Kernel\", function () { window.interactLoadedFlag = false })\n",
       "   </script>\n",
       "</div>"
      ]
     },
     "metadata": {},
     "output_type": "display_data"
    },
    {
     "name": "stderr",
     "output_type": "stream",
     "text": [
      "WARNING: Method definition <="
     ]
    },
    {
     "data": {
      "text/markdown": [
       "\n"
      ],
      "text/plain": [
       "Revealables.Revealable(\"###Answer D\\ntableau before phase 1 subtraction step:\\n\\n        [2  4  1  1  0  0  0 20\\n         3  1  5  0 -1  1  0 10 \\n         0  0  0  0  0  1  1  0]\\n\\nphase 1 tableau:\\n\\n        [2  4  1  1  0  0  0  20\\n         3  1  5  0 -1  1  0  10\\n        -3 -1 -5  0  1  0  1 -10]\\n\\nafter 1 pivot/final phase 1 tableau:\\n\\n        [7 19  0  5  1  0 90\\n         3  1  5  0 -1  0 10\\n         0  0  0  0  0  5  0]\\n\\nphase 2 tableau:\\n\\n        [ 7  19   0   5   1   0  90\\n          3   1   5   0  -1   0  10\\n        -15 -10 -20   0   0   1   0]\\n\\nAfter 3 pivots/final tableau:\\n\\n        [   35    95     0    25   5    0    450\\n          4750  9500  2375  2375   0    0  47500\\n         59375 166250    0 47500   0 2375 950000]\\n\\nMaximum value of 400 when x<sub>3</sub> = 20; slack variable x<sub>5</sub> = 90.\\n\", \"Answer\", false, false)"
      ]
     },
     "execution_count": 1,
     "metadata": {},
     "output_type": "execute_result"
    },
    {
     "name": "stderr",
     "output_type": "stream",
     "text": [
      "(IntervalArithmetic.Interval{T<:Real}, IntervalArithmetic.Interval{S<:Real}) in module IntervalArithmetic at C:\\Users\\Victoria Docherty\\.julia\\v0.6\\IntervalArithmetic\\src\\intervals\\arithmetic.jl:26 overwritten in module ImplicitEquations at C:\\Users\\Victoria Docherty\\.julia\\v0.6\\ImplicitEquations\\src\\intervals.jl:9.\n"
     ]
    }
   ],
   "source": [
    "using Revealables\n",
    "include(\"files/answers.jl\")"
   ]
  },
  {
   "cell_type": "markdown",
   "metadata": {},
   "source": [
    "##Definition and Use\n",
    "__Linear programming__ is used to solve optimization problems where all the constraints, as well as the objective function, are linear equalities or inequalities. \n",
    "\n",
    "The methods were first developed in 1939 and used in military planning operations in World War 2. They were refined and published in 1947 by George Dantzig, who called his method the \"Simplex Method.\"\n",
    "\n",
    "In lesson 1, you solved a linear programming problem (experienced and inexperienced workers) using a graph.\n",
    "\n",
    "In the next few lessons you will learn to solve linear programming problems using matrices. Matrices have the following big advantages:\n",
    "1. Can solve problems in more than 2-3 variables (beyond our ability to graph)\n",
    "2. Can be programmed into a computer\n",
    "\n",
    "##Setting Constraints\n",
    "One of the problems that needs to be dealt with is that without a graph, systems of inequalities can be difficult to solve. \n",
    "\n",
    "These were the constraints on the \"workers\" problem:\n",
    "\n",
    "$\\begin{align*} \n",
    "15x_1 + 10x_2 &≤ 1200\\qquad(hourly~wages) \\\\\n",
    "1x_1 + 2x_2 &≤ 120\\qquad(supervisor~time) \\\\\n",
    "x_1, x_2 &≥ 0\\qquad(positive~variables)\n",
    "\\end{align*}$\n",
    "\n",
    "Because of all the inequalities, it is very difficult to find the solution set without a graph.\n",
    "\n",
    "The first step, therefore, is to convert inequality constraints to equality constraints. \n",
    "In the example, the inequality \n",
    "$15x_1 + 10x_2 ≤ 1200$\n",
    "implies that there is a difference (possibly 0) between the expression $15x_1 + 10x_2$ and the number $1200$. \n",
    "\n",
    "So, we introduce a variable (called a \"slack variable\") to represent that difference:\n",
    "$15x_1 + 10x_2 +x_3 = 1200$.\n",
    "\n",
    "So:\n",
    "\n",
    "$15x_1 + 10x_2 ≤ 1200$ becomes \n",
    "\n",
    "$\\qquad 15x_1 + 10x_2 +x_3 = 1200$\n",
    "\n",
    "and $1x_1 + 2x_2 ≤ 120$ becomes\n",
    "\n",
    "$\\qquad 1x_1 + 2x_2 + x_\\color{red}{4}= 120$\n",
    "                \n",
    "The two ≥ constraints are not converted, but it is assumed that all variables are positive."
   ]
  },
  {
   "cell_type": "markdown",
   "metadata": {},
   "source": [
    "###Practice Problem A\n",
    "Convert the following inequalities into equalities of the form (expression) = (number).\n",
    "1. $3x_1 + 5x_2 ≤ 12$\n",
    "2. $2x_1 - 4x_2  + x_3 ≤ 200$\n",
    "3. $6x_1 + x_2 ≥ 150$\n",
    "4. $-3x_1 + 2x_2 ≤ 120,000$\n",
    "5. $x_1 + 5x_2 + 2x_3 – 8x_4 + x_5  ≥ 13.8$\n",
    "6. $x_1 ≤ 2x_2$\n",
    "\n",
    "\n"
   ]
  },
  {
   "cell_type": "markdown",
   "metadata": {},
   "source": [
    "Write answers here or on a separate paper:\n"
   ]
  },
  {
   "cell_type": "code",
   "execution_count": null,
   "metadata": {
    "run_control": {
     "read_only": false
    }
   },
   "outputs": [],
   "source": [
    "revealable(ans304A)"
   ]
  },
  {
   "cell_type": "markdown",
   "metadata": {},
   "source": [
    "##Setting the Objective Function\n",
    "The next step is to convert the objective function so that its value can be placed into the initial matrix.\n",
    "\n",
    "If you have \"maximize $f = x_1 + 2x_2$,\" this would change to \"$-x_1 - 2x_2 + f = 0$.\"\n",
    "\n",
    "The conversion is an actual algebraic operation of getting all the variables on one side and 0 on the other. We do this because we want all the equations&mdash;constraints and objective function&mdash;to hold the form (expression with variables) = (number).\n",
    "\n",
    "Algebraically, it would be easier to subtract $f$, but one of the Big Important Rules is that no matter what, the coefficient of $f$ must always remain positive. \n"
   ]
  },
  {
   "cell_type": "markdown",
   "metadata": {},
   "source": [
    "##Practice Problem B\n",
    "Convert these objective functions to equations of the form $(expression) = 0$:\n",
    "1. Maximize $f = 3x_1 + 12x_2$\n",
    "2. Maximize $f = 4x_1 – x_2$\n",
    "3. Minimize $f = 2x_1 + x_2$. Convert this objective function to a \"maximizing a negative\" problem first!\n"
   ]
  },
  {
   "cell_type": "raw",
   "metadata": {},
   "source": [
    "Write your answers here:"
   ]
  },
  {
   "cell_type": "code",
   "execution_count": null,
   "metadata": {
    "run_control": {
     "read_only": false
    }
   },
   "outputs": [],
   "source": [
    "revealable(ans304B)"
   ]
  },
  {
   "cell_type": "markdown",
   "metadata": {},
   "source": [
    "###Practice Problem C\n",
    "Convert the constraints and objective function of the following linear programming problem:\n",
    "\n",
    "Maximize $f = 50x_1 + 20x_2 + 42x_3\\\\$\n",
    "subject to $3x_1 + 2x_2 – x_3 ≤ 100 \\\\\n",
    "\t\t   2x_1 + x_2 + 4x_3 ≤ 80$\n",
    "\n",
    "\n"
   ]
  },
  {
   "cell_type": "raw",
   "metadata": {},
   "source": [
    "Objective Function:\n",
    "\n",
    "Constraints:\n"
   ]
  },
  {
   "cell_type": "code",
   "execution_count": null,
   "metadata": {
    "run_control": {
     "read_only": false
    }
   },
   "outputs": [],
   "source": [
    "revealable(ans304C)"
   ]
  },
  {
   "cell_type": "markdown",
   "metadata": {},
   "source": [
    "##Setting Up an Initial Tableau\n",
    "Once you have your equations ready, you can put them into an initial matrix.\n",
    "\n",
    "<font color=\"#336699\">\n",
    "Maximize $-3x_1 - 4x_2 + f = 0$ (objective)\n",
    "<br /><br />\n",
    "subject to $x_1 + x_2 + x_3 = 480 \\\\\n",
    "\t\t   2x_1 + 3x_2 + x_4 ≤ 1200$ (constraints)\n",
    "</font>\n",
    "\n",
    "becomes \n",
    "\n",
    "<font color=\"#336699\">\n",
    "$\\begin{array}{c}\n",
    "\\begin{array}{cccccc}\n",
    "x_1 & x_2 & x_3 & x_4 & f & ans\n",
    "\\end{array}\\\\\n",
    "\\left[ \\begin{array}{cccccc}\n",
    "1 & 1 & 1 & 0 & 0 & 480 \\\\\n",
    "2 & 3 & 0 & 1 & 0 & 1200 \\\\\n",
    "-3 & -4 & 0 & 0 & 1 & 0\n",
    "\\end{array} \\right]\n",
    "\\end{array}$\n",
    "</font>\n",
    "\n",
    "Different sources have differing opinions about where the objective function goes in the matrix, but we'll use this format in this course.\n",
    "\n",
    "The previous example is in \"standard maximum form,\" which means:\n",
    "* the objective function is to be *maximized*, so the <font color=\"red\">leading coefficients are negative</font> in the matrix\n",
    "  \n",
    "  $\\left[ \\begin{array}{cccccc}\n",
    "1 & 1 & \\color{green}{1} & \\color{green}{0} & 0 & 480 \\\\\n",
    "2 & 3 & \\color{green}{0} & \\color{green}{1} & 0 & 1200 \\\\\n",
    "\\color{red}{-3} & \\color{red}{-4} & 0 & 0 & 1 & 0\n",
    "\\end{array} \\right]$<br /><br />\n",
    "\n",
    "* the coefficients are all &le;, resulting in <font color=\"green\">positive coefficients for all slack variables</font>"
   ]
  },
  {
   "cell_type": "markdown",
   "metadata": {},
   "source": [
    "###Practice Problem D\n",
    "Using your answers to Practice Problem C, set up an initial tableau.\n",
    "\n",
    "Is it in standard maximum form?"
   ]
  },
  {
   "cell_type": "raw",
   "metadata": {},
   "source": [
    "Write your initial tableau here.\n"
   ]
  },
  {
   "cell_type": "code",
   "execution_count": null,
   "metadata": {
    "run_control": {
     "read_only": false
    }
   },
   "outputs": [],
   "source": [
    "revealable(ans304D)"
   ]
  },
  {
   "cell_type": "markdown",
   "metadata": {},
   "source": [
    "###Practice Problem E\n",
    "Convert this problem from words into inequalities and equations and then into a standard-maximum initial tableau.\n",
    "\n",
    "A crafter builds chairs and desks. A desk takes 5 hours and 2 hardwood panels; chairs take 3 hours and 1 hardwood panel. He orders 10 panels and spends 22 hours a week on his craft. For storage reasons he must build at least 3 times as many chairs as desks. Desks can be sold for a profit of \\$400 and chairs for \\$100. Maximize his profit."
   ]
  },
  {
   "cell_type": "raw",
   "metadata": {},
   "source": [
    "Write your initial tableau here.\n",
    "\n"
   ]
  },
  {
   "cell_type": "code",
   "execution_count": null,
   "metadata": {
    "run_control": {
     "read_only": false
    }
   },
   "outputs": [],
   "source": [
    "revealable(ans304E)"
   ]
  },
  {
   "cell_type": "code",
   "execution_count": null,
   "metadata": {
    "collapsed": true,
    "run_control": {
     "read_only": false
    }
   },
   "outputs": [],
   "source": []
  }
 ],
 "metadata": {
  "kernelspec": {
   "display_name": "Julia 0.6.0",
   "language": "julia",
   "name": "julia-0.6"
  },
  "language_info": {
   "file_extension": ".jl",
   "mimetype": "application/julia",
   "name": "julia",
   "version": "0.6.0"
  }
 },
 "nbformat": 4,
 "nbformat_minor": 1
}
