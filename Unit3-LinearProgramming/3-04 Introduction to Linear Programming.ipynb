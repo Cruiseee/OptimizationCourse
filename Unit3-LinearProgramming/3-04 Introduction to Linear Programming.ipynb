{
 "cells": [
  {
   "cell_type": "markdown",
   "metadata": {
    "run_control": {
     "read_only": false
    }
   },
   "source": [
    "# 3-04 Introduction to Linear Programming\n",
    "* What is Linear Programming?\n",
    "* Setting up an Initial Tableau"
   ]
  },
  {
   "cell_type": "code",
   "execution_count": null,
   "metadata": {
    "collapsed": false
   },
   "outputs": [],
   "source": [
    "using Revealables\n",
    "include(\"files/answers.jl\")"
   ]
  },
  {
   "cell_type": "markdown",
   "metadata": {},
   "source": [
    "##Definition and Use\n",
    "__Linear programming__ is used to solve optimization problems where all the constraints, as well as the objective function, are linear equalities or inequalities. \n",
    "\n",
    "The methods were first developed in 1939 and used in military planning operations in World War 2. They were refined and published in 1947 by George Dantzig, who called his method the \"Simplex Method.\"\n",
    "\n",
    "In lesson 1, you solved a linear programming problem (experienced and inexperienced workers) using a graph.\n",
    "\n",
    "In the next few lessons you will learn to solve linear programming problems using matrices. Matrices have the following big advantages:\n",
    "1. Can solve problems in more than 2-3 variables (beyond our ability to graph)\n",
    "2. Can be programmed into a computer\n",
    "\n",
    "##Setting Constraints\n",
    "One of the problems that needs to be dealt with is that without a graph, systems of inequalities can be difficult to solve. \n",
    "\n",
    "These were the constraints on the \"workers\" problem:\n",
    "\n",
    "$\\begin{align*} \n",
    "15x_1 + 10x_2 &≤ 1200\\qquad(hourly~wages) \\\\\n",
    "1x_1 + 2x_2 &≤ 120\\qquad(supervisor~time) \\\\\n",
    "x_1, x_2 &≥ 0\\qquad(positive~variables)\n",
    "\\end{align*}$\n",
    "\n",
    "Because of all the inequalities, it is very difficult to find the solution set without a graph.\n",
    "\n",
    "The first step, therefore, is to convert inequality constraints to equality constraints. \n",
    "In the example, the inequality \n",
    "$15x_1 + 10x_2 ≤ 1200$\n",
    "implies that there is a difference (possibly 0) between the expression $15x_1 + 10x_2$ and the number $1200$. \n",
    "\n",
    "So, we introduce a variable (called a \"slack variable\") to represent that difference:\n",
    "$15x_1 + 10x_2 +x_3 = 1200$.\n",
    "\n",
    "So:\n",
    "\n",
    "$15x_1 + 10x_2 ≤ 1200$ becomes \n",
    "\n",
    "$\\qquad 15x_1 + 10x_2 +x_3 = 1200$\n",
    "\n",
    "and $1x_1 + 2x_2 ≤ 120$ becomes\n",
    "\n",
    "$\\qquad 1x_1 + 2x_2 + x_\\color{red}{4}= 120$\n",
    "                \n",
    "The two ≥ constraints are not converted, but it is assumed that all variables are positive."
   ]
  },
  {
   "cell_type": "markdown",
   "metadata": {},
   "source": [
    "###Practice Problem A\n",
    "Convert the following inequalities into equalities of the form (expression) = (number).\n",
    "1. $3x_1 + 5x_2 ≤ 12$\n",
    "2. $2x_1 - 4x_2  + x_3 ≤ 200$\n",
    "3. $6x_1 + x_2 ≥ 150$\n",
    "4. $-3x_1 + 2x_2 ≤ 120,000$\n",
    "5. $x_1 + 5x_2 + 2x_3 – 8x_4 + x_5  ≥ 13.8$\n",
    "6. $x_1 ≤ 2x_2$\n",
    "\n",
    "\n"
   ]
  },
  {
   "cell_type": "markdown",
   "metadata": {},
   "source": [
    "Write answers here or on a separate paper:\n"
   ]
  },
  {
   "cell_type": "code",
   "execution_count": null,
   "metadata": {
    "collapsed": false
   },
   "outputs": [],
   "source": [
    "revealable(ans304A)"
   ]
  },
  {
   "cell_type": "markdown",
   "metadata": {},
   "source": [
    "##Setting the Objective Function\n",
    "The next step is to convert the objective function so that its value can be placed into the initial matrix.\n",
    "\n",
    "If you have \"maximize $f = x_1 + 2x_2$,\" this would change to \"$-x_1 - 2x_2 + f = 0$.\"\n",
    "\n",
    "The conversion is an actual algebraic operation of getting all the variables on one side and 0 on the other. We do this because we want all the equations&mdash;constraints and objective function&mdash;to hold the form (expression with variables) = (number).\n",
    "\n",
    "Algebraically, it would be easier to subtract $f$, but one of the Big Important Rules is that no matter what, the coefficient of $f$ must always remain positive. \n"
   ]
  },
  {
   "cell_type": "markdown",
   "metadata": {},
   "source": [
    "##Practice Problem B\n",
    "Convert these objective functions to equations of the form $(expression) = 0$:\n",
    "1. Maximize $f = 3x_1 + 12x_2$\n",
    "2. Maximize $f = 4x_1 – x_2$\n",
    "3. Minimize $f = 2x_1 + x_2$. Convert this objective function to a \"maximizing a negative\" problem first!\n"
   ]
  },
  {
   "cell_type": "raw",
   "metadata": {},
   "source": [
    "Write your answers here:"
   ]
  },
  {
   "cell_type": "code",
   "execution_count": null,
   "metadata": {
    "collapsed": false
   },
   "outputs": [],
   "source": [
    "revealable(ans304B)"
   ]
  },
  {
   "cell_type": "markdown",
   "metadata": {},
   "source": [
    "###Practice Problem C\n",
    "Convert the constraints and objective function of the following linear programming problem:\n",
    "\n",
    "Maximize $f = 50x_1 + 20x_2 + 42x_3\\\\$\n",
    "subject to $3x_1 + 2x_2 – x_3 ≤ 100 \\\\\n",
    "\t\t   2x_1 + x_2 + 4x_3 ≤ 80$\n",
    "\n",
    "\n"
   ]
  },
  {
   "cell_type": "raw",
   "metadata": {},
   "source": [
    "Objective Function:\n",
    "\n",
    "Constraints:\n"
   ]
  },
  {
   "cell_type": "code",
   "execution_count": null,
   "metadata": {
    "collapsed": false
   },
   "outputs": [],
   "source": [
    "revealable(ans304C)"
   ]
  },
  {
   "cell_type": "markdown",
   "metadata": {},
   "source": [
    "##Setting Up an Initial Tableau\n",
    "Once you have your equations ready, you can put them into an initial matrix.\n",
    "\n",
    "<font color=\"#336699\">\n",
    "Maximize $-3x_1 - 4x_2 + f = 0$ (objective)\n",
    "<br /><br />\n",
    "subject to $x_1 + x_2 + x_3 = 480 \\\\\n",
    "\t\t   2x_1 + 3x_2 + x_4 ≤ 1200$ (constraints)\n",
    "</font>\n",
    "\n",
    "becomes \n",
    "\n",
    "<font color=\"#336699\">\n",
    "$\\begin{array}{c}\n",
    "\\begin{array}{cccccc}\n",
    "x_1 & x_2 & x_3 & x_4 & f & ans\n",
    "\\end{array}\\\\\n",
    "\\left[ \\begin{array}{cccccc}\n",
    "1 & 1 & 1 & 0 & 0 & 480 \\\\\n",
    "2 & 3 & 0 & 1 & 0 & 1200 \\\\\n",
    "-3 & -4 & 0 & 0 & 1 & 0\n",
    "\\end{array} \\right]\n",
    "\\end{array}$\n",
    "</font>\n",
    "\n",
    "Different sources have differing opinions about where the objective function goes in the matrix, but we'll use this format in this course.\n",
    "\n",
    "The previous example is in \"standard maximum form,\" which means:\n",
    "* the objective function is to be *maximized*, so the <font color=\"red\">leading coefficients are negative</font> in the matrix\n",
    "  \n",
    "  $\\left[ \\begin{array}{cccccc}\n",
    "1 & 1 & \\color{green}{1} & \\color{green}{0} & 0 & 480 \\\\\n",
    "2 & 3 & \\color{green}{0} & \\color{green}{1} & 0 & 1200 \\\\\n",
    "\\color{red}{-3} & \\color{red}{-4} & 0 & 0 & 1 & 0\n",
    "\\end{array} \\right]$<br /><br />\n",
    "\n",
    "* the coefficients are all &le;, resulting in <font color=\"green\">positive coefficients for all slack variables</font>"
   ]
  },
  {
   "cell_type": "markdown",
   "metadata": {},
   "source": [
    "###Practice Problem D\n",
    "Using your answers to Practice Problem C, set up an initial tableau.\n",
    "\n",
    "Is it in standard maximum form?"
   ]
  },
  {
   "cell_type": "raw",
   "metadata": {},
   "source": [
    "Write your initial tableau here.\n"
   ]
  },
  {
   "cell_type": "code",
   "execution_count": null,
   "metadata": {
    "collapsed": false
   },
   "outputs": [],
   "source": [
    "revealable(ans304D)"
   ]
  },
  {
   "cell_type": "markdown",
   "metadata": {},
   "source": [
    "###Practice Problem E\n",
    "Convert this problem from words into inequalities and equations and then into a standard-maximum initial tableau.\n",
    "\n",
    "A crafter builds chairs and desks. A desk takes 5 hours and 2 hardwood panels; chairs take 3 hours and 1 hardwood panel. He orders 10 panels and spends 22 hours a week on his craft. For storage reasons he must build at least 3 times as many chairs as desks. Desks can be sold for a profit of \\$400 and chairs for \\$100. Maximize his profit."
   ]
  },
  {
   "cell_type": "raw",
   "metadata": {},
   "source": [
    "Write your initial tableau here.\n",
    "\n"
   ]
  },
  {
   "cell_type": "code",
   "execution_count": null,
   "metadata": {
    "collapsed": false
   },
   "outputs": [],
   "source": [
    "revealable(ans304E)"
   ]
  },
  {
   "cell_type": "code",
   "execution_count": null,
   "metadata": {
    "collapsed": true
   },
   "outputs": [],
   "source": []
  }
 ],
 "metadata": {
  "kernelspec": {
   "display_name": "Julia 0.3.10",
   "language": "julia",
   "name": "julia-0.3"
  },
  "language_info": {
   "file_extension": ".jl",
   "mimetype": "application/julia",
   "name": "julia",
   "version": "0.3.10"
  }
 },
 "nbformat": 4,
 "nbformat_minor": 0
}
