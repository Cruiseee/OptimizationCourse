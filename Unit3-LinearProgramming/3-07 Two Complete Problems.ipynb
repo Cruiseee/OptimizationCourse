{
 "cells": [
  {
   "cell_type": "markdown",
   "metadata": {
    "run_control": {
     "read_only": false
    }
   },
   "source": [
    "# 3-7 Two Complete Problems\n",
    "* Lemonade Stand\n",
    "* Farmer problem"
   ]
  },
  {
   "cell_type": "code",
   "execution_count": 1,
   "metadata": {},
   "outputs": [
    {
     "data": {
      "text/html": [
       "<div id=\"interact-js-shim\">\n",
       "    <script charset=\"utf-8\">\r\n",
       "(function (IPython, $, _, MathJax) {\r\n",
       "    $.event.special.destroyed = {\r\n",
       "\tremove: function(o) {\r\n",
       "\t    if (o.handler) {\r\n",
       "\t\to.handler.apply(this, arguments)\r\n",
       "\t    }\r\n",
       "\t}\r\n",
       "    }\r\n",
       "\r\n",
       "    var OutputArea = IPython.version >= \"4.0.0\" ? require(\"notebook/js/outputarea\").OutputArea : IPython.OutputArea;\r\n",
       "\r\n",
       "    var redrawValue = function (container, type, val) {\r\n",
       "\tvar selector = $(\"<div/>\");\r\n",
       "\tvar oa = new OutputArea(_.extend(selector, {\r\n",
       "\t    selector: selector,\r\n",
       "\t    prompt_area: true,\r\n",
       "\t    events: IPython.events,\r\n",
       "\t    keyboard_manager: IPython.keyboard_manager\r\n",
       "\t})); // Hack to work with IPython 2.1.0\r\n",
       "\r\n",
       "\tswitch (type) {\r\n",
       "\tcase \"image/png\":\r\n",
       "            var _src = 'data:' + type + ';base64,' + val;\r\n",
       "\t    $(container).find(\"img\").attr('src', _src);\r\n",
       "\t    break;\r\n",
       "\tcase \"text/latex\":\r\n",
       "\t\tif (MathJax){\r\n",
       "\t\t\tvar math = MathJax.Hub.getAllJax(container)[0];\r\n",
       "\t\t\tMathJax.Hub.Queue([\"Text\", math, val.replace(/^\\${1,2}|\\${1,2}$/g, '')]);\r\n",
       "\t\t\tbreak;\r\n",
       "\t\t}\r\n",
       "\tdefault:\r\n",
       "\t    var toinsert = OutputArea.append_map[type].apply(\r\n",
       "\t\toa, [val, {}, selector]\r\n",
       "\t    );\r\n",
       "\t    $(container).empty().append(toinsert.contents());\r\n",
       "\t    selector.remove();\r\n",
       "\t}\r\n",
       "    }\r\n",
       "\r\n",
       "\r\n",
       "    $(document).ready(function() {\r\n",
       "\tfunction initComm(evt, data) {\r\n",
       "\t    var comm_manager = data.kernel.comm_manager;\r\n",
       "        //_.extend(comm_manager.targets, require(\"widgets/js/widget\"))\r\n",
       "\t    comm_manager.register_target(\"Signal\", function (comm) {\r\n",
       "            comm.on_msg(function (msg) {\r\n",
       "                var val = msg.content.data.value;\r\n",
       "                $(\".signal-\" + comm.comm_id).each(function() {\r\n",
       "                var type = $(this).data(\"type\");\r\n",
       "                if (typeof(val[type]) !== \"undefined\" && val[type] !== null) {\r\n",
       "                    redrawValue(this, type, val[type], type);\r\n",
       "                }\r\n",
       "                });\r\n",
       "                delete val;\r\n",
       "                delete msg.content.data.value;\r\n",
       "            });\r\n",
       "\t    });\r\n",
       "\r\n",
       "\t    // coordingate with Comm and redraw Signals\r\n",
       "\t    // XXX: Test using Reactive here to improve performance\r\n",
       "\t    $([IPython.events]).on(\r\n",
       "\t\t'output_appended.OutputArea', function (event, type, value, md, toinsert) {\r\n",
       "\t\t    if (md && md.reactive) {\r\n",
       "                // console.log(md.comm_id);\r\n",
       "                toinsert.addClass(\"signal-\" + md.comm_id);\r\n",
       "                toinsert.data(\"type\", type);\r\n",
       "                // Signal back indicating the mimetype required\r\n",
       "                var comm_manager = IPython.notebook.kernel.comm_manager;\r\n",
       "                var comm = comm_manager.comms[md.comm_id];\r\n",
       "                comm.then(function (c) {\r\n",
       "                    c.send({action: \"subscribe_mime\",\r\n",
       "                       mime: type});\r\n",
       "                    toinsert.bind(\"destroyed\", function() {\r\n",
       "                        c.send({action: \"unsubscribe_mime\",\r\n",
       "                               mime: type});\r\n",
       "                    });\r\n",
       "                })\r\n",
       "\t\t    }\r\n",
       "\t    });\r\n",
       "\t}\r\n",
       "\r\n",
       "\ttry {\r\n",
       "\t    // try to initialize right away. otherwise, wait on the status_started event.\r\n",
       "\t    initComm(undefined, IPython.notebook);\r\n",
       "\t} catch (e) {\r\n",
       "\t    $([IPython.events]).on('kernel_created.Kernel kernel_created.Session', initComm);\r\n",
       "\t}\r\n",
       "    });\r\n",
       "})(IPython, jQuery, _, MathJax);\r\n",
       "</script>\n",
       "    <script>\n",
       "        window.interactLoadedFlag = true\n",
       "       $(\"#interact-js-shim\").bind(\"destroyed\", function () {\n",
       "           if (window.interactLoadedFlag) {\n",
       "               console.warn(\"JavaScript required by Interact will be removed if you remove this cell or run using Interact more than once.\")\n",
       "           }\n",
       "       })\n",
       "       $([IPython.events]).on(\"kernel_starting.Kernel kernel_restarting.Kernel\", function () { window.interactLoadedFlag = false })\n",
       "   </script>\n",
       "</div>"
      ]
     },
     "metadata": {},
     "output_type": "display_data"
    },
    {
     "name": "stderr",
     "output_type": "stream",
     "text": [
      "WARNING: Method definition <=(IntervalArithmetic.Interval{T<:Real"
     ]
    },
    {
     "data": {
      "text/markdown": [
       "\n"
      ],
      "text/plain": [
       "Revealables.Revealable(\"###Answer D\\ntableau before phase 1 subtraction step:\\n\\n        [2  4  1  1  0  0  0 20\\n         3  1  5  0 -1  1  0 10 \\n         0  0  0  0  0  1  1  0]\\n\\nphase 1 tableau:\\n\\n        [2  4  1  1  0  0  0  20\\n         3  1  5  0 -1  1  0  10\\n        -3 -1 -5  0  1  0  1 -10]\\n\\nafter 1 pivot/final phase 1 tableau:\\n\\n        [7 19  0  5  1  0 90\\n         3  1  5  0 -1  0 10\\n         0  0  0  0  0  5  0]\\n\\nphase 2 tableau:\\n\\n        [ 7  19   0   5   1   0  90\\n          3   1   5   0  -1   0  10\\n        -15 -10 -20   0   0   1   0]\\n\\nAfter 3 pivots/final tableau:\\n\\n        [   35    95     0    25   5    0    450\\n          4750  9500  2375  2375   0    0  47500\\n         59375 166250    0 47500   0 2375 950000]\\n\\nMaximum value of 400 when x<sub>3</sub> = 20; slack variable x<sub>5</sub> = 90.\\n\", \"Answer\", false, false)"
      ]
     },
     "execution_count": 1,
     "metadata": {},
     "output_type": "execute_result"
    },
    {
     "name": "stderr",
     "output_type": "stream",
     "text": [
      "}, IntervalArithmetic.Interval{S<:Real}) in module IntervalArithmetic at C:\\Users\\Victoria Docherty\\.julia\\v0.6\\IntervalArithmetic\\src\\intervals\\arithmetic.jl:26 overwritten in module ImplicitEquations at C:\\Users\\Victoria Docherty\\.julia\\v0.6\\ImplicitEquations\\src\\intervals.jl:9.\n"
     ]
    }
   ],
   "source": [
    "using Revealables\n",
    "include(\"files/answers.jl\")"
   ]
  },
  {
   "cell_type": "markdown",
   "metadata": {},
   "source": [
    "##Problem A: Lemonade Stand\n",
    "A school club is planning to sell lemonade and lemon slushies as a fundraiser. Because it is a hot day, they will both sell out. \n",
    "\n",
    "* Lemonade requires 1 cup of ice per serving and 3 tablespoons of lemonade powder.\n",
    "* Slushies require 2 cups of ice and 2 tablespoons powder. \n",
    "\n",
    "The club has three 20-pound bags of ice (about 120 cups total), and 3 quarts of lemonade powder (about 192 tbsp). \n",
    "\n",
    "If slushies will sell for \\$4 and lemonades for \\$3, maximize the club's revenue.<sup>1</sup> Report the answer in words and include commentary on active and inactive constraints if there are any.\n",
    "\n",
    "<sup>1</sup> *Revenue* is the amount of money made without taking expenses into account."
   ]
  },
  {
   "cell_type": "raw",
   "metadata": {},
   "source": [
    "Define variables, constraints, and objective function:\n"
   ]
  },
  {
   "cell_type": "code",
   "execution_count": null,
   "metadata": {
    "collapsed": true
   },
   "outputs": [],
   "source": [
    "# Calculate here using the `pivot` program you wrote"
   ]
  },
  {
   "cell_type": "raw",
   "metadata": {},
   "source": [
    "Report your answer in words:\n"
   ]
  },
  {
   "cell_type": "code",
   "execution_count": null,
   "metadata": {},
   "outputs": [],
   "source": [
    "revealable(ans307A)"
   ]
  },
  {
   "cell_type": "markdown",
   "metadata": {},
   "source": [
    "##Problem B: Farmer\n",
    "A farmer raises cows, chickens, pigs and goats.\n",
    "\n",
    "He has $600~m^2$ of farmyard space; each chicken requires $1~m^2$, goats and pigs $2~m^2$ each, and cows $4~m^2$.\n",
    "\n",
    "He can afford \\$1200/week on food; each cow costs \\$10/week, chickens and pigs \\$2, goats \\$1.\n",
    "Medical care for his animals averages \\$5/month per cow, \\$2 per pig and goat, and \\$0 per chicken. His veterinary contract provides care up to \\$800/month.\n",
    "\n",
    "His expected annual profit is \\$350 per cow, \\$40 per pig, \\$35 per goat, and \\$10 per chicken. Maximize this profit.\n",
    "\n",
    "Write your solution completely and in context."
   ]
  },
  {
   "cell_type": "raw",
   "metadata": {},
   "source": [
    "Define variables, constraints, and objective function:\n"
   ]
  },
  {
   "cell_type": "code",
   "execution_count": null,
   "metadata": {
    "collapsed": true
   },
   "outputs": [],
   "source": [
    "# Calculate here using the `pivot` program you wrote"
   ]
  },
  {
   "cell_type": "raw",
   "metadata": {},
   "source": [
    "Report your answer in words:\n"
   ]
  },
  {
   "cell_type": "code",
   "execution_count": null,
   "metadata": {},
   "outputs": [],
   "source": [
    "revealable(ans307B)"
   ]
  },
  {
   "cell_type": "code",
   "execution_count": null,
   "metadata": {
    "collapsed": true
   },
   "outputs": [],
   "source": []
  }
 ],
 "metadata": {
  "kernelspec": {
   "display_name": "Julia 0.6.0",
   "language": "julia",
   "name": "julia-0.6"
  },
  "language_info": {
   "file_extension": ".jl",
   "mimetype": "application/julia",
   "name": "julia",
   "version": "0.6.0"
  }
 },
 "nbformat": 4,
 "nbformat_minor": 1
}
