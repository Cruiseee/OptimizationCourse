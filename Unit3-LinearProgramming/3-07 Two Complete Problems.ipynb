{
 "cells": [
  {
   "cell_type": "markdown",
   "metadata": {
    "run_control": {
     "read_only": false
    }
   },
   "source": [
    "# 3-7 Two Complete Problems\n",
    "* Lemonade Stand\n",
    "* Farmer problem"
   ]
  },
  {
   "cell_type": "code",
   "execution_count": null,
   "metadata": {
    "collapsed": false
   },
   "outputs": [],
   "source": [
    "using Revealables\n",
    "include(\"files/answers.jl\")"
   ]
  },
  {
   "cell_type": "markdown",
   "metadata": {},
   "source": [
    "##Problem A: Lemonade Stand\n",
    "A school club is planning to sell lemonade and lemon slushies as a fundraiser. Because it is a hot day, they will both sell out. \n",
    "\n",
    "* Lemonade requires 1 cup of ice per serving and 3 tablespoons of lemonade powder.\n",
    "* Slushies require 2 cups of ice and 2 tablespoons powder. \n",
    "\n",
    "The club has three 20-pound bags of ice (about 120 cups total), and 3 quarts of lemonade powder (about 192 tbsp). \n",
    "\n",
    "If slushies will sell for \\$4 and lemonades for \\$3, maximize the club's revenue.<sup>1</sup> Report the answer in words and include commentary on active and inactive constraints if there are any.\n",
    "\n",
    "<sup>1</sup> *Revenue* is the amount of money made without taking expenses into account."
   ]
  },
  {
   "cell_type": "raw",
   "metadata": {},
   "source": [
    "Define variables, constraints, and objective function:\n"
   ]
  },
  {
   "cell_type": "code",
   "execution_count": null,
   "metadata": {
    "collapsed": true
   },
   "outputs": [],
   "source": [
    "# Calculate here using the `pivot` program you wrote"
   ]
  },
  {
   "cell_type": "raw",
   "metadata": {},
   "source": [
    "Report your answer in words:\n"
   ]
  },
  {
   "cell_type": "code",
   "execution_count": null,
   "metadata": {
    "collapsed": false
   },
   "outputs": [],
   "source": [
    "revealable(ans307A)"
   ]
  },
  {
   "cell_type": "markdown",
   "metadata": {},
   "source": [
    "##Problem B: Farmer\n",
    "A farmer raises cows, chickens, pigs and goats.\n",
    "\n",
    "He has $600~m^2$ of farmyard space; each chicken requires $1~m^2$, goats and pigs $2~m^2$ each, and cows $4~m^2$.\n",
    "\n",
    "He can afford \\$1200/week on food; each cow costs \\$10/week, chickens and pigs \\$2, goats \\$1.\n",
    "Medical care for his animals averages \\$5/month per cow, \\$2 per pig and goat, and \\$0 per chicken. His veterinary contract provides care up to \\$800/month.\n",
    "\n",
    "His expected annual profit is \\$350 per cow, \\$40 per pig, \\$35 per goat, and \\$10 per chicken. Maximize this profit.\n",
    "\n",
    "Write your solution completely and in context."
   ]
  },
  {
   "cell_type": "raw",
   "metadata": {},
   "source": [
    "Define variables, constraints, and objective function:\n"
   ]
  },
  {
   "cell_type": "code",
   "execution_count": null,
   "metadata": {
    "collapsed": true
   },
   "outputs": [],
   "source": [
    "# Calculate here using the `pivot` program you wrote"
   ]
  },
  {
   "cell_type": "raw",
   "metadata": {},
   "source": [
    "Report your answer in words:\n"
   ]
  },
  {
   "cell_type": "code",
   "execution_count": null,
   "metadata": {
    "collapsed": false
   },
   "outputs": [],
   "source": [
    "revealable(ans307B)"
   ]
  },
  {
   "cell_type": "code",
   "execution_count": null,
   "metadata": {
    "collapsed": true
   },
   "outputs": [],
   "source": []
  }
 ],
 "metadata": {
  "kernelspec": {
   "display_name": "Julia 0.3.10",
   "language": "julia",
   "name": "julia-0.3"
  },
  "language_info": {
   "file_extension": ".jl",
   "mimetype": "application/julia",
   "name": "julia",
   "version": "0.3.10"
  }
 },
 "nbformat": 4,
 "nbformat_minor": 0
}
