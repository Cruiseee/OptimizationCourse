{
 "cells": [
  {
   "cell_type": "markdown",
   "metadata": {
    "run_control": {
     "read_only": false
    }
   },
   "source": [
    "# 3-6 Simplex Maximization\n",
    "* Choosing the Pivot\n",
    "* Putting it All Together"
   ]
  },
  {
   "cell_type": "code",
   "execution_count": null,
   "metadata": {
    "collapsed": false
   },
   "outputs": [],
   "source": [
    "using Revealables\n",
    "include(\"files/answers.jl\")"
   ]
  },
  {
   "cell_type": "markdown",
   "metadata": {},
   "source": [
    "##Choosing a Pivot\n",
    "The simplex method, from start to finish, looks like this:\n",
    "1. Convert a word problem into inequality constraints and an objective function.\n",
    "2. Add slack variables, convert the objective function and build an initial tableau.\n",
    "3. <font color=\"#ff0000\">Choose a pivot.</font>\n",
    "4. Pivot. \n",
    "5. Repeat steps 3 and 4 until done.\n",
    "\n",
    "$\\left[ \\begin{array}{cccccc}\n",
    "\\color{orange}{1} & \\color{orange}{1} & \\color{blue}{1} & \\color{blue}{0} & \\color{blue}{0} & 480 \\\\\n",
    "\\color{orange}{2} & \\color{orange}{3} & \\color{blue}{0} & \\color{blue}{1} & \\color{blue}{0} & 1200 \\\\\n",
    "\\color{red}{-3} & \\color{red}{-4} & \\color{blue}{0} & \\color{blue}{0} & \\color{blue}{1} & \\color{green}{0}\n",
    "\\end{array} \\right]$\n",
    "\n",
    "* <font color=\"orange\">\"real\" variables</font>\n",
    "* <font color=\"blue\">slack variables in basis</font>\n",
    "* <font color=\"green\">objective function set to zero</font>\n",
    "* <font color=\"red\">negative numbers in the bottom row, called \"indicators\"</font>\n",
    "\n",
    "The most negative number in the bottom row is <font color=\"red\">-4</font>.\n",
    "\n",
    "After you find the most negative indicator, examine the column above it. The pivot will come from these numbers.\n",
    "\n",
    "$\\left[ \\begin{array}{cccccc}\n",
    "1 & \\color{orange}{1} & 1 & 0 & 0 & 480 \\\\\n",
    "2 & \\color{orange}{3} & 0 & 1 & 0 & 1200 \\\\\n",
    "-3 & -4 & 0 & 0 & 1 & 0\n",
    "\\end{array} \\right]$\n",
    "\n",
    "First, eliminate from contention any that are negative or 0. (In this tableau, both <font color=\"orange\">1</font> and <font color=\"orange\">3</font> pass this test.)\n",
    "\n",
    "With each of the remaining candidates:\n",
    "1. Pretend it is in the basis.\n",
    "2. Find its value as if it were in the basis.\n",
    "\n",
    "\n",
    "* Choose the candidate with the lowest variable. That number is your pivot."
   ]
  },
  {
   "cell_type": "markdown",
   "metadata": {},
   "source": [
    "###Practice Problem A\n",
    "Choose the pivot from the following tableaux:\n",
    "\n",
    "1. \n",
    "$\\left[ \\begin{array}{cccccccc}\n",
    "3 & 1 & 5 & 1 & 0 & 0 & 0 & 30 \\\\\n",
    "-2 & 0 & 4 & 0 & 1 & 0 & 0 & 20 \\\\\n",
    "5 & 2 & 1 & 0 & 0 & 1 & 0 & 15 \\\\\n",
    "-30 & -20 & 40 & 0 & 0 & 0 & 1 & 0\n",
    "\\end{array} \\right]$<br /><br />\n",
    "\n",
    "2. $\\left[ \\begin{array}{cccccccc}\n",
    "5 & 12 & 6 & 0 & -2 & 0 & 50 \\\\\n",
    "0 & 2 & 1 & 3 & -3 & 0 & 8 \\\\\n",
    "0 & -40 & -20 & 0 & 5 & 2 & 400\n",
    "\\end{array} \\right]$"
   ]
  },
  {
   "cell_type": "code",
   "execution_count": null,
   "metadata": {
    "collapsed": true
   },
   "outputs": [],
   "source": [
    "# Calculate here\n"
   ]
  },
  {
   "cell_type": "code",
   "execution_count": null,
   "metadata": {
    "collapsed": false
   },
   "outputs": [],
   "source": [
    "revealable(ans306A)"
   ]
  },
  {
   "cell_type": "markdown",
   "metadata": {},
   "source": [
    "##What if...\n",
    "* there are no negative indicators?\n",
    "    * *You're done! The tableau is maximized. Report the solution.*\n",
    "* there are negative indicators but no legal candidates for the pivot?\n",
    "    * *There is no solution to the problem. The scenario is not feasible.*\n",
    "* two pivot candidates are tied for the lowest value?\n",
    "    * *Either will work. Protocol says to choose the one higher up in the column. After pivoting, the column value in the other row will be 0. Make sure the basic variable in that row has a positive coefficient; if not, multiply the row by -1.*\n",
    "* the solution contains decimals… but shouldn’t?\n",
    "    * *Test all nearby lattice (whole number) points to make sure they satisfy the constraints, then plug them into the objective function and choose the best.*\n"
   ]
  },
  {
   "cell_type": "markdown",
   "metadata": {},
   "source": [
    "###Practice Problem B\n",
    "Identify each tableau as complete, unfeasible, or neither.\n",
    "* If complete, report the solution.\n",
    "* if neither, choose the next pivot.\n",
    "\n",
    "\n",
    "1. \n",
    "$\\left[ \\begin{array}{cccccc}\n",
    "0 & 1 & 1 & -2 & 0 & 500 \\\\\n",
    "2 & 3 & 0 & 1 & 2 & 120 \\\\\n",
    "0 & 4 & 0 & 4 & 1 & 1200\n",
    "\\end{array} \\right]$<br /><br />\n",
    "\n",
    "2. \n",
    "$\\left[ \\begin{array}{cccccc}\n",
    "15 & 20 & 1 & 0 & 0 & 400 \\\\\n",
    "5 & 10 & 0 & 1 & 0 & 200 \\\\\n",
    "2 & -5 & 0 & 0 & 1 & 0\n",
    "\\end{array} \\right]$\n",
    "<br /><br />\n",
    "\n",
    "3. \n",
    "$\\left[ \\begin{array}{cccccc}\n",
    "1 & 1 & 1 & 0 & 0 & 380 \\\\\n",
    "2 & 0 & 0 & 1 & 0 & 500 \\\\\n",
    "-3 & -4 & 0 & 0 & 1 & 0\n",
    "\\end{array} \\right]$<br /><br />\n",
    "\n",
    "4. \n",
    "$\\left[ \\begin{array}{cccccc}\n",
    "1 & 0 & 1 & 3 & 0 & 450 \\\\\n",
    "0 & 3 & 0 & 1 & 0 & 100 \\\\\n",
    "0 & 0 & 12 & 0 & 5 & 150\n",
    "\\end{array} \\right]$<br /><br />\n",
    "<br /><br />"
   ]
  },
  {
   "cell_type": "code",
   "execution_count": null,
   "metadata": {
    "collapsed": true
   },
   "outputs": [],
   "source": [
    "# Calculate and record answers here"
   ]
  },
  {
   "cell_type": "code",
   "execution_count": null,
   "metadata": {
    "collapsed": false
   },
   "outputs": [],
   "source": [
    "revealable(ans306B)"
   ]
  },
  {
   "cell_type": "markdown",
   "metadata": {},
   "source": [
    "###Practice Problem C\n",
    "Finding the pivot using code involves a lot of `if`/`else` and looping, so we won't write that code; besides, there are plenty of simplex programs out there already. Instead, describe the steps for finding the pivot as if you were designing a program to do so."
   ]
  },
  {
   "cell_type": "raw",
   "metadata": {},
   "source": [
    "Write your steps here:\n"
   ]
  },
  {
   "cell_type": "code",
   "execution_count": null,
   "metadata": {
    "collapsed": false
   },
   "outputs": [],
   "source": [
    "revealable(ans306C)"
   ]
  },
  {
   "cell_type": "markdown",
   "metadata": {},
   "source": [
    "##Putting It Together\n",
    "The steps again, from start to finish:\n",
    "1. Convert a word problem into inequality constraints and an objective function.\n",
    "2. Add slack variables, convert the objective function and build an initial tableau.\n",
    "3. Choose a pivot.\n",
    "4. Pivot. \n",
    "5. Repeat steps 3 and 4 until done.\n",
    "\n",
    "Although you don't have code for the entire procedure, you do have code that completes the most difficult and error-prone step, which is pivoting. You can also run your code sequentially using the commands\n",
    "\n",
    "    A = pivot(A, r1, c1)\n",
    "    A = pivot(A, r2, c2)\n",
    "    println(A)\n",
    "    \n",
    "if you know in advance what your pivots will be.\n",
    "\n",
    "With your pivoting-only code, what you will need to do is this:\n",
    "1. Enter the initial tableau A. \n",
    "2. Find the first pivot and run the code:\n",
    "          B = pivot(A, r1, c1)\n",
    "  \t    println(B)\n",
    "3. Find the next pivot and run the code from the start:\n",
    "        B = pivot(A, r1, c1)\n",
    "\t    B = pivot(B, r2, c2)\n",
    "\t    println(B)\n",
    "4. Repeat until a solution is found, then report the solution.\n",
    "\n"
   ]
  },
  {
   "cell_type": "markdown",
   "metadata": {},
   "source": [
    "###Practice Problem D\n",
    "Maximize this initial tableau, from the carpenter problem in Lesson 1-4:\n",
    "\n",
    "$\\left[ \\begin{array}{ccccccc}\n",
    "5 & 2 & 1 & 0 & 0 & 0 & 480 \\\\\n",
    "2 & 1 & 0 & 1 & 0 & 0 & 1200 \\\\\n",
    "3 & -1 & 0 & 0 & 1 & 0 & 0 \\\\\n",
    "-400 & -100 & 0 & 0 & 0 & 1 & 0 \n",
    "\\end{array} \\right]$\n",
    "\n",
    "Recalling that $x_1$ was the number of desks and $x_2$ was the number of chairs that should be built for a weekly profit $f$, report you answer in context."
   ]
  },
  {
   "cell_type": "code",
   "execution_count": null,
   "metadata": {
    "collapsed": true
   },
   "outputs": [],
   "source": [
    "# Calculate here"
   ]
  },
  {
   "cell_type": "raw",
   "metadata": {},
   "source": [
    "Report your answer in the context of the problem:\n"
   ]
  },
  {
   "cell_type": "code",
   "execution_count": null,
   "metadata": {
    "collapsed": false
   },
   "outputs": [],
   "source": [
    "revealable(ans306D)"
   ]
  },
  {
   "cell_type": "markdown",
   "metadata": {},
   "source": [
    "##Visualizing the Simplex Method\n",
    "Although the simplex method is very abstract, it mimics the process of graphical linear programming almost exactly.\n",
    "\n",
    "<img src=\"files/3-6/anim.gif\" width=200 align=\"left\" />It starts at the point (0, 0) (the initial tableau)...\n",
    "\n",
    "then chooses a promising neighbor and moves there (pivoting)\n",
    "\n",
    "and repeats until it finds the maximum.\n",
    "\n",
    "<br clear=\"all\" />With three or more variables, the feasible region picture is no longer a two-dimensional region but a multi-dimensional polyhedron known as a *simplex* or *polytope*.\n",
    "\n",
    "<img src=\"files/3-6/simplex.png\" width=200 align=\"left\" />\n",
    "\n",
    "Each constraint forms a face of the simplex and each corner point represents a potential solution. \n",
    "\n",
    "The simplex method starts at the origin and shifts from point to point, one coordinate at a time; the \"basis\" is simply the coordinates of the current point.\n",
    "\n",
    "Changing the basis (pivoting) moves the point along an edge of the simplex to the most promising adjacent point. Our process for choosing the pivot guarantees that we're not just randomly testing adjacent points. Finding the most negative indicator ensures that we'll move in a direction of improvement; finding the row with the smallest \"solution\" value guarantees we remain in the feasible region.\n",
    "\n",
    "The process repeats until a maximum is reached.\n",
    "\n",
    "Although impossible to visualize in four dimensions (at least for me!), the feasible region is still referred to as a \"simplex\" and the process is identical."
   ]
  },
  {
   "cell_type": "code",
   "execution_count": null,
   "metadata": {
    "collapsed": true
   },
   "outputs": [],
   "source": []
  },
  {
   "cell_type": "code",
   "execution_count": null,
   "metadata": {
    "collapsed": true
   },
   "outputs": [],
   "source": []
  }
 ],
 "metadata": {
  "kernelspec": {
   "display_name": "Julia 0.3.10",
   "language": "julia",
   "name": "julia-0.3"
  },
  "language_info": {
   "file_extension": ".jl",
   "mimetype": "application/julia",
   "name": "julia",
   "version": "0.3.10"
  }
 },
 "nbformat": 4,
 "nbformat_minor": 0
}
