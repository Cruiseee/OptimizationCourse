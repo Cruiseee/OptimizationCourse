{
 "cells": [
  {
   "cell_type": "markdown",
   "metadata": {
    "run_control": {
     "read_only": false
    }
   },
   "source": [
    "# 3-5 Simplex Method: Next Steps\n",
    "* Reading a Solution\n",
    "* Pivoting"
   ]
  },
  {
   "cell_type": "code",
   "execution_count": 1,
   "metadata": {},
   "outputs": [
    {
     "data": {
      "text/html": [
       "<div id=\"interact-js-shim\">\n",
       "    <script charset=\"utf-8\">\r\n",
       "(function (IPython, $, _, MathJax) {\r\n",
       "    $.event.special.destroyed = {\r\n",
       "\tremove: function(o) {\r\n",
       "\t    if (o.handler) {\r\n",
       "\t\to.handler.apply(this, arguments)\r\n",
       "\t    }\r\n",
       "\t}\r\n",
       "    }\r\n",
       "\r\n",
       "    var OutputArea = IPython.version >= \"4.0.0\" ? require(\"notebook/js/outputarea\").OutputArea : IPython.OutputArea;\r\n",
       "\r\n",
       "    var redrawValue = function (container, type, val) {\r\n",
       "\tvar selector = $(\"<div/>\");\r\n",
       "\tvar oa = new OutputArea(_.extend(selector, {\r\n",
       "\t    selector: selector,\r\n",
       "\t    prompt_area: true,\r\n",
       "\t    events: IPython.events,\r\n",
       "\t    keyboard_manager: IPython.keyboard_manager\r\n",
       "\t})); // Hack to work with IPython 2.1.0\r\n",
       "\r\n",
       "\tswitch (type) {\r\n",
       "\tcase \"image/png\":\r\n",
       "            var _src = 'data:' + type + ';base64,' + val;\r\n",
       "\t    $(container).find(\"img\").attr('src', _src);\r\n",
       "\t    break;\r\n",
       "\tcase \"text/latex\":\r\n",
       "\t\tif (MathJax){\r\n",
       "\t\t\tvar math = MathJax.Hub.getAllJax(container)[0];\r\n",
       "\t\t\tMathJax.Hub.Queue([\"Text\", math, val.replace(/^\\${1,2}|\\${1,2}$/g, '')]);\r\n",
       "\t\t\tbreak;\r\n",
       "\t\t}\r\n",
       "\tdefault:\r\n",
       "\t    var toinsert = OutputArea.append_map[type].apply(\r\n",
       "\t\toa, [val, {}, selector]\r\n",
       "\t    );\r\n",
       "\t    $(container).empty().append(toinsert.contents());\r\n",
       "\t    selector.remove();\r\n",
       "\t}\r\n",
       "    }\r\n",
       "\r\n",
       "\r\n",
       "    $(document).ready(function() {\r\n",
       "\tfunction initComm(evt, data) {\r\n",
       "\t    var comm_manager = data.kernel.comm_manager;\r\n",
       "        //_.extend(comm_manager.targets, require(\"widgets/js/widget\"))\r\n",
       "\t    comm_manager.register_target(\"Signal\", function (comm) {\r\n",
       "            comm.on_msg(function (msg) {\r\n",
       "                var val = msg.content.data.value;\r\n",
       "                $(\".signal-\" + comm.comm_id).each(function() {\r\n",
       "                var type = $(this).data(\"type\");\r\n",
       "                if (typeof(val[type]) !== \"undefined\" && val[type] !== null) {\r\n",
       "                    redrawValue(this, type, val[type], type);\r\n",
       "                }\r\n",
       "                });\r\n",
       "                delete val;\r\n",
       "                delete msg.content.data.value;\r\n",
       "            });\r\n",
       "\t    });\r\n",
       "\r\n",
       "\t    // coordingate with Comm and redraw Signals\r\n",
       "\t    // XXX: Test using Reactive here to improve performance\r\n",
       "\t    $([IPython.events]).on(\r\n",
       "\t\t'output_appended.OutputArea', function (event, type, value, md, toinsert) {\r\n",
       "\t\t    if (md && md.reactive) {\r\n",
       "                // console.log(md.comm_id);\r\n",
       "                toinsert.addClass(\"signal-\" + md.comm_id);\r\n",
       "                toinsert.data(\"type\", type);\r\n",
       "                // Signal back indicating the mimetype required\r\n",
       "                var comm_manager = IPython.notebook.kernel.comm_manager;\r\n",
       "                var comm = comm_manager.comms[md.comm_id];\r\n",
       "                comm.then(function (c) {\r\n",
       "                    c.send({action: \"subscribe_mime\",\r\n",
       "                       mime: type});\r\n",
       "                    toinsert.bind(\"destroyed\", function() {\r\n",
       "                        c.send({action: \"unsubscribe_mime\",\r\n",
       "                               mime: type});\r\n",
       "                    });\r\n",
       "                })\r\n",
       "\t\t    }\r\n",
       "\t    });\r\n",
       "\t}\r\n",
       "\r\n",
       "\ttry {\r\n",
       "\t    // try to initialize right away. otherwise, wait on the status_started event.\r\n",
       "\t    initComm(undefined, IPython.notebook);\r\n",
       "\t} catch (e) {\r\n",
       "\t    $([IPython.events]).on('kernel_created.Kernel kernel_created.Session', initComm);\r\n",
       "\t}\r\n",
       "    });\r\n",
       "})(IPython, jQuery, _, MathJax);\r\n",
       "</script>\n",
       "    <script>\n",
       "        window.interactLoadedFlag = true\n",
       "       $(\"#interact-js-shim\").bind(\"destroyed\", function () {\n",
       "           if (window.interactLoadedFlag) {\n",
       "               console.warn(\"JavaScript required by Interact will be removed if you remove this cell or run using Interact more than once.\")\n",
       "           }\n",
       "       })\n",
       "       $([IPython.events]).on(\"kernel_starting.Kernel kernel_restarting.Kernel\", function () { window.interactLoadedFlag = false })\n",
       "   </script>\n",
       "</div>"
      ]
     },
     "metadata": {},
     "output_type": "display_data"
    },
    {
     "name": "stderr",
     "output_type": "stream",
     "text": [
      "WARNING: Method definition <="
     ]
    },
    {
     "data": {
      "text/markdown": [
       "\n"
      ],
      "text/plain": [
       "Revealables.Revealable(\"###Answer D\\ntableau before phase 1 subtraction step:\\n\\n        [2  4  1  1  0  0  0 20\\n         3  1  5  0 -1  1  0 10 \\n         0  0  0  0  0  1  1  0]\\n\\nphase 1 tableau:\\n\\n        [2  4  1  1  0  0  0  20\\n         3  1  5  0 -1  1  0  10\\n        -3 -1 -5  0  1  0  1 -10]\\n\\nafter 1 pivot/final phase 1 tableau:\\n\\n        [7 19  0  5  1  0 90\\n         3  1  5  0 -1  0 10\\n         0  0  0  0  0  5  0]\\n\\nphase 2 tableau:\\n\\n        [ 7  19   0   5   1   0  90\\n          3   1   5   0  -1   0  10\\n        -15 -10 -20   0   0   1   0]\\n\\nAfter 3 pivots/final tableau:\\n\\n        [   35    95     0    25   5    0    450\\n          4750  9500  2375  2375   0    0  47500\\n         59375 166250    0 47500   0 2375 950000]\\n\\nMaximum value of 400 when x<sub>3</sub> = 20; slack variable x<sub>5</sub> = 90.\\n\", \"Answer\", false, false)"
      ]
     },
     "execution_count": 1,
     "metadata": {},
     "output_type": "execute_result"
    },
    {
     "name": "stderr",
     "output_type": "stream",
     "text": [
      "(IntervalArithmetic.Interval{T<:Real}, IntervalArithmetic.Interval{S<:Real}) in module IntervalArithmetic at C:\\Users\\Victoria Docherty\\.julia\\v0.6\\IntervalArithmetic\\src\\intervals\\arithmetic.jl:26 overwritten in module ImplicitEquations at C:\\Users\\Victoria Docherty\\.julia\\v0.6\\ImplicitEquations\\src\\intervals.jl:9.\n"
     ]
    }
   ],
   "source": [
    "using Revealables\n",
    "include(\"files/answers.jl\")"
   ]
  },
  {
   "cell_type": "markdown",
   "metadata": {},
   "source": [
    "##Reading a Solution\n",
    "When reading the solution of a simplex tableau, there will always be as many active values as there are rows. An active variable is known as a <font color=\"red\">basic</font> variable and is said to be <font color=\"red\">in the basis</font>. The objective function will always be active.\n",
    "\n",
    "The basic variables and the objective function can be found in columns containing only one number and the rest zeroes:\n",
    "\n",
    "$\\begin{array}{c}\n",
    "\\begin{array}{cccccc}\n",
    "x_1 & x_2 & \\color{green}{x_3} & \\color{green}{x_4} & \\color{green}{f} & ans\n",
    "\\end{array}\\\\\n",
    "\\left[ \\begin{array}{cccccc}\n",
    "1 & 1 & \\color{red}{1} & \\color{green}{0} & \\color{green}{0} & \\color{red}{480} \\\\\n",
    "2 & 3 & \\color{green}{0} & \\color{red}{1} & \\color{green}{0} & \\color{red}{1200} \\\\\n",
    "-3 & -4 & \\color{green}{0} & \\color{green}{0} & \\color{red}{1} & \\color{red}{0}\n",
    "\\end{array} \\right]\n",
    "\\end{array}$\n",
    "\n",
    "In this tableau, the basic variables are $x_3$ and $x_4$, and the objective function is $f$.\n",
    "\n",
    "To find their values, divide the number in the last column by the number in the variable's column. All non-basic variables have value 0.\n",
    "\n",
    "Here, $x_1=0$, $x_2=0$, $x_3=480$, $x_4=1200$, and $f=0$.\n",
    "\n",
    "Since we are trying to maximize $f$, this is not a very good solution.\n",
    "\n",
    "In this new tableau, the basic variables are $x_1$ and $x_2$, and the objective function is $f$.\n",
    "\n",
    "$\\begin{array}{c}\n",
    "\\begin{array}{cccccc}\n",
    "\\color{green}{x_1} & \\color{green}{x_2} & x_3 & x_4 & \\color{green}{f} & ans\n",
    "\\end{array}\\\\\n",
    "\\left[ \\begin{array}{cccccc}\n",
    "\\color{red}{1} & \\color{green}{0} & 1 & 0 & \\color{green}{0} & \\color{red}{280} \\\\\n",
    "\\color{green}{0} & \\color{red}{2} & -2 & 1 & \\color{green}{0} & \\color{red}{100} \\\\\n",
    "\\color{green}{0} & \\color{green}{0} & 30 & -3 & \\color{red}{4} & \\color{red}{1600}\n",
    "\\end{array} \\right]\n",
    "\\end{array}$\n",
    "\n",
    "The solutions are:\n",
    "$\\color{red}{x_1=280 \\qquad x_2=50 \\qquad f=400}$\n",
    "\n",
    "All non-basic variables are 0."
   ]
  },
  {
   "cell_type": "markdown",
   "metadata": {},
   "source": [
    "##Practice Problem A\n",
    "Read a solution from this simplex tableau:\n",
    "\n",
    "$\\begin{array}{c}\n",
    "\\begin{array}{cccccc}\n",
    "x_1 & x_2 & x_3 & x_4 & x_5 & x_6 & f & ans\n",
    "\\end{array}\\\\\n",
    "\\left[ \\begin{array}{cccccccc}\n",
    "2 & 1 & 0 & 1 & 0 & 5 & 0 & 12 \\\\\n",
    "0 & 0 & 3 & 2 & 0 & -1 & 0 & 13 \\\\\n",
    "0 & 4 & 0 & 3 & 5 & 6 & 0 & 21 \\\\\n",
    "0 & 5 & 0 & 4 & 0 & -2 & 14 & 200\n",
    "\\end{array} \\right]\n",
    "\\end{array}$"
   ]
  },
  {
   "cell_type": "raw",
   "metadata": {},
   "source": [
    "Write your solution here.\n"
   ]
  },
  {
   "cell_type": "code",
   "execution_count": null,
   "metadata": {},
   "outputs": [],
   "source": [
    "revealable(ans305A)"
   ]
  },
  {
   "cell_type": "markdown",
   "metadata": {},
   "source": [
    "##Changing the Basis\n",
    "All standard-maximum simplex tableaux start with the slack variables in the basis and the objective function = 0. The actual constraint variables ($x_1$, $x_2$, etc.) are also 0. \n",
    "\n",
    "This corresponds with starting at the point (0, 0) on a graph: \n",
    "<img src=\"files/3-5/zero.png\" width=200>\n",
    "\n",
    "In order to improve the value of $f$, we need to choose a better point than (0, 0). This will involve changing the variables in the basis: we need to exchange one of the slack variables for a \"real\" variable. \n",
    "\n",
    "<img src=\"files/3-5/upfromzero.png\" width=200>\n",
    "\n",
    "###Changing the Basis: Pivoting\n",
    "In order for a number to be in the basis, it must have a single number and the rest 0's in its column. This can be attained using the same rules used while pivoting in reduced row-echelon solving:\n",
    "\n",
    "1. You may multiply or divide any row by any number\n",
    "2. You may replace any row with the sum of itself and another row, or any multiple thereof.\n",
    "  The process is still called \"pivoting.\"<br /><br />\n",
    "In addition, there are a few new rules:\n",
    "3. The pivot row must be used in all row-replacement operations. Otherwise you will accidentally lose some basis variables. \n",
    "4. The \"answer\" column must always remain positive except in the last row. In the last row, the coefficient of $f$ must always remain positive. This prevents us from accidentally discarding potential pivots later on. (If you get an illegal negative you can multiply the whole row by -1.) \n",
    "5. It is not advisable, except when using a computer, to generate any fractions through division, including dividing the pivot row by the pivot.\n",
    "\n",
    "Suppose you want to pivot this tableau around the value in red:\n",
    "\n",
    "$\\left[ \\begin{array}{cccccc}\n",
    "1 & 1 & 1 & 0 & 0 & 480 \\\\\n",
    "2 & \\color{red}{3} & 0 & 1 & 0 & 1200 \\\\\n",
    "-3 & -4 & 0 & 0 & 1 & 0\n",
    "\\end{array} \\right]$\n",
    "\n",
    "You can achieve that with these two operations, both of them using the <font color=\"red\">pivot row</font> as the tool:\n",
    "\n",
    "$(3 \\cdot first~row) - (\\color{red}{second~row}) \\rightarrow first~row \\\\\n",
    "(4 \\cdot \\color{red}{second~row}) + (third~row) \\rightarrow third~row$\n",
    "\n",
    "After that, the result is:\n",
    "\n",
    "$\\left[ \\begin{array}{cccccc}\n",
    "1 & 0 & 3 & -1 & 0 & 240 \\\\\n",
    "2 & 3 & 0 & 1 & 0 & 1200 \\\\\n",
    "-1 & 0 & 0 & 4 & 3 & 4800\n",
    "\\end{array} \\right]$\n",
    "\n",
    "The solution is now: $\\color{red}{x_2=400 \\qquad x_3=80 \\qquad f=1600}$\n",
    "\n",
    "This corresponds to the actual values $x_1=0$, $x_2=400$. (x3 was a slack variable, which is why it isn't mentioned.) \n",
    "\n",
    "On a graph, this would be the point $(0, 400)$. The value of $f$ at that point is $1600$.\n",
    "\n",
    "If you come across a matrix that you didn’t set up from scratch, you can tell which variables are slack by separating out the answer column and then visualizing the square identity matrix just to its left. The variables that would be basic in that initial tableau are the slack variables. "
   ]
  },
  {
   "cell_type": "markdown",
   "metadata": {},
   "source": [
    "###Practice Problem B\n",
    "Finish the example by pivoting around the red number. Use array operations in Julia to avoid arithmetic mistakes.\n",
    "\n",
    "$\\left[ \\begin{array}{cccccc}\n",
    "\\color{red}{1} & 0 & 3 & -1 & 0 & 240 \\\\\n",
    "2 & 3 & 0 & 1 & 0 & 1200 \\\\\n",
    "-1 & 0 & 0 & 4 & 3 & 4800\n",
    "\\end{array} \\right]$\n",
    "\n",
    "Report the solution with `println`."
   ]
  },
  {
   "cell_type": "code",
   "execution_count": null,
   "metadata": {
    "collapsed": true
   },
   "outputs": [],
   "source": [
    "# Code/calculate here"
   ]
  },
  {
   "cell_type": "code",
   "execution_count": null,
   "metadata": {
    "collapsed": true
   },
   "outputs": [],
   "source": [
    "# Test here"
   ]
  },
  {
   "cell_type": "code",
   "execution_count": null,
   "metadata": {},
   "outputs": [],
   "source": [
    "revealable(ans305B)"
   ]
  },
  {
   "cell_type": "markdown",
   "metadata": {},
   "source": [
    "###Practice Problem C\n",
    "Solve the experienced/inexperienced workers problem using this initial tableau:\n",
    "\n",
    "$\\left[ \\begin{array}{cccccc}\n",
    "15 & 10 & 1 & 0 & 0 & 1200 \\\\\n",
    "1 & 2 & 0 & 1 & 0 & 120 \\\\\n",
    "-10 & -9 & 0 & 0 & 1 & 0\n",
    "\\end{array} \\right]$\n",
    "\n",
    "Your first pivot will be at loction [1, 1].\n",
    "\n",
    "Your second pivot will be at location [2, 2].\n",
    "\n",
    "Use Julia to avoid mistakes in the arithmetic.\n",
    "\n",
    "Report your answer with `println`."
   ]
  },
  {
   "cell_type": "code",
   "execution_count": null,
   "metadata": {
    "collapsed": true
   },
   "outputs": [],
   "source": [
    "# Code here"
   ]
  },
  {
   "cell_type": "code",
   "execution_count": null,
   "metadata": {
    "collapsed": true
   },
   "outputs": [],
   "source": [
    "# Test here"
   ]
  },
  {
   "cell_type": "code",
   "execution_count": null,
   "metadata": {},
   "outputs": [],
   "source": [
    "revealable(ans305C)"
   ]
  },
  {
   "cell_type": "markdown",
   "metadata": {},
   "source": [
    "###Practice Problem D\n",
    "Write a program in Julia that inputs a matrix `A` and a pivot location `[r, c]`, and outputs the matrix after pivoting is completed. \n",
    "\n",
    "Be sure to include a test to fix any answer-column negatives. (The command `size(A, 2)` will output how many columns `A` has.)\n",
    "\n",
    "Test your code using Practice Problem C. "
   ]
  },
  {
   "cell_type": "code",
   "execution_count": null,
   "metadata": {
    "collapsed": true
   },
   "outputs": [],
   "source": [
    "# Code here"
   ]
  },
  {
   "cell_type": "code",
   "execution_count": null,
   "metadata": {
    "collapsed": true
   },
   "outputs": [],
   "source": [
    "# Test here"
   ]
  },
  {
   "cell_type": "code",
   "execution_count": null,
   "metadata": {},
   "outputs": [],
   "source": [
    "revealable(ans305D)"
   ]
  },
  {
   "cell_type": "markdown",
   "metadata": {},
   "source": [
    "###Practice Problem E\n",
    "Modify your program as follows:\n",
    "1. Change `println(A)` near the end to `return(A)`.\n",
    "2. In addition to running the program, use it to change `A`. So, if your program was called `pivot`, you would replace `pivot(A, 1, 1)` with `A = pivot(A, 1, 1)`.\n",
    "3. Following that, type in another two lines:\n",
    "```A = pivot(A, 2, 2)\n",
    "println(A)\n",
    "```\n",
    "4. Next, run your code using the initial tableau from Problem C. What did that do?\n"
   ]
  },
  {
   "cell_type": "code",
   "execution_count": null,
   "metadata": {
    "collapsed": true
   },
   "outputs": [],
   "source": [
    "# Code here"
   ]
  },
  {
   "cell_type": "code",
   "execution_count": null,
   "metadata": {
    "collapsed": true
   },
   "outputs": [],
   "source": [
    "# Test here"
   ]
  },
  {
   "cell_type": "code",
   "execution_count": null,
   "metadata": {},
   "outputs": [],
   "source": [
    "revealable(ans305E)"
   ]
  },
  {
   "cell_type": "code",
   "execution_count": null,
   "metadata": {
    "collapsed": true
   },
   "outputs": [],
   "source": []
  }
 ],
 "metadata": {
  "kernelspec": {
   "display_name": "Julia 0.6.0",
   "language": "julia",
   "name": "julia-0.6"
  },
  "language_info": {
   "file_extension": ".jl",
   "mimetype": "application/julia",
   "name": "julia",
   "version": "0.6.0"
  }
 },
 "nbformat": 4,
 "nbformat_minor": 1
}
