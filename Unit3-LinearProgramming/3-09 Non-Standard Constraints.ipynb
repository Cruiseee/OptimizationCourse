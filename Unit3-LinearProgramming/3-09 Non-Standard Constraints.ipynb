{
 "cells": [
  {
   "cell_type": "markdown",
   "metadata": {
    "run_control": {
     "read_only": false
    }
   },
   "source": [
    "# 3-9 Non-Standard Constraints\n",
    "* Setting up\n",
    "* Phase 1\n",
    "* Phase 2\n"
   ]
  },
  {
   "cell_type": "code",
   "execution_count": 1,
   "metadata": {},
   "outputs": [
    {
     "data": {
      "text/html": [
       "<div id=\"interact-js-shim\">\n",
       "    <script charset=\"utf-8\">\r\n",
       "(function (IPython, $, _, MathJax) {\r\n",
       "    $.event.special.destroyed = {\r\n",
       "\tremove: function(o) {\r\n",
       "\t    if (o.handler) {\r\n",
       "\t\to.handler.apply(this, arguments)\r\n",
       "\t    }\r\n",
       "\t}\r\n",
       "    }\r\n",
       "\r\n",
       "    var OutputArea = IPython.version >= \"4.0.0\" ? require(\"notebook/js/outputarea\").OutputArea : IPython.OutputArea;\r\n",
       "\r\n",
       "    var redrawValue = function (container, type, val) {\r\n",
       "\tvar selector = $(\"<div/>\");\r\n",
       "\tvar oa = new OutputArea(_.extend(selector, {\r\n",
       "\t    selector: selector,\r\n",
       "\t    prompt_area: true,\r\n",
       "\t    events: IPython.events,\r\n",
       "\t    keyboard_manager: IPython.keyboard_manager\r\n",
       "\t})); // Hack to work with IPython 2.1.0\r\n",
       "\r\n",
       "\tswitch (type) {\r\n",
       "\tcase \"image/png\":\r\n",
       "            var _src = 'data:' + type + ';base64,' + val;\r\n",
       "\t    $(container).find(\"img\").attr('src', _src);\r\n",
       "\t    break;\r\n",
       "\tcase \"text/latex\":\r\n",
       "\t\tif (MathJax){\r\n",
       "\t\t\tvar math = MathJax.Hub.getAllJax(container)[0];\r\n",
       "\t\t\tMathJax.Hub.Queue([\"Text\", math, val.replace(/^\\${1,2}|\\${1,2}$/g, '')]);\r\n",
       "\t\t\tbreak;\r\n",
       "\t\t}\r\n",
       "\tdefault:\r\n",
       "\t    var toinsert = OutputArea.append_map[type].apply(\r\n",
       "\t\toa, [val, {}, selector]\r\n",
       "\t    );\r\n",
       "\t    $(container).empty().append(toinsert.contents());\r\n",
       "\t    selector.remove();\r\n",
       "\t}\r\n",
       "    }\r\n",
       "\r\n",
       "\r\n",
       "    $(document).ready(function() {\r\n",
       "\tfunction initComm(evt, data) {\r\n",
       "\t    var comm_manager = data.kernel.comm_manager;\r\n",
       "        //_.extend(comm_manager.targets, require(\"widgets/js/widget\"))\r\n",
       "\t    comm_manager.register_target(\"Signal\", function (comm) {\r\n",
       "            comm.on_msg(function (msg) {\r\n",
       "                var val = msg.content.data.value;\r\n",
       "                $(\".signal-\" + comm.comm_id).each(function() {\r\n",
       "                var type = $(this).data(\"type\");\r\n",
       "                if (typeof(val[type]) !== \"undefined\" && val[type] !== null) {\r\n",
       "                    redrawValue(this, type, val[type], type);\r\n",
       "                }\r\n",
       "                });\r\n",
       "                delete val;\r\n",
       "                delete msg.content.data.value;\r\n",
       "            });\r\n",
       "\t    });\r\n",
       "\r\n",
       "\t    // coordingate with Comm and redraw Signals\r\n",
       "\t    // XXX: Test using Reactive here to improve performance\r\n",
       "\t    $([IPython.events]).on(\r\n",
       "\t\t'output_appended.OutputArea', function (event, type, value, md, toinsert) {\r\n",
       "\t\t    if (md && md.reactive) {\r\n",
       "                // console.log(md.comm_id);\r\n",
       "                toinsert.addClass(\"signal-\" + md.comm_id);\r\n",
       "                toinsert.data(\"type\", type);\r\n",
       "                // Signal back indicating the mimetype required\r\n",
       "                var comm_manager = IPython.notebook.kernel.comm_manager;\r\n",
       "                var comm = comm_manager.comms[md.comm_id];\r\n",
       "                comm.then(function (c) {\r\n",
       "                    c.send({action: \"subscribe_mime\",\r\n",
       "                       mime: type});\r\n",
       "                    toinsert.bind(\"destroyed\", function() {\r\n",
       "                        c.send({action: \"unsubscribe_mime\",\r\n",
       "                               mime: type});\r\n",
       "                    });\r\n",
       "                })\r\n",
       "\t\t    }\r\n",
       "\t    });\r\n",
       "\t}\r\n",
       "\r\n",
       "\ttry {\r\n",
       "\t    // try to initialize right away. otherwise, wait on the status_started event.\r\n",
       "\t    initComm(undefined, IPython.notebook);\r\n",
       "\t} catch (e) {\r\n",
       "\t    $([IPython.events]).on('kernel_created.Kernel kernel_created.Session', initComm);\r\n",
       "\t}\r\n",
       "    });\r\n",
       "})(IPython, jQuery, _, MathJax);\r\n",
       "</script>\n",
       "    <script>\n",
       "        window.interactLoadedFlag = true\n",
       "       $(\"#interact-js-shim\").bind(\"destroyed\", function () {\n",
       "           if (window.interactLoadedFlag) {\n",
       "               console.warn(\"JavaScript required by Interact will be removed if you remove this cell or run using Interact more than once.\")\n",
       "           }\n",
       "       })\n",
       "       $([IPython.events]).on(\"kernel_starting.Kernel kernel_restarting.Kernel\", function () { window.interactLoadedFlag = false })\n",
       "   </script>\n",
       "</div>"
      ]
     },
     "metadata": {},
     "output_type": "display_data"
    },
    {
     "name": "stderr",
     "output_type": "stream",
     "text": [
      "WARNING: Method definition <=(IntervalArithmetic.Interval{"
     ]
    },
    {
     "data": {
      "text/markdown": [
       "\n"
      ],
      "text/plain": [
       "Revealables.Revealable(\"###Answer D\\ntableau before phase 1 subtraction step:\\n\\n        [2  4  1  1  0  0  0 20\\n         3  1  5  0 -1  1  0 10 \\n         0  0  0  0  0  1  1  0]\\n\\nphase 1 tableau:\\n\\n        [2  4  1  1  0  0  0  20\\n         3  1  5  0 -1  1  0  10\\n        -3 -1 -5  0  1  0  1 -10]\\n\\nafter 1 pivot/final phase 1 tableau:\\n\\n        [7 19  0  5  1  0 90\\n         3  1  5  0 -1  0 10\\n         0  0  0  0  0  5  0]\\n\\nphase 2 tableau:\\n\\n        [ 7  19   0   5   1   0  90\\n          3   1   5   0  -1   0  10\\n        -15 -10 -20   0   0   1   0]\\n\\nAfter 3 pivots/final tableau:\\n\\n        [   35    95     0    25   5    0    450\\n          4750  9500  2375  2375   0    0  47500\\n         59375 166250    0 47500   0 2375 950000]\\n\\nMaximum value of 400 when x<sub>3</sub> = 20; slack variable x<sub>5</sub> = 90.\\n\", \"Answer\", false, false)"
      ]
     },
     "execution_count": 1,
     "metadata": {},
     "output_type": "execute_result"
    },
    {
     "name": "stderr",
     "output_type": "stream",
     "text": [
      "T<:Real}, IntervalArithmetic.Interval{S<:Real}) in module IntervalArithmetic at C:\\Users\\Victoria Docherty\\.julia\\v0.6\\IntervalArithmetic\\src\\intervals\\arithmetic.jl:26 overwritten in module ImplicitEquations at C:\\Users\\Victoria Docherty\\.julia\\v0.6\\ImplicitEquations\\src\\intervals.jl:9.\n"
     ]
    }
   ],
   "source": [
    "using Revealables\n",
    "include(\"files/answers.jl\")"
   ]
  },
  {
   "cell_type": "markdown",
   "metadata": {},
   "source": [
    "##Maximizing with Mixed Constraints\n",
    "Some maximization problems contain mixed constraints, like this:\n",
    "\n",
    "maximize $3x_1 + 2x_2$ \n",
    "\n",
    "subject to \n",
    "$\\begin{array}{cc}\n",
    "2x_1 + x_2 \\leq 50 & (standard) \\\\\n",
    "x_1 + 3x_2 \\geq 15 & (greater~than) \\\\\n",
    "5x_1 + 6x_2 = 60 & (equality)\n",
    "\\end{array}$\n",
    "\n",
    "These can come in any combination, but in a typical problem more constraints are standard than nonstandard.\n",
    "\n",
    "The first thing that needs to be done is to convert all constraints into equality constraints:\n",
    "\n",
    "$\\begin{array}{ccc}\n",
    "2x_1 + x_2 ≤ 50 &\tbecomes &\t2x_1 + x_2 + x_3 = 50 \\\\\n",
    "x_1 + 3x_2 ≥ 15 &\tbecomes &\tx_1 + 3x_2 – x_4 = 15 \\\\\n",
    "5x_1 + 6x_2 = 60 &\tremains &\t5x_1 + 6x_2 = 60\n",
    "\\end{array}$\n",
    "\n",
    "But this causes some problems in the initial tableau.\n",
    "\n",
    "##Problems With Mixed Constraints\n",
    "If written directly into the tableau, the modified constraints and objective function create:\n",
    "\n",
    "$\\begin{array}{c}\n",
    "\\begin{array}{cccccc}\n",
    "x_1 & x_2 &x_3 &x_4 & f & ans\n",
    "\\end{array} \\\\\n",
    "\\left[ \\begin{array}{cccccc}\n",
    "2 & 1 & 1 & 0 & 0 & 50 \\\\\n",
    "1 & 3 & 0 & \\color{orange}{-1} & \\color{orange}{0} & \\color{orange}{15} \\\\\n",
    "\\color{red}{5} & \\color{red}{6} & \\color{red}{0} & \\color{red}{0} & \\color{red}{0} & \\color{red}{60} \\\\\n",
    "-3 & -2 & 0 & 0 & 1 & 0\n",
    "\\end{array} \\right]\n",
    "\\end{array}$\n",
    "\n",
    "* <font color=\"orange\">The orange solution is negative and therefore illegal.</font>\n",
    "* <font color=\"red\">The red row has no solution at all!</font>\n",
    "\n",
    "##Fixing the Problem\n",
    "To fix both problem rows, we need to add yet another variable to each one. It looks like this:\n",
    "\n",
    "$x_1 + 3x_2 ≥ 15$ was $x_1 + 3x_2 – x_4 = 15$;\n",
    "\n",
    "* now becomes $x_1 + 3x_2 – x_4 + x_5 = 15$\n",
    "    \n",
    "$5x_1 + 6x_2 = 60$ did not change;\n",
    "\n",
    "* now becomes $5x_1 + 6x_2 + x_6 = 0$\n",
    "    \n",
    "The variables $x_5$ and $x_6$ are called \"artificial\" variables because their value must equal zero. It is important to keep track of them in the tableau, so I marked them with asterisks (\\*).\n",
    "\n",
    "When you put the new, improved constraints into the tableau, it will look like this:\n",
    "\n",
    "$\\begin{array}{c}\n",
    "\\begin{array}{cccccccc}\n",
    "x_1 & x_2 &x_3 &x_4 & x_5^* & x_6^* & f & ans\n",
    "\\end{array} \\\\\n",
    "\\left[ \\begin{array}{cccccccc}\n",
    "2 & 1 & \\color{red}{1} & \\color{red}{0} & 0 & 0 & 0 & 50 \\\\\n",
    "1 & 3 & \\color{red}{0} & \\color{red}{-1} & 1 & 0 & 0 & 15 \\\\\n",
    "5 & 6 & \\color{red}{0} & \\color{red}{0} & 0 & 1 & 0 & 60 \\\\\n",
    " & & & & & & &\n",
    "\\end{array} \\right]\n",
    "\\end{array}$\n",
    "\n",
    "If you <font color=\"red\">switch the columns for $x_3$ and $x_4$</font>, you can almost completely fix the problem! Unfortunately, we have a new problem: by definition, $x_5$ and $x_6$ must be 0, and right now they're not. Plus, $x_4$ is still illegal.\n",
    "\n",
    "The first thing we do is minimize $x_5$ and $x_6$; their minimum value will be 0, which is what we want. We do this by introducing a new, temporary objective function:\n",
    "\n",
    "minimize $g = x_5 + x_6$.\n",
    "\n",
    "This is the same as maximizing $g = -x_5 - x_6$, or $\\color{blue}{x_5 + x_6 + g = 0}$.\n",
    "\n",
    "This creates the tableau:\n",
    "\n",
    "$\\begin{array}{c}\n",
    "\\begin{array}{cccccccc}\n",
    "x_1 & x_2 &x_3 &x_4 & x_5^* & x_6^* & g & ans\n",
    "\\end{array} \\\\\n",
    "\\left[ \\begin{array}{cccccccc}\n",
    "2 & 1 & 1 & 0 & 0 & 0 & 0 & 50 \\\\\n",
    "1 & 3 & 0 & -1 & 1 & 0 & 0 & 15 \\\\\n",
    "5 & 6 & 0 & 0 & 0 & 1 & 0 & 60 \\\\\n",
    "0 & 0 & 0 & 0 & \\color{blue}{1} & \\color{blue}{1} & \\color{blue}{1} & \\color{blue}{0}\n",
    "\\end{array} \\right]\n",
    "\\end{array}$\n",
    "\n",
    "and new problems: no negative indicators.\n",
    "\n",
    "If you only have one problem row, use (objective row) – (problem row); if you have more than two problem rows, add them all.\n",
    "\n",
    "This also took care of our $x_4$ problem; it is no longer in the basis.\n",
    "\n",
    "For the last fix, we need to replace the objective function row. To do that, we will <font color=\"green\">find the sum of both problem rows and subtract that from the objective row</font>:\n",
    "\n",
    "$\\begin{array}{cc}\n",
    " & \\begin{array}{cccccccc}\n",
    "x_1 & x_2 &x_3 &x_4 & x_5^* & x_6^* & g & ans\n",
    "\\end{array} \\\\\n",
    "from & \\left[ \\begin{array}{cccccccc}\n",
    "2 & 1 & 1 & 0 & 0 & 0 & 0 & 50 \\\\\n",
    "\\color{green}{1} & \\color{green}{3} & \\color{green}{0} & \\color{green}{-1} & \\color{green}{1} & \\color{green}{0} & \\color{green}{0} & \\color{green}{15} \\\\\n",
    "\\color{green}{5} & \\color{green}{6} & \\color{green}{0} & \\color{green}{0} & \\color{green}{0} & \\color{green}{1} & \\color{green}{0} & \\color{green}{60} \\\\\n",
    "0 & 0 & 0 & 0 & 1 & 1 & 1 & 0\n",
    "\\end{array} \\right] \\\\\n",
    " & \\\\\n",
    "to & \\left[ \\begin{array}{cccccccc}\n",
    "2 & 1 & 1 & 0 & 0 & 0 & 0 & 50 \\\\\n",
    "1 & 3 & 0 & -1 & 1 & 0 & 0 & 15 \\\\\n",
    "5 & 6 & 0 & 0 & 0 & 1 & 0 & 60 \\\\\n",
    "-6 & -9 & 0 & 1 & 0 & 0 & 1 & \\color{red}{-75}\n",
    "\\end{array} \\right]\n",
    "\\end{array}$\n",
    "\n",
    "That negative in the \"answer\" column is appropriate. Because we're maximizing a negative, we should expect a negative value for our answer.\n",
    "\n",
    "Woohoo! No problems!\n",
    "\n",
    "That means we can finally start pivoting....\n",
    "\n",
    "##Summary of Setup Steps\n",
    "The steps for setting up, in order:\n",
    "1. Convert inequality constraints to equality constraints. \n",
    "2. Add artificial variables to any constraints with a subtracted slack variable, or no slack variable.\n",
    "3. Write an objective function that minimizes your artificial variables (from step 2) and put it all in a tableau.\n",
    "4. Replace the last row of the tableau by adding all the problem rows and subtracting that from the last row."
   ]
  },
  {
   "cell_type": "markdown",
   "metadata": {},
   "source": [
    "###Practice Problem A\n",
    "Convert this problem into a proper initial tableau.\n",
    "\n",
    "Maximize $f = 10x_1 + 20x_2$\n",
    "\n",
    "subject to $\\begin{align}\n",
    "4x_1 + 5x_2 &= 240 \\\\\n",
    "2x_1 + x_2 &≤ 90 \\\\\n",
    "x_1 + 3x_2 &≥ 120\n",
    "\\end{align}$\n",
    "\n",
    "Note which variables are artificial, with a circle or star or by using a different letter to label the column.\n"
   ]
  },
  {
   "cell_type": "raw",
   "metadata": {},
   "source": [
    "Write your matrix here or on a piece of paper:\n"
   ]
  },
  {
   "cell_type": "code",
   "execution_count": null,
   "metadata": {},
   "outputs": [],
   "source": [
    "revealable(ans309A)"
   ]
  },
  {
   "cell_type": "markdown",
   "metadata": {},
   "source": [
    "##Phase 1\n",
    "With nonstandard constraints, setting up the initial tableau is the hardest part. Once you have that, you can pivot as usual.\n",
    "\n",
    "After pivoting twice from the initial tableau, we have:\n",
    "* <font color=\"red\">no negative indicators.</font>\n",
    "* <font color=\"blue\">artificial variables no longer in the basis, so they = 0.</font>\n",
    "\n",
    "$\\left[ \\begin{array}{cccccccc}\n",
    "0 & 0 & 27 & -21 & \\color{blue}{21} & \\color{blue}{-15} & 0 & 765 \\\\\n",
    "0 & 27 & 0 & -15 & \\color{blue}{15^*} & \\color{blue}{-3} & 0 & 45 \\\\\n",
    "9 & 0 & 0 & 6 & \\color{blue}{-6} & \\color{blue}{3^*} & 0 & 90 \\\\\n",
    "\\color{red}{0} & \\color{red}{0} & \\color{red}{0} & \\color{red}{0} & \\color{purple}{27} & \\color{purple}{27} & \\color{red}{27} & \\color{red}{0}\n",
    "\\end{array} \\right]$\n",
    "\n",
    "So what was that all about, anyway?\n",
    "* The simplex method always starts at the origin. \n",
    "* In standard problems, the origin is always a corner of the feasible region.\n",
    "* In problems with nonstandard constraints (like = or ≥), the origin is typically not in the feasible region.\n",
    "* So, the first step is to *__get to the feasible region__* so we can maximize from there.\n",
    "This is what the procedure in Phase 1 accomplished.\n",
    "\n",
    "Now we're ready for Phase 2!"
   ]
  },
  {
   "cell_type": "markdown",
   "metadata": {},
   "source": [
    "###Practice Problem B\n",
    "Use your pivoting program to complete Phase 1 on the tableau from Practice Problem A."
   ]
  },
  {
   "cell_type": "code",
   "execution_count": null,
   "metadata": {
    "collapsed": true
   },
   "outputs": [],
   "source": [
    "# Code here!"
   ]
  },
  {
   "cell_type": "code",
   "execution_count": null,
   "metadata": {},
   "outputs": [],
   "source": [
    "revealable(ans309B)"
   ]
  },
  {
   "cell_type": "markdown",
   "metadata": {},
   "source": [
    "##Phase 2\n",
    "After phase 1, we are in the feasible region, but we still need to maximize the original objective function. In the example it was $3x_1 + 2x_2$.\n",
    "\n",
    "$\\left[ \\begin{array}{cccccccc}\n",
    "0 & 0 & 27 & -21 & \\color{blue}{21} & \\color{blue}{-15} & 0 & 765 \\\\\n",
    "0 & 27 & 0 & -15 & \\color{blue}{15^*} & \\color{blue}{-3} & 0 & 45 \\\\\n",
    "9 & 0 & 0 & 6 & \\color{blue}{-6} & \\color{blue}{3^*} & 0 & 90 \\\\\n",
    "\\color{red}{0} & \\color{red}{0} & \\color{red}{0} & \\color{red}{0} & \\color{purple}{27} & \\color{purple}{27} & \\color{red}{27} & \\color{red}{0}\n",
    "\\end{array} \\right]$\n",
    "\n",
    "* <font color=\"blue\">Delete the columns containing artificial variables</font> \n",
    "* <font color=\"red\">Fill in the original objective function in the bottom row</font>:\n",
    "\n",
    "$\\left[ \\begin{array}{cccccccc}\n",
    "0 & 0 & 27 & -21 & 0 & 765 \\\\\n",
    "0 & 27 & 0 & -15 & 0 & 45 \\\\\n",
    "9 & 0 & 0 & 6 & 0 & 90 \\\\\n",
    "\\color{red}{-3} & \\color{red}{-2} & \\color{red}{0} & \\color{red}{0} & \\color{red}{1} & \\color{red}{0}\n",
    "\\end{array} \\right]$\n",
    "\n",
    "\n",
    "Finally, pivot as usual from this tableau until all negative indicators are gone. The solution to this problem is a maximum value of $33.33$ when $x_1 = 10$, $x_2 = 1.67$, and $x_3 = 28.33$."
   ]
  },
  {
   "cell_type": "markdown",
   "metadata": {},
   "source": [
    "###Practice Problem C\n",
    "Complete Phase 2 on your matrix from Practice Problem B; the original objective function was to maximize $10x_1 + 20x_2$."
   ]
  },
  {
   "cell_type": "code",
   "execution_count": null,
   "metadata": {
    "collapsed": true
   },
   "outputs": [],
   "source": []
  },
  {
   "cell_type": "code",
   "execution_count": null,
   "metadata": {},
   "outputs": [],
   "source": [
    "revealable(ans309C)"
   ]
  },
  {
   "cell_type": "markdown",
   "metadata": {},
   "source": [
    "##Nonstandard Constraints: All the Steps\n",
    "1. Modify all constraints by adding or subtracting slack variables and adding artificial variables as needed.\n",
    "2. Set up a matrix to minimize the sum of the artificial variables. Subtract (bottom row) – (sum of all problem rows) to get the phase 1 matrix.\n",
    "3. Pivot as usual to maximize the phase 1 matrix.\n",
    "4. Replace the objective row with the actual objective function and cross off the artificial variable columns.\n",
    "5. Maximize as usual."
   ]
  },
  {
   "cell_type": "markdown",
   "metadata": {},
   "source": [
    "###Practice Problem D\n",
    "Complete this problem from start to finish:\n",
    "\n",
    "Maximize $f = 15x_1 + 10x_2 + 20x_3$\n",
    "\n",
    "subject to\t$\\begin{align}\n",
    "2x_1 + 4x_2 + x_3 &≤ 20 \\\\\n",
    "3x_1 + x_2 + 5x_3 &≥ 10\n",
    "\\end{align}$\n"
   ]
  },
  {
   "cell_type": "markdown",
   "metadata": {},
   "source": [
    "Space for writing:\n"
   ]
  },
  {
   "cell_type": "code",
   "execution_count": null,
   "metadata": {
    "collapsed": true
   },
   "outputs": [],
   "source": [
    "# Space for coding/calculating:\n"
   ]
  },
  {
   "cell_type": "code",
   "execution_count": null,
   "metadata": {},
   "outputs": [],
   "source": [
    "revealable(ans309D)"
   ]
  },
  {
   "cell_type": "markdown",
   "metadata": {},
   "source": [
    "##Note on Minimization\n",
    "The actual procedures for minimization with nonstandard constraints (≤ or =) are complex.\n",
    "\n",
    "More commonly, the initial tableau is set up and various pivot candidates are tried, with the goal of reaching the feasible region. After the feasible region is attained (in other words, all illegal solutions leave the basis and no new ones enter), the tableau can be optimized from there."
   ]
  },
  {
   "cell_type": "code",
   "execution_count": null,
   "metadata": {
    "collapsed": true
   },
   "outputs": [],
   "source": []
  }
 ],
 "metadata": {
  "kernelspec": {
   "display_name": "Julia 0.6.0",
   "language": "julia",
   "name": "julia-0.6"
  },
  "language_info": {
   "file_extension": ".jl",
   "mimetype": "application/julia",
   "name": "julia",
   "version": "0.6.0"
  }
 },
 "nbformat": 4,
 "nbformat_minor": 1
}
